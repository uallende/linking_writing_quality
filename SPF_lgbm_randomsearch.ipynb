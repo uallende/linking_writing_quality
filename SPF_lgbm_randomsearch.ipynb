{
 "cells": [
  {
   "cell_type": "code",
   "execution_count": 1,
   "metadata": {},
   "outputs": [],
   "source": [
    "import pandas as pd\n",
    "import numpy as np\n",
    "\n",
    "from m4_feats_functions import *\n",
    "from m5_sb_models import *\n",
    "from m7_utils import *\n",
    "from m3_model_params import lgb_params_1, xgb_params\n",
    "from sklearn.metrics import mean_squared_error\n",
    "from tqdm import tqdm  # Import tqdm\n",
    "\n",
    "import os, warnings\n",
    "warnings.filterwarnings('ignore')"
   ]
  },
  {
   "cell_type": "code",
   "execution_count": 2,
   "metadata": {},
   "outputs": [],
   "source": [
    "# Paths to the train and test directories\n",
    "INPUT_DIR = 'kaggle/input/linking-writing-processes-to-writing-quality'\n",
    "FEATURE_STORE = 'feature_store'\n",
    "train_scores = pd.read_csv(f'{INPUT_DIR}/train_scores.csv')\n",
    "train_feats = pd.read_pickle('feature_selection/train_feats.pkl')\n",
    "# train_feats = train_feats.merge(train_scores, on='id', how='left')\n",
    "test_feats = pd.read_pickle('feature_selection/test_feats.pkl')\n",
    "train_dir = 'feature_store/train'\n",
    "test_dir = 'feature_store/test'\n",
    "# Usage\n",
    "seed = 42\n",
    "n_repeats = 5\n",
    "n_splits = 10\n",
    "target_col = 'score'"
   ]
  },
  {
   "cell_type": "code",
   "execution_count": 3,
   "metadata": {},
   "outputs": [
    {
     "name": "stdout",
     "output_type": "stream",
     "text": [
      "Final RMSE over 50: 0.618084. Std 0.8397\n",
      "RMSE by fold 0.617989. Std 0.0112\n",
      "New best RMSE: 0.618084\n",
      "Final RMSE over 50: 0.626774. Std 0.8405\n",
      "RMSE by fold 0.626670. Std 0.0119\n",
      "Final RMSE over 50: 0.628651. Std 0.8529\n",
      "RMSE by fold 0.628551. Std 0.0117\n",
      "Final RMSE over 50: 0.635543. Std 0.8381\n",
      "RMSE by fold 0.635409. Std 0.0136\n",
      "Final RMSE over 50: 0.646778. Std 0.6463\n",
      "RMSE by fold 0.646724. Std 0.0088\n",
      "Final RMSE over 50: 0.626005. Std 0.8499\n",
      "RMSE by fold 0.625916. Std 0.0110\n",
      "Final RMSE over 50: 0.637574. Std 0.8624\n",
      "RMSE by fold 0.637448. Std 0.0131\n",
      "Final RMSE over 50: 0.623872. Std 0.8477\n",
      "RMSE by fold 0.623729. Std 0.0137\n",
      "Final RMSE over 50: 0.625047. Std 0.8453\n",
      "RMSE by fold 0.624935. Std 0.0123\n",
      "Final RMSE over 50: 0.631021. Std 0.8565\n",
      "RMSE by fold 0.630960. Std 0.0092\n",
      "Final RMSE over 50: 0.627227. Std 0.8365\n",
      "RMSE by fold 0.627084. Std 0.0139\n",
      "Final RMSE over 50: 0.610570. Std 0.8246\n",
      "RMSE by fold 0.610482. Std 0.0108\n",
      "New best RMSE: 0.610570\n",
      "Final RMSE over 50: 0.633261. Std 0.8550\n",
      "RMSE by fold 0.633137. Std 0.0131\n",
      "Final RMSE over 50: 0.611231. Std 0.8340\n",
      "RMSE by fold 0.611096. Std 0.0133\n",
      "Final RMSE over 50: 0.629441. Std 0.8593\n",
      "RMSE by fold 0.629345. Std 0.0114\n",
      "Final RMSE over 50: 0.629753. Std 0.8461\n",
      "RMSE by fold 0.629703. Std 0.0084\n",
      "Final RMSE over 50: 0.623165. Std 0.8474\n",
      "RMSE by fold 0.623053. Std 0.0123\n",
      "Final RMSE over 50: 0.613858. Std 0.8395\n",
      "RMSE by fold 0.613771. Std 0.0107\n",
      "Final RMSE over 50: 0.637452. Std 0.6738\n",
      "RMSE by fold 0.637409. Std 0.0078\n",
      "Final RMSE over 50: 0.620848. Std 0.8495\n",
      "RMSE by fold 0.620734. Std 0.0122\n",
      "Final RMSE over 50: 0.618183. Std 0.8436\n",
      "RMSE by fold 0.618076. Std 0.0120\n",
      "Final RMSE over 50: 0.621605. Std 0.8388\n",
      "RMSE by fold 0.621492. Std 0.0123\n",
      "Final RMSE over 50: 0.624215. Std 0.8518\n",
      "RMSE by fold 0.624103. Std 0.0123\n",
      "Final RMSE over 50: 0.609669. Std 0.8201\n",
      "RMSE by fold 0.609546. Std 0.0126\n",
      "New best RMSE: 0.609669\n",
      "Final RMSE over 50: 0.616721. Std 0.8407\n",
      "RMSE by fold 0.616602. Std 0.0126\n",
      "Final RMSE over 50: 0.620229. Std 0.8467\n",
      "RMSE by fold 0.620129. Std 0.0115\n",
      "Final RMSE over 50: 0.635080. Std 0.8588\n",
      "RMSE by fold 0.634985. Std 0.0114\n",
      "Final RMSE over 50: 0.629447. Std 0.8482\n",
      "RMSE by fold 0.629355. Std 0.0113\n",
      "Final RMSE over 50: 0.614873. Std 0.8388\n",
      "RMSE by fold 0.614725. Std 0.0139\n",
      "Final RMSE over 50: 0.620305. Std 0.8477\n",
      "RMSE by fold 0.620169. Std 0.0134\n",
      "Final RMSE over 50: 0.635271. Std 0.8575\n",
      "RMSE by fold 0.635165. Std 0.0121\n",
      "Final RMSE over 50: 0.618923. Std 0.8390\n",
      "RMSE by fold 0.618828. Std 0.0114\n",
      "Final RMSE over 50: 0.629354. Std 0.8570\n",
      "RMSE by fold 0.629219. Std 0.0134\n",
      "Final RMSE over 50: 0.633387. Std 0.8535\n",
      "RMSE by fold 0.633309. Std 0.0105\n",
      "Final RMSE over 50: 0.620118. Std 0.8425\n",
      "RMSE by fold 0.620003. Std 0.0124\n",
      "Final RMSE over 50: 0.632000. Std 0.8514\n",
      "RMSE by fold 0.631848. Std 0.0143\n",
      "Final RMSE over 50: 0.623647. Std 0.8505\n",
      "RMSE by fold 0.623547. Std 0.0116\n",
      "Final RMSE over 50: 0.612798. Std 0.8188\n",
      "RMSE by fold 0.612691. Std 0.0119\n",
      "Final RMSE over 50: 0.640521. Std 0.8679\n",
      "RMSE by fold 0.640439. Std 0.0107\n",
      "Final RMSE over 50: 0.627612. Std 0.8569\n",
      "RMSE by fold 0.627502. Std 0.0122\n",
      "Final RMSE over 50: 0.623634. Std 0.8442\n",
      "RMSE by fold 0.623563. Std 0.0099\n",
      "Final RMSE over 50: 0.615282. Std 0.8404\n",
      "RMSE by fold 0.615181. Std 0.0116\n",
      "Final RMSE over 50: 0.620639. Std 0.8497\n",
      "RMSE by fold 0.620530. Std 0.0121\n",
      "Final RMSE over 50: 0.618585. Std 0.8381\n",
      "RMSE by fold 0.618468. Std 0.0126\n",
      "Final RMSE over 50: 0.631039. Std 0.8606\n",
      "RMSE by fold 0.630942. Std 0.0115\n",
      "Final RMSE over 50: 0.629451. Std 0.8341\n",
      "RMSE by fold 0.629301. Std 0.0142\n",
      "Final RMSE over 50: 0.631162. Std 0.8364\n",
      "RMSE by fold 0.631037. Std 0.0130\n",
      "Final RMSE over 50: 0.625304. Std 0.8542\n",
      "RMSE by fold 0.625224. Std 0.0105\n",
      "Final RMSE over 50: 0.623073. Std 0.8425\n",
      "RMSE by fold 0.622950. Std 0.0129\n",
      "Final RMSE over 50: 0.609575. Std 0.8300\n",
      "RMSE by fold 0.609467. Std 0.0119\n",
      "New best RMSE: 0.609575\n",
      "Final RMSE over 50: 0.614336. Std 0.7731\n",
      "RMSE by fold 0.614257. Std 0.0103\n",
      "Final RMSE over 50: 0.631813. Std 0.8587\n",
      "RMSE by fold 0.631667. Std 0.0140\n",
      "Final RMSE over 50: 0.625928. Std 0.8393\n",
      "RMSE by fold 0.625797. Std 0.0132\n",
      "Final RMSE over 50: 0.631741. Std 0.8572\n",
      "RMSE by fold 0.631641. Std 0.0116\n",
      "Final RMSE over 50: 0.630990. Std 0.8582\n",
      "RMSE by fold 0.630839. Std 0.0140\n",
      "Final RMSE over 50: 0.623750. Std 0.8483\n",
      "RMSE by fold 0.623642. Std 0.0121\n",
      "Final RMSE over 50: 0.632443. Std 0.8636\n",
      "RMSE by fold 0.632327. Std 0.0125\n",
      "Final RMSE over 50: 0.634033. Std 0.8446\n",
      "RMSE by fold 0.633910. Std 0.0130\n",
      "Final RMSE over 50: 0.626257. Std 0.8382\n",
      "RMSE by fold 0.626126. Std 0.0132\n",
      "Final RMSE over 50: 0.624007. Std 0.8540\n",
      "RMSE by fold 0.623908. Std 0.0115\n",
      "Final RMSE over 50: 0.611208. Std 0.8313\n",
      "RMSE by fold 0.611110. Std 0.0114\n",
      "Final RMSE over 50: 0.624426. Std 0.8490\n",
      "RMSE by fold 0.624312. Std 0.0124\n",
      "Final RMSE over 50: 0.630345. Std 0.8578\n",
      "RMSE by fold 0.630196. Std 0.0141\n",
      "Final RMSE over 50: 0.643774. Std 0.6525\n",
      "RMSE by fold 0.643730. Std 0.0079\n",
      "Final RMSE over 50: 0.612839. Std 0.8394\n",
      "RMSE by fold 0.612752. Std 0.0108\n",
      "Final RMSE over 50: 0.635598. Std 0.8564\n",
      "RMSE by fold 0.635522. Std 0.0102\n",
      "Final RMSE over 50: 0.618710. Std 0.8464\n",
      "RMSE by fold 0.618612. Std 0.0115\n",
      "Final RMSE over 50: 0.620287. Std 0.8421\n",
      "RMSE by fold 0.620172. Std 0.0124\n",
      "Final RMSE over 50: 0.632505. Std 0.8600\n",
      "RMSE by fold 0.632357. Std 0.0140\n",
      "Final RMSE over 50: 0.625167. Std 0.8562\n",
      "RMSE by fold 0.625070. Std 0.0114\n",
      "Final RMSE over 50: 0.637604. Std 0.8630\n",
      "RMSE by fold 0.637476. Std 0.0131\n",
      "Final RMSE over 50: 0.622698. Std 0.8516\n",
      "RMSE by fold 0.622592. Std 0.0120\n",
      "Final RMSE over 50: 0.633003. Std 0.8551\n",
      "RMSE by fold 0.632926. Std 0.0104\n",
      "Final RMSE over 50: 0.638177. Std 0.8618\n",
      "RMSE by fold 0.638056. Std 0.0128\n",
      "Final RMSE over 50: 0.626867. Std 0.8535\n",
      "RMSE by fold 0.626729. Std 0.0135\n",
      "Final RMSE over 50: 0.635280. Std 0.8455\n",
      "RMSE by fold 0.635111. Std 0.0150\n",
      "Final RMSE over 50: 0.625805. Std 0.8496\n",
      "RMSE by fold 0.625700. Std 0.0121\n",
      "Final RMSE over 50: 0.619343. Std 0.8448\n",
      "RMSE by fold 0.619225. Std 0.0125\n",
      "Final RMSE over 50: 0.635259. Std 0.8589\n",
      "RMSE by fold 0.635176. Std 0.0107\n",
      "Final RMSE over 50: 0.616636. Std 0.8424\n",
      "RMSE by fold 0.616557. Std 0.0103\n",
      "Final RMSE over 50: 0.664935. Std 0.5930\n",
      "RMSE by fold 0.664906. Std 0.0065\n",
      "Final RMSE over 50: 0.631901. Std 0.8559\n",
      "RMSE by fold 0.631745. Std 0.0145\n",
      "Final RMSE over 50: 0.615388. Std 0.8418\n",
      "RMSE by fold 0.615269. Std 0.0125\n",
      "Final RMSE over 50: 0.623097. Std 0.8429\n",
      "RMSE by fold 0.622957. Std 0.0137\n",
      "Final RMSE over 50: 0.619712. Std 0.8383\n",
      "RMSE by fold 0.619591. Std 0.0127\n",
      "Final RMSE over 50: 0.636243. Std 0.8529\n",
      "RMSE by fold 0.636170. Std 0.0101\n",
      "Final RMSE over 50: 0.625941. Std 0.8485\n",
      "RMSE by fold 0.625874. Std 0.0097\n",
      "Final RMSE over 50: 0.610207. Std 0.8337\n",
      "RMSE by fold 0.610102. Std 0.0118\n",
      "Final RMSE over 50: 0.613743. Std 0.8410\n",
      "RMSE by fold 0.613623. Std 0.0126\n",
      "Final RMSE over 50: 0.638665. Std 0.8609\n",
      "RMSE by fold 0.638559. Std 0.0121\n",
      "Final RMSE over 50: 0.615606. Std 0.8375\n",
      "RMSE by fold 0.615544. Std 0.0092\n",
      "Final RMSE over 50: 0.612267. Std 0.8349\n",
      "RMSE by fold 0.612119. Std 0.0139\n",
      "Final RMSE over 50: 0.623689. Std 0.8488\n",
      "RMSE by fold 0.623591. Std 0.0115\n",
      "Final RMSE over 50: 0.632387. Std 0.8572\n",
      "RMSE by fold 0.632263. Std 0.0129\n",
      "Final RMSE over 50: 0.637432. Std 0.8541\n",
      "RMSE by fold 0.637331. Std 0.0117\n",
      "Final RMSE over 50: 0.623751. Std 0.8490\n",
      "RMSE by fold 0.623659. Std 0.0112\n",
      "Final RMSE over 50: 0.618437. Std 0.8427\n",
      "RMSE by fold 0.618315. Std 0.0127\n",
      "Final RMSE over 50: 0.635392. Std 0.8626\n",
      "RMSE by fold 0.635305. Std 0.0110\n",
      "Final RMSE over 50: 0.611694. Std 0.8248\n",
      "RMSE by fold 0.611573. Std 0.0126\n",
      "Final RMSE over 50: 0.618963. Std 0.8462\n",
      "RMSE by fold 0.618851. Std 0.0122\n",
      "Final RMSE over 50: 0.623685. Std 0.8429\n",
      "RMSE by fold 0.623553. Std 0.0133\n",
      "Final RMSE over 50: 0.618383. Std 0.8451\n",
      "RMSE by fold 0.618271. Std 0.0123\n",
      "Final RMSE over 50: 0.631709. Std 0.8544\n",
      "RMSE by fold 0.631604. Std 0.0120\n",
      "Final RMSE over 50: 0.623355. Std 0.8547\n",
      "RMSE by fold 0.623234. Std 0.0126\n",
      "Final RMSE over 50: 0.621797. Std 0.8302\n",
      "RMSE by fold 0.621688. Std 0.0122\n",
      "Final RMSE over 50: 0.626260. Std 0.8503\n",
      "RMSE by fold 0.626126. Std 0.0135\n",
      "Final RMSE over 50: 0.628713. Std 0.8463\n",
      "RMSE by fold 0.628637. Std 0.0104\n",
      "Final RMSE over 50: 0.630552. Std 0.8550\n",
      "RMSE by fold 0.630463. Std 0.0112\n",
      "Final RMSE over 50: 0.627895. Std 0.8567\n",
      "RMSE by fold 0.627771. Std 0.0129\n",
      "Final RMSE over 50: 0.625740. Std 0.8385\n",
      "RMSE by fold 0.625652. Std 0.0110\n",
      "Final RMSE over 50: 0.617158. Std 0.8410\n",
      "RMSE by fold 0.617052. Std 0.0118\n",
      "Final RMSE over 50: 0.614775. Std 0.8429\n",
      "RMSE by fold 0.614679. Std 0.0112\n",
      "Final RMSE over 50: 0.613905. Std 0.7978\n",
      "RMSE by fold 0.613816. Std 0.0110\n",
      "Final RMSE over 50: 0.636753. Std 0.8595\n",
      "RMSE by fold 0.636607. Std 0.0140\n",
      "Final RMSE over 50: 0.636093. Std 0.8498\n",
      "RMSE by fold 0.635950. Std 0.0141\n",
      "Final RMSE over 50: 0.627635. Std 0.8465\n",
      "RMSE by fold 0.627520. Std 0.0124\n",
      "Final RMSE over 50: 0.621657. Std 0.8515\n",
      "RMSE by fold 0.621567. Std 0.0110\n",
      "Final RMSE over 50: 0.629557. Std 0.8510\n",
      "RMSE by fold 0.629476. Std 0.0105\n",
      "Final RMSE over 50: 0.624904. Std 0.8390\n",
      "RMSE by fold 0.624799. Std 0.0120\n",
      "Final RMSE over 50: 0.619026. Std 0.8421\n",
      "RMSE by fold 0.618948. Std 0.0103\n",
      "Final RMSE over 50: 0.633547. Std 0.8481\n",
      "RMSE by fold 0.633412. Std 0.0133\n",
      "Final RMSE over 50: 0.621976. Std 0.8510\n",
      "RMSE by fold 0.621868. Std 0.0120\n",
      "Final RMSE over 50: 0.635415. Std 0.8576\n",
      "RMSE by fold 0.635309. Std 0.0121\n",
      "Final RMSE over 50: 0.616236. Std 0.8422\n",
      "RMSE by fold 0.616124. Std 0.0123\n",
      "Final RMSE over 50: 0.640163. Std 0.8637\n",
      "RMSE by fold 0.640094. Std 0.0099\n",
      "Final RMSE over 50: 0.621185. Std 0.7904\n",
      "RMSE by fold 0.621081. Std 0.0118\n",
      "Final RMSE over 50: 0.630082. Std 0.8530\n",
      "RMSE by fold 0.629947. Std 0.0134\n",
      "Final RMSE over 50: 0.634751. Std 0.8615\n",
      "RMSE by fold 0.634640. Std 0.0123\n",
      "Final RMSE over 50: 0.622972. Std 0.8504\n",
      "RMSE by fold 0.622892. Std 0.0104\n",
      "Final RMSE over 50: 0.626176. Std 0.8551\n",
      "RMSE by fold 0.626080. Std 0.0114\n",
      "Final RMSE over 50: 0.624840. Std 0.8451\n",
      "RMSE by fold 0.624712. Std 0.0131\n",
      "Final RMSE over 50: 0.623901. Std 0.8396\n",
      "RMSE by fold 0.623809. Std 0.0111\n",
      "Final RMSE over 50: 0.612365. Std 0.8109\n",
      "RMSE by fold 0.612294. Std 0.0098\n",
      "Final RMSE over 50: 0.629098. Std 0.8531\n",
      "RMSE by fold 0.628959. Std 0.0138\n",
      "Final RMSE over 50: 0.627081. Std 0.8493\n",
      "RMSE by fold 0.626979. Std 0.0118\n",
      "Final RMSE over 50: 0.630262. Std 0.8566\n",
      "RMSE by fold 0.630153. Std 0.0122\n",
      "Final RMSE over 50: 0.632815. Std 0.8428\n",
      "RMSE by fold 0.632682. Std 0.0135\n",
      "Final RMSE over 50: 0.620091. Std 0.8447\n",
      "RMSE by fold 0.619996. Std 0.0113\n",
      "Final RMSE over 50: 0.630573. Std 0.8555\n",
      "RMSE by fold 0.630484. Std 0.0110\n",
      "Final RMSE over 50: 0.607765. Std 0.8136\n",
      "RMSE by fold 0.607673. Std 0.0109\n",
      "New best RMSE: 0.607765\n",
      "Final RMSE over 50: 0.622142. Std 0.8426\n",
      "RMSE by fold 0.622061. Std 0.0105\n",
      "Final RMSE over 50: 0.613241. Std 0.8366\n",
      "RMSE by fold 0.613113. Std 0.0130\n",
      "Final RMSE over 50: 0.631900. Std 0.8549\n",
      "RMSE by fold 0.631819. Std 0.0106\n",
      "Final RMSE over 50: 0.619083. Std 0.8434\n",
      "RMSE by fold 0.618969. Std 0.0124\n",
      "Final RMSE over 50: 0.631819. Std 0.8571\n",
      "RMSE by fold 0.631680. Std 0.0137\n",
      "Final RMSE over 50: 0.613843. Std 0.8400\n",
      "RMSE by fold 0.613735. Std 0.0120\n",
      "Final RMSE over 50: 0.624540. Std 0.8515\n",
      "RMSE by fold 0.624462. Std 0.0103\n",
      "Final RMSE over 50: 0.631010. Std 0.8576\n",
      "RMSE by fold 0.630880. Std 0.0132\n",
      "Final RMSE over 50: 0.648231. Std 0.6381\n",
      "RMSE by fold 0.648189. Std 0.0079\n",
      "Final RMSE over 50: 0.613453. Std 0.8399\n",
      "RMSE by fold 0.613327. Std 0.0128\n",
      "Final RMSE over 50: 0.609850. Std 0.8339\n",
      "RMSE by fold 0.609746. Std 0.0117\n",
      "Final RMSE over 50: 0.616302. Std 0.8398\n",
      "RMSE by fold 0.616206. Std 0.0113\n",
      "Final RMSE over 50: 0.623531. Std 0.8457\n",
      "RMSE by fold 0.623355. Std 0.0153\n",
      "Final RMSE over 50: 0.616410. Std 0.8440\n",
      "RMSE by fold 0.616299. Std 0.0122\n",
      "Final RMSE over 50: 0.614999. Std 0.8415\n",
      "RMSE by fold 0.614894. Std 0.0118\n",
      "Final RMSE over 50: 0.630205. Std 0.8538\n",
      "RMSE by fold 0.630075. Std 0.0133\n",
      "Final RMSE over 50: 0.608886. Std 0.8199\n",
      "RMSE by fold 0.608780. Std 0.0118\n",
      "Final RMSE over 50: 0.619013. Std 0.8433\n",
      "RMSE by fold 0.618885. Std 0.0130\n",
      "Final RMSE over 50: 0.618817. Std 0.8412\n",
      "RMSE by fold 0.618696. Std 0.0127\n",
      "Final RMSE over 50: 0.617428. Std 0.8404\n",
      "RMSE by fold 0.617326. Std 0.0117\n",
      "Final RMSE over 50: 0.638258. Std 0.8622\n",
      "RMSE by fold 0.638164. Std 0.0114\n",
      "Final RMSE over 50: 0.632228. Std 0.8496\n",
      "RMSE by fold 0.632109. Std 0.0126\n",
      "Final RMSE over 50: 0.641258. Std 0.8640\n",
      "RMSE by fold 0.641112. Std 0.0141\n",
      "Final RMSE over 50: 0.612735. Std 0.8215\n",
      "RMSE by fold 0.612646. Std 0.0109\n",
      "Final RMSE over 50: 0.633738. Std 0.8622\n",
      "RMSE by fold 0.633590. Std 0.0141\n",
      "Final RMSE over 50: 0.638687. Std 0.8646\n",
      "RMSE by fold 0.638575. Std 0.0123\n",
      "Final RMSE over 50: 0.627183. Std 0.8514\n",
      "RMSE by fold 0.627125. Std 0.0090\n",
      "Final RMSE over 50: 0.633689. Std 0.8577\n",
      "RMSE by fold 0.633572. Std 0.0127\n",
      "Final RMSE over 50: 0.626289. Std 0.8413\n",
      "RMSE by fold 0.626155. Std 0.0133\n",
      "Final RMSE over 50: 0.632995. Std 0.8522\n",
      "RMSE by fold 0.632840. Std 0.0145\n",
      "Final RMSE over 50: 0.625155. Std 0.8551\n",
      "RMSE by fold 0.625049. Std 0.0121\n",
      "Final RMSE over 50: 0.623977. Std 0.8499\n",
      "RMSE by fold 0.623874. Std 0.0118\n",
      "Final RMSE over 50: 0.617363. Std 0.8239\n",
      "RMSE by fold 0.617251. Std 0.0122\n",
      "Final RMSE over 50: 0.616618. Std 0.8425\n",
      "RMSE by fold 0.616511. Std 0.0120\n",
      "Final RMSE over 50: 0.618427. Std 0.8411\n",
      "RMSE by fold 0.618308. Std 0.0125\n",
      "Final RMSE over 50: 0.631008. Std 0.8575\n",
      "RMSE by fold 0.630916. Std 0.0112\n",
      "Final RMSE over 50: 0.620197. Std 0.8486\n",
      "RMSE by fold 0.620099. Std 0.0116\n",
      "Final RMSE over 50: 0.637923. Std 0.8629\n",
      "RMSE by fold 0.637834. Std 0.0112\n",
      "Final RMSE over 50: 0.630562. Std 0.8568\n",
      "RMSE by fold 0.630425. Std 0.0137\n",
      "Final RMSE over 50: 0.639535. Std 0.8543\n",
      "RMSE by fold 0.639479. Std 0.0088\n",
      "Final RMSE over 50: 0.616162. Std 0.8429\n",
      "RMSE by fold 0.616038. Std 0.0129\n",
      "Final RMSE over 50: 0.633599. Std 0.8626\n",
      "RMSE by fold 0.633540. Std 0.0091\n",
      "Final RMSE over 50: 0.618030. Std 0.8364\n",
      "RMSE by fold 0.617928. Std 0.0117\n",
      "Final RMSE over 50: 0.629009. Std 0.8585\n",
      "RMSE by fold 0.628932. Std 0.0103\n",
      "Final RMSE over 50: 0.622074. Std 0.8323\n",
      "RMSE by fold 0.621954. Std 0.0126\n",
      "Final RMSE over 50: 0.670331. Std 0.5747\n",
      "RMSE by fold 0.670291. Std 0.0078\n",
      "Final RMSE over 50: 0.632552. Std 0.8592\n",
      "RMSE by fold 0.632458. Std 0.0112\n",
      "Final RMSE over 50: 0.626567. Std 0.8405\n",
      "RMSE by fold 0.626451. Std 0.0126\n",
      "Final RMSE over 50: 0.615143. Std 0.8403\n",
      "RMSE by fold 0.615047. Std 0.0113\n",
      "Final RMSE over 50: 0.619877. Std 0.8487\n",
      "RMSE by fold 0.619773. Std 0.0118\n",
      "Final RMSE over 50: 0.626346. Std 0.8531\n",
      "RMSE by fold 0.626264. Std 0.0106\n",
      "Final RMSE over 50: 0.638054. Std 0.8455\n",
      "RMSE by fold 0.637932. Std 0.0127\n",
      "Final RMSE over 50: 0.624952. Std 0.8457\n",
      "RMSE by fold 0.624822. Std 0.0132\n",
      "Final RMSE over 50: 0.633282. Std 0.8445\n",
      "RMSE by fold 0.633179. Std 0.0119\n",
      "Final RMSE over 50: 0.613685. Std 0.8368\n",
      "RMSE by fold 0.613556. Std 0.0130\n",
      "Final RMSE over 50: 0.621165. Std 0.8493\n",
      "RMSE by fold 0.621066. Std 0.0115\n",
      "Final RMSE over 50: 0.618260. Std 0.8331\n",
      "RMSE by fold 0.618177. Std 0.0105\n",
      "Final RMSE over 50: 0.630143. Std 0.8412\n",
      "RMSE by fold 0.630021. Std 0.0129\n",
      "Final RMSE over 50: 0.622509. Std 0.8499\n",
      "RMSE by fold 0.622390. Std 0.0127\n",
      "Final RMSE over 50: 0.632572. Std 0.8562\n",
      "RMSE by fold 0.632416. Std 0.0145\n",
      "Final RMSE over 50: 0.636505. Std 0.8520\n",
      "RMSE by fold 0.636374. Std 0.0135\n",
      "Final RMSE over 50: 0.613090. Std 0.8378\n",
      "RMSE by fold 0.612981. Std 0.0121\n",
      "Final RMSE over 50: 0.607235. Std 0.8228\n",
      "RMSE by fold 0.607132. Std 0.0116\n",
      "New best RMSE: 0.607235\n",
      "Final RMSE over 50: 0.609991. Std 0.8317\n",
      "RMSE by fold 0.609889. Std 0.0115\n",
      "Final RMSE over 50: 0.613039. Std 0.7993\n",
      "RMSE by fold 0.612932. Std 0.0118\n",
      "Final RMSE over 50: 0.638119. Std 0.8631\n",
      "RMSE by fold 0.637991. Std 0.0133\n",
      "Final RMSE over 50: 0.633321. Std 0.8445\n",
      "RMSE by fold 0.633223. Std 0.0116\n",
      "Final RMSE over 50: 0.636273. Std 0.8578\n",
      "RMSE by fold 0.636188. Std 0.0108\n",
      "Final RMSE over 50: 0.626466. Std 0.8484\n",
      "RMSE by fold 0.626370. Std 0.0114\n",
      "Final RMSE over 50: 0.616803. Std 0.8148\n",
      "RMSE by fold 0.616707. Std 0.0113\n",
      "Final RMSE over 50: 0.622626. Std 0.8471\n",
      "RMSE by fold 0.622521. Std 0.0120\n",
      "Final RMSE over 50: 0.619351. Std 0.8390\n",
      "RMSE by fold 0.619230. Std 0.0127\n",
      "Final RMSE over 50: 0.629026. Std 0.8535\n",
      "RMSE by fold 0.628917. Std 0.0120\n",
      "Final RMSE over 50: 0.627688. Std 0.8542\n",
      "RMSE by fold 0.627546. Std 0.0138\n",
      "Final RMSE over 50: 0.613808. Std 0.8391\n",
      "RMSE by fold 0.613688. Std 0.0126\n",
      "Final RMSE over 50: 0.636061. Std 0.8596\n",
      "RMSE by fold 0.635986. Std 0.0102\n",
      "Final RMSE over 50: 0.633036. Std 0.8469\n",
      "RMSE by fold 0.632962. Std 0.0101\n",
      "Final RMSE over 50: 0.635445. Std 0.8597\n",
      "RMSE by fold 0.635345. Std 0.0115\n",
      "Final RMSE over 50: 0.608827. Std 0.8323\n",
      "RMSE by fold 0.608700. Std 0.0128\n",
      "Final RMSE over 50: 0.639354. Std 0.8624\n",
      "RMSE by fold 0.639270. Std 0.0109\n",
      "Final RMSE over 50: 0.609922. Std 0.8317\n",
      "RMSE by fold 0.609825. Std 0.0113\n",
      "Final RMSE over 50: 0.622276. Std 0.8360\n",
      "RMSE by fold 0.622199. Std 0.0103\n",
      "Final RMSE over 50: 0.626666. Std 0.8501\n",
      "RMSE by fold 0.626557. Std 0.0122\n",
      "Final RMSE over 50: 0.612361. Std 0.7807\n",
      "RMSE by fold 0.612291. Std 0.0097\n",
      "Final RMSE over 50: 0.629248. Std 0.8531\n",
      "RMSE by fold 0.629142. Std 0.0120\n",
      "Final RMSE over 50: 0.618827. Std 0.8434\n",
      "RMSE by fold 0.618747. Std 0.0104\n",
      "Final RMSE over 50: 0.632766. Std 0.8473\n",
      "RMSE by fold 0.632663. Std 0.0118\n",
      "Final RMSE over 50: 0.618773. Std 0.8448\n",
      "RMSE by fold 0.618675. Std 0.0116\n",
      "Final RMSE over 50: 0.609480. Std 0.8227\n",
      "RMSE by fold 0.609389. Std 0.0110\n",
      "Final RMSE over 50: 0.617543. Std 0.8475\n",
      "RMSE by fold 0.617387. Std 0.0142\n",
      "Final RMSE over 50: 0.630070. Std 0.8592\n",
      "RMSE by fold 0.629947. Std 0.0129\n",
      "Final RMSE over 50: 0.623089. Std 0.8521\n",
      "RMSE by fold 0.622975. Std 0.0124\n",
      "Final RMSE over 50: 0.622157. Std 0.8467\n",
      "RMSE by fold 0.622065. Std 0.0112\n",
      "Final RMSE over 50: 0.631880. Std 0.8541\n",
      "RMSE by fold 0.631800. Std 0.0106\n",
      "Final RMSE over 50: 0.633585. Std 0.8550\n",
      "RMSE by fold 0.633473. Std 0.0124\n",
      "Final RMSE over 50: 0.635635. Std 0.8585\n",
      "RMSE by fold 0.635546. Std 0.0111\n",
      "Final RMSE over 50: 0.629555. Std 0.8535\n",
      "RMSE by fold 0.629443. Std 0.0123\n",
      "Final RMSE over 50: 0.610388. Std 0.8246\n",
      "RMSE by fold 0.610280. Std 0.0119\n",
      "Final RMSE over 50: 0.624044. Std 0.8519\n",
      "RMSE by fold 0.623937. Std 0.0120\n",
      "Final RMSE over 50: 0.631967. Std 0.8552\n",
      "RMSE by fold 0.631829. Std 0.0137\n",
      "Final RMSE over 50: 0.625608. Std 0.8526\n",
      "RMSE by fold 0.625516. Std 0.0111\n",
      "Final RMSE over 50: 0.613480. Std 0.8334\n",
      "RMSE by fold 0.613384. Std 0.0112\n",
      "Final RMSE over 50: 0.624207. Std 0.8526\n",
      "RMSE by fold 0.624119. Std 0.0110\n",
      "Final RMSE over 50: 0.784679. Std 0.3481\n",
      "RMSE by fold 0.784665. Std 0.0052\n",
      "Final RMSE over 50: 0.619466. Std 0.8387\n",
      "RMSE by fold 0.619369. Std 0.0114\n",
      "Final RMSE over 50: 0.616942. Std 0.8440\n",
      "RMSE by fold 0.616832. Std 0.0121\n",
      "Final RMSE over 50: 0.626338. Std 0.8530\n",
      "RMSE by fold 0.626235. Std 0.0118\n",
      "Final RMSE over 50: 0.623298. Std 0.8474\n",
      "RMSE by fold 0.623217. Std 0.0105\n",
      "Final RMSE over 50: 0.626378. Std 0.8369\n",
      "RMSE by fold 0.626252. Std 0.0131\n",
      "Final RMSE over 50: 0.622466. Std 0.8436\n",
      "RMSE by fold 0.622340. Std 0.0130\n",
      "Final RMSE over 50: 0.632261. Std 0.8390\n",
      "RMSE by fold 0.632168. Std 0.0113\n",
      "Final RMSE over 50: 0.620563. Std 0.8467\n",
      "RMSE by fold 0.620472. Std 0.0111\n",
      "Final RMSE over 50: 0.624511. Std 0.8510\n",
      "RMSE by fold 0.624401. Std 0.0121\n",
      "Final RMSE over 50: 0.632650. Std 0.8576\n",
      "RMSE by fold 0.632579. Std 0.0098\n",
      "Final RMSE over 50: 0.624634. Std 0.8461\n",
      "RMSE by fold 0.624506. Std 0.0131\n",
      "Final RMSE over 50: 0.612619. Std 0.8378\n",
      "RMSE by fold 0.612483. Std 0.0133\n",
      "Final RMSE over 50: 0.617242. Std 0.8476\n",
      "RMSE by fold 0.617143. Std 0.0115\n",
      "Final RMSE over 50: 0.629249. Std 0.8555\n",
      "RMSE by fold 0.629130. Std 0.0127\n",
      "Final RMSE over 50: 0.634924. Std 0.8628\n",
      "RMSE by fold 0.634803. Std 0.0128\n",
      "Final RMSE over 50: 0.638311. Std 0.8601\n",
      "RMSE by fold 0.638183. Std 0.0132\n",
      "Final RMSE over 50: 0.624957. Std 0.8480\n",
      "RMSE by fold 0.624859. Std 0.0116\n",
      "Final RMSE over 50: 0.608443. Std 0.8297\n",
      "RMSE by fold 0.608344. Std 0.0114\n",
      "Final RMSE over 50: 0.632716. Std 0.8456\n",
      "RMSE by fold 0.632629. Std 0.0110\n",
      "Final RMSE over 50: 0.635004. Std 0.8609\n",
      "RMSE by fold 0.634941. Std 0.0094\n",
      "Final RMSE over 50: 0.633472. Std 0.8582\n",
      "RMSE by fold 0.633384. Std 0.0111\n",
      "Final RMSE over 50: 0.629883. Std 0.8522\n",
      "RMSE by fold 0.629752. Std 0.0133\n",
      "Final RMSE over 50: 0.626605. Std 0.8338\n",
      "RMSE by fold 0.626483. Std 0.0128\n",
      "Final RMSE over 50: 0.614448. Std 0.8436\n",
      "RMSE by fold 0.614341. Std 0.0119\n",
      "Final RMSE over 50: 0.629774. Std 0.8548\n",
      "RMSE by fold 0.629689. Std 0.0110\n",
      "Final RMSE over 50: 0.616426. Std 0.8442\n",
      "RMSE by fold 0.616333. Std 0.0111\n",
      "Final RMSE over 50: 0.634475. Std 0.8655\n",
      "RMSE by fold 0.634369. Std 0.0120\n",
      "Final RMSE over 50: 0.617320. Std 0.8387\n",
      "RMSE by fold 0.617203. Std 0.0125\n",
      "Final RMSE over 50: 0.629207. Std 0.8552\n",
      "RMSE by fold 0.629047. Std 0.0147\n",
      "Final RMSE over 50: 0.635101. Std 0.8639\n",
      "RMSE by fold 0.634984. Std 0.0127\n",
      "Final RMSE over 50: 0.633364. Std 0.8590\n",
      "RMSE by fold 0.633279. Std 0.0107\n",
      "Final RMSE over 50: 0.633623. Std 0.8570\n",
      "RMSE by fold 0.633491. Std 0.0135\n",
      "Final RMSE over 50: 0.618577. Std 0.8452\n",
      "RMSE by fold 0.618489. Std 0.0109\n",
      "Final RMSE over 50: 0.622424. Std 0.8511\n",
      "RMSE by fold 0.622286. Std 0.0135\n",
      "Final RMSE over 50: 0.633936. Std 0.8579\n",
      "RMSE by fold 0.633836. Std 0.0118\n",
      "Final RMSE over 50: 0.621869. Std 0.8379\n",
      "RMSE by fold 0.621752. Std 0.0126\n",
      "Final RMSE over 50: 0.620479. Std 0.8314\n",
      "RMSE by fold 0.620370. Std 0.0122\n",
      "Final RMSE over 50: 0.619657. Std 0.8494\n",
      "RMSE by fold 0.619556. Std 0.0117\n",
      "Final RMSE over 50: 0.618853. Std 0.8451\n",
      "RMSE by fold 0.618779. Std 0.0101\n",
      "Final RMSE over 50: 0.612395. Std 0.8309\n",
      "RMSE by fold 0.612245. Std 0.0140\n",
      "Final RMSE over 50: 0.634560. Std 0.8609\n",
      "RMSE by fold 0.634427. Std 0.0135\n",
      "Final RMSE over 50: 0.608536. Std 0.8140\n",
      "RMSE by fold 0.608445. Std 0.0110\n",
      "Final RMSE over 50: 0.633414. Std 0.8560\n",
      "RMSE by fold 0.633287. Std 0.0131\n",
      "Final RMSE over 50: 0.636806. Std 0.8531\n",
      "RMSE by fold 0.636649. Std 0.0145\n",
      "Final RMSE over 50: 0.628591. Std 0.8385\n",
      "RMSE by fold 0.628471. Std 0.0128\n",
      "Final RMSE over 50: 0.612111. Std 0.8344\n",
      "RMSE by fold 0.612002. Std 0.0119\n",
      "Final RMSE over 50: 0.621484. Std 0.8437\n",
      "RMSE by fold 0.621396. Std 0.0109\n",
      "Final RMSE over 50: 0.627059. Std 0.8457\n",
      "RMSE by fold 0.626923. Std 0.0136\n",
      "Final RMSE over 50: 0.612932. Std 0.8380\n",
      "RMSE by fold 0.612808. Std 0.0127\n",
      "Final RMSE over 50: 0.621544. Std 0.8474\n",
      "RMSE by fold 0.621462. Std 0.0106\n",
      "Final RMSE over 50: 0.621361. Std 0.8429\n",
      "RMSE by fold 0.621266. Std 0.0114\n",
      "Final RMSE over 50: 0.631574. Std 0.8586\n",
      "RMSE by fold 0.631487. Std 0.0110\n",
      "Final RMSE over 50: 0.624825. Std 0.8514\n",
      "RMSE by fold 0.624682. Std 0.0138\n",
      "Final RMSE over 50: 0.617258. Std 0.8433\n",
      "RMSE by fold 0.617165. Std 0.0111\n",
      "Final RMSE over 50: 0.622967. Std 0.8488\n",
      "RMSE by fold 0.622870. Std 0.0114\n",
      "Final RMSE over 50: 0.613252. Std 0.7937\n",
      "RMSE by fold 0.613163. Std 0.0109\n",
      "Final RMSE over 50: 0.620750. Std 0.8485\n",
      "RMSE by fold 0.620653. Std 0.0114\n",
      "Final RMSE over 50: 0.621691. Std 0.8495\n",
      "RMSE by fold 0.621606. Std 0.0107\n",
      "Final RMSE over 50: 0.624919. Std 0.8453\n",
      "RMSE by fold 0.624832. Std 0.0109\n",
      "Final RMSE over 50: 0.630632. Std 0.8570\n",
      "RMSE by fold 0.630547. Std 0.0108\n",
      "Final RMSE over 50: 0.611475. Std 0.8373\n",
      "RMSE by fold 0.611370. Std 0.0118\n",
      "Final RMSE over 50: 0.616336. Std 0.8434\n",
      "RMSE by fold 0.616204. Std 0.0132\n",
      "Final RMSE over 50: 0.630387. Std 0.8563\n",
      "RMSE by fold 0.630231. Std 0.0144\n",
      "Final RMSE over 50: 0.615385. Std 0.8398\n",
      "RMSE by fold 0.615275. Std 0.0122\n",
      "Final RMSE over 50: 0.641839. Std 0.8681\n",
      "RMSE by fold 0.641769. Std 0.0100\n",
      "Final RMSE over 50: 0.632568. Std 0.8509\n",
      "RMSE by fold 0.632460. Std 0.0121\n",
      "Final RMSE over 50: 0.628146. Std 0.8574\n",
      "RMSE by fold 0.628036. Std 0.0123\n",
      "Final RMSE over 50: 0.627958. Std 0.8571\n",
      "RMSE by fold 0.627853. Std 0.0120\n",
      "Final RMSE over 50: 0.668865. Std 0.5775\n",
      "RMSE by fold 0.668830. Std 0.0073\n",
      "Final RMSE over 50: 0.619689. Std 0.8486\n",
      "RMSE by fold 0.619569. Std 0.0127\n",
      "Final RMSE over 50: 0.622722. Std 0.8503\n",
      "RMSE by fold 0.622596. Std 0.0130\n",
      "Final RMSE over 50: 0.621378. Std 0.8417\n",
      "RMSE by fold 0.621278. Std 0.0116\n",
      "Final RMSE over 50: 0.619709. Std 0.8496\n",
      "RMSE by fold 0.619607. Std 0.0117\n",
      "Final RMSE over 50: 0.626394. Std 0.8409\n",
      "RMSE by fold 0.626235. Std 0.0145\n",
      "Final RMSE over 50: 0.624440. Std 0.8480\n",
      "RMSE by fold 0.624365. Std 0.0102\n",
      "Final RMSE over 50: 0.621781. Std 0.8475\n",
      "RMSE by fold 0.621672. Std 0.0121\n",
      "Final RMSE over 50: 0.621954. Std 0.8464\n",
      "RMSE by fold 0.621838. Std 0.0125\n",
      "Final RMSE over 50: 0.611486. Std 0.8360\n",
      "RMSE by fold 0.611374. Std 0.0122\n",
      "Final RMSE over 50: 0.631812. Std 0.8508\n",
      "RMSE by fold 0.631691. Std 0.0129\n",
      "Final RMSE over 50: 0.622954. Std 0.8400\n",
      "RMSE by fold 0.622844. Std 0.0120\n",
      "Final RMSE over 50: 0.638794. Std 0.8467\n",
      "RMSE by fold 0.638670. Std 0.0130\n",
      "Final RMSE over 50: 0.627078. Std 0.8566\n",
      "RMSE by fold 0.626986. Std 0.0113\n",
      "Final RMSE over 50: 0.631503. Std 0.8538\n",
      "RMSE by fold 0.631400. Std 0.0118\n",
      "Final RMSE over 50: 0.625252. Std 0.8498\n",
      "RMSE by fold 0.625151. Std 0.0117\n",
      "Final RMSE over 50: 0.617788. Std 0.8365\n",
      "RMSE by fold 0.617656. Std 0.0133\n",
      "Final RMSE over 50: 0.617325. Std 0.8471\n",
      "RMSE by fold 0.617212. Std 0.0122\n",
      "Final RMSE over 50: 0.620227. Std 0.8402\n",
      "RMSE by fold 0.620142. Std 0.0107\n",
      "Final RMSE over 50: 0.627760. Std 0.8510\n",
      "RMSE by fold 0.627659. Std 0.0118\n",
      "Final RMSE over 50: 0.633386. Std 0.8587\n",
      "RMSE by fold 0.633287. Std 0.0116\n",
      "Final RMSE over 50: 0.632621. Std 0.8553\n",
      "RMSE by fold 0.632537. Std 0.0108\n",
      "Final RMSE over 50: 0.619490. Std 0.8402\n",
      "RMSE by fold 0.619363. Std 0.0129\n",
      "Final RMSE over 50: 0.641887. Std 0.8678\n",
      "RMSE by fold 0.641736. Std 0.0144\n",
      "Final RMSE over 50: 0.629036. Std 0.8453\n",
      "RMSE by fold 0.628917. Std 0.0128\n",
      "Final RMSE over 50: 0.624056. Std 0.8484\n",
      "RMSE by fold 0.623940. Std 0.0125\n",
      "Final RMSE over 50: 0.631413. Std 0.8443\n",
      "RMSE by fold 0.631297. Std 0.0124\n",
      "Final RMSE over 50: 0.609403. Std 0.8337\n",
      "RMSE by fold 0.609300. Std 0.0115\n",
      "Final RMSE over 50: 0.629461. Std 0.8573\n",
      "RMSE by fold 0.629337. Std 0.0129\n",
      "Final RMSE over 50: 0.622845. Std 0.8510\n",
      "RMSE by fold 0.622740. Std 0.0119\n",
      "Final RMSE over 50: 0.644086. Std 0.8692\n",
      "RMSE by fold 0.643993. Std 0.0114\n",
      "Final RMSE over 50: 0.621197. Std 0.8394\n",
      "RMSE by fold 0.621095. Std 0.0118\n",
      "Final RMSE over 50: 0.618853. Std 0.8440\n",
      "RMSE by fold 0.618785. Std 0.0096\n",
      "Final RMSE over 50: 0.619628. Std 0.8422\n",
      "RMSE by fold 0.619540. Std 0.0109\n",
      "Final RMSE over 50: 0.620569. Std 0.8386\n",
      "RMSE by fold 0.620435. Std 0.0133\n",
      "Final RMSE over 50: 0.633343. Std 0.8543\n",
      "RMSE by fold 0.633276. Std 0.0096\n",
      "Final RMSE over 50: 0.624641. Std 0.8555\n",
      "RMSE by fold 0.624508. Std 0.0133\n",
      "Final RMSE over 50: 0.619330. Std 0.8431\n",
      "RMSE by fold 0.619223. Std 0.0120\n",
      "Final RMSE over 50: 0.632285. Std 0.8377\n",
      "RMSE by fold 0.632158. Std 0.0131\n",
      "Final RMSE over 50: 0.628298. Std 0.8380\n",
      "RMSE by fold 0.628178. Std 0.0128\n",
      "Final RMSE over 50: 0.628539. Std 0.8555\n",
      "RMSE by fold 0.628393. Std 0.0140\n",
      "Final RMSE over 50: 0.623658. Std 0.8373\n",
      "RMSE by fold 0.623556. Std 0.0117\n",
      "Final RMSE over 50: 0.612926. Std 0.8359\n",
      "RMSE by fold 0.612779. Std 0.0139\n",
      "Final RMSE over 50: 0.622632. Std 0.8495\n",
      "RMSE by fold 0.622537. Std 0.0113\n",
      "Final RMSE over 50: 0.627385. Std 0.8553\n",
      "RMSE by fold 0.627294. Std 0.0112\n",
      "Final RMSE over 50: 0.619951. Std 0.7404\n",
      "RMSE by fold 0.619894. Std 0.0088\n",
      "Final RMSE over 50: 0.624827. Std 0.8524\n",
      "RMSE by fold 0.624734. Std 0.0113\n",
      "Final RMSE over 50: 0.635694. Std 0.8532\n",
      "RMSE by fold 0.635560. Std 0.0135\n",
      "Final RMSE over 50: 0.619182. Std 0.8412\n",
      "RMSE by fold 0.619114. Std 0.0096\n",
      "Final RMSE over 50: 0.632760. Std 0.8525\n",
      "RMSE by fold 0.632632. Std 0.0132\n",
      "Final RMSE over 50: 0.620137. Std 0.8485\n",
      "RMSE by fold 0.620039. Std 0.0116\n",
      "Final RMSE over 50: 0.624568. Std 0.8513\n",
      "RMSE by fold 0.624439. Std 0.0132\n",
      "Final RMSE over 50: 0.626291. Std 0.8523\n",
      "RMSE by fold 0.626197. Std 0.0114\n",
      "Final RMSE over 50: 0.625453. Std 0.8528\n",
      "RMSE by fold 0.625367. Std 0.0108\n",
      "Final RMSE over 50: 0.635160. Std 0.8420\n",
      "RMSE by fold 0.635035. Std 0.0131\n",
      "Final RMSE over 50: 0.615678. Std 0.8298\n",
      "RMSE by fold 0.615552. Std 0.0129\n",
      "Final RMSE over 50: 0.615901. Std 0.8361\n",
      "RMSE by fold 0.615822. Std 0.0104\n",
      "Final RMSE over 50: 0.624523. Std 0.8549\n",
      "RMSE by fold 0.624390. Std 0.0132\n",
      "Final RMSE over 50: 0.608560. Std 0.8236\n",
      "RMSE by fold 0.608471. Std 0.0109\n",
      "Final RMSE over 50: 0.615810. Std 0.7764\n",
      "RMSE by fold 0.615712. Std 0.0114\n",
      "Final RMSE over 50: 0.634209. Std 0.8605\n",
      "RMSE by fold 0.634090. Std 0.0129\n",
      "Final RMSE over 50: 0.625522. Std 0.8501\n",
      "RMSE by fold 0.625421. Std 0.0117\n",
      "Final RMSE over 50: 0.625790. Std 0.8539\n",
      "RMSE by fold 0.625704. Std 0.0108\n",
      "Final RMSE over 50: 0.622973. Std 0.7594\n",
      "RMSE by fold 0.622888. Std 0.0108\n",
      "Final RMSE over 50: 0.631049. Std 0.8375\n",
      "RMSE by fold 0.630936. Std 0.0125\n",
      "Final RMSE over 50: 0.634797. Std 0.8591\n",
      "RMSE by fold 0.634704. Std 0.0113\n",
      "Final RMSE over 50: 0.628168. Std 0.8512\n",
      "RMSE by fold 0.628073. Std 0.0113\n",
      "Final RMSE over 50: 0.620208. Std 0.8518\n",
      "RMSE by fold 0.620107. Std 0.0117\n",
      "Final RMSE over 50: 0.627900. Std 0.8544\n",
      "RMSE by fold 0.627834. Std 0.0097\n",
      "Final RMSE over 50: 0.636997. Std 0.8459\n",
      "RMSE by fold 0.636852. Std 0.0141\n",
      "Final RMSE over 50: 0.626153. Std 0.8333\n",
      "RMSE by fold 0.626042. Std 0.0124\n",
      "Final RMSE over 50: 0.624309. Std 0.8548\n",
      "RMSE by fold 0.624198. Std 0.0122\n",
      "Final RMSE over 50: 0.614900. Std 0.7750\n",
      "RMSE by fold 0.614818. Std 0.0105\n",
      "Final RMSE over 50: 0.624652. Std 0.8465\n",
      "RMSE by fold 0.624564. Std 0.0109\n",
      "Final RMSE over 50: 0.626469. Std 0.8470\n",
      "RMSE by fold 0.626372. Std 0.0116\n",
      "Final RMSE over 50: 0.608563. Std 0.7984\n",
      "RMSE by fold 0.608485. Std 0.0101\n",
      "Final RMSE over 50: 0.624892. Std 0.8501\n",
      "RMSE by fold 0.624795. Std 0.0114\n",
      "Final RMSE over 50: 0.642185. Std 0.8476\n",
      "RMSE by fold 0.642114. Std 0.0101\n",
      "Final RMSE over 50: 0.633398. Std 0.8568\n",
      "RMSE by fold 0.633317. Std 0.0106\n",
      "Final RMSE over 50: 0.629254. Std 0.8566\n",
      "RMSE by fold 0.629170. Std 0.0107\n",
      "Final RMSE over 50: 0.612410. Std 0.8026\n",
      "RMSE by fold 0.612301. Std 0.0120\n",
      "Final RMSE over 50: 0.630495. Std 0.8566\n",
      "RMSE by fold 0.630397. Std 0.0116\n",
      "Final RMSE over 50: 0.628971. Std 0.8430\n",
      "RMSE by fold 0.628864. Std 0.0122\n",
      "Final RMSE over 50: 0.615662. Std 0.8450\n",
      "RMSE by fold 0.615569. Std 0.0112\n",
      "Final RMSE over 50: 0.629276. Std 0.8533\n",
      "RMSE by fold 0.629170. Std 0.0120\n",
      "Final RMSE over 50: 0.637889. Std 0.8605\n",
      "RMSE by fold 0.637791. Std 0.0117\n",
      "Final RMSE over 50: 0.633482. Std 0.8592\n",
      "RMSE by fold 0.633381. Std 0.0118\n",
      "Final RMSE over 50: 0.612546. Std 0.8314\n",
      "RMSE by fold 0.612430. Std 0.0124\n",
      "Final RMSE over 50: 0.638545. Std 0.8621\n",
      "RMSE by fold 0.638434. Std 0.0123\n",
      "Final RMSE over 50: 0.635762. Std 0.8521\n",
      "RMSE by fold 0.635688. Std 0.0101\n",
      "Final RMSE over 50: 0.630057. Std 0.8516\n",
      "RMSE by fold 0.629945. Std 0.0124\n",
      "Final RMSE over 50: 0.620455. Std 0.8408\n",
      "RMSE by fold 0.620327. Std 0.0131\n",
      "Final RMSE over 50: 0.618294. Std 0.8405\n",
      "RMSE by fold 0.618208. Std 0.0108\n",
      "Final RMSE over 50: 0.619061. Std 0.8470\n",
      "RMSE by fold 0.618955. Std 0.0120\n",
      "Final RMSE over 50: 0.616412. Std 0.8393\n",
      "RMSE by fold 0.616280. Std 0.0132\n",
      "Final RMSE over 50: 0.627501. Std 0.8541\n",
      "RMSE by fold 0.627386. Std 0.0125\n",
      "Final RMSE over 50: 0.624673. Std 0.8512\n",
      "RMSE by fold 0.624567. Std 0.0120\n",
      "Final RMSE over 50: 0.630413. Std 0.8557\n",
      "RMSE by fold 0.630335. Std 0.0104\n",
      "Final RMSE over 50: 0.621623. Std 0.8498\n",
      "RMSE by fold 0.621522. Std 0.0117\n",
      "Final RMSE over 50: 0.621807. Std 0.8453\n",
      "RMSE by fold 0.621696. Std 0.0121\n",
      "Final RMSE over 50: 0.622803. Std 0.8436\n",
      "RMSE by fold 0.622688. Std 0.0124\n",
      "Final RMSE over 50: 0.643487. Std 0.8715\n",
      "RMSE by fold 0.643404. Std 0.0110\n",
      "Final RMSE over 50: 0.630574. Std 0.8494\n",
      "RMSE by fold 0.630458. Std 0.0126\n",
      "Final RMSE over 50: 0.625146. Std 0.8450\n",
      "RMSE by fold 0.624991. Std 0.0144\n",
      "Final RMSE over 50: 0.614092. Std 0.8211\n",
      "RMSE by fold 0.614006. Std 0.0108\n",
      "Final RMSE over 50: 0.638793. Std 0.8594\n",
      "RMSE by fold 0.638701. Std 0.0114\n",
      "Final RMSE over 50: 0.626637. Std 0.8564\n",
      "RMSE by fold 0.626528. Std 0.0122\n",
      "Final RMSE over 50: 0.627366. Std 0.7575\n",
      "RMSE by fold 0.627287. Std 0.0105\n",
      "Final RMSE over 50: 0.628793. Std 0.8547\n",
      "RMSE by fold 0.628671. Std 0.0128\n",
      "Final RMSE over 50: 0.622819. Std 0.8503\n",
      "RMSE by fold 0.622732. Std 0.0108\n",
      "Final RMSE over 50: 0.625694. Std 0.8501\n",
      "RMSE by fold 0.625547. Std 0.0139\n",
      "Final RMSE over 50: 0.630585. Std 0.8580\n",
      "RMSE by fold 0.630490. Std 0.0114\n",
      "Final RMSE over 50: 0.625893. Std 0.7921\n",
      "RMSE by fold 0.625794. Std 0.0115\n",
      "Final RMSE over 50: 0.613443. Std 0.7873\n",
      "RMSE by fold 0.613370. Std 0.0099\n",
      "Final RMSE over 50: 0.615970. Std 0.8412\n",
      "RMSE by fold 0.615852. Std 0.0126\n",
      "Final RMSE over 50: 0.634492. Std 0.8455\n",
      "RMSE by fold 0.634372. Std 0.0128\n",
      "Final RMSE over 50: 0.613083. Std 0.8337\n",
      "RMSE by fold 0.612966. Std 0.0124\n",
      "Final RMSE over 50: 0.630031. Std 0.8577\n",
      "RMSE by fold 0.629926. Std 0.0120\n",
      "Final RMSE over 50: 0.617153. Std 0.8440\n",
      "RMSE by fold 0.617040. Std 0.0123\n",
      "Final RMSE over 50: 0.636642. Std 0.8486\n",
      "RMSE by fold 0.636538. Std 0.0120\n",
      "Final RMSE over 50: 0.633691. Std 0.8621\n",
      "RMSE by fold 0.633591. Std 0.0117\n",
      "Final RMSE over 50: 0.617304. Std 0.8414\n",
      "RMSE by fold 0.617201. Std 0.0118\n",
      "Final RMSE over 50: 0.612069. Std 0.8344\n",
      "RMSE by fold 0.611980. Std 0.0110\n",
      "Final RMSE over 50: 0.627569. Std 0.8441\n",
      "RMSE by fold 0.627467. Std 0.0117\n",
      "Final RMSE over 50: 0.621678. Std 0.8459\n",
      "RMSE by fold 0.621552. Std 0.0130\n",
      "Final RMSE over 50: 0.628034. Std 0.8379\n",
      "RMSE by fold 0.627948. Std 0.0109\n",
      "Final RMSE over 50: 0.635119. Std 0.8408\n",
      "RMSE by fold 0.634978. Std 0.0139\n",
      "Final RMSE over 50: 0.622906. Std 0.8533\n",
      "RMSE by fold 0.622820. Std 0.0108\n",
      "Final RMSE over 50: 0.627892. Std 0.8505\n",
      "RMSE by fold 0.627780. Std 0.0121\n",
      "Final RMSE over 50: 0.630384. Std 0.8577\n",
      "RMSE by fold 0.630290. Std 0.0113\n",
      "Final RMSE over 50: 0.630654. Std 0.8595\n",
      "RMSE by fold 0.630533. Std 0.0128\n",
      "Final RMSE over 50: 0.634099. Std 0.8475\n",
      "RMSE by fold 0.634009. Std 0.0112\n",
      "Final RMSE over 50: 0.630387. Std 0.8494\n",
      "RMSE by fold 0.630308. Std 0.0103\n",
      "Final RMSE over 50: 0.622358. Std 0.8490\n",
      "RMSE by fold 0.622240. Std 0.0126\n",
      "Final RMSE over 50: 0.622479. Std 0.8452\n",
      "RMSE by fold 0.622342. Std 0.0135\n",
      "Final RMSE over 50: 0.613580. Std 0.8447\n",
      "RMSE by fold 0.613474. Std 0.0118\n",
      "Final RMSE over 50: 0.612734. Std 0.8390\n",
      "RMSE by fold 0.612636. Std 0.0113\n",
      "Final RMSE over 50: 0.618238. Std 0.8430\n",
      "RMSE by fold 0.618149. Std 0.0110\n",
      "Final RMSE over 50: 0.633284. Std 0.8572\n",
      "RMSE by fold 0.633193. Std 0.0112\n",
      "Final RMSE over 50: 0.633628. Std 0.8574\n",
      "RMSE by fold 0.633495. Std 0.0135\n",
      "Final RMSE over 50: 0.610694. Std 0.8265\n",
      "RMSE by fold 0.610601. Std 0.0110\n",
      "Final RMSE over 50: 0.619415. Std 0.8463\n",
      "RMSE by fold 0.619323. Std 0.0111\n",
      "Final RMSE over 50: 0.615756. Std 0.8419\n",
      "RMSE by fold 0.615647. Std 0.0120\n",
      "Final RMSE over 50: 0.629972. Std 0.8543\n",
      "RMSE by fold 0.629861. Std 0.0124\n",
      "Final RMSE over 50: 0.632730. Std 0.8444\n",
      "RMSE by fold 0.632637. Std 0.0113\n",
      "Final RMSE over 50: 0.625654. Std 0.7586\n",
      "RMSE by fold 0.625564. Std 0.0111\n",
      "Final RMSE over 50: 0.624036. Std 0.8514\n",
      "RMSE by fold 0.623895. Std 0.0138\n",
      "Final RMSE over 50: 0.622005. Std 0.8447\n",
      "RMSE by fold 0.621863. Std 0.0137\n",
      "Final RMSE over 50: 0.623530. Std 0.8387\n",
      "RMSE by fold 0.623428. Std 0.0118\n",
      "Final RMSE over 50: 0.635011. Std 0.8599\n",
      "RMSE by fold 0.634916. Std 0.0114\n",
      "Final RMSE over 50: 0.629252. Std 0.8463\n",
      "RMSE by fold 0.629108. Std 0.0137\n",
      "Final RMSE over 50: 0.619408. Std 0.8471\n",
      "RMSE by fold 0.619276. Std 0.0131\n",
      "Final RMSE over 50: 0.609488. Std 0.8170\n",
      "RMSE by fold 0.609398. Std 0.0109\n",
      "Final RMSE over 50: 0.623451. Std 0.8505\n",
      "RMSE by fold 0.623332. Std 0.0126\n",
      "Final RMSE over 50: 0.621543. Std 0.8494\n",
      "RMSE by fold 0.621416. Std 0.0130\n",
      "Final RMSE over 50: 0.625033. Std 0.8528\n",
      "RMSE by fold 0.624931. Std 0.0117\n",
      "Final RMSE over 50: 0.625449. Std 0.8429\n",
      "RMSE by fold 0.625319. Std 0.0132\n",
      "Final RMSE over 50: 0.613073. Std 0.8384\n",
      "RMSE by fold 0.612960. Std 0.0122\n",
      "Final RMSE over 50: 0.617567. Std 0.8318\n",
      "RMSE by fold 0.617450. Std 0.0125\n",
      "Final RMSE over 50: 0.619766. Std 0.8472\n",
      "RMSE by fold 0.619674. Std 0.0112\n",
      "Final RMSE over 50: 0.609391. Std 0.8302\n",
      "RMSE by fold 0.609292. Std 0.0113\n",
      "Final RMSE over 50: 0.629896. Std 0.8350\n",
      "RMSE by fold 0.629764. Std 0.0134\n",
      "Final RMSE over 50: 0.616329. Std 0.8411\n",
      "RMSE by fold 0.616218. Std 0.0120\n",
      "Final RMSE over 50: 0.629021. Std 0.8567\n",
      "RMSE by fold 0.628884. Std 0.0135\n",
      "Final RMSE over 50: 0.629522. Std 0.8524\n",
      "RMSE by fold 0.629408. Std 0.0124\n",
      "Final RMSE over 50: 0.620780. Std 0.8417\n",
      "RMSE by fold 0.620684. Std 0.0114\n",
      "Final RMSE over 50: 0.621866. Std 0.8393\n",
      "RMSE by fold 0.621782. Std 0.0106\n",
      "Final RMSE over 50: 0.624232. Std 0.8501\n",
      "RMSE by fold 0.624092. Std 0.0137\n",
      "Final RMSE over 50: 0.636442. Std 0.8551\n",
      "RMSE by fold 0.636366. Std 0.0101\n",
      "Final RMSE over 50: 0.624782. Std 0.8351\n",
      "RMSE by fold 0.624664. Std 0.0127\n",
      "Final RMSE over 50: 0.627383. Std 0.8434\n",
      "RMSE by fold 0.627242. Std 0.0137\n",
      "Final RMSE over 50: 0.628496. Std 0.8542\n",
      "RMSE by fold 0.628328. Std 0.0150\n",
      "Final RMSE over 50: 0.617604. Std 0.8437\n",
      "RMSE by fold 0.617497. Std 0.0119\n",
      "Final RMSE over 50: 0.625903. Std 0.8435\n",
      "RMSE by fold 0.625817. Std 0.0107\n",
      "Final RMSE over 50: 0.631390. Std 0.8574\n",
      "RMSE by fold 0.631297. Std 0.0113\n",
      "Final RMSE over 50: 0.621698. Std 0.8484\n",
      "RMSE by fold 0.621533. Std 0.0147\n",
      "Final RMSE over 50: 0.621699. Std 0.8509\n",
      "RMSE by fold 0.621599. Std 0.0116\n",
      "Final RMSE over 50: 0.626518. Std 0.8494\n",
      "RMSE by fold 0.626378. Std 0.0137\n",
      "Final RMSE over 50: 0.617792. Std 0.8251\n",
      "RMSE by fold 0.617654. Std 0.0135\n",
      "Final RMSE over 50: 0.635014. Std 0.8593\n",
      "RMSE by fold 0.634913. Std 0.0118\n",
      "Final RMSE over 50: 0.617151. Std 0.8422\n",
      "RMSE by fold 0.617049. Std 0.0117\n",
      "Final RMSE over 50: 0.628033. Std 0.8491\n",
      "RMSE by fold 0.627897. Std 0.0134\n",
      "Final RMSE over 50: 0.638569. Std 0.8596\n",
      "RMSE by fold 0.638463. Std 0.0122\n",
      "Final RMSE over 50: 0.616198. Std 0.8436\n",
      "RMSE by fold 0.616074. Std 0.0128\n",
      "Final RMSE over 50: 0.631103. Std 0.8511\n",
      "RMSE by fold 0.631005. Std 0.0115\n",
      "Final RMSE over 50: 0.634517. Std 0.8450\n",
      "RMSE by fold 0.634344. Std 0.0152\n",
      "Final RMSE over 50: 0.630528. Std 0.8555\n",
      "RMSE by fold 0.630434. Std 0.0114\n",
      "Final RMSE over 50: 0.630653. Std 0.8475\n",
      "RMSE by fold 0.630581. Std 0.0100\n",
      "Best RMSE: 0.607235\n",
      "Best Parameters: {'boosting_type': 'gbdt', 'class_weight': None, 'colsample_bytree': 1.0, 'importance_type': 'split', 'learning_rate': 0.018357183456832474, 'max_depth': 6, 'min_child_samples': 49, 'min_child_weight': 0.001, 'min_split_gain': 0.0, 'n_estimators': 338, 'n_jobs': None, 'num_leaves': 69, 'objective': None, 'random_state': 46, 'reg_alpha': 0.6073374497943441, 'reg_lambda': 0.3127003112066338, 'subsample': 1.0, 'subsample_for_bin': 200000, 'subsample_freq': 0, 'verbose': -1}\n"
     ]
    }
   ],
   "source": [
    "import numpy as np\n",
    "import lightgbm as lgb\n",
    "from sklearn.metrics import mean_squared_error\n",
    "from sklearn.model_selection import StratifiedKFold\n",
    "import random\n",
    "\n",
    "def random_param_search(train_feats, test_feats, n_iterations):\n",
    "    # Define parameter ranges\n",
    "    param_ranges = {\n",
    "        'boosting_type': ['gbdt'],\n",
    "        'num_leaves': (15, 150),  # Range for num_leaves\n",
    "        'learning_rate': (0.005, 0.2),  # Range for learning_rate\n",
    "        'max_depth': (5, 20),  # Range for max_depth\n",
    "        'min_child_samples': (5, 50),  # Range for min_child_samples\n",
    "        'reg_alpha': (0, 1),  # Range for L1 regularization\n",
    "        'reg_lambda': (0, 1),  # Range for L2 regularization\n",
    "        'n_estimators': (100, 500),  # Range for L2 regularization\n",
    "    }\n",
    "\n",
    "    best_rmse = float(\"inf\")\n",
    "    best_params = None\n",
    "    test_predictions_df = pd.DataFrame()\n",
    "\n",
    "    for _ in range(n_iterations):\n",
    "\n",
    "        # Sampling parameters from ranges\n",
    "        params = {\n",
    "            'boosting_type': random.choice(param_ranges['boosting_type']),\n",
    "            'num_leaves': random.randint(*param_ranges['num_leaves']),\n",
    "            'learning_rate': random.uniform(*param_ranges['learning_rate']),\n",
    "            'max_depth': random.randint(*param_ranges['max_depth']),\n",
    "            'min_child_samples': random.randint(*param_ranges['min_child_samples']),\n",
    "            'reg_alpha': random.uniform(*param_ranges['reg_alpha']),\n",
    "            'reg_lambda': random.uniform(*param_ranges['reg_lambda']),\n",
    "            'n_estimators': random.randint(*param_ranges['n_estimators']),\n",
    "            'verbose': -1\n",
    "        }\n",
    "        \n",
    "        # Train and evaluate model\n",
    "        _, _, rmse, model = lgb_pipeline(train_feats, test_feats, params)\n",
    "                                        \n",
    "        new_iter = {'rmse': [rmse],\n",
    "                    'params': str(model.get_params())}\n",
    "\n",
    "        test_predictions_df = pd.concat([test_predictions_df, pd.DataFrame(data=new_iter)])\n",
    "        # Update best parameters if current model is better\n",
    "        if rmse < best_rmse:\n",
    "            print(f\"New best RMSE: {rmse:.6f}\")\n",
    "            best_rmse = rmse\n",
    "            best_params = model.get_params()\n",
    "    \n",
    "    print(f\"Best RMSE: {best_rmse:.6f}\")\n",
    "    print(\"Best Parameters:\", best_params)\n",
    "    return test_predictions_df\n",
    "\n",
    "# Example usage\n",
    "test_predictions_df = random_param_search(train_feats, test_feats, 500)\n",
    "test_predictions_df.sort_values('rmse').to_csv('params.csv')"
   ]
  },
  {
   "cell_type": "code",
   "execution_count": null,
   "metadata": {},
   "outputs": [],
   "source": []
  },
  {
   "cell_type": "code",
   "execution_count": 3,
   "metadata": {},
   "outputs": [
    {
     "name": "stderr",
     "output_type": "stream",
     "text": [
      "Iterations:   0%|          | 0/5 [00:00<?, ?it/s]"
     ]
    },
    {
     "name": "stderr",
     "output_type": "stream",
     "text": [
      "/root/miniconda3/envs/lrp/lib/python3.10/site-packages/xgboost/core.py:160: UserWarning: [01:11:24] WARNING: /workspace/src/common/error_msg.cc:58: Falling back to prediction using DMatrix due to mismatched devices. This might lead to higher memory usage and slower performance. XGBoost is running on: cuda:0, while the input data is on: cpu.\n",
      "Potential solutions:\n",
      "- Use a data structure that matches the device ordinal in the booster.\n",
      "- Set the device for booster before call to inplace_predict.\n",
      "\n",
      "This warning will only be shown once.\n",
      "\n",
      "  warnings.warn(smsg, UserWarning)\n",
      "Iterations: 100%|██████████| 5/5 [01:00<00:00, 12.13s/it]\n"
     ]
    },
    {
     "name": "stdout",
     "output_type": "stream",
     "text": [
      "XGB Average RMSE over 50 folds: 0.605564\n",
      "New best RMSE: 0.605564\n"
     ]
    },
    {
     "name": "stderr",
     "output_type": "stream",
     "text": [
      "Iterations: 100%|██████████| 5/5 [00:45<00:00,  9.04s/it]\n"
     ]
    },
    {
     "name": "stdout",
     "output_type": "stream",
     "text": [
      "XGB Average RMSE over 50 folds: 0.610621\n"
     ]
    },
    {
     "name": "stderr",
     "output_type": "stream",
     "text": [
      "Iterations: 100%|██████████| 5/5 [00:51<00:00, 10.31s/it]\n"
     ]
    },
    {
     "name": "stdout",
     "output_type": "stream",
     "text": [
      "XGB Average RMSE over 50 folds: 0.605486\n",
      "New best RMSE: 0.605486\n"
     ]
    },
    {
     "name": "stderr",
     "output_type": "stream",
     "text": [
      "Iterations: 100%|██████████| 5/5 [01:30<00:00, 18.09s/it]\n"
     ]
    },
    {
     "name": "stdout",
     "output_type": "stream",
     "text": [
      "XGB Average RMSE over 50 folds: 0.612971\n"
     ]
    },
    {
     "name": "stderr",
     "output_type": "stream",
     "text": [
      "Iterations: 100%|██████████| 5/5 [00:54<00:00, 10.86s/it]\n"
     ]
    },
    {
     "name": "stdout",
     "output_type": "stream",
     "text": [
      "XGB Average RMSE over 50 folds: 0.605313\n",
      "New best RMSE: 0.605313\n"
     ]
    },
    {
     "name": "stderr",
     "output_type": "stream",
     "text": [
      "Iterations: 100%|██████████| 5/5 [01:37<00:00, 19.50s/it]\n"
     ]
    },
    {
     "name": "stdout",
     "output_type": "stream",
     "text": [
      "XGB Average RMSE over 50 folds: 0.610075\n"
     ]
    },
    {
     "name": "stderr",
     "output_type": "stream",
     "text": [
      "Iterations: 100%|██████████| 5/5 [01:28<00:00, 17.75s/it]\n"
     ]
    },
    {
     "name": "stdout",
     "output_type": "stream",
     "text": [
      "XGB Average RMSE over 50 folds: 0.619221\n"
     ]
    },
    {
     "name": "stderr",
     "output_type": "stream",
     "text": [
      "Iterations: 100%|██████████| 5/5 [01:16<00:00, 15.35s/it]\n"
     ]
    },
    {
     "name": "stdout",
     "output_type": "stream",
     "text": [
      "XGB Average RMSE over 50 folds: 0.618875\n"
     ]
    },
    {
     "name": "stderr",
     "output_type": "stream",
     "text": [
      "Iterations: 100%|██████████| 5/5 [01:03<00:00, 12.67s/it]\n"
     ]
    },
    {
     "name": "stdout",
     "output_type": "stream",
     "text": [
      "XGB Average RMSE over 50 folds: 0.608810\n"
     ]
    },
    {
     "name": "stderr",
     "output_type": "stream",
     "text": [
      "Iterations: 100%|██████████| 5/5 [02:51<00:00, 34.25s/it]\n"
     ]
    },
    {
     "name": "stdout",
     "output_type": "stream",
     "text": [
      "XGB Average RMSE over 50 folds: 0.612845\n"
     ]
    },
    {
     "name": "stderr",
     "output_type": "stream",
     "text": [
      "Iterations: 100%|██████████| 5/5 [00:45<00:00,  9.12s/it]\n"
     ]
    },
    {
     "name": "stdout",
     "output_type": "stream",
     "text": [
      "XGB Average RMSE over 50 folds: 0.603630\n",
      "New best RMSE: 0.603630\n"
     ]
    },
    {
     "name": "stderr",
     "output_type": "stream",
     "text": [
      "Iterations: 100%|██████████| 5/5 [01:22<00:00, 16.57s/it]\n"
     ]
    },
    {
     "name": "stdout",
     "output_type": "stream",
     "text": [
      "XGB Average RMSE over 50 folds: 0.617918\n"
     ]
    },
    {
     "name": "stderr",
     "output_type": "stream",
     "text": [
      "Iterations: 100%|██████████| 5/5 [01:20<00:00, 16.04s/it]\n"
     ]
    },
    {
     "name": "stdout",
     "output_type": "stream",
     "text": [
      "XGB Average RMSE over 50 folds: 0.612510\n"
     ]
    },
    {
     "name": "stderr",
     "output_type": "stream",
     "text": [
      "Iterations: 100%|██████████| 5/5 [01:33<00:00, 18.71s/it]\n"
     ]
    },
    {
     "name": "stdout",
     "output_type": "stream",
     "text": [
      "XGB Average RMSE over 50 folds: 0.620184\n"
     ]
    },
    {
     "name": "stderr",
     "output_type": "stream",
     "text": [
      "Iterations: 100%|██████████| 5/5 [02:44<00:00, 32.86s/it]\n"
     ]
    },
    {
     "name": "stdout",
     "output_type": "stream",
     "text": [
      "XGB Average RMSE over 50 folds: 0.645800\n"
     ]
    },
    {
     "name": "stderr",
     "output_type": "stream",
     "text": [
      "Iterations: 100%|██████████| 5/5 [01:16<00:00, 15.33s/it]\n"
     ]
    },
    {
     "name": "stdout",
     "output_type": "stream",
     "text": [
      "XGB Average RMSE over 50 folds: 0.612408\n"
     ]
    },
    {
     "name": "stderr",
     "output_type": "stream",
     "text": [
      "Iterations: 100%|██████████| 5/5 [01:11<00:00, 14.33s/it]\n"
     ]
    },
    {
     "name": "stdout",
     "output_type": "stream",
     "text": [
      "XGB Average RMSE over 50 folds: 0.616080\n"
     ]
    },
    {
     "name": "stderr",
     "output_type": "stream",
     "text": [
      "Iterations: 100%|██████████| 5/5 [01:52<00:00, 22.55s/it]\n"
     ]
    },
    {
     "name": "stdout",
     "output_type": "stream",
     "text": [
      "XGB Average RMSE over 50 folds: 0.613226\n"
     ]
    },
    {
     "name": "stderr",
     "output_type": "stream",
     "text": [
      "Iterations: 100%|██████████| 5/5 [01:28<00:00, 17.67s/it]\n"
     ]
    },
    {
     "name": "stdout",
     "output_type": "stream",
     "text": [
      "XGB Average RMSE over 50 folds: 0.622424\n"
     ]
    },
    {
     "name": "stderr",
     "output_type": "stream",
     "text": [
      "Iterations: 100%|██████████| 5/5 [01:28<00:00, 17.63s/it]\n"
     ]
    },
    {
     "name": "stdout",
     "output_type": "stream",
     "text": [
      "XGB Average RMSE over 50 folds: 0.608855\n"
     ]
    },
    {
     "name": "stderr",
     "output_type": "stream",
     "text": [
      "Iterations: 100%|██████████| 5/5 [00:58<00:00, 11.79s/it]\n"
     ]
    },
    {
     "name": "stdout",
     "output_type": "stream",
     "text": [
      "XGB Average RMSE over 50 folds: 0.611191\n"
     ]
    },
    {
     "name": "stderr",
     "output_type": "stream",
     "text": [
      "Iterations: 100%|██████████| 5/5 [00:42<00:00,  8.43s/it]\n"
     ]
    },
    {
     "name": "stdout",
     "output_type": "stream",
     "text": [
      "XGB Average RMSE over 50 folds: 0.603328\n",
      "New best RMSE: 0.603328\n"
     ]
    },
    {
     "name": "stderr",
     "output_type": "stream",
     "text": [
      "Iterations: 100%|██████████| 5/5 [00:57<00:00, 11.57s/it]\n"
     ]
    },
    {
     "name": "stdout",
     "output_type": "stream",
     "text": [
      "XGB Average RMSE over 50 folds: 0.609362\n"
     ]
    },
    {
     "name": "stderr",
     "output_type": "stream",
     "text": [
      "Iterations: 100%|██████████| 5/5 [01:18<00:00, 15.76s/it]\n"
     ]
    },
    {
     "name": "stdout",
     "output_type": "stream",
     "text": [
      "XGB Average RMSE over 50 folds: 0.616166\n"
     ]
    },
    {
     "name": "stderr",
     "output_type": "stream",
     "text": [
      "Iterations: 100%|██████████| 5/5 [00:37<00:00,  7.57s/it]\n"
     ]
    },
    {
     "name": "stdout",
     "output_type": "stream",
     "text": [
      "XGB Average RMSE over 50 folds: 0.604869\n"
     ]
    },
    {
     "name": "stderr",
     "output_type": "stream",
     "text": [
      "Iterations: 100%|██████████| 5/5 [01:02<00:00, 12.57s/it]\n"
     ]
    },
    {
     "name": "stdout",
     "output_type": "stream",
     "text": [
      "XGB Average RMSE over 50 folds: 0.611692\n"
     ]
    },
    {
     "name": "stderr",
     "output_type": "stream",
     "text": [
      "Iterations: 100%|██████████| 5/5 [01:33<00:00, 18.60s/it]\n"
     ]
    },
    {
     "name": "stdout",
     "output_type": "stream",
     "text": [
      "XGB Average RMSE over 50 folds: 0.611100\n"
     ]
    },
    {
     "name": "stderr",
     "output_type": "stream",
     "text": [
      "Iterations: 100%|██████████| 5/5 [00:54<00:00, 10.93s/it]\n"
     ]
    },
    {
     "name": "stdout",
     "output_type": "stream",
     "text": [
      "XGB Average RMSE over 50 folds: 0.608067\n"
     ]
    },
    {
     "name": "stderr",
     "output_type": "stream",
     "text": [
      "Iterations: 100%|██████████| 5/5 [02:19<00:00, 27.97s/it]\n"
     ]
    },
    {
     "name": "stdout",
     "output_type": "stream",
     "text": [
      "XGB Average RMSE over 50 folds: 0.616494\n"
     ]
    },
    {
     "name": "stderr",
     "output_type": "stream",
     "text": [
      "Iterations: 100%|██████████| 5/5 [02:57<00:00, 35.47s/it]\n"
     ]
    },
    {
     "name": "stdout",
     "output_type": "stream",
     "text": [
      "XGB Average RMSE over 50 folds: 0.619378\n"
     ]
    },
    {
     "name": "stderr",
     "output_type": "stream",
     "text": [
      "Iterations: 100%|██████████| 5/5 [01:05<00:00, 13.02s/it]\n"
     ]
    },
    {
     "name": "stdout",
     "output_type": "stream",
     "text": [
      "XGB Average RMSE over 50 folds: 0.621241\n"
     ]
    },
    {
     "name": "stderr",
     "output_type": "stream",
     "text": [
      "Iterations: 100%|██████████| 5/5 [01:45<00:00, 21.05s/it]\n"
     ]
    },
    {
     "name": "stdout",
     "output_type": "stream",
     "text": [
      "XGB Average RMSE over 50 folds: 0.623581\n"
     ]
    },
    {
     "name": "stderr",
     "output_type": "stream",
     "text": [
      "Iterations: 100%|██████████| 5/5 [01:04<00:00, 12.99s/it]\n"
     ]
    },
    {
     "name": "stdout",
     "output_type": "stream",
     "text": [
      "XGB Average RMSE over 50 folds: 0.612695\n"
     ]
    },
    {
     "name": "stderr",
     "output_type": "stream",
     "text": [
      "Iterations: 100%|██████████| 5/5 [01:20<00:00, 16.08s/it]\n"
     ]
    },
    {
     "name": "stdout",
     "output_type": "stream",
     "text": [
      "XGB Average RMSE over 50 folds: 0.611618\n"
     ]
    },
    {
     "name": "stderr",
     "output_type": "stream",
     "text": [
      "Iterations: 100%|██████████| 5/5 [02:56<00:00, 35.25s/it]\n"
     ]
    },
    {
     "name": "stdout",
     "output_type": "stream",
     "text": [
      "XGB Average RMSE over 50 folds: 0.614337\n"
     ]
    },
    {
     "name": "stderr",
     "output_type": "stream",
     "text": [
      "Iterations: 100%|██████████| 5/5 [03:24<00:00, 40.99s/it]\n"
     ]
    },
    {
     "name": "stdout",
     "output_type": "stream",
     "text": [
      "XGB Average RMSE over 50 folds: 0.672339\n"
     ]
    },
    {
     "name": "stderr",
     "output_type": "stream",
     "text": [
      "Iterations: 100%|██████████| 5/5 [00:39<00:00,  7.81s/it]\n"
     ]
    },
    {
     "name": "stdout",
     "output_type": "stream",
     "text": [
      "XGB Average RMSE over 50 folds: 0.602931\n",
      "New best RMSE: 0.602931\n"
     ]
    },
    {
     "name": "stderr",
     "output_type": "stream",
     "text": [
      "Iterations: 100%|██████████| 5/5 [02:54<00:00, 34.96s/it]\n"
     ]
    },
    {
     "name": "stdout",
     "output_type": "stream",
     "text": [
      "XGB Average RMSE over 50 folds: 0.687628\n"
     ]
    },
    {
     "name": "stderr",
     "output_type": "stream",
     "text": [
      "Iterations: 100%|██████████| 5/5 [00:43<00:00,  8.60s/it]\n"
     ]
    },
    {
     "name": "stdout",
     "output_type": "stream",
     "text": [
      "XGB Average RMSE over 50 folds: 0.605205\n"
     ]
    },
    {
     "name": "stderr",
     "output_type": "stream",
     "text": [
      "Iterations: 100%|██████████| 5/5 [02:56<00:00, 35.27s/it]\n"
     ]
    },
    {
     "name": "stdout",
     "output_type": "stream",
     "text": [
      "XGB Average RMSE over 50 folds: 0.614738\n"
     ]
    },
    {
     "name": "stderr",
     "output_type": "stream",
     "text": [
      "Iterations: 100%|██████████| 5/5 [00:57<00:00, 11.60s/it]\n"
     ]
    },
    {
     "name": "stdout",
     "output_type": "stream",
     "text": [
      "XGB Average RMSE over 50 folds: 0.614015\n"
     ]
    },
    {
     "name": "stderr",
     "output_type": "stream",
     "text": [
      "Iterations: 100%|██████████| 5/5 [01:03<00:00, 12.67s/it]\n"
     ]
    },
    {
     "name": "stdout",
     "output_type": "stream",
     "text": [
      "XGB Average RMSE over 50 folds: 0.612775\n"
     ]
    },
    {
     "name": "stderr",
     "output_type": "stream",
     "text": [
      "Iterations: 100%|██████████| 5/5 [00:38<00:00,  7.64s/it]\n"
     ]
    },
    {
     "name": "stdout",
     "output_type": "stream",
     "text": [
      "XGB Average RMSE over 50 folds: 0.607422\n"
     ]
    },
    {
     "name": "stderr",
     "output_type": "stream",
     "text": [
      "Iterations: 100%|██████████| 5/5 [01:22<00:00, 16.41s/it]\n"
     ]
    },
    {
     "name": "stdout",
     "output_type": "stream",
     "text": [
      "XGB Average RMSE over 50 folds: 0.619087\n"
     ]
    },
    {
     "name": "stderr",
     "output_type": "stream",
     "text": [
      "Iterations: 100%|██████████| 5/5 [00:47<00:00,  9.42s/it]\n"
     ]
    },
    {
     "name": "stdout",
     "output_type": "stream",
     "text": [
      "XGB Average RMSE over 50 folds: 0.605926\n"
     ]
    },
    {
     "name": "stderr",
     "output_type": "stream",
     "text": [
      "Iterations: 100%|██████████| 5/5 [03:31<00:00, 42.34s/it]\n"
     ]
    },
    {
     "name": "stdout",
     "output_type": "stream",
     "text": [
      "XGB Average RMSE over 50 folds: 0.626375\n"
     ]
    },
    {
     "name": "stderr",
     "output_type": "stream",
     "text": [
      "Iterations: 100%|██████████| 5/5 [00:44<00:00,  8.94s/it]\n"
     ]
    },
    {
     "name": "stdout",
     "output_type": "stream",
     "text": [
      "XGB Average RMSE over 50 folds: 0.608128\n"
     ]
    },
    {
     "name": "stderr",
     "output_type": "stream",
     "text": [
      "Iterations: 100%|██████████| 5/5 [01:19<00:00, 15.99s/it]\n"
     ]
    },
    {
     "name": "stdout",
     "output_type": "stream",
     "text": [
      "XGB Average RMSE over 50 folds: 0.611909\n"
     ]
    },
    {
     "name": "stderr",
     "output_type": "stream",
     "text": [
      "Iterations: 100%|██████████| 5/5 [02:11<00:00, 26.33s/it]\n"
     ]
    },
    {
     "name": "stdout",
     "output_type": "stream",
     "text": [
      "XGB Average RMSE over 50 folds: 0.621540\n"
     ]
    },
    {
     "name": "stderr",
     "output_type": "stream",
     "text": [
      "Iterations: 100%|██████████| 5/5 [00:47<00:00,  9.48s/it]\n"
     ]
    },
    {
     "name": "stdout",
     "output_type": "stream",
     "text": [
      "XGB Average RMSE over 50 folds: 0.602219\n",
      "New best RMSE: 0.602219\n"
     ]
    },
    {
     "name": "stderr",
     "output_type": "stream",
     "text": [
      "Iterations: 100%|██████████| 5/5 [00:55<00:00, 11.05s/it]\n"
     ]
    },
    {
     "name": "stdout",
     "output_type": "stream",
     "text": [
      "XGB Average RMSE over 50 folds: 0.611983\n"
     ]
    },
    {
     "name": "stderr",
     "output_type": "stream",
     "text": [
      "Iterations: 100%|██████████| 5/5 [00:38<00:00,  7.76s/it]\n"
     ]
    },
    {
     "name": "stdout",
     "output_type": "stream",
     "text": [
      "XGB Average RMSE over 50 folds: 0.604099\n"
     ]
    },
    {
     "name": "stderr",
     "output_type": "stream",
     "text": [
      "Iterations: 100%|██████████| 5/5 [03:02<00:00, 36.57s/it]\n"
     ]
    },
    {
     "name": "stdout",
     "output_type": "stream",
     "text": [
      "XGB Average RMSE over 50 folds: 0.619466\n"
     ]
    },
    {
     "name": "stderr",
     "output_type": "stream",
     "text": [
      "Iterations: 100%|██████████| 5/5 [00:45<00:00,  9.14s/it]\n"
     ]
    },
    {
     "name": "stdout",
     "output_type": "stream",
     "text": [
      "XGB Average RMSE over 50 folds: 0.604509\n"
     ]
    },
    {
     "name": "stderr",
     "output_type": "stream",
     "text": [
      "Iterations: 100%|██████████| 5/5 [01:02<00:00, 12.48s/it]\n"
     ]
    },
    {
     "name": "stdout",
     "output_type": "stream",
     "text": [
      "XGB Average RMSE over 50 folds: 0.623252\n"
     ]
    },
    {
     "name": "stderr",
     "output_type": "stream",
     "text": [
      "Iterations: 100%|██████████| 5/5 [01:27<00:00, 17.42s/it]\n"
     ]
    },
    {
     "name": "stdout",
     "output_type": "stream",
     "text": [
      "XGB Average RMSE over 50 folds: 0.648172\n"
     ]
    },
    {
     "name": "stderr",
     "output_type": "stream",
     "text": [
      "Iterations: 100%|██████████| 5/5 [00:44<00:00,  8.96s/it]\n"
     ]
    },
    {
     "name": "stdout",
     "output_type": "stream",
     "text": [
      "XGB Average RMSE over 50 folds: 0.606275\n"
     ]
    },
    {
     "name": "stderr",
     "output_type": "stream",
     "text": [
      "Iterations: 100%|██████████| 5/5 [00:39<00:00,  7.90s/it]\n"
     ]
    },
    {
     "name": "stdout",
     "output_type": "stream",
     "text": [
      "XGB Average RMSE over 50 folds: 0.605757\n"
     ]
    },
    {
     "name": "stderr",
     "output_type": "stream",
     "text": [
      "Iterations: 100%|██████████| 5/5 [01:36<00:00, 19.40s/it]\n"
     ]
    },
    {
     "name": "stdout",
     "output_type": "stream",
     "text": [
      "XGB Average RMSE over 50 folds: 0.624323\n"
     ]
    },
    {
     "name": "stderr",
     "output_type": "stream",
     "text": [
      "Iterations: 100%|██████████| 5/5 [00:51<00:00, 10.27s/it]\n"
     ]
    },
    {
     "name": "stdout",
     "output_type": "stream",
     "text": [
      "XGB Average RMSE over 50 folds: 0.604337\n"
     ]
    },
    {
     "name": "stderr",
     "output_type": "stream",
     "text": [
      "Iterations: 100%|██████████| 5/5 [00:58<00:00, 11.61s/it]\n"
     ]
    },
    {
     "name": "stdout",
     "output_type": "stream",
     "text": [
      "XGB Average RMSE over 50 folds: 0.604617\n"
     ]
    },
    {
     "name": "stderr",
     "output_type": "stream",
     "text": [
      "Iterations: 100%|██████████| 5/5 [00:48<00:00,  9.70s/it]\n"
     ]
    },
    {
     "name": "stdout",
     "output_type": "stream",
     "text": [
      "XGB Average RMSE over 50 folds: 0.608722\n"
     ]
    },
    {
     "name": "stderr",
     "output_type": "stream",
     "text": [
      "Iterations: 100%|██████████| 5/5 [02:12<00:00, 26.52s/it]\n"
     ]
    },
    {
     "name": "stdout",
     "output_type": "stream",
     "text": [
      "XGB Average RMSE over 50 folds: 0.612600\n"
     ]
    },
    {
     "name": "stderr",
     "output_type": "stream",
     "text": [
      "Iterations: 100%|██████████| 5/5 [01:20<00:00, 16.08s/it]\n"
     ]
    },
    {
     "name": "stdout",
     "output_type": "stream",
     "text": [
      "XGB Average RMSE over 50 folds: 0.619844\n"
     ]
    },
    {
     "name": "stderr",
     "output_type": "stream",
     "text": [
      "Iterations: 100%|██████████| 5/5 [01:19<00:00, 15.92s/it]\n"
     ]
    },
    {
     "name": "stdout",
     "output_type": "stream",
     "text": [
      "XGB Average RMSE over 50 folds: 0.622219\n"
     ]
    },
    {
     "name": "stderr",
     "output_type": "stream",
     "text": [
      "Iterations: 100%|██████████| 5/5 [01:38<00:00, 19.77s/it]\n"
     ]
    },
    {
     "name": "stdout",
     "output_type": "stream",
     "text": [
      "XGB Average RMSE over 50 folds: 0.615788\n"
     ]
    },
    {
     "name": "stderr",
     "output_type": "stream",
     "text": [
      "Iterations: 100%|██████████| 5/5 [00:49<00:00,  9.82s/it]\n"
     ]
    },
    {
     "name": "stdout",
     "output_type": "stream",
     "text": [
      "XGB Average RMSE over 50 folds: 0.631110\n"
     ]
    },
    {
     "name": "stderr",
     "output_type": "stream",
     "text": [
      "Iterations: 100%|██████████| 5/5 [01:48<00:00, 21.64s/it]\n"
     ]
    },
    {
     "name": "stdout",
     "output_type": "stream",
     "text": [
      "XGB Average RMSE over 50 folds: 0.615501\n"
     ]
    },
    {
     "name": "stderr",
     "output_type": "stream",
     "text": [
      "Iterations: 100%|██████████| 5/5 [01:15<00:00, 15.18s/it]\n"
     ]
    },
    {
     "name": "stdout",
     "output_type": "stream",
     "text": [
      "XGB Average RMSE over 50 folds: 0.615805\n"
     ]
    },
    {
     "name": "stderr",
     "output_type": "stream",
     "text": [
      "Iterations: 100%|██████████| 5/5 [01:59<00:00, 23.83s/it]\n"
     ]
    },
    {
     "name": "stdout",
     "output_type": "stream",
     "text": [
      "XGB Average RMSE over 50 folds: 0.616042\n"
     ]
    },
    {
     "name": "stderr",
     "output_type": "stream",
     "text": [
      "Iterations: 100%|██████████| 5/5 [01:05<00:00, 13.15s/it]\n"
     ]
    },
    {
     "name": "stdout",
     "output_type": "stream",
     "text": [
      "XGB Average RMSE over 50 folds: 0.611490\n"
     ]
    },
    {
     "name": "stderr",
     "output_type": "stream",
     "text": [
      "Iterations: 100%|██████████| 5/5 [00:58<00:00, 11.64s/it]\n"
     ]
    },
    {
     "name": "stdout",
     "output_type": "stream",
     "text": [
      "XGB Average RMSE over 50 folds: 0.610049\n"
     ]
    },
    {
     "name": "stderr",
     "output_type": "stream",
     "text": [
      "Iterations: 100%|██████████| 5/5 [01:23<00:00, 16.64s/it]\n"
     ]
    },
    {
     "name": "stdout",
     "output_type": "stream",
     "text": [
      "XGB Average RMSE over 50 folds: 0.613018\n"
     ]
    },
    {
     "name": "stderr",
     "output_type": "stream",
     "text": [
      "Iterations: 100%|██████████| 5/5 [01:41<00:00, 20.28s/it]\n"
     ]
    },
    {
     "name": "stdout",
     "output_type": "stream",
     "text": [
      "XGB Average RMSE over 50 folds: 0.621874\n"
     ]
    },
    {
     "name": "stderr",
     "output_type": "stream",
     "text": [
      "Iterations: 100%|██████████| 5/5 [00:38<00:00,  7.73s/it]\n"
     ]
    },
    {
     "name": "stdout",
     "output_type": "stream",
     "text": [
      "XGB Average RMSE over 50 folds: 0.693797\n"
     ]
    },
    {
     "name": "stderr",
     "output_type": "stream",
     "text": [
      "Iterations: 100%|██████████| 5/5 [01:25<00:00, 17.19s/it]\n"
     ]
    },
    {
     "name": "stdout",
     "output_type": "stream",
     "text": [
      "XGB Average RMSE over 50 folds: 0.614468\n"
     ]
    },
    {
     "name": "stderr",
     "output_type": "stream",
     "text": [
      "Iterations: 100%|██████████| 5/5 [02:35<00:00, 31.06s/it]\n"
     ]
    },
    {
     "name": "stdout",
     "output_type": "stream",
     "text": [
      "XGB Average RMSE over 50 folds: 0.614848\n"
     ]
    },
    {
     "name": "stderr",
     "output_type": "stream",
     "text": [
      "Iterations: 100%|██████████| 5/5 [00:52<00:00, 10.60s/it]\n"
     ]
    },
    {
     "name": "stdout",
     "output_type": "stream",
     "text": [
      "XGB Average RMSE over 50 folds: 0.608611\n"
     ]
    },
    {
     "name": "stderr",
     "output_type": "stream",
     "text": [
      "Iterations: 100%|██████████| 5/5 [02:05<00:00, 25.03s/it]\n"
     ]
    },
    {
     "name": "stdout",
     "output_type": "stream",
     "text": [
      "XGB Average RMSE over 50 folds: 0.615038\n"
     ]
    },
    {
     "name": "stderr",
     "output_type": "stream",
     "text": [
      "Iterations: 100%|██████████| 5/5 [00:38<00:00,  7.66s/it]\n"
     ]
    },
    {
     "name": "stdout",
     "output_type": "stream",
     "text": [
      "XGB Average RMSE over 50 folds: 0.601441\n",
      "New best RMSE: 0.601441\n"
     ]
    },
    {
     "name": "stderr",
     "output_type": "stream",
     "text": [
      "Iterations: 100%|██████████| 5/5 [01:44<00:00, 20.96s/it]\n"
     ]
    },
    {
     "name": "stdout",
     "output_type": "stream",
     "text": [
      "XGB Average RMSE over 50 folds: 0.616935\n"
     ]
    },
    {
     "name": "stderr",
     "output_type": "stream",
     "text": [
      "Iterations: 100%|██████████| 5/5 [01:44<00:00, 20.95s/it]\n"
     ]
    },
    {
     "name": "stdout",
     "output_type": "stream",
     "text": [
      "XGB Average RMSE over 50 folds: 0.612590\n"
     ]
    },
    {
     "name": "stderr",
     "output_type": "stream",
     "text": [
      "Iterations: 100%|██████████| 5/5 [01:07<00:00, 13.41s/it]\n"
     ]
    },
    {
     "name": "stdout",
     "output_type": "stream",
     "text": [
      "XGB Average RMSE over 50 folds: 0.607614\n"
     ]
    },
    {
     "name": "stderr",
     "output_type": "stream",
     "text": [
      "Iterations: 100%|██████████| 5/5 [00:49<00:00,  9.93s/it]\n"
     ]
    },
    {
     "name": "stdout",
     "output_type": "stream",
     "text": [
      "XGB Average RMSE over 50 folds: 0.608653\n"
     ]
    },
    {
     "name": "stderr",
     "output_type": "stream",
     "text": [
      "Iterations: 100%|██████████| 5/5 [02:08<00:00, 25.69s/it]\n"
     ]
    },
    {
     "name": "stdout",
     "output_type": "stream",
     "text": [
      "XGB Average RMSE over 50 folds: 0.615726\n"
     ]
    },
    {
     "name": "stderr",
     "output_type": "stream",
     "text": [
      "Iterations: 100%|██████████| 5/5 [01:14<00:00, 14.91s/it]\n"
     ]
    },
    {
     "name": "stdout",
     "output_type": "stream",
     "text": [
      "XGB Average RMSE over 50 folds: 0.611852\n"
     ]
    },
    {
     "name": "stderr",
     "output_type": "stream",
     "text": [
      "Iterations: 100%|██████████| 5/5 [02:52<00:00, 34.54s/it]\n"
     ]
    },
    {
     "name": "stdout",
     "output_type": "stream",
     "text": [
      "XGB Average RMSE over 50 folds: 0.617397\n"
     ]
    },
    {
     "name": "stderr",
     "output_type": "stream",
     "text": [
      "Iterations: 100%|██████████| 5/5 [01:28<00:00, 17.79s/it]\n"
     ]
    },
    {
     "name": "stdout",
     "output_type": "stream",
     "text": [
      "XGB Average RMSE over 50 folds: 0.618290\n"
     ]
    },
    {
     "name": "stderr",
     "output_type": "stream",
     "text": [
      "Iterations: 100%|██████████| 5/5 [01:17<00:00, 15.59s/it]\n"
     ]
    },
    {
     "name": "stdout",
     "output_type": "stream",
     "text": [
      "XGB Average RMSE over 50 folds: 0.620350\n"
     ]
    },
    {
     "name": "stderr",
     "output_type": "stream",
     "text": [
      "Iterations: 100%|██████████| 5/5 [02:25<00:00, 29.02s/it]\n"
     ]
    },
    {
     "name": "stdout",
     "output_type": "stream",
     "text": [
      "XGB Average RMSE over 50 folds: 0.609768\n"
     ]
    },
    {
     "name": "stderr",
     "output_type": "stream",
     "text": [
      "Iterations: 100%|██████████| 5/5 [01:19<00:00, 15.97s/it]\n"
     ]
    },
    {
     "name": "stdout",
     "output_type": "stream",
     "text": [
      "XGB Average RMSE over 50 folds: 0.611869\n"
     ]
    },
    {
     "name": "stderr",
     "output_type": "stream",
     "text": [
      "Iterations: 100%|██████████| 5/5 [03:35<00:00, 43.19s/it]\n"
     ]
    },
    {
     "name": "stdout",
     "output_type": "stream",
     "text": [
      "XGB Average RMSE over 50 folds: 0.651729\n"
     ]
    },
    {
     "name": "stderr",
     "output_type": "stream",
     "text": [
      "Iterations: 100%|██████████| 5/5 [02:19<00:00, 27.81s/it]\n"
     ]
    },
    {
     "name": "stdout",
     "output_type": "stream",
     "text": [
      "XGB Average RMSE over 50 folds: 0.613138\n"
     ]
    },
    {
     "name": "stderr",
     "output_type": "stream",
     "text": [
      "Iterations: 100%|██████████| 5/5 [03:14<00:00, 38.97s/it]\n"
     ]
    },
    {
     "name": "stdout",
     "output_type": "stream",
     "text": [
      "XGB Average RMSE over 50 folds: 0.613891\n"
     ]
    },
    {
     "name": "stderr",
     "output_type": "stream",
     "text": [
      "Iterations: 100%|██████████| 5/5 [00:48<00:00,  9.70s/it]\n"
     ]
    },
    {
     "name": "stdout",
     "output_type": "stream",
     "text": [
      "XGB Average RMSE over 50 folds: 0.612216\n"
     ]
    },
    {
     "name": "stderr",
     "output_type": "stream",
     "text": [
      "Iterations: 100%|██████████| 5/5 [03:42<00:00, 44.52s/it]\n"
     ]
    },
    {
     "name": "stdout",
     "output_type": "stream",
     "text": [
      "XGB Average RMSE over 50 folds: 0.624728\n"
     ]
    },
    {
     "name": "stderr",
     "output_type": "stream",
     "text": [
      "Iterations: 100%|██████████| 5/5 [01:22<00:00, 16.45s/it]\n"
     ]
    },
    {
     "name": "stdout",
     "output_type": "stream",
     "text": [
      "XGB Average RMSE over 50 folds: 0.624284\n"
     ]
    },
    {
     "name": "stderr",
     "output_type": "stream",
     "text": [
      "Iterations: 100%|██████████| 5/5 [00:42<00:00,  8.57s/it]\n"
     ]
    },
    {
     "name": "stdout",
     "output_type": "stream",
     "text": [
      "XGB Average RMSE over 50 folds: 0.602347\n"
     ]
    },
    {
     "name": "stderr",
     "output_type": "stream",
     "text": [
      "Iterations: 100%|██████████| 5/5 [01:24<00:00, 16.94s/it]\n"
     ]
    },
    {
     "name": "stdout",
     "output_type": "stream",
     "text": [
      "XGB Average RMSE over 50 folds: 0.621382\n"
     ]
    },
    {
     "name": "stderr",
     "output_type": "stream",
     "text": [
      "Iterations: 100%|██████████| 5/5 [00:56<00:00, 11.39s/it]\n"
     ]
    },
    {
     "name": "stdout",
     "output_type": "stream",
     "text": [
      "XGB Average RMSE over 50 folds: 0.606185\n"
     ]
    },
    {
     "name": "stderr",
     "output_type": "stream",
     "text": [
      "Iterations: 100%|██████████| 5/5 [03:08<00:00, 37.62s/it]\n"
     ]
    },
    {
     "name": "stdout",
     "output_type": "stream",
     "text": [
      "XGB Average RMSE over 50 folds: 0.610657\n"
     ]
    },
    {
     "name": "stderr",
     "output_type": "stream",
     "text": [
      "Iterations: 100%|██████████| 5/5 [01:28<00:00, 17.73s/it]\n"
     ]
    },
    {
     "name": "stdout",
     "output_type": "stream",
     "text": [
      "XGB Average RMSE over 50 folds: 0.618935\n"
     ]
    },
    {
     "name": "stderr",
     "output_type": "stream",
     "text": [
      "Iterations: 100%|██████████| 5/5 [00:44<00:00,  8.81s/it]\n"
     ]
    },
    {
     "name": "stdout",
     "output_type": "stream",
     "text": [
      "XGB Average RMSE over 50 folds: 0.602334\n"
     ]
    },
    {
     "name": "stderr",
     "output_type": "stream",
     "text": [
      "Iterations: 100%|██████████| 5/5 [01:18<00:00, 15.76s/it]\n"
     ]
    },
    {
     "name": "stdout",
     "output_type": "stream",
     "text": [
      "XGB Average RMSE over 50 folds: 0.607870\n"
     ]
    },
    {
     "name": "stderr",
     "output_type": "stream",
     "text": [
      "Iterations: 100%|██████████| 5/5 [03:01<00:00, 36.28s/it]\n"
     ]
    },
    {
     "name": "stdout",
     "output_type": "stream",
     "text": [
      "XGB Average RMSE over 50 folds: 0.618007\n"
     ]
    },
    {
     "name": "stderr",
     "output_type": "stream",
     "text": [
      "Iterations: 100%|██████████| 5/5 [02:15<00:00, 27.20s/it]\n"
     ]
    },
    {
     "name": "stdout",
     "output_type": "stream",
     "text": [
      "XGB Average RMSE over 50 folds: 0.616499\n"
     ]
    },
    {
     "name": "stderr",
     "output_type": "stream",
     "text": [
      "Iterations: 100%|██████████| 5/5 [01:35<00:00, 19.13s/it]\n"
     ]
    },
    {
     "name": "stdout",
     "output_type": "stream",
     "text": [
      "XGB Average RMSE over 50 folds: 0.620958\n"
     ]
    },
    {
     "name": "stderr",
     "output_type": "stream",
     "text": [
      "Iterations: 100%|██████████| 5/5 [00:40<00:00,  8.15s/it]\n"
     ]
    },
    {
     "name": "stdout",
     "output_type": "stream",
     "text": [
      "XGB Average RMSE over 50 folds: 0.606169\n"
     ]
    },
    {
     "name": "stderr",
     "output_type": "stream",
     "text": [
      "Iterations: 100%|██████████| 5/5 [01:04<00:00, 12.90s/it]\n"
     ]
    },
    {
     "name": "stdout",
     "output_type": "stream",
     "text": [
      "XGB Average RMSE over 50 folds: 0.618281\n"
     ]
    },
    {
     "name": "stderr",
     "output_type": "stream",
     "text": [
      "Iterations: 100%|██████████| 5/5 [01:35<00:00, 19.15s/it]\n"
     ]
    },
    {
     "name": "stdout",
     "output_type": "stream",
     "text": [
      "XGB Average RMSE over 50 folds: 0.617007\n"
     ]
    },
    {
     "name": "stderr",
     "output_type": "stream",
     "text": [
      "Iterations: 100%|██████████| 5/5 [00:48<00:00,  9.72s/it]\n"
     ]
    },
    {
     "name": "stdout",
     "output_type": "stream",
     "text": [
      "XGB Average RMSE over 50 folds: 0.606778\n"
     ]
    },
    {
     "name": "stderr",
     "output_type": "stream",
     "text": [
      "Iterations: 100%|██████████| 5/5 [00:37<00:00,  7.55s/it]\n"
     ]
    },
    {
     "name": "stdout",
     "output_type": "stream",
     "text": [
      "XGB Average RMSE over 50 folds: 0.605427\n"
     ]
    },
    {
     "name": "stderr",
     "output_type": "stream",
     "text": [
      "Iterations: 100%|██████████| 5/5 [01:05<00:00, 13.18s/it]\n"
     ]
    },
    {
     "name": "stdout",
     "output_type": "stream",
     "text": [
      "XGB Average RMSE over 50 folds: 0.608339\n"
     ]
    },
    {
     "name": "stderr",
     "output_type": "stream",
     "text": [
      "Iterations: 100%|██████████| 5/5 [00:49<00:00,  9.95s/it]\n"
     ]
    },
    {
     "name": "stdout",
     "output_type": "stream",
     "text": [
      "XGB Average RMSE over 50 folds: 0.621479\n"
     ]
    },
    {
     "name": "stderr",
     "output_type": "stream",
     "text": [
      "Iterations: 100%|██████████| 5/5 [00:37<00:00,  7.57s/it]\n"
     ]
    },
    {
     "name": "stdout",
     "output_type": "stream",
     "text": [
      "XGB Average RMSE over 50 folds: 0.618422\n"
     ]
    },
    {
     "name": "stderr",
     "output_type": "stream",
     "text": [
      "Iterations: 100%|██████████| 5/5 [00:52<00:00, 10.41s/it]\n"
     ]
    },
    {
     "name": "stdout",
     "output_type": "stream",
     "text": [
      "XGB Average RMSE over 50 folds: 0.604752\n"
     ]
    },
    {
     "name": "stderr",
     "output_type": "stream",
     "text": [
      "Iterations: 100%|██████████| 5/5 [00:53<00:00, 10.77s/it]\n"
     ]
    },
    {
     "name": "stdout",
     "output_type": "stream",
     "text": [
      "XGB Average RMSE over 50 folds: 0.606115\n"
     ]
    },
    {
     "name": "stderr",
     "output_type": "stream",
     "text": [
      "Iterations: 100%|██████████| 5/5 [01:35<00:00, 19.20s/it]\n"
     ]
    },
    {
     "name": "stdout",
     "output_type": "stream",
     "text": [
      "XGB Average RMSE over 50 folds: 0.616544\n"
     ]
    },
    {
     "name": "stderr",
     "output_type": "stream",
     "text": [
      "Iterations: 100%|██████████| 5/5 [00:38<00:00,  7.65s/it]\n"
     ]
    },
    {
     "name": "stdout",
     "output_type": "stream",
     "text": [
      "XGB Average RMSE over 50 folds: 0.606527\n"
     ]
    },
    {
     "name": "stderr",
     "output_type": "stream",
     "text": [
      "Iterations: 100%|██████████| 5/5 [00:38<00:00,  7.70s/it]\n"
     ]
    },
    {
     "name": "stdout",
     "output_type": "stream",
     "text": [
      "XGB Average RMSE over 50 folds: 0.605891\n"
     ]
    },
    {
     "name": "stderr",
     "output_type": "stream",
     "text": [
      "Iterations: 100%|██████████| 5/5 [00:55<00:00, 11.07s/it]\n"
     ]
    },
    {
     "name": "stdout",
     "output_type": "stream",
     "text": [
      "XGB Average RMSE over 50 folds: 0.611694\n"
     ]
    },
    {
     "name": "stderr",
     "output_type": "stream",
     "text": [
      "Iterations: 100%|██████████| 5/5 [01:17<00:00, 15.49s/it]\n"
     ]
    },
    {
     "name": "stdout",
     "output_type": "stream",
     "text": [
      "XGB Average RMSE over 50 folds: 0.611035\n"
     ]
    },
    {
     "name": "stderr",
     "output_type": "stream",
     "text": [
      "Iterations: 100%|██████████| 5/5 [00:56<00:00, 11.27s/it]\n"
     ]
    },
    {
     "name": "stdout",
     "output_type": "stream",
     "text": [
      "XGB Average RMSE over 50 folds: 0.608902\n"
     ]
    },
    {
     "name": "stderr",
     "output_type": "stream",
     "text": [
      "Iterations: 100%|██████████| 5/5 [01:32<00:00, 18.42s/it]\n"
     ]
    },
    {
     "name": "stdout",
     "output_type": "stream",
     "text": [
      "XGB Average RMSE over 50 folds: 0.607971\n"
     ]
    },
    {
     "name": "stderr",
     "output_type": "stream",
     "text": [
      "Iterations: 100%|██████████| 5/5 [01:00<00:00, 12.11s/it]\n"
     ]
    },
    {
     "name": "stdout",
     "output_type": "stream",
     "text": [
      "XGB Average RMSE over 50 folds: 0.606537\n"
     ]
    },
    {
     "name": "stderr",
     "output_type": "stream",
     "text": [
      "Iterations: 100%|██████████| 5/5 [02:57<00:00, 35.54s/it]\n"
     ]
    },
    {
     "name": "stdout",
     "output_type": "stream",
     "text": [
      "XGB Average RMSE over 50 folds: 0.617601\n"
     ]
    },
    {
     "name": "stderr",
     "output_type": "stream",
     "text": [
      "Iterations: 100%|██████████| 5/5 [00:55<00:00, 11.05s/it]\n"
     ]
    },
    {
     "name": "stdout",
     "output_type": "stream",
     "text": [
      "XGB Average RMSE over 50 folds: 0.606900\n"
     ]
    },
    {
     "name": "stderr",
     "output_type": "stream",
     "text": [
      "Iterations: 100%|██████████| 5/5 [00:38<00:00,  7.67s/it]\n"
     ]
    },
    {
     "name": "stdout",
     "output_type": "stream",
     "text": [
      "XGB Average RMSE over 50 folds: 0.603950\n"
     ]
    },
    {
     "name": "stderr",
     "output_type": "stream",
     "text": [
      "Iterations: 100%|██████████| 5/5 [01:21<00:00, 16.28s/it]\n"
     ]
    },
    {
     "name": "stdout",
     "output_type": "stream",
     "text": [
      "XGB Average RMSE over 50 folds: 0.609966\n"
     ]
    },
    {
     "name": "stderr",
     "output_type": "stream",
     "text": [
      "Iterations: 100%|██████████| 5/5 [01:53<00:00, 22.77s/it]\n"
     ]
    },
    {
     "name": "stdout",
     "output_type": "stream",
     "text": [
      "XGB Average RMSE over 50 folds: 0.615084\n"
     ]
    },
    {
     "name": "stderr",
     "output_type": "stream",
     "text": [
      "Iterations: 100%|██████████| 5/5 [01:45<00:00, 21.11s/it]\n"
     ]
    },
    {
     "name": "stdout",
     "output_type": "stream",
     "text": [
      "XGB Average RMSE over 50 folds: 0.613027\n"
     ]
    },
    {
     "name": "stderr",
     "output_type": "stream",
     "text": [
      "Iterations: 100%|██████████| 5/5 [00:49<00:00,  9.94s/it]\n"
     ]
    },
    {
     "name": "stdout",
     "output_type": "stream",
     "text": [
      "XGB Average RMSE over 50 folds: 0.607877\n"
     ]
    },
    {
     "name": "stderr",
     "output_type": "stream",
     "text": [
      "Iterations: 100%|██████████| 5/5 [02:25<00:00, 29.13s/it]\n"
     ]
    },
    {
     "name": "stdout",
     "output_type": "stream",
     "text": [
      "XGB Average RMSE over 50 folds: 0.623353\n"
     ]
    },
    {
     "name": "stderr",
     "output_type": "stream",
     "text": [
      "Iterations: 100%|██████████| 5/5 [00:48<00:00,  9.61s/it]\n"
     ]
    },
    {
     "name": "stdout",
     "output_type": "stream",
     "text": [
      "XGB Average RMSE over 50 folds: 0.606663\n"
     ]
    },
    {
     "name": "stderr",
     "output_type": "stream",
     "text": [
      "Iterations: 100%|██████████| 5/5 [01:34<00:00, 19.00s/it]\n"
     ]
    },
    {
     "name": "stdout",
     "output_type": "stream",
     "text": [
      "XGB Average RMSE over 50 folds: 0.609585\n"
     ]
    },
    {
     "name": "stderr",
     "output_type": "stream",
     "text": [
      "Iterations: 100%|██████████| 5/5 [01:27<00:00, 17.53s/it]\n"
     ]
    },
    {
     "name": "stdout",
     "output_type": "stream",
     "text": [
      "XGB Average RMSE over 50 folds: 0.624976\n"
     ]
    },
    {
     "name": "stderr",
     "output_type": "stream",
     "text": [
      "Iterations: 100%|██████████| 5/5 [01:43<00:00, 20.77s/it]\n"
     ]
    },
    {
     "name": "stdout",
     "output_type": "stream",
     "text": [
      "XGB Average RMSE over 50 folds: 0.614712\n"
     ]
    },
    {
     "name": "stderr",
     "output_type": "stream",
     "text": [
      "Iterations: 100%|██████████| 5/5 [00:37<00:00,  7.56s/it]\n"
     ]
    },
    {
     "name": "stdout",
     "output_type": "stream",
     "text": [
      "XGB Average RMSE over 50 folds: 0.604158\n"
     ]
    },
    {
     "name": "stderr",
     "output_type": "stream",
     "text": [
      "Iterations: 100%|██████████| 5/5 [01:22<00:00, 16.42s/it]\n"
     ]
    },
    {
     "name": "stdout",
     "output_type": "stream",
     "text": [
      "XGB Average RMSE over 50 folds: 0.608943\n"
     ]
    },
    {
     "name": "stderr",
     "output_type": "stream",
     "text": [
      "Iterations: 100%|██████████| 5/5 [00:53<00:00, 10.80s/it]\n"
     ]
    },
    {
     "name": "stdout",
     "output_type": "stream",
     "text": [
      "XGB Average RMSE over 50 folds: 0.607342\n"
     ]
    },
    {
     "name": "stderr",
     "output_type": "stream",
     "text": [
      "Iterations: 100%|██████████| 5/5 [02:04<00:00, 24.83s/it]\n"
     ]
    },
    {
     "name": "stdout",
     "output_type": "stream",
     "text": [
      "XGB Average RMSE over 50 folds: 0.612797\n"
     ]
    },
    {
     "name": "stderr",
     "output_type": "stream",
     "text": [
      "Iterations: 100%|██████████| 5/5 [00:48<00:00,  9.75s/it]\n"
     ]
    },
    {
     "name": "stdout",
     "output_type": "stream",
     "text": [
      "XGB Average RMSE over 50 folds: 0.608015\n"
     ]
    },
    {
     "name": "stderr",
     "output_type": "stream",
     "text": [
      "Iterations: 100%|██████████| 5/5 [00:47<00:00,  9.58s/it]\n"
     ]
    },
    {
     "name": "stdout",
     "output_type": "stream",
     "text": [
      "XGB Average RMSE over 50 folds: 0.601994\n"
     ]
    },
    {
     "name": "stderr",
     "output_type": "stream",
     "text": [
      "Iterations: 100%|██████████| 5/5 [00:37<00:00,  7.57s/it]\n"
     ]
    },
    {
     "name": "stdout",
     "output_type": "stream",
     "text": [
      "XGB Average RMSE over 50 folds: 0.605774\n"
     ]
    },
    {
     "name": "stderr",
     "output_type": "stream",
     "text": [
      "Iterations: 100%|██████████| 5/5 [01:07<00:00, 13.49s/it]\n"
     ]
    },
    {
     "name": "stdout",
     "output_type": "stream",
     "text": [
      "XGB Average RMSE over 50 folds: 0.619432\n"
     ]
    },
    {
     "name": "stderr",
     "output_type": "stream",
     "text": [
      "Iterations: 100%|██████████| 5/5 [00:47<00:00,  9.57s/it]\n"
     ]
    },
    {
     "name": "stdout",
     "output_type": "stream",
     "text": [
      "XGB Average RMSE over 50 folds: 0.621815\n"
     ]
    },
    {
     "name": "stderr",
     "output_type": "stream",
     "text": [
      "Iterations: 100%|██████████| 5/5 [01:04<00:00, 12.87s/it]\n"
     ]
    },
    {
     "name": "stdout",
     "output_type": "stream",
     "text": [
      "XGB Average RMSE over 50 folds: 0.609377\n"
     ]
    },
    {
     "name": "stderr",
     "output_type": "stream",
     "text": [
      "Iterations: 100%|██████████| 5/5 [00:59<00:00, 11.90s/it]\n"
     ]
    },
    {
     "name": "stdout",
     "output_type": "stream",
     "text": [
      "XGB Average RMSE over 50 folds: 0.607610\n"
     ]
    },
    {
     "name": "stderr",
     "output_type": "stream",
     "text": [
      "Iterations: 100%|██████████| 5/5 [02:49<00:00, 33.99s/it]\n"
     ]
    },
    {
     "name": "stdout",
     "output_type": "stream",
     "text": [
      "XGB Average RMSE over 50 folds: 0.616041\n"
     ]
    },
    {
     "name": "stderr",
     "output_type": "stream",
     "text": [
      "Iterations: 100%|██████████| 5/5 [05:10<00:00, 62.07s/it]\n"
     ]
    },
    {
     "name": "stdout",
     "output_type": "stream",
     "text": [
      "XGB Average RMSE over 50 folds: 0.680841\n"
     ]
    },
    {
     "name": "stderr",
     "output_type": "stream",
     "text": [
      "Iterations: 100%|██████████| 5/5 [00:39<00:00,  7.82s/it]\n"
     ]
    },
    {
     "name": "stdout",
     "output_type": "stream",
     "text": [
      "XGB Average RMSE over 50 folds: 0.615086\n"
     ]
    },
    {
     "name": "stderr",
     "output_type": "stream",
     "text": [
      "Iterations: 100%|██████████| 5/5 [01:01<00:00, 12.38s/it]\n"
     ]
    },
    {
     "name": "stdout",
     "output_type": "stream",
     "text": [
      "XGB Average RMSE over 50 folds: 0.626191\n"
     ]
    },
    {
     "name": "stderr",
     "output_type": "stream",
     "text": [
      "Iterations: 100%|██████████| 5/5 [00:38<00:00,  7.71s/it]\n"
     ]
    },
    {
     "name": "stdout",
     "output_type": "stream",
     "text": [
      "XGB Average RMSE over 50 folds: 0.608770\n"
     ]
    },
    {
     "name": "stderr",
     "output_type": "stream",
     "text": [
      "Iterations: 100%|██████████| 5/5 [01:26<00:00, 17.29s/it]\n"
     ]
    },
    {
     "name": "stdout",
     "output_type": "stream",
     "text": [
      "XGB Average RMSE over 50 folds: 0.622381\n"
     ]
    },
    {
     "name": "stderr",
     "output_type": "stream",
     "text": [
      "Iterations: 100%|██████████| 5/5 [00:48<00:00,  9.78s/it]\n"
     ]
    },
    {
     "name": "stdout",
     "output_type": "stream",
     "text": [
      "XGB Average RMSE over 50 folds: 0.608860\n"
     ]
    },
    {
     "name": "stderr",
     "output_type": "stream",
     "text": [
      "Iterations: 100%|██████████| 5/5 [02:03<00:00, 24.77s/it]\n"
     ]
    },
    {
     "name": "stdout",
     "output_type": "stream",
     "text": [
      "XGB Average RMSE over 50 folds: 0.618169\n"
     ]
    },
    {
     "name": "stderr",
     "output_type": "stream",
     "text": [
      "Iterations: 100%|██████████| 5/5 [01:02<00:00, 12.45s/it]\n"
     ]
    },
    {
     "name": "stdout",
     "output_type": "stream",
     "text": [
      "XGB Average RMSE over 50 folds: 0.607302\n"
     ]
    },
    {
     "name": "stderr",
     "output_type": "stream",
     "text": [
      "Iterations: 100%|██████████| 5/5 [00:50<00:00, 10.14s/it]\n"
     ]
    },
    {
     "name": "stdout",
     "output_type": "stream",
     "text": [
      "XGB Average RMSE over 50 folds: 0.612369\n"
     ]
    },
    {
     "name": "stderr",
     "output_type": "stream",
     "text": [
      "Iterations: 100%|██████████| 5/5 [01:08<00:00, 13.69s/it]\n"
     ]
    },
    {
     "name": "stdout",
     "output_type": "stream",
     "text": [
      "XGB Average RMSE over 50 folds: 0.616656\n"
     ]
    },
    {
     "name": "stderr",
     "output_type": "stream",
     "text": [
      "Iterations: 100%|██████████| 5/5 [01:05<00:00, 13.08s/it]\n"
     ]
    },
    {
     "name": "stdout",
     "output_type": "stream",
     "text": [
      "XGB Average RMSE over 50 folds: 0.609096\n"
     ]
    },
    {
     "name": "stderr",
     "output_type": "stream",
     "text": [
      "Iterations: 100%|██████████| 5/5 [00:46<00:00,  9.28s/it]\n"
     ]
    },
    {
     "name": "stdout",
     "output_type": "stream",
     "text": [
      "XGB Average RMSE over 50 folds: 0.604248\n"
     ]
    },
    {
     "name": "stderr",
     "output_type": "stream",
     "text": [
      "Iterations: 100%|██████████| 5/5 [00:37<00:00,  7.59s/it]\n"
     ]
    },
    {
     "name": "stdout",
     "output_type": "stream",
     "text": [
      "XGB Average RMSE over 50 folds: 0.606342\n"
     ]
    },
    {
     "name": "stderr",
     "output_type": "stream",
     "text": [
      "Iterations: 100%|██████████| 5/5 [03:47<00:00, 45.56s/it]\n"
     ]
    },
    {
     "name": "stdout",
     "output_type": "stream",
     "text": [
      "XGB Average RMSE over 50 folds: 0.640234\n"
     ]
    },
    {
     "name": "stderr",
     "output_type": "stream",
     "text": [
      "Iterations: 100%|██████████| 5/5 [02:46<00:00, 33.31s/it]\n"
     ]
    },
    {
     "name": "stdout",
     "output_type": "stream",
     "text": [
      "XGB Average RMSE over 50 folds: 0.620970\n"
     ]
    },
    {
     "name": "stderr",
     "output_type": "stream",
     "text": [
      "Iterations: 100%|██████████| 5/5 [01:53<00:00, 22.74s/it]\n"
     ]
    },
    {
     "name": "stdout",
     "output_type": "stream",
     "text": [
      "XGB Average RMSE over 50 folds: 0.615304\n"
     ]
    },
    {
     "name": "stderr",
     "output_type": "stream",
     "text": [
      "Iterations: 100%|██████████| 5/5 [02:18<00:00, 27.68s/it]\n"
     ]
    },
    {
     "name": "stdout",
     "output_type": "stream",
     "text": [
      "XGB Average RMSE over 50 folds: 0.610998\n"
     ]
    },
    {
     "name": "stderr",
     "output_type": "stream",
     "text": [
      "Iterations: 100%|██████████| 5/5 [00:45<00:00,  9.00s/it]\n"
     ]
    },
    {
     "name": "stdout",
     "output_type": "stream",
     "text": [
      "XGB Average RMSE over 50 folds: 0.606287\n"
     ]
    },
    {
     "name": "stderr",
     "output_type": "stream",
     "text": [
      "Iterations: 100%|██████████| 5/5 [00:37<00:00,  7.60s/it]\n"
     ]
    },
    {
     "name": "stdout",
     "output_type": "stream",
     "text": [
      "XGB Average RMSE over 50 folds: 0.620045\n"
     ]
    },
    {
     "name": "stderr",
     "output_type": "stream",
     "text": [
      "Iterations: 100%|██████████| 5/5 [03:11<00:00, 38.32s/it]\n"
     ]
    },
    {
     "name": "stdout",
     "output_type": "stream",
     "text": [
      "XGB Average RMSE over 50 folds: 0.623162\n"
     ]
    },
    {
     "name": "stderr",
     "output_type": "stream",
     "text": [
      "Iterations: 100%|██████████| 5/5 [00:57<00:00, 11.47s/it]\n"
     ]
    },
    {
     "name": "stdout",
     "output_type": "stream",
     "text": [
      "XGB Average RMSE over 50 folds: 0.611440\n"
     ]
    },
    {
     "name": "stderr",
     "output_type": "stream",
     "text": [
      "Iterations: 100%|██████████| 5/5 [02:16<00:00, 27.25s/it]\n"
     ]
    },
    {
     "name": "stdout",
     "output_type": "stream",
     "text": [
      "XGB Average RMSE over 50 folds: 0.617228\n"
     ]
    },
    {
     "name": "stderr",
     "output_type": "stream",
     "text": [
      "Iterations: 100%|██████████| 5/5 [01:39<00:00, 19.99s/it]\n"
     ]
    },
    {
     "name": "stdout",
     "output_type": "stream",
     "text": [
      "XGB Average RMSE over 50 folds: 0.611785\n"
     ]
    },
    {
     "name": "stderr",
     "output_type": "stream",
     "text": [
      "Iterations: 100%|██████████| 5/5 [01:17<00:00, 15.52s/it]\n"
     ]
    },
    {
     "name": "stdout",
     "output_type": "stream",
     "text": [
      "XGB Average RMSE over 50 folds: 0.624776\n"
     ]
    },
    {
     "name": "stderr",
     "output_type": "stream",
     "text": [
      "Iterations: 100%|██████████| 5/5 [01:28<00:00, 17.61s/it]\n"
     ]
    },
    {
     "name": "stdout",
     "output_type": "stream",
     "text": [
      "XGB Average RMSE over 50 folds: 0.608497\n"
     ]
    },
    {
     "name": "stderr",
     "output_type": "stream",
     "text": [
      "Iterations: 100%|██████████| 5/5 [01:06<00:00, 13.22s/it]\n"
     ]
    },
    {
     "name": "stdout",
     "output_type": "stream",
     "text": [
      "XGB Average RMSE over 50 folds: 0.613152\n"
     ]
    },
    {
     "name": "stderr",
     "output_type": "stream",
     "text": [
      "Iterations: 100%|██████████| 5/5 [01:02<00:00, 12.46s/it]\n"
     ]
    },
    {
     "name": "stdout",
     "output_type": "stream",
     "text": [
      "XGB Average RMSE over 50 folds: 0.615610\n"
     ]
    },
    {
     "name": "stderr",
     "output_type": "stream",
     "text": [
      "Iterations: 100%|██████████| 5/5 [01:05<00:00, 13.12s/it]\n"
     ]
    },
    {
     "name": "stdout",
     "output_type": "stream",
     "text": [
      "XGB Average RMSE over 50 folds: 0.608277\n"
     ]
    },
    {
     "name": "stderr",
     "output_type": "stream",
     "text": [
      "Iterations: 100%|██████████| 5/5 [01:08<00:00, 13.61s/it]\n"
     ]
    },
    {
     "name": "stdout",
     "output_type": "stream",
     "text": [
      "XGB Average RMSE over 50 folds: 0.608409\n"
     ]
    },
    {
     "name": "stderr",
     "output_type": "stream",
     "text": [
      "Iterations: 100%|██████████| 5/5 [01:26<00:00, 17.39s/it]\n"
     ]
    },
    {
     "name": "stdout",
     "output_type": "stream",
     "text": [
      "XGB Average RMSE over 50 folds: 0.616819\n"
     ]
    },
    {
     "name": "stderr",
     "output_type": "stream",
     "text": [
      "Iterations: 100%|██████████| 5/5 [01:21<00:00, 16.40s/it]\n"
     ]
    },
    {
     "name": "stdout",
     "output_type": "stream",
     "text": [
      "XGB Average RMSE over 50 folds: 0.610499\n"
     ]
    },
    {
     "name": "stderr",
     "output_type": "stream",
     "text": [
      "Iterations: 100%|██████████| 5/5 [01:03<00:00, 12.79s/it]\n"
     ]
    },
    {
     "name": "stdout",
     "output_type": "stream",
     "text": [
      "XGB Average RMSE over 50 folds: 0.608872\n"
     ]
    },
    {
     "name": "stderr",
     "output_type": "stream",
     "text": [
      "Iterations: 100%|██████████| 5/5 [01:19<00:00, 15.90s/it]\n"
     ]
    },
    {
     "name": "stdout",
     "output_type": "stream",
     "text": [
      "XGB Average RMSE over 50 folds: 0.624838\n"
     ]
    },
    {
     "name": "stderr",
     "output_type": "stream",
     "text": [
      "Iterations: 100%|██████████| 5/5 [00:38<00:00,  7.60s/it]\n"
     ]
    },
    {
     "name": "stdout",
     "output_type": "stream",
     "text": [
      "XGB Average RMSE over 50 folds: 0.604347\n"
     ]
    },
    {
     "name": "stderr",
     "output_type": "stream",
     "text": [
      "Iterations: 100%|██████████| 5/5 [01:17<00:00, 15.42s/it]\n"
     ]
    },
    {
     "name": "stdout",
     "output_type": "stream",
     "text": [
      "XGB Average RMSE over 50 folds: 0.617303\n"
     ]
    },
    {
     "name": "stderr",
     "output_type": "stream",
     "text": [
      "Iterations: 100%|██████████| 5/5 [01:50<00:00, 22.08s/it]\n"
     ]
    },
    {
     "name": "stdout",
     "output_type": "stream",
     "text": [
      "XGB Average RMSE over 50 folds: 0.619053\n"
     ]
    },
    {
     "name": "stderr",
     "output_type": "stream",
     "text": [
      "Iterations: 100%|██████████| 5/5 [01:37<00:00, 19.49s/it]\n"
     ]
    },
    {
     "name": "stdout",
     "output_type": "stream",
     "text": [
      "XGB Average RMSE over 50 folds: 0.614907\n"
     ]
    },
    {
     "name": "stderr",
     "output_type": "stream",
     "text": [
      "Iterations: 100%|██████████| 5/5 [02:45<00:00, 33.16s/it]\n"
     ]
    },
    {
     "name": "stdout",
     "output_type": "stream",
     "text": [
      "XGB Average RMSE over 50 folds: 0.615528\n"
     ]
    },
    {
     "name": "stderr",
     "output_type": "stream",
     "text": [
      "Iterations: 100%|██████████| 5/5 [00:58<00:00, 11.76s/it]\n"
     ]
    },
    {
     "name": "stdout",
     "output_type": "stream",
     "text": [
      "XGB Average RMSE over 50 folds: 0.603148\n"
     ]
    },
    {
     "name": "stderr",
     "output_type": "stream",
     "text": [
      "Iterations: 100%|██████████| 5/5 [00:44<00:00,  8.94s/it]\n"
     ]
    },
    {
     "name": "stdout",
     "output_type": "stream",
     "text": [
      "XGB Average RMSE over 50 folds: 0.602685\n"
     ]
    },
    {
     "name": "stderr",
     "output_type": "stream",
     "text": [
      "Iterations: 100%|██████████| 5/5 [00:37<00:00,  7.60s/it]\n"
     ]
    },
    {
     "name": "stdout",
     "output_type": "stream",
     "text": [
      "XGB Average RMSE over 50 folds: 0.605268\n"
     ]
    },
    {
     "name": "stderr",
     "output_type": "stream",
     "text": [
      "Iterations: 100%|██████████| 5/5 [00:58<00:00, 11.72s/it]\n"
     ]
    },
    {
     "name": "stdout",
     "output_type": "stream",
     "text": [
      "XGB Average RMSE over 50 folds: 0.605635\n"
     ]
    },
    {
     "name": "stderr",
     "output_type": "stream",
     "text": [
      "Iterations: 100%|██████████| 5/5 [02:38<00:00, 31.80s/it]\n"
     ]
    },
    {
     "name": "stdout",
     "output_type": "stream",
     "text": [
      "XGB Average RMSE over 50 folds: 0.617795\n"
     ]
    },
    {
     "name": "stderr",
     "output_type": "stream",
     "text": [
      "Iterations: 100%|██████████| 5/5 [01:08<00:00, 13.71s/it]\n"
     ]
    },
    {
     "name": "stdout",
     "output_type": "stream",
     "text": [
      "XGB Average RMSE over 50 folds: 0.614998\n"
     ]
    },
    {
     "name": "stderr",
     "output_type": "stream",
     "text": [
      "Iterations: 100%|██████████| 5/5 [00:38<00:00,  7.74s/it]\n"
     ]
    },
    {
     "name": "stdout",
     "output_type": "stream",
     "text": [
      "XGB Average RMSE over 50 folds: 0.603546\n"
     ]
    },
    {
     "name": "stderr",
     "output_type": "stream",
     "text": [
      "Iterations: 100%|██████████| 5/5 [01:25<00:00, 17.15s/it]\n"
     ]
    },
    {
     "name": "stdout",
     "output_type": "stream",
     "text": [
      "XGB Average RMSE over 50 folds: 0.608576\n"
     ]
    },
    {
     "name": "stderr",
     "output_type": "stream",
     "text": [
      "Iterations: 100%|██████████| 5/5 [00:37<00:00,  7.55s/it]\n"
     ]
    },
    {
     "name": "stdout",
     "output_type": "stream",
     "text": [
      "XGB Average RMSE over 50 folds: 0.603547\n"
     ]
    },
    {
     "name": "stderr",
     "output_type": "stream",
     "text": [
      "Iterations: 100%|██████████| 5/5 [02:25<00:00, 29.06s/it]\n"
     ]
    },
    {
     "name": "stdout",
     "output_type": "stream",
     "text": [
      "XGB Average RMSE over 50 folds: 0.615327\n"
     ]
    },
    {
     "name": "stderr",
     "output_type": "stream",
     "text": [
      "Iterations: 100%|██████████| 5/5 [01:44<00:00, 20.84s/it]\n"
     ]
    },
    {
     "name": "stdout",
     "output_type": "stream",
     "text": [
      "XGB Average RMSE over 50 folds: 0.609995\n"
     ]
    },
    {
     "name": "stderr",
     "output_type": "stream",
     "text": [
      "Iterations: 100%|██████████| 5/5 [01:13<00:00, 14.61s/it]\n"
     ]
    },
    {
     "name": "stdout",
     "output_type": "stream",
     "text": [
      "XGB Average RMSE over 50 folds: 0.618744\n"
     ]
    },
    {
     "name": "stderr",
     "output_type": "stream",
     "text": [
      "Iterations: 100%|██████████| 5/5 [01:19<00:00, 15.92s/it]\n"
     ]
    },
    {
     "name": "stdout",
     "output_type": "stream",
     "text": [
      "XGB Average RMSE over 50 folds: 0.612907\n"
     ]
    },
    {
     "name": "stderr",
     "output_type": "stream",
     "text": [
      "Iterations: 100%|██████████| 5/5 [01:34<00:00, 18.89s/it]\n"
     ]
    },
    {
     "name": "stdout",
     "output_type": "stream",
     "text": [
      "XGB Average RMSE over 50 folds: 0.610384\n"
     ]
    },
    {
     "name": "stderr",
     "output_type": "stream",
     "text": [
      "Iterations: 100%|██████████| 5/5 [00:42<00:00,  8.58s/it]\n"
     ]
    },
    {
     "name": "stdout",
     "output_type": "stream",
     "text": [
      "XGB Average RMSE over 50 folds: 0.604196\n"
     ]
    },
    {
     "name": "stderr",
     "output_type": "stream",
     "text": [
      "Iterations: 100%|██████████| 5/5 [00:39<00:00,  7.92s/it]\n"
     ]
    },
    {
     "name": "stdout",
     "output_type": "stream",
     "text": [
      "XGB Average RMSE over 50 folds: 0.676479\n"
     ]
    },
    {
     "name": "stderr",
     "output_type": "stream",
     "text": [
      "Iterations: 100%|██████████| 5/5 [00:38<00:00,  7.68s/it]\n"
     ]
    },
    {
     "name": "stdout",
     "output_type": "stream",
     "text": [
      "XGB Average RMSE over 50 folds: 0.602538\n"
     ]
    },
    {
     "name": "stderr",
     "output_type": "stream",
     "text": [
      "Iterations: 100%|██████████| 5/5 [00:42<00:00,  8.52s/it]\n"
     ]
    },
    {
     "name": "stdout",
     "output_type": "stream",
     "text": [
      "XGB Average RMSE over 50 folds: 0.608096\n"
     ]
    },
    {
     "name": "stderr",
     "output_type": "stream",
     "text": [
      "Iterations: 100%|██████████| 5/5 [00:37<00:00,  7.54s/it]\n"
     ]
    },
    {
     "name": "stdout",
     "output_type": "stream",
     "text": [
      "XGB Average RMSE over 50 folds: 0.636743\n"
     ]
    },
    {
     "name": "stderr",
     "output_type": "stream",
     "text": [
      "Iterations: 100%|██████████| 5/5 [01:07<00:00, 13.41s/it]\n"
     ]
    },
    {
     "name": "stdout",
     "output_type": "stream",
     "text": [
      "XGB Average RMSE over 50 folds: 0.621147\n"
     ]
    },
    {
     "name": "stderr",
     "output_type": "stream",
     "text": [
      "Iterations: 100%|██████████| 5/5 [01:15<00:00, 15.13s/it]\n"
     ]
    },
    {
     "name": "stdout",
     "output_type": "stream",
     "text": [
      "XGB Average RMSE over 50 folds: 0.614843\n"
     ]
    },
    {
     "name": "stderr",
     "output_type": "stream",
     "text": [
      "Iterations: 100%|██████████| 5/5 [01:07<00:00, 13.47s/it]\n"
     ]
    },
    {
     "name": "stdout",
     "output_type": "stream",
     "text": [
      "XGB Average RMSE over 50 folds: 0.607341\n"
     ]
    },
    {
     "name": "stderr",
     "output_type": "stream",
     "text": [
      "Iterations: 100%|██████████| 5/5 [01:13<00:00, 14.75s/it]\n"
     ]
    },
    {
     "name": "stdout",
     "output_type": "stream",
     "text": [
      "XGB Average RMSE over 50 folds: 0.611727\n"
     ]
    },
    {
     "name": "stderr",
     "output_type": "stream",
     "text": [
      "Iterations: 100%|██████████| 5/5 [00:58<00:00, 11.67s/it]\n"
     ]
    },
    {
     "name": "stdout",
     "output_type": "stream",
     "text": [
      "XGB Average RMSE over 50 folds: 0.621811\n"
     ]
    },
    {
     "name": "stderr",
     "output_type": "stream",
     "text": [
      "Iterations: 100%|██████████| 5/5 [00:39<00:00,  7.87s/it]\n"
     ]
    },
    {
     "name": "stdout",
     "output_type": "stream",
     "text": [
      "XGB Average RMSE over 50 folds: 0.603541\n"
     ]
    },
    {
     "name": "stderr",
     "output_type": "stream",
     "text": [
      "Iterations: 100%|██████████| 5/5 [01:56<00:00, 23.39s/it]\n"
     ]
    },
    {
     "name": "stdout",
     "output_type": "stream",
     "text": [
      "XGB Average RMSE over 50 folds: 0.621238\n"
     ]
    },
    {
     "name": "stderr",
     "output_type": "stream",
     "text": [
      "Iterations: 100%|██████████| 5/5 [02:06<00:00, 25.23s/it]\n"
     ]
    },
    {
     "name": "stdout",
     "output_type": "stream",
     "text": [
      "XGB Average RMSE over 50 folds: 0.618727\n"
     ]
    },
    {
     "name": "stderr",
     "output_type": "stream",
     "text": [
      "Iterations: 100%|██████████| 5/5 [00:49<00:00,  9.96s/it]\n"
     ]
    },
    {
     "name": "stdout",
     "output_type": "stream",
     "text": [
      "XGB Average RMSE over 50 folds: 0.605743\n"
     ]
    },
    {
     "name": "stderr",
     "output_type": "stream",
     "text": [
      "Iterations: 100%|██████████| 5/5 [00:47<00:00,  9.48s/it]\n"
     ]
    },
    {
     "name": "stdout",
     "output_type": "stream",
     "text": [
      "XGB Average RMSE over 50 folds: 0.605574\n"
     ]
    },
    {
     "name": "stderr",
     "output_type": "stream",
     "text": [
      "Iterations: 100%|██████████| 5/5 [03:19<00:00, 39.92s/it]\n"
     ]
    },
    {
     "name": "stdout",
     "output_type": "stream",
     "text": [
      "XGB Average RMSE over 50 folds: 0.638698\n"
     ]
    },
    {
     "name": "stderr",
     "output_type": "stream",
     "text": [
      "Iterations: 100%|██████████| 5/5 [00:49<00:00,  9.83s/it]\n"
     ]
    },
    {
     "name": "stdout",
     "output_type": "stream",
     "text": [
      "XGB Average RMSE over 50 folds: 0.604014\n"
     ]
    },
    {
     "name": "stderr",
     "output_type": "stream",
     "text": [
      "Iterations: 100%|██████████| 5/5 [01:21<00:00, 16.31s/it]\n"
     ]
    },
    {
     "name": "stdout",
     "output_type": "stream",
     "text": [
      "XGB Average RMSE over 50 folds: 0.609780\n"
     ]
    },
    {
     "name": "stderr",
     "output_type": "stream",
     "text": [
      "Iterations: 100%|██████████| 5/5 [02:09<00:00, 25.95s/it]\n"
     ]
    },
    {
     "name": "stdout",
     "output_type": "stream",
     "text": [
      "XGB Average RMSE over 50 folds: 0.616150\n"
     ]
    },
    {
     "name": "stderr",
     "output_type": "stream",
     "text": [
      "Iterations: 100%|██████████| 5/5 [02:25<00:00, 29.15s/it]\n"
     ]
    },
    {
     "name": "stdout",
     "output_type": "stream",
     "text": [
      "XGB Average RMSE over 50 folds: 0.629169\n"
     ]
    },
    {
     "name": "stderr",
     "output_type": "stream",
     "text": [
      "Iterations: 100%|██████████| 5/5 [00:38<00:00,  7.75s/it]\n"
     ]
    },
    {
     "name": "stdout",
     "output_type": "stream",
     "text": [
      "XGB Average RMSE over 50 folds: 0.603863\n"
     ]
    },
    {
     "name": "stderr",
     "output_type": "stream",
     "text": [
      "Iterations: 100%|██████████| 5/5 [02:15<00:00, 27.01s/it]\n"
     ]
    },
    {
     "name": "stdout",
     "output_type": "stream",
     "text": [
      "XGB Average RMSE over 50 folds: 0.616272\n"
     ]
    },
    {
     "name": "stderr",
     "output_type": "stream",
     "text": [
      "Iterations: 100%|██████████| 5/5 [01:12<00:00, 14.55s/it]\n"
     ]
    },
    {
     "name": "stdout",
     "output_type": "stream",
     "text": [
      "XGB Average RMSE over 50 folds: 0.606720\n"
     ]
    },
    {
     "name": "stderr",
     "output_type": "stream",
     "text": [
      "Iterations: 100%|██████████| 5/5 [01:10<00:00, 14.14s/it]\n"
     ]
    },
    {
     "name": "stdout",
     "output_type": "stream",
     "text": [
      "XGB Average RMSE over 50 folds: 0.614197\n"
     ]
    },
    {
     "name": "stderr",
     "output_type": "stream",
     "text": [
      "Iterations: 100%|██████████| 5/5 [00:51<00:00, 10.25s/it]\n"
     ]
    },
    {
     "name": "stdout",
     "output_type": "stream",
     "text": [
      "XGB Average RMSE over 50 folds: 0.606493\n"
     ]
    },
    {
     "name": "stderr",
     "output_type": "stream",
     "text": [
      "Iterations: 100%|██████████| 5/5 [02:22<00:00, 28.44s/it]\n"
     ]
    },
    {
     "name": "stdout",
     "output_type": "stream",
     "text": [
      "XGB Average RMSE over 50 folds: 0.616996\n"
     ]
    },
    {
     "name": "stderr",
     "output_type": "stream",
     "text": [
      "Iterations: 100%|██████████| 5/5 [01:45<00:00, 21.02s/it]\n"
     ]
    },
    {
     "name": "stdout",
     "output_type": "stream",
     "text": [
      "XGB Average RMSE over 50 folds: 0.621803\n"
     ]
    },
    {
     "name": "stderr",
     "output_type": "stream",
     "text": [
      "Iterations: 100%|██████████| 5/5 [00:47<00:00,  9.42s/it]\n"
     ]
    },
    {
     "name": "stdout",
     "output_type": "stream",
     "text": [
      "XGB Average RMSE over 50 folds: 0.606103\n"
     ]
    },
    {
     "name": "stderr",
     "output_type": "stream",
     "text": [
      "Iterations: 100%|██████████| 5/5 [00:45<00:00,  9.10s/it]\n"
     ]
    },
    {
     "name": "stdout",
     "output_type": "stream",
     "text": [
      "XGB Average RMSE over 50 folds: 0.620209\n"
     ]
    },
    {
     "name": "stderr",
     "output_type": "stream",
     "text": [
      "Iterations: 100%|██████████| 5/5 [00:50<00:00, 10.16s/it]\n"
     ]
    },
    {
     "name": "stdout",
     "output_type": "stream",
     "text": [
      "XGB Average RMSE over 50 folds: 0.601949\n"
     ]
    },
    {
     "name": "stderr",
     "output_type": "stream",
     "text": [
      "Iterations: 100%|██████████| 5/5 [01:28<00:00, 17.65s/it]\n"
     ]
    },
    {
     "name": "stdout",
     "output_type": "stream",
     "text": [
      "XGB Average RMSE over 50 folds: 0.610888\n"
     ]
    },
    {
     "name": "stderr",
     "output_type": "stream",
     "text": [
      "Iterations: 100%|██████████| 5/5 [02:23<00:00, 28.76s/it]\n"
     ]
    },
    {
     "name": "stdout",
     "output_type": "stream",
     "text": [
      "XGB Average RMSE over 50 folds: 0.617322\n"
     ]
    },
    {
     "name": "stderr",
     "output_type": "stream",
     "text": [
      "Iterations: 100%|██████████| 5/5 [02:45<00:00, 33.14s/it]\n"
     ]
    },
    {
     "name": "stdout",
     "output_type": "stream",
     "text": [
      "XGB Average RMSE over 50 folds: 0.628249\n"
     ]
    },
    {
     "name": "stderr",
     "output_type": "stream",
     "text": [
      "Iterations: 100%|██████████| 5/5 [01:26<00:00, 17.38s/it]\n"
     ]
    },
    {
     "name": "stdout",
     "output_type": "stream",
     "text": [
      "XGB Average RMSE over 50 folds: 0.613695\n"
     ]
    },
    {
     "name": "stderr",
     "output_type": "stream",
     "text": [
      "Iterations: 100%|██████████| 5/5 [01:41<00:00, 20.39s/it]\n"
     ]
    },
    {
     "name": "stdout",
     "output_type": "stream",
     "text": [
      "XGB Average RMSE over 50 folds: 0.612917\n"
     ]
    },
    {
     "name": "stderr",
     "output_type": "stream",
     "text": [
      "Iterations: 100%|██████████| 5/5 [00:59<00:00, 11.89s/it]\n"
     ]
    },
    {
     "name": "stdout",
     "output_type": "stream",
     "text": [
      "XGB Average RMSE over 50 folds: 0.608076\n"
     ]
    },
    {
     "name": "stderr",
     "output_type": "stream",
     "text": [
      "Iterations: 100%|██████████| 5/5 [01:31<00:00, 18.29s/it]\n"
     ]
    },
    {
     "name": "stdout",
     "output_type": "stream",
     "text": [
      "XGB Average RMSE over 50 folds: 0.613352\n"
     ]
    },
    {
     "name": "stderr",
     "output_type": "stream",
     "text": [
      "Iterations: 100%|██████████| 5/5 [01:10<00:00, 14.12s/it]\n"
     ]
    },
    {
     "name": "stdout",
     "output_type": "stream",
     "text": [
      "XGB Average RMSE over 50 folds: 0.611860\n"
     ]
    },
    {
     "name": "stderr",
     "output_type": "stream",
     "text": [
      "Iterations: 100%|██████████| 5/5 [01:02<00:00, 12.43s/it]\n"
     ]
    },
    {
     "name": "stdout",
     "output_type": "stream",
     "text": [
      "XGB Average RMSE over 50 folds: 0.608853\n"
     ]
    },
    {
     "name": "stderr",
     "output_type": "stream",
     "text": [
      "Iterations: 100%|██████████| 5/5 [01:18<00:00, 15.71s/it]\n"
     ]
    },
    {
     "name": "stdout",
     "output_type": "stream",
     "text": [
      "XGB Average RMSE over 50 folds: 0.623081\n"
     ]
    },
    {
     "name": "stderr",
     "output_type": "stream",
     "text": [
      "Iterations: 100%|██████████| 5/5 [00:42<00:00,  8.40s/it]\n"
     ]
    },
    {
     "name": "stdout",
     "output_type": "stream",
     "text": [
      "XGB Average RMSE over 50 folds: 0.616650\n"
     ]
    },
    {
     "name": "stderr",
     "output_type": "stream",
     "text": [
      "Iterations: 100%|██████████| 5/5 [00:42<00:00,  8.50s/it]\n"
     ]
    },
    {
     "name": "stdout",
     "output_type": "stream",
     "text": [
      "XGB Average RMSE over 50 folds: 0.609874\n"
     ]
    },
    {
     "name": "stderr",
     "output_type": "stream",
     "text": [
      "Iterations: 100%|██████████| 5/5 [01:19<00:00, 15.95s/it]\n"
     ]
    },
    {
     "name": "stdout",
     "output_type": "stream",
     "text": [
      "XGB Average RMSE over 50 folds: 0.615387\n"
     ]
    },
    {
     "name": "stderr",
     "output_type": "stream",
     "text": [
      "Iterations: 100%|██████████| 5/5 [00:56<00:00, 11.28s/it]\n"
     ]
    },
    {
     "name": "stdout",
     "output_type": "stream",
     "text": [
      "XGB Average RMSE over 50 folds: 0.607324\n"
     ]
    },
    {
     "name": "stderr",
     "output_type": "stream",
     "text": [
      "Iterations: 100%|██████████| 5/5 [01:13<00:00, 14.66s/it]\n"
     ]
    },
    {
     "name": "stdout",
     "output_type": "stream",
     "text": [
      "XGB Average RMSE over 50 folds: 0.612200\n"
     ]
    },
    {
     "name": "stderr",
     "output_type": "stream",
     "text": [
      "Iterations: 100%|██████████| 5/5 [01:06<00:00, 13.23s/it]\n"
     ]
    },
    {
     "name": "stdout",
     "output_type": "stream",
     "text": [
      "XGB Average RMSE over 50 folds: 0.612858\n"
     ]
    },
    {
     "name": "stderr",
     "output_type": "stream",
     "text": [
      "Iterations: 100%|██████████| 5/5 [04:10<00:00, 50.04s/it]\n"
     ]
    },
    {
     "name": "stdout",
     "output_type": "stream",
     "text": [
      "XGB Average RMSE over 50 folds: 0.659257\n"
     ]
    },
    {
     "name": "stderr",
     "output_type": "stream",
     "text": [
      "Iterations: 100%|██████████| 5/5 [01:48<00:00, 21.74s/it]\n"
     ]
    },
    {
     "name": "stdout",
     "output_type": "stream",
     "text": [
      "XGB Average RMSE over 50 folds: 0.616184\n"
     ]
    },
    {
     "name": "stderr",
     "output_type": "stream",
     "text": [
      "Iterations: 100%|██████████| 5/5 [00:43<00:00,  8.73s/it]\n"
     ]
    },
    {
     "name": "stdout",
     "output_type": "stream",
     "text": [
      "XGB Average RMSE over 50 folds: 0.607877\n"
     ]
    },
    {
     "name": "stderr",
     "output_type": "stream",
     "text": [
      "Iterations: 100%|██████████| 5/5 [06:27<00:00, 77.54s/it]\n"
     ]
    },
    {
     "name": "stdout",
     "output_type": "stream",
     "text": [
      "XGB Average RMSE over 50 folds: 0.629235\n"
     ]
    },
    {
     "name": "stderr",
     "output_type": "stream",
     "text": [
      "Iterations: 100%|██████████| 5/5 [00:38<00:00,  7.74s/it]\n"
     ]
    },
    {
     "name": "stdout",
     "output_type": "stream",
     "text": [
      "XGB Average RMSE over 50 folds: 0.615738\n"
     ]
    },
    {
     "name": "stderr",
     "output_type": "stream",
     "text": [
      "Iterations: 100%|██████████| 5/5 [02:01<00:00, 24.37s/it]\n"
     ]
    },
    {
     "name": "stdout",
     "output_type": "stream",
     "text": [
      "XGB Average RMSE over 50 folds: 0.617543\n"
     ]
    },
    {
     "name": "stderr",
     "output_type": "stream",
     "text": [
      "Iterations: 100%|██████████| 5/5 [01:48<00:00, 21.73s/it]\n"
     ]
    },
    {
     "name": "stdout",
     "output_type": "stream",
     "text": [
      "XGB Average RMSE over 50 folds: 0.658275\n"
     ]
    },
    {
     "name": "stderr",
     "output_type": "stream",
     "text": [
      "Iterations: 100%|██████████| 5/5 [03:33<00:00, 42.65s/it]\n"
     ]
    },
    {
     "name": "stdout",
     "output_type": "stream",
     "text": [
      "XGB Average RMSE over 50 folds: 0.648611\n"
     ]
    },
    {
     "name": "stderr",
     "output_type": "stream",
     "text": [
      "Iterations: 100%|██████████| 5/5 [00:38<00:00,  7.76s/it]\n"
     ]
    },
    {
     "name": "stdout",
     "output_type": "stream",
     "text": [
      "XGB Average RMSE over 50 folds: 0.602066\n"
     ]
    },
    {
     "name": "stderr",
     "output_type": "stream",
     "text": [
      "Iterations: 100%|██████████| 5/5 [02:01<00:00, 24.30s/it]\n"
     ]
    },
    {
     "name": "stdout",
     "output_type": "stream",
     "text": [
      "XGB Average RMSE over 50 folds: 0.615821\n"
     ]
    },
    {
     "name": "stderr",
     "output_type": "stream",
     "text": [
      "Iterations: 100%|██████████| 5/5 [03:00<00:00, 36.05s/it]\n"
     ]
    },
    {
     "name": "stdout",
     "output_type": "stream",
     "text": [
      "XGB Average RMSE over 50 folds: 0.642920\n"
     ]
    },
    {
     "name": "stderr",
     "output_type": "stream",
     "text": [
      "Iterations: 100%|██████████| 5/5 [01:29<00:00, 17.84s/it]\n"
     ]
    },
    {
     "name": "stdout",
     "output_type": "stream",
     "text": [
      "XGB Average RMSE over 50 folds: 0.610698\n"
     ]
    },
    {
     "name": "stderr",
     "output_type": "stream",
     "text": [
      "Iterations: 100%|██████████| 5/5 [01:56<00:00, 23.23s/it]\n"
     ]
    },
    {
     "name": "stdout",
     "output_type": "stream",
     "text": [
      "XGB Average RMSE over 50 folds: 0.610870\n"
     ]
    },
    {
     "name": "stderr",
     "output_type": "stream",
     "text": [
      "Iterations: 100%|██████████| 5/5 [03:16<00:00, 39.25s/it]\n"
     ]
    },
    {
     "name": "stdout",
     "output_type": "stream",
     "text": [
      "XGB Average RMSE over 50 folds: 0.620455\n"
     ]
    },
    {
     "name": "stderr",
     "output_type": "stream",
     "text": [
      "Iterations: 100%|██████████| 5/5 [00:46<00:00,  9.25s/it]\n"
     ]
    },
    {
     "name": "stdout",
     "output_type": "stream",
     "text": [
      "XGB Average RMSE over 50 folds: 0.603550\n"
     ]
    },
    {
     "name": "stderr",
     "output_type": "stream",
     "text": [
      "Iterations: 100%|██████████| 5/5 [01:14<00:00, 14.87s/it]\n"
     ]
    },
    {
     "name": "stdout",
     "output_type": "stream",
     "text": [
      "XGB Average RMSE over 50 folds: 0.614252\n"
     ]
    },
    {
     "name": "stderr",
     "output_type": "stream",
     "text": [
      "Iterations: 100%|██████████| 5/5 [02:38<00:00, 31.63s/it]\n"
     ]
    },
    {
     "name": "stdout",
     "output_type": "stream",
     "text": [
      "XGB Average RMSE over 50 folds: 0.622936\n"
     ]
    },
    {
     "name": "stderr",
     "output_type": "stream",
     "text": [
      "Iterations: 100%|██████████| 5/5 [01:04<00:00, 12.91s/it]\n"
     ]
    },
    {
     "name": "stdout",
     "output_type": "stream",
     "text": [
      "XGB Average RMSE over 50 folds: 0.615295\n"
     ]
    },
    {
     "name": "stderr",
     "output_type": "stream",
     "text": [
      "Iterations: 100%|██████████| 5/5 [01:12<00:00, 14.43s/it]\n"
     ]
    },
    {
     "name": "stdout",
     "output_type": "stream",
     "text": [
      "XGB Average RMSE over 50 folds: 0.613774\n"
     ]
    },
    {
     "name": "stderr",
     "output_type": "stream",
     "text": [
      "Iterations: 100%|██████████| 5/5 [00:55<00:00, 11.10s/it]\n"
     ]
    },
    {
     "name": "stdout",
     "output_type": "stream",
     "text": [
      "XGB Average RMSE over 50 folds: 0.607161\n"
     ]
    },
    {
     "name": "stderr",
     "output_type": "stream",
     "text": [
      "Iterations: 100%|██████████| 5/5 [01:13<00:00, 14.65s/it]\n"
     ]
    },
    {
     "name": "stdout",
     "output_type": "stream",
     "text": [
      "XGB Average RMSE over 50 folds: 0.614108\n"
     ]
    },
    {
     "name": "stderr",
     "output_type": "stream",
     "text": [
      "Iterations: 100%|██████████| 5/5 [03:05<00:00, 37.03s/it]\n"
     ]
    },
    {
     "name": "stdout",
     "output_type": "stream",
     "text": [
      "XGB Average RMSE over 50 folds: 0.632457\n"
     ]
    },
    {
     "name": "stderr",
     "output_type": "stream",
     "text": [
      "Iterations: 100%|██████████| 5/5 [02:09<00:00, 25.93s/it]\n"
     ]
    },
    {
     "name": "stdout",
     "output_type": "stream",
     "text": [
      "XGB Average RMSE over 50 folds: 0.615526\n"
     ]
    },
    {
     "name": "stderr",
     "output_type": "stream",
     "text": [
      "Iterations: 100%|██████████| 5/5 [01:19<00:00, 15.92s/it]\n"
     ]
    },
    {
     "name": "stdout",
     "output_type": "stream",
     "text": [
      "XGB Average RMSE over 50 folds: 0.616275\n"
     ]
    },
    {
     "name": "stderr",
     "output_type": "stream",
     "text": [
      "Iterations: 100%|██████████| 5/5 [01:46<00:00, 21.20s/it]\n"
     ]
    },
    {
     "name": "stdout",
     "output_type": "stream",
     "text": [
      "XGB Average RMSE over 50 folds: 0.616698\n"
     ]
    },
    {
     "name": "stderr",
     "output_type": "stream",
     "text": [
      "Iterations: 100%|██████████| 5/5 [01:24<00:00, 16.82s/it]\n"
     ]
    },
    {
     "name": "stdout",
     "output_type": "stream",
     "text": [
      "XGB Average RMSE over 50 folds: 0.609372\n"
     ]
    },
    {
     "name": "stderr",
     "output_type": "stream",
     "text": [
      "Iterations: 100%|██████████| 5/5 [01:19<00:00, 15.84s/it]\n"
     ]
    },
    {
     "name": "stdout",
     "output_type": "stream",
     "text": [
      "XGB Average RMSE over 50 folds: 0.611390\n"
     ]
    },
    {
     "name": "stderr",
     "output_type": "stream",
     "text": [
      "Iterations: 100%|██████████| 5/5 [01:13<00:00, 14.76s/it]\n"
     ]
    },
    {
     "name": "stdout",
     "output_type": "stream",
     "text": [
      "XGB Average RMSE over 50 folds: 0.613837\n"
     ]
    },
    {
     "name": "stderr",
     "output_type": "stream",
     "text": [
      "Iterations: 100%|██████████| 5/5 [01:51<00:00, 22.39s/it]\n"
     ]
    },
    {
     "name": "stdout",
     "output_type": "stream",
     "text": [
      "XGB Average RMSE over 50 folds: 0.613277\n"
     ]
    },
    {
     "name": "stderr",
     "output_type": "stream",
     "text": [
      "Iterations: 100%|██████████| 5/5 [00:40<00:00,  8.02s/it]\n"
     ]
    },
    {
     "name": "stdout",
     "output_type": "stream",
     "text": [
      "XGB Average RMSE over 50 folds: 0.667196\n"
     ]
    },
    {
     "name": "stderr",
     "output_type": "stream",
     "text": [
      "Iterations: 100%|██████████| 5/5 [00:39<00:00,  7.85s/it]\n"
     ]
    },
    {
     "name": "stdout",
     "output_type": "stream",
     "text": [
      "XGB Average RMSE over 50 folds: 0.614086\n"
     ]
    },
    {
     "name": "stderr",
     "output_type": "stream",
     "text": [
      "Iterations: 100%|██████████| 5/5 [01:02<00:00, 12.43s/it]\n"
     ]
    },
    {
     "name": "stdout",
     "output_type": "stream",
     "text": [
      "XGB Average RMSE over 50 folds: 0.606951\n"
     ]
    },
    {
     "name": "stderr",
     "output_type": "stream",
     "text": [
      "Iterations: 100%|██████████| 5/5 [00:44<00:00,  8.81s/it]\n"
     ]
    },
    {
     "name": "stdout",
     "output_type": "stream",
     "text": [
      "XGB Average RMSE over 50 folds: 0.603104\n"
     ]
    },
    {
     "name": "stderr",
     "output_type": "stream",
     "text": [
      "Iterations: 100%|██████████| 5/5 [01:01<00:00, 12.25s/it]\n"
     ]
    },
    {
     "name": "stdout",
     "output_type": "stream",
     "text": [
      "XGB Average RMSE over 50 folds: 0.608411\n"
     ]
    },
    {
     "name": "stderr",
     "output_type": "stream",
     "text": [
      "Iterations: 100%|██████████| 5/5 [01:00<00:00, 12.04s/it]\n"
     ]
    },
    {
     "name": "stdout",
     "output_type": "stream",
     "text": [
      "XGB Average RMSE over 50 folds: 0.608094\n"
     ]
    },
    {
     "name": "stderr",
     "output_type": "stream",
     "text": [
      "Iterations: 100%|██████████| 5/5 [01:03<00:00, 12.73s/it]\n"
     ]
    },
    {
     "name": "stdout",
     "output_type": "stream",
     "text": [
      "XGB Average RMSE over 50 folds: 0.634840\n"
     ]
    },
    {
     "name": "stderr",
     "output_type": "stream",
     "text": [
      "Iterations: 100%|██████████| 5/5 [00:44<00:00,  8.85s/it]\n"
     ]
    },
    {
     "name": "stdout",
     "output_type": "stream",
     "text": [
      "XGB Average RMSE over 50 folds: 0.609830\n"
     ]
    },
    {
     "name": "stderr",
     "output_type": "stream",
     "text": [
      "Iterations: 100%|██████████| 5/5 [03:51<00:00, 46.28s/it]\n"
     ]
    },
    {
     "name": "stdout",
     "output_type": "stream",
     "text": [
      "XGB Average RMSE over 50 folds: 0.615564\n"
     ]
    },
    {
     "name": "stderr",
     "output_type": "stream",
     "text": [
      "Iterations: 100%|██████████| 5/5 [00:45<00:00,  9.02s/it]\n"
     ]
    },
    {
     "name": "stdout",
     "output_type": "stream",
     "text": [
      "XGB Average RMSE over 50 folds: 0.626569\n"
     ]
    },
    {
     "name": "stderr",
     "output_type": "stream",
     "text": [
      "Iterations: 100%|██████████| 5/5 [00:43<00:00,  8.65s/it]\n"
     ]
    },
    {
     "name": "stdout",
     "output_type": "stream",
     "text": [
      "XGB Average RMSE over 50 folds: 0.606068\n"
     ]
    },
    {
     "name": "stderr",
     "output_type": "stream",
     "text": [
      "Iterations: 100%|██████████| 5/5 [01:01<00:00, 12.37s/it]\n"
     ]
    },
    {
     "name": "stdout",
     "output_type": "stream",
     "text": [
      "XGB Average RMSE over 50 folds: 0.614222\n"
     ]
    },
    {
     "name": "stderr",
     "output_type": "stream",
     "text": [
      "Iterations: 100%|██████████| 5/5 [00:59<00:00, 11.80s/it]\n"
     ]
    },
    {
     "name": "stdout",
     "output_type": "stream",
     "text": [
      "XGB Average RMSE over 50 folds: 0.609639\n"
     ]
    },
    {
     "name": "stderr",
     "output_type": "stream",
     "text": [
      "Iterations: 100%|██████████| 5/5 [03:01<00:00, 36.24s/it]\n"
     ]
    },
    {
     "name": "stdout",
     "output_type": "stream",
     "text": [
      "XGB Average RMSE over 50 folds: 0.615003\n"
     ]
    },
    {
     "name": "stderr",
     "output_type": "stream",
     "text": [
      "Iterations: 100%|██████████| 5/5 [01:51<00:00, 22.23s/it]\n"
     ]
    },
    {
     "name": "stdout",
     "output_type": "stream",
     "text": [
      "XGB Average RMSE over 50 folds: 0.620262\n"
     ]
    },
    {
     "name": "stderr",
     "output_type": "stream",
     "text": [
      "Iterations: 100%|██████████| 5/5 [01:10<00:00, 14.15s/it]\n"
     ]
    },
    {
     "name": "stdout",
     "output_type": "stream",
     "text": [
      "XGB Average RMSE over 50 folds: 0.619507\n"
     ]
    },
    {
     "name": "stderr",
     "output_type": "stream",
     "text": [
      "Iterations: 100%|██████████| 5/5 [01:34<00:00, 18.89s/it]\n"
     ]
    },
    {
     "name": "stdout",
     "output_type": "stream",
     "text": [
      "XGB Average RMSE over 50 folds: 0.614168\n"
     ]
    },
    {
     "name": "stderr",
     "output_type": "stream",
     "text": [
      "Iterations: 100%|██████████| 5/5 [01:45<00:00, 21.09s/it]\n"
     ]
    },
    {
     "name": "stdout",
     "output_type": "stream",
     "text": [
      "XGB Average RMSE over 50 folds: 0.616866\n"
     ]
    },
    {
     "name": "stderr",
     "output_type": "stream",
     "text": [
      "Iterations: 100%|██████████| 5/5 [01:42<00:00, 20.53s/it]\n"
     ]
    },
    {
     "name": "stdout",
     "output_type": "stream",
     "text": [
      "XGB Average RMSE over 50 folds: 0.616404\n"
     ]
    },
    {
     "name": "stderr",
     "output_type": "stream",
     "text": [
      "Iterations: 100%|██████████| 5/5 [00:38<00:00,  7.66s/it]\n"
     ]
    },
    {
     "name": "stdout",
     "output_type": "stream",
     "text": [
      "XGB Average RMSE over 50 folds: 0.605255\n"
     ]
    },
    {
     "name": "stderr",
     "output_type": "stream",
     "text": [
      "Iterations: 100%|██████████| 5/5 [00:39<00:00,  7.96s/it]\n"
     ]
    },
    {
     "name": "stdout",
     "output_type": "stream",
     "text": [
      "XGB Average RMSE over 50 folds: 0.609696\n"
     ]
    },
    {
     "name": "stderr",
     "output_type": "stream",
     "text": [
      "Iterations: 100%|██████████| 5/5 [01:45<00:00, 21.01s/it]\n"
     ]
    },
    {
     "name": "stdout",
     "output_type": "stream",
     "text": [
      "XGB Average RMSE over 50 folds: 0.610296\n"
     ]
    },
    {
     "name": "stderr",
     "output_type": "stream",
     "text": [
      "Iterations: 100%|██████████| 5/5 [01:04<00:00, 12.85s/it]\n"
     ]
    },
    {
     "name": "stdout",
     "output_type": "stream",
     "text": [
      "XGB Average RMSE over 50 folds: 0.606215\n"
     ]
    },
    {
     "name": "stderr",
     "output_type": "stream",
     "text": [
      "Iterations: 100%|██████████| 5/5 [01:12<00:00, 14.53s/it]"
     ]
    },
    {
     "name": "stdout",
     "output_type": "stream",
     "text": [
      "XGB Average RMSE over 50 folds: 0.615773\n",
      "Best RMSE: 0.601441\n",
      "Best Parameters: {'objective': 'reg:squarederror', 'base_score': None, 'booster': 'gbtree', 'callbacks': None, 'colsample_bylevel': None, 'colsample_bynode': None, 'colsample_bytree': 0.8739265814988941, 'device': 'cuda', 'early_stopping_rounds': 250, 'enable_categorical': False, 'eval_metric': None, 'feature_types': None, 'gamma': 0.3893408430829386, 'grow_policy': None, 'importance_type': None, 'interaction_constraints': None, 'learning_rate': 0.18205557831997368, 'max_bin': None, 'max_cat_threshold': None, 'max_cat_to_onehot': None, 'max_delta_step': None, 'max_depth': 3, 'max_leaves': None, 'min_child_weight': 4, 'missing': nan, 'monotone_constraints': None, 'multi_strategy': None, 'n_estimators': None, 'n_jobs': None, 'num_parallel_tree': None, 'random_state': 42, 'reg_alpha': None, 'reg_lambda': None, 'sampling_method': None, 'scale_pos_weight': None, 'subsample': 0.6407940935121966, 'tree_method': None, 'validate_parameters': None, 'verbosity': None}\n"
     ]
    },
    {
     "name": "stderr",
     "output_type": "stream",
     "text": [
      "\n"
     ]
    }
   ],
   "source": [
    "import numpy as np\n",
    "import xgboost as xgb\n",
    "from sklearn.metrics import mean_squared_error\n",
    "from sklearn.model_selection import StratifiedKFold\n",
    "import random\n",
    "\n",
    "def random_param_search_xgb(train_feats, test_feats, n_iterations):\n",
    "    # Define parameter ranges\n",
    "    param_ranges = {\n",
    "        'booster': ['gbtree'],\n",
    "        'max_depth': (3, 10),  # Range for max_depth\n",
    "        'learning_rate': (0.01, 0.2),  # Range for learning_rate\n",
    "        'min_child_weight': (1, 6),  # Range for min_child_weight\n",
    "        'gamma': (0, 0.5),  # Range for gamma\n",
    "        'subsample': (0.5, 1),  # Range for subsample\n",
    "        'colsample_bytree': (0.5, 1),  # Range for colsample_bytree\n",
    "    }\n",
    "\n",
    "    best_rmse = float(\"inf\")\n",
    "    best_params = None\n",
    "    test_predictions_df = pd.DataFrame()\n",
    "\n",
    "    for _ in range(n_iterations):\n",
    "\n",
    "        # Sampling parameters from ranges\n",
    "        params = {\n",
    "            'booster': random.choice(param_ranges['booster']),\n",
    "            'max_depth': random.randint(*param_ranges['max_depth']),\n",
    "            'learning_rate': random.uniform(*param_ranges['learning_rate']),\n",
    "            'min_child_weight': random.randint(*param_ranges['min_child_weight']),\n",
    "            'gamma': random.uniform(*param_ranges['gamma']),\n",
    "            'subsample': random.uniform(*param_ranges['subsample']),\n",
    "            'colsample_bytree': random.uniform(*param_ranges['colsample_bytree']),\n",
    "            'device': 'cuda',\n",
    "        }\n",
    "        \n",
    "        # Train and evaluate model\n",
    "        booster = params['booster']\n",
    "        _, _, rmse, model = xgb_cv_pipeline(train_feats, test_feats, params)\n",
    "                                        \n",
    "        new_iter = {'rmse': [rmse],\n",
    "                    'params': str(model.get_params())}\n",
    "\n",
    "        test_predictions_df = pd.concat([test_predictions_df, pd.DataFrame(data=new_iter)])\n",
    "        # Update best parameters if current model is better\n",
    "        if rmse < best_rmse:\n",
    "            print(f\"New best RMSE: {rmse:.6f}\")\n",
    "            best_rmse = rmse\n",
    "            best_params = model.get_params()\n",
    "    \n",
    "    print(f\"Best RMSE: {best_rmse:.6f}\")\n",
    "    print(\"Best Parameters:\", best_params)\n",
    "    return test_predictions_df\n",
    "\n",
    "# Example usage\n",
    "test_predictions_df_xgb = random_param_search_xgb(train_feats, test_feats, 300)\n",
    "test_predictions_df_xgb.sort_values('rmse').to_csv('params_xgb.csv', index=False)"
   ]
  },
  {
   "cell_type": "code",
   "execution_count": 4,
   "metadata": {},
   "outputs": [
    {
     "name": "stderr",
     "output_type": "stream",
     "text": [
      "Iterations:   0%|          | 0/5 [00:00<?, ?it/s]"
     ]
    },
    {
     "name": "stderr",
     "output_type": "stream",
     "text": [
      "Iterations: 100%|██████████| 5/5 [01:37<00:00, 19.58s/it]\n"
     ]
    },
    {
     "name": "stdout",
     "output_type": "stream",
     "text": [
      "XGB Average RMSE over 50 folds: 0.609284\n",
      "New best RMSE: 0.609284\n"
     ]
    },
    {
     "name": "stderr",
     "output_type": "stream",
     "text": [
      "Iterations: 100%|██████████| 5/5 [02:32<00:00, 30.53s/it]\n"
     ]
    },
    {
     "name": "stdout",
     "output_type": "stream",
     "text": [
      "XGB Average RMSE over 50 folds: 0.615890\n"
     ]
    },
    {
     "name": "stderr",
     "output_type": "stream",
     "text": [
      "Iterations: 100%|██████████| 5/5 [02:03<00:00, 24.72s/it]\n"
     ]
    },
    {
     "name": "stdout",
     "output_type": "stream",
     "text": [
      "XGB Average RMSE over 50 folds: 0.611885\n"
     ]
    },
    {
     "name": "stderr",
     "output_type": "stream",
     "text": [
      "Iterations: 100%|██████████| 5/5 [01:11<00:00, 14.36s/it]\n"
     ]
    },
    {
     "name": "stdout",
     "output_type": "stream",
     "text": [
      "XGB Average RMSE over 50 folds: 0.612129\n"
     ]
    },
    {
     "name": "stderr",
     "output_type": "stream",
     "text": [
      "Iterations: 100%|██████████| 5/5 [01:16<00:00, 15.21s/it]\n"
     ]
    },
    {
     "name": "stdout",
     "output_type": "stream",
     "text": [
      "XGB Average RMSE over 50 folds: 0.611918\n"
     ]
    },
    {
     "name": "stderr",
     "output_type": "stream",
     "text": [
      "Iterations: 100%|██████████| 5/5 [01:09<00:00, 13.96s/it]\n"
     ]
    },
    {
     "name": "stdout",
     "output_type": "stream",
     "text": [
      "XGB Average RMSE over 50 folds: 0.615517\n"
     ]
    },
    {
     "name": "stderr",
     "output_type": "stream",
     "text": [
      "Iterations: 100%|██████████| 5/5 [01:27<00:00, 17.44s/it]\n"
     ]
    },
    {
     "name": "stdout",
     "output_type": "stream",
     "text": [
      "XGB Average RMSE over 50 folds: 0.615626\n"
     ]
    },
    {
     "name": "stderr",
     "output_type": "stream",
     "text": [
      "Iterations: 100%|██████████| 5/5 [00:56<00:00, 11.24s/it]\n"
     ]
    },
    {
     "name": "stdout",
     "output_type": "stream",
     "text": [
      "XGB Average RMSE over 50 folds: 0.607809\n",
      "New best RMSE: 0.607809\n"
     ]
    },
    {
     "name": "stderr",
     "output_type": "stream",
     "text": [
      "Iterations: 100%|██████████| 5/5 [00:54<00:00, 10.91s/it]\n"
     ]
    },
    {
     "name": "stdout",
     "output_type": "stream",
     "text": [
      "XGB Average RMSE over 50 folds: 0.608097\n"
     ]
    },
    {
     "name": "stderr",
     "output_type": "stream",
     "text": [
      "Iterations: 100%|██████████| 5/5 [01:48<00:00, 21.67s/it]\n"
     ]
    },
    {
     "name": "stdout",
     "output_type": "stream",
     "text": [
      "XGB Average RMSE over 50 folds: 0.616524\n"
     ]
    },
    {
     "name": "stderr",
     "output_type": "stream",
     "text": [
      "Iterations: 100%|██████████| 5/5 [01:19<00:00, 15.99s/it]\n"
     ]
    },
    {
     "name": "stdout",
     "output_type": "stream",
     "text": [
      "XGB Average RMSE over 50 folds: 0.610793\n"
     ]
    },
    {
     "name": "stderr",
     "output_type": "stream",
     "text": [
      "Iterations: 100%|██████████| 5/5 [00:38<00:00,  7.60s/it]\n"
     ]
    },
    {
     "name": "stdout",
     "output_type": "stream",
     "text": [
      "XGB Average RMSE over 50 folds: 0.611270\n"
     ]
    },
    {
     "name": "stderr",
     "output_type": "stream",
     "text": [
      "Iterations: 100%|██████████| 5/5 [02:03<00:00, 24.68s/it]\n"
     ]
    },
    {
     "name": "stdout",
     "output_type": "stream",
     "text": [
      "XGB Average RMSE over 50 folds: 0.619423\n"
     ]
    },
    {
     "name": "stderr",
     "output_type": "stream",
     "text": [
      "Iterations: 100%|██████████| 5/5 [01:05<00:00, 13.10s/it]\n"
     ]
    },
    {
     "name": "stdout",
     "output_type": "stream",
     "text": [
      "XGB Average RMSE over 50 folds: 0.619322\n"
     ]
    },
    {
     "name": "stderr",
     "output_type": "stream",
     "text": [
      "Iterations: 100%|██████████| 5/5 [01:13<00:00, 14.68s/it]\n"
     ]
    },
    {
     "name": "stdout",
     "output_type": "stream",
     "text": [
      "XGB Average RMSE over 50 folds: 0.617422\n"
     ]
    },
    {
     "name": "stderr",
     "output_type": "stream",
     "text": [
      "Iterations: 100%|██████████| 5/5 [01:16<00:00, 15.39s/it]\n"
     ]
    },
    {
     "name": "stdout",
     "output_type": "stream",
     "text": [
      "XGB Average RMSE over 50 folds: 0.614616\n"
     ]
    },
    {
     "name": "stderr",
     "output_type": "stream",
     "text": [
      "Iterations: 100%|██████████| 5/5 [03:05<00:00, 37.16s/it]\n"
     ]
    },
    {
     "name": "stdout",
     "output_type": "stream",
     "text": [
      "XGB Average RMSE over 50 folds: 0.617315\n"
     ]
    },
    {
     "name": "stderr",
     "output_type": "stream",
     "text": [
      "Iterations: 100%|██████████| 5/5 [01:09<00:00, 13.81s/it]\n"
     ]
    },
    {
     "name": "stdout",
     "output_type": "stream",
     "text": [
      "XGB Average RMSE over 50 folds: 0.611415\n"
     ]
    },
    {
     "name": "stderr",
     "output_type": "stream",
     "text": [
      "Iterations: 100%|██████████| 5/5 [03:06<00:00, 37.38s/it]\n"
     ]
    },
    {
     "name": "stdout",
     "output_type": "stream",
     "text": [
      "XGB Average RMSE over 50 folds: 0.617684\n"
     ]
    },
    {
     "name": "stderr",
     "output_type": "stream",
     "text": [
      "Iterations: 100%|██████████| 5/5 [03:27<00:00, 41.60s/it]\n"
     ]
    },
    {
     "name": "stdout",
     "output_type": "stream",
     "text": [
      "XGB Average RMSE over 50 folds: 0.619502\n"
     ]
    },
    {
     "name": "stderr",
     "output_type": "stream",
     "text": [
      "Iterations: 100%|██████████| 5/5 [01:04<00:00, 12.99s/it]\n"
     ]
    },
    {
     "name": "stdout",
     "output_type": "stream",
     "text": [
      "XGB Average RMSE over 50 folds: 0.607457\n",
      "New best RMSE: 0.607457\n"
     ]
    },
    {
     "name": "stderr",
     "output_type": "stream",
     "text": [
      "Iterations: 100%|██████████| 5/5 [01:31<00:00, 18.36s/it]\n"
     ]
    },
    {
     "name": "stdout",
     "output_type": "stream",
     "text": [
      "XGB Average RMSE over 50 folds: 0.617566\n"
     ]
    },
    {
     "name": "stderr",
     "output_type": "stream",
     "text": [
      "Iterations: 100%|██████████| 5/5 [00:37<00:00,  7.52s/it]\n"
     ]
    },
    {
     "name": "stdout",
     "output_type": "stream",
     "text": [
      "XGB Average RMSE over 50 folds: 0.604966\n",
      "New best RMSE: 0.604966\n"
     ]
    },
    {
     "name": "stderr",
     "output_type": "stream",
     "text": [
      "Iterations: 100%|██████████| 5/5 [03:12<00:00, 38.55s/it]\n"
     ]
    },
    {
     "name": "stdout",
     "output_type": "stream",
     "text": [
      "XGB Average RMSE over 50 folds: 0.624426\n"
     ]
    },
    {
     "name": "stderr",
     "output_type": "stream",
     "text": [
      "Iterations: 100%|██████████| 5/5 [01:16<00:00, 15.24s/it]\n"
     ]
    },
    {
     "name": "stdout",
     "output_type": "stream",
     "text": [
      "XGB Average RMSE over 50 folds: 0.616001\n"
     ]
    },
    {
     "name": "stderr",
     "output_type": "stream",
     "text": [
      "Iterations: 100%|██████████| 5/5 [01:41<00:00, 20.31s/it]\n"
     ]
    },
    {
     "name": "stdout",
     "output_type": "stream",
     "text": [
      "XGB Average RMSE over 50 folds: 0.623767\n"
     ]
    },
    {
     "name": "stderr",
     "output_type": "stream",
     "text": [
      "Iterations: 100%|██████████| 5/5 [01:46<00:00, 21.35s/it]\n"
     ]
    },
    {
     "name": "stdout",
     "output_type": "stream",
     "text": [
      "XGB Average RMSE over 50 folds: 0.623887\n"
     ]
    },
    {
     "name": "stderr",
     "output_type": "stream",
     "text": [
      "Iterations: 100%|██████████| 5/5 [00:50<00:00, 10.16s/it]\n"
     ]
    },
    {
     "name": "stdout",
     "output_type": "stream",
     "text": [
      "XGB Average RMSE over 50 folds: 0.625044\n"
     ]
    },
    {
     "name": "stderr",
     "output_type": "stream",
     "text": [
      "Iterations: 100%|██████████| 5/5 [04:03<00:00, 48.74s/it]\n"
     ]
    },
    {
     "name": "stdout",
     "output_type": "stream",
     "text": [
      "XGB Average RMSE over 50 folds: 0.626521\n"
     ]
    },
    {
     "name": "stderr",
     "output_type": "stream",
     "text": [
      "Iterations: 100%|██████████| 5/5 [01:04<00:00, 12.93s/it]\n"
     ]
    },
    {
     "name": "stdout",
     "output_type": "stream",
     "text": [
      "XGB Average RMSE over 50 folds: 0.619984\n"
     ]
    },
    {
     "name": "stderr",
     "output_type": "stream",
     "text": [
      "Iterations: 100%|██████████| 5/5 [01:06<00:00, 13.21s/it]\n"
     ]
    },
    {
     "name": "stdout",
     "output_type": "stream",
     "text": [
      "XGB Average RMSE over 50 folds: 0.613885\n"
     ]
    },
    {
     "name": "stderr",
     "output_type": "stream",
     "text": [
      "Iterations: 100%|██████████| 5/5 [00:49<00:00,  9.89s/it]\n"
     ]
    },
    {
     "name": "stdout",
     "output_type": "stream",
     "text": [
      "XGB Average RMSE over 50 folds: 0.634410\n"
     ]
    },
    {
     "name": "stderr",
     "output_type": "stream",
     "text": [
      "Iterations: 100%|██████████| 5/5 [00:49<00:00,  9.97s/it]\n"
     ]
    },
    {
     "name": "stdout",
     "output_type": "stream",
     "text": [
      "XGB Average RMSE over 50 folds: 0.610037\n"
     ]
    },
    {
     "name": "stderr",
     "output_type": "stream",
     "text": [
      "Iterations: 100%|██████████| 5/5 [01:56<00:00, 23.31s/it]\n"
     ]
    },
    {
     "name": "stdout",
     "output_type": "stream",
     "text": [
      "XGB Average RMSE over 50 folds: 0.625043\n"
     ]
    },
    {
     "name": "stderr",
     "output_type": "stream",
     "text": [
      "Iterations: 100%|██████████| 5/5 [01:56<00:00, 23.39s/it]\n"
     ]
    },
    {
     "name": "stdout",
     "output_type": "stream",
     "text": [
      "XGB Average RMSE over 50 folds: 0.654091\n"
     ]
    },
    {
     "name": "stderr",
     "output_type": "stream",
     "text": [
      "Iterations: 100%|██████████| 5/5 [00:49<00:00,  9.92s/it]\n"
     ]
    },
    {
     "name": "stdout",
     "output_type": "stream",
     "text": [
      "XGB Average RMSE over 50 folds: 0.627268\n"
     ]
    },
    {
     "name": "stderr",
     "output_type": "stream",
     "text": [
      "Iterations: 100%|██████████| 5/5 [04:10<00:00, 50.02s/it]\n"
     ]
    },
    {
     "name": "stdout",
     "output_type": "stream",
     "text": [
      "XGB Average RMSE over 50 folds: 0.644127\n"
     ]
    },
    {
     "name": "stderr",
     "output_type": "stream",
     "text": [
      "Iterations: 100%|██████████| 5/5 [01:19<00:00, 15.83s/it]\n"
     ]
    },
    {
     "name": "stdout",
     "output_type": "stream",
     "text": [
      "XGB Average RMSE over 50 folds: 0.609929\n"
     ]
    },
    {
     "name": "stderr",
     "output_type": "stream",
     "text": [
      "Iterations: 100%|██████████| 5/5 [01:35<00:00, 19.04s/it]\n"
     ]
    },
    {
     "name": "stdout",
     "output_type": "stream",
     "text": [
      "XGB Average RMSE over 50 folds: 0.611669\n"
     ]
    },
    {
     "name": "stderr",
     "output_type": "stream",
     "text": [
      "Iterations: 100%|██████████| 5/5 [01:14<00:00, 14.99s/it]\n"
     ]
    },
    {
     "name": "stdout",
     "output_type": "stream",
     "text": [
      "XGB Average RMSE over 50 folds: 0.612679\n"
     ]
    },
    {
     "name": "stderr",
     "output_type": "stream",
     "text": [
      "Iterations: 100%|██████████| 5/5 [00:47<00:00,  9.56s/it]\n"
     ]
    },
    {
     "name": "stdout",
     "output_type": "stream",
     "text": [
      "XGB Average RMSE over 50 folds: 0.605320\n"
     ]
    },
    {
     "name": "stderr",
     "output_type": "stream",
     "text": [
      "Iterations:  40%|████      | 2/5 [02:32<03:49, 76.41s/it]\n"
     ]
    },
    {
     "ename": "KeyboardInterrupt",
     "evalue": "",
     "output_type": "error",
     "traceback": [
      "\u001b[0;31m---------------------------------------------------------------------------\u001b[0m",
      "\u001b[0;31mKeyboardInterrupt\u001b[0m                         Traceback (most recent call last)",
      "\u001b[1;32m/root/Projects/Kaggle/linking-writing/SPF_lgbm_randomsearch.ipynb Cell 4\u001b[0m line \u001b[0;36m5\n\u001b[1;32m     <a href='vscode-notebook-cell://wsl%2Bubuntu/root/Projects/Kaggle/linking-writing/SPF_lgbm_randomsearch.ipynb#X14sdnNjb2RlLXJlbW90ZQ%3D%3D?line=52'>53</a>\u001b[0m     \u001b[39mreturn\u001b[39;00m test_predictions_df\n\u001b[1;32m     <a href='vscode-notebook-cell://wsl%2Bubuntu/root/Projects/Kaggle/linking-writing/SPF_lgbm_randomsearch.ipynb#X14sdnNjb2RlLXJlbW90ZQ%3D%3D?line=54'>55</a>\u001b[0m \u001b[39m# Example usage\u001b[39;00m\n\u001b[0;32m---> <a href='vscode-notebook-cell://wsl%2Bubuntu/root/Projects/Kaggle/linking-writing/SPF_lgbm_randomsearch.ipynb#X14sdnNjb2RlLXJlbW90ZQ%3D%3D?line=55'>56</a>\u001b[0m test_predictions_df_xgb \u001b[39m=\u001b[39m random_param_search_xgb(train_feats, test_feats, \u001b[39m850\u001b[39;49m)\n\u001b[1;32m     <a href='vscode-notebook-cell://wsl%2Bubuntu/root/Projects/Kaggle/linking-writing/SPF_lgbm_randomsearch.ipynb#X14sdnNjb2RlLXJlbW90ZQ%3D%3D?line=56'>57</a>\u001b[0m test_predictions_df_xgb\u001b[39m.\u001b[39msort_values(\u001b[39m'\u001b[39m\u001b[39mrmse\u001b[39m\u001b[39m'\u001b[39m)\u001b[39m.\u001b[39mto_csv(\u001b[39m'\u001b[39m\u001b[39mparams_xgb2.csv\u001b[39m\u001b[39m'\u001b[39m, index\u001b[39m=\u001b[39m\u001b[39mFalse\u001b[39;00m)\n",
      "\u001b[1;32m/root/Projects/Kaggle/linking-writing/SPF_lgbm_randomsearch.ipynb Cell 4\u001b[0m line \u001b[0;36m3\n\u001b[1;32m     <a href='vscode-notebook-cell://wsl%2Bubuntu/root/Projects/Kaggle/linking-writing/SPF_lgbm_randomsearch.ipynb#X14sdnNjb2RlLXJlbW90ZQ%3D%3D?line=36'>37</a>\u001b[0m \u001b[39m# Train and evaluate model\u001b[39;00m\n\u001b[1;32m     <a href='vscode-notebook-cell://wsl%2Bubuntu/root/Projects/Kaggle/linking-writing/SPF_lgbm_randomsearch.ipynb#X14sdnNjb2RlLXJlbW90ZQ%3D%3D?line=37'>38</a>\u001b[0m booster \u001b[39m=\u001b[39m params[\u001b[39m'\u001b[39m\u001b[39mbooster\u001b[39m\u001b[39m'\u001b[39m]\n\u001b[0;32m---> <a href='vscode-notebook-cell://wsl%2Bubuntu/root/Projects/Kaggle/linking-writing/SPF_lgbm_randomsearch.ipynb#X14sdnNjb2RlLXJlbW90ZQ%3D%3D?line=38'>39</a>\u001b[0m _, _, rmse, model \u001b[39m=\u001b[39m xgb_cv_pipeline(train_feats, test_feats, params)\n\u001b[1;32m     <a href='vscode-notebook-cell://wsl%2Bubuntu/root/Projects/Kaggle/linking-writing/SPF_lgbm_randomsearch.ipynb#X14sdnNjb2RlLXJlbW90ZQ%3D%3D?line=40'>41</a>\u001b[0m new_iter \u001b[39m=\u001b[39m {\u001b[39m'\u001b[39m\u001b[39mrmse\u001b[39m\u001b[39m'\u001b[39m: [rmse],\n\u001b[1;32m     <a href='vscode-notebook-cell://wsl%2Bubuntu/root/Projects/Kaggle/linking-writing/SPF_lgbm_randomsearch.ipynb#X14sdnNjb2RlLXJlbW90ZQ%3D%3D?line=41'>42</a>\u001b[0m             \u001b[39m'\u001b[39m\u001b[39mparams\u001b[39m\u001b[39m'\u001b[39m: \u001b[39mstr\u001b[39m(model\u001b[39m.\u001b[39mget_params())}\n\u001b[1;32m     <a href='vscode-notebook-cell://wsl%2Bubuntu/root/Projects/Kaggle/linking-writing/SPF_lgbm_randomsearch.ipynb#X14sdnNjb2RlLXJlbW90ZQ%3D%3D?line=43'>44</a>\u001b[0m test_predictions_df \u001b[39m=\u001b[39m pd\u001b[39m.\u001b[39mconcat([test_predictions_df, pd\u001b[39m.\u001b[39mDataFrame(data\u001b[39m=\u001b[39mnew_iter)])\n",
      "File \u001b[0;32m~/Projects/Kaggle/linking-writing/m5_models.py:191\u001b[0m, in \u001b[0;36mxgb_cv_pipeline\u001b[0;34m(train_feats, test_feats, xgb_params, seed, n_repeats, n_splits)\u001b[0m\n\u001b[1;32m    188\u001b[0m train_feats\u001b[39m.\u001b[39mreplace([np\u001b[39m.\u001b[39minf, \u001b[39m-\u001b[39mnp\u001b[39m.\u001b[39minf], np\u001b[39m.\u001b[39mnan, inplace\u001b[39m=\u001b[39m\u001b[39mTrue\u001b[39;00m)\n\u001b[1;32m    189\u001b[0m test_feats\u001b[39m.\u001b[39mreplace([np\u001b[39m.\u001b[39minf, \u001b[39m-\u001b[39mnp\u001b[39m.\u001b[39minf], np\u001b[39m.\u001b[39mnan, inplace\u001b[39m=\u001b[39m\u001b[39mTrue\u001b[39;00m)\n\u001b[0;32m--> 191\u001b[0m test_preds, oof_preds, rmse, model \u001b[39m=\u001b[39m run_xgb_cv(train_feats\u001b[39m=\u001b[39;49mtrain_feats, test_feats\u001b[39m=\u001b[39;49mtest_feats, \n\u001b[1;32m    192\u001b[0m                   train_cols\u001b[39m=\u001b[39;49mtrain_cols, target_col\u001b[39m=\u001b[39;49mtarget_col, \n\u001b[1;32m    193\u001b[0m                   xgb_params\u001b[39m=\u001b[39;49mxgb_params,\n\u001b[1;32m    194\u001b[0m                   seed\u001b[39m=\u001b[39;49mseed, n_repeats\u001b[39m=\u001b[39;49mn_repeats, n_splits\u001b[39m=\u001b[39;49mn_splits)\n\u001b[1;32m    196\u001b[0m \u001b[39mreturn\u001b[39;00m test_preds, oof_preds, rmse, model\n",
      "File \u001b[0;32m~/Projects/Kaggle/linking-writing/m5_models.py:162\u001b[0m, in \u001b[0;36mrun_xgb_cv\u001b[0;34m(train_feats, test_feats, train_cols, target_col, xgb_params, seed, n_repeats, n_splits)\u001b[0m\n\u001b[1;32m    159\u001b[0m X_valid, y_valid \u001b[39m=\u001b[39m X\u001b[39m.\u001b[39mloc[valid_idx], y\u001b[39m.\u001b[39mloc[valid_idx]\n\u001b[1;32m    161\u001b[0m model_xgb \u001b[39m=\u001b[39m xgb\u001b[39m.\u001b[39mXGBRegressor(\u001b[39m*\u001b[39m\u001b[39m*\u001b[39mxgb_params)\u001b[39m.\u001b[39mset_params(early_stopping_rounds\u001b[39m=\u001b[39m\u001b[39m250\u001b[39m, random_state \u001b[39m=\u001b[39m seed)\n\u001b[0;32m--> 162\u001b[0m valid_preds_xgb, test_preds_xgb \u001b[39m=\u001b[39m run_xgb_model(model_xgb, \n\u001b[1;32m    163\u001b[0m                                    X_train, y_train, \n\u001b[1;32m    164\u001b[0m                                    X_valid, y_valid, \n\u001b[1;32m    165\u001b[0m                                    X_test)\n\u001b[1;32m    167\u001b[0m test_preds_list\u001b[39m.\u001b[39mappend(test_preds_xgb)\n\u001b[1;32m    169\u001b[0m tmp_df \u001b[39m=\u001b[39m train_feats\u001b[39m.\u001b[39mloc[valid_idx][[\u001b[39m'\u001b[39m\u001b[39mid\u001b[39m\u001b[39m'\u001b[39m,\u001b[39m'\u001b[39m\u001b[39mscore\u001b[39m\u001b[39m'\u001b[39m]]\n",
      "File \u001b[0;32m~/Projects/Kaggle/linking-writing/m5_models.py:24\u001b[0m, in \u001b[0;36mrun_xgb_model\u001b[0;34m(model, X_train, y_train, X_valid, y_valid, X_test)\u001b[0m\n\u001b[1;32m     23\u001b[0m \u001b[39mdef\u001b[39;00m \u001b[39mrun_xgb_model\u001b[39m(model, X_train, y_train, X_valid, y_valid, X_test):\n\u001b[0;32m---> 24\u001b[0m     model\u001b[39m.\u001b[39;49mfit(\n\u001b[1;32m     25\u001b[0m         X_train, y_train, \n\u001b[1;32m     26\u001b[0m         eval_set\u001b[39m=\u001b[39;49m[(X_valid, y_valid)],\n\u001b[1;32m     27\u001b[0m         verbose\u001b[39m=\u001b[39;49m\u001b[39mFalse\u001b[39;49;00m\n\u001b[1;32m     28\u001b[0m     )\n\u001b[1;32m     29\u001b[0m     valid_predictions \u001b[39m=\u001b[39m model\u001b[39m.\u001b[39mpredict(X_valid)\n\u001b[1;32m     30\u001b[0m     test_predictions \u001b[39m=\u001b[39m model\u001b[39m.\u001b[39mpredict(X_test)\n",
      "File \u001b[0;32m~/miniconda3/envs/lrp/lib/python3.10/site-packages/xgboost/core.py:729\u001b[0m, in \u001b[0;36mrequire_keyword_args.<locals>.throw_if.<locals>.inner_f\u001b[0;34m(*args, **kwargs)\u001b[0m\n\u001b[1;32m    727\u001b[0m \u001b[39mfor\u001b[39;00m k, arg \u001b[39min\u001b[39;00m \u001b[39mzip\u001b[39m(sig\u001b[39m.\u001b[39mparameters, args):\n\u001b[1;32m    728\u001b[0m     kwargs[k] \u001b[39m=\u001b[39m arg\n\u001b[0;32m--> 729\u001b[0m \u001b[39mreturn\u001b[39;00m func(\u001b[39m*\u001b[39;49m\u001b[39m*\u001b[39;49mkwargs)\n",
      "File \u001b[0;32m~/miniconda3/envs/lrp/lib/python3.10/site-packages/xgboost/sklearn.py:1086\u001b[0m, in \u001b[0;36mXGBModel.fit\u001b[0;34m(self, X, y, sample_weight, base_margin, eval_set, eval_metric, early_stopping_rounds, verbose, xgb_model, sample_weight_eval_set, base_margin_eval_set, feature_weights, callbacks)\u001b[0m\n\u001b[1;32m   1075\u001b[0m     obj \u001b[39m=\u001b[39m \u001b[39mNone\u001b[39;00m\n\u001b[1;32m   1077\u001b[0m (\n\u001b[1;32m   1078\u001b[0m     model,\n\u001b[1;32m   1079\u001b[0m     metric,\n\u001b[0;32m   (...)\u001b[0m\n\u001b[1;32m   1084\u001b[0m     xgb_model, eval_metric, params, early_stopping_rounds, callbacks\n\u001b[1;32m   1085\u001b[0m )\n\u001b[0;32m-> 1086\u001b[0m \u001b[39mself\u001b[39m\u001b[39m.\u001b[39m_Booster \u001b[39m=\u001b[39m train(\n\u001b[1;32m   1087\u001b[0m     params,\n\u001b[1;32m   1088\u001b[0m     train_dmatrix,\n\u001b[1;32m   1089\u001b[0m     \u001b[39mself\u001b[39;49m\u001b[39m.\u001b[39;49mget_num_boosting_rounds(),\n\u001b[1;32m   1090\u001b[0m     evals\u001b[39m=\u001b[39;49mevals,\n\u001b[1;32m   1091\u001b[0m     early_stopping_rounds\u001b[39m=\u001b[39;49mearly_stopping_rounds,\n\u001b[1;32m   1092\u001b[0m     evals_result\u001b[39m=\u001b[39;49mevals_result,\n\u001b[1;32m   1093\u001b[0m     obj\u001b[39m=\u001b[39;49mobj,\n\u001b[1;32m   1094\u001b[0m     custom_metric\u001b[39m=\u001b[39;49mmetric,\n\u001b[1;32m   1095\u001b[0m     verbose_eval\u001b[39m=\u001b[39;49mverbose,\n\u001b[1;32m   1096\u001b[0m     xgb_model\u001b[39m=\u001b[39;49mmodel,\n\u001b[1;32m   1097\u001b[0m     callbacks\u001b[39m=\u001b[39;49mcallbacks,\n\u001b[1;32m   1098\u001b[0m )\n\u001b[1;32m   1100\u001b[0m \u001b[39mself\u001b[39m\u001b[39m.\u001b[39m_set_evaluation_result(evals_result)\n\u001b[1;32m   1101\u001b[0m \u001b[39mreturn\u001b[39;00m \u001b[39mself\u001b[39m\n",
      "File \u001b[0;32m~/miniconda3/envs/lrp/lib/python3.10/site-packages/xgboost/core.py:729\u001b[0m, in \u001b[0;36mrequire_keyword_args.<locals>.throw_if.<locals>.inner_f\u001b[0;34m(*args, **kwargs)\u001b[0m\n\u001b[1;32m    727\u001b[0m \u001b[39mfor\u001b[39;00m k, arg \u001b[39min\u001b[39;00m \u001b[39mzip\u001b[39m(sig\u001b[39m.\u001b[39mparameters, args):\n\u001b[1;32m    728\u001b[0m     kwargs[k] \u001b[39m=\u001b[39m arg\n\u001b[0;32m--> 729\u001b[0m \u001b[39mreturn\u001b[39;00m func(\u001b[39m*\u001b[39;49m\u001b[39m*\u001b[39;49mkwargs)\n",
      "File \u001b[0;32m~/miniconda3/envs/lrp/lib/python3.10/site-packages/xgboost/training.py:181\u001b[0m, in \u001b[0;36mtrain\u001b[0;34m(params, dtrain, num_boost_round, evals, obj, feval, maximize, early_stopping_rounds, evals_result, verbose_eval, xgb_model, callbacks, custom_metric)\u001b[0m\n\u001b[1;32m    179\u001b[0m \u001b[39mif\u001b[39;00m cb_container\u001b[39m.\u001b[39mbefore_iteration(bst, i, dtrain, evals):\n\u001b[1;32m    180\u001b[0m     \u001b[39mbreak\u001b[39;00m\n\u001b[0;32m--> 181\u001b[0m bst\u001b[39m.\u001b[39;49mupdate(dtrain, i, obj)\n\u001b[1;32m    182\u001b[0m \u001b[39mif\u001b[39;00m cb_container\u001b[39m.\u001b[39mafter_iteration(bst, i, dtrain, evals):\n\u001b[1;32m    183\u001b[0m     \u001b[39mbreak\u001b[39;00m\n",
      "File \u001b[0;32m~/miniconda3/envs/lrp/lib/python3.10/site-packages/xgboost/core.py:2050\u001b[0m, in \u001b[0;36mBooster.update\u001b[0;34m(self, dtrain, iteration, fobj)\u001b[0m\n\u001b[1;32m   2046\u001b[0m \u001b[39mself\u001b[39m\u001b[39m.\u001b[39m_assign_dmatrix_features(dtrain)\n\u001b[1;32m   2048\u001b[0m \u001b[39mif\u001b[39;00m fobj \u001b[39mis\u001b[39;00m \u001b[39mNone\u001b[39;00m:\n\u001b[1;32m   2049\u001b[0m     _check_call(\n\u001b[0;32m-> 2050\u001b[0m         _LIB\u001b[39m.\u001b[39;49mXGBoosterUpdateOneIter(\n\u001b[1;32m   2051\u001b[0m             \u001b[39mself\u001b[39;49m\u001b[39m.\u001b[39;49mhandle, ctypes\u001b[39m.\u001b[39;49mc_int(iteration), dtrain\u001b[39m.\u001b[39;49mhandle\n\u001b[1;32m   2052\u001b[0m         )\n\u001b[1;32m   2053\u001b[0m     )\n\u001b[1;32m   2054\u001b[0m \u001b[39melse\u001b[39;00m:\n\u001b[1;32m   2055\u001b[0m     pred \u001b[39m=\u001b[39m \u001b[39mself\u001b[39m\u001b[39m.\u001b[39mpredict(dtrain, output_margin\u001b[39m=\u001b[39m\u001b[39mTrue\u001b[39;00m, training\u001b[39m=\u001b[39m\u001b[39mTrue\u001b[39;00m)\n",
      "\u001b[0;31mKeyboardInterrupt\u001b[0m: "
     ]
    }
   ],
   "source": [
    "import numpy as np\n",
    "import xgboost as xgb\n",
    "from sklearn.metrics import mean_squared_error\n",
    "from sklearn.model_selection import StratifiedKFold\n",
    "import random\n",
    "\n",
    "def random_param_search_xgb(train_feats, test_feats, n_iterations):\n",
    "    # Define parameter ranges\n",
    "    param_ranges = {\n",
    "        'booster': ['gbtree'],\n",
    "        'max_depth': (3, 10),  # Range for max_depth\n",
    "        'learning_rate': (0.01, 0.2),  # Range for learning_rate\n",
    "        'min_child_weight': (1, 6),  # Range for min_child_weight\n",
    "        'gamma': (0, 0.5),  # Range for gamma\n",
    "        'subsample': (0.5, 1),  # Range for subsample\n",
    "        'colsample_bytree': (0.5, 1),  # Range for colsample_bytree\n",
    "    }\n",
    "\n",
    "    best_rmse = float(\"inf\")\n",
    "    best_params = None\n",
    "    test_predictions_df = pd.DataFrame()\n",
    "\n",
    "    for _ in range(n_iterations):\n",
    "\n",
    "        # Sampling parameters from ranges\n",
    "        params = {\n",
    "            'booster': random.choice(param_ranges['booster']),\n",
    "            'max_depth': random.randint(*param_ranges['max_depth']),\n",
    "            'learning_rate': random.uniform(*param_ranges['learning_rate']),\n",
    "            'min_child_weight': random.randint(*param_ranges['min_child_weight']),\n",
    "            'gamma': random.uniform(*param_ranges['gamma']),\n",
    "            'subsample': random.uniform(*param_ranges['subsample']),\n",
    "            'colsample_bytree': random.uniform(*param_ranges['colsample_bytree']),\n",
    "            'device': 'cuda',\n",
    "        }\n",
    "        \n",
    "        # Train and evaluate model\n",
    "        booster = params['booster']\n",
    "        _, _, rmse, model = xgb_cv_pipeline(train_feats, test_feats, params)\n",
    "                                        \n",
    "        new_iter = {'rmse': [rmse],\n",
    "                    'params': str(model.get_params())}\n",
    "\n",
    "        test_predictions_df = pd.concat([test_predictions_df, pd.DataFrame(data=new_iter)])\n",
    "        # Update best parameters if current model is better\n",
    "        if rmse < best_rmse:\n",
    "            print(f\"New best RMSE: {rmse:.6f}\")\n",
    "            best_rmse = rmse\n",
    "            best_params = model.get_params()\n",
    "    \n",
    "    print(f\"Best RMSE: {best_rmse:.6f}\")\n",
    "    print(\"Best Parameters:\", best_params)\n",
    "    return test_predictions_df\n",
    "\n",
    "# Example usage\n",
    "test_predictions_df_xgb = random_param_search_xgb(train_feats, test_feats, 850)\n",
    "test_predictions_df_xgb.sort_values('rmse').to_csv('params_xgb2.csv', index=False)"
   ]
  },
  {
   "cell_type": "code",
   "execution_count": null,
   "metadata": {},
   "outputs": [],
   "source": [
    "import numpy as np\n",
    "import xgboost as xgb\n",
    "from sklearn.metrics import mean_squared_error\n",
    "from sklearn.model_selection import StratifiedKFold\n",
    "import random\n",
    "\n",
    "def random_param_search_xgb(train_feats, test_feats, n_iterations):\n",
    "    # Define parameter ranges\n",
    "    param_ranges = {\n",
    "        'booster': ['gbtree', 'gblinear'],\n",
    "        'max_depth': (3, 10),  # Range for max_depth\n",
    "        'learning_rate': (0.01, 0.2),  # Range for learning_rate\n",
    "        'n_estimators': (100, 1000),  # Range for n_estimators\n",
    "        'min_child_weight': (1, 6),  # Range for min_child_weight\n",
    "        'gamma': (0, 0.5),  # Range for gamma\n",
    "        'subsample': (0.5, 1),  # Range for subsample\n",
    "        'colsample_bytree': (0.5, 1),  # Range for colsample_bytree\n",
    "    }\n",
    "\n",
    "    best_rmse = float(\"inf\")\n",
    "    best_params = None\n",
    "    test_predictions_df = pd.DataFrame()\n",
    "\n",
    "    for _ in range(n_iterations):\n",
    "\n",
    "        # Sampling parameters from ranges\n",
    "        params = {\n",
    "            'booster': random.choice(param_ranges['booster']),\n",
    "            'max_depth': random.randint(*param_ranges['max_depth']),\n",
    "            'learning_rate': random.uniform(*param_ranges['learning_rate']),\n",
    "            'n_estimators': random.randint(*param_ranges['n_estimators']),\n",
    "            'min_child_weight': random.randint(*param_ranges['min_child_weight']),\n",
    "            'gamma': random.uniform(*param_ranges['gamma']),\n",
    "            'subsample': random.uniform(*param_ranges['subsample']),\n",
    "            'colsample_bytree': random.uniform(*param_ranges['colsample_bytree']),\n",
    "            'device': 'cuda',\n",
    "            'tree_method': 'hist',\n",
    "        }\n",
    "        \n",
    "        # Train and evaluate model\n",
    "        booster = params['booster']\n",
    "        _, _, rmse, model = xgb_cv_pipeline(train_feats, test_feats, params, booster)\n",
    "                                        \n",
    "        new_iter = {'rmse': [rmse],\n",
    "                    'params': str(model.get_params())}\n",
    "\n",
    "        test_predictions_df = pd.concat([test_predictions_df, pd.DataFrame(data=new_iter)])\n",
    "        # Update best parameters if current model is better\n",
    "        if rmse < best_rmse:\n",
    "            print(f\"New best RMSE: {rmse:.6f}\")\n",
    "            best_rmse = rmse\n",
    "            best_params = model.get_params()\n",
    "    \n",
    "    print(f\"Best RMSE: {best_rmse:.6f}\")\n",
    "    print(\"Best Parameters:\", best_params)\n",
    "    return test_predictions_df\n",
    "\n",
    "# Example usage\n",
    "test_predictions_df_xgb = random_param_search_xgb(train_feats, test_feats, 300)\n",
    "test_predictions_df_xgb.sort_values('rmse').to_csv('params_xgb2.csv', index=False)"
   ]
  },
  {
   "cell_type": "code",
   "execution_count": 14,
   "metadata": {},
   "outputs": [],
   "source": [
    "test_predictions_df.sort_values('rmse')"
   ]
  },
  {
   "cell_type": "code",
   "execution_count": 21,
   "metadata": {},
   "outputs": [
    {
     "data": {
      "text/plain": [
       "0    {'boosting_type': 'gbdt', 'class_weight': None...\n",
       "0    {'boosting_type': 'dart', 'class_weight': None...\n",
       "0    {'boosting_type': 'gbdt', 'class_weight': None...\n",
       "Name: params, dtype: object"
      ]
     },
     "execution_count": 21,
     "metadata": {},
     "output_type": "execute_result"
    }
   ],
   "source": [
    "test_predictions_df['params'].head(3)"
   ]
  }
 ],
 "metadata": {
  "kernelspec": {
   "display_name": "lrp",
   "language": "python",
   "name": "python3"
  },
  "language_info": {
   "codemirror_mode": {
    "name": "ipython",
    "version": 3
   },
   "file_extension": ".py",
   "mimetype": "text/x-python",
   "name": "python",
   "nbconvert_exporter": "python",
   "pygments_lexer": "ipython3",
   "version": "3.10.13"
  }
 },
 "nbformat": 4,
 "nbformat_minor": 2
}
