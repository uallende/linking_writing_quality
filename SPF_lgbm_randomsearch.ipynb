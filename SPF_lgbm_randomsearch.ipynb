{
 "cells": [
  {
   "cell_type": "code",
   "execution_count": 1,
   "metadata": {},
   "outputs": [],
   "source": [
    "import pandas as pd\n",
    "import numpy as np\n",
    "\n",
    "from m4_feats_functions import *\n",
    "from m5_models import *\n",
    "from m7_utils import *\n",
    "from m3_model_params import lgb_params_1, xgb_params\n",
    "from sklearn.metrics import mean_squared_error\n",
    "from tqdm import tqdm  # Import tqdm"
   ]
  },
  {
   "cell_type": "code",
   "execution_count": 2,
   "metadata": {},
   "outputs": [],
   "source": [
    "# Paths to the train and test directories\n",
    "INPUT_DIR = 'kaggle/input/linking-writing-processes-to-writing-quality'\n",
    "FEATURE_STORE = 'feature_store'\n",
    "train_scores = pd.read_csv(f'{INPUT_DIR}/train_scores.csv')\n",
    "train_feats = pd.read_pickle('feature_store/base_feats/train_base_feats_1.pkl')\n",
    "train_feats = train_feats.merge(train_scores, on='id', how='left')\n",
    "test_feats = pd.read_pickle('feature_store/base_feats/test_base_feats_1.pkl')\n",
    "train_dir = 'feature_store/train'\n",
    "test_dir = 'feature_store/test'\n",
    "# Usage\n",
    "seed = 42\n",
    "n_repeats = 5\n",
    "n_splits = 10\n",
    "target_col = 'score'"
   ]
  },
  {
   "cell_type": "code",
   "execution_count": 3,
   "metadata": {},
   "outputs": [
    {
     "name": "stderr",
     "output_type": "stream",
     "text": [
      "Iterations:   0%|          | 0/5 [00:00<?, ?it/s]"
     ]
    },
    {
     "name": "stderr",
     "output_type": "stream",
     "text": [
      "/root/miniconda3/envs/lrp/lib/python3.10/site-packages/xgboost/core.py:160: UserWarning: [01:11:24] WARNING: /workspace/src/common/error_msg.cc:58: Falling back to prediction using DMatrix due to mismatched devices. This might lead to higher memory usage and slower performance. XGBoost is running on: cuda:0, while the input data is on: cpu.\n",
      "Potential solutions:\n",
      "- Use a data structure that matches the device ordinal in the booster.\n",
      "- Set the device for booster before call to inplace_predict.\n",
      "\n",
      "This warning will only be shown once.\n",
      "\n",
      "  warnings.warn(smsg, UserWarning)\n",
      "Iterations: 100%|██████████| 5/5 [01:00<00:00, 12.13s/it]\n"
     ]
    },
    {
     "name": "stdout",
     "output_type": "stream",
     "text": [
      "XGB Average RMSE over 50 folds: 0.605564\n",
      "New best RMSE: 0.605564\n"
     ]
    },
    {
     "name": "stderr",
     "output_type": "stream",
     "text": [
      "Iterations: 100%|██████████| 5/5 [00:45<00:00,  9.04s/it]\n"
     ]
    },
    {
     "name": "stdout",
     "output_type": "stream",
     "text": [
      "XGB Average RMSE over 50 folds: 0.610621\n"
     ]
    },
    {
     "name": "stderr",
     "output_type": "stream",
     "text": [
      "Iterations: 100%|██████████| 5/5 [00:51<00:00, 10.31s/it]\n"
     ]
    },
    {
     "name": "stdout",
     "output_type": "stream",
     "text": [
      "XGB Average RMSE over 50 folds: 0.605486\n",
      "New best RMSE: 0.605486\n"
     ]
    },
    {
     "name": "stderr",
     "output_type": "stream",
     "text": [
      "Iterations: 100%|██████████| 5/5 [01:30<00:00, 18.09s/it]\n"
     ]
    },
    {
     "name": "stdout",
     "output_type": "stream",
     "text": [
      "XGB Average RMSE over 50 folds: 0.612971\n"
     ]
    },
    {
     "name": "stderr",
     "output_type": "stream",
     "text": [
      "Iterations: 100%|██████████| 5/5 [00:54<00:00, 10.86s/it]\n"
     ]
    },
    {
     "name": "stdout",
     "output_type": "stream",
     "text": [
      "XGB Average RMSE over 50 folds: 0.605313\n",
      "New best RMSE: 0.605313\n"
     ]
    },
    {
     "name": "stderr",
     "output_type": "stream",
     "text": [
      "Iterations: 100%|██████████| 5/5 [01:37<00:00, 19.50s/it]\n"
     ]
    },
    {
     "name": "stdout",
     "output_type": "stream",
     "text": [
      "XGB Average RMSE over 50 folds: 0.610075\n"
     ]
    },
    {
     "name": "stderr",
     "output_type": "stream",
     "text": [
      "Iterations: 100%|██████████| 5/5 [01:28<00:00, 17.75s/it]\n"
     ]
    },
    {
     "name": "stdout",
     "output_type": "stream",
     "text": [
      "XGB Average RMSE over 50 folds: 0.619221\n"
     ]
    },
    {
     "name": "stderr",
     "output_type": "stream",
     "text": [
      "Iterations: 100%|██████████| 5/5 [01:16<00:00, 15.35s/it]\n"
     ]
    },
    {
     "name": "stdout",
     "output_type": "stream",
     "text": [
      "XGB Average RMSE over 50 folds: 0.618875\n"
     ]
    },
    {
     "name": "stderr",
     "output_type": "stream",
     "text": [
      "Iterations: 100%|██████████| 5/5 [01:03<00:00, 12.67s/it]\n"
     ]
    },
    {
     "name": "stdout",
     "output_type": "stream",
     "text": [
      "XGB Average RMSE over 50 folds: 0.608810\n"
     ]
    },
    {
     "name": "stderr",
     "output_type": "stream",
     "text": [
      "Iterations: 100%|██████████| 5/5 [02:51<00:00, 34.25s/it]\n"
     ]
    },
    {
     "name": "stdout",
     "output_type": "stream",
     "text": [
      "XGB Average RMSE over 50 folds: 0.612845\n"
     ]
    },
    {
     "name": "stderr",
     "output_type": "stream",
     "text": [
      "Iterations: 100%|██████████| 5/5 [00:45<00:00,  9.12s/it]\n"
     ]
    },
    {
     "name": "stdout",
     "output_type": "stream",
     "text": [
      "XGB Average RMSE over 50 folds: 0.603630\n",
      "New best RMSE: 0.603630\n"
     ]
    },
    {
     "name": "stderr",
     "output_type": "stream",
     "text": [
      "Iterations: 100%|██████████| 5/5 [01:22<00:00, 16.57s/it]\n"
     ]
    },
    {
     "name": "stdout",
     "output_type": "stream",
     "text": [
      "XGB Average RMSE over 50 folds: 0.617918\n"
     ]
    },
    {
     "name": "stderr",
     "output_type": "stream",
     "text": [
      "Iterations: 100%|██████████| 5/5 [01:20<00:00, 16.04s/it]\n"
     ]
    },
    {
     "name": "stdout",
     "output_type": "stream",
     "text": [
      "XGB Average RMSE over 50 folds: 0.612510\n"
     ]
    },
    {
     "name": "stderr",
     "output_type": "stream",
     "text": [
      "Iterations: 100%|██████████| 5/5 [01:33<00:00, 18.71s/it]\n"
     ]
    },
    {
     "name": "stdout",
     "output_type": "stream",
     "text": [
      "XGB Average RMSE over 50 folds: 0.620184\n"
     ]
    },
    {
     "name": "stderr",
     "output_type": "stream",
     "text": [
      "Iterations: 100%|██████████| 5/5 [02:44<00:00, 32.86s/it]\n"
     ]
    },
    {
     "name": "stdout",
     "output_type": "stream",
     "text": [
      "XGB Average RMSE over 50 folds: 0.645800\n"
     ]
    },
    {
     "name": "stderr",
     "output_type": "stream",
     "text": [
      "Iterations: 100%|██████████| 5/5 [01:16<00:00, 15.33s/it]\n"
     ]
    },
    {
     "name": "stdout",
     "output_type": "stream",
     "text": [
      "XGB Average RMSE over 50 folds: 0.612408\n"
     ]
    },
    {
     "name": "stderr",
     "output_type": "stream",
     "text": [
      "Iterations: 100%|██████████| 5/5 [01:11<00:00, 14.33s/it]\n"
     ]
    },
    {
     "name": "stdout",
     "output_type": "stream",
     "text": [
      "XGB Average RMSE over 50 folds: 0.616080\n"
     ]
    },
    {
     "name": "stderr",
     "output_type": "stream",
     "text": [
      "Iterations: 100%|██████████| 5/5 [01:52<00:00, 22.55s/it]\n"
     ]
    },
    {
     "name": "stdout",
     "output_type": "stream",
     "text": [
      "XGB Average RMSE over 50 folds: 0.613226\n"
     ]
    },
    {
     "name": "stderr",
     "output_type": "stream",
     "text": [
      "Iterations: 100%|██████████| 5/5 [01:28<00:00, 17.67s/it]\n"
     ]
    },
    {
     "name": "stdout",
     "output_type": "stream",
     "text": [
      "XGB Average RMSE over 50 folds: 0.622424\n"
     ]
    },
    {
     "name": "stderr",
     "output_type": "stream",
     "text": [
      "Iterations: 100%|██████████| 5/5 [01:28<00:00, 17.63s/it]\n"
     ]
    },
    {
     "name": "stdout",
     "output_type": "stream",
     "text": [
      "XGB Average RMSE over 50 folds: 0.608855\n"
     ]
    },
    {
     "name": "stderr",
     "output_type": "stream",
     "text": [
      "Iterations: 100%|██████████| 5/5 [00:58<00:00, 11.79s/it]\n"
     ]
    },
    {
     "name": "stdout",
     "output_type": "stream",
     "text": [
      "XGB Average RMSE over 50 folds: 0.611191\n"
     ]
    },
    {
     "name": "stderr",
     "output_type": "stream",
     "text": [
      "Iterations: 100%|██████████| 5/5 [00:42<00:00,  8.43s/it]\n"
     ]
    },
    {
     "name": "stdout",
     "output_type": "stream",
     "text": [
      "XGB Average RMSE over 50 folds: 0.603328\n",
      "New best RMSE: 0.603328\n"
     ]
    },
    {
     "name": "stderr",
     "output_type": "stream",
     "text": [
      "Iterations: 100%|██████████| 5/5 [00:57<00:00, 11.57s/it]\n"
     ]
    },
    {
     "name": "stdout",
     "output_type": "stream",
     "text": [
      "XGB Average RMSE over 50 folds: 0.609362\n"
     ]
    },
    {
     "name": "stderr",
     "output_type": "stream",
     "text": [
      "Iterations: 100%|██████████| 5/5 [01:18<00:00, 15.76s/it]\n"
     ]
    },
    {
     "name": "stdout",
     "output_type": "stream",
     "text": [
      "XGB Average RMSE over 50 folds: 0.616166\n"
     ]
    },
    {
     "name": "stderr",
     "output_type": "stream",
     "text": [
      "Iterations: 100%|██████████| 5/5 [00:37<00:00,  7.57s/it]\n"
     ]
    },
    {
     "name": "stdout",
     "output_type": "stream",
     "text": [
      "XGB Average RMSE over 50 folds: 0.604869\n"
     ]
    },
    {
     "name": "stderr",
     "output_type": "stream",
     "text": [
      "Iterations: 100%|██████████| 5/5 [01:02<00:00, 12.57s/it]\n"
     ]
    },
    {
     "name": "stdout",
     "output_type": "stream",
     "text": [
      "XGB Average RMSE over 50 folds: 0.611692\n"
     ]
    },
    {
     "name": "stderr",
     "output_type": "stream",
     "text": [
      "Iterations: 100%|██████████| 5/5 [01:33<00:00, 18.60s/it]\n"
     ]
    },
    {
     "name": "stdout",
     "output_type": "stream",
     "text": [
      "XGB Average RMSE over 50 folds: 0.611100\n"
     ]
    },
    {
     "name": "stderr",
     "output_type": "stream",
     "text": [
      "Iterations: 100%|██████████| 5/5 [00:54<00:00, 10.93s/it]\n"
     ]
    },
    {
     "name": "stdout",
     "output_type": "stream",
     "text": [
      "XGB Average RMSE over 50 folds: 0.608067\n"
     ]
    },
    {
     "name": "stderr",
     "output_type": "stream",
     "text": [
      "Iterations: 100%|██████████| 5/5 [02:19<00:00, 27.97s/it]\n"
     ]
    },
    {
     "name": "stdout",
     "output_type": "stream",
     "text": [
      "XGB Average RMSE over 50 folds: 0.616494\n"
     ]
    },
    {
     "name": "stderr",
     "output_type": "stream",
     "text": [
      "Iterations: 100%|██████████| 5/5 [02:57<00:00, 35.47s/it]\n"
     ]
    },
    {
     "name": "stdout",
     "output_type": "stream",
     "text": [
      "XGB Average RMSE over 50 folds: 0.619378\n"
     ]
    },
    {
     "name": "stderr",
     "output_type": "stream",
     "text": [
      "Iterations: 100%|██████████| 5/5 [01:05<00:00, 13.02s/it]\n"
     ]
    },
    {
     "name": "stdout",
     "output_type": "stream",
     "text": [
      "XGB Average RMSE over 50 folds: 0.621241\n"
     ]
    },
    {
     "name": "stderr",
     "output_type": "stream",
     "text": [
      "Iterations: 100%|██████████| 5/5 [01:45<00:00, 21.05s/it]\n"
     ]
    },
    {
     "name": "stdout",
     "output_type": "stream",
     "text": [
      "XGB Average RMSE over 50 folds: 0.623581\n"
     ]
    },
    {
     "name": "stderr",
     "output_type": "stream",
     "text": [
      "Iterations: 100%|██████████| 5/5 [01:04<00:00, 12.99s/it]\n"
     ]
    },
    {
     "name": "stdout",
     "output_type": "stream",
     "text": [
      "XGB Average RMSE over 50 folds: 0.612695\n"
     ]
    },
    {
     "name": "stderr",
     "output_type": "stream",
     "text": [
      "Iterations: 100%|██████████| 5/5 [01:20<00:00, 16.08s/it]\n"
     ]
    },
    {
     "name": "stdout",
     "output_type": "stream",
     "text": [
      "XGB Average RMSE over 50 folds: 0.611618\n"
     ]
    },
    {
     "name": "stderr",
     "output_type": "stream",
     "text": [
      "Iterations: 100%|██████████| 5/5 [02:56<00:00, 35.25s/it]\n"
     ]
    },
    {
     "name": "stdout",
     "output_type": "stream",
     "text": [
      "XGB Average RMSE over 50 folds: 0.614337\n"
     ]
    },
    {
     "name": "stderr",
     "output_type": "stream",
     "text": [
      "Iterations: 100%|██████████| 5/5 [03:24<00:00, 40.99s/it]\n"
     ]
    },
    {
     "name": "stdout",
     "output_type": "stream",
     "text": [
      "XGB Average RMSE over 50 folds: 0.672339\n"
     ]
    },
    {
     "name": "stderr",
     "output_type": "stream",
     "text": [
      "Iterations: 100%|██████████| 5/5 [00:39<00:00,  7.81s/it]\n"
     ]
    },
    {
     "name": "stdout",
     "output_type": "stream",
     "text": [
      "XGB Average RMSE over 50 folds: 0.602931\n",
      "New best RMSE: 0.602931\n"
     ]
    },
    {
     "name": "stderr",
     "output_type": "stream",
     "text": [
      "Iterations: 100%|██████████| 5/5 [02:54<00:00, 34.96s/it]\n"
     ]
    },
    {
     "name": "stdout",
     "output_type": "stream",
     "text": [
      "XGB Average RMSE over 50 folds: 0.687628\n"
     ]
    },
    {
     "name": "stderr",
     "output_type": "stream",
     "text": [
      "Iterations: 100%|██████████| 5/5 [00:43<00:00,  8.60s/it]\n"
     ]
    },
    {
     "name": "stdout",
     "output_type": "stream",
     "text": [
      "XGB Average RMSE over 50 folds: 0.605205\n"
     ]
    },
    {
     "name": "stderr",
     "output_type": "stream",
     "text": [
      "Iterations: 100%|██████████| 5/5 [02:56<00:00, 35.27s/it]\n"
     ]
    },
    {
     "name": "stdout",
     "output_type": "stream",
     "text": [
      "XGB Average RMSE over 50 folds: 0.614738\n"
     ]
    },
    {
     "name": "stderr",
     "output_type": "stream",
     "text": [
      "Iterations: 100%|██████████| 5/5 [00:57<00:00, 11.60s/it]\n"
     ]
    },
    {
     "name": "stdout",
     "output_type": "stream",
     "text": [
      "XGB Average RMSE over 50 folds: 0.614015\n"
     ]
    },
    {
     "name": "stderr",
     "output_type": "stream",
     "text": [
      "Iterations: 100%|██████████| 5/5 [01:03<00:00, 12.67s/it]\n"
     ]
    },
    {
     "name": "stdout",
     "output_type": "stream",
     "text": [
      "XGB Average RMSE over 50 folds: 0.612775\n"
     ]
    },
    {
     "name": "stderr",
     "output_type": "stream",
     "text": [
      "Iterations: 100%|██████████| 5/5 [00:38<00:00,  7.64s/it]\n"
     ]
    },
    {
     "name": "stdout",
     "output_type": "stream",
     "text": [
      "XGB Average RMSE over 50 folds: 0.607422\n"
     ]
    },
    {
     "name": "stderr",
     "output_type": "stream",
     "text": [
      "Iterations: 100%|██████████| 5/5 [01:22<00:00, 16.41s/it]\n"
     ]
    },
    {
     "name": "stdout",
     "output_type": "stream",
     "text": [
      "XGB Average RMSE over 50 folds: 0.619087\n"
     ]
    },
    {
     "name": "stderr",
     "output_type": "stream",
     "text": [
      "Iterations: 100%|██████████| 5/5 [00:47<00:00,  9.42s/it]\n"
     ]
    },
    {
     "name": "stdout",
     "output_type": "stream",
     "text": [
      "XGB Average RMSE over 50 folds: 0.605926\n"
     ]
    },
    {
     "name": "stderr",
     "output_type": "stream",
     "text": [
      "Iterations: 100%|██████████| 5/5 [03:31<00:00, 42.34s/it]\n"
     ]
    },
    {
     "name": "stdout",
     "output_type": "stream",
     "text": [
      "XGB Average RMSE over 50 folds: 0.626375\n"
     ]
    },
    {
     "name": "stderr",
     "output_type": "stream",
     "text": [
      "Iterations: 100%|██████████| 5/5 [00:44<00:00,  8.94s/it]\n"
     ]
    },
    {
     "name": "stdout",
     "output_type": "stream",
     "text": [
      "XGB Average RMSE over 50 folds: 0.608128\n"
     ]
    },
    {
     "name": "stderr",
     "output_type": "stream",
     "text": [
      "Iterations: 100%|██████████| 5/5 [01:19<00:00, 15.99s/it]\n"
     ]
    },
    {
     "name": "stdout",
     "output_type": "stream",
     "text": [
      "XGB Average RMSE over 50 folds: 0.611909\n"
     ]
    },
    {
     "name": "stderr",
     "output_type": "stream",
     "text": [
      "Iterations: 100%|██████████| 5/5 [02:11<00:00, 26.33s/it]\n"
     ]
    },
    {
     "name": "stdout",
     "output_type": "stream",
     "text": [
      "XGB Average RMSE over 50 folds: 0.621540\n"
     ]
    },
    {
     "name": "stderr",
     "output_type": "stream",
     "text": [
      "Iterations: 100%|██████████| 5/5 [00:47<00:00,  9.48s/it]\n"
     ]
    },
    {
     "name": "stdout",
     "output_type": "stream",
     "text": [
      "XGB Average RMSE over 50 folds: 0.602219\n",
      "New best RMSE: 0.602219\n"
     ]
    },
    {
     "name": "stderr",
     "output_type": "stream",
     "text": [
      "Iterations: 100%|██████████| 5/5 [00:55<00:00, 11.05s/it]\n"
     ]
    },
    {
     "name": "stdout",
     "output_type": "stream",
     "text": [
      "XGB Average RMSE over 50 folds: 0.611983\n"
     ]
    },
    {
     "name": "stderr",
     "output_type": "stream",
     "text": [
      "Iterations: 100%|██████████| 5/5 [00:38<00:00,  7.76s/it]\n"
     ]
    },
    {
     "name": "stdout",
     "output_type": "stream",
     "text": [
      "XGB Average RMSE over 50 folds: 0.604099\n"
     ]
    },
    {
     "name": "stderr",
     "output_type": "stream",
     "text": [
      "Iterations: 100%|██████████| 5/5 [03:02<00:00, 36.57s/it]\n"
     ]
    },
    {
     "name": "stdout",
     "output_type": "stream",
     "text": [
      "XGB Average RMSE over 50 folds: 0.619466\n"
     ]
    },
    {
     "name": "stderr",
     "output_type": "stream",
     "text": [
      "Iterations: 100%|██████████| 5/5 [00:45<00:00,  9.14s/it]\n"
     ]
    },
    {
     "name": "stdout",
     "output_type": "stream",
     "text": [
      "XGB Average RMSE over 50 folds: 0.604509\n"
     ]
    },
    {
     "name": "stderr",
     "output_type": "stream",
     "text": [
      "Iterations: 100%|██████████| 5/5 [01:02<00:00, 12.48s/it]\n"
     ]
    },
    {
     "name": "stdout",
     "output_type": "stream",
     "text": [
      "XGB Average RMSE over 50 folds: 0.623252\n"
     ]
    },
    {
     "name": "stderr",
     "output_type": "stream",
     "text": [
      "Iterations: 100%|██████████| 5/5 [01:27<00:00, 17.42s/it]\n"
     ]
    },
    {
     "name": "stdout",
     "output_type": "stream",
     "text": [
      "XGB Average RMSE over 50 folds: 0.648172\n"
     ]
    },
    {
     "name": "stderr",
     "output_type": "stream",
     "text": [
      "Iterations: 100%|██████████| 5/5 [00:44<00:00,  8.96s/it]\n"
     ]
    },
    {
     "name": "stdout",
     "output_type": "stream",
     "text": [
      "XGB Average RMSE over 50 folds: 0.606275\n"
     ]
    },
    {
     "name": "stderr",
     "output_type": "stream",
     "text": [
      "Iterations: 100%|██████████| 5/5 [00:39<00:00,  7.90s/it]\n"
     ]
    },
    {
     "name": "stdout",
     "output_type": "stream",
     "text": [
      "XGB Average RMSE over 50 folds: 0.605757\n"
     ]
    },
    {
     "name": "stderr",
     "output_type": "stream",
     "text": [
      "Iterations: 100%|██████████| 5/5 [01:36<00:00, 19.40s/it]\n"
     ]
    },
    {
     "name": "stdout",
     "output_type": "stream",
     "text": [
      "XGB Average RMSE over 50 folds: 0.624323\n"
     ]
    },
    {
     "name": "stderr",
     "output_type": "stream",
     "text": [
      "Iterations: 100%|██████████| 5/5 [00:51<00:00, 10.27s/it]\n"
     ]
    },
    {
     "name": "stdout",
     "output_type": "stream",
     "text": [
      "XGB Average RMSE over 50 folds: 0.604337\n"
     ]
    },
    {
     "name": "stderr",
     "output_type": "stream",
     "text": [
      "Iterations: 100%|██████████| 5/5 [00:58<00:00, 11.61s/it]\n"
     ]
    },
    {
     "name": "stdout",
     "output_type": "stream",
     "text": [
      "XGB Average RMSE over 50 folds: 0.604617\n"
     ]
    },
    {
     "name": "stderr",
     "output_type": "stream",
     "text": [
      "Iterations: 100%|██████████| 5/5 [00:48<00:00,  9.70s/it]\n"
     ]
    },
    {
     "name": "stdout",
     "output_type": "stream",
     "text": [
      "XGB Average RMSE over 50 folds: 0.608722\n"
     ]
    },
    {
     "name": "stderr",
     "output_type": "stream",
     "text": [
      "Iterations: 100%|██████████| 5/5 [02:12<00:00, 26.52s/it]\n"
     ]
    },
    {
     "name": "stdout",
     "output_type": "stream",
     "text": [
      "XGB Average RMSE over 50 folds: 0.612600\n"
     ]
    },
    {
     "name": "stderr",
     "output_type": "stream",
     "text": [
      "Iterations: 100%|██████████| 5/5 [01:20<00:00, 16.08s/it]\n"
     ]
    },
    {
     "name": "stdout",
     "output_type": "stream",
     "text": [
      "XGB Average RMSE over 50 folds: 0.619844\n"
     ]
    },
    {
     "name": "stderr",
     "output_type": "stream",
     "text": [
      "Iterations: 100%|██████████| 5/5 [01:19<00:00, 15.92s/it]\n"
     ]
    },
    {
     "name": "stdout",
     "output_type": "stream",
     "text": [
      "XGB Average RMSE over 50 folds: 0.622219\n"
     ]
    },
    {
     "name": "stderr",
     "output_type": "stream",
     "text": [
      "Iterations: 100%|██████████| 5/5 [01:38<00:00, 19.77s/it]\n"
     ]
    },
    {
     "name": "stdout",
     "output_type": "stream",
     "text": [
      "XGB Average RMSE over 50 folds: 0.615788\n"
     ]
    },
    {
     "name": "stderr",
     "output_type": "stream",
     "text": [
      "Iterations: 100%|██████████| 5/5 [00:49<00:00,  9.82s/it]\n"
     ]
    },
    {
     "name": "stdout",
     "output_type": "stream",
     "text": [
      "XGB Average RMSE over 50 folds: 0.631110\n"
     ]
    },
    {
     "name": "stderr",
     "output_type": "stream",
     "text": [
      "Iterations: 100%|██████████| 5/5 [01:48<00:00, 21.64s/it]\n"
     ]
    },
    {
     "name": "stdout",
     "output_type": "stream",
     "text": [
      "XGB Average RMSE over 50 folds: 0.615501\n"
     ]
    },
    {
     "name": "stderr",
     "output_type": "stream",
     "text": [
      "Iterations: 100%|██████████| 5/5 [01:15<00:00, 15.18s/it]\n"
     ]
    },
    {
     "name": "stdout",
     "output_type": "stream",
     "text": [
      "XGB Average RMSE over 50 folds: 0.615805\n"
     ]
    },
    {
     "name": "stderr",
     "output_type": "stream",
     "text": [
      "Iterations: 100%|██████████| 5/5 [01:59<00:00, 23.83s/it]\n"
     ]
    },
    {
     "name": "stdout",
     "output_type": "stream",
     "text": [
      "XGB Average RMSE over 50 folds: 0.616042\n"
     ]
    },
    {
     "name": "stderr",
     "output_type": "stream",
     "text": [
      "Iterations: 100%|██████████| 5/5 [01:05<00:00, 13.15s/it]\n"
     ]
    },
    {
     "name": "stdout",
     "output_type": "stream",
     "text": [
      "XGB Average RMSE over 50 folds: 0.611490\n"
     ]
    },
    {
     "name": "stderr",
     "output_type": "stream",
     "text": [
      "Iterations: 100%|██████████| 5/5 [00:58<00:00, 11.64s/it]\n"
     ]
    },
    {
     "name": "stdout",
     "output_type": "stream",
     "text": [
      "XGB Average RMSE over 50 folds: 0.610049\n"
     ]
    },
    {
     "name": "stderr",
     "output_type": "stream",
     "text": [
      "Iterations: 100%|██████████| 5/5 [01:23<00:00, 16.64s/it]\n"
     ]
    },
    {
     "name": "stdout",
     "output_type": "stream",
     "text": [
      "XGB Average RMSE over 50 folds: 0.613018\n"
     ]
    },
    {
     "name": "stderr",
     "output_type": "stream",
     "text": [
      "Iterations: 100%|██████████| 5/5 [01:41<00:00, 20.28s/it]\n"
     ]
    },
    {
     "name": "stdout",
     "output_type": "stream",
     "text": [
      "XGB Average RMSE over 50 folds: 0.621874\n"
     ]
    },
    {
     "name": "stderr",
     "output_type": "stream",
     "text": [
      "Iterations: 100%|██████████| 5/5 [00:38<00:00,  7.73s/it]\n"
     ]
    },
    {
     "name": "stdout",
     "output_type": "stream",
     "text": [
      "XGB Average RMSE over 50 folds: 0.693797\n"
     ]
    },
    {
     "name": "stderr",
     "output_type": "stream",
     "text": [
      "Iterations: 100%|██████████| 5/5 [01:25<00:00, 17.19s/it]\n"
     ]
    },
    {
     "name": "stdout",
     "output_type": "stream",
     "text": [
      "XGB Average RMSE over 50 folds: 0.614468\n"
     ]
    },
    {
     "name": "stderr",
     "output_type": "stream",
     "text": [
      "Iterations: 100%|██████████| 5/5 [02:35<00:00, 31.06s/it]\n"
     ]
    },
    {
     "name": "stdout",
     "output_type": "stream",
     "text": [
      "XGB Average RMSE over 50 folds: 0.614848\n"
     ]
    },
    {
     "name": "stderr",
     "output_type": "stream",
     "text": [
      "Iterations: 100%|██████████| 5/5 [00:52<00:00, 10.60s/it]\n"
     ]
    },
    {
     "name": "stdout",
     "output_type": "stream",
     "text": [
      "XGB Average RMSE over 50 folds: 0.608611\n"
     ]
    },
    {
     "name": "stderr",
     "output_type": "stream",
     "text": [
      "Iterations: 100%|██████████| 5/5 [02:05<00:00, 25.03s/it]\n"
     ]
    },
    {
     "name": "stdout",
     "output_type": "stream",
     "text": [
      "XGB Average RMSE over 50 folds: 0.615038\n"
     ]
    },
    {
     "name": "stderr",
     "output_type": "stream",
     "text": [
      "Iterations: 100%|██████████| 5/5 [00:38<00:00,  7.66s/it]\n"
     ]
    },
    {
     "name": "stdout",
     "output_type": "stream",
     "text": [
      "XGB Average RMSE over 50 folds: 0.601441\n",
      "New best RMSE: 0.601441\n"
     ]
    },
    {
     "name": "stderr",
     "output_type": "stream",
     "text": [
      "Iterations: 100%|██████████| 5/5 [01:44<00:00, 20.96s/it]\n"
     ]
    },
    {
     "name": "stdout",
     "output_type": "stream",
     "text": [
      "XGB Average RMSE over 50 folds: 0.616935\n"
     ]
    },
    {
     "name": "stderr",
     "output_type": "stream",
     "text": [
      "Iterations: 100%|██████████| 5/5 [01:44<00:00, 20.95s/it]\n"
     ]
    },
    {
     "name": "stdout",
     "output_type": "stream",
     "text": [
      "XGB Average RMSE over 50 folds: 0.612590\n"
     ]
    },
    {
     "name": "stderr",
     "output_type": "stream",
     "text": [
      "Iterations: 100%|██████████| 5/5 [01:07<00:00, 13.41s/it]\n"
     ]
    },
    {
     "name": "stdout",
     "output_type": "stream",
     "text": [
      "XGB Average RMSE over 50 folds: 0.607614\n"
     ]
    },
    {
     "name": "stderr",
     "output_type": "stream",
     "text": [
      "Iterations: 100%|██████████| 5/5 [00:49<00:00,  9.93s/it]\n"
     ]
    },
    {
     "name": "stdout",
     "output_type": "stream",
     "text": [
      "XGB Average RMSE over 50 folds: 0.608653\n"
     ]
    },
    {
     "name": "stderr",
     "output_type": "stream",
     "text": [
      "Iterations: 100%|██████████| 5/5 [02:08<00:00, 25.69s/it]\n"
     ]
    },
    {
     "name": "stdout",
     "output_type": "stream",
     "text": [
      "XGB Average RMSE over 50 folds: 0.615726\n"
     ]
    },
    {
     "name": "stderr",
     "output_type": "stream",
     "text": [
      "Iterations: 100%|██████████| 5/5 [01:14<00:00, 14.91s/it]\n"
     ]
    },
    {
     "name": "stdout",
     "output_type": "stream",
     "text": [
      "XGB Average RMSE over 50 folds: 0.611852\n"
     ]
    },
    {
     "name": "stderr",
     "output_type": "stream",
     "text": [
      "Iterations: 100%|██████████| 5/5 [02:52<00:00, 34.54s/it]\n"
     ]
    },
    {
     "name": "stdout",
     "output_type": "stream",
     "text": [
      "XGB Average RMSE over 50 folds: 0.617397\n"
     ]
    },
    {
     "name": "stderr",
     "output_type": "stream",
     "text": [
      "Iterations: 100%|██████████| 5/5 [01:28<00:00, 17.79s/it]\n"
     ]
    },
    {
     "name": "stdout",
     "output_type": "stream",
     "text": [
      "XGB Average RMSE over 50 folds: 0.618290\n"
     ]
    },
    {
     "name": "stderr",
     "output_type": "stream",
     "text": [
      "Iterations: 100%|██████████| 5/5 [01:17<00:00, 15.59s/it]\n"
     ]
    },
    {
     "name": "stdout",
     "output_type": "stream",
     "text": [
      "XGB Average RMSE over 50 folds: 0.620350\n"
     ]
    },
    {
     "name": "stderr",
     "output_type": "stream",
     "text": [
      "Iterations: 100%|██████████| 5/5 [02:25<00:00, 29.02s/it]\n"
     ]
    },
    {
     "name": "stdout",
     "output_type": "stream",
     "text": [
      "XGB Average RMSE over 50 folds: 0.609768\n"
     ]
    },
    {
     "name": "stderr",
     "output_type": "stream",
     "text": [
      "Iterations: 100%|██████████| 5/5 [01:19<00:00, 15.97s/it]\n"
     ]
    },
    {
     "name": "stdout",
     "output_type": "stream",
     "text": [
      "XGB Average RMSE over 50 folds: 0.611869\n"
     ]
    },
    {
     "name": "stderr",
     "output_type": "stream",
     "text": [
      "Iterations: 100%|██████████| 5/5 [03:35<00:00, 43.19s/it]\n"
     ]
    },
    {
     "name": "stdout",
     "output_type": "stream",
     "text": [
      "XGB Average RMSE over 50 folds: 0.651729\n"
     ]
    },
    {
     "name": "stderr",
     "output_type": "stream",
     "text": [
      "Iterations: 100%|██████████| 5/5 [02:19<00:00, 27.81s/it]\n"
     ]
    },
    {
     "name": "stdout",
     "output_type": "stream",
     "text": [
      "XGB Average RMSE over 50 folds: 0.613138\n"
     ]
    },
    {
     "name": "stderr",
     "output_type": "stream",
     "text": [
      "Iterations: 100%|██████████| 5/5 [03:14<00:00, 38.97s/it]\n"
     ]
    },
    {
     "name": "stdout",
     "output_type": "stream",
     "text": [
      "XGB Average RMSE over 50 folds: 0.613891\n"
     ]
    },
    {
     "name": "stderr",
     "output_type": "stream",
     "text": [
      "Iterations: 100%|██████████| 5/5 [00:48<00:00,  9.70s/it]\n"
     ]
    },
    {
     "name": "stdout",
     "output_type": "stream",
     "text": [
      "XGB Average RMSE over 50 folds: 0.612216\n"
     ]
    },
    {
     "name": "stderr",
     "output_type": "stream",
     "text": [
      "Iterations: 100%|██████████| 5/5 [03:42<00:00, 44.52s/it]\n"
     ]
    },
    {
     "name": "stdout",
     "output_type": "stream",
     "text": [
      "XGB Average RMSE over 50 folds: 0.624728\n"
     ]
    },
    {
     "name": "stderr",
     "output_type": "stream",
     "text": [
      "Iterations: 100%|██████████| 5/5 [01:22<00:00, 16.45s/it]\n"
     ]
    },
    {
     "name": "stdout",
     "output_type": "stream",
     "text": [
      "XGB Average RMSE over 50 folds: 0.624284\n"
     ]
    },
    {
     "name": "stderr",
     "output_type": "stream",
     "text": [
      "Iterations: 100%|██████████| 5/5 [00:42<00:00,  8.57s/it]\n"
     ]
    },
    {
     "name": "stdout",
     "output_type": "stream",
     "text": [
      "XGB Average RMSE over 50 folds: 0.602347\n"
     ]
    },
    {
     "name": "stderr",
     "output_type": "stream",
     "text": [
      "Iterations: 100%|██████████| 5/5 [01:24<00:00, 16.94s/it]\n"
     ]
    },
    {
     "name": "stdout",
     "output_type": "stream",
     "text": [
      "XGB Average RMSE over 50 folds: 0.621382\n"
     ]
    },
    {
     "name": "stderr",
     "output_type": "stream",
     "text": [
      "Iterations: 100%|██████████| 5/5 [00:56<00:00, 11.39s/it]\n"
     ]
    },
    {
     "name": "stdout",
     "output_type": "stream",
     "text": [
      "XGB Average RMSE over 50 folds: 0.606185\n"
     ]
    },
    {
     "name": "stderr",
     "output_type": "stream",
     "text": [
      "Iterations: 100%|██████████| 5/5 [03:08<00:00, 37.62s/it]\n"
     ]
    },
    {
     "name": "stdout",
     "output_type": "stream",
     "text": [
      "XGB Average RMSE over 50 folds: 0.610657\n"
     ]
    },
    {
     "name": "stderr",
     "output_type": "stream",
     "text": [
      "Iterations: 100%|██████████| 5/5 [01:28<00:00, 17.73s/it]\n"
     ]
    },
    {
     "name": "stdout",
     "output_type": "stream",
     "text": [
      "XGB Average RMSE over 50 folds: 0.618935\n"
     ]
    },
    {
     "name": "stderr",
     "output_type": "stream",
     "text": [
      "Iterations: 100%|██████████| 5/5 [00:44<00:00,  8.81s/it]\n"
     ]
    },
    {
     "name": "stdout",
     "output_type": "stream",
     "text": [
      "XGB Average RMSE over 50 folds: 0.602334\n"
     ]
    },
    {
     "name": "stderr",
     "output_type": "stream",
     "text": [
      "Iterations: 100%|██████████| 5/5 [01:18<00:00, 15.76s/it]\n"
     ]
    },
    {
     "name": "stdout",
     "output_type": "stream",
     "text": [
      "XGB Average RMSE over 50 folds: 0.607870\n"
     ]
    },
    {
     "name": "stderr",
     "output_type": "stream",
     "text": [
      "Iterations: 100%|██████████| 5/5 [03:01<00:00, 36.28s/it]\n"
     ]
    },
    {
     "name": "stdout",
     "output_type": "stream",
     "text": [
      "XGB Average RMSE over 50 folds: 0.618007\n"
     ]
    },
    {
     "name": "stderr",
     "output_type": "stream",
     "text": [
      "Iterations: 100%|██████████| 5/5 [02:15<00:00, 27.20s/it]\n"
     ]
    },
    {
     "name": "stdout",
     "output_type": "stream",
     "text": [
      "XGB Average RMSE over 50 folds: 0.616499\n"
     ]
    },
    {
     "name": "stderr",
     "output_type": "stream",
     "text": [
      "Iterations: 100%|██████████| 5/5 [01:35<00:00, 19.13s/it]\n"
     ]
    },
    {
     "name": "stdout",
     "output_type": "stream",
     "text": [
      "XGB Average RMSE over 50 folds: 0.620958\n"
     ]
    },
    {
     "name": "stderr",
     "output_type": "stream",
     "text": [
      "Iterations: 100%|██████████| 5/5 [00:40<00:00,  8.15s/it]\n"
     ]
    },
    {
     "name": "stdout",
     "output_type": "stream",
     "text": [
      "XGB Average RMSE over 50 folds: 0.606169\n"
     ]
    },
    {
     "name": "stderr",
     "output_type": "stream",
     "text": [
      "Iterations: 100%|██████████| 5/5 [01:04<00:00, 12.90s/it]\n"
     ]
    },
    {
     "name": "stdout",
     "output_type": "stream",
     "text": [
      "XGB Average RMSE over 50 folds: 0.618281\n"
     ]
    },
    {
     "name": "stderr",
     "output_type": "stream",
     "text": [
      "Iterations: 100%|██████████| 5/5 [01:35<00:00, 19.15s/it]\n"
     ]
    },
    {
     "name": "stdout",
     "output_type": "stream",
     "text": [
      "XGB Average RMSE over 50 folds: 0.617007\n"
     ]
    },
    {
     "name": "stderr",
     "output_type": "stream",
     "text": [
      "Iterations: 100%|██████████| 5/5 [00:48<00:00,  9.72s/it]\n"
     ]
    },
    {
     "name": "stdout",
     "output_type": "stream",
     "text": [
      "XGB Average RMSE over 50 folds: 0.606778\n"
     ]
    },
    {
     "name": "stderr",
     "output_type": "stream",
     "text": [
      "Iterations: 100%|██████████| 5/5 [00:37<00:00,  7.55s/it]\n"
     ]
    },
    {
     "name": "stdout",
     "output_type": "stream",
     "text": [
      "XGB Average RMSE over 50 folds: 0.605427\n"
     ]
    },
    {
     "name": "stderr",
     "output_type": "stream",
     "text": [
      "Iterations: 100%|██████████| 5/5 [01:05<00:00, 13.18s/it]\n"
     ]
    },
    {
     "name": "stdout",
     "output_type": "stream",
     "text": [
      "XGB Average RMSE over 50 folds: 0.608339\n"
     ]
    },
    {
     "name": "stderr",
     "output_type": "stream",
     "text": [
      "Iterations: 100%|██████████| 5/5 [00:49<00:00,  9.95s/it]\n"
     ]
    },
    {
     "name": "stdout",
     "output_type": "stream",
     "text": [
      "XGB Average RMSE over 50 folds: 0.621479\n"
     ]
    },
    {
     "name": "stderr",
     "output_type": "stream",
     "text": [
      "Iterations: 100%|██████████| 5/5 [00:37<00:00,  7.57s/it]\n"
     ]
    },
    {
     "name": "stdout",
     "output_type": "stream",
     "text": [
      "XGB Average RMSE over 50 folds: 0.618422\n"
     ]
    },
    {
     "name": "stderr",
     "output_type": "stream",
     "text": [
      "Iterations: 100%|██████████| 5/5 [00:52<00:00, 10.41s/it]\n"
     ]
    },
    {
     "name": "stdout",
     "output_type": "stream",
     "text": [
      "XGB Average RMSE over 50 folds: 0.604752\n"
     ]
    },
    {
     "name": "stderr",
     "output_type": "stream",
     "text": [
      "Iterations: 100%|██████████| 5/5 [00:53<00:00, 10.77s/it]\n"
     ]
    },
    {
     "name": "stdout",
     "output_type": "stream",
     "text": [
      "XGB Average RMSE over 50 folds: 0.606115\n"
     ]
    },
    {
     "name": "stderr",
     "output_type": "stream",
     "text": [
      "Iterations: 100%|██████████| 5/5 [01:35<00:00, 19.20s/it]\n"
     ]
    },
    {
     "name": "stdout",
     "output_type": "stream",
     "text": [
      "XGB Average RMSE over 50 folds: 0.616544\n"
     ]
    },
    {
     "name": "stderr",
     "output_type": "stream",
     "text": [
      "Iterations: 100%|██████████| 5/5 [00:38<00:00,  7.65s/it]\n"
     ]
    },
    {
     "name": "stdout",
     "output_type": "stream",
     "text": [
      "XGB Average RMSE over 50 folds: 0.606527\n"
     ]
    },
    {
     "name": "stderr",
     "output_type": "stream",
     "text": [
      "Iterations: 100%|██████████| 5/5 [00:38<00:00,  7.70s/it]\n"
     ]
    },
    {
     "name": "stdout",
     "output_type": "stream",
     "text": [
      "XGB Average RMSE over 50 folds: 0.605891\n"
     ]
    },
    {
     "name": "stderr",
     "output_type": "stream",
     "text": [
      "Iterations: 100%|██████████| 5/5 [00:55<00:00, 11.07s/it]\n"
     ]
    },
    {
     "name": "stdout",
     "output_type": "stream",
     "text": [
      "XGB Average RMSE over 50 folds: 0.611694\n"
     ]
    },
    {
     "name": "stderr",
     "output_type": "stream",
     "text": [
      "Iterations: 100%|██████████| 5/5 [01:17<00:00, 15.49s/it]\n"
     ]
    },
    {
     "name": "stdout",
     "output_type": "stream",
     "text": [
      "XGB Average RMSE over 50 folds: 0.611035\n"
     ]
    },
    {
     "name": "stderr",
     "output_type": "stream",
     "text": [
      "Iterations: 100%|██████████| 5/5 [00:56<00:00, 11.27s/it]\n"
     ]
    },
    {
     "name": "stdout",
     "output_type": "stream",
     "text": [
      "XGB Average RMSE over 50 folds: 0.608902\n"
     ]
    },
    {
     "name": "stderr",
     "output_type": "stream",
     "text": [
      "Iterations: 100%|██████████| 5/5 [01:32<00:00, 18.42s/it]\n"
     ]
    },
    {
     "name": "stdout",
     "output_type": "stream",
     "text": [
      "XGB Average RMSE over 50 folds: 0.607971\n"
     ]
    },
    {
     "name": "stderr",
     "output_type": "stream",
     "text": [
      "Iterations: 100%|██████████| 5/5 [01:00<00:00, 12.11s/it]\n"
     ]
    },
    {
     "name": "stdout",
     "output_type": "stream",
     "text": [
      "XGB Average RMSE over 50 folds: 0.606537\n"
     ]
    },
    {
     "name": "stderr",
     "output_type": "stream",
     "text": [
      "Iterations: 100%|██████████| 5/5 [02:57<00:00, 35.54s/it]\n"
     ]
    },
    {
     "name": "stdout",
     "output_type": "stream",
     "text": [
      "XGB Average RMSE over 50 folds: 0.617601\n"
     ]
    },
    {
     "name": "stderr",
     "output_type": "stream",
     "text": [
      "Iterations: 100%|██████████| 5/5 [00:55<00:00, 11.05s/it]\n"
     ]
    },
    {
     "name": "stdout",
     "output_type": "stream",
     "text": [
      "XGB Average RMSE over 50 folds: 0.606900\n"
     ]
    },
    {
     "name": "stderr",
     "output_type": "stream",
     "text": [
      "Iterations: 100%|██████████| 5/5 [00:38<00:00,  7.67s/it]\n"
     ]
    },
    {
     "name": "stdout",
     "output_type": "stream",
     "text": [
      "XGB Average RMSE over 50 folds: 0.603950\n"
     ]
    },
    {
     "name": "stderr",
     "output_type": "stream",
     "text": [
      "Iterations: 100%|██████████| 5/5 [01:21<00:00, 16.28s/it]\n"
     ]
    },
    {
     "name": "stdout",
     "output_type": "stream",
     "text": [
      "XGB Average RMSE over 50 folds: 0.609966\n"
     ]
    },
    {
     "name": "stderr",
     "output_type": "stream",
     "text": [
      "Iterations: 100%|██████████| 5/5 [01:53<00:00, 22.77s/it]\n"
     ]
    },
    {
     "name": "stdout",
     "output_type": "stream",
     "text": [
      "XGB Average RMSE over 50 folds: 0.615084\n"
     ]
    },
    {
     "name": "stderr",
     "output_type": "stream",
     "text": [
      "Iterations: 100%|██████████| 5/5 [01:45<00:00, 21.11s/it]\n"
     ]
    },
    {
     "name": "stdout",
     "output_type": "stream",
     "text": [
      "XGB Average RMSE over 50 folds: 0.613027\n"
     ]
    },
    {
     "name": "stderr",
     "output_type": "stream",
     "text": [
      "Iterations: 100%|██████████| 5/5 [00:49<00:00,  9.94s/it]\n"
     ]
    },
    {
     "name": "stdout",
     "output_type": "stream",
     "text": [
      "XGB Average RMSE over 50 folds: 0.607877\n"
     ]
    },
    {
     "name": "stderr",
     "output_type": "stream",
     "text": [
      "Iterations: 100%|██████████| 5/5 [02:25<00:00, 29.13s/it]\n"
     ]
    },
    {
     "name": "stdout",
     "output_type": "stream",
     "text": [
      "XGB Average RMSE over 50 folds: 0.623353\n"
     ]
    },
    {
     "name": "stderr",
     "output_type": "stream",
     "text": [
      "Iterations: 100%|██████████| 5/5 [00:48<00:00,  9.61s/it]\n"
     ]
    },
    {
     "name": "stdout",
     "output_type": "stream",
     "text": [
      "XGB Average RMSE over 50 folds: 0.606663\n"
     ]
    },
    {
     "name": "stderr",
     "output_type": "stream",
     "text": [
      "Iterations: 100%|██████████| 5/5 [01:34<00:00, 19.00s/it]\n"
     ]
    },
    {
     "name": "stdout",
     "output_type": "stream",
     "text": [
      "XGB Average RMSE over 50 folds: 0.609585\n"
     ]
    },
    {
     "name": "stderr",
     "output_type": "stream",
     "text": [
      "Iterations: 100%|██████████| 5/5 [01:27<00:00, 17.53s/it]\n"
     ]
    },
    {
     "name": "stdout",
     "output_type": "stream",
     "text": [
      "XGB Average RMSE over 50 folds: 0.624976\n"
     ]
    },
    {
     "name": "stderr",
     "output_type": "stream",
     "text": [
      "Iterations: 100%|██████████| 5/5 [01:43<00:00, 20.77s/it]\n"
     ]
    },
    {
     "name": "stdout",
     "output_type": "stream",
     "text": [
      "XGB Average RMSE over 50 folds: 0.614712\n"
     ]
    },
    {
     "name": "stderr",
     "output_type": "stream",
     "text": [
      "Iterations: 100%|██████████| 5/5 [00:37<00:00,  7.56s/it]\n"
     ]
    },
    {
     "name": "stdout",
     "output_type": "stream",
     "text": [
      "XGB Average RMSE over 50 folds: 0.604158\n"
     ]
    },
    {
     "name": "stderr",
     "output_type": "stream",
     "text": [
      "Iterations: 100%|██████████| 5/5 [01:22<00:00, 16.42s/it]\n"
     ]
    },
    {
     "name": "stdout",
     "output_type": "stream",
     "text": [
      "XGB Average RMSE over 50 folds: 0.608943\n"
     ]
    },
    {
     "name": "stderr",
     "output_type": "stream",
     "text": [
      "Iterations: 100%|██████████| 5/5 [00:53<00:00, 10.80s/it]\n"
     ]
    },
    {
     "name": "stdout",
     "output_type": "stream",
     "text": [
      "XGB Average RMSE over 50 folds: 0.607342\n"
     ]
    },
    {
     "name": "stderr",
     "output_type": "stream",
     "text": [
      "Iterations: 100%|██████████| 5/5 [02:04<00:00, 24.83s/it]\n"
     ]
    },
    {
     "name": "stdout",
     "output_type": "stream",
     "text": [
      "XGB Average RMSE over 50 folds: 0.612797\n"
     ]
    },
    {
     "name": "stderr",
     "output_type": "stream",
     "text": [
      "Iterations: 100%|██████████| 5/5 [00:48<00:00,  9.75s/it]\n"
     ]
    },
    {
     "name": "stdout",
     "output_type": "stream",
     "text": [
      "XGB Average RMSE over 50 folds: 0.608015\n"
     ]
    },
    {
     "name": "stderr",
     "output_type": "stream",
     "text": [
      "Iterations: 100%|██████████| 5/5 [00:47<00:00,  9.58s/it]\n"
     ]
    },
    {
     "name": "stdout",
     "output_type": "stream",
     "text": [
      "XGB Average RMSE over 50 folds: 0.601994\n"
     ]
    },
    {
     "name": "stderr",
     "output_type": "stream",
     "text": [
      "Iterations: 100%|██████████| 5/5 [00:37<00:00,  7.57s/it]\n"
     ]
    },
    {
     "name": "stdout",
     "output_type": "stream",
     "text": [
      "XGB Average RMSE over 50 folds: 0.605774\n"
     ]
    },
    {
     "name": "stderr",
     "output_type": "stream",
     "text": [
      "Iterations: 100%|██████████| 5/5 [01:07<00:00, 13.49s/it]\n"
     ]
    },
    {
     "name": "stdout",
     "output_type": "stream",
     "text": [
      "XGB Average RMSE over 50 folds: 0.619432\n"
     ]
    },
    {
     "name": "stderr",
     "output_type": "stream",
     "text": [
      "Iterations: 100%|██████████| 5/5 [00:47<00:00,  9.57s/it]\n"
     ]
    },
    {
     "name": "stdout",
     "output_type": "stream",
     "text": [
      "XGB Average RMSE over 50 folds: 0.621815\n"
     ]
    },
    {
     "name": "stderr",
     "output_type": "stream",
     "text": [
      "Iterations: 100%|██████████| 5/5 [01:04<00:00, 12.87s/it]\n"
     ]
    },
    {
     "name": "stdout",
     "output_type": "stream",
     "text": [
      "XGB Average RMSE over 50 folds: 0.609377\n"
     ]
    },
    {
     "name": "stderr",
     "output_type": "stream",
     "text": [
      "Iterations: 100%|██████████| 5/5 [00:59<00:00, 11.90s/it]\n"
     ]
    },
    {
     "name": "stdout",
     "output_type": "stream",
     "text": [
      "XGB Average RMSE over 50 folds: 0.607610\n"
     ]
    },
    {
     "name": "stderr",
     "output_type": "stream",
     "text": [
      "Iterations: 100%|██████████| 5/5 [02:49<00:00, 33.99s/it]\n"
     ]
    },
    {
     "name": "stdout",
     "output_type": "stream",
     "text": [
      "XGB Average RMSE over 50 folds: 0.616041\n"
     ]
    },
    {
     "name": "stderr",
     "output_type": "stream",
     "text": [
      "Iterations: 100%|██████████| 5/5 [05:10<00:00, 62.07s/it]\n"
     ]
    },
    {
     "name": "stdout",
     "output_type": "stream",
     "text": [
      "XGB Average RMSE over 50 folds: 0.680841\n"
     ]
    },
    {
     "name": "stderr",
     "output_type": "stream",
     "text": [
      "Iterations: 100%|██████████| 5/5 [00:39<00:00,  7.82s/it]\n"
     ]
    },
    {
     "name": "stdout",
     "output_type": "stream",
     "text": [
      "XGB Average RMSE over 50 folds: 0.615086\n"
     ]
    },
    {
     "name": "stderr",
     "output_type": "stream",
     "text": [
      "Iterations: 100%|██████████| 5/5 [01:01<00:00, 12.38s/it]\n"
     ]
    },
    {
     "name": "stdout",
     "output_type": "stream",
     "text": [
      "XGB Average RMSE over 50 folds: 0.626191\n"
     ]
    },
    {
     "name": "stderr",
     "output_type": "stream",
     "text": [
      "Iterations: 100%|██████████| 5/5 [00:38<00:00,  7.71s/it]\n"
     ]
    },
    {
     "name": "stdout",
     "output_type": "stream",
     "text": [
      "XGB Average RMSE over 50 folds: 0.608770\n"
     ]
    },
    {
     "name": "stderr",
     "output_type": "stream",
     "text": [
      "Iterations: 100%|██████████| 5/5 [01:26<00:00, 17.29s/it]\n"
     ]
    },
    {
     "name": "stdout",
     "output_type": "stream",
     "text": [
      "XGB Average RMSE over 50 folds: 0.622381\n"
     ]
    },
    {
     "name": "stderr",
     "output_type": "stream",
     "text": [
      "Iterations: 100%|██████████| 5/5 [00:48<00:00,  9.78s/it]\n"
     ]
    },
    {
     "name": "stdout",
     "output_type": "stream",
     "text": [
      "XGB Average RMSE over 50 folds: 0.608860\n"
     ]
    },
    {
     "name": "stderr",
     "output_type": "stream",
     "text": [
      "Iterations: 100%|██████████| 5/5 [02:03<00:00, 24.77s/it]\n"
     ]
    },
    {
     "name": "stdout",
     "output_type": "stream",
     "text": [
      "XGB Average RMSE over 50 folds: 0.618169\n"
     ]
    },
    {
     "name": "stderr",
     "output_type": "stream",
     "text": [
      "Iterations: 100%|██████████| 5/5 [01:02<00:00, 12.45s/it]\n"
     ]
    },
    {
     "name": "stdout",
     "output_type": "stream",
     "text": [
      "XGB Average RMSE over 50 folds: 0.607302\n"
     ]
    },
    {
     "name": "stderr",
     "output_type": "stream",
     "text": [
      "Iterations: 100%|██████████| 5/5 [00:50<00:00, 10.14s/it]\n"
     ]
    },
    {
     "name": "stdout",
     "output_type": "stream",
     "text": [
      "XGB Average RMSE over 50 folds: 0.612369\n"
     ]
    },
    {
     "name": "stderr",
     "output_type": "stream",
     "text": [
      "Iterations: 100%|██████████| 5/5 [01:08<00:00, 13.69s/it]\n"
     ]
    },
    {
     "name": "stdout",
     "output_type": "stream",
     "text": [
      "XGB Average RMSE over 50 folds: 0.616656\n"
     ]
    },
    {
     "name": "stderr",
     "output_type": "stream",
     "text": [
      "Iterations: 100%|██████████| 5/5 [01:05<00:00, 13.08s/it]\n"
     ]
    },
    {
     "name": "stdout",
     "output_type": "stream",
     "text": [
      "XGB Average RMSE over 50 folds: 0.609096\n"
     ]
    },
    {
     "name": "stderr",
     "output_type": "stream",
     "text": [
      "Iterations: 100%|██████████| 5/5 [00:46<00:00,  9.28s/it]\n"
     ]
    },
    {
     "name": "stdout",
     "output_type": "stream",
     "text": [
      "XGB Average RMSE over 50 folds: 0.604248\n"
     ]
    },
    {
     "name": "stderr",
     "output_type": "stream",
     "text": [
      "Iterations: 100%|██████████| 5/5 [00:37<00:00,  7.59s/it]\n"
     ]
    },
    {
     "name": "stdout",
     "output_type": "stream",
     "text": [
      "XGB Average RMSE over 50 folds: 0.606342\n"
     ]
    },
    {
     "name": "stderr",
     "output_type": "stream",
     "text": [
      "Iterations: 100%|██████████| 5/5 [03:47<00:00, 45.56s/it]\n"
     ]
    },
    {
     "name": "stdout",
     "output_type": "stream",
     "text": [
      "XGB Average RMSE over 50 folds: 0.640234\n"
     ]
    },
    {
     "name": "stderr",
     "output_type": "stream",
     "text": [
      "Iterations: 100%|██████████| 5/5 [02:46<00:00, 33.31s/it]\n"
     ]
    },
    {
     "name": "stdout",
     "output_type": "stream",
     "text": [
      "XGB Average RMSE over 50 folds: 0.620970\n"
     ]
    },
    {
     "name": "stderr",
     "output_type": "stream",
     "text": [
      "Iterations: 100%|██████████| 5/5 [01:53<00:00, 22.74s/it]\n"
     ]
    },
    {
     "name": "stdout",
     "output_type": "stream",
     "text": [
      "XGB Average RMSE over 50 folds: 0.615304\n"
     ]
    },
    {
     "name": "stderr",
     "output_type": "stream",
     "text": [
      "Iterations: 100%|██████████| 5/5 [02:18<00:00, 27.68s/it]\n"
     ]
    },
    {
     "name": "stdout",
     "output_type": "stream",
     "text": [
      "XGB Average RMSE over 50 folds: 0.610998\n"
     ]
    },
    {
     "name": "stderr",
     "output_type": "stream",
     "text": [
      "Iterations: 100%|██████████| 5/5 [00:45<00:00,  9.00s/it]\n"
     ]
    },
    {
     "name": "stdout",
     "output_type": "stream",
     "text": [
      "XGB Average RMSE over 50 folds: 0.606287\n"
     ]
    },
    {
     "name": "stderr",
     "output_type": "stream",
     "text": [
      "Iterations: 100%|██████████| 5/5 [00:37<00:00,  7.60s/it]\n"
     ]
    },
    {
     "name": "stdout",
     "output_type": "stream",
     "text": [
      "XGB Average RMSE over 50 folds: 0.620045\n"
     ]
    },
    {
     "name": "stderr",
     "output_type": "stream",
     "text": [
      "Iterations: 100%|██████████| 5/5 [03:11<00:00, 38.32s/it]\n"
     ]
    },
    {
     "name": "stdout",
     "output_type": "stream",
     "text": [
      "XGB Average RMSE over 50 folds: 0.623162\n"
     ]
    },
    {
     "name": "stderr",
     "output_type": "stream",
     "text": [
      "Iterations: 100%|██████████| 5/5 [00:57<00:00, 11.47s/it]\n"
     ]
    },
    {
     "name": "stdout",
     "output_type": "stream",
     "text": [
      "XGB Average RMSE over 50 folds: 0.611440\n"
     ]
    },
    {
     "name": "stderr",
     "output_type": "stream",
     "text": [
      "Iterations: 100%|██████████| 5/5 [02:16<00:00, 27.25s/it]\n"
     ]
    },
    {
     "name": "stdout",
     "output_type": "stream",
     "text": [
      "XGB Average RMSE over 50 folds: 0.617228\n"
     ]
    },
    {
     "name": "stderr",
     "output_type": "stream",
     "text": [
      "Iterations: 100%|██████████| 5/5 [01:39<00:00, 19.99s/it]\n"
     ]
    },
    {
     "name": "stdout",
     "output_type": "stream",
     "text": [
      "XGB Average RMSE over 50 folds: 0.611785\n"
     ]
    },
    {
     "name": "stderr",
     "output_type": "stream",
     "text": [
      "Iterations: 100%|██████████| 5/5 [01:17<00:00, 15.52s/it]\n"
     ]
    },
    {
     "name": "stdout",
     "output_type": "stream",
     "text": [
      "XGB Average RMSE over 50 folds: 0.624776\n"
     ]
    },
    {
     "name": "stderr",
     "output_type": "stream",
     "text": [
      "Iterations: 100%|██████████| 5/5 [01:28<00:00, 17.61s/it]\n"
     ]
    },
    {
     "name": "stdout",
     "output_type": "stream",
     "text": [
      "XGB Average RMSE over 50 folds: 0.608497\n"
     ]
    },
    {
     "name": "stderr",
     "output_type": "stream",
     "text": [
      "Iterations: 100%|██████████| 5/5 [01:06<00:00, 13.22s/it]\n"
     ]
    },
    {
     "name": "stdout",
     "output_type": "stream",
     "text": [
      "XGB Average RMSE over 50 folds: 0.613152\n"
     ]
    },
    {
     "name": "stderr",
     "output_type": "stream",
     "text": [
      "Iterations: 100%|██████████| 5/5 [01:02<00:00, 12.46s/it]\n"
     ]
    },
    {
     "name": "stdout",
     "output_type": "stream",
     "text": [
      "XGB Average RMSE over 50 folds: 0.615610\n"
     ]
    },
    {
     "name": "stderr",
     "output_type": "stream",
     "text": [
      "Iterations: 100%|██████████| 5/5 [01:05<00:00, 13.12s/it]\n"
     ]
    },
    {
     "name": "stdout",
     "output_type": "stream",
     "text": [
      "XGB Average RMSE over 50 folds: 0.608277\n"
     ]
    },
    {
     "name": "stderr",
     "output_type": "stream",
     "text": [
      "Iterations: 100%|██████████| 5/5 [01:08<00:00, 13.61s/it]\n"
     ]
    },
    {
     "name": "stdout",
     "output_type": "stream",
     "text": [
      "XGB Average RMSE over 50 folds: 0.608409\n"
     ]
    },
    {
     "name": "stderr",
     "output_type": "stream",
     "text": [
      "Iterations: 100%|██████████| 5/5 [01:26<00:00, 17.39s/it]\n"
     ]
    },
    {
     "name": "stdout",
     "output_type": "stream",
     "text": [
      "XGB Average RMSE over 50 folds: 0.616819\n"
     ]
    },
    {
     "name": "stderr",
     "output_type": "stream",
     "text": [
      "Iterations: 100%|██████████| 5/5 [01:21<00:00, 16.40s/it]\n"
     ]
    },
    {
     "name": "stdout",
     "output_type": "stream",
     "text": [
      "XGB Average RMSE over 50 folds: 0.610499\n"
     ]
    },
    {
     "name": "stderr",
     "output_type": "stream",
     "text": [
      "Iterations: 100%|██████████| 5/5 [01:03<00:00, 12.79s/it]\n"
     ]
    },
    {
     "name": "stdout",
     "output_type": "stream",
     "text": [
      "XGB Average RMSE over 50 folds: 0.608872\n"
     ]
    },
    {
     "name": "stderr",
     "output_type": "stream",
     "text": [
      "Iterations: 100%|██████████| 5/5 [01:19<00:00, 15.90s/it]\n"
     ]
    },
    {
     "name": "stdout",
     "output_type": "stream",
     "text": [
      "XGB Average RMSE over 50 folds: 0.624838\n"
     ]
    },
    {
     "name": "stderr",
     "output_type": "stream",
     "text": [
      "Iterations: 100%|██████████| 5/5 [00:38<00:00,  7.60s/it]\n"
     ]
    },
    {
     "name": "stdout",
     "output_type": "stream",
     "text": [
      "XGB Average RMSE over 50 folds: 0.604347\n"
     ]
    },
    {
     "name": "stderr",
     "output_type": "stream",
     "text": [
      "Iterations: 100%|██████████| 5/5 [01:17<00:00, 15.42s/it]\n"
     ]
    },
    {
     "name": "stdout",
     "output_type": "stream",
     "text": [
      "XGB Average RMSE over 50 folds: 0.617303\n"
     ]
    },
    {
     "name": "stderr",
     "output_type": "stream",
     "text": [
      "Iterations: 100%|██████████| 5/5 [01:50<00:00, 22.08s/it]\n"
     ]
    },
    {
     "name": "stdout",
     "output_type": "stream",
     "text": [
      "XGB Average RMSE over 50 folds: 0.619053\n"
     ]
    },
    {
     "name": "stderr",
     "output_type": "stream",
     "text": [
      "Iterations: 100%|██████████| 5/5 [01:37<00:00, 19.49s/it]\n"
     ]
    },
    {
     "name": "stdout",
     "output_type": "stream",
     "text": [
      "XGB Average RMSE over 50 folds: 0.614907\n"
     ]
    },
    {
     "name": "stderr",
     "output_type": "stream",
     "text": [
      "Iterations: 100%|██████████| 5/5 [02:45<00:00, 33.16s/it]\n"
     ]
    },
    {
     "name": "stdout",
     "output_type": "stream",
     "text": [
      "XGB Average RMSE over 50 folds: 0.615528\n"
     ]
    },
    {
     "name": "stderr",
     "output_type": "stream",
     "text": [
      "Iterations: 100%|██████████| 5/5 [00:58<00:00, 11.76s/it]\n"
     ]
    },
    {
     "name": "stdout",
     "output_type": "stream",
     "text": [
      "XGB Average RMSE over 50 folds: 0.603148\n"
     ]
    },
    {
     "name": "stderr",
     "output_type": "stream",
     "text": [
      "Iterations: 100%|██████████| 5/5 [00:44<00:00,  8.94s/it]\n"
     ]
    },
    {
     "name": "stdout",
     "output_type": "stream",
     "text": [
      "XGB Average RMSE over 50 folds: 0.602685\n"
     ]
    },
    {
     "name": "stderr",
     "output_type": "stream",
     "text": [
      "Iterations: 100%|██████████| 5/5 [00:37<00:00,  7.60s/it]\n"
     ]
    },
    {
     "name": "stdout",
     "output_type": "stream",
     "text": [
      "XGB Average RMSE over 50 folds: 0.605268\n"
     ]
    },
    {
     "name": "stderr",
     "output_type": "stream",
     "text": [
      "Iterations: 100%|██████████| 5/5 [00:58<00:00, 11.72s/it]\n"
     ]
    },
    {
     "name": "stdout",
     "output_type": "stream",
     "text": [
      "XGB Average RMSE over 50 folds: 0.605635\n"
     ]
    },
    {
     "name": "stderr",
     "output_type": "stream",
     "text": [
      "Iterations: 100%|██████████| 5/5 [02:38<00:00, 31.80s/it]\n"
     ]
    },
    {
     "name": "stdout",
     "output_type": "stream",
     "text": [
      "XGB Average RMSE over 50 folds: 0.617795\n"
     ]
    },
    {
     "name": "stderr",
     "output_type": "stream",
     "text": [
      "Iterations: 100%|██████████| 5/5 [01:08<00:00, 13.71s/it]\n"
     ]
    },
    {
     "name": "stdout",
     "output_type": "stream",
     "text": [
      "XGB Average RMSE over 50 folds: 0.614998\n"
     ]
    },
    {
     "name": "stderr",
     "output_type": "stream",
     "text": [
      "Iterations: 100%|██████████| 5/5 [00:38<00:00,  7.74s/it]\n"
     ]
    },
    {
     "name": "stdout",
     "output_type": "stream",
     "text": [
      "XGB Average RMSE over 50 folds: 0.603546\n"
     ]
    },
    {
     "name": "stderr",
     "output_type": "stream",
     "text": [
      "Iterations: 100%|██████████| 5/5 [01:25<00:00, 17.15s/it]\n"
     ]
    },
    {
     "name": "stdout",
     "output_type": "stream",
     "text": [
      "XGB Average RMSE over 50 folds: 0.608576\n"
     ]
    },
    {
     "name": "stderr",
     "output_type": "stream",
     "text": [
      "Iterations: 100%|██████████| 5/5 [00:37<00:00,  7.55s/it]\n"
     ]
    },
    {
     "name": "stdout",
     "output_type": "stream",
     "text": [
      "XGB Average RMSE over 50 folds: 0.603547\n"
     ]
    },
    {
     "name": "stderr",
     "output_type": "stream",
     "text": [
      "Iterations: 100%|██████████| 5/5 [02:25<00:00, 29.06s/it]\n"
     ]
    },
    {
     "name": "stdout",
     "output_type": "stream",
     "text": [
      "XGB Average RMSE over 50 folds: 0.615327\n"
     ]
    },
    {
     "name": "stderr",
     "output_type": "stream",
     "text": [
      "Iterations: 100%|██████████| 5/5 [01:44<00:00, 20.84s/it]\n"
     ]
    },
    {
     "name": "stdout",
     "output_type": "stream",
     "text": [
      "XGB Average RMSE over 50 folds: 0.609995\n"
     ]
    },
    {
     "name": "stderr",
     "output_type": "stream",
     "text": [
      "Iterations: 100%|██████████| 5/5 [01:13<00:00, 14.61s/it]\n"
     ]
    },
    {
     "name": "stdout",
     "output_type": "stream",
     "text": [
      "XGB Average RMSE over 50 folds: 0.618744\n"
     ]
    },
    {
     "name": "stderr",
     "output_type": "stream",
     "text": [
      "Iterations: 100%|██████████| 5/5 [01:19<00:00, 15.92s/it]\n"
     ]
    },
    {
     "name": "stdout",
     "output_type": "stream",
     "text": [
      "XGB Average RMSE over 50 folds: 0.612907\n"
     ]
    },
    {
     "name": "stderr",
     "output_type": "stream",
     "text": [
      "Iterations: 100%|██████████| 5/5 [01:34<00:00, 18.89s/it]\n"
     ]
    },
    {
     "name": "stdout",
     "output_type": "stream",
     "text": [
      "XGB Average RMSE over 50 folds: 0.610384\n"
     ]
    },
    {
     "name": "stderr",
     "output_type": "stream",
     "text": [
      "Iterations: 100%|██████████| 5/5 [00:42<00:00,  8.58s/it]\n"
     ]
    },
    {
     "name": "stdout",
     "output_type": "stream",
     "text": [
      "XGB Average RMSE over 50 folds: 0.604196\n"
     ]
    },
    {
     "name": "stderr",
     "output_type": "stream",
     "text": [
      "Iterations: 100%|██████████| 5/5 [00:39<00:00,  7.92s/it]\n"
     ]
    },
    {
     "name": "stdout",
     "output_type": "stream",
     "text": [
      "XGB Average RMSE over 50 folds: 0.676479\n"
     ]
    },
    {
     "name": "stderr",
     "output_type": "stream",
     "text": [
      "Iterations: 100%|██████████| 5/5 [00:38<00:00,  7.68s/it]\n"
     ]
    },
    {
     "name": "stdout",
     "output_type": "stream",
     "text": [
      "XGB Average RMSE over 50 folds: 0.602538\n"
     ]
    },
    {
     "name": "stderr",
     "output_type": "stream",
     "text": [
      "Iterations: 100%|██████████| 5/5 [00:42<00:00,  8.52s/it]\n"
     ]
    },
    {
     "name": "stdout",
     "output_type": "stream",
     "text": [
      "XGB Average RMSE over 50 folds: 0.608096\n"
     ]
    },
    {
     "name": "stderr",
     "output_type": "stream",
     "text": [
      "Iterations: 100%|██████████| 5/5 [00:37<00:00,  7.54s/it]\n"
     ]
    },
    {
     "name": "stdout",
     "output_type": "stream",
     "text": [
      "XGB Average RMSE over 50 folds: 0.636743\n"
     ]
    },
    {
     "name": "stderr",
     "output_type": "stream",
     "text": [
      "Iterations: 100%|██████████| 5/5 [01:07<00:00, 13.41s/it]\n"
     ]
    },
    {
     "name": "stdout",
     "output_type": "stream",
     "text": [
      "XGB Average RMSE over 50 folds: 0.621147\n"
     ]
    },
    {
     "name": "stderr",
     "output_type": "stream",
     "text": [
      "Iterations: 100%|██████████| 5/5 [01:15<00:00, 15.13s/it]\n"
     ]
    },
    {
     "name": "stdout",
     "output_type": "stream",
     "text": [
      "XGB Average RMSE over 50 folds: 0.614843\n"
     ]
    },
    {
     "name": "stderr",
     "output_type": "stream",
     "text": [
      "Iterations: 100%|██████████| 5/5 [01:07<00:00, 13.47s/it]\n"
     ]
    },
    {
     "name": "stdout",
     "output_type": "stream",
     "text": [
      "XGB Average RMSE over 50 folds: 0.607341\n"
     ]
    },
    {
     "name": "stderr",
     "output_type": "stream",
     "text": [
      "Iterations: 100%|██████████| 5/5 [01:13<00:00, 14.75s/it]\n"
     ]
    },
    {
     "name": "stdout",
     "output_type": "stream",
     "text": [
      "XGB Average RMSE over 50 folds: 0.611727\n"
     ]
    },
    {
     "name": "stderr",
     "output_type": "stream",
     "text": [
      "Iterations: 100%|██████████| 5/5 [00:58<00:00, 11.67s/it]\n"
     ]
    },
    {
     "name": "stdout",
     "output_type": "stream",
     "text": [
      "XGB Average RMSE over 50 folds: 0.621811\n"
     ]
    },
    {
     "name": "stderr",
     "output_type": "stream",
     "text": [
      "Iterations: 100%|██████████| 5/5 [00:39<00:00,  7.87s/it]\n"
     ]
    },
    {
     "name": "stdout",
     "output_type": "stream",
     "text": [
      "XGB Average RMSE over 50 folds: 0.603541\n"
     ]
    },
    {
     "name": "stderr",
     "output_type": "stream",
     "text": [
      "Iterations: 100%|██████████| 5/5 [01:56<00:00, 23.39s/it]\n"
     ]
    },
    {
     "name": "stdout",
     "output_type": "stream",
     "text": [
      "XGB Average RMSE over 50 folds: 0.621238\n"
     ]
    },
    {
     "name": "stderr",
     "output_type": "stream",
     "text": [
      "Iterations: 100%|██████████| 5/5 [02:06<00:00, 25.23s/it]\n"
     ]
    },
    {
     "name": "stdout",
     "output_type": "stream",
     "text": [
      "XGB Average RMSE over 50 folds: 0.618727\n"
     ]
    },
    {
     "name": "stderr",
     "output_type": "stream",
     "text": [
      "Iterations: 100%|██████████| 5/5 [00:49<00:00,  9.96s/it]\n"
     ]
    },
    {
     "name": "stdout",
     "output_type": "stream",
     "text": [
      "XGB Average RMSE over 50 folds: 0.605743\n"
     ]
    },
    {
     "name": "stderr",
     "output_type": "stream",
     "text": [
      "Iterations: 100%|██████████| 5/5 [00:47<00:00,  9.48s/it]\n"
     ]
    },
    {
     "name": "stdout",
     "output_type": "stream",
     "text": [
      "XGB Average RMSE over 50 folds: 0.605574\n"
     ]
    },
    {
     "name": "stderr",
     "output_type": "stream",
     "text": [
      "Iterations: 100%|██████████| 5/5 [03:19<00:00, 39.92s/it]\n"
     ]
    },
    {
     "name": "stdout",
     "output_type": "stream",
     "text": [
      "XGB Average RMSE over 50 folds: 0.638698\n"
     ]
    },
    {
     "name": "stderr",
     "output_type": "stream",
     "text": [
      "Iterations: 100%|██████████| 5/5 [00:49<00:00,  9.83s/it]\n"
     ]
    },
    {
     "name": "stdout",
     "output_type": "stream",
     "text": [
      "XGB Average RMSE over 50 folds: 0.604014\n"
     ]
    },
    {
     "name": "stderr",
     "output_type": "stream",
     "text": [
      "Iterations: 100%|██████████| 5/5 [01:21<00:00, 16.31s/it]\n"
     ]
    },
    {
     "name": "stdout",
     "output_type": "stream",
     "text": [
      "XGB Average RMSE over 50 folds: 0.609780\n"
     ]
    },
    {
     "name": "stderr",
     "output_type": "stream",
     "text": [
      "Iterations: 100%|██████████| 5/5 [02:09<00:00, 25.95s/it]\n"
     ]
    },
    {
     "name": "stdout",
     "output_type": "stream",
     "text": [
      "XGB Average RMSE over 50 folds: 0.616150\n"
     ]
    },
    {
     "name": "stderr",
     "output_type": "stream",
     "text": [
      "Iterations: 100%|██████████| 5/5 [02:25<00:00, 29.15s/it]\n"
     ]
    },
    {
     "name": "stdout",
     "output_type": "stream",
     "text": [
      "XGB Average RMSE over 50 folds: 0.629169\n"
     ]
    },
    {
     "name": "stderr",
     "output_type": "stream",
     "text": [
      "Iterations: 100%|██████████| 5/5 [00:38<00:00,  7.75s/it]\n"
     ]
    },
    {
     "name": "stdout",
     "output_type": "stream",
     "text": [
      "XGB Average RMSE over 50 folds: 0.603863\n"
     ]
    },
    {
     "name": "stderr",
     "output_type": "stream",
     "text": [
      "Iterations: 100%|██████████| 5/5 [02:15<00:00, 27.01s/it]\n"
     ]
    },
    {
     "name": "stdout",
     "output_type": "stream",
     "text": [
      "XGB Average RMSE over 50 folds: 0.616272\n"
     ]
    },
    {
     "name": "stderr",
     "output_type": "stream",
     "text": [
      "Iterations: 100%|██████████| 5/5 [01:12<00:00, 14.55s/it]\n"
     ]
    },
    {
     "name": "stdout",
     "output_type": "stream",
     "text": [
      "XGB Average RMSE over 50 folds: 0.606720\n"
     ]
    },
    {
     "name": "stderr",
     "output_type": "stream",
     "text": [
      "Iterations: 100%|██████████| 5/5 [01:10<00:00, 14.14s/it]\n"
     ]
    },
    {
     "name": "stdout",
     "output_type": "stream",
     "text": [
      "XGB Average RMSE over 50 folds: 0.614197\n"
     ]
    },
    {
     "name": "stderr",
     "output_type": "stream",
     "text": [
      "Iterations: 100%|██████████| 5/5 [00:51<00:00, 10.25s/it]\n"
     ]
    },
    {
     "name": "stdout",
     "output_type": "stream",
     "text": [
      "XGB Average RMSE over 50 folds: 0.606493\n"
     ]
    },
    {
     "name": "stderr",
     "output_type": "stream",
     "text": [
      "Iterations: 100%|██████████| 5/5 [02:22<00:00, 28.44s/it]\n"
     ]
    },
    {
     "name": "stdout",
     "output_type": "stream",
     "text": [
      "XGB Average RMSE over 50 folds: 0.616996\n"
     ]
    },
    {
     "name": "stderr",
     "output_type": "stream",
     "text": [
      "Iterations: 100%|██████████| 5/5 [01:45<00:00, 21.02s/it]\n"
     ]
    },
    {
     "name": "stdout",
     "output_type": "stream",
     "text": [
      "XGB Average RMSE over 50 folds: 0.621803\n"
     ]
    },
    {
     "name": "stderr",
     "output_type": "stream",
     "text": [
      "Iterations: 100%|██████████| 5/5 [00:47<00:00,  9.42s/it]\n"
     ]
    },
    {
     "name": "stdout",
     "output_type": "stream",
     "text": [
      "XGB Average RMSE over 50 folds: 0.606103\n"
     ]
    },
    {
     "name": "stderr",
     "output_type": "stream",
     "text": [
      "Iterations: 100%|██████████| 5/5 [00:45<00:00,  9.10s/it]\n"
     ]
    },
    {
     "name": "stdout",
     "output_type": "stream",
     "text": [
      "XGB Average RMSE over 50 folds: 0.620209\n"
     ]
    },
    {
     "name": "stderr",
     "output_type": "stream",
     "text": [
      "Iterations: 100%|██████████| 5/5 [00:50<00:00, 10.16s/it]\n"
     ]
    },
    {
     "name": "stdout",
     "output_type": "stream",
     "text": [
      "XGB Average RMSE over 50 folds: 0.601949\n"
     ]
    },
    {
     "name": "stderr",
     "output_type": "stream",
     "text": [
      "Iterations: 100%|██████████| 5/5 [01:28<00:00, 17.65s/it]\n"
     ]
    },
    {
     "name": "stdout",
     "output_type": "stream",
     "text": [
      "XGB Average RMSE over 50 folds: 0.610888\n"
     ]
    },
    {
     "name": "stderr",
     "output_type": "stream",
     "text": [
      "Iterations: 100%|██████████| 5/5 [02:23<00:00, 28.76s/it]\n"
     ]
    },
    {
     "name": "stdout",
     "output_type": "stream",
     "text": [
      "XGB Average RMSE over 50 folds: 0.617322\n"
     ]
    },
    {
     "name": "stderr",
     "output_type": "stream",
     "text": [
      "Iterations: 100%|██████████| 5/5 [02:45<00:00, 33.14s/it]\n"
     ]
    },
    {
     "name": "stdout",
     "output_type": "stream",
     "text": [
      "XGB Average RMSE over 50 folds: 0.628249\n"
     ]
    },
    {
     "name": "stderr",
     "output_type": "stream",
     "text": [
      "Iterations: 100%|██████████| 5/5 [01:26<00:00, 17.38s/it]\n"
     ]
    },
    {
     "name": "stdout",
     "output_type": "stream",
     "text": [
      "XGB Average RMSE over 50 folds: 0.613695\n"
     ]
    },
    {
     "name": "stderr",
     "output_type": "stream",
     "text": [
      "Iterations: 100%|██████████| 5/5 [01:41<00:00, 20.39s/it]\n"
     ]
    },
    {
     "name": "stdout",
     "output_type": "stream",
     "text": [
      "XGB Average RMSE over 50 folds: 0.612917\n"
     ]
    },
    {
     "name": "stderr",
     "output_type": "stream",
     "text": [
      "Iterations: 100%|██████████| 5/5 [00:59<00:00, 11.89s/it]\n"
     ]
    },
    {
     "name": "stdout",
     "output_type": "stream",
     "text": [
      "XGB Average RMSE over 50 folds: 0.608076\n"
     ]
    },
    {
     "name": "stderr",
     "output_type": "stream",
     "text": [
      "Iterations: 100%|██████████| 5/5 [01:31<00:00, 18.29s/it]\n"
     ]
    },
    {
     "name": "stdout",
     "output_type": "stream",
     "text": [
      "XGB Average RMSE over 50 folds: 0.613352\n"
     ]
    },
    {
     "name": "stderr",
     "output_type": "stream",
     "text": [
      "Iterations: 100%|██████████| 5/5 [01:10<00:00, 14.12s/it]\n"
     ]
    },
    {
     "name": "stdout",
     "output_type": "stream",
     "text": [
      "XGB Average RMSE over 50 folds: 0.611860\n"
     ]
    },
    {
     "name": "stderr",
     "output_type": "stream",
     "text": [
      "Iterations: 100%|██████████| 5/5 [01:02<00:00, 12.43s/it]\n"
     ]
    },
    {
     "name": "stdout",
     "output_type": "stream",
     "text": [
      "XGB Average RMSE over 50 folds: 0.608853\n"
     ]
    },
    {
     "name": "stderr",
     "output_type": "stream",
     "text": [
      "Iterations: 100%|██████████| 5/5 [01:18<00:00, 15.71s/it]\n"
     ]
    },
    {
     "name": "stdout",
     "output_type": "stream",
     "text": [
      "XGB Average RMSE over 50 folds: 0.623081\n"
     ]
    },
    {
     "name": "stderr",
     "output_type": "stream",
     "text": [
      "Iterations: 100%|██████████| 5/5 [00:42<00:00,  8.40s/it]\n"
     ]
    },
    {
     "name": "stdout",
     "output_type": "stream",
     "text": [
      "XGB Average RMSE over 50 folds: 0.616650\n"
     ]
    },
    {
     "name": "stderr",
     "output_type": "stream",
     "text": [
      "Iterations: 100%|██████████| 5/5 [00:42<00:00,  8.50s/it]\n"
     ]
    },
    {
     "name": "stdout",
     "output_type": "stream",
     "text": [
      "XGB Average RMSE over 50 folds: 0.609874\n"
     ]
    },
    {
     "name": "stderr",
     "output_type": "stream",
     "text": [
      "Iterations: 100%|██████████| 5/5 [01:19<00:00, 15.95s/it]\n"
     ]
    },
    {
     "name": "stdout",
     "output_type": "stream",
     "text": [
      "XGB Average RMSE over 50 folds: 0.615387\n"
     ]
    },
    {
     "name": "stderr",
     "output_type": "stream",
     "text": [
      "Iterations: 100%|██████████| 5/5 [00:56<00:00, 11.28s/it]\n"
     ]
    },
    {
     "name": "stdout",
     "output_type": "stream",
     "text": [
      "XGB Average RMSE over 50 folds: 0.607324\n"
     ]
    },
    {
     "name": "stderr",
     "output_type": "stream",
     "text": [
      "Iterations: 100%|██████████| 5/5 [01:13<00:00, 14.66s/it]\n"
     ]
    },
    {
     "name": "stdout",
     "output_type": "stream",
     "text": [
      "XGB Average RMSE over 50 folds: 0.612200\n"
     ]
    },
    {
     "name": "stderr",
     "output_type": "stream",
     "text": [
      "Iterations: 100%|██████████| 5/5 [01:06<00:00, 13.23s/it]\n"
     ]
    },
    {
     "name": "stdout",
     "output_type": "stream",
     "text": [
      "XGB Average RMSE over 50 folds: 0.612858\n"
     ]
    },
    {
     "name": "stderr",
     "output_type": "stream",
     "text": [
      "Iterations: 100%|██████████| 5/5 [04:10<00:00, 50.04s/it]\n"
     ]
    },
    {
     "name": "stdout",
     "output_type": "stream",
     "text": [
      "XGB Average RMSE over 50 folds: 0.659257\n"
     ]
    },
    {
     "name": "stderr",
     "output_type": "stream",
     "text": [
      "Iterations: 100%|██████████| 5/5 [01:48<00:00, 21.74s/it]\n"
     ]
    },
    {
     "name": "stdout",
     "output_type": "stream",
     "text": [
      "XGB Average RMSE over 50 folds: 0.616184\n"
     ]
    },
    {
     "name": "stderr",
     "output_type": "stream",
     "text": [
      "Iterations: 100%|██████████| 5/5 [00:43<00:00,  8.73s/it]\n"
     ]
    },
    {
     "name": "stdout",
     "output_type": "stream",
     "text": [
      "XGB Average RMSE over 50 folds: 0.607877\n"
     ]
    },
    {
     "name": "stderr",
     "output_type": "stream",
     "text": [
      "Iterations: 100%|██████████| 5/5 [06:27<00:00, 77.54s/it]\n"
     ]
    },
    {
     "name": "stdout",
     "output_type": "stream",
     "text": [
      "XGB Average RMSE over 50 folds: 0.629235\n"
     ]
    },
    {
     "name": "stderr",
     "output_type": "stream",
     "text": [
      "Iterations: 100%|██████████| 5/5 [00:38<00:00,  7.74s/it]\n"
     ]
    },
    {
     "name": "stdout",
     "output_type": "stream",
     "text": [
      "XGB Average RMSE over 50 folds: 0.615738\n"
     ]
    },
    {
     "name": "stderr",
     "output_type": "stream",
     "text": [
      "Iterations: 100%|██████████| 5/5 [02:01<00:00, 24.37s/it]\n"
     ]
    },
    {
     "name": "stdout",
     "output_type": "stream",
     "text": [
      "XGB Average RMSE over 50 folds: 0.617543\n"
     ]
    },
    {
     "name": "stderr",
     "output_type": "stream",
     "text": [
      "Iterations: 100%|██████████| 5/5 [01:48<00:00, 21.73s/it]\n"
     ]
    },
    {
     "name": "stdout",
     "output_type": "stream",
     "text": [
      "XGB Average RMSE over 50 folds: 0.658275\n"
     ]
    },
    {
     "name": "stderr",
     "output_type": "stream",
     "text": [
      "Iterations: 100%|██████████| 5/5 [03:33<00:00, 42.65s/it]\n"
     ]
    },
    {
     "name": "stdout",
     "output_type": "stream",
     "text": [
      "XGB Average RMSE over 50 folds: 0.648611\n"
     ]
    },
    {
     "name": "stderr",
     "output_type": "stream",
     "text": [
      "Iterations: 100%|██████████| 5/5 [00:38<00:00,  7.76s/it]\n"
     ]
    },
    {
     "name": "stdout",
     "output_type": "stream",
     "text": [
      "XGB Average RMSE over 50 folds: 0.602066\n"
     ]
    },
    {
     "name": "stderr",
     "output_type": "stream",
     "text": [
      "Iterations: 100%|██████████| 5/5 [02:01<00:00, 24.30s/it]\n"
     ]
    },
    {
     "name": "stdout",
     "output_type": "stream",
     "text": [
      "XGB Average RMSE over 50 folds: 0.615821\n"
     ]
    },
    {
     "name": "stderr",
     "output_type": "stream",
     "text": [
      "Iterations: 100%|██████████| 5/5 [03:00<00:00, 36.05s/it]\n"
     ]
    },
    {
     "name": "stdout",
     "output_type": "stream",
     "text": [
      "XGB Average RMSE over 50 folds: 0.642920\n"
     ]
    },
    {
     "name": "stderr",
     "output_type": "stream",
     "text": [
      "Iterations: 100%|██████████| 5/5 [01:29<00:00, 17.84s/it]\n"
     ]
    },
    {
     "name": "stdout",
     "output_type": "stream",
     "text": [
      "XGB Average RMSE over 50 folds: 0.610698\n"
     ]
    },
    {
     "name": "stderr",
     "output_type": "stream",
     "text": [
      "Iterations: 100%|██████████| 5/5 [01:56<00:00, 23.23s/it]\n"
     ]
    },
    {
     "name": "stdout",
     "output_type": "stream",
     "text": [
      "XGB Average RMSE over 50 folds: 0.610870\n"
     ]
    },
    {
     "name": "stderr",
     "output_type": "stream",
     "text": [
      "Iterations: 100%|██████████| 5/5 [03:16<00:00, 39.25s/it]\n"
     ]
    },
    {
     "name": "stdout",
     "output_type": "stream",
     "text": [
      "XGB Average RMSE over 50 folds: 0.620455\n"
     ]
    },
    {
     "name": "stderr",
     "output_type": "stream",
     "text": [
      "Iterations: 100%|██████████| 5/5 [00:46<00:00,  9.25s/it]\n"
     ]
    },
    {
     "name": "stdout",
     "output_type": "stream",
     "text": [
      "XGB Average RMSE over 50 folds: 0.603550\n"
     ]
    },
    {
     "name": "stderr",
     "output_type": "stream",
     "text": [
      "Iterations: 100%|██████████| 5/5 [01:14<00:00, 14.87s/it]\n"
     ]
    },
    {
     "name": "stdout",
     "output_type": "stream",
     "text": [
      "XGB Average RMSE over 50 folds: 0.614252\n"
     ]
    },
    {
     "name": "stderr",
     "output_type": "stream",
     "text": [
      "Iterations: 100%|██████████| 5/5 [02:38<00:00, 31.63s/it]\n"
     ]
    },
    {
     "name": "stdout",
     "output_type": "stream",
     "text": [
      "XGB Average RMSE over 50 folds: 0.622936\n"
     ]
    },
    {
     "name": "stderr",
     "output_type": "stream",
     "text": [
      "Iterations: 100%|██████████| 5/5 [01:04<00:00, 12.91s/it]\n"
     ]
    },
    {
     "name": "stdout",
     "output_type": "stream",
     "text": [
      "XGB Average RMSE over 50 folds: 0.615295\n"
     ]
    },
    {
     "name": "stderr",
     "output_type": "stream",
     "text": [
      "Iterations: 100%|██████████| 5/5 [01:12<00:00, 14.43s/it]\n"
     ]
    },
    {
     "name": "stdout",
     "output_type": "stream",
     "text": [
      "XGB Average RMSE over 50 folds: 0.613774\n"
     ]
    },
    {
     "name": "stderr",
     "output_type": "stream",
     "text": [
      "Iterations: 100%|██████████| 5/5 [00:55<00:00, 11.10s/it]\n"
     ]
    },
    {
     "name": "stdout",
     "output_type": "stream",
     "text": [
      "XGB Average RMSE over 50 folds: 0.607161\n"
     ]
    },
    {
     "name": "stderr",
     "output_type": "stream",
     "text": [
      "Iterations: 100%|██████████| 5/5 [01:13<00:00, 14.65s/it]\n"
     ]
    },
    {
     "name": "stdout",
     "output_type": "stream",
     "text": [
      "XGB Average RMSE over 50 folds: 0.614108\n"
     ]
    },
    {
     "name": "stderr",
     "output_type": "stream",
     "text": [
      "Iterations: 100%|██████████| 5/5 [03:05<00:00, 37.03s/it]\n"
     ]
    },
    {
     "name": "stdout",
     "output_type": "stream",
     "text": [
      "XGB Average RMSE over 50 folds: 0.632457\n"
     ]
    },
    {
     "name": "stderr",
     "output_type": "stream",
     "text": [
      "Iterations: 100%|██████████| 5/5 [02:09<00:00, 25.93s/it]\n"
     ]
    },
    {
     "name": "stdout",
     "output_type": "stream",
     "text": [
      "XGB Average RMSE over 50 folds: 0.615526\n"
     ]
    },
    {
     "name": "stderr",
     "output_type": "stream",
     "text": [
      "Iterations: 100%|██████████| 5/5 [01:19<00:00, 15.92s/it]\n"
     ]
    },
    {
     "name": "stdout",
     "output_type": "stream",
     "text": [
      "XGB Average RMSE over 50 folds: 0.616275\n"
     ]
    },
    {
     "name": "stderr",
     "output_type": "stream",
     "text": [
      "Iterations: 100%|██████████| 5/5 [01:46<00:00, 21.20s/it]\n"
     ]
    },
    {
     "name": "stdout",
     "output_type": "stream",
     "text": [
      "XGB Average RMSE over 50 folds: 0.616698\n"
     ]
    },
    {
     "name": "stderr",
     "output_type": "stream",
     "text": [
      "Iterations: 100%|██████████| 5/5 [01:24<00:00, 16.82s/it]\n"
     ]
    },
    {
     "name": "stdout",
     "output_type": "stream",
     "text": [
      "XGB Average RMSE over 50 folds: 0.609372\n"
     ]
    },
    {
     "name": "stderr",
     "output_type": "stream",
     "text": [
      "Iterations: 100%|██████████| 5/5 [01:19<00:00, 15.84s/it]\n"
     ]
    },
    {
     "name": "stdout",
     "output_type": "stream",
     "text": [
      "XGB Average RMSE over 50 folds: 0.611390\n"
     ]
    },
    {
     "name": "stderr",
     "output_type": "stream",
     "text": [
      "Iterations: 100%|██████████| 5/5 [01:13<00:00, 14.76s/it]\n"
     ]
    },
    {
     "name": "stdout",
     "output_type": "stream",
     "text": [
      "XGB Average RMSE over 50 folds: 0.613837\n"
     ]
    },
    {
     "name": "stderr",
     "output_type": "stream",
     "text": [
      "Iterations: 100%|██████████| 5/5 [01:51<00:00, 22.39s/it]\n"
     ]
    },
    {
     "name": "stdout",
     "output_type": "stream",
     "text": [
      "XGB Average RMSE over 50 folds: 0.613277\n"
     ]
    },
    {
     "name": "stderr",
     "output_type": "stream",
     "text": [
      "Iterations: 100%|██████████| 5/5 [00:40<00:00,  8.02s/it]\n"
     ]
    },
    {
     "name": "stdout",
     "output_type": "stream",
     "text": [
      "XGB Average RMSE over 50 folds: 0.667196\n"
     ]
    },
    {
     "name": "stderr",
     "output_type": "stream",
     "text": [
      "Iterations: 100%|██████████| 5/5 [00:39<00:00,  7.85s/it]\n"
     ]
    },
    {
     "name": "stdout",
     "output_type": "stream",
     "text": [
      "XGB Average RMSE over 50 folds: 0.614086\n"
     ]
    },
    {
     "name": "stderr",
     "output_type": "stream",
     "text": [
      "Iterations: 100%|██████████| 5/5 [01:02<00:00, 12.43s/it]\n"
     ]
    },
    {
     "name": "stdout",
     "output_type": "stream",
     "text": [
      "XGB Average RMSE over 50 folds: 0.606951\n"
     ]
    },
    {
     "name": "stderr",
     "output_type": "stream",
     "text": [
      "Iterations: 100%|██████████| 5/5 [00:44<00:00,  8.81s/it]\n"
     ]
    },
    {
     "name": "stdout",
     "output_type": "stream",
     "text": [
      "XGB Average RMSE over 50 folds: 0.603104\n"
     ]
    },
    {
     "name": "stderr",
     "output_type": "stream",
     "text": [
      "Iterations: 100%|██████████| 5/5 [01:01<00:00, 12.25s/it]\n"
     ]
    },
    {
     "name": "stdout",
     "output_type": "stream",
     "text": [
      "XGB Average RMSE over 50 folds: 0.608411\n"
     ]
    },
    {
     "name": "stderr",
     "output_type": "stream",
     "text": [
      "Iterations: 100%|██████████| 5/5 [01:00<00:00, 12.04s/it]\n"
     ]
    },
    {
     "name": "stdout",
     "output_type": "stream",
     "text": [
      "XGB Average RMSE over 50 folds: 0.608094\n"
     ]
    },
    {
     "name": "stderr",
     "output_type": "stream",
     "text": [
      "Iterations: 100%|██████████| 5/5 [01:03<00:00, 12.73s/it]\n"
     ]
    },
    {
     "name": "stdout",
     "output_type": "stream",
     "text": [
      "XGB Average RMSE over 50 folds: 0.634840\n"
     ]
    },
    {
     "name": "stderr",
     "output_type": "stream",
     "text": [
      "Iterations: 100%|██████████| 5/5 [00:44<00:00,  8.85s/it]\n"
     ]
    },
    {
     "name": "stdout",
     "output_type": "stream",
     "text": [
      "XGB Average RMSE over 50 folds: 0.609830\n"
     ]
    },
    {
     "name": "stderr",
     "output_type": "stream",
     "text": [
      "Iterations: 100%|██████████| 5/5 [03:51<00:00, 46.28s/it]\n"
     ]
    },
    {
     "name": "stdout",
     "output_type": "stream",
     "text": [
      "XGB Average RMSE over 50 folds: 0.615564\n"
     ]
    },
    {
     "name": "stderr",
     "output_type": "stream",
     "text": [
      "Iterations: 100%|██████████| 5/5 [00:45<00:00,  9.02s/it]\n"
     ]
    },
    {
     "name": "stdout",
     "output_type": "stream",
     "text": [
      "XGB Average RMSE over 50 folds: 0.626569\n"
     ]
    },
    {
     "name": "stderr",
     "output_type": "stream",
     "text": [
      "Iterations: 100%|██████████| 5/5 [00:43<00:00,  8.65s/it]\n"
     ]
    },
    {
     "name": "stdout",
     "output_type": "stream",
     "text": [
      "XGB Average RMSE over 50 folds: 0.606068\n"
     ]
    },
    {
     "name": "stderr",
     "output_type": "stream",
     "text": [
      "Iterations: 100%|██████████| 5/5 [01:01<00:00, 12.37s/it]\n"
     ]
    },
    {
     "name": "stdout",
     "output_type": "stream",
     "text": [
      "XGB Average RMSE over 50 folds: 0.614222\n"
     ]
    },
    {
     "name": "stderr",
     "output_type": "stream",
     "text": [
      "Iterations: 100%|██████████| 5/5 [00:59<00:00, 11.80s/it]\n"
     ]
    },
    {
     "name": "stdout",
     "output_type": "stream",
     "text": [
      "XGB Average RMSE over 50 folds: 0.609639\n"
     ]
    },
    {
     "name": "stderr",
     "output_type": "stream",
     "text": [
      "Iterations: 100%|██████████| 5/5 [03:01<00:00, 36.24s/it]\n"
     ]
    },
    {
     "name": "stdout",
     "output_type": "stream",
     "text": [
      "XGB Average RMSE over 50 folds: 0.615003\n"
     ]
    },
    {
     "name": "stderr",
     "output_type": "stream",
     "text": [
      "Iterations: 100%|██████████| 5/5 [01:51<00:00, 22.23s/it]\n"
     ]
    },
    {
     "name": "stdout",
     "output_type": "stream",
     "text": [
      "XGB Average RMSE over 50 folds: 0.620262\n"
     ]
    },
    {
     "name": "stderr",
     "output_type": "stream",
     "text": [
      "Iterations: 100%|██████████| 5/5 [01:10<00:00, 14.15s/it]\n"
     ]
    },
    {
     "name": "stdout",
     "output_type": "stream",
     "text": [
      "XGB Average RMSE over 50 folds: 0.619507\n"
     ]
    },
    {
     "name": "stderr",
     "output_type": "stream",
     "text": [
      "Iterations: 100%|██████████| 5/5 [01:34<00:00, 18.89s/it]\n"
     ]
    },
    {
     "name": "stdout",
     "output_type": "stream",
     "text": [
      "XGB Average RMSE over 50 folds: 0.614168\n"
     ]
    },
    {
     "name": "stderr",
     "output_type": "stream",
     "text": [
      "Iterations: 100%|██████████| 5/5 [01:45<00:00, 21.09s/it]\n"
     ]
    },
    {
     "name": "stdout",
     "output_type": "stream",
     "text": [
      "XGB Average RMSE over 50 folds: 0.616866\n"
     ]
    },
    {
     "name": "stderr",
     "output_type": "stream",
     "text": [
      "Iterations: 100%|██████████| 5/5 [01:42<00:00, 20.53s/it]\n"
     ]
    },
    {
     "name": "stdout",
     "output_type": "stream",
     "text": [
      "XGB Average RMSE over 50 folds: 0.616404\n"
     ]
    },
    {
     "name": "stderr",
     "output_type": "stream",
     "text": [
      "Iterations: 100%|██████████| 5/5 [00:38<00:00,  7.66s/it]\n"
     ]
    },
    {
     "name": "stdout",
     "output_type": "stream",
     "text": [
      "XGB Average RMSE over 50 folds: 0.605255\n"
     ]
    },
    {
     "name": "stderr",
     "output_type": "stream",
     "text": [
      "Iterations: 100%|██████████| 5/5 [00:39<00:00,  7.96s/it]\n"
     ]
    },
    {
     "name": "stdout",
     "output_type": "stream",
     "text": [
      "XGB Average RMSE over 50 folds: 0.609696\n"
     ]
    },
    {
     "name": "stderr",
     "output_type": "stream",
     "text": [
      "Iterations: 100%|██████████| 5/5 [01:45<00:00, 21.01s/it]\n"
     ]
    },
    {
     "name": "stdout",
     "output_type": "stream",
     "text": [
      "XGB Average RMSE over 50 folds: 0.610296\n"
     ]
    },
    {
     "name": "stderr",
     "output_type": "stream",
     "text": [
      "Iterations: 100%|██████████| 5/5 [01:04<00:00, 12.85s/it]\n"
     ]
    },
    {
     "name": "stdout",
     "output_type": "stream",
     "text": [
      "XGB Average RMSE over 50 folds: 0.606215\n"
     ]
    },
    {
     "name": "stderr",
     "output_type": "stream",
     "text": [
      "Iterations: 100%|██████████| 5/5 [01:12<00:00, 14.53s/it]"
     ]
    },
    {
     "name": "stdout",
     "output_type": "stream",
     "text": [
      "XGB Average RMSE over 50 folds: 0.615773\n",
      "Best RMSE: 0.601441\n",
      "Best Parameters: {'objective': 'reg:squarederror', 'base_score': None, 'booster': 'gbtree', 'callbacks': None, 'colsample_bylevel': None, 'colsample_bynode': None, 'colsample_bytree': 0.8739265814988941, 'device': 'cuda', 'early_stopping_rounds': 250, 'enable_categorical': False, 'eval_metric': None, 'feature_types': None, 'gamma': 0.3893408430829386, 'grow_policy': None, 'importance_type': None, 'interaction_constraints': None, 'learning_rate': 0.18205557831997368, 'max_bin': None, 'max_cat_threshold': None, 'max_cat_to_onehot': None, 'max_delta_step': None, 'max_depth': 3, 'max_leaves': None, 'min_child_weight': 4, 'missing': nan, 'monotone_constraints': None, 'multi_strategy': None, 'n_estimators': None, 'n_jobs': None, 'num_parallel_tree': None, 'random_state': 42, 'reg_alpha': None, 'reg_lambda': None, 'sampling_method': None, 'scale_pos_weight': None, 'subsample': 0.6407940935121966, 'tree_method': None, 'validate_parameters': None, 'verbosity': None}\n"
     ]
    },
    {
     "name": "stderr",
     "output_type": "stream",
     "text": [
      "\n"
     ]
    }
   ],
   "source": [
    "import numpy as np\n",
    "import xgboost as xgb\n",
    "from sklearn.metrics import mean_squared_error\n",
    "from sklearn.model_selection import StratifiedKFold\n",
    "import random\n",
    "\n",
    "def random_param_search_xgb(train_feats, test_feats, n_iterations):\n",
    "    # Define parameter ranges\n",
    "    param_ranges = {\n",
    "        'booster': ['gbtree'],\n",
    "        'max_depth': (3, 10),  # Range for max_depth\n",
    "        'learning_rate': (0.01, 0.2),  # Range for learning_rate\n",
    "        'min_child_weight': (1, 6),  # Range for min_child_weight\n",
    "        'gamma': (0, 0.5),  # Range for gamma\n",
    "        'subsample': (0.5, 1),  # Range for subsample\n",
    "        'colsample_bytree': (0.5, 1),  # Range for colsample_bytree\n",
    "    }\n",
    "\n",
    "    best_rmse = float(\"inf\")\n",
    "    best_params = None\n",
    "    test_predictions_df = pd.DataFrame()\n",
    "\n",
    "    for _ in range(n_iterations):\n",
    "\n",
    "        # Sampling parameters from ranges\n",
    "        params = {\n",
    "            'booster': random.choice(param_ranges['booster']),\n",
    "            'max_depth': random.randint(*param_ranges['max_depth']),\n",
    "            'learning_rate': random.uniform(*param_ranges['learning_rate']),\n",
    "            'min_child_weight': random.randint(*param_ranges['min_child_weight']),\n",
    "            'gamma': random.uniform(*param_ranges['gamma']),\n",
    "            'subsample': random.uniform(*param_ranges['subsample']),\n",
    "            'colsample_bytree': random.uniform(*param_ranges['colsample_bytree']),\n",
    "            'device': 'cuda',\n",
    "        }\n",
    "        \n",
    "        # Train and evaluate model\n",
    "        booster = params['booster']\n",
    "        _, _, rmse, model = xgb_cv_pipeline(train_feats, test_feats, params)\n",
    "                                        \n",
    "        new_iter = {'rmse': [rmse],\n",
    "                    'params': str(model.get_params())}\n",
    "\n",
    "        test_predictions_df = pd.concat([test_predictions_df, pd.DataFrame(data=new_iter)])\n",
    "        # Update best parameters if current model is better\n",
    "        if rmse < best_rmse:\n",
    "            print(f\"New best RMSE: {rmse:.6f}\")\n",
    "            best_rmse = rmse\n",
    "            best_params = model.get_params()\n",
    "    \n",
    "    print(f\"Best RMSE: {best_rmse:.6f}\")\n",
    "    print(\"Best Parameters:\", best_params)\n",
    "    return test_predictions_df\n",
    "\n",
    "# Example usage\n",
    "test_predictions_df_xgb = random_param_search_xgb(train_feats, test_feats, 300)\n",
    "test_predictions_df_xgb.sort_values('rmse').to_csv('params_xgb.csv', index=False)"
   ]
  },
  {
   "cell_type": "code",
   "execution_count": 4,
   "metadata": {},
   "outputs": [
    {
     "name": "stderr",
     "output_type": "stream",
     "text": [
      "Iterations:   0%|          | 0/5 [00:00<?, ?it/s]"
     ]
    },
    {
     "name": "stderr",
     "output_type": "stream",
     "text": [
      "Iterations: 100%|██████████| 5/5 [01:37<00:00, 19.58s/it]\n"
     ]
    },
    {
     "name": "stdout",
     "output_type": "stream",
     "text": [
      "XGB Average RMSE over 50 folds: 0.609284\n",
      "New best RMSE: 0.609284\n"
     ]
    },
    {
     "name": "stderr",
     "output_type": "stream",
     "text": [
      "Iterations: 100%|██████████| 5/5 [02:32<00:00, 30.53s/it]\n"
     ]
    },
    {
     "name": "stdout",
     "output_type": "stream",
     "text": [
      "XGB Average RMSE over 50 folds: 0.615890\n"
     ]
    },
    {
     "name": "stderr",
     "output_type": "stream",
     "text": [
      "Iterations: 100%|██████████| 5/5 [02:03<00:00, 24.72s/it]\n"
     ]
    },
    {
     "name": "stdout",
     "output_type": "stream",
     "text": [
      "XGB Average RMSE over 50 folds: 0.611885\n"
     ]
    },
    {
     "name": "stderr",
     "output_type": "stream",
     "text": [
      "Iterations: 100%|██████████| 5/5 [01:11<00:00, 14.36s/it]\n"
     ]
    },
    {
     "name": "stdout",
     "output_type": "stream",
     "text": [
      "XGB Average RMSE over 50 folds: 0.612129\n"
     ]
    },
    {
     "name": "stderr",
     "output_type": "stream",
     "text": [
      "Iterations: 100%|██████████| 5/5 [01:16<00:00, 15.21s/it]\n"
     ]
    },
    {
     "name": "stdout",
     "output_type": "stream",
     "text": [
      "XGB Average RMSE over 50 folds: 0.611918\n"
     ]
    },
    {
     "name": "stderr",
     "output_type": "stream",
     "text": [
      "Iterations: 100%|██████████| 5/5 [01:09<00:00, 13.96s/it]\n"
     ]
    },
    {
     "name": "stdout",
     "output_type": "stream",
     "text": [
      "XGB Average RMSE over 50 folds: 0.615517\n"
     ]
    },
    {
     "name": "stderr",
     "output_type": "stream",
     "text": [
      "Iterations: 100%|██████████| 5/5 [01:27<00:00, 17.44s/it]\n"
     ]
    },
    {
     "name": "stdout",
     "output_type": "stream",
     "text": [
      "XGB Average RMSE over 50 folds: 0.615626\n"
     ]
    },
    {
     "name": "stderr",
     "output_type": "stream",
     "text": [
      "Iterations: 100%|██████████| 5/5 [00:56<00:00, 11.24s/it]\n"
     ]
    },
    {
     "name": "stdout",
     "output_type": "stream",
     "text": [
      "XGB Average RMSE over 50 folds: 0.607809\n",
      "New best RMSE: 0.607809\n"
     ]
    },
    {
     "name": "stderr",
     "output_type": "stream",
     "text": [
      "Iterations: 100%|██████████| 5/5 [00:54<00:00, 10.91s/it]\n"
     ]
    },
    {
     "name": "stdout",
     "output_type": "stream",
     "text": [
      "XGB Average RMSE over 50 folds: 0.608097\n"
     ]
    },
    {
     "name": "stderr",
     "output_type": "stream",
     "text": [
      "Iterations: 100%|██████████| 5/5 [01:48<00:00, 21.67s/it]\n"
     ]
    },
    {
     "name": "stdout",
     "output_type": "stream",
     "text": [
      "XGB Average RMSE over 50 folds: 0.616524\n"
     ]
    },
    {
     "name": "stderr",
     "output_type": "stream",
     "text": [
      "Iterations: 100%|██████████| 5/5 [01:19<00:00, 15.99s/it]\n"
     ]
    },
    {
     "name": "stdout",
     "output_type": "stream",
     "text": [
      "XGB Average RMSE over 50 folds: 0.610793\n"
     ]
    },
    {
     "name": "stderr",
     "output_type": "stream",
     "text": [
      "Iterations: 100%|██████████| 5/5 [00:38<00:00,  7.60s/it]\n"
     ]
    },
    {
     "name": "stdout",
     "output_type": "stream",
     "text": [
      "XGB Average RMSE over 50 folds: 0.611270\n"
     ]
    },
    {
     "name": "stderr",
     "output_type": "stream",
     "text": [
      "Iterations: 100%|██████████| 5/5 [02:03<00:00, 24.68s/it]\n"
     ]
    },
    {
     "name": "stdout",
     "output_type": "stream",
     "text": [
      "XGB Average RMSE over 50 folds: 0.619423\n"
     ]
    },
    {
     "name": "stderr",
     "output_type": "stream",
     "text": [
      "Iterations: 100%|██████████| 5/5 [01:05<00:00, 13.10s/it]\n"
     ]
    },
    {
     "name": "stdout",
     "output_type": "stream",
     "text": [
      "XGB Average RMSE over 50 folds: 0.619322\n"
     ]
    },
    {
     "name": "stderr",
     "output_type": "stream",
     "text": [
      "Iterations: 100%|██████████| 5/5 [01:13<00:00, 14.68s/it]\n"
     ]
    },
    {
     "name": "stdout",
     "output_type": "stream",
     "text": [
      "XGB Average RMSE over 50 folds: 0.617422\n"
     ]
    },
    {
     "name": "stderr",
     "output_type": "stream",
     "text": [
      "Iterations: 100%|██████████| 5/5 [01:16<00:00, 15.39s/it]\n"
     ]
    },
    {
     "name": "stdout",
     "output_type": "stream",
     "text": [
      "XGB Average RMSE over 50 folds: 0.614616\n"
     ]
    },
    {
     "name": "stderr",
     "output_type": "stream",
     "text": [
      "Iterations: 100%|██████████| 5/5 [03:05<00:00, 37.16s/it]\n"
     ]
    },
    {
     "name": "stdout",
     "output_type": "stream",
     "text": [
      "XGB Average RMSE over 50 folds: 0.617315\n"
     ]
    },
    {
     "name": "stderr",
     "output_type": "stream",
     "text": [
      "Iterations: 100%|██████████| 5/5 [01:09<00:00, 13.81s/it]\n"
     ]
    },
    {
     "name": "stdout",
     "output_type": "stream",
     "text": [
      "XGB Average RMSE over 50 folds: 0.611415\n"
     ]
    },
    {
     "name": "stderr",
     "output_type": "stream",
     "text": [
      "Iterations: 100%|██████████| 5/5 [03:06<00:00, 37.38s/it]\n"
     ]
    },
    {
     "name": "stdout",
     "output_type": "stream",
     "text": [
      "XGB Average RMSE over 50 folds: 0.617684\n"
     ]
    },
    {
     "name": "stderr",
     "output_type": "stream",
     "text": [
      "Iterations: 100%|██████████| 5/5 [03:27<00:00, 41.60s/it]\n"
     ]
    },
    {
     "name": "stdout",
     "output_type": "stream",
     "text": [
      "XGB Average RMSE over 50 folds: 0.619502\n"
     ]
    },
    {
     "name": "stderr",
     "output_type": "stream",
     "text": [
      "Iterations: 100%|██████████| 5/5 [01:04<00:00, 12.99s/it]\n"
     ]
    },
    {
     "name": "stdout",
     "output_type": "stream",
     "text": [
      "XGB Average RMSE over 50 folds: 0.607457\n",
      "New best RMSE: 0.607457\n"
     ]
    },
    {
     "name": "stderr",
     "output_type": "stream",
     "text": [
      "Iterations: 100%|██████████| 5/5 [01:31<00:00, 18.36s/it]\n"
     ]
    },
    {
     "name": "stdout",
     "output_type": "stream",
     "text": [
      "XGB Average RMSE over 50 folds: 0.617566\n"
     ]
    },
    {
     "name": "stderr",
     "output_type": "stream",
     "text": [
      "Iterations: 100%|██████████| 5/5 [00:37<00:00,  7.52s/it]\n"
     ]
    },
    {
     "name": "stdout",
     "output_type": "stream",
     "text": [
      "XGB Average RMSE over 50 folds: 0.604966\n",
      "New best RMSE: 0.604966\n"
     ]
    },
    {
     "name": "stderr",
     "output_type": "stream",
     "text": [
      "Iterations: 100%|██████████| 5/5 [03:12<00:00, 38.55s/it]\n"
     ]
    },
    {
     "name": "stdout",
     "output_type": "stream",
     "text": [
      "XGB Average RMSE over 50 folds: 0.624426\n"
     ]
    },
    {
     "name": "stderr",
     "output_type": "stream",
     "text": [
      "Iterations: 100%|██████████| 5/5 [01:16<00:00, 15.24s/it]\n"
     ]
    },
    {
     "name": "stdout",
     "output_type": "stream",
     "text": [
      "XGB Average RMSE over 50 folds: 0.616001\n"
     ]
    },
    {
     "name": "stderr",
     "output_type": "stream",
     "text": [
      "Iterations: 100%|██████████| 5/5 [01:41<00:00, 20.31s/it]\n"
     ]
    },
    {
     "name": "stdout",
     "output_type": "stream",
     "text": [
      "XGB Average RMSE over 50 folds: 0.623767\n"
     ]
    },
    {
     "name": "stderr",
     "output_type": "stream",
     "text": [
      "Iterations: 100%|██████████| 5/5 [01:46<00:00, 21.35s/it]\n"
     ]
    },
    {
     "name": "stdout",
     "output_type": "stream",
     "text": [
      "XGB Average RMSE over 50 folds: 0.623887\n"
     ]
    },
    {
     "name": "stderr",
     "output_type": "stream",
     "text": [
      "Iterations: 100%|██████████| 5/5 [00:50<00:00, 10.16s/it]\n"
     ]
    },
    {
     "name": "stdout",
     "output_type": "stream",
     "text": [
      "XGB Average RMSE over 50 folds: 0.625044\n"
     ]
    },
    {
     "name": "stderr",
     "output_type": "stream",
     "text": [
      "Iterations: 100%|██████████| 5/5 [04:03<00:00, 48.74s/it]\n"
     ]
    },
    {
     "name": "stdout",
     "output_type": "stream",
     "text": [
      "XGB Average RMSE over 50 folds: 0.626521\n"
     ]
    },
    {
     "name": "stderr",
     "output_type": "stream",
     "text": [
      "Iterations: 100%|██████████| 5/5 [01:04<00:00, 12.93s/it]\n"
     ]
    },
    {
     "name": "stdout",
     "output_type": "stream",
     "text": [
      "XGB Average RMSE over 50 folds: 0.619984\n"
     ]
    },
    {
     "name": "stderr",
     "output_type": "stream",
     "text": [
      "Iterations: 100%|██████████| 5/5 [01:06<00:00, 13.21s/it]\n"
     ]
    },
    {
     "name": "stdout",
     "output_type": "stream",
     "text": [
      "XGB Average RMSE over 50 folds: 0.613885\n"
     ]
    },
    {
     "name": "stderr",
     "output_type": "stream",
     "text": [
      "Iterations: 100%|██████████| 5/5 [00:49<00:00,  9.89s/it]\n"
     ]
    },
    {
     "name": "stdout",
     "output_type": "stream",
     "text": [
      "XGB Average RMSE over 50 folds: 0.634410\n"
     ]
    },
    {
     "name": "stderr",
     "output_type": "stream",
     "text": [
      "Iterations: 100%|██████████| 5/5 [00:49<00:00,  9.97s/it]\n"
     ]
    },
    {
     "name": "stdout",
     "output_type": "stream",
     "text": [
      "XGB Average RMSE over 50 folds: 0.610037\n"
     ]
    },
    {
     "name": "stderr",
     "output_type": "stream",
     "text": [
      "Iterations: 100%|██████████| 5/5 [01:56<00:00, 23.31s/it]\n"
     ]
    },
    {
     "name": "stdout",
     "output_type": "stream",
     "text": [
      "XGB Average RMSE over 50 folds: 0.625043\n"
     ]
    },
    {
     "name": "stderr",
     "output_type": "stream",
     "text": [
      "Iterations: 100%|██████████| 5/5 [01:56<00:00, 23.39s/it]\n"
     ]
    },
    {
     "name": "stdout",
     "output_type": "stream",
     "text": [
      "XGB Average RMSE over 50 folds: 0.654091\n"
     ]
    },
    {
     "name": "stderr",
     "output_type": "stream",
     "text": [
      "Iterations: 100%|██████████| 5/5 [00:49<00:00,  9.92s/it]\n"
     ]
    },
    {
     "name": "stdout",
     "output_type": "stream",
     "text": [
      "XGB Average RMSE over 50 folds: 0.627268\n"
     ]
    },
    {
     "name": "stderr",
     "output_type": "stream",
     "text": [
      "Iterations: 100%|██████████| 5/5 [04:10<00:00, 50.02s/it]\n"
     ]
    },
    {
     "name": "stdout",
     "output_type": "stream",
     "text": [
      "XGB Average RMSE over 50 folds: 0.644127\n"
     ]
    },
    {
     "name": "stderr",
     "output_type": "stream",
     "text": [
      "Iterations: 100%|██████████| 5/5 [01:19<00:00, 15.83s/it]\n"
     ]
    },
    {
     "name": "stdout",
     "output_type": "stream",
     "text": [
      "XGB Average RMSE over 50 folds: 0.609929\n"
     ]
    },
    {
     "name": "stderr",
     "output_type": "stream",
     "text": [
      "Iterations: 100%|██████████| 5/5 [01:35<00:00, 19.04s/it]\n"
     ]
    },
    {
     "name": "stdout",
     "output_type": "stream",
     "text": [
      "XGB Average RMSE over 50 folds: 0.611669\n"
     ]
    },
    {
     "name": "stderr",
     "output_type": "stream",
     "text": [
      "Iterations: 100%|██████████| 5/5 [01:14<00:00, 14.99s/it]\n"
     ]
    },
    {
     "name": "stdout",
     "output_type": "stream",
     "text": [
      "XGB Average RMSE over 50 folds: 0.612679\n"
     ]
    },
    {
     "name": "stderr",
     "output_type": "stream",
     "text": [
      "Iterations: 100%|██████████| 5/5 [00:47<00:00,  9.56s/it]\n"
     ]
    },
    {
     "name": "stdout",
     "output_type": "stream",
     "text": [
      "XGB Average RMSE over 50 folds: 0.605320\n"
     ]
    },
    {
     "name": "stderr",
     "output_type": "stream",
     "text": [
      "Iterations:  40%|████      | 2/5 [02:32<03:49, 76.41s/it]\n"
     ]
    },
    {
     "ename": "KeyboardInterrupt",
     "evalue": "",
     "output_type": "error",
     "traceback": [
      "\u001b[0;31m---------------------------------------------------------------------------\u001b[0m",
      "\u001b[0;31mKeyboardInterrupt\u001b[0m                         Traceback (most recent call last)",
      "\u001b[1;32m/root/Projects/Kaggle/linking-writing/SPF_lgbm_randomsearch.ipynb Cell 4\u001b[0m line \u001b[0;36m5\n\u001b[1;32m     <a href='vscode-notebook-cell://wsl%2Bubuntu/root/Projects/Kaggle/linking-writing/SPF_lgbm_randomsearch.ipynb#X14sdnNjb2RlLXJlbW90ZQ%3D%3D?line=52'>53</a>\u001b[0m     \u001b[39mreturn\u001b[39;00m test_predictions_df\n\u001b[1;32m     <a href='vscode-notebook-cell://wsl%2Bubuntu/root/Projects/Kaggle/linking-writing/SPF_lgbm_randomsearch.ipynb#X14sdnNjb2RlLXJlbW90ZQ%3D%3D?line=54'>55</a>\u001b[0m \u001b[39m# Example usage\u001b[39;00m\n\u001b[0;32m---> <a href='vscode-notebook-cell://wsl%2Bubuntu/root/Projects/Kaggle/linking-writing/SPF_lgbm_randomsearch.ipynb#X14sdnNjb2RlLXJlbW90ZQ%3D%3D?line=55'>56</a>\u001b[0m test_predictions_df_xgb \u001b[39m=\u001b[39m random_param_search_xgb(train_feats, test_feats, \u001b[39m850\u001b[39;49m)\n\u001b[1;32m     <a href='vscode-notebook-cell://wsl%2Bubuntu/root/Projects/Kaggle/linking-writing/SPF_lgbm_randomsearch.ipynb#X14sdnNjb2RlLXJlbW90ZQ%3D%3D?line=56'>57</a>\u001b[0m test_predictions_df_xgb\u001b[39m.\u001b[39msort_values(\u001b[39m'\u001b[39m\u001b[39mrmse\u001b[39m\u001b[39m'\u001b[39m)\u001b[39m.\u001b[39mto_csv(\u001b[39m'\u001b[39m\u001b[39mparams_xgb2.csv\u001b[39m\u001b[39m'\u001b[39m, index\u001b[39m=\u001b[39m\u001b[39mFalse\u001b[39;00m)\n",
      "\u001b[1;32m/root/Projects/Kaggle/linking-writing/SPF_lgbm_randomsearch.ipynb Cell 4\u001b[0m line \u001b[0;36m3\n\u001b[1;32m     <a href='vscode-notebook-cell://wsl%2Bubuntu/root/Projects/Kaggle/linking-writing/SPF_lgbm_randomsearch.ipynb#X14sdnNjb2RlLXJlbW90ZQ%3D%3D?line=36'>37</a>\u001b[0m \u001b[39m# Train and evaluate model\u001b[39;00m\n\u001b[1;32m     <a href='vscode-notebook-cell://wsl%2Bubuntu/root/Projects/Kaggle/linking-writing/SPF_lgbm_randomsearch.ipynb#X14sdnNjb2RlLXJlbW90ZQ%3D%3D?line=37'>38</a>\u001b[0m booster \u001b[39m=\u001b[39m params[\u001b[39m'\u001b[39m\u001b[39mbooster\u001b[39m\u001b[39m'\u001b[39m]\n\u001b[0;32m---> <a href='vscode-notebook-cell://wsl%2Bubuntu/root/Projects/Kaggle/linking-writing/SPF_lgbm_randomsearch.ipynb#X14sdnNjb2RlLXJlbW90ZQ%3D%3D?line=38'>39</a>\u001b[0m _, _, rmse, model \u001b[39m=\u001b[39m xgb_cv_pipeline(train_feats, test_feats, params)\n\u001b[1;32m     <a href='vscode-notebook-cell://wsl%2Bubuntu/root/Projects/Kaggle/linking-writing/SPF_lgbm_randomsearch.ipynb#X14sdnNjb2RlLXJlbW90ZQ%3D%3D?line=40'>41</a>\u001b[0m new_iter \u001b[39m=\u001b[39m {\u001b[39m'\u001b[39m\u001b[39mrmse\u001b[39m\u001b[39m'\u001b[39m: [rmse],\n\u001b[1;32m     <a href='vscode-notebook-cell://wsl%2Bubuntu/root/Projects/Kaggle/linking-writing/SPF_lgbm_randomsearch.ipynb#X14sdnNjb2RlLXJlbW90ZQ%3D%3D?line=41'>42</a>\u001b[0m             \u001b[39m'\u001b[39m\u001b[39mparams\u001b[39m\u001b[39m'\u001b[39m: \u001b[39mstr\u001b[39m(model\u001b[39m.\u001b[39mget_params())}\n\u001b[1;32m     <a href='vscode-notebook-cell://wsl%2Bubuntu/root/Projects/Kaggle/linking-writing/SPF_lgbm_randomsearch.ipynb#X14sdnNjb2RlLXJlbW90ZQ%3D%3D?line=43'>44</a>\u001b[0m test_predictions_df \u001b[39m=\u001b[39m pd\u001b[39m.\u001b[39mconcat([test_predictions_df, pd\u001b[39m.\u001b[39mDataFrame(data\u001b[39m=\u001b[39mnew_iter)])\n",
      "File \u001b[0;32m~/Projects/Kaggle/linking-writing/m5_models.py:191\u001b[0m, in \u001b[0;36mxgb_cv_pipeline\u001b[0;34m(train_feats, test_feats, xgb_params, seed, n_repeats, n_splits)\u001b[0m\n\u001b[1;32m    188\u001b[0m train_feats\u001b[39m.\u001b[39mreplace([np\u001b[39m.\u001b[39minf, \u001b[39m-\u001b[39mnp\u001b[39m.\u001b[39minf], np\u001b[39m.\u001b[39mnan, inplace\u001b[39m=\u001b[39m\u001b[39mTrue\u001b[39;00m)\n\u001b[1;32m    189\u001b[0m test_feats\u001b[39m.\u001b[39mreplace([np\u001b[39m.\u001b[39minf, \u001b[39m-\u001b[39mnp\u001b[39m.\u001b[39minf], np\u001b[39m.\u001b[39mnan, inplace\u001b[39m=\u001b[39m\u001b[39mTrue\u001b[39;00m)\n\u001b[0;32m--> 191\u001b[0m test_preds, oof_preds, rmse, model \u001b[39m=\u001b[39m run_xgb_cv(train_feats\u001b[39m=\u001b[39;49mtrain_feats, test_feats\u001b[39m=\u001b[39;49mtest_feats, \n\u001b[1;32m    192\u001b[0m                   train_cols\u001b[39m=\u001b[39;49mtrain_cols, target_col\u001b[39m=\u001b[39;49mtarget_col, \n\u001b[1;32m    193\u001b[0m                   xgb_params\u001b[39m=\u001b[39;49mxgb_params,\n\u001b[1;32m    194\u001b[0m                   seed\u001b[39m=\u001b[39;49mseed, n_repeats\u001b[39m=\u001b[39;49mn_repeats, n_splits\u001b[39m=\u001b[39;49mn_splits)\n\u001b[1;32m    196\u001b[0m \u001b[39mreturn\u001b[39;00m test_preds, oof_preds, rmse, model\n",
      "File \u001b[0;32m~/Projects/Kaggle/linking-writing/m5_models.py:162\u001b[0m, in \u001b[0;36mrun_xgb_cv\u001b[0;34m(train_feats, test_feats, train_cols, target_col, xgb_params, seed, n_repeats, n_splits)\u001b[0m\n\u001b[1;32m    159\u001b[0m X_valid, y_valid \u001b[39m=\u001b[39m X\u001b[39m.\u001b[39mloc[valid_idx], y\u001b[39m.\u001b[39mloc[valid_idx]\n\u001b[1;32m    161\u001b[0m model_xgb \u001b[39m=\u001b[39m xgb\u001b[39m.\u001b[39mXGBRegressor(\u001b[39m*\u001b[39m\u001b[39m*\u001b[39mxgb_params)\u001b[39m.\u001b[39mset_params(early_stopping_rounds\u001b[39m=\u001b[39m\u001b[39m250\u001b[39m, random_state \u001b[39m=\u001b[39m seed)\n\u001b[0;32m--> 162\u001b[0m valid_preds_xgb, test_preds_xgb \u001b[39m=\u001b[39m run_xgb_model(model_xgb, \n\u001b[1;32m    163\u001b[0m                                    X_train, y_train, \n\u001b[1;32m    164\u001b[0m                                    X_valid, y_valid, \n\u001b[1;32m    165\u001b[0m                                    X_test)\n\u001b[1;32m    167\u001b[0m test_preds_list\u001b[39m.\u001b[39mappend(test_preds_xgb)\n\u001b[1;32m    169\u001b[0m tmp_df \u001b[39m=\u001b[39m train_feats\u001b[39m.\u001b[39mloc[valid_idx][[\u001b[39m'\u001b[39m\u001b[39mid\u001b[39m\u001b[39m'\u001b[39m,\u001b[39m'\u001b[39m\u001b[39mscore\u001b[39m\u001b[39m'\u001b[39m]]\n",
      "File \u001b[0;32m~/Projects/Kaggle/linking-writing/m5_models.py:24\u001b[0m, in \u001b[0;36mrun_xgb_model\u001b[0;34m(model, X_train, y_train, X_valid, y_valid, X_test)\u001b[0m\n\u001b[1;32m     23\u001b[0m \u001b[39mdef\u001b[39;00m \u001b[39mrun_xgb_model\u001b[39m(model, X_train, y_train, X_valid, y_valid, X_test):\n\u001b[0;32m---> 24\u001b[0m     model\u001b[39m.\u001b[39;49mfit(\n\u001b[1;32m     25\u001b[0m         X_train, y_train, \n\u001b[1;32m     26\u001b[0m         eval_set\u001b[39m=\u001b[39;49m[(X_valid, y_valid)],\n\u001b[1;32m     27\u001b[0m         verbose\u001b[39m=\u001b[39;49m\u001b[39mFalse\u001b[39;49;00m\n\u001b[1;32m     28\u001b[0m     )\n\u001b[1;32m     29\u001b[0m     valid_predictions \u001b[39m=\u001b[39m model\u001b[39m.\u001b[39mpredict(X_valid)\n\u001b[1;32m     30\u001b[0m     test_predictions \u001b[39m=\u001b[39m model\u001b[39m.\u001b[39mpredict(X_test)\n",
      "File \u001b[0;32m~/miniconda3/envs/lrp/lib/python3.10/site-packages/xgboost/core.py:729\u001b[0m, in \u001b[0;36mrequire_keyword_args.<locals>.throw_if.<locals>.inner_f\u001b[0;34m(*args, **kwargs)\u001b[0m\n\u001b[1;32m    727\u001b[0m \u001b[39mfor\u001b[39;00m k, arg \u001b[39min\u001b[39;00m \u001b[39mzip\u001b[39m(sig\u001b[39m.\u001b[39mparameters, args):\n\u001b[1;32m    728\u001b[0m     kwargs[k] \u001b[39m=\u001b[39m arg\n\u001b[0;32m--> 729\u001b[0m \u001b[39mreturn\u001b[39;00m func(\u001b[39m*\u001b[39;49m\u001b[39m*\u001b[39;49mkwargs)\n",
      "File \u001b[0;32m~/miniconda3/envs/lrp/lib/python3.10/site-packages/xgboost/sklearn.py:1086\u001b[0m, in \u001b[0;36mXGBModel.fit\u001b[0;34m(self, X, y, sample_weight, base_margin, eval_set, eval_metric, early_stopping_rounds, verbose, xgb_model, sample_weight_eval_set, base_margin_eval_set, feature_weights, callbacks)\u001b[0m\n\u001b[1;32m   1075\u001b[0m     obj \u001b[39m=\u001b[39m \u001b[39mNone\u001b[39;00m\n\u001b[1;32m   1077\u001b[0m (\n\u001b[1;32m   1078\u001b[0m     model,\n\u001b[1;32m   1079\u001b[0m     metric,\n\u001b[0;32m   (...)\u001b[0m\n\u001b[1;32m   1084\u001b[0m     xgb_model, eval_metric, params, early_stopping_rounds, callbacks\n\u001b[1;32m   1085\u001b[0m )\n\u001b[0;32m-> 1086\u001b[0m \u001b[39mself\u001b[39m\u001b[39m.\u001b[39m_Booster \u001b[39m=\u001b[39m train(\n\u001b[1;32m   1087\u001b[0m     params,\n\u001b[1;32m   1088\u001b[0m     train_dmatrix,\n\u001b[1;32m   1089\u001b[0m     \u001b[39mself\u001b[39;49m\u001b[39m.\u001b[39;49mget_num_boosting_rounds(),\n\u001b[1;32m   1090\u001b[0m     evals\u001b[39m=\u001b[39;49mevals,\n\u001b[1;32m   1091\u001b[0m     early_stopping_rounds\u001b[39m=\u001b[39;49mearly_stopping_rounds,\n\u001b[1;32m   1092\u001b[0m     evals_result\u001b[39m=\u001b[39;49mevals_result,\n\u001b[1;32m   1093\u001b[0m     obj\u001b[39m=\u001b[39;49mobj,\n\u001b[1;32m   1094\u001b[0m     custom_metric\u001b[39m=\u001b[39;49mmetric,\n\u001b[1;32m   1095\u001b[0m     verbose_eval\u001b[39m=\u001b[39;49mverbose,\n\u001b[1;32m   1096\u001b[0m     xgb_model\u001b[39m=\u001b[39;49mmodel,\n\u001b[1;32m   1097\u001b[0m     callbacks\u001b[39m=\u001b[39;49mcallbacks,\n\u001b[1;32m   1098\u001b[0m )\n\u001b[1;32m   1100\u001b[0m \u001b[39mself\u001b[39m\u001b[39m.\u001b[39m_set_evaluation_result(evals_result)\n\u001b[1;32m   1101\u001b[0m \u001b[39mreturn\u001b[39;00m \u001b[39mself\u001b[39m\n",
      "File \u001b[0;32m~/miniconda3/envs/lrp/lib/python3.10/site-packages/xgboost/core.py:729\u001b[0m, in \u001b[0;36mrequire_keyword_args.<locals>.throw_if.<locals>.inner_f\u001b[0;34m(*args, **kwargs)\u001b[0m\n\u001b[1;32m    727\u001b[0m \u001b[39mfor\u001b[39;00m k, arg \u001b[39min\u001b[39;00m \u001b[39mzip\u001b[39m(sig\u001b[39m.\u001b[39mparameters, args):\n\u001b[1;32m    728\u001b[0m     kwargs[k] \u001b[39m=\u001b[39m arg\n\u001b[0;32m--> 729\u001b[0m \u001b[39mreturn\u001b[39;00m func(\u001b[39m*\u001b[39;49m\u001b[39m*\u001b[39;49mkwargs)\n",
      "File \u001b[0;32m~/miniconda3/envs/lrp/lib/python3.10/site-packages/xgboost/training.py:181\u001b[0m, in \u001b[0;36mtrain\u001b[0;34m(params, dtrain, num_boost_round, evals, obj, feval, maximize, early_stopping_rounds, evals_result, verbose_eval, xgb_model, callbacks, custom_metric)\u001b[0m\n\u001b[1;32m    179\u001b[0m \u001b[39mif\u001b[39;00m cb_container\u001b[39m.\u001b[39mbefore_iteration(bst, i, dtrain, evals):\n\u001b[1;32m    180\u001b[0m     \u001b[39mbreak\u001b[39;00m\n\u001b[0;32m--> 181\u001b[0m bst\u001b[39m.\u001b[39;49mupdate(dtrain, i, obj)\n\u001b[1;32m    182\u001b[0m \u001b[39mif\u001b[39;00m cb_container\u001b[39m.\u001b[39mafter_iteration(bst, i, dtrain, evals):\n\u001b[1;32m    183\u001b[0m     \u001b[39mbreak\u001b[39;00m\n",
      "File \u001b[0;32m~/miniconda3/envs/lrp/lib/python3.10/site-packages/xgboost/core.py:2050\u001b[0m, in \u001b[0;36mBooster.update\u001b[0;34m(self, dtrain, iteration, fobj)\u001b[0m\n\u001b[1;32m   2046\u001b[0m \u001b[39mself\u001b[39m\u001b[39m.\u001b[39m_assign_dmatrix_features(dtrain)\n\u001b[1;32m   2048\u001b[0m \u001b[39mif\u001b[39;00m fobj \u001b[39mis\u001b[39;00m \u001b[39mNone\u001b[39;00m:\n\u001b[1;32m   2049\u001b[0m     _check_call(\n\u001b[0;32m-> 2050\u001b[0m         _LIB\u001b[39m.\u001b[39;49mXGBoosterUpdateOneIter(\n\u001b[1;32m   2051\u001b[0m             \u001b[39mself\u001b[39;49m\u001b[39m.\u001b[39;49mhandle, ctypes\u001b[39m.\u001b[39;49mc_int(iteration), dtrain\u001b[39m.\u001b[39;49mhandle\n\u001b[1;32m   2052\u001b[0m         )\n\u001b[1;32m   2053\u001b[0m     )\n\u001b[1;32m   2054\u001b[0m \u001b[39melse\u001b[39;00m:\n\u001b[1;32m   2055\u001b[0m     pred \u001b[39m=\u001b[39m \u001b[39mself\u001b[39m\u001b[39m.\u001b[39mpredict(dtrain, output_margin\u001b[39m=\u001b[39m\u001b[39mTrue\u001b[39;00m, training\u001b[39m=\u001b[39m\u001b[39mTrue\u001b[39;00m)\n",
      "\u001b[0;31mKeyboardInterrupt\u001b[0m: "
     ]
    }
   ],
   "source": [
    "import numpy as np\n",
    "import xgboost as xgb\n",
    "from sklearn.metrics import mean_squared_error\n",
    "from sklearn.model_selection import StratifiedKFold\n",
    "import random\n",
    "\n",
    "def random_param_search_xgb(train_feats, test_feats, n_iterations):\n",
    "    # Define parameter ranges\n",
    "    param_ranges = {\n",
    "        'booster': ['gbtree'],\n",
    "        'max_depth': (3, 10),  # Range for max_depth\n",
    "        'learning_rate': (0.01, 0.2),  # Range for learning_rate\n",
    "        'min_child_weight': (1, 6),  # Range for min_child_weight\n",
    "        'gamma': (0, 0.5),  # Range for gamma\n",
    "        'subsample': (0.5, 1),  # Range for subsample\n",
    "        'colsample_bytree': (0.5, 1),  # Range for colsample_bytree\n",
    "    }\n",
    "\n",
    "    best_rmse = float(\"inf\")\n",
    "    best_params = None\n",
    "    test_predictions_df = pd.DataFrame()\n",
    "\n",
    "    for _ in range(n_iterations):\n",
    "\n",
    "        # Sampling parameters from ranges\n",
    "        params = {\n",
    "            'booster': random.choice(param_ranges['booster']),\n",
    "            'max_depth': random.randint(*param_ranges['max_depth']),\n",
    "            'learning_rate': random.uniform(*param_ranges['learning_rate']),\n",
    "            'min_child_weight': random.randint(*param_ranges['min_child_weight']),\n",
    "            'gamma': random.uniform(*param_ranges['gamma']),\n",
    "            'subsample': random.uniform(*param_ranges['subsample']),\n",
    "            'colsample_bytree': random.uniform(*param_ranges['colsample_bytree']),\n",
    "            'device': 'cuda',\n",
    "        }\n",
    "        \n",
    "        # Train and evaluate model\n",
    "        booster = params['booster']\n",
    "        _, _, rmse, model = xgb_cv_pipeline(train_feats, test_feats, params)\n",
    "                                        \n",
    "        new_iter = {'rmse': [rmse],\n",
    "                    'params': str(model.get_params())}\n",
    "\n",
    "        test_predictions_df = pd.concat([test_predictions_df, pd.DataFrame(data=new_iter)])\n",
    "        # Update best parameters if current model is better\n",
    "        if rmse < best_rmse:\n",
    "            print(f\"New best RMSE: {rmse:.6f}\")\n",
    "            best_rmse = rmse\n",
    "            best_params = model.get_params()\n",
    "    \n",
    "    print(f\"Best RMSE: {best_rmse:.6f}\")\n",
    "    print(\"Best Parameters:\", best_params)\n",
    "    return test_predictions_df\n",
    "\n",
    "# Example usage\n",
    "test_predictions_df_xgb = random_param_search_xgb(train_feats, test_feats, 850)\n",
    "test_predictions_df_xgb.sort_values('rmse').to_csv('params_xgb2.csv', index=False)"
   ]
  },
  {
   "cell_type": "code",
   "execution_count": 3,
   "metadata": {},
   "outputs": [
    {
     "name": "stdout",
     "output_type": "stream",
     "text": [
      "LGBM Average RMSE over 50 folds: 0.615564\n",
      "New best RMSE: 0.615564\n",
      "LGBM Average RMSE over 50 folds: 0.612857\n",
      "New best RMSE: 0.612857\n",
      "LGBM Average RMSE over 50 folds: 0.641691\n",
      "LGBM Average RMSE over 50 folds: 0.607847\n",
      "New best RMSE: 0.607847\n",
      "LGBM Average RMSE over 50 folds: 0.620570\n",
      "LGBM Average RMSE over 50 folds: 0.608658\n",
      "LGBM Average RMSE over 50 folds: 1.094284\n",
      "LGBM Average RMSE over 50 folds: 0.606268\n",
      "New best RMSE: 0.606268\n",
      "LGBM Average RMSE over 50 folds: 0.610350\n",
      "LGBM Average RMSE over 50 folds: 0.637394\n",
      "LGBM Average RMSE over 50 folds: 0.615023\n",
      "LGBM Average RMSE over 50 folds: 0.629619\n",
      "LGBM Average RMSE over 50 folds: 0.752333\n",
      "LGBM Average RMSE over 50 folds: 0.666229\n",
      "LGBM Average RMSE over 50 folds: 0.615585\n",
      "LGBM Average RMSE over 50 folds: 0.613304\n",
      "LGBM Average RMSE over 50 folds: 0.626678\n",
      "LGBM Average RMSE over 50 folds: 0.613505\n",
      "LGBM Average RMSE over 50 folds: 0.641387\n",
      "LGBM Average RMSE over 50 folds: 0.620918\n",
      "LGBM Average RMSE over 50 folds: 0.619013\n",
      "LGBM Average RMSE over 50 folds: 0.608349\n",
      "LGBM Average RMSE over 50 folds: 0.607571\n",
      "LGBM Average RMSE over 50 folds: 0.608737\n",
      "LGBM Average RMSE over 50 folds: 0.988010\n",
      "LGBM Average RMSE over 50 folds: 0.613312\n",
      "LGBM Average RMSE over 50 folds: 0.610892\n",
      "LGBM Average RMSE over 50 folds: 0.615519\n",
      "LGBM Average RMSE over 50 folds: 0.607570\n",
      "LGBM Average RMSE over 50 folds: 0.637014\n",
      "LGBM Average RMSE over 50 folds: 0.675969\n",
      "LGBM Average RMSE over 50 folds: 0.621076\n",
      "LGBM Average RMSE over 50 folds: 0.607431\n",
      "LGBM Average RMSE over 50 folds: 0.618432\n",
      "LGBM Average RMSE over 50 folds: 0.668133\n",
      "LGBM Average RMSE over 50 folds: 0.610769\n",
      "LGBM Average RMSE over 50 folds: 0.616229\n",
      "LGBM Average RMSE over 50 folds: 0.748298\n",
      "LGBM Average RMSE over 50 folds: 0.610187\n",
      "LGBM Average RMSE over 50 folds: 0.730439\n",
      "LGBM Average RMSE over 50 folds: 0.655630\n",
      "LGBM Average RMSE over 50 folds: 0.615682\n",
      "LGBM Average RMSE over 50 folds: 0.610142\n",
      "LGBM Average RMSE over 50 folds: 0.636869\n",
      "LGBM Average RMSE over 50 folds: 0.626509\n",
      "LGBM Average RMSE over 50 folds: 0.611244\n",
      "LGBM Average RMSE over 50 folds: 0.611062\n",
      "LGBM Average RMSE over 50 folds: 0.611236\n",
      "LGBM Average RMSE over 50 folds: 0.612342\n",
      "LGBM Average RMSE over 50 folds: 0.609400\n",
      "LGBM Average RMSE over 50 folds: 0.607313\n",
      "LGBM Average RMSE over 50 folds: 0.654998\n",
      "LGBM Average RMSE over 50 folds: 0.624187\n",
      "LGBM Average RMSE over 50 folds: 0.611630\n",
      "LGBM Average RMSE over 50 folds: 0.666766\n",
      "LGBM Average RMSE over 50 folds: 0.619426\n",
      "LGBM Average RMSE over 50 folds: 0.617234\n",
      "LGBM Average RMSE over 50 folds: 0.614287\n",
      "LGBM Average RMSE over 50 folds: 0.612527\n",
      "LGBM Average RMSE over 50 folds: 0.627360\n",
      "LGBM Average RMSE over 50 folds: 0.627289\n",
      "LGBM Average RMSE over 50 folds: 0.613846\n",
      "LGBM Average RMSE over 50 folds: 0.668589\n",
      "LGBM Average RMSE over 50 folds: 0.610940\n",
      "LGBM Average RMSE over 50 folds: 0.612700\n",
      "LGBM Average RMSE over 50 folds: 0.948104\n",
      "LGBM Average RMSE over 50 folds: 0.611241\n",
      "LGBM Average RMSE over 50 folds: 0.608814\n",
      "LGBM Average RMSE over 50 folds: 0.612608\n",
      "LGBM Average RMSE over 50 folds: 0.610583\n",
      "LGBM Average RMSE over 50 folds: 0.618470\n",
      "LGBM Average RMSE over 50 folds: 0.611165\n",
      "LGBM Average RMSE over 50 folds: 0.618499\n",
      "LGBM Average RMSE over 50 folds: 0.609738\n",
      "LGBM Average RMSE over 50 folds: 0.609710\n",
      "LGBM Average RMSE over 50 folds: 0.615936\n",
      "LGBM Average RMSE over 50 folds: 0.613458\n",
      "LGBM Average RMSE over 50 folds: 0.658209\n",
      "LGBM Average RMSE over 50 folds: 0.620560\n",
      "LGBM Average RMSE over 50 folds: 0.673638\n",
      "LGBM Average RMSE over 50 folds: 0.610610\n",
      "LGBM Average RMSE over 50 folds: 0.648054\n",
      "LGBM Average RMSE over 50 folds: 0.612528\n",
      "LGBM Average RMSE over 50 folds: 0.608124\n",
      "LGBM Average RMSE over 50 folds: 0.613714\n",
      "LGBM Average RMSE over 50 folds: 0.607838\n",
      "LGBM Average RMSE over 50 folds: 0.609521\n",
      "LGBM Average RMSE over 50 folds: 0.610547\n",
      "LGBM Average RMSE over 50 folds: 0.612459\n",
      "LGBM Average RMSE over 50 folds: 0.652372\n",
      "LGBM Average RMSE over 50 folds: 0.630265\n",
      "LGBM Average RMSE over 50 folds: 0.613432\n",
      "LGBM Average RMSE over 50 folds: 0.622030\n",
      "LGBM Average RMSE over 50 folds: 0.620693\n",
      "LGBM Average RMSE over 50 folds: 0.610337\n",
      "LGBM Average RMSE over 50 folds: 0.610703\n",
      "LGBM Average RMSE over 50 folds: 0.887818\n",
      "LGBM Average RMSE over 50 folds: 0.790803\n",
      "LGBM Average RMSE over 50 folds: 0.610276\n",
      "LGBM Average RMSE over 50 folds: 0.730593\n",
      "LGBM Average RMSE over 50 folds: 0.668518\n",
      "LGBM Average RMSE over 50 folds: 0.927208\n",
      "LGBM Average RMSE over 50 folds: 1.068672\n",
      "LGBM Average RMSE over 50 folds: 0.611563\n",
      "LGBM Average RMSE over 50 folds: 0.672021\n",
      "LGBM Average RMSE over 50 folds: 0.607109\n",
      "LGBM Average RMSE over 50 folds: 0.606490\n",
      "LGBM Average RMSE over 50 folds: 0.608771\n",
      "LGBM Average RMSE over 50 folds: 0.613337\n",
      "LGBM Average RMSE over 50 folds: 0.615004\n",
      "LGBM Average RMSE over 50 folds: 0.632671\n",
      "LGBM Average RMSE over 50 folds: 0.620701\n",
      "LGBM Average RMSE over 50 folds: 0.611541\n",
      "LGBM Average RMSE over 50 folds: 0.649916\n",
      "LGBM Average RMSE over 50 folds: 0.615888\n",
      "LGBM Average RMSE over 50 folds: 0.612471\n",
      "LGBM Average RMSE over 50 folds: 0.906198\n",
      "LGBM Average RMSE over 50 folds: 0.659141\n",
      "LGBM Average RMSE over 50 folds: 1.166057\n",
      "LGBM Average RMSE over 50 folds: 0.617278\n",
      "LGBM Average RMSE over 50 folds: 0.607791\n",
      "LGBM Average RMSE over 50 folds: 0.615218\n",
      "LGBM Average RMSE over 50 folds: 0.611719\n",
      "LGBM Average RMSE over 50 folds: 0.609520\n",
      "LGBM Average RMSE over 50 folds: 0.612849\n",
      "LGBM Average RMSE over 50 folds: 0.609380\n",
      "LGBM Average RMSE over 50 folds: 0.667022\n",
      "LGBM Average RMSE over 50 folds: 0.616668\n",
      "LGBM Average RMSE over 50 folds: 0.611092\n",
      "LGBM Average RMSE over 50 folds: 0.614889\n",
      "LGBM Average RMSE over 50 folds: 0.822282\n",
      "LGBM Average RMSE over 50 folds: 0.820419\n",
      "LGBM Average RMSE over 50 folds: 0.701414\n",
      "LGBM Average RMSE over 50 folds: 0.615890\n",
      "LGBM Average RMSE over 50 folds: 0.650681\n",
      "LGBM Average RMSE over 50 folds: 0.608594\n",
      "LGBM Average RMSE over 50 folds: 0.617476\n",
      "LGBM Average RMSE over 50 folds: 0.720250\n",
      "LGBM Average RMSE over 50 folds: 0.612324\n",
      "LGBM Average RMSE over 50 folds: 0.617764\n",
      "LGBM Average RMSE over 50 folds: 0.612591\n",
      "LGBM Average RMSE over 50 folds: 0.638798\n",
      "LGBM Average RMSE over 50 folds: 0.625020\n",
      "LGBM Average RMSE over 50 folds: 0.633870\n",
      "LGBM Average RMSE over 50 folds: 0.612316\n",
      "LGBM Average RMSE over 50 folds: 0.613899\n",
      "LGBM Average RMSE over 50 folds: 0.606469\n",
      "LGBM Average RMSE over 50 folds: 1.833413\n",
      "LGBM Average RMSE over 50 folds: 0.623860\n",
      "LGBM Average RMSE over 50 folds: 1.011019\n",
      "LGBM Average RMSE over 50 folds: 0.608202\n",
      "LGBM Average RMSE over 50 folds: 0.627448\n",
      "LGBM Average RMSE over 50 folds: 0.614414\n",
      "LGBM Average RMSE over 50 folds: 0.828554\n",
      "LGBM Average RMSE over 50 folds: 0.627110\n",
      "LGBM Average RMSE over 50 folds: 0.611568\n",
      "LGBM Average RMSE over 50 folds: 0.613151\n",
      "LGBM Average RMSE over 50 folds: 1.273702\n",
      "LGBM Average RMSE over 50 folds: 0.614726\n",
      "LGBM Average RMSE over 50 folds: 0.626122\n",
      "LGBM Average RMSE over 50 folds: 0.620573\n",
      "LGBM Average RMSE over 50 folds: 0.610739\n",
      "LGBM Average RMSE over 50 folds: 0.624260\n",
      "LGBM Average RMSE over 50 folds: 0.731676\n",
      "LGBM Average RMSE over 50 folds: 0.655014\n",
      "LGBM Average RMSE over 50 folds: 0.610679\n",
      "LGBM Average RMSE over 50 folds: 0.609266\n",
      "LGBM Average RMSE over 50 folds: 0.612986\n",
      "LGBM Average RMSE over 50 folds: 0.870848\n",
      "LGBM Average RMSE over 50 folds: 0.665228\n",
      "LGBM Average RMSE over 50 folds: 0.622686\n",
      "LGBM Average RMSE over 50 folds: 0.622339\n",
      "LGBM Average RMSE over 50 folds: 0.618976\n",
      "LGBM Average RMSE over 50 folds: 0.613206\n",
      "LGBM Average RMSE over 50 folds: 0.729357\n",
      "LGBM Average RMSE over 50 folds: 0.649740\n",
      "LGBM Average RMSE over 50 folds: 0.657096\n",
      "LGBM Average RMSE over 50 folds: 0.612123\n",
      "LGBM Average RMSE over 50 folds: 0.615213\n",
      "LGBM Average RMSE over 50 folds: 0.610666\n",
      "LGBM Average RMSE over 50 folds: 1.196987\n",
      "LGBM Average RMSE over 50 folds: 0.606999\n",
      "LGBM Average RMSE over 50 folds: 0.612964\n",
      "LGBM Average RMSE over 50 folds: 0.613293\n",
      "LGBM Average RMSE over 50 folds: 0.613644\n",
      "LGBM Average RMSE over 50 folds: 0.608506\n",
      "LGBM Average RMSE over 50 folds: 1.113002\n",
      "LGBM Average RMSE over 50 folds: 0.615721\n",
      "LGBM Average RMSE over 50 folds: 0.613415\n",
      "LGBM Average RMSE over 50 folds: 0.613215\n",
      "LGBM Average RMSE over 50 folds: 0.782191\n",
      "LGBM Average RMSE over 50 folds: 0.616033\n",
      "LGBM Average RMSE over 50 folds: 0.617191\n",
      "LGBM Average RMSE over 50 folds: 0.614605\n",
      "LGBM Average RMSE over 50 folds: 0.610411\n",
      "LGBM Average RMSE over 50 folds: 0.616699\n",
      "LGBM Average RMSE over 50 folds: 1.691310\n",
      "LGBM Average RMSE over 50 folds: 0.606868\n",
      "LGBM Average RMSE over 50 folds: 0.606353\n",
      "LGBM Average RMSE over 50 folds: 0.654092\n",
      "LGBM Average RMSE over 50 folds: 0.656554\n",
      "LGBM Average RMSE over 50 folds: 0.631450\n",
      "LGBM Average RMSE over 50 folds: 1.126056\n",
      "LGBM Average RMSE over 50 folds: 0.609786\n",
      "LGBM Average RMSE over 50 folds: 0.612388\n",
      "LGBM Average RMSE over 50 folds: 0.605804\n",
      "New best RMSE: 0.605804\n",
      "LGBM Average RMSE over 50 folds: 0.607755\n",
      "LGBM Average RMSE over 50 folds: 0.614586\n",
      "LGBM Average RMSE over 50 folds: 0.621431\n",
      "LGBM Average RMSE over 50 folds: 0.626405\n",
      "LGBM Average RMSE over 50 folds: 0.631606\n",
      "LGBM Average RMSE over 50 folds: 0.611825\n",
      "LGBM Average RMSE over 50 folds: 0.631680\n",
      "LGBM Average RMSE over 50 folds: 0.637490\n",
      "LGBM Average RMSE over 50 folds: 0.835190\n",
      "LGBM Average RMSE over 50 folds: 0.611261\n",
      "LGBM Average RMSE over 50 folds: 0.712594\n",
      "LGBM Average RMSE over 50 folds: 0.611061\n",
      "LGBM Average RMSE over 50 folds: 0.643880\n",
      "LGBM Average RMSE over 50 folds: 0.610808\n",
      "LGBM Average RMSE over 50 folds: 1.448076\n",
      "LGBM Average RMSE over 50 folds: 0.620543\n",
      "LGBM Average RMSE over 50 folds: 0.609008\n",
      "LGBM Average RMSE over 50 folds: 0.611554\n",
      "LGBM Average RMSE over 50 folds: 0.620163\n",
      "LGBM Average RMSE over 50 folds: 0.702588\n",
      "LGBM Average RMSE over 50 folds: 0.609791\n",
      "LGBM Average RMSE over 50 folds: 0.610536\n",
      "LGBM Average RMSE over 50 folds: 0.613777\n",
      "LGBM Average RMSE over 50 folds: 0.944745\n",
      "LGBM Average RMSE over 50 folds: 0.611462\n",
      "LGBM Average RMSE over 50 folds: 1.523489\n",
      "LGBM Average RMSE over 50 folds: 0.623316\n",
      "LGBM Average RMSE over 50 folds: 0.622817\n",
      "LGBM Average RMSE over 50 folds: 0.617562\n",
      "LGBM Average RMSE over 50 folds: 0.717065\n",
      "LGBM Average RMSE over 50 folds: 0.645587\n",
      "LGBM Average RMSE over 50 folds: 0.612236\n",
      "LGBM Average RMSE over 50 folds: 1.143152\n",
      "LGBM Average RMSE over 50 folds: 0.609191\n",
      "LGBM Average RMSE over 50 folds: 0.617522\n",
      "LGBM Average RMSE over 50 folds: 0.628134\n",
      "LGBM Average RMSE over 50 folds: 0.613329\n",
      "LGBM Average RMSE over 50 folds: 0.621716\n",
      "LGBM Average RMSE over 50 folds: 0.677448\n",
      "LGBM Average RMSE over 50 folds: 0.699003\n",
      "LGBM Average RMSE over 50 folds: 0.620480\n",
      "LGBM Average RMSE over 50 folds: 0.609752\n",
      "LGBM Average RMSE over 50 folds: 1.041404\n",
      "LGBM Average RMSE over 50 folds: 0.612295\n",
      "LGBM Average RMSE over 50 folds: 0.825152\n",
      "LGBM Average RMSE over 50 folds: 0.632256\n",
      "LGBM Average RMSE over 50 folds: 0.626911\n",
      "LGBM Average RMSE over 50 folds: 0.611234\n",
      "LGBM Average RMSE over 50 folds: 0.607761\n",
      "LGBM Average RMSE over 50 folds: 0.615325\n",
      "LGBM Average RMSE over 50 folds: 0.609702\n",
      "LGBM Average RMSE over 50 folds: 0.720326\n",
      "LGBM Average RMSE over 50 folds: 0.609209\n",
      "LGBM Average RMSE over 50 folds: 0.606153\n",
      "LGBM Average RMSE over 50 folds: 0.613726\n",
      "LGBM Average RMSE over 50 folds: 0.610703\n",
      "LGBM Average RMSE over 50 folds: 0.664837\n",
      "LGBM Average RMSE over 50 folds: 0.720602\n",
      "LGBM Average RMSE over 50 folds: 0.692073\n",
      "LGBM Average RMSE over 50 folds: 0.621244\n",
      "LGBM Average RMSE over 50 folds: 0.643879\n",
      "LGBM Average RMSE over 50 folds: 0.616969\n",
      "LGBM Average RMSE over 50 folds: 0.614160\n",
      "LGBM Average RMSE over 50 folds: 0.779847\n",
      "LGBM Average RMSE over 50 folds: 1.174543\n",
      "LGBM Average RMSE over 50 folds: 0.611284\n",
      "LGBM Average RMSE over 50 folds: 0.615608\n",
      "LGBM Average RMSE over 50 folds: 0.614194\n",
      "LGBM Average RMSE over 50 folds: 0.615037\n",
      "LGBM Average RMSE over 50 folds: 0.614070\n",
      "LGBM Average RMSE over 50 folds: 0.610910\n",
      "LGBM Average RMSE over 50 folds: 0.612007\n",
      "LGBM Average RMSE over 50 folds: 0.763868\n",
      "LGBM Average RMSE over 50 folds: 0.705000\n",
      "LGBM Average RMSE over 50 folds: 0.607092\n",
      "LGBM Average RMSE over 50 folds: 0.608691\n",
      "LGBM Average RMSE over 50 folds: 0.608336\n",
      "LGBM Average RMSE over 50 folds: 0.609792\n",
      "LGBM Average RMSE over 50 folds: 0.616556\n",
      "LGBM Average RMSE over 50 folds: 0.609883\n",
      "LGBM Average RMSE over 50 folds: 0.609875\n",
      "LGBM Average RMSE over 50 folds: 0.617408\n",
      "LGBM Average RMSE over 50 folds: 0.612615\n",
      "LGBM Average RMSE over 50 folds: 0.611996\n",
      "LGBM Average RMSE over 50 folds: 0.627470\n",
      "LGBM Average RMSE over 50 folds: 0.624248\n",
      "LGBM Average RMSE over 50 folds: 0.622842\n",
      "LGBM Average RMSE over 50 folds: 0.922242\n",
      "LGBM Average RMSE over 50 folds: 0.608174\n",
      "LGBM Average RMSE over 50 folds: 0.612285\n",
      "LGBM Average RMSE over 50 folds: 1.262747\n",
      "LGBM Average RMSE over 50 folds: 0.612343\n",
      "LGBM Average RMSE over 50 folds: 0.616683\n",
      "LGBM Average RMSE over 50 folds: 0.609527\n",
      "LGBM Average RMSE over 50 folds: 0.610846\n",
      "LGBM Average RMSE over 50 folds: 0.611544\n",
      "LGBM Average RMSE over 50 folds: 0.614050\n",
      "LGBM Average RMSE over 50 folds: 0.664277\n",
      "LGBM Average RMSE over 50 folds: 0.616181\n",
      "LGBM Average RMSE over 50 folds: 0.831499\n",
      "LGBM Average RMSE over 50 folds: 0.611729\n",
      "LGBM Average RMSE over 50 folds: 0.681421\n",
      "LGBM Average RMSE over 50 folds: 0.621014\n",
      "LGBM Average RMSE over 50 folds: 0.629772\n",
      "LGBM Average RMSE over 50 folds: 0.643848\n",
      "LGBM Average RMSE over 50 folds: 0.648791\n",
      "LGBM Average RMSE over 50 folds: 0.607931\n",
      "LGBM Average RMSE over 50 folds: 0.629601\n",
      "LGBM Average RMSE over 50 folds: 0.678866\n",
      "LGBM Average RMSE over 50 folds: 0.616944\n",
      "LGBM Average RMSE over 50 folds: 0.626713\n",
      "LGBM Average RMSE over 50 folds: 0.611783\n",
      "LGBM Average RMSE over 50 folds: 0.639124\n",
      "LGBM Average RMSE over 50 folds: 0.646236\n",
      "LGBM Average RMSE over 50 folds: 0.617691\n",
      "LGBM Average RMSE over 50 folds: 0.695233\n",
      "LGBM Average RMSE over 50 folds: 0.665086\n",
      "LGBM Average RMSE over 50 folds: 0.608919\n",
      "LGBM Average RMSE over 50 folds: 0.645975\n",
      "LGBM Average RMSE over 50 folds: 0.608491\n",
      "LGBM Average RMSE over 50 folds: 0.613114\n",
      "LGBM Average RMSE over 50 folds: 0.990809\n",
      "LGBM Average RMSE over 50 folds: 0.615335\n",
      "LGBM Average RMSE over 50 folds: 0.608878\n",
      "LGBM Average RMSE over 50 folds: 0.611729\n",
      "LGBM Average RMSE over 50 folds: 0.651487\n",
      "LGBM Average RMSE over 50 folds: 0.803958\n",
      "LGBM Average RMSE over 50 folds: 0.636623\n",
      "LGBM Average RMSE over 50 folds: 0.846196\n",
      "LGBM Average RMSE over 50 folds: 0.610386\n",
      "LGBM Average RMSE over 50 folds: 0.614394\n",
      "LGBM Average RMSE over 50 folds: 0.610218\n",
      "LGBM Average RMSE over 50 folds: 0.628373\n",
      "LGBM Average RMSE over 50 folds: 0.609454\n",
      "LGBM Average RMSE over 50 folds: 0.612571\n",
      "LGBM Average RMSE over 50 folds: 0.669762\n",
      "LGBM Average RMSE over 50 folds: 1.157058\n",
      "LGBM Average RMSE over 50 folds: 0.610584\n",
      "LGBM Average RMSE over 50 folds: 0.629306\n",
      "LGBM Average RMSE over 50 folds: 0.616372\n",
      "LGBM Average RMSE over 50 folds: 0.611828\n",
      "LGBM Average RMSE over 50 folds: 1.213108\n",
      "LGBM Average RMSE over 50 folds: 0.623676\n",
      "LGBM Average RMSE over 50 folds: 0.643671\n",
      "LGBM Average RMSE over 50 folds: 0.691756\n",
      "LGBM Average RMSE over 50 folds: 0.665212\n",
      "LGBM Average RMSE over 50 folds: 0.612780\n",
      "LGBM Average RMSE over 50 folds: 0.622804\n",
      "LGBM Average RMSE over 50 folds: 1.203664\n",
      "LGBM Average RMSE over 50 folds: 0.610718\n",
      "LGBM Average RMSE over 50 folds: 0.611395\n",
      "LGBM Average RMSE over 50 folds: 0.616405\n",
      "LGBM Average RMSE over 50 folds: 0.764753\n",
      "LGBM Average RMSE over 50 folds: 0.721952\n",
      "LGBM Average RMSE over 50 folds: 0.627250\n",
      "LGBM Average RMSE over 50 folds: 0.615224\n",
      "LGBM Average RMSE over 50 folds: 1.783141\n",
      "LGBM Average RMSE over 50 folds: 0.762813\n",
      "LGBM Average RMSE over 50 folds: 0.610176\n",
      "LGBM Average RMSE over 50 folds: 0.609602\n",
      "LGBM Average RMSE over 50 folds: 0.622042\n",
      "LGBM Average RMSE over 50 folds: 0.634727\n",
      "LGBM Average RMSE over 50 folds: 0.611819\n",
      "LGBM Average RMSE over 50 folds: 0.609438\n",
      "LGBM Average RMSE over 50 folds: 0.661208\n",
      "LGBM Average RMSE over 50 folds: 0.805326\n",
      "LGBM Average RMSE over 50 folds: 0.620659\n",
      "LGBM Average RMSE over 50 folds: 0.639205\n",
      "LGBM Average RMSE over 50 folds: 0.612042\n",
      "LGBM Average RMSE over 50 folds: 0.645023\n",
      "LGBM Average RMSE over 50 folds: 0.608358\n",
      "LGBM Average RMSE over 50 folds: 0.611630\n",
      "LGBM Average RMSE over 50 folds: 0.611673\n",
      "LGBM Average RMSE over 50 folds: 0.609083\n",
      "LGBM Average RMSE over 50 folds: 0.608931\n",
      "LGBM Average RMSE over 50 folds: 0.796550\n",
      "LGBM Average RMSE over 50 folds: 0.609105\n",
      "LGBM Average RMSE over 50 folds: 0.656999\n",
      "LGBM Average RMSE over 50 folds: 0.609568\n",
      "LGBM Average RMSE over 50 folds: 0.613604\n",
      "LGBM Average RMSE over 50 folds: 0.618004\n",
      "LGBM Average RMSE over 50 folds: 1.763855\n",
      "LGBM Average RMSE over 50 folds: 0.609517\n",
      "LGBM Average RMSE over 50 folds: 0.615278\n",
      "LGBM Average RMSE over 50 folds: 0.611135\n",
      "LGBM Average RMSE over 50 folds: 0.612536\n",
      "LGBM Average RMSE over 50 folds: 0.628640\n",
      "LGBM Average RMSE over 50 folds: 0.614339\n",
      "LGBM Average RMSE over 50 folds: 0.645382\n",
      "LGBM Average RMSE over 50 folds: 0.611700\n",
      "LGBM Average RMSE over 50 folds: 0.609506\n",
      "LGBM Average RMSE over 50 folds: 0.634052\n",
      "LGBM Average RMSE over 50 folds: 0.610722\n",
      "LGBM Average RMSE over 50 folds: 0.935505\n",
      "LGBM Average RMSE over 50 folds: 0.611288\n",
      "LGBM Average RMSE over 50 folds: 0.622883\n",
      "LGBM Average RMSE over 50 folds: 0.645070\n",
      "LGBM Average RMSE over 50 folds: 0.613114\n",
      "LGBM Average RMSE over 50 folds: 0.631852\n",
      "LGBM Average RMSE over 50 folds: 0.610057\n",
      "LGBM Average RMSE over 50 folds: 0.692734\n",
      "LGBM Average RMSE over 50 folds: 0.623772\n",
      "LGBM Average RMSE over 50 folds: 0.800483\n",
      "LGBM Average RMSE over 50 folds: 0.615356\n",
      "LGBM Average RMSE over 50 folds: 0.683940\n",
      "LGBM Average RMSE over 50 folds: 0.608643\n",
      "LGBM Average RMSE over 50 folds: 0.631639\n",
      "LGBM Average RMSE over 50 folds: 1.371657\n",
      "LGBM Average RMSE over 50 folds: 1.116621\n",
      "LGBM Average RMSE over 50 folds: 0.662665\n",
      "LGBM Average RMSE over 50 folds: 0.636105\n",
      "LGBM Average RMSE over 50 folds: 0.621297\n",
      "LGBM Average RMSE over 50 folds: 0.617425\n",
      "LGBM Average RMSE over 50 folds: 0.623139\n",
      "LGBM Average RMSE over 50 folds: 0.635220\n",
      "LGBM Average RMSE over 50 folds: 1.245189\n",
      "LGBM Average RMSE over 50 folds: 0.629273\n",
      "LGBM Average RMSE over 50 folds: 0.609692\n",
      "LGBM Average RMSE over 50 folds: 0.611097\n",
      "LGBM Average RMSE over 50 folds: 0.608133\n",
      "LGBM Average RMSE over 50 folds: 0.610693\n",
      "LGBM Average RMSE over 50 folds: 0.631948\n",
      "LGBM Average RMSE over 50 folds: 0.609490\n",
      "LGBM Average RMSE over 50 folds: 0.627666\n",
      "LGBM Average RMSE over 50 folds: 0.641951\n",
      "LGBM Average RMSE over 50 folds: 0.612562\n",
      "LGBM Average RMSE over 50 folds: 0.611002\n",
      "LGBM Average RMSE over 50 folds: 0.610745\n",
      "LGBM Average RMSE over 50 folds: 0.610858\n",
      "LGBM Average RMSE over 50 folds: 0.640408\n",
      "LGBM Average RMSE over 50 folds: 0.613536\n",
      "LGBM Average RMSE over 50 folds: 0.623960\n",
      "LGBM Average RMSE over 50 folds: 0.620101\n",
      "LGBM Average RMSE over 50 folds: 0.611797\n",
      "LGBM Average RMSE over 50 folds: 0.639306\n",
      "LGBM Average RMSE over 50 folds: 0.608875\n",
      "LGBM Average RMSE over 50 folds: 0.611688\n",
      "LGBM Average RMSE over 50 folds: 0.613543\n",
      "LGBM Average RMSE over 50 folds: 0.609178\n",
      "LGBM Average RMSE over 50 folds: 0.605026\n",
      "New best RMSE: 0.605026\n",
      "LGBM Average RMSE over 50 folds: 0.611744\n",
      "LGBM Average RMSE over 50 folds: 0.615150\n",
      "LGBM Average RMSE over 50 folds: 0.608595\n",
      "LGBM Average RMSE over 50 folds: 0.672873\n",
      "LGBM Average RMSE over 50 folds: 0.682433\n",
      "LGBM Average RMSE over 50 folds: 0.677690\n",
      "LGBM Average RMSE over 50 folds: 0.621071\n",
      "LGBM Average RMSE over 50 folds: 0.624714\n",
      "LGBM Average RMSE over 50 folds: 0.620484\n",
      "LGBM Average RMSE over 50 folds: 0.611865\n",
      "LGBM Average RMSE over 50 folds: 0.612278\n",
      "LGBM Average RMSE over 50 folds: 0.610035\n",
      "LGBM Average RMSE over 50 folds: 0.683071\n",
      "LGBM Average RMSE over 50 folds: 0.609500\n",
      "LGBM Average RMSE over 50 folds: 0.614281\n",
      "LGBM Average RMSE over 50 folds: 0.626599\n",
      "LGBM Average RMSE over 50 folds: 0.648932\n",
      "LGBM Average RMSE over 50 folds: 0.616188\n",
      "LGBM Average RMSE over 50 folds: 0.619141\n",
      "LGBM Average RMSE over 50 folds: 0.614892\n",
      "LGBM Average RMSE over 50 folds: 0.809643\n",
      "LGBM Average RMSE over 50 folds: 0.645857\n",
      "LGBM Average RMSE over 50 folds: 1.164277\n",
      "LGBM Average RMSE over 50 folds: 0.611701\n",
      "LGBM Average RMSE over 50 folds: 0.608348\n",
      "LGBM Average RMSE over 50 folds: 0.627555\n",
      "LGBM Average RMSE over 50 folds: 0.626905\n",
      "LGBM Average RMSE over 50 folds: 0.607072\n",
      "LGBM Average RMSE over 50 folds: 0.612185\n",
      "LGBM Average RMSE over 50 folds: 0.677957\n",
      "LGBM Average RMSE over 50 folds: 0.607920\n",
      "LGBM Average RMSE over 50 folds: 0.615802\n",
      "LGBM Average RMSE over 50 folds: 0.611695\n",
      "LGBM Average RMSE over 50 folds: 0.612617\n",
      "LGBM Average RMSE over 50 folds: 0.609024\n",
      "LGBM Average RMSE over 50 folds: 0.626065\n",
      "LGBM Average RMSE over 50 folds: 0.612967\n",
      "LGBM Average RMSE over 50 folds: 0.614268\n",
      "LGBM Average RMSE over 50 folds: 0.629484\n",
      "LGBM Average RMSE over 50 folds: 0.612684\n",
      "LGBM Average RMSE over 50 folds: 0.622514\n",
      "LGBM Average RMSE over 50 folds: 0.637103\n",
      "LGBM Average RMSE over 50 folds: 0.630577\n",
      "LGBM Average RMSE over 50 folds: 0.628379\n",
      "LGBM Average RMSE over 50 folds: 0.621115\n",
      "LGBM Average RMSE over 50 folds: 0.614951\n",
      "LGBM Average RMSE over 50 folds: 1.738816\n",
      "LGBM Average RMSE over 50 folds: 0.608782\n",
      "LGBM Average RMSE over 50 folds: 0.645445\n",
      "LGBM Average RMSE over 50 folds: 0.622751\n",
      "LGBM Average RMSE over 50 folds: 0.611338\n",
      "LGBM Average RMSE over 50 folds: 1.034630\n",
      "LGBM Average RMSE over 50 folds: 0.611164\n",
      "LGBM Average RMSE over 50 folds: 0.618670\n",
      "LGBM Average RMSE over 50 folds: 0.659564\n",
      "LGBM Average RMSE over 50 folds: 0.646871\n",
      "LGBM Average RMSE over 50 folds: 0.772839\n",
      "LGBM Average RMSE over 50 folds: 0.612387\n",
      "LGBM Average RMSE over 50 folds: 0.676805\n",
      "LGBM Average RMSE over 50 folds: 0.718091\n",
      "LGBM Average RMSE over 50 folds: 0.609361\n",
      "LGBM Average RMSE over 50 folds: 0.623016\n",
      "LGBM Average RMSE over 50 folds: 1.377871\n",
      "LGBM Average RMSE over 50 folds: 0.609547\n",
      "LGBM Average RMSE over 50 folds: 0.757298\n",
      "LGBM Average RMSE over 50 folds: 0.610758\n",
      "LGBM Average RMSE over 50 folds: 0.612664\n",
      "LGBM Average RMSE over 50 folds: 0.608313\n",
      "LGBM Average RMSE over 50 folds: 0.609402\n",
      "LGBM Average RMSE over 50 folds: 0.608523\n",
      "LGBM Average RMSE over 50 folds: 0.754899\n",
      "LGBM Average RMSE over 50 folds: 0.609845\n",
      "LGBM Average RMSE over 50 folds: 0.609856\n",
      "LGBM Average RMSE over 50 folds: 0.613669\n",
      "LGBM Average RMSE over 50 folds: 0.614128\n",
      "LGBM Average RMSE over 50 folds: 0.611168\n",
      "LGBM Average RMSE over 50 folds: 0.948263\n",
      "LGBM Average RMSE over 50 folds: 0.634423\n",
      "LGBM Average RMSE over 50 folds: 0.844878\n",
      "LGBM Average RMSE over 50 folds: 0.611574\n",
      "LGBM Average RMSE over 50 folds: 0.615055\n",
      "LGBM Average RMSE over 50 folds: 0.610505\n",
      "LGBM Average RMSE over 50 folds: 0.630558\n",
      "LGBM Average RMSE over 50 folds: 0.611692\n",
      "LGBM Average RMSE over 50 folds: 0.658234\n",
      "LGBM Average RMSE over 50 folds: 0.611212\n",
      "LGBM Average RMSE over 50 folds: 0.610906\n",
      "LGBM Average RMSE over 50 folds: 0.683345\n",
      "LGBM Average RMSE over 50 folds: 0.609359\n",
      "LGBM Average RMSE over 50 folds: 0.618300\n",
      "LGBM Average RMSE over 50 folds: 0.617233\n",
      "LGBM Average RMSE over 50 folds: 0.614114\n",
      "LGBM Average RMSE over 50 folds: 0.647350\n",
      "LGBM Average RMSE over 50 folds: 0.611538\n",
      "LGBM Average RMSE over 50 folds: 0.652213\n",
      "LGBM Average RMSE over 50 folds: 0.610117\n",
      "LGBM Average RMSE over 50 folds: 0.611443\n",
      "LGBM Average RMSE over 50 folds: 0.646971\n",
      "LGBM Average RMSE over 50 folds: 0.920958\n",
      "LGBM Average RMSE over 50 folds: 0.608806\n",
      "LGBM Average RMSE over 50 folds: 0.625765\n",
      "LGBM Average RMSE over 50 folds: 0.613307\n",
      "LGBM Average RMSE over 50 folds: 0.609208\n",
      "LGBM Average RMSE over 50 folds: 0.610771\n",
      "LGBM Average RMSE over 50 folds: 0.642656\n",
      "LGBM Average RMSE over 50 folds: 0.956726\n",
      "LGBM Average RMSE over 50 folds: 0.650033\n",
      "LGBM Average RMSE over 50 folds: 0.620043\n",
      "LGBM Average RMSE over 50 folds: 0.857422\n",
      "LGBM Average RMSE over 50 folds: 0.611518\n",
      "LGBM Average RMSE over 50 folds: 0.614952\n",
      "LGBM Average RMSE over 50 folds: 0.624603\n",
      "LGBM Average RMSE over 50 folds: 0.672650\n",
      "LGBM Average RMSE over 50 folds: 0.612201\n",
      "LGBM Average RMSE over 50 folds: 1.507931\n",
      "LGBM Average RMSE over 50 folds: 0.623705\n",
      "LGBM Average RMSE over 50 folds: 0.615925\n",
      "LGBM Average RMSE over 50 folds: 0.612367\n",
      "LGBM Average RMSE over 50 folds: 1.143119\n",
      "LGBM Average RMSE over 50 folds: 0.688490\n",
      "LGBM Average RMSE over 50 folds: 0.613479\n",
      "LGBM Average RMSE over 50 folds: 0.607538\n",
      "LGBM Average RMSE over 50 folds: 0.640837\n",
      "LGBM Average RMSE over 50 folds: 0.628020\n",
      "LGBM Average RMSE over 50 folds: 0.874439\n",
      "LGBM Average RMSE over 50 folds: 1.390446\n",
      "LGBM Average RMSE over 50 folds: 0.614253\n",
      "LGBM Average RMSE over 50 folds: 0.615349\n",
      "LGBM Average RMSE over 50 folds: 0.618743\n",
      "LGBM Average RMSE over 50 folds: 0.644351\n",
      "LGBM Average RMSE over 50 folds: 0.625639\n",
      "LGBM Average RMSE over 50 folds: 0.623565\n",
      "LGBM Average RMSE over 50 folds: 0.627912\n",
      "LGBM Average RMSE over 50 folds: 0.607768\n",
      "LGBM Average RMSE over 50 folds: 0.617094\n",
      "LGBM Average RMSE over 50 folds: 0.614344\n",
      "LGBM Average RMSE over 50 folds: 0.612738\n",
      "LGBM Average RMSE over 50 folds: 0.663628\n",
      "LGBM Average RMSE over 50 folds: 0.633809\n",
      "LGBM Average RMSE over 50 folds: 0.609230\n",
      "LGBM Average RMSE over 50 folds: 0.620744\n",
      "LGBM Average RMSE over 50 folds: 0.604314\n",
      "New best RMSE: 0.604314\n",
      "LGBM Average RMSE over 50 folds: 0.618611\n",
      "LGBM Average RMSE over 50 folds: 0.623355\n",
      "LGBM Average RMSE over 50 folds: 0.620388\n",
      "LGBM Average RMSE over 50 folds: 0.608243\n",
      "LGBM Average RMSE over 50 folds: 0.618662\n",
      "LGBM Average RMSE over 50 folds: 0.642143\n",
      "LGBM Average RMSE over 50 folds: 0.855238\n",
      "LGBM Average RMSE over 50 folds: 0.620142\n",
      "LGBM Average RMSE over 50 folds: 0.610540\n",
      "LGBM Average RMSE over 50 folds: 1.099593\n",
      "LGBM Average RMSE over 50 folds: 0.610174\n",
      "LGBM Average RMSE over 50 folds: 0.611884\n",
      "LGBM Average RMSE over 50 folds: 0.609860\n",
      "LGBM Average RMSE over 50 folds: 0.615572\n",
      "LGBM Average RMSE over 50 folds: 0.611080\n",
      "LGBM Average RMSE over 50 folds: 0.627028\n",
      "LGBM Average RMSE over 50 folds: 0.612377\n",
      "LGBM Average RMSE over 50 folds: 0.610968\n",
      "LGBM Average RMSE over 50 folds: 0.626899\n",
      "LGBM Average RMSE over 50 folds: 0.620318\n",
      "LGBM Average RMSE over 50 folds: 0.615579\n",
      "LGBM Average RMSE over 50 folds: 0.612124\n",
      "LGBM Average RMSE over 50 folds: 0.650618\n",
      "LGBM Average RMSE over 50 folds: 0.610866\n",
      "LGBM Average RMSE over 50 folds: 0.609664\n",
      "LGBM Average RMSE over 50 folds: 0.612703\n",
      "LGBM Average RMSE over 50 folds: 0.622438\n",
      "LGBM Average RMSE over 50 folds: 0.621161\n",
      "LGBM Average RMSE over 50 folds: 0.612301\n",
      "LGBM Average RMSE over 50 folds: 0.614144\n",
      "LGBM Average RMSE over 50 folds: 0.656342\n",
      "LGBM Average RMSE over 50 folds: 0.610846\n",
      "LGBM Average RMSE over 50 folds: 0.612321\n",
      "LGBM Average RMSE over 50 folds: 0.628204\n",
      "LGBM Average RMSE over 50 folds: 0.628516\n",
      "LGBM Average RMSE over 50 folds: 0.630303\n",
      "LGBM Average RMSE over 50 folds: 0.617709\n",
      "LGBM Average RMSE over 50 folds: 0.617077\n",
      "LGBM Average RMSE over 50 folds: 0.609252\n",
      "LGBM Average RMSE over 50 folds: 0.608732\n",
      "LGBM Average RMSE over 50 folds: 0.615380\n",
      "LGBM Average RMSE over 50 folds: 0.767306\n",
      "LGBM Average RMSE over 50 folds: 0.799751\n",
      "LGBM Average RMSE over 50 folds: 0.693603\n",
      "LGBM Average RMSE over 50 folds: 0.775929\n",
      "LGBM Average RMSE over 50 folds: 0.663722\n",
      "LGBM Average RMSE over 50 folds: 0.611048\n",
      "LGBM Average RMSE over 50 folds: 1.828721\n",
      "LGBM Average RMSE over 50 folds: 0.688672\n",
      "LGBM Average RMSE over 50 folds: 0.617008\n",
      "LGBM Average RMSE over 50 folds: 0.900551\n",
      "LGBM Average RMSE over 50 folds: 0.611298\n",
      "LGBM Average RMSE over 50 folds: 0.607788\n",
      "LGBM Average RMSE over 50 folds: 0.628343\n",
      "LGBM Average RMSE over 50 folds: 0.623476\n",
      "LGBM Average RMSE over 50 folds: 0.614455\n",
      "LGBM Average RMSE over 50 folds: 0.614964\n",
      "LGBM Average RMSE over 50 folds: 0.610457\n",
      "LGBM Average RMSE over 50 folds: 1.023287\n",
      "LGBM Average RMSE over 50 folds: 0.611104\n",
      "LGBM Average RMSE over 50 folds: 0.617398\n",
      "LGBM Average RMSE over 50 folds: 0.629705\n",
      "LGBM Average RMSE over 50 folds: 0.609178\n",
      "LGBM Average RMSE over 50 folds: 0.612777\n",
      "LGBM Average RMSE over 50 folds: 1.325071\n",
      "LGBM Average RMSE over 50 folds: 0.617767\n",
      "LGBM Average RMSE over 50 folds: 0.612970\n",
      "LGBM Average RMSE over 50 folds: 0.612441\n",
      "LGBM Average RMSE over 50 folds: 1.039112\n",
      "LGBM Average RMSE over 50 folds: 0.609151\n",
      "LGBM Average RMSE over 50 folds: 0.612561\n",
      "LGBM Average RMSE over 50 folds: 0.614983\n",
      "LGBM Average RMSE over 50 folds: 0.668481\n",
      "LGBM Average RMSE over 50 folds: 0.613216\n",
      "LGBM Average RMSE over 50 folds: 0.611718\n",
      "LGBM Average RMSE over 50 folds: 0.625826\n",
      "LGBM Average RMSE over 50 folds: 0.695356\n",
      "LGBM Average RMSE over 50 folds: 0.609959\n",
      "LGBM Average RMSE over 50 folds: 0.611240\n",
      "LGBM Average RMSE over 50 folds: 1.172409\n",
      "LGBM Average RMSE over 50 folds: 0.689810\n",
      "LGBM Average RMSE over 50 folds: 0.607893\n",
      "LGBM Average RMSE over 50 folds: 0.616544\n",
      "LGBM Average RMSE over 50 folds: 0.619285\n",
      "LGBM Average RMSE over 50 folds: 0.612800\n",
      "LGBM Average RMSE over 50 folds: 0.634850\n",
      "LGBM Average RMSE over 50 folds: 0.614362\n",
      "LGBM Average RMSE over 50 folds: 0.610387\n",
      "LGBM Average RMSE over 50 folds: 0.772207\n",
      "LGBM Average RMSE over 50 folds: 0.610666\n",
      "LGBM Average RMSE over 50 folds: 0.655000\n",
      "LGBM Average RMSE over 50 folds: 0.612787\n",
      "LGBM Average RMSE over 50 folds: 0.624312\n",
      "LGBM Average RMSE over 50 folds: 0.608459\n",
      "LGBM Average RMSE over 50 folds: 0.610303\n",
      "LGBM Average RMSE over 50 folds: 0.607062\n",
      "LGBM Average RMSE over 50 folds: 1.388506\n",
      "LGBM Average RMSE over 50 folds: 0.624147\n",
      "LGBM Average RMSE over 50 folds: 0.610918\n",
      "LGBM Average RMSE over 50 folds: 1.336411\n",
      "LGBM Average RMSE over 50 folds: 0.607974\n",
      "LGBM Average RMSE over 50 folds: 0.619747\n",
      "LGBM Average RMSE over 50 folds: 0.703140\n",
      "LGBM Average RMSE over 50 folds: 0.897304\n",
      "LGBM Average RMSE over 50 folds: 0.618002\n",
      "LGBM Average RMSE over 50 folds: 0.671136\n",
      "LGBM Average RMSE over 50 folds: 0.686466\n",
      "LGBM Average RMSE over 50 folds: 0.610912\n",
      "LGBM Average RMSE over 50 folds: 0.613410\n",
      "LGBM Average RMSE over 50 folds: 0.609452\n",
      "LGBM Average RMSE over 50 folds: 0.619457\n",
      "LGBM Average RMSE over 50 folds: 0.626493\n",
      "LGBM Average RMSE over 50 folds: 0.625156\n",
      "LGBM Average RMSE over 50 folds: 0.611672\n",
      "LGBM Average RMSE over 50 folds: 1.284566\n",
      "LGBM Average RMSE over 50 folds: 1.499662\n",
      "LGBM Average RMSE over 50 folds: 0.629070\n",
      "LGBM Average RMSE over 50 folds: 0.610047\n",
      "LGBM Average RMSE over 50 folds: 0.754429\n",
      "LGBM Average RMSE over 50 folds: 0.611842\n",
      "LGBM Average RMSE over 50 folds: 0.619268\n",
      "LGBM Average RMSE over 50 folds: 0.633475\n",
      "LGBM Average RMSE over 50 folds: 0.641302\n",
      "LGBM Average RMSE over 50 folds: 1.108330\n",
      "LGBM Average RMSE over 50 folds: 0.625572\n",
      "LGBM Average RMSE over 50 folds: 0.786600\n",
      "LGBM Average RMSE over 50 folds: 0.654346\n",
      "LGBM Average RMSE over 50 folds: 0.614210\n",
      "LGBM Average RMSE over 50 folds: 0.685766\n",
      "LGBM Average RMSE over 50 folds: 0.606509\n",
      "LGBM Average RMSE over 50 folds: 0.612733\n",
      "LGBM Average RMSE over 50 folds: 0.612445\n",
      "LGBM Average RMSE over 50 folds: 0.658978\n",
      "LGBM Average RMSE over 50 folds: 0.718234\n",
      "LGBM Average RMSE over 50 folds: 0.629671\n",
      "LGBM Average RMSE over 50 folds: 0.614496\n",
      "LGBM Average RMSE over 50 folds: 0.608940\n",
      "LGBM Average RMSE over 50 folds: 0.714411\n",
      "LGBM Average RMSE over 50 folds: 0.888207\n",
      "LGBM Average RMSE over 50 folds: 0.685836\n",
      "LGBM Average RMSE over 50 folds: 0.962311\n",
      "LGBM Average RMSE over 50 folds: 0.646924\n",
      "LGBM Average RMSE over 50 folds: 0.607744\n",
      "LGBM Average RMSE over 50 folds: 0.611810\n",
      "LGBM Average RMSE over 50 folds: 0.613668\n",
      "LGBM Average RMSE over 50 folds: 0.612719\n",
      "LGBM Average RMSE over 50 folds: 0.634911\n",
      "LGBM Average RMSE over 50 folds: 0.615332\n",
      "LGBM Average RMSE over 50 folds: 0.608554\n",
      "LGBM Average RMSE over 50 folds: 0.616324\n",
      "LGBM Average RMSE over 50 folds: 1.320232\n",
      "LGBM Average RMSE over 50 folds: 0.616406\n",
      "LGBM Average RMSE over 50 folds: 0.634586\n",
      "LGBM Average RMSE over 50 folds: 0.612413\n",
      "LGBM Average RMSE over 50 folds: 0.616087\n",
      "LGBM Average RMSE over 50 folds: 0.636859\n",
      "LGBM Average RMSE over 50 folds: 0.634824\n",
      "LGBM Average RMSE over 50 folds: 0.784844\n",
      "LGBM Average RMSE over 50 folds: 0.613759\n",
      "LGBM Average RMSE over 50 folds: 0.610384\n",
      "LGBM Average RMSE over 50 folds: 0.612004\n",
      "LGBM Average RMSE over 50 folds: 0.608522\n",
      "LGBM Average RMSE over 50 folds: 0.607691\n",
      "LGBM Average RMSE over 50 folds: 0.607685\n",
      "LGBM Average RMSE over 50 folds: 0.613480\n",
      "LGBM Average RMSE over 50 folds: 0.611354\n",
      "LGBM Average RMSE over 50 folds: 0.616431\n",
      "LGBM Average RMSE over 50 folds: 0.612846\n",
      "LGBM Average RMSE over 50 folds: 0.879650\n",
      "LGBM Average RMSE over 50 folds: 0.615649\n",
      "LGBM Average RMSE over 50 folds: 0.614260\n",
      "LGBM Average RMSE over 50 folds: 0.611836\n",
      "LGBM Average RMSE over 50 folds: 0.616125\n",
      "LGBM Average RMSE over 50 folds: 0.616446\n",
      "LGBM Average RMSE over 50 folds: 1.352440\n",
      "LGBM Average RMSE over 50 folds: 0.621211\n",
      "LGBM Average RMSE over 50 folds: 0.610269\n",
      "LGBM Average RMSE over 50 folds: 0.616189\n",
      "LGBM Average RMSE over 50 folds: 0.678332\n",
      "LGBM Average RMSE over 50 folds: 0.629034\n",
      "LGBM Average RMSE over 50 folds: 0.741190\n",
      "LGBM Average RMSE over 50 folds: 0.610499\n",
      "LGBM Average RMSE over 50 folds: 0.610815\n",
      "LGBM Average RMSE over 50 folds: 0.610822\n",
      "LGBM Average RMSE over 50 folds: 0.616634\n",
      "LGBM Average RMSE over 50 folds: 0.642842\n",
      "LGBM Average RMSE over 50 folds: 0.620584\n",
      "LGBM Average RMSE over 50 folds: 0.631705\n",
      "LGBM Average RMSE over 50 folds: 1.408806\n",
      "LGBM Average RMSE over 50 folds: 0.620797\n",
      "LGBM Average RMSE over 50 folds: 0.612981\n",
      "LGBM Average RMSE over 50 folds: 0.609754\n",
      "LGBM Average RMSE over 50 folds: 0.607144\n",
      "LGBM Average RMSE over 50 folds: 0.610170\n",
      "LGBM Average RMSE over 50 folds: 0.608672\n",
      "LGBM Average RMSE over 50 folds: 1.696814\n",
      "LGBM Average RMSE over 50 folds: 0.620672\n",
      "LGBM Average RMSE over 50 folds: 0.608065\n",
      "LGBM Average RMSE over 50 folds: 0.634085\n",
      "LGBM Average RMSE over 50 folds: 0.621154\n",
      "LGBM Average RMSE over 50 folds: 0.649953\n",
      "LGBM Average RMSE over 50 folds: 0.623095\n",
      "LGBM Average RMSE over 50 folds: 0.611682\n",
      "LGBM Average RMSE over 50 folds: 0.632966\n",
      "LGBM Average RMSE over 50 folds: 0.610806\n",
      "LGBM Average RMSE over 50 folds: 0.795375\n",
      "LGBM Average RMSE over 50 folds: 0.606310\n",
      "LGBM Average RMSE over 50 folds: 0.613572\n",
      "LGBM Average RMSE over 50 folds: 0.614007\n",
      "LGBM Average RMSE over 50 folds: 0.615550\n",
      "LGBM Average RMSE over 50 folds: 0.647811\n",
      "LGBM Average RMSE over 50 folds: 0.607963\n",
      "LGBM Average RMSE over 50 folds: 0.615159\n",
      "LGBM Average RMSE over 50 folds: 0.651957\n",
      "LGBM Average RMSE over 50 folds: 0.609721\n",
      "LGBM Average RMSE over 50 folds: 0.607753\n",
      "LGBM Average RMSE over 50 folds: 0.607987\n",
      "LGBM Average RMSE over 50 folds: 0.616476\n",
      "LGBM Average RMSE over 50 folds: 0.621201\n",
      "LGBM Average RMSE over 50 folds: 0.623157\n",
      "LGBM Average RMSE over 50 folds: 0.637344\n",
      "LGBM Average RMSE over 50 folds: 0.606829\n",
      "LGBM Average RMSE over 50 folds: 0.676869\n",
      "LGBM Average RMSE over 50 folds: 0.634039\n",
      "LGBM Average RMSE over 50 folds: 0.608497\n",
      "LGBM Average RMSE over 50 folds: 0.616129\n",
      "LGBM Average RMSE over 50 folds: 0.608964\n",
      "LGBM Average RMSE over 50 folds: 0.667557\n",
      "LGBM Average RMSE over 50 folds: 0.607618\n",
      "LGBM Average RMSE over 50 folds: 0.665828\n",
      "LGBM Average RMSE over 50 folds: 0.608861\n",
      "LGBM Average RMSE over 50 folds: 0.693232\n",
      "LGBM Average RMSE over 50 folds: 0.658369\n",
      "LGBM Average RMSE over 50 folds: 0.642332\n",
      "LGBM Average RMSE over 50 folds: 0.669846\n",
      "LGBM Average RMSE over 50 folds: 1.720715\n",
      "LGBM Average RMSE over 50 folds: 0.611532\n",
      "LGBM Average RMSE over 50 folds: 0.615390\n",
      "LGBM Average RMSE over 50 folds: 0.611692\n",
      "LGBM Average RMSE over 50 folds: 0.610073\n",
      "LGBM Average RMSE over 50 folds: 0.612425\n",
      "LGBM Average RMSE over 50 folds: 0.685859\n",
      "LGBM Average RMSE over 50 folds: 0.609648\n",
      "LGBM Average RMSE over 50 folds: 0.610636\n",
      "LGBM Average RMSE over 50 folds: 0.614141\n",
      "LGBM Average RMSE over 50 folds: 0.604968\n",
      "LGBM Average RMSE over 50 folds: 0.609771\n",
      "LGBM Average RMSE over 50 folds: 0.688358\n",
      "LGBM Average RMSE over 50 folds: 0.631185\n",
      "LGBM Average RMSE over 50 folds: 0.629299\n",
      "LGBM Average RMSE over 50 folds: 0.662323\n",
      "LGBM Average RMSE over 50 folds: 0.606137\n",
      "LGBM Average RMSE over 50 folds: 0.609789\n",
      "LGBM Average RMSE over 50 folds: 0.606442\n",
      "LGBM Average RMSE over 50 folds: 0.631025\n",
      "LGBM Average RMSE over 50 folds: 0.609066\n",
      "LGBM Average RMSE over 50 folds: 0.610989\n",
      "LGBM Average RMSE over 50 folds: 0.661823\n",
      "LGBM Average RMSE over 50 folds: 0.610090\n",
      "LGBM Average RMSE over 50 folds: 0.609947\n",
      "LGBM Average RMSE over 50 folds: 0.608881\n",
      "LGBM Average RMSE over 50 folds: 0.609015\n",
      "LGBM Average RMSE over 50 folds: 0.922447\n",
      "LGBM Average RMSE over 50 folds: 0.611656\n",
      "LGBM Average RMSE over 50 folds: 0.704751\n",
      "LGBM Average RMSE over 50 folds: 0.617094\n",
      "LGBM Average RMSE over 50 folds: 1.111114\n",
      "LGBM Average RMSE over 50 folds: 0.615455\n",
      "LGBM Average RMSE over 50 folds: 0.610917\n",
      "LGBM Average RMSE over 50 folds: 0.664250\n",
      "LGBM Average RMSE over 50 folds: 0.610178\n",
      "LGBM Average RMSE over 50 folds: 0.623764\n",
      "LGBM Average RMSE over 50 folds: 0.942928\n",
      "LGBM Average RMSE over 50 folds: 0.761373\n",
      "LGBM Average RMSE over 50 folds: 0.609738\n",
      "LGBM Average RMSE over 50 folds: 0.624661\n",
      "LGBM Average RMSE over 50 folds: 0.609334\n",
      "LGBM Average RMSE over 50 folds: 0.616938\n",
      "LGBM Average RMSE over 50 folds: 0.613083\n",
      "LGBM Average RMSE over 50 folds: 0.608570\n",
      "LGBM Average RMSE over 50 folds: 0.621032\n",
      "LGBM Average RMSE over 50 folds: 0.608069\n",
      "LGBM Average RMSE over 50 folds: 0.849493\n",
      "LGBM Average RMSE over 50 folds: 0.688199\n",
      "LGBM Average RMSE over 50 folds: 0.639103\n",
      "LGBM Average RMSE over 50 folds: 0.946212\n",
      "LGBM Average RMSE over 50 folds: 0.625967\n",
      "LGBM Average RMSE over 50 folds: 0.607243\n",
      "LGBM Average RMSE over 50 folds: 0.614397\n",
      "LGBM Average RMSE over 50 folds: 0.609527\n",
      "LGBM Average RMSE over 50 folds: 0.610194\n",
      "LGBM Average RMSE over 50 folds: 0.610092\n",
      "LGBM Average RMSE over 50 folds: 0.615380\n",
      "LGBM Average RMSE over 50 folds: 0.612592\n",
      "LGBM Average RMSE over 50 folds: 0.628455\n",
      "LGBM Average RMSE over 50 folds: 0.610981\n",
      "LGBM Average RMSE over 50 folds: 0.611419\n",
      "LGBM Average RMSE over 50 folds: 0.621000\n",
      "LGBM Average RMSE over 50 folds: 0.607131\n",
      "LGBM Average RMSE over 50 folds: 0.608496\n",
      "LGBM Average RMSE over 50 folds: 0.611236\n",
      "LGBM Average RMSE over 50 folds: 1.082693\n",
      "LGBM Average RMSE over 50 folds: 0.608989\n",
      "LGBM Average RMSE over 50 folds: 0.609154\n",
      "LGBM Average RMSE over 50 folds: 0.606406\n",
      "LGBM Average RMSE over 50 folds: 0.610393\n",
      "LGBM Average RMSE over 50 folds: 0.606251\n",
      "LGBM Average RMSE over 50 folds: 0.611742\n",
      "LGBM Average RMSE over 50 folds: 0.613136\n",
      "LGBM Average RMSE over 50 folds: 0.608574\n",
      "LGBM Average RMSE over 50 folds: 0.611398\n",
      "LGBM Average RMSE over 50 folds: 0.626737\n",
      "LGBM Average RMSE over 50 folds: 0.630188\n",
      "LGBM Average RMSE over 50 folds: 1.144141\n",
      "LGBM Average RMSE over 50 folds: 0.929605\n",
      "LGBM Average RMSE over 50 folds: 0.804310\n",
      "LGBM Average RMSE over 50 folds: 0.615183\n",
      "LGBM Average RMSE over 50 folds: 0.607804\n",
      "LGBM Average RMSE over 50 folds: 0.606790\n",
      "LGBM Average RMSE over 50 folds: 0.613977\n",
      "LGBM Average RMSE over 50 folds: 0.623111\n",
      "LGBM Average RMSE over 50 folds: 0.619434\n",
      "LGBM Average RMSE over 50 folds: 0.609146\n",
      "LGBM Average RMSE over 50 folds: 0.610711\n",
      "LGBM Average RMSE over 50 folds: 0.642044\n",
      "LGBM Average RMSE over 50 folds: 0.667309\n",
      "LGBM Average RMSE over 50 folds: 0.710486\n",
      "LGBM Average RMSE over 50 folds: 0.608939\n",
      "LGBM Average RMSE over 50 folds: 0.611843\n",
      "LGBM Average RMSE over 50 folds: 0.613660\n",
      "LGBM Average RMSE over 50 folds: 0.816407\n",
      "LGBM Average RMSE over 50 folds: 0.627657\n",
      "LGBM Average RMSE over 50 folds: 0.639166\n",
      "LGBM Average RMSE over 50 folds: 0.618230\n",
      "LGBM Average RMSE over 50 folds: 0.613195\n",
      "LGBM Average RMSE over 50 folds: 0.625320\n",
      "LGBM Average RMSE over 50 folds: 0.644137\n",
      "LGBM Average RMSE over 50 folds: 0.612084\n",
      "LGBM Average RMSE over 50 folds: 0.627092\n",
      "LGBM Average RMSE over 50 folds: 0.628661\n",
      "LGBM Average RMSE over 50 folds: 0.615218\n",
      "LGBM Average RMSE over 50 folds: 0.617822\n",
      "LGBM Average RMSE over 50 folds: 0.613097\n",
      "LGBM Average RMSE over 50 folds: 0.614233\n",
      "LGBM Average RMSE over 50 folds: 0.634563\n",
      "LGBM Average RMSE over 50 folds: 0.613943\n",
      "LGBM Average RMSE over 50 folds: 0.609989\n",
      "LGBM Average RMSE over 50 folds: 0.612141\n",
      "LGBM Average RMSE over 50 folds: 0.608783\n",
      "LGBM Average RMSE over 50 folds: 0.608988\n",
      "LGBM Average RMSE over 50 folds: 0.609117\n",
      "LGBM Average RMSE over 50 folds: 0.657571\n",
      "LGBM Average RMSE over 50 folds: 0.649062\n",
      "LGBM Average RMSE over 50 folds: 0.613799\n",
      "LGBM Average RMSE over 50 folds: 0.643049\n",
      "LGBM Average RMSE over 50 folds: 0.609023\n",
      "LGBM Average RMSE over 50 folds: 0.634841\n",
      "LGBM Average RMSE over 50 folds: 0.613943\n",
      "LGBM Average RMSE over 50 folds: 0.618054\n",
      "LGBM Average RMSE over 50 folds: 0.654005\n",
      "LGBM Average RMSE over 50 folds: 0.609932\n",
      "LGBM Average RMSE over 50 folds: 0.649437\n",
      "LGBM Average RMSE over 50 folds: 1.085138\n",
      "LGBM Average RMSE over 50 folds: 0.802299\n",
      "LGBM Average RMSE over 50 folds: 0.608567\n",
      "LGBM Average RMSE over 50 folds: 0.810397\n",
      "LGBM Average RMSE over 50 folds: 0.610277\n",
      "LGBM Average RMSE over 50 folds: 0.635804\n",
      "LGBM Average RMSE over 50 folds: 0.873555\n",
      "LGBM Average RMSE over 50 folds: 0.649613\n",
      "LGBM Average RMSE over 50 folds: 0.614919\n",
      "LGBM Average RMSE over 50 folds: 0.608975\n",
      "LGBM Average RMSE over 50 folds: 0.613887\n",
      "LGBM Average RMSE over 50 folds: 0.609193\n",
      "LGBM Average RMSE over 50 folds: 0.608737\n",
      "LGBM Average RMSE over 50 folds: 0.619406\n",
      "LGBM Average RMSE over 50 folds: 0.610292\n",
      "LGBM Average RMSE over 50 folds: 0.614262\n",
      "LGBM Average RMSE over 50 folds: 0.613837\n",
      "LGBM Average RMSE over 50 folds: 0.617101\n",
      "LGBM Average RMSE over 50 folds: 0.609313\n",
      "LGBM Average RMSE over 50 folds: 0.619192\n",
      "LGBM Average RMSE over 50 folds: 0.630089\n",
      "LGBM Average RMSE over 50 folds: 0.630433\n",
      "LGBM Average RMSE over 50 folds: 0.610691\n",
      "LGBM Average RMSE over 50 folds: 0.646915\n",
      "LGBM Average RMSE over 50 folds: 0.612491\n",
      "LGBM Average RMSE over 50 folds: 0.608718\n",
      "LGBM Average RMSE over 50 folds: 0.607808\n",
      "LGBM Average RMSE over 50 folds: 0.612355\n",
      "LGBM Average RMSE over 50 folds: 0.682293\n",
      "LGBM Average RMSE over 50 folds: 0.636613\n",
      "LGBM Average RMSE over 50 folds: 0.608126\n",
      "LGBM Average RMSE over 50 folds: 0.619626\n",
      "LGBM Average RMSE over 50 folds: 0.831071\n",
      "LGBM Average RMSE over 50 folds: 1.185660\n",
      "LGBM Average RMSE over 50 folds: 0.618184\n",
      "LGBM Average RMSE over 50 folds: 0.634316\n",
      "LGBM Average RMSE over 50 folds: 0.619380\n",
      "LGBM Average RMSE over 50 folds: 0.617015\n",
      "LGBM Average RMSE over 50 folds: 0.609181\n",
      "LGBM Average RMSE over 50 folds: 1.304635\n",
      "LGBM Average RMSE over 50 folds: 0.626733\n",
      "LGBM Average RMSE over 50 folds: 0.610758\n",
      "LGBM Average RMSE over 50 folds: 0.615623\n",
      "LGBM Average RMSE over 50 folds: 0.704913\n",
      "LGBM Average RMSE over 50 folds: 0.618975\n",
      "LGBM Average RMSE over 50 folds: 0.611911\n",
      "LGBM Average RMSE over 50 folds: 0.616864\n",
      "LGBM Average RMSE over 50 folds: 0.640067\n",
      "LGBM Average RMSE over 50 folds: 0.609726\n",
      "LGBM Average RMSE over 50 folds: 0.793953\n",
      "Best RMSE: 0.604314\n",
      "Best Parameters: {'boosting_type': 'gbdt', 'class_weight': None, 'colsample_bytree': 1.0, 'importance_type': 'split', 'learning_rate': 0.17106535627270134, 'max_depth': 16, 'min_child_samples': 39, 'min_child_weight': 0.001, 'min_split_gain': 0.0, 'n_estimators': 100, 'n_jobs': None, 'num_leaves': 15, 'objective': None, 'random_state': 42, 'reg_alpha': 0.8577521098353755, 'reg_lambda': 0.7679447672996995, 'subsample': 1.0, 'subsample_for_bin': 200000, 'subsample_freq': 0, 'verbose': -1}\n"
     ]
    }
   ],
   "source": [
    "import numpy as np\n",
    "import lightgbm as lgb\n",
    "from sklearn.metrics import mean_squared_error\n",
    "from sklearn.model_selection import StratifiedKFold\n",
    "import random\n",
    "\n",
    "def random_param_search(train_feats, test_feats, n_iterations):\n",
    "    # Define parameter ranges\n",
    "    param_ranges = {\n",
    "        'boosting_type': ['gbdt', 'dart', 'goss'],\n",
    "        'num_leaves': (15, 150),  # Range for num_leaves\n",
    "        'learning_rate': (0.01, 0.2),  # Range for learning_rate\n",
    "        'max_depth': (5, 20),  # Range for max_depth\n",
    "        'min_child_samples': (5, 50),  # Range for min_child_samples\n",
    "        'reg_alpha': (0, 1),  # Range for L1 regularization\n",
    "        'reg_lambda': (0, 1),  # Range for L2 regularization\n",
    "    }\n",
    "\n",
    "    best_rmse = float(\"inf\")\n",
    "    best_params = None\n",
    "    test_predictions_df = pd.DataFrame()\n",
    "\n",
    "    for _ in range(n_iterations):\n",
    "\n",
    "        # Sampling parameters from ranges\n",
    "        params = {\n",
    "            'boosting_type': random.choice(param_ranges['boosting_type']),\n",
    "            'num_leaves': random.randint(*param_ranges['num_leaves']),\n",
    "            'learning_rate': random.uniform(*param_ranges['learning_rate']),\n",
    "            'max_depth': random.randint(*param_ranges['max_depth']),\n",
    "            'min_child_samples': random.randint(*param_ranges['min_child_samples']),\n",
    "            'reg_alpha': random.uniform(*param_ranges['reg_alpha']),\n",
    "            'reg_lambda': random.uniform(*param_ranges['reg_lambda'])\n",
    "        }\n",
    "        \n",
    "        # Train and evaluate model\n",
    "        boosting_type = params['boosting_type']\n",
    "        _, _, rmse, model = cv_pipeline(train_feats, test_feats, params, boosting_type)\n",
    "                                        \n",
    "        new_iter = {'rmse': [rmse],\n",
    "                    'params': str(model.get_params())}\n",
    "\n",
    "        test_predictions_df = pd.concat([test_predictions_df, pd.DataFrame(data=new_iter)])\n",
    "        # Update best parameters if current model is better\n",
    "        if rmse < best_rmse:\n",
    "            print(f\"New best RMSE: {rmse:.6f}\")\n",
    "            best_rmse = rmse\n",
    "            best_params = model.get_params()\n",
    "    \n",
    "    print(f\"Best RMSE: {best_rmse:.6f}\")\n",
    "    print(\"Best Parameters:\", best_params)\n",
    "    return test_predictions_df\n",
    "\n",
    "# Example usage\n",
    "test_predictions_df = random_param_search(train_feats, test_feats, 1000)\n",
    "test_predictions_df.sort_values('rmse').to_csv('params.csv')"
   ]
  },
  {
   "cell_type": "code",
   "execution_count": null,
   "metadata": {},
   "outputs": [],
   "source": [
    "import numpy as np\n",
    "import xgboost as xgb\n",
    "from sklearn.metrics import mean_squared_error\n",
    "from sklearn.model_selection import StratifiedKFold\n",
    "import random\n",
    "\n",
    "def random_param_search_xgb(train_feats, test_feats, n_iterations):\n",
    "    # Define parameter ranges\n",
    "    param_ranges = {\n",
    "        'booster': ['gbtree', 'gblinear'],\n",
    "        'max_depth': (3, 10),  # Range for max_depth\n",
    "        'learning_rate': (0.01, 0.2),  # Range for learning_rate\n",
    "        'n_estimators': (100, 1000),  # Range for n_estimators\n",
    "        'min_child_weight': (1, 6),  # Range for min_child_weight\n",
    "        'gamma': (0, 0.5),  # Range for gamma\n",
    "        'subsample': (0.5, 1),  # Range for subsample\n",
    "        'colsample_bytree': (0.5, 1),  # Range for colsample_bytree\n",
    "    }\n",
    "\n",
    "    best_rmse = float(\"inf\")\n",
    "    best_params = None\n",
    "    test_predictions_df = pd.DataFrame()\n",
    "\n",
    "    for _ in range(n_iterations):\n",
    "\n",
    "        # Sampling parameters from ranges\n",
    "        params = {\n",
    "            'booster': random.choice(param_ranges['booster']),\n",
    "            'max_depth': random.randint(*param_ranges['max_depth']),\n",
    "            'learning_rate': random.uniform(*param_ranges['learning_rate']),\n",
    "            'n_estimators': random.randint(*param_ranges['n_estimators']),\n",
    "            'min_child_weight': random.randint(*param_ranges['min_child_weight']),\n",
    "            'gamma': random.uniform(*param_ranges['gamma']),\n",
    "            'subsample': random.uniform(*param_ranges['subsample']),\n",
    "            'colsample_bytree': random.uniform(*param_ranges['colsample_bytree']),\n",
    "            'device': 'cuda',\n",
    "            'tree_method': 'hist',\n",
    "        }\n",
    "        \n",
    "        # Train and evaluate model\n",
    "        booster = params['booster']\n",
    "        _, _, rmse, model = xgb_cv_pipeline(train_feats, test_feats, params, booster)\n",
    "                                        \n",
    "        new_iter = {'rmse': [rmse],\n",
    "                    'params': str(model.get_params())}\n",
    "\n",
    "        test_predictions_df = pd.concat([test_predictions_df, pd.DataFrame(data=new_iter)])\n",
    "        # Update best parameters if current model is better\n",
    "        if rmse < best_rmse:\n",
    "            print(f\"New best RMSE: {rmse:.6f}\")\n",
    "            best_rmse = rmse\n",
    "            best_params = model.get_params()\n",
    "    \n",
    "    print(f\"Best RMSE: {best_rmse:.6f}\")\n",
    "    print(\"Best Parameters:\", best_params)\n",
    "    return test_predictions_df\n",
    "\n",
    "# Example usage\n",
    "test_predictions_df_xgb = random_param_search_xgb(train_feats, test_feats, 300)\n",
    "test_predictions_df_xgb.sort_values('rmse').to_csv('params_xgb2.csv', index=False)"
   ]
  },
  {
   "cell_type": "code",
   "execution_count": 14,
   "metadata": {},
   "outputs": [],
   "source": [
    "test_predictions_df.sort_values('rmse')"
   ]
  },
  {
   "cell_type": "code",
   "execution_count": 21,
   "metadata": {},
   "outputs": [
    {
     "data": {
      "text/plain": [
       "0    {'boosting_type': 'gbdt', 'class_weight': None...\n",
       "0    {'boosting_type': 'dart', 'class_weight': None...\n",
       "0    {'boosting_type': 'gbdt', 'class_weight': None...\n",
       "Name: params, dtype: object"
      ]
     },
     "execution_count": 21,
     "metadata": {},
     "output_type": "execute_result"
    }
   ],
   "source": [
    "test_predictions_df['params'].head(3)"
   ]
  }
 ],
 "metadata": {
  "kernelspec": {
   "display_name": "lrp",
   "language": "python",
   "name": "python3"
  },
  "language_info": {
   "codemirror_mode": {
    "name": "ipython",
    "version": 3
   },
   "file_extension": ".py",
   "mimetype": "text/x-python",
   "name": "python",
   "nbconvert_exporter": "python",
   "pygments_lexer": "ipython3",
   "version": "3.10.13"
  }
 },
 "nbformat": 4,
 "nbformat_minor": 2
}
