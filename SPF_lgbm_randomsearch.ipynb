{
 "cells": [
  {
   "cell_type": "code",
   "execution_count": 1,
   "metadata": {},
   "outputs": [],
   "source": [
    "import pandas as pd\n",
    "import numpy as np\n",
    "\n",
    "from m5_sb_models import *\n",
    "from m3_model_params import lgb_params_1, xgb_params\n",
    "from sklearn.metrics import mean_squared_error\n",
    "from tqdm import tqdm  # Import tqdm\n",
    "\n",
    "import os, warnings\n",
    "warnings.filterwarnings('ignore')"
   ]
  },
  {
   "cell_type": "code",
   "execution_count": 4,
   "metadata": {},
   "outputs": [],
   "source": [
    "# Paths to the train and test directories\n",
    "INPUT_DIR = 'kaggle/input/linking-writing-processes-to-writing-quality'\n",
    "FEATURE_STORE = 'feature_store'\n",
    "train_scores = pd.read_csv(f'{INPUT_DIR}/train_scores.csv')\n",
    "train_feats = pd.read_pickle('feature_selection/train_feats_1.pkl')\n",
    "# train_feats = train_feats.merge(train_scores, on='id', how='left')\n",
    "test_feats = pd.read_pickle('feature_selection/test_feats_1.pkl')\n",
    "train_dir = 'feature_store/train'\n",
    "test_dir = 'feature_store/test'\n",
    "# Usage\n",
    "seed = 42\n",
    "n_repeats = 5\n",
    "n_splits = 10\n",
    "target_col = 'score'"
   ]
  },
  {
   "cell_type": "code",
   "execution_count": 5,
   "metadata": {},
   "outputs": [
    {
     "name": "stdout",
     "output_type": "stream",
     "text": [
      "Final RMSE over 50: 0.630422. Std 0.8572\n",
      "RMSE by fold 0.630325. Std 0.0116\n",
      "New best RMSE: 0.630422\n",
      "Final RMSE over 50: 0.625682. Std 0.8484\n",
      "RMSE by fold 0.625582. Std 0.0116\n",
      "New best RMSE: 0.625682\n",
      "Final RMSE over 50: 0.619295. Std 0.8488\n",
      "RMSE by fold 0.619206. Std 0.0110\n",
      "New best RMSE: 0.619295\n",
      "Final RMSE over 50: 0.622880. Std 0.8439\n",
      "RMSE by fold 0.622775. Std 0.0119\n",
      "Final RMSE over 50: 0.620192. Std 0.8429\n",
      "RMSE by fold 0.620095. Std 0.0114\n",
      "Final RMSE over 50: 0.631814. Std 0.8532\n",
      "RMSE by fold 0.631679. Std 0.0136\n",
      "Final RMSE over 50: 0.632193. Std 0.8616\n",
      "RMSE by fold 0.632071. Std 0.0129\n",
      "Final RMSE over 50: 0.639543. Std 0.8646\n",
      "RMSE by fold 0.639416. Std 0.0130\n",
      "Final RMSE over 50: 0.609420. Std 0.8308\n",
      "RMSE by fold 0.609295. Std 0.0127\n",
      "New best RMSE: 0.609420\n",
      "Final RMSE over 50: 0.630929. Std 0.8418\n",
      "RMSE by fold 0.630804. Std 0.0132\n",
      "Final RMSE over 50: 0.621789. Std 0.8507\n",
      "RMSE by fold 0.621683. Std 0.0119\n",
      "Final RMSE over 50: 0.608494. Std 0.8309\n",
      "RMSE by fold 0.608393. Std 0.0115\n",
      "New best RMSE: 0.608494\n",
      "Final RMSE over 50: 0.623920. Std 0.8366\n",
      "RMSE by fold 0.623802. Std 0.0126\n",
      "Final RMSE over 50: 0.613372. Std 0.8361\n",
      "RMSE by fold 0.613248. Std 0.0128\n",
      "Final RMSE over 50: 0.630032. Std 0.7590\n",
      "RMSE by fold 0.629933. Std 0.0117\n",
      "Final RMSE over 50: 0.609849. Std 0.8275\n",
      "RMSE by fold 0.609722. Std 0.0128\n",
      "Final RMSE over 50: 0.628193. Std 0.8569\n",
      "RMSE by fold 0.628086. Std 0.0121\n",
      "Final RMSE over 50: 0.621299. Std 0.8531\n",
      "RMSE by fold 0.621203. Std 0.0113\n",
      "Final RMSE over 50: 0.624532. Std 0.8542\n",
      "RMSE by fold 0.624431. Std 0.0117\n",
      "Final RMSE over 50: 0.640422. Std 0.8631\n",
      "RMSE by fold 0.640342. Std 0.0106\n",
      "Final RMSE over 50: 0.618859. Std 0.8400\n",
      "RMSE by fold 0.618758. Std 0.0116\n",
      "Final RMSE over 50: 0.610472. Std 0.8338\n",
      "RMSE by fold 0.610353. Std 0.0125\n",
      "Final RMSE over 50: 0.617926. Std 0.8446\n",
      "RMSE by fold 0.617808. Std 0.0125\n",
      "Final RMSE over 50: 0.635599. Std 0.8589\n",
      "RMSE by fold 0.635535. Std 0.0095\n",
      "Final RMSE over 50: 0.636659. Std 0.8551\n",
      "RMSE by fold 0.636517. Std 0.0137\n",
      "Final RMSE over 50: 0.618753. Std 0.8429\n",
      "RMSE by fold 0.618645. Std 0.0120\n",
      "Final RMSE over 50: 0.629277. Std 0.8582\n",
      "RMSE by fold 0.629137. Std 0.0137\n",
      "Final RMSE over 50: 0.634497. Std 0.8574\n",
      "RMSE by fold 0.634400. Std 0.0116\n",
      "Final RMSE over 50: 0.619137. Std 0.7890\n",
      "RMSE by fold 0.619044. Std 0.0112\n",
      "Final RMSE over 50: 0.626872. Std 0.8527\n",
      "RMSE by fold 0.626750. Std 0.0129\n",
      "Final RMSE over 50: 0.633897. Std 0.8405\n",
      "RMSE by fold 0.633791. Std 0.0119\n",
      "Final RMSE over 50: 0.632700. Std 0.8521\n",
      "RMSE by fold 0.632579. Std 0.0129\n",
      "Final RMSE over 50: 0.618425. Std 0.8455\n",
      "RMSE by fold 0.618311. Std 0.0123\n",
      "Final RMSE over 50: 0.610538. Std 0.7888\n",
      "RMSE by fold 0.610454. Std 0.0105\n",
      "Final RMSE over 50: 0.635532. Std 0.8619\n",
      "RMSE by fold 0.635414. Std 0.0126\n",
      "Final RMSE over 50: 0.630143. Std 0.8590\n",
      "RMSE by fold 0.630007. Std 0.0134\n",
      "Final RMSE over 50: 0.616950. Std 0.8227\n",
      "RMSE by fold 0.616821. Std 0.0131\n",
      "Final RMSE over 50: 0.628586. Std 0.8560\n",
      "RMSE by fold 0.628455. Std 0.0133\n",
      "Final RMSE over 50: 0.617649. Std 0.8443\n",
      "RMSE by fold 0.617517. Std 0.0133\n",
      "Final RMSE over 50: 0.623549. Std 0.8478\n",
      "RMSE by fold 0.623434. Std 0.0125\n",
      "Final RMSE over 50: 0.634640. Std 0.8478\n",
      "RMSE by fold 0.634509. Std 0.0134\n",
      "Final RMSE over 50: 0.624469. Std 0.8488\n",
      "RMSE by fold 0.624355. Std 0.0123\n",
      "Final RMSE over 50: 0.635308. Std 0.8595\n",
      "RMSE by fold 0.635190. Std 0.0129\n",
      "Final RMSE over 50: 0.621194. Std 0.8435\n",
      "RMSE by fold 0.621097. Std 0.0114\n",
      "Final RMSE over 50: 0.616160. Std 0.8347\n",
      "RMSE by fold 0.616051. Std 0.0121\n",
      "Final RMSE over 50: 0.632820. Std 0.8606\n",
      "RMSE by fold 0.632672. Std 0.0141\n",
      "Final RMSE over 50: 0.609384. Std 0.8345\n",
      "RMSE by fold 0.609283. Std 0.0114\n",
      "Final RMSE over 50: 0.632149. Std 0.8601\n",
      "RMSE by fold 0.632039. Std 0.0122\n",
      "Final RMSE over 50: 0.607675. Std 0.8224\n",
      "RMSE by fold 0.607587. Std 0.0107\n",
      "New best RMSE: 0.607675\n",
      "Final RMSE over 50: 0.613250. Std 0.8369\n",
      "RMSE by fold 0.613132. Std 0.0125\n",
      "Final RMSE over 50: 0.629543. Std 0.8507\n",
      "RMSE by fold 0.629474. Std 0.0098\n",
      "Final RMSE over 50: 0.627587. Std 0.8348\n",
      "RMSE by fold 0.627455. Std 0.0133\n",
      "Final RMSE over 50: 0.626125. Std 0.8508\n",
      "RMSE by fold 0.625998. Std 0.0131\n",
      "Final RMSE over 50: 0.630031. Std 0.8540\n",
      "RMSE by fold 0.629900. Std 0.0133\n",
      "Final RMSE over 50: 0.625262. Std 0.8471\n",
      "RMSE by fold 0.625159. Std 0.0119\n",
      "Final RMSE over 50: 0.628449. Std 0.8542\n",
      "RMSE by fold 0.628347. Std 0.0119\n",
      "Final RMSE over 50: 0.632932. Std 0.8388\n",
      "RMSE by fold 0.632764. Std 0.0151\n",
      "Final RMSE over 50: 0.635573. Std 0.8611\n",
      "RMSE by fold 0.635423. Std 0.0144\n",
      "Final RMSE over 50: 0.617216. Std 0.8444\n",
      "RMSE by fold 0.617141. Std 0.0101\n",
      "Final RMSE over 50: 0.639988. Std 0.8579\n",
      "RMSE by fold 0.639908. Std 0.0107\n",
      "Final RMSE over 50: 0.632261. Std 0.8578\n",
      "RMSE by fold 0.632149. Std 0.0122\n",
      "Final RMSE over 50: 0.622966. Std 0.8457\n",
      "RMSE by fold 0.622881. Std 0.0107\n",
      "Final RMSE over 50: 0.631761. Std 0.8543\n",
      "RMSE by fold 0.631646. Std 0.0125\n",
      "Final RMSE over 50: 0.636848. Std 0.8569\n",
      "RMSE by fold 0.636736. Std 0.0123\n",
      "Final RMSE over 50: 0.611761. Std 0.8277\n",
      "RMSE by fold 0.611642. Std 0.0126\n",
      "Final RMSE over 50: 0.628259. Std 0.8527\n",
      "RMSE by fold 0.628125. Std 0.0134\n",
      "Final RMSE over 50: 0.634095. Std 0.8609\n",
      "RMSE by fold 0.633983. Std 0.0125\n",
      "Final RMSE over 50: 0.622093. Std 0.8415\n",
      "RMSE by fold 0.621979. Std 0.0123\n",
      "Final RMSE over 50: 0.615897. Std 0.8338\n",
      "RMSE by fold 0.615764. Std 0.0133\n",
      "Final RMSE over 50: 0.622840. Std 0.8423\n",
      "RMSE by fold 0.622695. Std 0.0139\n",
      "Final RMSE over 50: 0.622695. Std 0.8503\n",
      "RMSE by fold 0.622583. Std 0.0124\n",
      "Final RMSE over 50: 0.618307. Std 0.8469\n",
      "RMSE by fold 0.618220. Std 0.0109\n",
      "Final RMSE over 50: 0.624978. Std 0.8107\n",
      "RMSE by fold 0.624852. Std 0.0131\n",
      "Final RMSE over 50: 0.623799. Std 0.8487\n",
      "RMSE by fold 0.623699. Std 0.0118\n",
      "Final RMSE over 50: 0.747376. Std 0.4119\n",
      "RMSE by fold 0.747357. Std 0.0059\n",
      "Final RMSE over 50: 0.616732. Std 0.8436\n",
      "RMSE by fold 0.616614. Std 0.0125\n",
      "Final RMSE over 50: 0.625251. Std 0.8510\n",
      "RMSE by fold 0.625158. Std 0.0112\n",
      "Final RMSE over 50: 0.625740. Std 0.8538\n",
      "RMSE by fold 0.625647. Std 0.0113\n",
      "Final RMSE over 50: 0.625398. Std 0.8517\n",
      "RMSE by fold 0.625322. Std 0.0102\n",
      "Final RMSE over 50: 0.639405. Std 0.8639\n",
      "RMSE by fold 0.639271. Std 0.0134\n",
      "Final RMSE over 50: 0.611670. Std 0.8308\n",
      "RMSE by fold 0.611531. Std 0.0134\n",
      "Final RMSE over 50: 0.623687. Std 0.8488\n",
      "RMSE by fold 0.623598. Std 0.0111\n",
      "Final RMSE over 50: 0.620352. Std 0.8395\n",
      "RMSE by fold 0.620240. Std 0.0123\n",
      "Final RMSE over 50: 0.637472. Std 0.8656\n",
      "RMSE by fold 0.637364. Std 0.0121\n",
      "Final RMSE over 50: 0.611274. Std 0.8164\n",
      "RMSE by fold 0.611169. Std 0.0118\n",
      "Final RMSE over 50: 0.622143. Std 0.7413\n",
      "RMSE by fold 0.622065. Std 0.0103\n",
      "Final RMSE over 50: 0.612714. Std 0.8370\n",
      "RMSE by fold 0.612606. Std 0.0120\n",
      "Final RMSE over 50: 0.620101. Std 0.8414\n",
      "RMSE by fold 0.619982. Std 0.0125\n",
      "Final RMSE over 50: 0.618546. Std 0.8429\n",
      "RMSE by fold 0.618431. Std 0.0123\n",
      "Final RMSE over 50: 0.628712. Std 0.8527\n",
      "RMSE by fold 0.628631. Std 0.0105\n",
      "Final RMSE over 50: 0.628460. Std 0.8506\n",
      "RMSE by fold 0.628340. Std 0.0127\n",
      "Final RMSE over 50: 0.628706. Std 0.8572\n",
      "RMSE by fold 0.628617. Std 0.0110\n",
      "Final RMSE over 50: 0.623442. Std 0.8499\n",
      "RMSE by fold 0.623347. Std 0.0113\n",
      "Final RMSE over 50: 0.615250. Std 0.8427\n",
      "RMSE by fold 0.615153. Std 0.0113\n",
      "Final RMSE over 50: 0.624287. Std 0.8505\n",
      "RMSE by fold 0.624206. Std 0.0106\n",
      "Final RMSE over 50: 0.622009. Std 0.8480\n",
      "RMSE by fold 0.621896. Std 0.0122\n",
      "Final RMSE over 50: 0.634285. Std 0.8522\n",
      "RMSE by fold 0.634131. Std 0.0145\n",
      "Final RMSE over 50: 0.628616. Std 0.8519\n",
      "RMSE by fold 0.628533. Std 0.0106\n",
      "Final RMSE over 50: 0.623337. Std 0.8470\n",
      "RMSE by fold 0.623222. Std 0.0124\n",
      "Final RMSE over 50: 0.632750. Std 0.8525\n",
      "RMSE by fold 0.632634. Std 0.0126\n",
      "Final RMSE over 50: 0.624874. Std 0.8492\n",
      "RMSE by fold 0.624795. Std 0.0105\n",
      "Final RMSE over 50: 0.627228. Std 0.8499\n",
      "RMSE by fold 0.627150. Std 0.0104\n",
      "Final RMSE over 50: 0.627288. Std 0.8522\n",
      "RMSE by fold 0.627172. Std 0.0125\n",
      "Final RMSE over 50: 0.633746. Std 0.8572\n",
      "RMSE by fold 0.633644. Std 0.0118\n",
      "Final RMSE over 50: 0.630427. Std 0.8493\n",
      "RMSE by fold 0.630332. Std 0.0114\n",
      "Final RMSE over 50: 0.620808. Std 0.8474\n",
      "RMSE by fold 0.620725. Std 0.0106\n",
      "Final RMSE over 50: 0.610244. Std 0.8320\n",
      "RMSE by fold 0.610144. Std 0.0115\n",
      "Final RMSE over 50: 0.620207. Std 0.8471\n",
      "RMSE by fold 0.620110. Std 0.0114\n",
      "Final RMSE over 50: 0.615139. Std 0.8340\n",
      "RMSE by fold 0.615022. Std 0.0125\n",
      "Final RMSE over 50: 0.612228. Std 0.8371\n",
      "RMSE by fold 0.612129. Std 0.0114\n",
      "Final RMSE over 50: 0.613216. Std 0.8373\n",
      "RMSE by fold 0.613117. Std 0.0115\n",
      "Final RMSE over 50: 0.613907. Std 0.7658\n",
      "RMSE by fold 0.613848. Std 0.0090\n",
      "Final RMSE over 50: 0.615825. Std 0.8401\n",
      "RMSE by fold 0.615710. Std 0.0124\n",
      "Final RMSE over 50: 0.611671. Std 0.8313\n",
      "RMSE by fold 0.611549. Std 0.0126\n",
      "Final RMSE over 50: 0.633317. Std 0.8592\n",
      "RMSE by fold 0.633220. Std 0.0116\n",
      "Final RMSE over 50: 0.618188. Std 0.8417\n",
      "RMSE by fold 0.618085. Std 0.0118\n",
      "Final RMSE over 50: 0.633030. Std 0.8573\n",
      "RMSE by fold 0.632897. Std 0.0135\n",
      "Final RMSE over 50: 0.629352. Std 0.8606\n",
      "RMSE by fold 0.629256. Std 0.0114\n",
      "Final RMSE over 50: 0.622253. Std 0.8479\n",
      "RMSE by fold 0.622153. Std 0.0116\n",
      "Final RMSE over 50: 0.617350. Std 0.8353\n",
      "RMSE by fold 0.617239. Std 0.0122\n",
      "Final RMSE over 50: 0.630790. Std 0.8396\n",
      "RMSE by fold 0.630699. Std 0.0113\n",
      "Final RMSE over 50: 0.634398. Std 0.8529\n",
      "RMSE by fold 0.634283. Std 0.0126\n",
      "Final RMSE over 50: 0.640052. Std 0.8658\n",
      "RMSE by fold 0.639951. Std 0.0119\n",
      "Final RMSE over 50: 0.615055. Std 0.8418\n",
      "RMSE by fold 0.614929. Std 0.0129\n",
      "Final RMSE over 50: 0.624728. Std 0.8531\n",
      "RMSE by fold 0.624636. Std 0.0112\n",
      "Final RMSE over 50: 0.628176. Std 0.8540\n",
      "RMSE by fold 0.628057. Std 0.0128\n",
      "Final RMSE over 50: 0.642803. Std 0.8677\n",
      "RMSE by fold 0.642697. Std 0.0121\n",
      "Final RMSE over 50: 0.620693. Std 0.8456\n",
      "RMSE by fold 0.620605. Std 0.0109\n",
      "Final RMSE over 50: 0.637136. Std 0.8613\n",
      "RMSE by fold 0.637067. Std 0.0097\n",
      "Final RMSE over 50: 0.609496. Std 0.8243\n",
      "RMSE by fold 0.609396. Std 0.0114\n",
      "Final RMSE over 50: 0.633761. Std 0.8563\n",
      "RMSE by fold 0.633679. Std 0.0108\n",
      "Final RMSE over 50: 0.622338. Std 0.8520\n",
      "RMSE by fold 0.622236. Std 0.0117\n",
      "Final RMSE over 50: 0.623925. Std 0.8464\n",
      "RMSE by fold 0.623846. Std 0.0105\n",
      "Final RMSE over 50: 0.635542. Std 0.8390\n",
      "RMSE by fold 0.635398. Std 0.0140\n",
      "Final RMSE over 50: 0.625594. Std 0.8527\n",
      "RMSE by fold 0.625475. Std 0.0127\n",
      "Final RMSE over 50: 0.609522. Std 0.8264\n",
      "RMSE by fold 0.609393. Std 0.0130\n",
      "Final RMSE over 50: 0.608654. Std 0.8289\n",
      "RMSE by fold 0.608544. Std 0.0120\n",
      "Final RMSE over 50: 0.620547. Std 0.8416\n",
      "RMSE by fold 0.620464. Std 0.0106\n",
      "Final RMSE over 50: 0.630132. Std 0.8565\n",
      "RMSE by fold 0.630045. Std 0.0110\n",
      "Final RMSE over 50: 0.664971. Std 0.5840\n",
      "RMSE by fold 0.664947. Std 0.0061\n",
      "Final RMSE over 50: 0.623099. Std 0.8497\n",
      "RMSE by fold 0.622997. Std 0.0117\n",
      "Final RMSE over 50: 0.636156. Std 0.8478\n",
      "RMSE by fold 0.636054. Std 0.0118\n",
      "Final RMSE over 50: 0.633120. Std 0.8551\n",
      "RMSE by fold 0.632986. Std 0.0134\n",
      "Final RMSE over 50: 0.625279. Std 0.8510\n",
      "RMSE by fold 0.625176. Std 0.0119\n",
      "Final RMSE over 50: 0.625565. Std 0.8500\n",
      "RMSE by fold 0.625440. Std 0.0130\n",
      "Final RMSE over 50: 0.619486. Std 0.8426\n",
      "RMSE by fold 0.619362. Std 0.0128\n",
      "Final RMSE over 50: 0.637996. Std 0.8567\n",
      "RMSE by fold 0.637853. Std 0.0140\n",
      "Final RMSE over 50: 0.638024. Std 0.8601\n",
      "RMSE by fold 0.637907. Std 0.0126\n",
      "Final RMSE over 50: 0.625325. Std 0.8442\n",
      "RMSE by fold 0.625225. Std 0.0117\n",
      "Final RMSE over 50: 0.630636. Std 0.8374\n",
      "RMSE by fold 0.630516. Std 0.0128\n",
      "Final RMSE over 50: 0.611632. Std 0.8349\n",
      "RMSE by fold 0.611530. Std 0.0116\n",
      "Final RMSE over 50: 0.625756. Std 0.8523\n",
      "RMSE by fold 0.625636. Std 0.0127\n",
      "Final RMSE over 50: 0.624120. Std 0.8495\n",
      "RMSE by fold 0.623983. Std 0.0136\n",
      "Final RMSE over 50: 0.633021. Std 0.8609\n",
      "RMSE by fold 0.632942. Std 0.0105\n",
      "Final RMSE over 50: 0.637009. Std 0.8499\n",
      "RMSE by fold 0.636903. Std 0.0122\n",
      "Final RMSE over 50: 0.625923. Std 0.8504\n",
      "RMSE by fold 0.625866. Std 0.0091\n",
      "Final RMSE over 50: 0.619978. Std 0.8397\n",
      "RMSE by fold 0.619855. Std 0.0128\n",
      "Final RMSE over 50: 0.617898. Std 0.8341\n",
      "RMSE by fold 0.617806. Std 0.0111\n",
      "Final RMSE over 50: 0.630154. Std 0.8577\n",
      "RMSE by fold 0.630075. Std 0.0104\n",
      "Final RMSE over 50: 0.633601. Std 0.8434\n",
      "RMSE by fold 0.633496. Std 0.0120\n",
      "Final RMSE over 50: 0.615303. Std 0.8348\n",
      "RMSE by fold 0.615219. Std 0.0107\n",
      "Final RMSE over 50: 0.627834. Std 0.8551\n",
      "RMSE by fold 0.627739. Std 0.0113\n",
      "Final RMSE over 50: 0.618330. Std 0.8443\n",
      "RMSE by fold 0.618216. Std 0.0124\n",
      "Final RMSE over 50: 0.628322. Std 0.8318\n",
      "RMSE by fold 0.628189. Std 0.0134\n",
      "Final RMSE over 50: 0.666122. Std 0.5834\n",
      "RMSE by fold 0.666081. Std 0.0078\n",
      "Final RMSE over 50: 0.620687. Std 0.8367\n",
      "RMSE by fold 0.620587. Std 0.0116\n",
      "Final RMSE over 50: 0.626916. Std 0.8509\n",
      "RMSE by fold 0.626791. Std 0.0128\n",
      "Final RMSE over 50: 0.619204. Std 0.8456\n",
      "RMSE by fold 0.619095. Std 0.0121\n",
      "Final RMSE over 50: 0.624536. Std 0.8552\n",
      "RMSE by fold 0.624423. Std 0.0123\n",
      "Final RMSE over 50: 0.633049. Std 0.8555\n",
      "RMSE by fold 0.632891. Std 0.0145\n",
      "Final RMSE over 50: 0.634470. Std 0.8594\n",
      "RMSE by fold 0.634357. Std 0.0124\n",
      "Final RMSE over 50: 0.621178. Std 0.8483\n",
      "RMSE by fold 0.621088. Std 0.0111\n",
      "Final RMSE over 50: 0.627858. Std 0.8565\n",
      "RMSE by fold 0.627757. Std 0.0118\n",
      "Final RMSE over 50: 0.626200. Std 0.8533\n",
      "RMSE by fold 0.626098. Std 0.0117\n",
      "Final RMSE over 50: 0.618613. Std 0.8463\n",
      "RMSE by fold 0.618499. Std 0.0124\n",
      "Final RMSE over 50: 0.629477. Std 0.8539\n",
      "RMSE by fold 0.629363. Std 0.0124\n",
      "Final RMSE over 50: 0.624609. Std 0.8453\n",
      "RMSE by fold 0.624497. Std 0.0124\n",
      "Final RMSE over 50: 0.633756. Std 0.8526\n",
      "RMSE by fold 0.633649. Std 0.0121\n",
      "Final RMSE over 50: 0.615568. Std 0.8425\n",
      "RMSE by fold 0.615460. Std 0.0119\n",
      "Final RMSE over 50: 0.610416. Std 0.8149\n",
      "RMSE by fold 0.610329. Std 0.0108\n",
      "Final RMSE over 50: 0.629793. Std 0.8562\n",
      "RMSE by fold 0.629708. Std 0.0107\n",
      "Final RMSE over 50: 0.633244. Std 0.8537\n",
      "RMSE by fold 0.633125. Std 0.0127\n",
      "Final RMSE over 50: 0.625793. Std 0.8489\n",
      "RMSE by fold 0.625692. Std 0.0117\n",
      "Final RMSE over 50: 0.638428. Std 0.8609\n",
      "RMSE by fold 0.638345. Std 0.0107\n",
      "Final RMSE over 50: 0.626473. Std 0.8517\n",
      "RMSE by fold 0.626372. Std 0.0117\n",
      "Final RMSE over 50: 0.629017. Std 0.8530\n",
      "RMSE by fold 0.628933. Std 0.0106\n",
      "Final RMSE over 50: 0.612440. Std 0.8381\n",
      "RMSE by fold 0.612330. Std 0.0121\n",
      "Final RMSE over 50: 0.621592. Std 0.8434\n",
      "RMSE by fold 0.621484. Std 0.0120\n",
      "Final RMSE over 50: 0.610435. Std 0.8346\n",
      "RMSE by fold 0.610347. Std 0.0108\n",
      "Final RMSE over 50: 0.622479. Std 0.8439\n",
      "RMSE by fold 0.622325. Std 0.0144\n",
      "Final RMSE over 50: 0.624363. Std 0.8532\n",
      "RMSE by fold 0.624226. Std 0.0135\n",
      "Final RMSE over 50: 0.609027. Std 0.8296\n",
      "RMSE by fold 0.608930. Std 0.0113\n",
      "Final RMSE over 50: 0.632833. Std 0.8590\n",
      "RMSE by fold 0.632722. Std 0.0124\n",
      "Final RMSE over 50: 0.624846. Std 0.8376\n",
      "RMSE by fold 0.624756. Std 0.0110\n",
      "Final RMSE over 50: 0.637446. Std 0.8619\n",
      "RMSE by fold 0.637301. Std 0.0140\n",
      "Final RMSE over 50: 0.620320. Std 0.8481\n",
      "RMSE by fold 0.620208. Std 0.0122\n",
      "Final RMSE over 50: 0.632888. Std 0.8537\n",
      "RMSE by fold 0.632758. Std 0.0133\n",
      "Final RMSE over 50: 0.611025. Std 0.8215\n",
      "RMSE by fold 0.610907. Std 0.0125\n",
      "Final RMSE over 50: 0.636158. Std 0.8481\n",
      "RMSE by fold 0.636070. Std 0.0111\n",
      "Final RMSE over 50: 0.620539. Std 0.8498\n",
      "RMSE by fold 0.620464. Std 0.0101\n",
      "Final RMSE over 50: 0.610730. Std 0.7848\n",
      "RMSE by fold 0.610655. Std 0.0100\n",
      "Final RMSE over 50: 0.624154. Std 0.8419\n",
      "RMSE by fold 0.624052. Std 0.0117\n",
      "Final RMSE over 50: 0.633896. Std 0.8637\n",
      "RMSE by fold 0.633760. Std 0.0134\n",
      "Final RMSE over 50: 0.621350. Std 0.8489\n",
      "RMSE by fold 0.621266. Std 0.0107\n",
      "Final RMSE over 50: 0.617046. Std 0.8359\n",
      "RMSE by fold 0.616970. Std 0.0102\n",
      "Final RMSE over 50: 0.619638. Std 0.7439\n",
      "RMSE by fold 0.619567. Std 0.0097\n",
      "Final RMSE over 50: 0.622740. Std 0.8500\n",
      "RMSE by fold 0.622626. Std 0.0123\n",
      "Final RMSE over 50: 0.611804. Std 0.8370\n",
      "RMSE by fold 0.611694. Std 0.0120\n",
      "Final RMSE over 50: 0.625022. Std 0.8508\n",
      "RMSE by fold 0.624955. Std 0.0096\n",
      "Final RMSE over 50: 0.624063. Std 0.8531\n",
      "RMSE by fold 0.623970. Std 0.0112\n",
      "Final RMSE over 50: 0.623948. Std 0.8436\n",
      "RMSE by fold 0.623860. Std 0.0110\n",
      "Final RMSE over 50: 0.634272. Std 0.8499\n",
      "RMSE by fold 0.634156. Std 0.0127\n",
      "Final RMSE over 50: 0.621871. Std 0.8434\n",
      "RMSE by fold 0.621767. Std 0.0118\n",
      "Final RMSE over 50: 0.632474. Std 0.8528\n",
      "RMSE by fold 0.632341. Std 0.0134\n",
      "Final RMSE over 50: 0.619383. Std 0.8489\n",
      "RMSE by fold 0.619262. Std 0.0127\n",
      "Final RMSE over 50: 0.634874. Std 0.8592\n",
      "RMSE by fold 0.634759. Std 0.0125\n",
      "Final RMSE over 50: 0.634560. Std 0.8616\n",
      "RMSE by fold 0.634435. Std 0.0131\n",
      "Final RMSE over 50: 0.631330. Std 0.8589\n",
      "RMSE by fold 0.631293. Std 0.0072\n",
      "Final RMSE over 50: 0.610030. Std 0.8266\n",
      "RMSE by fold 0.609926. Std 0.0117\n",
      "Final RMSE over 50: 0.625876. Std 0.8488\n",
      "RMSE by fold 0.625731. Std 0.0140\n",
      "Final RMSE over 50: 0.628342. Std 0.8536\n",
      "RMSE by fold 0.628249. Std 0.0112\n",
      "Final RMSE over 50: 0.625342. Std 0.8520\n",
      "RMSE by fold 0.625222. Std 0.0127\n",
      "Final RMSE over 50: 0.612482. Std 0.8377\n",
      "RMSE by fold 0.612367. Std 0.0122\n",
      "Final RMSE over 50: 0.625738. Std 0.8500\n",
      "RMSE by fold 0.625653. Std 0.0107\n",
      "Final RMSE over 50: 0.623783. Std 0.8530\n",
      "RMSE by fold 0.623684. Std 0.0116\n",
      "Final RMSE over 50: 0.630823. Std 0.8335\n",
      "RMSE by fold 0.630730. Std 0.0113\n",
      "Final RMSE over 50: 0.629828. Std 0.8564\n",
      "RMSE by fold 0.629697. Std 0.0133\n",
      "Final RMSE over 50: 0.625591. Std 0.8507\n",
      "RMSE by fold 0.625466. Std 0.0128\n",
      "Final RMSE over 50: 0.623241. Std 0.8493\n",
      "RMSE by fold 0.623151. Std 0.0110\n",
      "Final RMSE over 50: 0.614915. Std 0.8391\n",
      "RMSE by fold 0.614793. Std 0.0128\n",
      "Final RMSE over 50: 0.628362. Std 0.8524\n",
      "RMSE by fold 0.628278. Std 0.0108\n",
      "Final RMSE over 50: 0.629219. Std 0.8594\n",
      "RMSE by fold 0.629111. Std 0.0120\n",
      "Final RMSE over 50: 0.621621. Std 0.8489\n",
      "RMSE by fold 0.621509. Std 0.0121\n",
      "Final RMSE over 50: 0.610227. Std 0.7921\n",
      "RMSE by fold 0.610134. Std 0.0111\n",
      "Final RMSE over 50: 0.618127. Std 0.7520\n",
      "RMSE by fold 0.618057. Std 0.0097\n",
      "Final RMSE over 50: 0.625989. Std 0.8449\n",
      "RMSE by fold 0.625831. Std 0.0146\n",
      "Final RMSE over 50: 0.616151. Std 0.8354\n",
      "RMSE by fold 0.616065. Std 0.0108\n",
      "Final RMSE over 50: 0.619591. Std 0.8510\n",
      "RMSE by fold 0.619490. Std 0.0116\n",
      "Final RMSE over 50: 0.630053. Std 0.8545\n",
      "RMSE by fold 0.629959. Std 0.0114\n",
      "Final RMSE over 50: 0.640565. Std 0.8696\n",
      "RMSE by fold 0.640473. Std 0.0113\n",
      "Final RMSE over 50: 0.614017. Std 0.8376\n",
      "RMSE by fold 0.613939. Std 0.0102\n",
      "Final RMSE over 50: 0.640078. Std 0.8619\n",
      "RMSE by fold 0.639917. Std 0.0149\n",
      "Final RMSE over 50: 0.623158. Std 0.8346\n",
      "RMSE by fold 0.623042. Std 0.0126\n",
      "Final RMSE over 50: 0.635253. Std 0.8591\n",
      "RMSE by fold 0.635160. Std 0.0113\n",
      "Final RMSE over 50: 0.611519. Std 0.8330\n",
      "RMSE by fold 0.611416. Std 0.0116\n",
      "Final RMSE over 50: 0.638479. Std 0.8646\n",
      "RMSE by fold 0.638334. Std 0.0141\n",
      "Final RMSE over 50: 0.620353. Std 0.8462\n",
      "RMSE by fold 0.620242. Std 0.0122\n",
      "Final RMSE over 50: 0.631779. Std 0.8527\n",
      "RMSE by fold 0.631659. Std 0.0127\n",
      "Final RMSE over 50: 0.672374. Std 0.5638\n",
      "RMSE by fold 0.672348. Std 0.0065\n",
      "Final RMSE over 50: 0.609491. Std 0.7975\n",
      "RMSE by fold 0.609407. Std 0.0105\n",
      "Final RMSE over 50: 0.626095. Std 0.8531\n",
      "RMSE by fold 0.625980. Std 0.0125\n",
      "Final RMSE over 50: 0.622699. Std 0.8523\n",
      "RMSE by fold 0.622597. Std 0.0117\n",
      "Final RMSE over 50: 0.631707. Std 0.8584\n",
      "RMSE by fold 0.631615. Std 0.0112\n",
      "Final RMSE over 50: 0.625867. Std 0.8478\n",
      "RMSE by fold 0.625759. Std 0.0120\n",
      "Final RMSE over 50: 0.630720. Std 0.8522\n",
      "RMSE by fold 0.630623. Std 0.0114\n",
      "Final RMSE over 50: 0.625734. Std 0.8512\n",
      "RMSE by fold 0.625631. Std 0.0118\n",
      "Final RMSE over 50: 0.617553. Std 0.8388\n",
      "RMSE by fold 0.617398. Std 0.0143\n",
      "Final RMSE over 50: 0.633245. Std 0.8550\n",
      "RMSE by fold 0.633140. Std 0.0120\n",
      "Final RMSE over 50: 0.637757. Std 0.8628\n",
      "RMSE by fold 0.637608. Std 0.0142\n",
      "Final RMSE over 50: 0.621016. Std 0.8417\n",
      "RMSE by fold 0.620900. Std 0.0124\n",
      "Final RMSE over 50: 0.631847. Std 0.8568\n",
      "RMSE by fold 0.631740. Std 0.0120\n",
      "Final RMSE over 50: 0.626527. Std 0.7099\n",
      "RMSE by fold 0.626476. Std 0.0085\n",
      "Final RMSE over 50: 0.627538. Std 0.8549\n",
      "RMSE by fold 0.627387. Std 0.0141\n",
      "Final RMSE over 50: 0.624655. Std 0.8519\n",
      "RMSE by fold 0.624535. Std 0.0128\n",
      "Final RMSE over 50: 0.632372. Std 0.8454\n",
      "RMSE by fold 0.632252. Std 0.0128\n",
      "Final RMSE over 50: 0.629384. Std 0.8497\n",
      "RMSE by fold 0.629280. Std 0.0119\n",
      "Final RMSE over 50: 0.609360. Std 0.8181\n",
      "RMSE by fold 0.609266. Std 0.0111\n",
      "Final RMSE over 50: 0.621979. Std 0.8471\n",
      "RMSE by fold 0.621894. Std 0.0109\n",
      "Final RMSE over 50: 0.708315. Std 0.4868\n",
      "RMSE by fold 0.708287. Std 0.0067\n",
      "Final RMSE over 50: 0.635444. Std 0.8639\n",
      "RMSE by fold 0.635311. Std 0.0134\n",
      "Final RMSE over 50: 0.631964. Std 0.8601\n",
      "RMSE by fold 0.631868. Std 0.0116\n",
      "Final RMSE over 50: 0.631960. Std 0.8597\n",
      "RMSE by fold 0.631837. Std 0.0130\n",
      "Final RMSE over 50: 0.636907. Std 0.8582\n",
      "RMSE by fold 0.636797. Std 0.0123\n",
      "Final RMSE over 50: 0.626301. Std 0.8516\n",
      "RMSE by fold 0.626208. Std 0.0113\n",
      "Final RMSE over 50: 0.617946. Std 0.8455\n",
      "RMSE by fold 0.617838. Std 0.0120\n",
      "Final RMSE over 50: 0.626493. Std 0.8472\n",
      "RMSE by fold 0.626393. Std 0.0117\n",
      "Final RMSE over 50: 0.621697. Std 0.8486\n",
      "RMSE by fold 0.621578. Std 0.0126\n",
      "Final RMSE over 50: 0.636678. Std 0.8597\n",
      "RMSE by fold 0.636577. Std 0.0117\n",
      "Final RMSE over 50: 0.628246. Std 0.8483\n",
      "RMSE by fold 0.628127. Std 0.0126\n",
      "Final RMSE over 50: 0.630508. Std 0.8602\n",
      "RMSE by fold 0.630383. Std 0.0130\n",
      "Final RMSE over 50: 0.612417. Std 0.8308\n",
      "RMSE by fold 0.612292. Std 0.0128\n",
      "Final RMSE over 50: 0.617640. Std 0.8439\n",
      "RMSE by fold 0.617546. Std 0.0114\n",
      "Final RMSE over 50: 0.618556. Std 0.8310\n",
      "RMSE by fold 0.618444. Std 0.0122\n",
      "Final RMSE over 50: 0.616028. Std 0.8410\n",
      "RMSE by fold 0.615923. Std 0.0119\n",
      "Final RMSE over 50: 0.622088. Std 0.8465\n",
      "RMSE by fold 0.622015. Std 0.0100\n",
      "Final RMSE over 50: 0.634363. Std 0.8596\n",
      "RMSE by fold 0.634284. Std 0.0104\n",
      "Final RMSE over 50: 0.611218. Std 0.8299\n",
      "RMSE by fold 0.611104. Std 0.0122\n",
      "Final RMSE over 50: 0.608832. Std 0.8225\n",
      "RMSE by fold 0.608741. Std 0.0109\n",
      "Final RMSE over 50: 0.633098. Std 0.8586\n",
      "RMSE by fold 0.632958. Std 0.0136\n",
      "Final RMSE over 50: 0.630763. Std 0.8585\n",
      "RMSE by fold 0.630653. Std 0.0122\n",
      "Final RMSE over 50: 0.611019. Std 0.8254\n",
      "RMSE by fold 0.610905. Std 0.0122\n",
      "Final RMSE over 50: 0.613643. Std 0.7723\n",
      "RMSE by fold 0.613555. Std 0.0108\n",
      "Final RMSE over 50: 0.627453. Std 0.8487\n",
      "RMSE by fold 0.627361. Std 0.0112\n",
      "Final RMSE over 50: 0.633907. Std 0.8525\n",
      "RMSE by fold 0.633761. Std 0.0141\n",
      "Final RMSE over 50: 0.624178. Std 0.8491\n",
      "RMSE by fold 0.624054. Std 0.0129\n",
      "Final RMSE over 50: 0.635469. Std 0.8486\n",
      "RMSE by fold 0.635397. Std 0.0099\n",
      "Final RMSE over 50: 0.627127. Std 0.8346\n",
      "RMSE by fold 0.627029. Std 0.0117\n",
      "Final RMSE over 50: 0.623091. Std 0.8483\n",
      "RMSE by fold 0.622966. Std 0.0129\n",
      "Final RMSE over 50: 0.624194. Std 0.8514\n",
      "RMSE by fold 0.624104. Std 0.0111\n",
      "Final RMSE over 50: 0.624193. Std 0.8521\n",
      "RMSE by fold 0.624093. Std 0.0116\n",
      "Final RMSE over 50: 0.627086. Std 0.8506\n",
      "RMSE by fold 0.626960. Std 0.0130\n",
      "Final RMSE over 50: 0.614105. Std 0.8423\n",
      "RMSE by fold 0.613999. Std 0.0118\n",
      "Final RMSE over 50: 0.625944. Std 0.8504\n",
      "RMSE by fold 0.625844. Std 0.0116\n",
      "Final RMSE over 50: 0.621323. Std 0.8480\n",
      "RMSE by fold 0.621248. Std 0.0101\n",
      "Final RMSE over 50: 0.624269. Std 0.8520\n",
      "RMSE by fold 0.624147. Std 0.0128\n",
      "Final RMSE over 50: 0.630822. Std 0.8607\n",
      "RMSE by fold 0.630744. Std 0.0104\n",
      "Final RMSE over 50: 0.626305. Std 0.8551\n",
      "RMSE by fold 0.626202. Std 0.0119\n",
      "Final RMSE over 50: 0.630277. Std 0.8548\n",
      "RMSE by fold 0.630200. Std 0.0103\n",
      "Final RMSE over 50: 0.622326. Std 0.8385\n",
      "RMSE by fold 0.622223. Std 0.0117\n",
      "Final RMSE over 50: 0.627749. Std 0.8331\n",
      "RMSE by fold 0.627611. Std 0.0136\n",
      "Final RMSE over 50: 0.625670. Std 0.8493\n",
      "RMSE by fold 0.625573. Std 0.0115\n",
      "Final RMSE over 50: 0.619528. Std 0.8432\n",
      "RMSE by fold 0.619410. Std 0.0124\n",
      "Final RMSE over 50: 0.625904. Std 0.8453\n",
      "RMSE by fold 0.625804. Std 0.0117\n",
      "Final RMSE over 50: 0.631357. Std 0.8575\n",
      "RMSE by fold 0.631248. Std 0.0122\n",
      "Final RMSE over 50: 0.621913. Std 0.8486\n",
      "RMSE by fold 0.621772. Std 0.0136\n",
      "Final RMSE over 50: 0.637021. Std 0.8631\n",
      "RMSE by fold 0.636946. Std 0.0101\n",
      "Final RMSE over 50: 0.612254. Std 0.8373\n",
      "RMSE by fold 0.612155. Std 0.0114\n",
      "Final RMSE over 50: 0.621734. Std 0.8472\n",
      "RMSE by fold 0.621611. Std 0.0128\n",
      "Final RMSE over 50: 0.618569. Std 0.8432\n",
      "RMSE by fold 0.618460. Std 0.0120\n",
      "Final RMSE over 50: 0.612515. Std 0.8329\n",
      "RMSE by fold 0.612396. Std 0.0125\n",
      "Final RMSE over 50: 0.638143. Std 0.8604\n",
      "RMSE by fold 0.638061. Std 0.0106\n",
      "Final RMSE over 50: 0.619389. Std 0.8496\n",
      "RMSE by fold 0.619289. Std 0.0116\n",
      "Final RMSE over 50: 0.629514. Std 0.8554\n",
      "RMSE by fold 0.629404. Std 0.0124\n",
      "Final RMSE over 50: 0.635129. Std 0.8548\n",
      "RMSE by fold 0.634999. Std 0.0132\n",
      "Final RMSE over 50: 0.618486. Std 0.7876\n",
      "RMSE by fold 0.618398. Std 0.0109\n",
      "Final RMSE over 50: 0.622687. Std 0.8365\n",
      "RMSE by fold 0.622530. Std 0.0144\n",
      "Final RMSE over 50: 0.626171. Std 0.8515\n",
      "RMSE by fold 0.626051. Std 0.0126\n",
      "Final RMSE over 50: 0.626411. Std 0.8439\n",
      "RMSE by fold 0.626306. Std 0.0119\n",
      "Final RMSE over 50: 0.659299. Std 0.6044\n",
      "RMSE by fold 0.659256. Std 0.0079\n",
      "Final RMSE over 50: 0.633927. Std 0.8513\n",
      "RMSE by fold 0.633809. Std 0.0128\n",
      "Final RMSE over 50: 0.621650. Std 0.7296\n",
      "RMSE by fold 0.621595. Std 0.0087\n",
      "Final RMSE over 50: 0.610868. Std 0.8268\n",
      "RMSE by fold 0.610747. Std 0.0126\n",
      "Final RMSE over 50: 0.629822. Std 0.8402\n",
      "RMSE by fold 0.629730. Std 0.0112\n",
      "Final RMSE over 50: 0.612321. Std 0.8402\n",
      "RMSE by fold 0.612207. Std 0.0122\n",
      "Final RMSE over 50: 0.621737. Std 0.8497\n",
      "RMSE by fold 0.621630. Std 0.0120\n",
      "Final RMSE over 50: 0.621376. Std 0.8478\n",
      "RMSE by fold 0.621257. Std 0.0126\n",
      "Final RMSE over 50: 0.623692. Std 0.8525\n",
      "RMSE by fold 0.623582. Std 0.0122\n",
      "Final RMSE over 50: 0.628293. Std 0.8568\n",
      "RMSE by fold 0.628190. Std 0.0118\n",
      "Final RMSE over 50: 0.632633. Std 0.8554\n",
      "RMSE by fold 0.632540. Std 0.0113\n",
      "Final RMSE over 50: 0.624872. Std 0.8522\n",
      "RMSE by fold 0.624749. Std 0.0129\n",
      "Final RMSE over 50: 0.624063. Std 0.8507\n",
      "RMSE by fold 0.623949. Std 0.0124\n",
      "Final RMSE over 50: 0.631411. Std 0.8563\n",
      "RMSE by fold 0.631295. Std 0.0126\n",
      "Final RMSE over 50: 0.616804. Std 0.8415\n",
      "RMSE by fold 0.616718. Std 0.0107\n",
      "Final RMSE over 50: 0.623173. Std 0.8526\n",
      "RMSE by fold 0.623097. Std 0.0101\n",
      "Final RMSE over 50: 0.620692. Std 0.8324\n",
      "RMSE by fold 0.620589. Std 0.0117\n",
      "Final RMSE over 50: 0.634493. Std 0.8521\n",
      "RMSE by fold 0.634372. Std 0.0128\n",
      "Final RMSE over 50: 0.623838. Std 0.8413\n",
      "RMSE by fold 0.623705. Std 0.0134\n",
      "Final RMSE over 50: 0.612964. Std 0.8385\n",
      "RMSE by fold 0.612860. Std 0.0117\n",
      "Final RMSE over 50: 0.625585. Std 0.8376\n",
      "RMSE by fold 0.625500. Std 0.0108\n",
      "Final RMSE over 50: 0.629483. Std 0.8542\n",
      "RMSE by fold 0.629334. Std 0.0141\n",
      "Final RMSE over 50: 0.610414. Std 0.8308\n",
      "RMSE by fold 0.610301. Std 0.0122\n",
      "Final RMSE over 50: 0.625703. Std 0.8472\n",
      "RMSE by fold 0.625590. Std 0.0124\n",
      "Final RMSE over 50: 0.619619. Std 0.8452\n",
      "RMSE by fold 0.619488. Std 0.0132\n",
      "Final RMSE over 50: 0.626199. Std 0.8552\n",
      "RMSE by fold 0.626114. Std 0.0108\n",
      "Final RMSE over 50: 0.620899. Std 0.8477\n",
      "RMSE by fold 0.620779. Std 0.0126\n",
      "Final RMSE over 50: 0.611493. Std 0.8331\n",
      "RMSE by fold 0.611375. Std 0.0125\n",
      "Final RMSE over 50: 0.623492. Std 0.8370\n",
      "RMSE by fold 0.623379. Std 0.0123\n",
      "Final RMSE over 50: 0.625950. Std 0.8458\n",
      "RMSE by fold 0.625834. Std 0.0125\n",
      "Final RMSE over 50: 0.630511. Std 0.8557\n",
      "RMSE by fold 0.630414. Std 0.0115\n",
      "Final RMSE over 50: 0.615071. Std 0.8401\n",
      "RMSE by fold 0.614941. Std 0.0130\n",
      "Final RMSE over 50: 0.615118. Std 0.8426\n",
      "RMSE by fold 0.615008. Std 0.0121\n",
      "Final RMSE over 50: 0.617837. Std 0.8489\n",
      "RMSE by fold 0.617748. Std 0.0110\n",
      "Final RMSE over 50: 0.627927. Std 0.8550\n",
      "RMSE by fold 0.627803. Std 0.0130\n",
      "Final RMSE over 50: 0.630855. Std 0.8582\n",
      "RMSE by fold 0.630759. Std 0.0115\n",
      "Final RMSE over 50: 0.629748. Std 0.8547\n",
      "RMSE by fold 0.629634. Std 0.0125\n",
      "Final RMSE over 50: 0.636416. Std 0.8614\n",
      "RMSE by fold 0.636267. Std 0.0143\n",
      "Final RMSE over 50: 0.621666. Std 0.8454\n",
      "RMSE by fold 0.621518. Std 0.0140\n",
      "Final RMSE over 50: 0.642436. Std 0.8677\n",
      "RMSE by fold 0.642300. Std 0.0137\n",
      "Final RMSE over 50: 0.628639. Std 0.8567\n",
      "RMSE by fold 0.628553. Std 0.0108\n",
      "Final RMSE over 50: 0.614819. Std 0.8411\n",
      "RMSE by fold 0.614693. Std 0.0128\n",
      "Final RMSE over 50: 0.632618. Std 0.8582\n",
      "RMSE by fold 0.632509. Std 0.0122\n",
      "Final RMSE over 50: 0.631895. Std 0.8560\n",
      "RMSE by fold 0.631763. Std 0.0134\n",
      "Final RMSE over 50: 0.621607. Std 0.8507\n",
      "RMSE by fold 0.621499. Std 0.0119\n",
      "Final RMSE over 50: 0.626165. Std 0.8354\n",
      "RMSE by fold 0.626049. Std 0.0125\n",
      "Final RMSE over 50: 0.628822. Std 0.8410\n",
      "RMSE by fold 0.628705. Std 0.0126\n",
      "Final RMSE over 50: 0.618834. Std 0.8422\n",
      "RMSE by fold 0.618743. Std 0.0111\n",
      "Final RMSE over 50: 0.634020. Std 0.8552\n",
      "RMSE by fold 0.633893. Std 0.0132\n",
      "Final RMSE over 50: 0.617185. Std 0.8409\n",
      "RMSE by fold 0.617091. Std 0.0113\n",
      "Final RMSE over 50: 0.636664. Std 0.8613\n",
      "RMSE by fold 0.636610. Std 0.0087\n",
      "Final RMSE over 50: 0.621918. Std 0.8387\n",
      "RMSE by fold 0.621803. Std 0.0124\n",
      "Final RMSE over 50: 0.616832. Std 0.8392\n",
      "RMSE by fold 0.616719. Std 0.0122\n",
      "Final RMSE over 50: 0.611037. Std 0.8288\n",
      "RMSE by fold 0.610918. Std 0.0125\n",
      "Final RMSE over 50: 0.616573. Std 0.8426\n",
      "RMSE by fold 0.616458. Std 0.0124\n",
      "Final RMSE over 50: 0.626899. Std 0.8553\n",
      "RMSE by fold 0.626804. Std 0.0113\n",
      "Final RMSE over 50: 0.624886. Std 0.8520\n",
      "RMSE by fold 0.624791. Std 0.0113\n",
      "Final RMSE over 50: 0.626708. Std 0.8499\n",
      "RMSE by fold 0.626581. Std 0.0130\n",
      "Final RMSE over 50: 0.646410. Std 0.6454\n",
      "RMSE by fold 0.646358. Std 0.0086\n",
      "Final RMSE over 50: 0.616019. Std 0.8430\n",
      "RMSE by fold 0.615895. Std 0.0128\n",
      "Final RMSE over 50: 0.623721. Std 0.8529\n",
      "RMSE by fold 0.623622. Std 0.0116\n",
      "Final RMSE over 50: 0.623788. Std 0.8463\n",
      "RMSE by fold 0.623669. Std 0.0126\n",
      "Final RMSE over 50: 0.614016. Std 0.8407\n",
      "RMSE by fold 0.613905. Std 0.0122\n",
      "Final RMSE over 50: 0.623132. Std 0.8434\n",
      "RMSE by fold 0.623004. Std 0.0131\n",
      "Final RMSE over 50: 0.625073. Std 0.8524\n",
      "RMSE by fold 0.624920. Std 0.0143\n",
      "Final RMSE over 50: 0.619952. Std 0.8450\n",
      "RMSE by fold 0.619831. Std 0.0127\n",
      "Final RMSE over 50: 0.630543. Std 0.8541\n",
      "RMSE by fold 0.630432. Std 0.0124\n",
      "Final RMSE over 50: 0.619718. Std 0.8466\n",
      "RMSE by fold 0.619610. Std 0.0120\n",
      "Final RMSE over 50: 0.621060. Std 0.8485\n",
      "RMSE by fold 0.620941. Std 0.0126\n",
      "Final RMSE over 50: 0.632926. Std 0.8581\n",
      "RMSE by fold 0.632828. Std 0.0114\n",
      "Final RMSE over 50: 0.619851. Std 0.8494\n",
      "RMSE by fold 0.619747. Std 0.0118\n",
      "Final RMSE over 50: 0.619806. Std 0.8471\n",
      "RMSE by fold 0.619673. Std 0.0133\n",
      "Final RMSE over 50: 0.634139. Std 0.8589\n",
      "RMSE by fold 0.634018. Std 0.0128\n",
      "Final RMSE over 50: 0.622639. Std 0.8478\n",
      "RMSE by fold 0.622536. Std 0.0119\n",
      "Final RMSE over 50: 0.624796. Std 0.8499\n",
      "RMSE by fold 0.624675. Std 0.0127\n",
      "Final RMSE over 50: 0.629301. Std 0.8514\n",
      "RMSE by fold 0.629140. Std 0.0147\n",
      "Final RMSE over 50: 0.616308. Std 0.8043\n",
      "RMSE by fold 0.616212. Std 0.0114\n",
      "Final RMSE over 50: 0.626580. Std 0.8540\n",
      "RMSE by fold 0.626474. Std 0.0120\n",
      "Final RMSE over 50: 0.613376. Std 0.8387\n",
      "RMSE by fold 0.613280. Std 0.0113\n",
      "Final RMSE over 50: 0.613012. Std 0.8300\n",
      "RMSE by fold 0.612929. Std 0.0106\n",
      "Final RMSE over 50: 0.626606. Std 0.8560\n",
      "RMSE by fold 0.626506. Std 0.0115\n",
      "Final RMSE over 50: 0.633102. Std 0.8426\n",
      "RMSE by fold 0.633012. Std 0.0110\n",
      "Final RMSE over 50: 0.622068. Std 0.8484\n",
      "RMSE by fold 0.621951. Std 0.0125\n",
      "Final RMSE over 50: 0.609429. Std 0.8324\n",
      "RMSE by fold 0.609318. Std 0.0120\n",
      "Final RMSE over 50: 0.629735. Std 0.8607\n",
      "RMSE by fold 0.629639. Std 0.0114\n",
      "Final RMSE over 50: 0.629963. Std 0.8458\n",
      "RMSE by fold 0.629865. Std 0.0116\n",
      "Final RMSE over 50: 0.617917. Std 0.8441\n",
      "RMSE by fold 0.617765. Std 0.0142\n",
      "Final RMSE over 50: 0.620494. Std 0.8492\n",
      "RMSE by fold 0.620383. Std 0.0122\n",
      "Final RMSE over 50: 0.609446. Std 0.8225\n",
      "RMSE by fold 0.609341. Std 0.0117\n",
      "Final RMSE over 50: 0.619208. Std 0.8433\n",
      "RMSE by fold 0.619062. Std 0.0140\n",
      "Final RMSE over 50: 0.613832. Std 0.8389\n",
      "RMSE by fold 0.613745. Std 0.0108\n",
      "Final RMSE over 50: 0.621831. Std 0.8481\n",
      "RMSE by fold 0.621717. Std 0.0123\n",
      "Final RMSE over 50: 0.615431. Std 0.8400\n",
      "RMSE by fold 0.615323. Std 0.0120\n",
      "Final RMSE over 50: 0.636468. Std 0.8654\n",
      "RMSE by fold 0.636327. Std 0.0138\n",
      "Final RMSE over 50: 0.617218. Std 0.8400\n",
      "RMSE by fold 0.617125. Std 0.0112\n",
      "Final RMSE over 50: 0.629284. Std 0.7135\n",
      "RMSE by fold 0.629213. Std 0.0100\n",
      "Final RMSE over 50: 0.627830. Std 0.8546\n",
      "RMSE by fold 0.627708. Std 0.0129\n",
      "Final RMSE over 50: 0.631935. Std 0.8549\n",
      "RMSE by fold 0.631809. Std 0.0131\n",
      "Final RMSE over 50: 0.624139. Std 0.8463\n",
      "RMSE by fold 0.624065. Std 0.0099\n",
      "Final RMSE over 50: 0.620662. Std 0.8434\n",
      "RMSE by fold 0.620572. Std 0.0111\n",
      "Final RMSE over 50: 0.617417. Std 0.8446\n",
      "RMSE by fold 0.617310. Std 0.0119\n",
      "Final RMSE over 50: 0.630217. Std 0.8586\n",
      "RMSE by fold 0.630128. Std 0.0111\n",
      "Final RMSE over 50: 0.619457. Std 0.8400\n",
      "RMSE by fold 0.619358. Std 0.0116\n",
      "Final RMSE over 50: 0.636154. Std 0.8594\n",
      "RMSE by fold 0.635996. Std 0.0146\n",
      "Final RMSE over 50: 0.610911. Std 0.8221\n",
      "RMSE by fold 0.610796. Std 0.0123\n",
      "Final RMSE over 50: 0.632020. Std 0.8509\n",
      "RMSE by fold 0.631895. Std 0.0131\n",
      "Final RMSE over 50: 0.637372. Std 0.8624\n",
      "RMSE by fold 0.637272. Std 0.0118\n",
      "Final RMSE over 50: 0.620346. Std 0.8453\n",
      "RMSE by fold 0.620231. Std 0.0124\n",
      "Final RMSE over 50: 0.634481. Std 0.8569\n",
      "RMSE by fold 0.634369. Std 0.0123\n",
      "Final RMSE over 50: 0.627571. Std 0.8548\n",
      "RMSE by fold 0.627441. Std 0.0132\n",
      "Final RMSE over 50: 0.628387. Std 0.8504\n",
      "RMSE by fold 0.628238. Std 0.0141\n",
      "Final RMSE over 50: 0.627305. Std 0.8501\n",
      "RMSE by fold 0.627186. Std 0.0127\n",
      "Final RMSE over 50: 0.633246. Std 0.8496\n",
      "RMSE by fold 0.633139. Std 0.0121\n",
      "Final RMSE over 50: 0.618000. Std 0.8377\n",
      "RMSE by fold 0.617834. Std 0.0148\n",
      "Final RMSE over 50: 0.629291. Std 0.8513\n",
      "RMSE by fold 0.629205. Std 0.0107\n",
      "Final RMSE over 50: 0.630146. Std 0.8560\n",
      "RMSE by fold 0.630055. Std 0.0112\n",
      "Final RMSE over 50: 0.622739. Std 0.8460\n",
      "RMSE by fold 0.622669. Std 0.0098\n",
      "Final RMSE over 50: 0.632936. Std 0.8533\n",
      "RMSE by fold 0.632829. Std 0.0123\n",
      "Final RMSE over 50: 0.639470. Std 0.8648\n",
      "RMSE by fold 0.639372. Std 0.0117\n",
      "Final RMSE over 50: 0.626639. Std 0.8540\n",
      "RMSE by fold 0.626508. Std 0.0132\n",
      "Final RMSE over 50: 0.627977. Std 0.8476\n",
      "RMSE by fold 0.627860. Std 0.0126\n",
      "Final RMSE over 50: 0.629564. Std 0.8485\n",
      "RMSE by fold 0.629432. Std 0.0134\n",
      "Final RMSE over 50: 0.613818. Std 0.8396\n",
      "RMSE by fold 0.613685. Std 0.0132\n",
      "Final RMSE over 50: 0.616656. Std 0.8426\n",
      "RMSE by fold 0.616524. Std 0.0132\n",
      "Final RMSE over 50: 0.614121. Std 0.8407\n",
      "RMSE by fold 0.614003. Std 0.0125\n",
      "Final RMSE over 50: 0.638285. Std 0.6627\n",
      "RMSE by fold 0.638244. Std 0.0077\n",
      "Final RMSE over 50: 0.613842. Std 0.8365\n",
      "RMSE by fold 0.613763. Std 0.0103\n",
      "Final RMSE over 50: 0.609937. Std 0.8346\n",
      "RMSE by fold 0.609832. Std 0.0117\n",
      "Final RMSE over 50: 0.638013. Std 0.8609\n",
      "RMSE by fold 0.637905. Std 0.0122\n",
      "Final RMSE over 50: 0.617076. Std 0.8392\n",
      "RMSE by fold 0.616978. Std 0.0115\n",
      "Final RMSE over 50: 0.635782. Std 0.8608\n",
      "RMSE by fold 0.635674. Std 0.0121\n",
      "Final RMSE over 50: 0.623863. Std 0.8443\n",
      "RMSE by fold 0.623753. Std 0.0122\n",
      "Final RMSE over 50: 0.609185. Std 0.8319\n",
      "RMSE by fold 0.609068. Std 0.0124\n",
      "Final RMSE over 50: 0.638145. Std 0.8610\n",
      "RMSE by fold 0.638033. Std 0.0125\n",
      "Final RMSE over 50: 0.615675. Std 0.8392\n",
      "RMSE by fold 0.615565. Std 0.0121\n",
      "Final RMSE over 50: 0.619115. Std 0.8461\n",
      "RMSE by fold 0.618953. Std 0.0146\n",
      "Final RMSE over 50: 0.628725. Std 0.8597\n",
      "RMSE by fold 0.628629. Std 0.0114\n",
      "Final RMSE over 50: 0.623566. Std 0.8473\n",
      "RMSE by fold 0.623429. Std 0.0136\n",
      "Final RMSE over 50: 0.616987. Std 0.8438\n",
      "RMSE by fold 0.616866. Std 0.0127\n",
      "Final RMSE over 50: 0.619341. Std 0.8440\n",
      "RMSE by fold 0.619253. Std 0.0109\n",
      "Final RMSE over 50: 0.624730. Std 0.8533\n",
      "RMSE by fold 0.624630. Std 0.0116\n",
      "Final RMSE over 50: 0.625743. Std 0.8508\n",
      "RMSE by fold 0.625649. Std 0.0113\n",
      "Final RMSE over 50: 0.626984. Std 0.8498\n",
      "RMSE by fold 0.626841. Std 0.0139\n",
      "Final RMSE over 50: 0.621595. Std 0.8463\n",
      "RMSE by fold 0.621466. Std 0.0131\n",
      "Final RMSE over 50: 0.623501. Std 0.8269\n",
      "RMSE by fold 0.623406. Std 0.0114\n",
      "Final RMSE over 50: 0.618509. Std 0.8454\n",
      "RMSE by fold 0.618389. Std 0.0126\n",
      "Final RMSE over 50: 0.619483. Std 0.8456\n",
      "RMSE by fold 0.619393. Std 0.0111\n",
      "Final RMSE over 50: 0.630687. Std 0.8521\n",
      "RMSE by fold 0.630568. Std 0.0127\n",
      "Final RMSE over 50: 0.621621. Std 0.8519\n",
      "RMSE by fold 0.621553. Std 0.0095\n",
      "Final RMSE over 50: 0.616401. Std 0.8396\n",
      "RMSE by fold 0.616301. Std 0.0115\n",
      "Final RMSE over 50: 0.627931. Std 0.8533\n",
      "RMSE by fold 0.627847. Std 0.0107\n",
      "Final RMSE over 50: 0.624725. Std 0.8550\n",
      "RMSE by fold 0.624613. Std 0.0122\n",
      "Final RMSE over 50: 0.624359. Std 0.8504\n",
      "RMSE by fold 0.624269. Std 0.0110\n",
      "Final RMSE over 50: 0.624640. Std 0.8490\n",
      "RMSE by fold 0.624522. Std 0.0125\n",
      "Final RMSE over 50: 0.628134. Std 0.8537\n",
      "RMSE by fold 0.628020. Std 0.0124\n",
      "Final RMSE over 50: 0.628121. Std 0.8391\n",
      "RMSE by fold 0.627977. Std 0.0140\n",
      "Final RMSE over 50: 0.613521. Std 0.8374\n",
      "RMSE by fold 0.613417. Std 0.0117\n",
      "Final RMSE over 50: 0.615688. Std 0.8385\n",
      "RMSE by fold 0.615603. Std 0.0106\n",
      "Final RMSE over 50: 0.636672. Std 0.8602\n",
      "RMSE by fold 0.636558. Std 0.0125\n",
      "Final RMSE over 50: 0.632958. Std 0.8525\n",
      "RMSE by fold 0.632869. Std 0.0110\n",
      "Final RMSE over 50: 0.629727. Std 0.8520\n",
      "RMSE by fold 0.629618. Std 0.0122\n",
      "Final RMSE over 50: 0.639222. Std 0.8608\n",
      "RMSE by fold 0.639119. Std 0.0120\n",
      "Final RMSE over 50: 0.622833. Std 0.8395\n",
      "RMSE by fold 0.622732. Std 0.0117\n",
      "Final RMSE over 50: 0.616364. Std 0.8370\n",
      "RMSE by fold 0.616260. Std 0.0118\n",
      "Final RMSE over 50: 0.612747. Std 0.8391\n",
      "RMSE by fold 0.612661. Std 0.0107\n",
      "Final RMSE over 50: 0.630940. Std 0.8604\n",
      "RMSE by fold 0.630852. Std 0.0111\n",
      "Final RMSE over 50: 0.620760. Std 0.8482\n",
      "RMSE by fold 0.620678. Std 0.0105\n",
      "Final RMSE over 50: 0.621078. Std 0.8456\n",
      "RMSE by fold 0.620980. Std 0.0115\n",
      "Final RMSE over 50: 0.610637. Std 0.8337\n",
      "RMSE by fold 0.610507. Std 0.0130\n",
      "Final RMSE over 50: 0.631359. Std 0.8583\n",
      "RMSE by fold 0.631283. Std 0.0103\n",
      "Final RMSE over 50: 0.632645. Std 0.8567\n",
      "RMSE by fold 0.632531. Std 0.0125\n",
      "Final RMSE over 50: 0.609809. Std 0.8306\n",
      "RMSE by fold 0.609706. Std 0.0117\n",
      "Final RMSE over 50: 0.624565. Std 0.8451\n",
      "RMSE by fold 0.624459. Std 0.0120\n",
      "Final RMSE over 50: 0.685607. Std 0.5317\n",
      "RMSE by fold 0.685586. Std 0.0059\n",
      "Final RMSE over 50: 0.623192. Std 0.8508\n",
      "RMSE by fold 0.623099. Std 0.0112\n",
      "Final RMSE over 50: 0.617794. Std 0.8443\n",
      "RMSE by fold 0.617699. Std 0.0113\n",
      "Final RMSE over 50: 0.637018. Std 0.8555\n",
      "RMSE by fold 0.636957. Std 0.0093\n",
      "Final RMSE over 50: 0.617802. Std 0.8372\n",
      "RMSE by fold 0.617686. Std 0.0124\n",
      "Final RMSE over 50: 0.625209. Std 0.8449\n",
      "RMSE by fold 0.625108. Std 0.0118\n",
      "Final RMSE over 50: 0.634368. Std 0.8506\n",
      "RMSE by fold 0.634246. Std 0.0129\n",
      "Final RMSE over 50: 0.636829. Std 0.8592\n",
      "RMSE by fold 0.636682. Std 0.0142\n",
      "Final RMSE over 50: 0.632423. Std 0.8514\n",
      "RMSE by fold 0.632338. Std 0.0108\n",
      "Final RMSE over 50: 0.616703. Std 0.8413\n",
      "RMSE by fold 0.616606. Std 0.0114\n",
      "Final RMSE over 50: 0.620117. Std 0.8404\n",
      "RMSE by fold 0.619998. Std 0.0126\n",
      "Final RMSE over 50: 0.630767. Std 0.8599\n",
      "RMSE by fold 0.630709. Std 0.0089\n",
      "Final RMSE over 50: 0.620525. Std 0.8460\n",
      "RMSE by fold 0.620396. Std 0.0131\n",
      "Final RMSE over 50: 0.608273. Std 0.8262\n",
      "RMSE by fold 0.608181. Std 0.0110\n",
      "Final RMSE over 50: 0.639925. Std 0.8714\n",
      "RMSE by fold 0.639815. Std 0.0123\n",
      "Final RMSE over 50: 0.628048. Std 0.8539\n",
      "RMSE by fold 0.627950. Std 0.0116\n",
      "Final RMSE over 50: 0.632445. Std 0.8599\n",
      "RMSE by fold 0.632302. Std 0.0138\n",
      "Final RMSE over 50: 0.624213. Std 0.8517\n",
      "RMSE by fold 0.624116. Std 0.0114\n",
      "Final RMSE over 50: 0.633986. Std 0.8599\n",
      "RMSE by fold 0.633838. Std 0.0141\n",
      "Final RMSE over 50: 0.616097. Std 0.8452\n",
      "RMSE by fold 0.616019. Std 0.0102\n",
      "Final RMSE over 50: 0.620106. Std 0.8460\n",
      "RMSE by fold 0.620012. Std 0.0113\n",
      "Final RMSE over 50: 0.651071. Std 0.6250\n",
      "RMSE by fold 0.651038. Std 0.0071\n",
      "Final RMSE over 50: 0.646356. Std 0.6513\n",
      "RMSE by fold 0.646304. Std 0.0087\n",
      "Final RMSE over 50: 0.632219. Std 0.8432\n",
      "RMSE by fold 0.632100. Std 0.0127\n",
      "Final RMSE over 50: 0.613912. Std 0.8419\n",
      "RMSE by fold 0.613800. Std 0.0121\n",
      "Final RMSE over 50: 0.630430. Std 0.8599\n",
      "RMSE by fold 0.630330. Std 0.0118\n",
      "Final RMSE over 50: 0.623964. Std 0.8379\n",
      "RMSE by fold 0.623840. Std 0.0130\n",
      "Final RMSE over 50: 0.634103. Std 0.8480\n",
      "RMSE by fold 0.633993. Std 0.0122\n",
      "Final RMSE over 50: 0.621192. Std 0.8526\n",
      "RMSE by fold 0.621118. Std 0.0101\n",
      "Final RMSE over 50: 0.628252. Std 0.8451\n",
      "RMSE by fold 0.628186. Std 0.0094\n",
      "Final RMSE over 50: 0.612577. Std 0.8341\n",
      "RMSE by fold 0.612477. Std 0.0115\n",
      "Final RMSE over 50: 0.614844. Std 0.8359\n",
      "RMSE by fold 0.614741. Std 0.0118\n",
      "Final RMSE over 50: 0.619993. Std 0.8336\n",
      "RMSE by fold 0.619897. Std 0.0114\n",
      "Final RMSE over 50: 0.623770. Std 0.8518\n",
      "RMSE by fold 0.623637. Std 0.0133\n",
      "Final RMSE over 50: 0.609868. Std 0.7930\n",
      "RMSE by fold 0.609794. Std 0.0100\n",
      "Final RMSE over 50: 0.618909. Std 0.7584\n",
      "RMSE by fold 0.618825. Std 0.0107\n",
      "Final RMSE over 50: 0.627044. Std 0.8524\n",
      "RMSE by fold 0.626947. Std 0.0115\n",
      "Final RMSE over 50: 0.624018. Std 0.8297\n",
      "RMSE by fold 0.623914. Std 0.0119\n",
      "Final RMSE over 50: 0.615957. Std 0.8416\n",
      "RMSE by fold 0.615855. Std 0.0116\n",
      "Final RMSE over 50: 0.614747. Std 0.7827\n",
      "RMSE by fold 0.614643. Std 0.0117\n",
      "Final RMSE over 50: 0.619691. Std 0.8490\n",
      "RMSE by fold 0.619594. Std 0.0114\n",
      "Final RMSE over 50: 0.633244. Std 0.8531\n",
      "RMSE by fold 0.633126. Std 0.0126\n",
      "Final RMSE over 50: 0.622288. Std 0.8496\n",
      "RMSE by fold 0.622121. Std 0.0149\n",
      "Final RMSE over 50: 0.607804. Std 0.8091\n",
      "RMSE by fold 0.607713. Std 0.0109\n",
      "Final RMSE over 50: 0.621276. Std 0.8448\n",
      "RMSE by fold 0.621204. Std 0.0099\n",
      "Final RMSE over 50: 0.613372. Std 0.8399\n",
      "RMSE by fold 0.613267. Std 0.0117\n",
      "Final RMSE over 50: 0.621637. Std 0.8475\n",
      "RMSE by fold 0.621503. Std 0.0133\n",
      "Final RMSE over 50: 0.626729. Std 0.8542\n",
      "RMSE by fold 0.626647. Std 0.0106\n",
      "Final RMSE over 50: 0.620897. Std 0.8370\n",
      "RMSE by fold 0.620789. Std 0.0121\n",
      "Final RMSE over 50: 0.635677. Std 0.8461\n",
      "RMSE by fold 0.635591. Std 0.0109\n",
      "Final RMSE over 50: 0.611705. Std 0.8160\n",
      "RMSE by fold 0.611578. Std 0.0129\n",
      "Final RMSE over 50: 0.629023. Std 0.8518\n",
      "RMSE by fold 0.628908. Std 0.0125\n",
      "Final RMSE over 50: 0.616888. Std 0.8396\n",
      "RMSE by fold 0.616771. Std 0.0125\n",
      "Final RMSE over 50: 0.642213. Std 0.8675\n",
      "RMSE by fold 0.642127. Std 0.0110\n",
      "Final RMSE over 50: 0.627325. Std 0.8562\n",
      "RMSE by fold 0.627258. Std 0.0097\n",
      "Final RMSE over 50: 0.628074. Std 0.8546\n",
      "RMSE by fold 0.627922. Std 0.0142\n",
      "Final RMSE over 50: 0.619162. Std 0.8449\n",
      "RMSE by fold 0.619056. Std 0.0119\n",
      "Final RMSE over 50: 0.620661. Std 0.8491\n",
      "RMSE by fold 0.620521. Std 0.0137\n",
      "Final RMSE over 50: 0.634189. Std 0.8493\n",
      "RMSE by fold 0.634102. Std 0.0110\n",
      "Final RMSE over 50: 0.629264. Std 0.8581\n",
      "RMSE by fold 0.629186. Std 0.0104\n",
      "Final RMSE over 50: 0.630469. Std 0.8541\n",
      "RMSE by fold 0.630390. Std 0.0104\n",
      "Final RMSE over 50: 0.622634. Std 0.8491\n",
      "RMSE by fold 0.622535. Std 0.0116\n",
      "Final RMSE over 50: 0.614542. Std 0.8394\n",
      "RMSE by fold 0.614402. Std 0.0135\n",
      "Final RMSE over 50: 0.615674. Std 0.8395\n",
      "RMSE by fold 0.615560. Std 0.0123\n",
      "Final RMSE over 50: 0.625218. Std 0.8554\n",
      "RMSE by fold 0.625097. Std 0.0127\n",
      "Final RMSE over 50: 0.619657. Std 0.8486\n",
      "RMSE by fold 0.619559. Std 0.0115\n",
      "Final RMSE over 50: 0.625111. Std 0.8531\n",
      "RMSE by fold 0.625012. Std 0.0116\n",
      "Final RMSE over 50: 0.632176. Std 0.8587\n",
      "RMSE by fold 0.632114. Std 0.0094\n",
      "Final RMSE over 50: 0.618011. Std 0.8407\n",
      "RMSE by fold 0.617885. Std 0.0129\n",
      "Final RMSE over 50: 0.617575. Std 0.8418\n",
      "RMSE by fold 0.617452. Std 0.0128\n",
      "Final RMSE over 50: 0.626928. Std 0.8514\n",
      "RMSE by fold 0.626796. Std 0.0133\n",
      "Final RMSE over 50: 0.632545. Std 0.8548\n",
      "RMSE by fold 0.632437. Std 0.0121\n",
      "Final RMSE over 50: 0.610694. Std 0.8048\n",
      "RMSE by fold 0.610606. Std 0.0108\n",
      "Final RMSE over 50: 0.622457. Std 0.8484\n",
      "RMSE by fold 0.622340. Std 0.0126\n",
      "Final RMSE over 50: 0.615778. Std 0.8438\n",
      "RMSE by fold 0.615686. Std 0.0111\n",
      "Final RMSE over 50: 0.622381. Std 0.8532\n",
      "RMSE by fold 0.622258. Std 0.0128\n",
      "Final RMSE over 50: 0.615662. Std 0.8361\n",
      "RMSE by fold 0.615537. Std 0.0128\n",
      "Final RMSE over 50: 0.633772. Std 0.8502\n",
      "RMSE by fold 0.633679. Std 0.0113\n",
      "Final RMSE over 50: 0.626709. Std 0.8531\n",
      "RMSE by fold 0.626584. Std 0.0129\n",
      "Final RMSE over 50: 0.618575. Std 0.8413\n",
      "RMSE by fold 0.618456. Std 0.0126\n",
      "Final RMSE over 50: 0.625648. Std 0.8568\n",
      "RMSE by fold 0.625549. Std 0.0116\n",
      "Final RMSE over 50: 0.634865. Std 0.8609\n",
      "RMSE by fold 0.634767. Std 0.0117\n",
      "Final RMSE over 50: 0.639426. Std 0.8644\n",
      "RMSE by fold 0.639282. Std 0.0140\n",
      "Final RMSE over 50: 0.633656. Std 0.8530\n",
      "RMSE by fold 0.633559. Std 0.0115\n",
      "Final RMSE over 50: 0.635551. Std 0.8589\n",
      "RMSE by fold 0.635473. Std 0.0106\n",
      "Final RMSE over 50: 0.615566. Std 0.8385\n",
      "RMSE by fold 0.615418. Std 0.0139\n",
      "Final RMSE over 50: 0.621169. Std 0.8359\n",
      "RMSE by fold 0.621052. Std 0.0126\n",
      "Final RMSE over 50: 0.614596. Std 0.8393\n",
      "RMSE by fold 0.614469. Std 0.0129\n",
      "Final RMSE over 50: 0.611158. Std 0.8299\n",
      "RMSE by fold 0.611055. Std 0.0117\n",
      "Final RMSE over 50: 0.633999. Std 0.8506\n",
      "RMSE by fold 0.633873. Std 0.0132\n",
      "Final RMSE over 50: 0.620313. Std 0.8443\n",
      "RMSE by fold 0.620201. Std 0.0123\n",
      "Final RMSE over 50: 0.637870. Std 0.8626\n",
      "RMSE by fold 0.637761. Std 0.0122\n",
      "Final RMSE over 50: 0.621557. Std 0.8483\n",
      "RMSE by fold 0.621454. Std 0.0118\n",
      "Final RMSE over 50: 0.612485. Std 0.8378\n",
      "RMSE by fold 0.612379. Std 0.0118\n",
      "Final RMSE over 50: 0.609243. Std 0.8191\n",
      "RMSE by fold 0.609190. Std 0.0084\n",
      "Final RMSE over 50: 0.616306. Std 0.8003\n",
      "RMSE by fold 0.616177. Std 0.0131\n",
      "Final RMSE over 50: 0.621107. Std 0.8478\n",
      "RMSE by fold 0.621011. Std 0.0113\n",
      "Final RMSE over 50: 0.628420. Std 0.8522\n",
      "RMSE by fold 0.628337. Std 0.0107\n",
      "Final RMSE over 50: 0.630746. Std 0.8458\n",
      "RMSE by fold 0.630606. Std 0.0138\n",
      "Final RMSE over 50: 0.611132. Std 0.8328\n",
      "RMSE by fold 0.611009. Std 0.0127\n",
      "Final RMSE over 50: 0.626357. Std 0.8520\n",
      "RMSE by fold 0.626233. Std 0.0130\n",
      "Final RMSE over 50: 0.612558. Std 0.8380\n",
      "RMSE by fold 0.612471. Std 0.0107\n",
      "Final RMSE over 50: 0.636052. Std 0.8587\n",
      "RMSE by fold 0.635919. Std 0.0135\n",
      "Final RMSE over 50: 0.615514. Std 0.8114\n",
      "RMSE by fold 0.615409. Std 0.0118\n",
      "Final RMSE over 50: 0.639438. Std 0.8661\n",
      "RMSE by fold 0.639293. Std 0.0140\n",
      "Final RMSE over 50: 0.616747. Std 0.8459\n",
      "RMSE by fold 0.616639. Std 0.0120\n",
      "Final RMSE over 50: 0.614868. Std 0.8445\n",
      "RMSE by fold 0.614754. Std 0.0123\n",
      "Final RMSE over 50: 0.611200. Std 0.7984\n",
      "RMSE by fold 0.611115. Std 0.0106\n",
      "Final RMSE over 50: 0.630185. Std 0.8472\n",
      "RMSE by fold 0.630085. Std 0.0117\n",
      "Final RMSE over 50: 0.612210. Std 0.8331\n",
      "RMSE by fold 0.612075. Std 0.0132\n",
      "Final RMSE over 50: 0.612208. Std 0.8366\n",
      "RMSE by fold 0.612103. Std 0.0118\n",
      "Final RMSE over 50: 0.633854. Std 0.8545\n",
      "RMSE by fold 0.633747. Std 0.0121\n",
      "Final RMSE over 50: 0.641102. Std 0.8611\n",
      "RMSE by fold 0.640984. Std 0.0127\n",
      "Final RMSE over 50: 0.624765. Std 0.8342\n",
      "RMSE by fold 0.624659. Std 0.0121\n",
      "Final RMSE over 50: 0.620244. Std 0.8494\n",
      "RMSE by fold 0.620139. Std 0.0119\n",
      "Final RMSE over 50: 0.622764. Std 0.8454\n",
      "RMSE by fold 0.622657. Std 0.0120\n",
      "Final RMSE over 50: 0.618495. Std 0.8446\n",
      "RMSE by fold 0.618383. Std 0.0122\n",
      "Final RMSE over 50: 0.614935. Std 0.8403\n",
      "RMSE by fold 0.614840. Std 0.0112\n",
      "Final RMSE over 50: 0.614742. Std 0.8429\n",
      "RMSE by fold 0.614637. Std 0.0118\n",
      "Final RMSE over 50: 0.615383. Std 0.7997\n",
      "RMSE by fold 0.615269. Std 0.0123\n",
      "Final RMSE over 50: 0.634512. Std 0.8409\n",
      "RMSE by fold 0.634376. Std 0.0137\n",
      "Final RMSE over 50: 0.630428. Std 0.8566\n",
      "RMSE by fold 0.630335. Std 0.0112\n",
      "Final RMSE over 50: 0.626979. Std 0.8555\n",
      "RMSE by fold 0.626880. Std 0.0115\n",
      "Final RMSE over 50: 0.635046. Std 0.8444\n",
      "RMSE by fold 0.634924. Std 0.0130\n",
      "Final RMSE over 50: 0.620046. Std 0.8450\n",
      "RMSE by fold 0.619973. Std 0.0100\n",
      "Final RMSE over 50: 0.618719. Std 0.8375\n",
      "RMSE by fold 0.618628. Std 0.0110\n",
      "Final RMSE over 50: 0.626518. Std 0.8440\n",
      "RMSE by fold 0.626354. Std 0.0148\n",
      "Final RMSE over 50: 0.633222. Std 0.8588\n",
      "RMSE by fold 0.633082. Std 0.0138\n",
      "Final RMSE over 50: 0.635652. Std 0.8441\n",
      "RMSE by fold 0.635525. Std 0.0131\n",
      "Final RMSE over 50: 0.634676. Std 0.8604\n",
      "RMSE by fold 0.634611. Std 0.0095\n",
      "Final RMSE over 50: 0.638029. Std 0.8632\n",
      "RMSE by fold 0.637907. Std 0.0129\n",
      "Final RMSE over 50: 0.632354. Std 0.8612\n",
      "RMSE by fold 0.632228. Std 0.0132\n",
      "Final RMSE over 50: 0.624177. Std 0.8386\n",
      "RMSE by fold 0.624093. Std 0.0108\n",
      "Final RMSE over 50: 0.615452. Std 0.8330\n",
      "RMSE by fold 0.615362. Std 0.0109\n",
      "Final RMSE over 50: 0.632579. Std 0.8530\n",
      "RMSE by fold 0.632510. Std 0.0096\n",
      "Final RMSE over 50: 0.624475. Std 0.8513\n",
      "RMSE by fold 0.624342. Std 0.0133\n",
      "Final RMSE over 50: 0.619808. Std 0.8328\n",
      "RMSE by fold 0.619693. Std 0.0124\n",
      "Final RMSE over 50: 0.608378. Std 0.8272\n",
      "RMSE by fold 0.608258. Std 0.0125\n",
      "Final RMSE over 50: 0.608972. Std 0.8317\n",
      "RMSE by fold 0.608875. Std 0.0113\n",
      "Final RMSE over 50: 0.624178. Std 0.8499\n",
      "RMSE by fold 0.624056. Std 0.0128\n",
      "Final RMSE over 50: 0.617203. Std 0.8397\n",
      "RMSE by fold 0.617082. Std 0.0127\n",
      "Final RMSE over 50: 0.633303. Std 0.8424\n",
      "RMSE by fold 0.633192. Std 0.0123\n",
      "Final RMSE over 50: 0.630765. Std 0.8540\n",
      "RMSE by fold 0.630622. Std 0.0139\n",
      "Final RMSE over 50: 0.610162. Std 0.7900\n",
      "RMSE by fold 0.610084. Std 0.0101\n",
      "Final RMSE over 50: 0.617061. Std 0.7687\n",
      "RMSE by fold 0.616975. Std 0.0108\n",
      "Final RMSE over 50: 0.615237. Std 0.8332\n",
      "RMSE by fold 0.615129. Std 0.0120\n",
      "Final RMSE over 50: 0.633102. Std 0.8580\n",
      "RMSE by fold 0.632985. Std 0.0126\n",
      "Final RMSE over 50: 0.625799. Std 0.8507\n",
      "RMSE by fold 0.625701. Std 0.0114\n",
      "Final RMSE over 50: 0.622504. Std 0.8497\n",
      "RMSE by fold 0.622378. Std 0.0130\n",
      "Final RMSE over 50: 0.624403. Std 0.8512\n",
      "RMSE by fold 0.624305. Std 0.0115\n",
      "Final RMSE over 50: 0.609645. Std 0.8131\n",
      "RMSE by fold 0.609539. Std 0.0118\n",
      "Final RMSE over 50: 0.622960. Std 0.8447\n",
      "RMSE by fold 0.622828. Std 0.0133\n",
      "Final RMSE over 50: 0.634842. Std 0.8628\n",
      "RMSE by fold 0.634784. Std 0.0090\n",
      "Final RMSE over 50: 0.609752. Std 0.8262\n",
      "RMSE by fold 0.609639. Std 0.0121\n",
      "Final RMSE over 50: 0.630382. Std 0.8525\n",
      "RMSE by fold 0.630262. Std 0.0127\n",
      "Final RMSE over 50: 0.632709. Std 0.8579\n",
      "RMSE by fold 0.632598. Std 0.0123\n",
      "Final RMSE over 50: 0.619902. Std 0.8486\n",
      "RMSE by fold 0.619803. Std 0.0116\n",
      "Final RMSE over 50: 0.619106. Std 0.8449\n",
      "RMSE by fold 0.618985. Std 0.0126\n",
      "Final RMSE over 50: 0.639392. Std 0.6581\n",
      "RMSE by fold 0.639357. Std 0.0073\n",
      "Final RMSE over 50: 0.632778. Std 0.8568\n",
      "RMSE by fold 0.632680. Std 0.0115\n",
      "Final RMSE over 50: 0.616561. Std 0.8437\n",
      "RMSE by fold 0.616450. Std 0.0121\n",
      "Final RMSE over 50: 0.624196. Std 0.8340\n",
      "RMSE by fold 0.624083. Std 0.0123\n",
      "Final RMSE over 50: 0.608961. Std 0.8268\n",
      "RMSE by fold 0.608879. Std 0.0105\n",
      "Final RMSE over 50: 0.624448. Std 0.8501\n",
      "RMSE by fold 0.624318. Std 0.0133\n",
      "Final RMSE over 50: 0.627712. Std 0.8429\n",
      "RMSE by fold 0.627581. Std 0.0132\n",
      "Final RMSE over 50: 0.619420. Std 0.8024\n",
      "RMSE by fold 0.619331. Std 0.0108\n",
      "Final RMSE over 50: 0.642731. Std 0.8688\n",
      "RMSE by fold 0.642646. Std 0.0108\n",
      "Final RMSE over 50: 0.628068. Std 0.8579\n",
      "RMSE by fold 0.627966. Std 0.0118\n",
      "Final RMSE over 50: 0.628729. Std 0.8609\n",
      "RMSE by fold 0.628646. Std 0.0106\n",
      "Final RMSE over 50: 0.626043. Std 0.8475\n",
      "RMSE by fold 0.625901. Std 0.0138\n",
      "Final RMSE over 50: 0.641930. Std 0.8484\n",
      "RMSE by fold 0.641784. Std 0.0143\n",
      "Final RMSE over 50: 0.613733. Std 0.8374\n",
      "RMSE by fold 0.613639. Std 0.0112\n",
      "Final RMSE over 50: 0.624363. Std 0.8532\n",
      "RMSE by fold 0.624251. Std 0.0123\n",
      "Final RMSE over 50: 0.613801. Std 0.8396\n",
      "RMSE by fold 0.613700. Std 0.0116\n",
      "Final RMSE over 50: 0.616218. Std 0.8419\n",
      "RMSE by fold 0.616098. Std 0.0125\n",
      "Final RMSE over 50: 0.629887. Std 0.8575\n",
      "RMSE by fold 0.629770. Std 0.0126\n",
      "Final RMSE over 50: 0.622238. Std 0.8483\n",
      "RMSE by fold 0.622148. Std 0.0110\n",
      "Final RMSE over 50: 0.623562. Std 0.8411\n",
      "RMSE by fold 0.623474. Std 0.0109\n",
      "Final RMSE over 50: 0.624094. Std 0.8325\n",
      "RMSE by fold 0.623992. Std 0.0116\n",
      "Final RMSE over 50: 0.617594. Std 0.8262\n",
      "RMSE by fold 0.617501. Std 0.0111\n",
      "Final RMSE over 50: 0.629356. Std 0.8533\n",
      "RMSE by fold 0.629259. Std 0.0114\n",
      "Final RMSE over 50: 0.629707. Std 0.8518\n",
      "RMSE by fold 0.629598. Std 0.0123\n",
      "Final RMSE over 50: 0.624274. Std 0.8535\n",
      "RMSE by fold 0.624145. Std 0.0131\n",
      "Final RMSE over 50: 0.626838. Std 0.7161\n",
      "RMSE by fold 0.626781. Std 0.0089\n",
      "Final RMSE over 50: 0.629197. Std 0.8469\n",
      "RMSE by fold 0.629098. Std 0.0116\n",
      "Final RMSE over 50: 0.621959. Std 0.8495\n",
      "RMSE by fold 0.621861. Std 0.0116\n",
      "Final RMSE over 50: 0.624296. Std 0.8415\n",
      "RMSE by fold 0.624173. Std 0.0129\n",
      "Final RMSE over 50: 0.633391. Std 0.8541\n",
      "RMSE by fold 0.633257. Std 0.0135\n",
      "Final RMSE over 50: 0.623681. Std 0.8526\n",
      "RMSE by fold 0.623585. Std 0.0113\n",
      "Final RMSE over 50: 0.624302. Std 0.8373\n",
      "RMSE by fold 0.624198. Std 0.0119\n",
      "Final RMSE over 50: 0.622703. Std 0.7644\n",
      "RMSE by fold 0.622617. Std 0.0109\n",
      "Final RMSE over 50: 0.630497. Std 0.8565\n",
      "RMSE by fold 0.630382. Std 0.0125\n",
      "Final RMSE over 50: 0.631357. Std 0.8565\n",
      "RMSE by fold 0.631268. Std 0.0111\n",
      "Final RMSE over 50: 0.622773. Std 0.8493\n",
      "RMSE by fold 0.622614. Std 0.0145\n",
      "Final RMSE over 50: 0.621793. Std 0.8501\n",
      "RMSE by fold 0.621670. Std 0.0128\n",
      "Final RMSE over 50: 0.627273. Std 0.8530\n",
      "RMSE by fold 0.627200. Std 0.0099\n",
      "Final RMSE over 50: 0.638987. Std 0.8663\n",
      "RMSE by fold 0.638874. Std 0.0125\n",
      "Final RMSE over 50: 0.622435. Std 0.8529\n",
      "RMSE by fold 0.622315. Std 0.0127\n",
      "Final RMSE over 50: 0.617907. Std 0.8435\n",
      "RMSE by fold 0.617807. Std 0.0116\n",
      "Final RMSE over 50: 0.626802. Std 0.8496\n",
      "RMSE by fold 0.626680. Std 0.0128\n",
      "Final RMSE over 50: 0.629930. Std 0.8566\n",
      "RMSE by fold 0.629808. Std 0.0129\n",
      "Final RMSE over 50: 0.638139. Std 0.8413\n",
      "RMSE by fold 0.638072. Std 0.0098\n",
      "Final RMSE over 50: 0.625295. Std 0.8454\n",
      "RMSE by fold 0.625181. Std 0.0124\n",
      "Final RMSE over 50: 0.631554. Std 0.8413\n",
      "RMSE by fold 0.631426. Std 0.0131\n",
      "Final RMSE over 50: 0.635331. Std 0.8439\n",
      "RMSE by fold 0.635224. Std 0.0121\n",
      "Final RMSE over 50: 0.618939. Std 0.8464\n",
      "RMSE by fold 0.618864. Std 0.0101\n",
      "Final RMSE over 50: 0.627913. Std 0.8530\n",
      "RMSE by fold 0.627817. Std 0.0115\n",
      "Final RMSE over 50: 0.624529. Std 0.8463\n",
      "RMSE by fold 0.624451. Std 0.0105\n",
      "Final RMSE over 50: 0.614499. Std 0.8391\n",
      "RMSE by fold 0.614377. Std 0.0127\n",
      "Final RMSE over 50: 0.629528. Std 0.8564\n",
      "RMSE by fold 0.629426. Std 0.0118\n",
      "Final RMSE over 50: 0.628913. Std 0.8355\n",
      "RMSE by fold 0.628782. Std 0.0133\n",
      "Final RMSE over 50: 0.625874. Std 0.8556\n",
      "RMSE by fold 0.625769. Std 0.0119\n",
      "Final RMSE over 50: 0.624056. Std 0.8317\n",
      "RMSE by fold 0.623927. Std 0.0132\n",
      "Final RMSE over 50: 0.629829. Std 0.8564\n",
      "RMSE by fold 0.629731. Std 0.0117\n",
      "Final RMSE over 50: 0.625941. Std 0.8546\n",
      "RMSE by fold 0.625830. Std 0.0122\n",
      "Final RMSE over 50: 0.622882. Std 0.8524\n",
      "RMSE by fold 0.622786. Std 0.0114\n",
      "Final RMSE over 50: 0.615448. Std 0.7950\n",
      "RMSE by fold 0.615352. Std 0.0113\n",
      "Final RMSE over 50: 0.618970. Std 0.8425\n",
      "RMSE by fold 0.618878. Std 0.0111\n",
      "Final RMSE over 50: 0.626689. Std 0.8592\n",
      "RMSE by fold 0.626584. Std 0.0119\n",
      "Final RMSE over 50: 0.640614. Std 0.8659\n",
      "RMSE by fold 0.640509. Std 0.0121\n",
      "Final RMSE over 50: 0.627269. Std 0.8527\n",
      "RMSE by fold 0.627151. Std 0.0126\n",
      "Final RMSE over 50: 0.632695. Std 0.8409\n",
      "RMSE by fold 0.632579. Std 0.0126\n",
      "Final RMSE over 50: 0.632611. Std 0.8507\n",
      "RMSE by fold 0.632521. Std 0.0113\n",
      "Final RMSE over 50: 0.621243. Std 0.8509\n",
      "RMSE by fold 0.621141. Std 0.0118\n",
      "Final RMSE over 50: 0.618696. Std 0.8438\n",
      "RMSE by fold 0.618564. Std 0.0132\n",
      "Final RMSE over 50: 0.615914. Std 0.8373\n",
      "RMSE by fold 0.615823. Std 0.0111\n",
      "Final RMSE over 50: 0.632913. Std 0.8592\n",
      "RMSE by fold 0.632815. Std 0.0116\n",
      "Final RMSE over 50: 0.634949. Std 0.8491\n",
      "RMSE by fold 0.634878. Std 0.0099\n",
      "Final RMSE over 50: 0.626678. Std 0.8515\n",
      "RMSE by fold 0.626527. Std 0.0143\n",
      "Final RMSE over 50: 0.624870. Std 0.8315\n",
      "RMSE by fold 0.624737. Std 0.0134\n",
      "Final RMSE over 50: 0.616946. Std 0.7772\n",
      "RMSE by fold 0.616849. Std 0.0114\n",
      "Final RMSE over 50: 0.632816. Std 0.8580\n",
      "RMSE by fold 0.632740. Std 0.0101\n",
      "Final RMSE over 50: 0.627460. Std 0.8316\n",
      "RMSE by fold 0.627324. Std 0.0136\n",
      "Final RMSE over 50: 0.608009. Std 0.8274\n",
      "RMSE by fold 0.607919. Std 0.0109\n",
      "Final RMSE over 50: 0.631436. Std 0.8599\n",
      "RMSE by fold 0.631313. Std 0.0129\n",
      "Final RMSE over 50: 0.611441. Std 0.8381\n",
      "RMSE by fold 0.611343. Std 0.0113\n",
      "Final RMSE over 50: 0.613484. Std 0.8397\n",
      "RMSE by fold 0.613398. Std 0.0106\n",
      "Final RMSE over 50: 0.619166. Std 0.8463\n",
      "RMSE by fold 0.619051. Std 0.0124\n",
      "Final RMSE over 50: 0.616058. Std 0.8413\n",
      "RMSE by fold 0.615971. Std 0.0109\n",
      "Final RMSE over 50: 0.609955. Std 0.8132\n",
      "RMSE by fold 0.609876. Std 0.0103\n",
      "Final RMSE over 50: 0.634600. Std 0.8587\n",
      "RMSE by fold 0.634482. Std 0.0127\n",
      "Final RMSE over 50: 0.631041. Std 0.8554\n",
      "RMSE by fold 0.630943. Std 0.0116\n",
      "Final RMSE over 50: 0.627700. Std 0.8494\n",
      "RMSE by fold 0.627606. Std 0.0114\n",
      "Final RMSE over 50: 0.614706. Std 0.8442\n",
      "RMSE by fold 0.614610. Std 0.0113\n",
      "Final RMSE over 50: 0.626718. Std 0.8377\n",
      "RMSE by fold 0.626638. Std 0.0104\n",
      "Final RMSE over 50: 0.620773. Std 0.8488\n",
      "RMSE by fold 0.620672. Std 0.0116\n",
      "Final RMSE over 50: 0.629858. Std 0.8369\n",
      "RMSE by fold 0.629728. Std 0.0133\n",
      "Final RMSE over 50: 0.633381. Std 0.8623\n",
      "RMSE by fold 0.633250. Std 0.0133\n",
      "Final RMSE over 50: 0.628994. Std 0.8551\n",
      "RMSE by fold 0.628889. Std 0.0119\n",
      "Final RMSE over 50: 0.614487. Std 0.8336\n",
      "RMSE by fold 0.614405. Std 0.0105\n",
      "Final RMSE over 50: 0.636737. Std 0.8534\n",
      "RMSE by fold 0.636634. Std 0.0118\n",
      "Final RMSE over 50: 0.615963. Std 0.8256\n",
      "RMSE by fold 0.615863. Std 0.0116\n",
      "Final RMSE over 50: 0.609932. Std 0.8099\n",
      "RMSE by fold 0.609824. Std 0.0119\n",
      "Final RMSE over 50: 0.634272. Std 0.8508\n",
      "RMSE by fold 0.634183. Std 0.0111\n",
      "Final RMSE over 50: 0.620786. Std 0.8450\n",
      "RMSE by fold 0.620688. Std 0.0115\n",
      "Final RMSE over 50: 0.624960. Std 0.8472\n",
      "RMSE by fold 0.624811. Std 0.0142\n",
      "Final RMSE over 50: 0.628721. Std 0.8533\n",
      "RMSE by fold 0.628612. Std 0.0121\n",
      "Final RMSE over 50: 0.628163. Std 0.8565\n",
      "RMSE by fold 0.628090. Std 0.0100\n",
      "Final RMSE over 50: 0.626781. Std 0.8480\n",
      "RMSE by fold 0.626716. Std 0.0094\n",
      "Final RMSE over 50: 0.626873. Std 0.8532\n",
      "RMSE by fold 0.626802. Std 0.0099\n",
      "Final RMSE over 50: 0.613812. Std 0.8406\n",
      "RMSE by fold 0.613688. Std 0.0126\n",
      "Final RMSE over 50: 0.624700. Std 0.8468\n",
      "RMSE by fold 0.624593. Std 0.0120\n",
      "Final RMSE over 50: 0.614611. Std 0.8400\n",
      "RMSE by fold 0.614532. Std 0.0104\n",
      "Final RMSE over 50: 0.616579. Std 0.8474\n",
      "RMSE by fold 0.616471. Std 0.0119\n",
      "Final RMSE over 50: 0.637853. Std 0.8660\n",
      "RMSE by fold 0.637757. Std 0.0116\n",
      "Final RMSE over 50: 0.628322. Std 0.8546\n",
      "RMSE by fold 0.628189. Std 0.0134\n",
      "Final RMSE over 50: 0.620736. Std 0.8480\n",
      "RMSE by fold 0.620597. Std 0.0135\n",
      "Final RMSE over 50: 0.613913. Std 0.8373\n",
      "RMSE by fold 0.613805. Std 0.0121\n",
      "Final RMSE over 50: 0.639440. Std 0.8632\n",
      "RMSE by fold 0.639288. Std 0.0144\n",
      "Final RMSE over 50: 0.621547. Std 0.8463\n",
      "RMSE by fold 0.621473. Std 0.0100\n",
      "Final RMSE over 50: 0.631819. Std 0.8513\n",
      "RMSE by fold 0.631706. Std 0.0125\n",
      "Final RMSE over 50: 0.692108. Std 0.5191\n",
      "RMSE by fold 0.692088. Std 0.0058\n",
      "Final RMSE over 50: 0.629267. Std 0.8482\n",
      "RMSE by fold 0.629159. Std 0.0121\n",
      "Final RMSE over 50: 0.636609. Std 0.8580\n",
      "RMSE by fold 0.636517. Std 0.0113\n",
      "Final RMSE over 50: 0.620181. Std 0.8411\n",
      "RMSE by fold 0.620040. Std 0.0136\n",
      "Final RMSE over 50: 0.625199. Std 0.8483\n",
      "RMSE by fold 0.625093. Std 0.0120\n",
      "Final RMSE over 50: 0.619980. Std 0.8433\n",
      "RMSE by fold 0.619885. Std 0.0113\n",
      "Final RMSE over 50: 0.636476. Std 0.8619\n",
      "RMSE by fold 0.636362. Std 0.0124\n",
      "Final RMSE over 50: 0.628227. Std 0.8483\n",
      "RMSE by fold 0.628141. Std 0.0109\n",
      "Final RMSE over 50: 0.617941. Std 0.8465\n",
      "RMSE by fold 0.617858. Std 0.0105\n",
      "Final RMSE over 50: 0.623255. Std 0.8490\n",
      "RMSE by fold 0.623141. Std 0.0124\n",
      "Final RMSE over 50: 0.623938. Std 0.8322\n",
      "RMSE by fold 0.623823. Std 0.0125\n",
      "Final RMSE over 50: 0.619566. Std 0.8454\n",
      "RMSE by fold 0.619474. Std 0.0112\n",
      "Final RMSE over 50: 0.620808. Std 0.8439\n",
      "RMSE by fold 0.620676. Std 0.0132\n",
      "Final RMSE over 50: 0.628291. Std 0.8455\n",
      "RMSE by fold 0.628240. Std 0.0085\n",
      "Final RMSE over 50: 0.627468. Std 0.8541\n",
      "RMSE by fold 0.627328. Std 0.0137\n",
      "Final RMSE over 50: 0.625737. Std 0.8401\n",
      "RMSE by fold 0.625624. Std 0.0124\n",
      "Final RMSE over 50: 0.610052. Std 0.8189\n",
      "RMSE by fold 0.609972. Std 0.0103\n",
      "Final RMSE over 50: 0.635743. Std 0.6821\n",
      "RMSE by fold 0.635694. Std 0.0083\n",
      "Final RMSE over 50: 0.626690. Std 0.8521\n",
      "RMSE by fold 0.626597. Std 0.0113\n",
      "Final RMSE over 50: 0.613877. Std 0.8431\n",
      "RMSE by fold 0.613761. Std 0.0124\n",
      "Final RMSE over 50: 0.642905. Std 0.8709\n",
      "RMSE by fold 0.642800. Std 0.0121\n",
      "Final RMSE over 50: 0.623413. Std 0.8517\n",
      "RMSE by fold 0.623307. Std 0.0120\n",
      "Final RMSE over 50: 0.628441. Std 0.8496\n",
      "RMSE by fold 0.628333. Std 0.0121\n",
      "Final RMSE over 50: 0.628581. Std 0.8475\n",
      "RMSE by fold 0.628498. Std 0.0108\n",
      "Final RMSE over 50: 0.634474. Std 0.8560\n",
      "RMSE by fold 0.634358. Std 0.0126\n",
      "Final RMSE over 50: 0.627150. Std 0.8516\n",
      "RMSE by fold 0.627015. Std 0.0135\n",
      "Final RMSE over 50: 0.632830. Std 0.8571\n",
      "RMSE by fold 0.632700. Std 0.0133\n",
      "Final RMSE over 50: 0.634793. Std 0.8609\n",
      "RMSE by fold 0.634683. Std 0.0122\n",
      "Final RMSE over 50: 0.631710. Std 0.8590\n",
      "RMSE by fold 0.631619. Std 0.0113\n",
      "Final RMSE over 50: 0.630952. Std 0.8573\n",
      "RMSE by fold 0.630816. Std 0.0135\n",
      "Final RMSE over 50: 0.635481. Std 0.8573\n",
      "RMSE by fold 0.635388. Std 0.0114\n",
      "Final RMSE over 50: 0.626984. Std 0.8427\n",
      "RMSE by fold 0.626830. Std 0.0144\n",
      "Final RMSE over 50: 0.616344. Std 0.8457\n",
      "RMSE by fold 0.616240. Std 0.0117\n",
      "Final RMSE over 50: 0.615030. Std 0.8030\n",
      "RMSE by fold 0.614931. Std 0.0115\n",
      "Final RMSE over 50: 0.623836. Std 0.8513\n",
      "RMSE by fold 0.623760. Std 0.0102\n",
      "Final RMSE over 50: 0.632986. Std 0.8546\n",
      "RMSE by fold 0.632885. Std 0.0117\n",
      "Final RMSE over 50: 0.629095. Std 0.8527\n",
      "RMSE by fold 0.628969. Std 0.0131\n",
      "Final RMSE over 50: 0.615920. Std 0.8436\n",
      "RMSE by fold 0.615778. Std 0.0137\n",
      "Final RMSE over 50: 0.630693. Std 0.8571\n",
      "RMSE by fold 0.630576. Std 0.0126\n",
      "Final RMSE over 50: 0.615441. Std 0.7975\n",
      "RMSE by fold 0.615335. Std 0.0119\n",
      "Final RMSE over 50: 0.627356. Std 0.8522\n",
      "RMSE by fold 0.627262. Std 0.0112\n",
      "Final RMSE over 50: 0.631983. Std 0.8614\n",
      "RMSE by fold 0.631863. Std 0.0128\n",
      "Final RMSE over 50: 0.628024. Std 0.8489\n",
      "RMSE by fold 0.627910. Std 0.0124\n",
      "Final RMSE over 50: 0.635209. Std 0.8595\n",
      "RMSE by fold 0.635111. Std 0.0117\n",
      "Final RMSE over 50: 0.634755. Std 0.8571\n",
      "RMSE by fold 0.634649. Std 0.0120\n",
      "Final RMSE over 50: 0.618831. Std 0.7404\n",
      "RMSE by fold 0.618782. Std 0.0082\n",
      "Final RMSE over 50: 0.621506. Std 0.8490\n",
      "RMSE by fold 0.621424. Std 0.0105\n",
      "Final RMSE over 50: 0.616054. Std 0.8432\n",
      "RMSE by fold 0.615954. Std 0.0115\n",
      "Final RMSE over 50: 0.633337. Std 0.8577\n",
      "RMSE by fold 0.633175. Std 0.0148\n",
      "Final RMSE over 50: 0.621425. Std 0.8491\n",
      "RMSE by fold 0.621345. Std 0.0104\n",
      "Final RMSE over 50: 0.635001. Std 0.8558\n",
      "RMSE by fold 0.634872. Std 0.0134\n",
      "Final RMSE over 50: 0.629914. Std 0.8588\n",
      "RMSE by fold 0.629794. Std 0.0127\n",
      "Final RMSE over 50: 0.621605. Std 0.8512\n",
      "RMSE by fold 0.621536. Std 0.0097\n",
      "Final RMSE over 50: 0.611383. Std 0.8295\n",
      "RMSE by fold 0.611264. Std 0.0125\n",
      "Final RMSE over 50: 0.635513. Std 0.8580\n",
      "RMSE by fold 0.635381. Std 0.0134\n",
      "Final RMSE over 50: 0.628633. Std 0.8521\n",
      "RMSE by fold 0.628522. Std 0.0122\n",
      "Final RMSE over 50: 0.625789. Std 0.8586\n",
      "RMSE by fold 0.625676. Std 0.0122\n",
      "Final RMSE over 50: 0.630408. Std 0.8484\n",
      "RMSE by fold 0.630328. Std 0.0105\n",
      "Final RMSE over 50: 0.615143. Std 0.8434\n",
      "RMSE by fold 0.615034. Std 0.0121\n",
      "Final RMSE over 50: 0.630846. Std 0.8547\n",
      "RMSE by fold 0.630719. Std 0.0132\n",
      "Final RMSE over 50: 0.615072. Std 0.8448\n",
      "RMSE by fold 0.614967. Std 0.0117\n",
      "Final RMSE over 50: 0.634930. Std 0.8552\n",
      "RMSE by fold 0.634811. Std 0.0127\n",
      "Final RMSE over 50: 0.631709. Std 0.8562\n",
      "RMSE by fold 0.631596. Std 0.0125\n",
      "Final RMSE over 50: 0.634207. Std 0.8595\n",
      "RMSE by fold 0.634092. Std 0.0124\n",
      "Final RMSE over 50: 0.621271. Std 0.8493\n",
      "RMSE by fold 0.621170. Std 0.0116\n",
      "Final RMSE over 50: 0.628012. Std 0.8559\n",
      "RMSE by fold 0.627888. Std 0.0130\n",
      "Final RMSE over 50: 0.635123. Std 0.8661\n",
      "RMSE by fold 0.635043. Std 0.0105\n",
      "Final RMSE over 50: 0.631458. Std 0.8554\n",
      "RMSE by fold 0.631357. Std 0.0118\n",
      "Final RMSE over 50: 0.631410. Std 0.8560\n",
      "RMSE by fold 0.631317. Std 0.0113\n",
      "Final RMSE over 50: 0.630777. Std 0.8454\n",
      "RMSE by fold 0.630653. Std 0.0129\n",
      "Final RMSE over 50: 0.632280. Std 0.8596\n",
      "RMSE by fold 0.632174. Std 0.0120\n",
      "Final RMSE over 50: 0.622495. Std 0.8408\n",
      "RMSE by fold 0.622385. Std 0.0122\n",
      "Final RMSE over 50: 0.621665. Std 0.8439\n",
      "RMSE by fold 0.621563. Std 0.0118\n",
      "Final RMSE over 50: 0.629684. Std 0.8552\n",
      "RMSE by fold 0.629537. Std 0.0140\n",
      "Final RMSE over 50: 0.624908. Std 0.8510\n",
      "RMSE by fold 0.624798. Std 0.0121\n",
      "Final RMSE over 50: 0.614962. Std 0.8413\n",
      "RMSE by fold 0.614829. Std 0.0132\n",
      "Final RMSE over 50: 0.634947. Std 0.8569\n",
      "RMSE by fold 0.634842. Std 0.0119\n",
      "Final RMSE over 50: 0.620466. Std 0.8427\n",
      "RMSE by fold 0.620353. Std 0.0124\n",
      "Final RMSE over 50: 0.623582. Std 0.8478\n",
      "RMSE by fold 0.623459. Std 0.0129\n",
      "Final RMSE over 50: 0.620211. Std 0.8504\n",
      "RMSE by fold 0.620155. Std 0.0088\n",
      "Final RMSE over 50: 0.633197. Std 0.8567\n",
      "RMSE by fold 0.633095. Std 0.0118\n",
      "Final RMSE over 50: 0.631387. Std 0.8578\n",
      "RMSE by fold 0.631289. Std 0.0116\n",
      "Final RMSE over 50: 0.617524. Std 0.8352\n",
      "RMSE by fold 0.617410. Std 0.0124\n",
      "Final RMSE over 50: 0.632966. Std 0.8560\n",
      "RMSE by fold 0.632851. Std 0.0126\n",
      "Final RMSE over 50: 0.626009. Std 0.8395\n",
      "RMSE by fold 0.625909. Std 0.0116\n",
      "Final RMSE over 50: 0.631627. Std 0.8455\n",
      "RMSE by fold 0.631553. Std 0.0099\n",
      "Final RMSE over 50: 0.625219. Std 0.8519\n",
      "RMSE by fold 0.625101. Std 0.0126\n",
      "Final RMSE over 50: 0.638443. Std 0.8425\n",
      "RMSE by fold 0.638370. Std 0.0102\n",
      "Final RMSE over 50: 0.623885. Std 0.8441\n",
      "RMSE by fold 0.623772. Std 0.0123\n",
      "Final RMSE over 50: 0.626885. Std 0.8508\n",
      "RMSE by fold 0.626812. Std 0.0100\n",
      "Final RMSE over 50: 0.617254. Std 0.8449\n",
      "RMSE by fold 0.617126. Std 0.0130\n",
      "Final RMSE over 50: 0.610355. Std 0.8295\n",
      "RMSE by fold 0.610260. Std 0.0112\n",
      "Final RMSE over 50: 0.609518. Std 0.7948\n",
      "RMSE by fold 0.609443. Std 0.0100\n",
      "Final RMSE over 50: 0.621167. Std 0.8495\n",
      "RMSE by fold 0.621035. Std 0.0133\n",
      "Final RMSE over 50: 0.619858. Std 0.8458\n",
      "RMSE by fold 0.619757. Std 0.0116\n",
      "Final RMSE over 50: 0.629395. Std 0.8367\n",
      "RMSE by fold 0.629269. Std 0.0132\n",
      "Final RMSE over 50: 0.618986. Std 0.8412\n",
      "RMSE by fold 0.618922. Std 0.0095\n",
      "Final RMSE over 50: 0.619841. Std 0.8500\n",
      "RMSE by fold 0.619720. Std 0.0126\n",
      "Final RMSE over 50: 0.624393. Std 0.8521\n",
      "RMSE by fold 0.624260. Std 0.0134\n",
      "Final RMSE over 50: 0.621701. Std 0.8388\n",
      "RMSE by fold 0.621621. Std 0.0105\n",
      "Final RMSE over 50: 0.618747. Std 0.8489\n",
      "RMSE by fold 0.618648. Std 0.0115\n",
      "Final RMSE over 50: 0.649683. Std 0.6356\n",
      "RMSE by fold 0.649636. Std 0.0082\n",
      "Final RMSE over 50: 0.634834. Std 0.8369\n",
      "RMSE by fold 0.634719. Std 0.0126\n",
      "Final RMSE over 50: 0.611492. Std 0.8332\n",
      "RMSE by fold 0.611383. Std 0.0120\n",
      "Final RMSE over 50: 0.619718. Std 0.8463\n",
      "RMSE by fold 0.619607. Std 0.0123\n",
      "Final RMSE over 50: 0.636140. Std 0.8589\n",
      "RMSE by fold 0.636000. Std 0.0137\n",
      "Final RMSE over 50: 0.612312. Std 0.8064\n",
      "RMSE by fold 0.612229. Std 0.0105\n",
      "Final RMSE over 50: 0.619330. Std 0.8418\n",
      "RMSE by fold 0.619257. Std 0.0098\n",
      "Final RMSE over 50: 0.626733. Std 0.8519\n",
      "RMSE by fold 0.626616. Std 0.0125\n",
      "Final RMSE over 50: 0.616192. Std 0.7679\n",
      "RMSE by fold 0.616119. Std 0.0099\n",
      "Final RMSE over 50: 0.635830. Std 0.8583\n",
      "RMSE by fold 0.635718. Std 0.0124\n",
      "Final RMSE over 50: 0.632564. Std 0.8524\n",
      "RMSE by fold 0.632459. Std 0.0121\n",
      "Final RMSE over 50: 0.629794. Std 0.8592\n",
      "RMSE by fold 0.629672. Std 0.0129\n",
      "Final RMSE over 50: 0.619791. Std 0.8466\n",
      "RMSE by fold 0.619690. Std 0.0115\n",
      "Final RMSE over 50: 0.617022. Std 0.8388\n",
      "RMSE by fold 0.616905. Std 0.0124\n",
      "Final RMSE over 50: 0.624852. Std 0.8522\n",
      "RMSE by fold 0.624739. Std 0.0123\n",
      "Final RMSE over 50: 0.622961. Std 0.8519\n",
      "RMSE by fold 0.622828. Std 0.0133\n",
      "Final RMSE over 50: 0.613786. Std 0.8329\n",
      "RMSE by fold 0.613691. Std 0.0112\n",
      "Final RMSE over 50: 0.620843. Std 0.8437\n",
      "RMSE by fold 0.620752. Std 0.0110\n",
      "Final RMSE over 50: 0.630555. Std 0.8576\n",
      "RMSE by fold 0.630442. Std 0.0123\n",
      "Final RMSE over 50: 0.634240. Std 0.8577\n",
      "RMSE by fold 0.634103. Std 0.0136\n",
      "Final RMSE over 50: 0.637488. Std 0.8617\n",
      "RMSE by fold 0.637355. Std 0.0135\n",
      "Final RMSE over 50: 0.627456. Std 0.8518\n",
      "RMSE by fold 0.627336. Std 0.0127\n",
      "Final RMSE over 50: 0.613896. Std 0.8384\n",
      "RMSE by fold 0.613803. Std 0.0111\n",
      "Final RMSE over 50: 0.636965. Std 0.8567\n",
      "RMSE by fold 0.636868. Std 0.0114\n",
      "Final RMSE over 50: 0.620416. Std 0.8463\n",
      "RMSE by fold 0.620318. Std 0.0115\n",
      "Final RMSE over 50: 0.636760. Std 0.8464\n",
      "RMSE by fold 0.636648. Std 0.0124\n",
      "Final RMSE over 50: 0.628187. Std 0.8540\n",
      "RMSE by fold 0.628092. Std 0.0114\n",
      "Final RMSE over 50: 0.631064. Std 0.8500\n",
      "RMSE by fold 0.630923. Std 0.0137\n",
      "Final RMSE over 50: 0.636221. Std 0.8614\n",
      "RMSE by fold 0.636094. Std 0.0132\n",
      "Final RMSE over 50: 0.639591. Std 0.8676\n",
      "RMSE by fold 0.639495. Std 0.0115\n",
      "Final RMSE over 50: 0.623342. Std 0.8533\n",
      "RMSE by fold 0.623205. Std 0.0136\n",
      "Final RMSE over 50: 0.612708. Std 0.7900\n",
      "RMSE by fold 0.612621. Std 0.0107\n",
      "Final RMSE over 50: 0.629067. Std 0.8557\n",
      "RMSE by fold 0.628997. Std 0.0098\n",
      "Final RMSE over 50: 0.625509. Std 0.8549\n",
      "RMSE by fold 0.625389. Std 0.0127\n",
      "Final RMSE over 50: 0.628496. Std 0.8546\n",
      "RMSE by fold 0.628401. Std 0.0115\n",
      "Final RMSE over 50: 0.620215. Std 0.8428\n",
      "RMSE by fold 0.620072. Std 0.0138\n",
      "Final RMSE over 50: 0.634652. Std 0.8585\n",
      "RMSE by fold 0.634536. Std 0.0125\n",
      "Final RMSE over 50: 0.619043. Std 0.8433\n",
      "RMSE by fold 0.618922. Std 0.0127\n",
      "Final RMSE over 50: 0.628233. Std 0.8549\n",
      "RMSE by fold 0.628115. Std 0.0126\n",
      "Final RMSE over 50: 0.618428. Std 0.8398\n",
      "RMSE by fold 0.618320. Std 0.0121\n",
      "Final RMSE over 50: 0.631429. Std 0.8552\n",
      "RMSE by fold 0.631359. Std 0.0097\n",
      "Final RMSE over 50: 0.615661. Std 0.8277\n",
      "RMSE by fold 0.615564. Std 0.0114\n",
      "Final RMSE over 50: 0.627067. Std 0.8533\n",
      "RMSE by fold 0.626997. Std 0.0099\n",
      "Final RMSE over 50: 0.612087. Std 0.8350\n",
      "RMSE by fold 0.611990. Std 0.0113\n",
      "Final RMSE over 50: 0.625784. Std 0.8550\n",
      "RMSE by fold 0.625683. Std 0.0117\n",
      "Final RMSE over 50: 0.619771. Std 0.8482\n",
      "RMSE by fold 0.619663. Std 0.0120\n",
      "Final RMSE over 50: 0.626548. Std 0.8469\n",
      "RMSE by fold 0.626450. Std 0.0116\n",
      "Final RMSE over 50: 0.638038. Std 0.8624\n",
      "RMSE by fold 0.637942. Std 0.0116\n",
      "Final RMSE over 50: 0.633837. Std 0.8573\n",
      "RMSE by fold 0.633735. Std 0.0118\n",
      "Final RMSE over 50: 0.618580. Std 0.8422\n",
      "RMSE by fold 0.618477. Std 0.0117\n",
      "Final RMSE over 50: 0.627676. Std 0.8153\n",
      "RMSE by fold 0.627565. Std 0.0122\n",
      "Final RMSE over 50: 0.627455. Std 0.8502\n",
      "RMSE by fold 0.627411. Std 0.0078\n",
      "Final RMSE over 50: 0.630888. Std 0.8448\n",
      "RMSE by fold 0.630788. Std 0.0118\n",
      "Final RMSE over 50: 0.631355. Std 0.8526\n",
      "RMSE by fold 0.631222. Std 0.0134\n",
      "Final RMSE over 50: 0.629807. Std 0.8537\n",
      "RMSE by fold 0.629697. Std 0.0121\n",
      "Final RMSE over 50: 0.630134. Std 0.8538\n",
      "RMSE by fold 0.630031. Std 0.0119\n",
      "Final RMSE over 50: 0.622496. Std 0.8446\n",
      "RMSE by fold 0.622400. Std 0.0114\n",
      "Final RMSE over 50: 0.624256. Std 0.8530\n",
      "RMSE by fold 0.624176. Std 0.0104\n",
      "Final RMSE over 50: 0.618625. Std 0.8419\n",
      "RMSE by fold 0.618505. Std 0.0126\n",
      "Final RMSE over 50: 0.633524. Std 0.8522\n",
      "RMSE by fold 0.633423. Std 0.0119\n",
      "Final RMSE over 50: 0.623949. Std 0.8465\n",
      "RMSE by fold 0.623803. Std 0.0140\n",
      "Final RMSE over 50: 0.622667. Std 0.8434\n",
      "RMSE by fold 0.622581. Std 0.0108\n",
      "Final RMSE over 50: 0.626658. Std 0.8432\n",
      "RMSE by fold 0.626525. Std 0.0134\n",
      "Final RMSE over 50: 0.631858. Std 0.8606\n",
      "RMSE by fold 0.631776. Std 0.0107\n",
      "Final RMSE over 50: 0.612530. Std 0.8331\n",
      "RMSE by fold 0.612448. Std 0.0104\n",
      "Final RMSE over 50: 0.620976. Std 0.8457\n",
      "RMSE by fold 0.620910. Std 0.0096\n",
      "Final RMSE over 50: 0.632287. Std 0.8558\n",
      "RMSE by fold 0.632177. Std 0.0123\n",
      "Final RMSE over 50: 0.632879. Std 0.8372\n",
      "RMSE by fold 0.632773. Std 0.0121\n",
      "Final RMSE over 50: 0.635062. Std 0.8560\n",
      "RMSE by fold 0.634950. Std 0.0123\n",
      "Final RMSE over 50: 0.625824. Std 0.8501\n",
      "RMSE by fold 0.625706. Std 0.0126\n",
      "Final RMSE over 50: 0.618292. Std 0.8412\n",
      "RMSE by fold 0.618173. Std 0.0126\n",
      "Final RMSE over 50: 0.630037. Std 0.8545\n",
      "RMSE by fold 0.629956. Std 0.0104\n",
      "Final RMSE over 50: 0.623249. Std 0.8494\n",
      "RMSE by fold 0.623157. Std 0.0111\n",
      "Final RMSE over 50: 0.633150. Std 0.8594\n",
      "RMSE by fold 0.633024. Std 0.0132\n",
      "Final RMSE over 50: 0.631434. Std 0.8502\n",
      "RMSE by fold 0.631301. Std 0.0135\n",
      "Final RMSE over 50: 0.624018. Std 0.8514\n",
      "RMSE by fold 0.623910. Std 0.0121\n",
      "Final RMSE over 50: 0.643039. Std 0.8683\n",
      "RMSE by fold 0.642983. Std 0.0090\n",
      "Final RMSE over 50: 0.613192. Std 0.7967\n",
      "RMSE by fold 0.613104. Std 0.0108\n",
      "Final RMSE over 50: 0.631761. Std 0.8492\n",
      "RMSE by fold 0.631699. Std 0.0094\n",
      "Final RMSE over 50: 0.629081. Std 0.8553\n",
      "RMSE by fold 0.628955. Std 0.0131\n",
      "Final RMSE over 50: 0.616189. Std 0.7533\n",
      "RMSE by fold 0.616125. Std 0.0094\n",
      "Final RMSE over 50: 0.618323. Std 0.8466\n",
      "RMSE by fold 0.618220. Std 0.0117\n",
      "Final RMSE over 50: 0.628641. Std 0.8534\n",
      "RMSE by fold 0.628522. Std 0.0127\n",
      "Final RMSE over 50: 0.623728. Std 0.8489\n",
      "RMSE by fold 0.623627. Std 0.0117\n",
      "Final RMSE over 50: 0.611325. Std 0.8369\n",
      "RMSE by fold 0.611204. Std 0.0126\n",
      "Final RMSE over 50: 0.609495. Std 0.8248\n",
      "RMSE by fold 0.609402. Std 0.0111\n",
      "Final RMSE over 50: 0.624352. Std 0.8405\n",
      "RMSE by fold 0.624224. Std 0.0132\n",
      "Final RMSE over 50: 0.626778. Std 0.8332\n",
      "RMSE by fold 0.626683. Std 0.0113\n",
      "Final RMSE over 50: 0.619383. Std 0.8400\n",
      "RMSE by fold 0.619278. Std 0.0118\n",
      "Final RMSE over 50: 0.624032. Std 0.8458\n",
      "RMSE by fold 0.623942. Std 0.0111\n",
      "Final RMSE over 50: 0.615564. Std 0.8392\n",
      "RMSE by fold 0.615434. Std 0.0131\n",
      "Final RMSE over 50: 0.625007. Std 0.8540\n",
      "RMSE by fold 0.624927. Std 0.0103\n",
      "Final RMSE over 50: 0.613611. Std 0.8355\n",
      "RMSE by fold 0.613528. Std 0.0105\n",
      "Final RMSE over 50: 0.617713. Std 0.8449\n",
      "RMSE by fold 0.617620. Std 0.0112\n",
      "Final RMSE over 50: 0.635049. Std 0.8633\n",
      "RMSE by fold 0.634877. Std 0.0151\n",
      "Final RMSE over 50: 0.636186. Std 0.8619\n",
      "RMSE by fold 0.636071. Std 0.0125\n",
      "Final RMSE over 50: 0.636113. Std 0.8563\n",
      "RMSE by fold 0.635966. Std 0.0141\n",
      "Final RMSE over 50: 0.625670. Std 0.8530\n",
      "RMSE by fold 0.625550. Std 0.0127\n",
      "Final RMSE over 50: 0.621155. Std 0.8456\n",
      "RMSE by fold 0.621054. Std 0.0116\n",
      "Final RMSE over 50: 0.626885. Std 0.8516\n",
      "RMSE by fold 0.626810. Std 0.0101\n",
      "Final RMSE over 50: 0.620220. Std 0.8460\n",
      "RMSE by fold 0.620081. Std 0.0136\n",
      "Final RMSE over 50: 0.619013. Std 0.8415\n",
      "RMSE by fold 0.618909. Std 0.0118\n",
      "Final RMSE over 50: 0.632013. Std 0.8515\n",
      "RMSE by fold 0.631891. Std 0.0127\n",
      "Final RMSE over 50: 0.617368. Std 0.8382\n",
      "RMSE by fold 0.617277. Std 0.0111\n",
      "Final RMSE over 50: 0.613525. Std 0.8294\n",
      "RMSE by fold 0.613435. Std 0.0111\n",
      "Final RMSE over 50: 0.622654. Std 0.8534\n",
      "RMSE by fold 0.622548. Std 0.0120\n",
      "Final RMSE over 50: 0.617877. Std 0.8431\n",
      "RMSE by fold 0.617780. Std 0.0115\n",
      "Final RMSE over 50: 0.629320. Std 0.8511\n",
      "RMSE by fold 0.629201. Std 0.0126\n",
      "Final RMSE over 50: 0.636550. Std 0.8488\n",
      "RMSE by fold 0.636376. Std 0.0153\n",
      "Final RMSE over 50: 0.620033. Std 0.8485\n",
      "RMSE by fold 0.619912. Std 0.0127\n",
      "Final RMSE over 50: 0.624249. Std 0.8497\n",
      "RMSE by fold 0.624135. Std 0.0124\n",
      "Final RMSE over 50: 0.629635. Std 0.8567\n",
      "RMSE by fold 0.629511. Std 0.0129\n",
      "Final RMSE over 50: 0.615428. Std 0.8408\n",
      "RMSE by fold 0.615326. Std 0.0116\n",
      "Final RMSE over 50: 0.622115. Std 0.8507\n",
      "RMSE by fold 0.622032. Std 0.0107\n",
      "Final RMSE over 50: 0.622395. Std 0.8499\n",
      "RMSE by fold 0.622278. Std 0.0125\n",
      "Final RMSE over 50: 0.617109. Std 0.8436\n",
      "RMSE by fold 0.617003. Std 0.0119\n",
      "Final RMSE over 50: 0.621167. Std 0.8477\n",
      "RMSE by fold 0.621022. Std 0.0139\n",
      "Final RMSE over 50: 0.632707. Std 0.8530\n",
      "RMSE by fold 0.632592. Std 0.0125\n",
      "Final RMSE over 50: 0.635522. Std 0.8601\n",
      "RMSE by fold 0.635395. Std 0.0132\n",
      "Final RMSE over 50: 0.621203. Std 0.8418\n",
      "RMSE by fold 0.621109. Std 0.0112\n",
      "Final RMSE over 50: 0.606774. Std 0.8255\n",
      "RMSE by fold 0.606675. Std 0.0114\n",
      "New best RMSE: 0.606774\n",
      "Final RMSE over 50: 0.608102. Std 0.8167\n",
      "RMSE by fold 0.608013. Std 0.0108\n",
      "Final RMSE over 50: 0.635118. Std 0.8580\n",
      "RMSE by fold 0.634985. Std 0.0134\n",
      "Final RMSE over 50: 0.628790. Std 0.8551\n",
      "RMSE by fold 0.628670. Std 0.0127\n",
      "Final RMSE over 50: 0.623693. Std 0.8499\n",
      "RMSE by fold 0.623580. Std 0.0124\n",
      "Final RMSE over 50: 0.640644. Std 0.8686\n",
      "RMSE by fold 0.640552. Std 0.0113\n",
      "Final RMSE over 50: 0.625355. Std 0.8473\n",
      "RMSE by fold 0.625277. Std 0.0103\n",
      "Best RMSE: 0.606774\n",
      "Best Parameters: {'boosting_type': 'gbdt', 'class_weight': None, 'colsample_bytree': 1.0, 'importance_type': 'split', 'learning_rate': 0.018080752207108693, 'max_depth': 14, 'min_child_samples': 46, 'min_child_weight': 0.001, 'min_split_gain': 0.0, 'n_estimators': 365, 'n_jobs': None, 'num_leaves': 17, 'objective': None, 'random_state': 46, 'reg_alpha': 0.4945760890439367, 'reg_lambda': 0.7163808137669221, 'subsample': 1.0, 'subsample_for_bin': 200000, 'subsample_freq': 0, 'verbose': -1}\n"
     ]
    },
    {
     "data": {
      "text/html": [
       "<div>\n",
       "<style scoped>\n",
       "    .dataframe tbody tr th:only-of-type {\n",
       "        vertical-align: middle;\n",
       "    }\n",
       "\n",
       "    .dataframe tbody tr th {\n",
       "        vertical-align: top;\n",
       "    }\n",
       "\n",
       "    .dataframe thead th {\n",
       "        text-align: right;\n",
       "    }\n",
       "</style>\n",
       "<table border=\"1\" class=\"dataframe\">\n",
       "  <thead>\n",
       "    <tr style=\"text-align: right;\">\n",
       "      <th></th>\n",
       "      <th>rmse</th>\n",
       "      <th>params</th>\n",
       "    </tr>\n",
       "  </thead>\n",
       "  <tbody>\n",
       "    <tr>\n",
       "      <th>0</th>\n",
       "      <td>0.606774</td>\n",
       "      <td>{'boosting_type': 'gbdt', 'class_weight': None...</td>\n",
       "    </tr>\n",
       "    <tr>\n",
       "      <th>0</th>\n",
       "      <td>0.607675</td>\n",
       "      <td>{'boosting_type': 'gbdt', 'class_weight': None...</td>\n",
       "    </tr>\n",
       "    <tr>\n",
       "      <th>0</th>\n",
       "      <td>0.607804</td>\n",
       "      <td>{'boosting_type': 'gbdt', 'class_weight': None...</td>\n",
       "    </tr>\n",
       "    <tr>\n",
       "      <th>0</th>\n",
       "      <td>0.608009</td>\n",
       "      <td>{'boosting_type': 'gbdt', 'class_weight': None...</td>\n",
       "    </tr>\n",
       "    <tr>\n",
       "      <th>0</th>\n",
       "      <td>0.608102</td>\n",
       "      <td>{'boosting_type': 'gbdt', 'class_weight': None...</td>\n",
       "    </tr>\n",
       "    <tr>\n",
       "      <th>...</th>\n",
       "      <td>...</td>\n",
       "      <td>...</td>\n",
       "    </tr>\n",
       "    <tr>\n",
       "      <th>0</th>\n",
       "      <td>0.672374</td>\n",
       "      <td>{'boosting_type': 'gbdt', 'class_weight': None...</td>\n",
       "    </tr>\n",
       "    <tr>\n",
       "      <th>0</th>\n",
       "      <td>0.685607</td>\n",
       "      <td>{'boosting_type': 'gbdt', 'class_weight': None...</td>\n",
       "    </tr>\n",
       "    <tr>\n",
       "      <th>0</th>\n",
       "      <td>0.692108</td>\n",
       "      <td>{'boosting_type': 'gbdt', 'class_weight': None...</td>\n",
       "    </tr>\n",
       "    <tr>\n",
       "      <th>0</th>\n",
       "      <td>0.708315</td>\n",
       "      <td>{'boosting_type': 'gbdt', 'class_weight': None...</td>\n",
       "    </tr>\n",
       "    <tr>\n",
       "      <th>0</th>\n",
       "      <td>0.747376</td>\n",
       "      <td>{'boosting_type': 'gbdt', 'class_weight': None...</td>\n",
       "    </tr>\n",
       "  </tbody>\n",
       "</table>\n",
       "<p>1000 rows × 2 columns</p>\n",
       "</div>"
      ],
      "text/plain": [
       "        rmse                                             params\n",
       "0   0.606774  {'boosting_type': 'gbdt', 'class_weight': None...\n",
       "0   0.607675  {'boosting_type': 'gbdt', 'class_weight': None...\n",
       "0   0.607804  {'boosting_type': 'gbdt', 'class_weight': None...\n",
       "0   0.608009  {'boosting_type': 'gbdt', 'class_weight': None...\n",
       "0   0.608102  {'boosting_type': 'gbdt', 'class_weight': None...\n",
       "..       ...                                                ...\n",
       "0   0.672374  {'boosting_type': 'gbdt', 'class_weight': None...\n",
       "0   0.685607  {'boosting_type': 'gbdt', 'class_weight': None...\n",
       "0   0.692108  {'boosting_type': 'gbdt', 'class_weight': None...\n",
       "0   0.708315  {'boosting_type': 'gbdt', 'class_weight': None...\n",
       "0   0.747376  {'boosting_type': 'gbdt', 'class_weight': None...\n",
       "\n",
       "[1000 rows x 2 columns]"
      ]
     },
     "execution_count": 5,
     "metadata": {},
     "output_type": "execute_result"
    }
   ],
   "source": [
    "import numpy as np\n",
    "import lightgbm as lgb\n",
    "from sklearn.metrics import mean_squared_error\n",
    "from sklearn.model_selection import StratifiedKFold\n",
    "import random\n",
    "\n",
    "def random_param_search(train_feats, test_feats, n_iterations):\n",
    "    # Define parameter ranges\n",
    "    param_ranges = {\n",
    "        'boosting_type': ['gbdt'],\n",
    "        'num_leaves': (15, 150),  # Range for num_leaves\n",
    "        'learning_rate': (0.005, 0.2),  # Range for learning_rate\n",
    "        'max_depth': (5, 20),  # Range for max_depth\n",
    "        'min_child_samples': (5, 50),  # Range for min_child_samples\n",
    "        'reg_alpha': (0, 1),  # Range for L1 regularization\n",
    "        'reg_lambda': (0, 1),  # Range for L2 regularization\n",
    "        'n_estimators': (100, 500),  \n",
    "    }\n",
    "\n",
    "    best_rmse = float(\"inf\")\n",
    "    best_params = None\n",
    "    test_predictions_df = pd.DataFrame()\n",
    "\n",
    "    for _ in range(n_iterations):\n",
    "\n",
    "        # Sampling parameters from ranges\n",
    "        params = {\n",
    "            'boosting_type': random.choice(param_ranges['boosting_type']),\n",
    "            'num_leaves': random.randint(*param_ranges['num_leaves']),\n",
    "            'learning_rate': random.uniform(*param_ranges['learning_rate']),\n",
    "            'max_depth': random.randint(*param_ranges['max_depth']),\n",
    "            'min_child_samples': random.randint(*param_ranges['min_child_samples']),\n",
    "            'reg_alpha': random.uniform(*param_ranges['reg_alpha']),\n",
    "            'reg_lambda': random.uniform(*param_ranges['reg_lambda']),\n",
    "            'n_estimators': random.randint(*param_ranges['n_estimators']),\n",
    "            'verbose': -1\n",
    "        }\n",
    "        \n",
    "        # Train and evaluate model\n",
    "        _, _, rmse, model = lgb_pipeline(train_feats, test_feats, params)\n",
    "                                        \n",
    "        new_iter = {'rmse': [rmse],\n",
    "                    'params': str(model.get_params())}\n",
    "\n",
    "        test_predictions_df = pd.concat([test_predictions_df, pd.DataFrame(data=new_iter)])\n",
    "        # Update best parameters if current model is better\n",
    "        if rmse < best_rmse:\n",
    "            print(f\"New best RMSE: {rmse:.6f}\")\n",
    "            best_rmse = rmse\n",
    "            best_params = model.get_params()\n",
    "    \n",
    "    print(f\"Best RMSE: {best_rmse:.6f}\")\n",
    "    print(\"Best Parameters:\", best_params)\n",
    "    return test_predictions_df\n",
    "\n",
    "# Example usage\n",
    "test_predictions_df = random_param_search(train_feats, test_feats, 1000)\n",
    "test_predictions_df.sort_values('rmse', ascending=True)"
   ]
  },
  {
   "cell_type": "code",
   "execution_count": null,
   "metadata": {},
   "outputs": [],
   "source": []
  },
  {
   "cell_type": "code",
   "execution_count": 3,
   "metadata": {},
   "outputs": [
    {
     "name": "stderr",
     "output_type": "stream",
     "text": [
      "Iterations:   0%|          | 0/5 [00:00<?, ?it/s]"
     ]
    },
    {
     "name": "stderr",
     "output_type": "stream",
     "text": [
      "/root/miniconda3/envs/lrp/lib/python3.10/site-packages/xgboost/core.py:160: UserWarning: [01:11:24] WARNING: /workspace/src/common/error_msg.cc:58: Falling back to prediction using DMatrix due to mismatched devices. This might lead to higher memory usage and slower performance. XGBoost is running on: cuda:0, while the input data is on: cpu.\n",
      "Potential solutions:\n",
      "- Use a data structure that matches the device ordinal in the booster.\n",
      "- Set the device for booster before call to inplace_predict.\n",
      "\n",
      "This warning will only be shown once.\n",
      "\n",
      "  warnings.warn(smsg, UserWarning)\n",
      "Iterations: 100%|██████████| 5/5 [01:00<00:00, 12.13s/it]\n"
     ]
    },
    {
     "name": "stdout",
     "output_type": "stream",
     "text": [
      "XGB Average RMSE over 50 folds: 0.605564\n",
      "New best RMSE: 0.605564\n"
     ]
    },
    {
     "name": "stderr",
     "output_type": "stream",
     "text": [
      "Iterations: 100%|██████████| 5/5 [00:45<00:00,  9.04s/it]\n"
     ]
    },
    {
     "name": "stdout",
     "output_type": "stream",
     "text": [
      "XGB Average RMSE over 50 folds: 0.610621\n"
     ]
    },
    {
     "name": "stderr",
     "output_type": "stream",
     "text": [
      "Iterations: 100%|██████████| 5/5 [00:51<00:00, 10.31s/it]\n"
     ]
    },
    {
     "name": "stdout",
     "output_type": "stream",
     "text": [
      "XGB Average RMSE over 50 folds: 0.605486\n",
      "New best RMSE: 0.605486\n"
     ]
    },
    {
     "name": "stderr",
     "output_type": "stream",
     "text": [
      "Iterations: 100%|██████████| 5/5 [01:30<00:00, 18.09s/it]\n"
     ]
    },
    {
     "name": "stdout",
     "output_type": "stream",
     "text": [
      "XGB Average RMSE over 50 folds: 0.612971\n"
     ]
    },
    {
     "name": "stderr",
     "output_type": "stream",
     "text": [
      "Iterations: 100%|██████████| 5/5 [00:54<00:00, 10.86s/it]\n"
     ]
    },
    {
     "name": "stdout",
     "output_type": "stream",
     "text": [
      "XGB Average RMSE over 50 folds: 0.605313\n",
      "New best RMSE: 0.605313\n"
     ]
    },
    {
     "name": "stderr",
     "output_type": "stream",
     "text": [
      "Iterations: 100%|██████████| 5/5 [01:37<00:00, 19.50s/it]\n"
     ]
    },
    {
     "name": "stdout",
     "output_type": "stream",
     "text": [
      "XGB Average RMSE over 50 folds: 0.610075\n"
     ]
    },
    {
     "name": "stderr",
     "output_type": "stream",
     "text": [
      "Iterations: 100%|██████████| 5/5 [01:28<00:00, 17.75s/it]\n"
     ]
    },
    {
     "name": "stdout",
     "output_type": "stream",
     "text": [
      "XGB Average RMSE over 50 folds: 0.619221\n"
     ]
    },
    {
     "name": "stderr",
     "output_type": "stream",
     "text": [
      "Iterations: 100%|██████████| 5/5 [01:16<00:00, 15.35s/it]\n"
     ]
    },
    {
     "name": "stdout",
     "output_type": "stream",
     "text": [
      "XGB Average RMSE over 50 folds: 0.618875\n"
     ]
    },
    {
     "name": "stderr",
     "output_type": "stream",
     "text": [
      "Iterations: 100%|██████████| 5/5 [01:03<00:00, 12.67s/it]\n"
     ]
    },
    {
     "name": "stdout",
     "output_type": "stream",
     "text": [
      "XGB Average RMSE over 50 folds: 0.608810\n"
     ]
    },
    {
     "name": "stderr",
     "output_type": "stream",
     "text": [
      "Iterations: 100%|██████████| 5/5 [02:51<00:00, 34.25s/it]\n"
     ]
    },
    {
     "name": "stdout",
     "output_type": "stream",
     "text": [
      "XGB Average RMSE over 50 folds: 0.612845\n"
     ]
    },
    {
     "name": "stderr",
     "output_type": "stream",
     "text": [
      "Iterations: 100%|██████████| 5/5 [00:45<00:00,  9.12s/it]\n"
     ]
    },
    {
     "name": "stdout",
     "output_type": "stream",
     "text": [
      "XGB Average RMSE over 50 folds: 0.603630\n",
      "New best RMSE: 0.603630\n"
     ]
    },
    {
     "name": "stderr",
     "output_type": "stream",
     "text": [
      "Iterations: 100%|██████████| 5/5 [01:22<00:00, 16.57s/it]\n"
     ]
    },
    {
     "name": "stdout",
     "output_type": "stream",
     "text": [
      "XGB Average RMSE over 50 folds: 0.617918\n"
     ]
    },
    {
     "name": "stderr",
     "output_type": "stream",
     "text": [
      "Iterations: 100%|██████████| 5/5 [01:20<00:00, 16.04s/it]\n"
     ]
    },
    {
     "name": "stdout",
     "output_type": "stream",
     "text": [
      "XGB Average RMSE over 50 folds: 0.612510\n"
     ]
    },
    {
     "name": "stderr",
     "output_type": "stream",
     "text": [
      "Iterations: 100%|██████████| 5/5 [01:33<00:00, 18.71s/it]\n"
     ]
    },
    {
     "name": "stdout",
     "output_type": "stream",
     "text": [
      "XGB Average RMSE over 50 folds: 0.620184\n"
     ]
    },
    {
     "name": "stderr",
     "output_type": "stream",
     "text": [
      "Iterations: 100%|██████████| 5/5 [02:44<00:00, 32.86s/it]\n"
     ]
    },
    {
     "name": "stdout",
     "output_type": "stream",
     "text": [
      "XGB Average RMSE over 50 folds: 0.645800\n"
     ]
    },
    {
     "name": "stderr",
     "output_type": "stream",
     "text": [
      "Iterations: 100%|██████████| 5/5 [01:16<00:00, 15.33s/it]\n"
     ]
    },
    {
     "name": "stdout",
     "output_type": "stream",
     "text": [
      "XGB Average RMSE over 50 folds: 0.612408\n"
     ]
    },
    {
     "name": "stderr",
     "output_type": "stream",
     "text": [
      "Iterations: 100%|██████████| 5/5 [01:11<00:00, 14.33s/it]\n"
     ]
    },
    {
     "name": "stdout",
     "output_type": "stream",
     "text": [
      "XGB Average RMSE over 50 folds: 0.616080\n"
     ]
    },
    {
     "name": "stderr",
     "output_type": "stream",
     "text": [
      "Iterations: 100%|██████████| 5/5 [01:52<00:00, 22.55s/it]\n"
     ]
    },
    {
     "name": "stdout",
     "output_type": "stream",
     "text": [
      "XGB Average RMSE over 50 folds: 0.613226\n"
     ]
    },
    {
     "name": "stderr",
     "output_type": "stream",
     "text": [
      "Iterations: 100%|██████████| 5/5 [01:28<00:00, 17.67s/it]\n"
     ]
    },
    {
     "name": "stdout",
     "output_type": "stream",
     "text": [
      "XGB Average RMSE over 50 folds: 0.622424\n"
     ]
    },
    {
     "name": "stderr",
     "output_type": "stream",
     "text": [
      "Iterations: 100%|██████████| 5/5 [01:28<00:00, 17.63s/it]\n"
     ]
    },
    {
     "name": "stdout",
     "output_type": "stream",
     "text": [
      "XGB Average RMSE over 50 folds: 0.608855\n"
     ]
    },
    {
     "name": "stderr",
     "output_type": "stream",
     "text": [
      "Iterations: 100%|██████████| 5/5 [00:58<00:00, 11.79s/it]\n"
     ]
    },
    {
     "name": "stdout",
     "output_type": "stream",
     "text": [
      "XGB Average RMSE over 50 folds: 0.611191\n"
     ]
    },
    {
     "name": "stderr",
     "output_type": "stream",
     "text": [
      "Iterations: 100%|██████████| 5/5 [00:42<00:00,  8.43s/it]\n"
     ]
    },
    {
     "name": "stdout",
     "output_type": "stream",
     "text": [
      "XGB Average RMSE over 50 folds: 0.603328\n",
      "New best RMSE: 0.603328\n"
     ]
    },
    {
     "name": "stderr",
     "output_type": "stream",
     "text": [
      "Iterations: 100%|██████████| 5/5 [00:57<00:00, 11.57s/it]\n"
     ]
    },
    {
     "name": "stdout",
     "output_type": "stream",
     "text": [
      "XGB Average RMSE over 50 folds: 0.609362\n"
     ]
    },
    {
     "name": "stderr",
     "output_type": "stream",
     "text": [
      "Iterations: 100%|██████████| 5/5 [01:18<00:00, 15.76s/it]\n"
     ]
    },
    {
     "name": "stdout",
     "output_type": "stream",
     "text": [
      "XGB Average RMSE over 50 folds: 0.616166\n"
     ]
    },
    {
     "name": "stderr",
     "output_type": "stream",
     "text": [
      "Iterations: 100%|██████████| 5/5 [00:37<00:00,  7.57s/it]\n"
     ]
    },
    {
     "name": "stdout",
     "output_type": "stream",
     "text": [
      "XGB Average RMSE over 50 folds: 0.604869\n"
     ]
    },
    {
     "name": "stderr",
     "output_type": "stream",
     "text": [
      "Iterations: 100%|██████████| 5/5 [01:02<00:00, 12.57s/it]\n"
     ]
    },
    {
     "name": "stdout",
     "output_type": "stream",
     "text": [
      "XGB Average RMSE over 50 folds: 0.611692\n"
     ]
    },
    {
     "name": "stderr",
     "output_type": "stream",
     "text": [
      "Iterations: 100%|██████████| 5/5 [01:33<00:00, 18.60s/it]\n"
     ]
    },
    {
     "name": "stdout",
     "output_type": "stream",
     "text": [
      "XGB Average RMSE over 50 folds: 0.611100\n"
     ]
    },
    {
     "name": "stderr",
     "output_type": "stream",
     "text": [
      "Iterations: 100%|██████████| 5/5 [00:54<00:00, 10.93s/it]\n"
     ]
    },
    {
     "name": "stdout",
     "output_type": "stream",
     "text": [
      "XGB Average RMSE over 50 folds: 0.608067\n"
     ]
    },
    {
     "name": "stderr",
     "output_type": "stream",
     "text": [
      "Iterations: 100%|██████████| 5/5 [02:19<00:00, 27.97s/it]\n"
     ]
    },
    {
     "name": "stdout",
     "output_type": "stream",
     "text": [
      "XGB Average RMSE over 50 folds: 0.616494\n"
     ]
    },
    {
     "name": "stderr",
     "output_type": "stream",
     "text": [
      "Iterations: 100%|██████████| 5/5 [02:57<00:00, 35.47s/it]\n"
     ]
    },
    {
     "name": "stdout",
     "output_type": "stream",
     "text": [
      "XGB Average RMSE over 50 folds: 0.619378\n"
     ]
    },
    {
     "name": "stderr",
     "output_type": "stream",
     "text": [
      "Iterations: 100%|██████████| 5/5 [01:05<00:00, 13.02s/it]\n"
     ]
    },
    {
     "name": "stdout",
     "output_type": "stream",
     "text": [
      "XGB Average RMSE over 50 folds: 0.621241\n"
     ]
    },
    {
     "name": "stderr",
     "output_type": "stream",
     "text": [
      "Iterations: 100%|██████████| 5/5 [01:45<00:00, 21.05s/it]\n"
     ]
    },
    {
     "name": "stdout",
     "output_type": "stream",
     "text": [
      "XGB Average RMSE over 50 folds: 0.623581\n"
     ]
    },
    {
     "name": "stderr",
     "output_type": "stream",
     "text": [
      "Iterations: 100%|██████████| 5/5 [01:04<00:00, 12.99s/it]\n"
     ]
    },
    {
     "name": "stdout",
     "output_type": "stream",
     "text": [
      "XGB Average RMSE over 50 folds: 0.612695\n"
     ]
    },
    {
     "name": "stderr",
     "output_type": "stream",
     "text": [
      "Iterations: 100%|██████████| 5/5 [01:20<00:00, 16.08s/it]\n"
     ]
    },
    {
     "name": "stdout",
     "output_type": "stream",
     "text": [
      "XGB Average RMSE over 50 folds: 0.611618\n"
     ]
    },
    {
     "name": "stderr",
     "output_type": "stream",
     "text": [
      "Iterations: 100%|██████████| 5/5 [02:56<00:00, 35.25s/it]\n"
     ]
    },
    {
     "name": "stdout",
     "output_type": "stream",
     "text": [
      "XGB Average RMSE over 50 folds: 0.614337\n"
     ]
    },
    {
     "name": "stderr",
     "output_type": "stream",
     "text": [
      "Iterations: 100%|██████████| 5/5 [03:24<00:00, 40.99s/it]\n"
     ]
    },
    {
     "name": "stdout",
     "output_type": "stream",
     "text": [
      "XGB Average RMSE over 50 folds: 0.672339\n"
     ]
    },
    {
     "name": "stderr",
     "output_type": "stream",
     "text": [
      "Iterations: 100%|██████████| 5/5 [00:39<00:00,  7.81s/it]\n"
     ]
    },
    {
     "name": "stdout",
     "output_type": "stream",
     "text": [
      "XGB Average RMSE over 50 folds: 0.602931\n",
      "New best RMSE: 0.602931\n"
     ]
    },
    {
     "name": "stderr",
     "output_type": "stream",
     "text": [
      "Iterations: 100%|██████████| 5/5 [02:54<00:00, 34.96s/it]\n"
     ]
    },
    {
     "name": "stdout",
     "output_type": "stream",
     "text": [
      "XGB Average RMSE over 50 folds: 0.687628\n"
     ]
    },
    {
     "name": "stderr",
     "output_type": "stream",
     "text": [
      "Iterations: 100%|██████████| 5/5 [00:43<00:00,  8.60s/it]\n"
     ]
    },
    {
     "name": "stdout",
     "output_type": "stream",
     "text": [
      "XGB Average RMSE over 50 folds: 0.605205\n"
     ]
    },
    {
     "name": "stderr",
     "output_type": "stream",
     "text": [
      "Iterations: 100%|██████████| 5/5 [02:56<00:00, 35.27s/it]\n"
     ]
    },
    {
     "name": "stdout",
     "output_type": "stream",
     "text": [
      "XGB Average RMSE over 50 folds: 0.614738\n"
     ]
    },
    {
     "name": "stderr",
     "output_type": "stream",
     "text": [
      "Iterations: 100%|██████████| 5/5 [00:57<00:00, 11.60s/it]\n"
     ]
    },
    {
     "name": "stdout",
     "output_type": "stream",
     "text": [
      "XGB Average RMSE over 50 folds: 0.614015\n"
     ]
    },
    {
     "name": "stderr",
     "output_type": "stream",
     "text": [
      "Iterations: 100%|██████████| 5/5 [01:03<00:00, 12.67s/it]\n"
     ]
    },
    {
     "name": "stdout",
     "output_type": "stream",
     "text": [
      "XGB Average RMSE over 50 folds: 0.612775\n"
     ]
    },
    {
     "name": "stderr",
     "output_type": "stream",
     "text": [
      "Iterations: 100%|██████████| 5/5 [00:38<00:00,  7.64s/it]\n"
     ]
    },
    {
     "name": "stdout",
     "output_type": "stream",
     "text": [
      "XGB Average RMSE over 50 folds: 0.607422\n"
     ]
    },
    {
     "name": "stderr",
     "output_type": "stream",
     "text": [
      "Iterations: 100%|██████████| 5/5 [01:22<00:00, 16.41s/it]\n"
     ]
    },
    {
     "name": "stdout",
     "output_type": "stream",
     "text": [
      "XGB Average RMSE over 50 folds: 0.619087\n"
     ]
    },
    {
     "name": "stderr",
     "output_type": "stream",
     "text": [
      "Iterations: 100%|██████████| 5/5 [00:47<00:00,  9.42s/it]\n"
     ]
    },
    {
     "name": "stdout",
     "output_type": "stream",
     "text": [
      "XGB Average RMSE over 50 folds: 0.605926\n"
     ]
    },
    {
     "name": "stderr",
     "output_type": "stream",
     "text": [
      "Iterations: 100%|██████████| 5/5 [03:31<00:00, 42.34s/it]\n"
     ]
    },
    {
     "name": "stdout",
     "output_type": "stream",
     "text": [
      "XGB Average RMSE over 50 folds: 0.626375\n"
     ]
    },
    {
     "name": "stderr",
     "output_type": "stream",
     "text": [
      "Iterations: 100%|██████████| 5/5 [00:44<00:00,  8.94s/it]\n"
     ]
    },
    {
     "name": "stdout",
     "output_type": "stream",
     "text": [
      "XGB Average RMSE over 50 folds: 0.608128\n"
     ]
    },
    {
     "name": "stderr",
     "output_type": "stream",
     "text": [
      "Iterations: 100%|██████████| 5/5 [01:19<00:00, 15.99s/it]\n"
     ]
    },
    {
     "name": "stdout",
     "output_type": "stream",
     "text": [
      "XGB Average RMSE over 50 folds: 0.611909\n"
     ]
    },
    {
     "name": "stderr",
     "output_type": "stream",
     "text": [
      "Iterations: 100%|██████████| 5/5 [02:11<00:00, 26.33s/it]\n"
     ]
    },
    {
     "name": "stdout",
     "output_type": "stream",
     "text": [
      "XGB Average RMSE over 50 folds: 0.621540\n"
     ]
    },
    {
     "name": "stderr",
     "output_type": "stream",
     "text": [
      "Iterations: 100%|██████████| 5/5 [00:47<00:00,  9.48s/it]\n"
     ]
    },
    {
     "name": "stdout",
     "output_type": "stream",
     "text": [
      "XGB Average RMSE over 50 folds: 0.602219\n",
      "New best RMSE: 0.602219\n"
     ]
    },
    {
     "name": "stderr",
     "output_type": "stream",
     "text": [
      "Iterations: 100%|██████████| 5/5 [00:55<00:00, 11.05s/it]\n"
     ]
    },
    {
     "name": "stdout",
     "output_type": "stream",
     "text": [
      "XGB Average RMSE over 50 folds: 0.611983\n"
     ]
    },
    {
     "name": "stderr",
     "output_type": "stream",
     "text": [
      "Iterations: 100%|██████████| 5/5 [00:38<00:00,  7.76s/it]\n"
     ]
    },
    {
     "name": "stdout",
     "output_type": "stream",
     "text": [
      "XGB Average RMSE over 50 folds: 0.604099\n"
     ]
    },
    {
     "name": "stderr",
     "output_type": "stream",
     "text": [
      "Iterations: 100%|██████████| 5/5 [03:02<00:00, 36.57s/it]\n"
     ]
    },
    {
     "name": "stdout",
     "output_type": "stream",
     "text": [
      "XGB Average RMSE over 50 folds: 0.619466\n"
     ]
    },
    {
     "name": "stderr",
     "output_type": "stream",
     "text": [
      "Iterations: 100%|██████████| 5/5 [00:45<00:00,  9.14s/it]\n"
     ]
    },
    {
     "name": "stdout",
     "output_type": "stream",
     "text": [
      "XGB Average RMSE over 50 folds: 0.604509\n"
     ]
    },
    {
     "name": "stderr",
     "output_type": "stream",
     "text": [
      "Iterations: 100%|██████████| 5/5 [01:02<00:00, 12.48s/it]\n"
     ]
    },
    {
     "name": "stdout",
     "output_type": "stream",
     "text": [
      "XGB Average RMSE over 50 folds: 0.623252\n"
     ]
    },
    {
     "name": "stderr",
     "output_type": "stream",
     "text": [
      "Iterations: 100%|██████████| 5/5 [01:27<00:00, 17.42s/it]\n"
     ]
    },
    {
     "name": "stdout",
     "output_type": "stream",
     "text": [
      "XGB Average RMSE over 50 folds: 0.648172\n"
     ]
    },
    {
     "name": "stderr",
     "output_type": "stream",
     "text": [
      "Iterations: 100%|██████████| 5/5 [00:44<00:00,  8.96s/it]\n"
     ]
    },
    {
     "name": "stdout",
     "output_type": "stream",
     "text": [
      "XGB Average RMSE over 50 folds: 0.606275\n"
     ]
    },
    {
     "name": "stderr",
     "output_type": "stream",
     "text": [
      "Iterations: 100%|██████████| 5/5 [00:39<00:00,  7.90s/it]\n"
     ]
    },
    {
     "name": "stdout",
     "output_type": "stream",
     "text": [
      "XGB Average RMSE over 50 folds: 0.605757\n"
     ]
    },
    {
     "name": "stderr",
     "output_type": "stream",
     "text": [
      "Iterations: 100%|██████████| 5/5 [01:36<00:00, 19.40s/it]\n"
     ]
    },
    {
     "name": "stdout",
     "output_type": "stream",
     "text": [
      "XGB Average RMSE over 50 folds: 0.624323\n"
     ]
    },
    {
     "name": "stderr",
     "output_type": "stream",
     "text": [
      "Iterations: 100%|██████████| 5/5 [00:51<00:00, 10.27s/it]\n"
     ]
    },
    {
     "name": "stdout",
     "output_type": "stream",
     "text": [
      "XGB Average RMSE over 50 folds: 0.604337\n"
     ]
    },
    {
     "name": "stderr",
     "output_type": "stream",
     "text": [
      "Iterations: 100%|██████████| 5/5 [00:58<00:00, 11.61s/it]\n"
     ]
    },
    {
     "name": "stdout",
     "output_type": "stream",
     "text": [
      "XGB Average RMSE over 50 folds: 0.604617\n"
     ]
    },
    {
     "name": "stderr",
     "output_type": "stream",
     "text": [
      "Iterations: 100%|██████████| 5/5 [00:48<00:00,  9.70s/it]\n"
     ]
    },
    {
     "name": "stdout",
     "output_type": "stream",
     "text": [
      "XGB Average RMSE over 50 folds: 0.608722\n"
     ]
    },
    {
     "name": "stderr",
     "output_type": "stream",
     "text": [
      "Iterations: 100%|██████████| 5/5 [02:12<00:00, 26.52s/it]\n"
     ]
    },
    {
     "name": "stdout",
     "output_type": "stream",
     "text": [
      "XGB Average RMSE over 50 folds: 0.612600\n"
     ]
    },
    {
     "name": "stderr",
     "output_type": "stream",
     "text": [
      "Iterations: 100%|██████████| 5/5 [01:20<00:00, 16.08s/it]\n"
     ]
    },
    {
     "name": "stdout",
     "output_type": "stream",
     "text": [
      "XGB Average RMSE over 50 folds: 0.619844\n"
     ]
    },
    {
     "name": "stderr",
     "output_type": "stream",
     "text": [
      "Iterations: 100%|██████████| 5/5 [01:19<00:00, 15.92s/it]\n"
     ]
    },
    {
     "name": "stdout",
     "output_type": "stream",
     "text": [
      "XGB Average RMSE over 50 folds: 0.622219\n"
     ]
    },
    {
     "name": "stderr",
     "output_type": "stream",
     "text": [
      "Iterations: 100%|██████████| 5/5 [01:38<00:00, 19.77s/it]\n"
     ]
    },
    {
     "name": "stdout",
     "output_type": "stream",
     "text": [
      "XGB Average RMSE over 50 folds: 0.615788\n"
     ]
    },
    {
     "name": "stderr",
     "output_type": "stream",
     "text": [
      "Iterations: 100%|██████████| 5/5 [00:49<00:00,  9.82s/it]\n"
     ]
    },
    {
     "name": "stdout",
     "output_type": "stream",
     "text": [
      "XGB Average RMSE over 50 folds: 0.631110\n"
     ]
    },
    {
     "name": "stderr",
     "output_type": "stream",
     "text": [
      "Iterations: 100%|██████████| 5/5 [01:48<00:00, 21.64s/it]\n"
     ]
    },
    {
     "name": "stdout",
     "output_type": "stream",
     "text": [
      "XGB Average RMSE over 50 folds: 0.615501\n"
     ]
    },
    {
     "name": "stderr",
     "output_type": "stream",
     "text": [
      "Iterations: 100%|██████████| 5/5 [01:15<00:00, 15.18s/it]\n"
     ]
    },
    {
     "name": "stdout",
     "output_type": "stream",
     "text": [
      "XGB Average RMSE over 50 folds: 0.615805\n"
     ]
    },
    {
     "name": "stderr",
     "output_type": "stream",
     "text": [
      "Iterations: 100%|██████████| 5/5 [01:59<00:00, 23.83s/it]\n"
     ]
    },
    {
     "name": "stdout",
     "output_type": "stream",
     "text": [
      "XGB Average RMSE over 50 folds: 0.616042\n"
     ]
    },
    {
     "name": "stderr",
     "output_type": "stream",
     "text": [
      "Iterations: 100%|██████████| 5/5 [01:05<00:00, 13.15s/it]\n"
     ]
    },
    {
     "name": "stdout",
     "output_type": "stream",
     "text": [
      "XGB Average RMSE over 50 folds: 0.611490\n"
     ]
    },
    {
     "name": "stderr",
     "output_type": "stream",
     "text": [
      "Iterations: 100%|██████████| 5/5 [00:58<00:00, 11.64s/it]\n"
     ]
    },
    {
     "name": "stdout",
     "output_type": "stream",
     "text": [
      "XGB Average RMSE over 50 folds: 0.610049\n"
     ]
    },
    {
     "name": "stderr",
     "output_type": "stream",
     "text": [
      "Iterations: 100%|██████████| 5/5 [01:23<00:00, 16.64s/it]\n"
     ]
    },
    {
     "name": "stdout",
     "output_type": "stream",
     "text": [
      "XGB Average RMSE over 50 folds: 0.613018\n"
     ]
    },
    {
     "name": "stderr",
     "output_type": "stream",
     "text": [
      "Iterations: 100%|██████████| 5/5 [01:41<00:00, 20.28s/it]\n"
     ]
    },
    {
     "name": "stdout",
     "output_type": "stream",
     "text": [
      "XGB Average RMSE over 50 folds: 0.621874\n"
     ]
    },
    {
     "name": "stderr",
     "output_type": "stream",
     "text": [
      "Iterations: 100%|██████████| 5/5 [00:38<00:00,  7.73s/it]\n"
     ]
    },
    {
     "name": "stdout",
     "output_type": "stream",
     "text": [
      "XGB Average RMSE over 50 folds: 0.693797\n"
     ]
    },
    {
     "name": "stderr",
     "output_type": "stream",
     "text": [
      "Iterations: 100%|██████████| 5/5 [01:25<00:00, 17.19s/it]\n"
     ]
    },
    {
     "name": "stdout",
     "output_type": "stream",
     "text": [
      "XGB Average RMSE over 50 folds: 0.614468\n"
     ]
    },
    {
     "name": "stderr",
     "output_type": "stream",
     "text": [
      "Iterations: 100%|██████████| 5/5 [02:35<00:00, 31.06s/it]\n"
     ]
    },
    {
     "name": "stdout",
     "output_type": "stream",
     "text": [
      "XGB Average RMSE over 50 folds: 0.614848\n"
     ]
    },
    {
     "name": "stderr",
     "output_type": "stream",
     "text": [
      "Iterations: 100%|██████████| 5/5 [00:52<00:00, 10.60s/it]\n"
     ]
    },
    {
     "name": "stdout",
     "output_type": "stream",
     "text": [
      "XGB Average RMSE over 50 folds: 0.608611\n"
     ]
    },
    {
     "name": "stderr",
     "output_type": "stream",
     "text": [
      "Iterations: 100%|██████████| 5/5 [02:05<00:00, 25.03s/it]\n"
     ]
    },
    {
     "name": "stdout",
     "output_type": "stream",
     "text": [
      "XGB Average RMSE over 50 folds: 0.615038\n"
     ]
    },
    {
     "name": "stderr",
     "output_type": "stream",
     "text": [
      "Iterations: 100%|██████████| 5/5 [00:38<00:00,  7.66s/it]\n"
     ]
    },
    {
     "name": "stdout",
     "output_type": "stream",
     "text": [
      "XGB Average RMSE over 50 folds: 0.601441\n",
      "New best RMSE: 0.601441\n"
     ]
    },
    {
     "name": "stderr",
     "output_type": "stream",
     "text": [
      "Iterations: 100%|██████████| 5/5 [01:44<00:00, 20.96s/it]\n"
     ]
    },
    {
     "name": "stdout",
     "output_type": "stream",
     "text": [
      "XGB Average RMSE over 50 folds: 0.616935\n"
     ]
    },
    {
     "name": "stderr",
     "output_type": "stream",
     "text": [
      "Iterations: 100%|██████████| 5/5 [01:44<00:00, 20.95s/it]\n"
     ]
    },
    {
     "name": "stdout",
     "output_type": "stream",
     "text": [
      "XGB Average RMSE over 50 folds: 0.612590\n"
     ]
    },
    {
     "name": "stderr",
     "output_type": "stream",
     "text": [
      "Iterations: 100%|██████████| 5/5 [01:07<00:00, 13.41s/it]\n"
     ]
    },
    {
     "name": "stdout",
     "output_type": "stream",
     "text": [
      "XGB Average RMSE over 50 folds: 0.607614\n"
     ]
    },
    {
     "name": "stderr",
     "output_type": "stream",
     "text": [
      "Iterations: 100%|██████████| 5/5 [00:49<00:00,  9.93s/it]\n"
     ]
    },
    {
     "name": "stdout",
     "output_type": "stream",
     "text": [
      "XGB Average RMSE over 50 folds: 0.608653\n"
     ]
    },
    {
     "name": "stderr",
     "output_type": "stream",
     "text": [
      "Iterations: 100%|██████████| 5/5 [02:08<00:00, 25.69s/it]\n"
     ]
    },
    {
     "name": "stdout",
     "output_type": "stream",
     "text": [
      "XGB Average RMSE over 50 folds: 0.615726\n"
     ]
    },
    {
     "name": "stderr",
     "output_type": "stream",
     "text": [
      "Iterations: 100%|██████████| 5/5 [01:14<00:00, 14.91s/it]\n"
     ]
    },
    {
     "name": "stdout",
     "output_type": "stream",
     "text": [
      "XGB Average RMSE over 50 folds: 0.611852\n"
     ]
    },
    {
     "name": "stderr",
     "output_type": "stream",
     "text": [
      "Iterations: 100%|██████████| 5/5 [02:52<00:00, 34.54s/it]\n"
     ]
    },
    {
     "name": "stdout",
     "output_type": "stream",
     "text": [
      "XGB Average RMSE over 50 folds: 0.617397\n"
     ]
    },
    {
     "name": "stderr",
     "output_type": "stream",
     "text": [
      "Iterations: 100%|██████████| 5/5 [01:28<00:00, 17.79s/it]\n"
     ]
    },
    {
     "name": "stdout",
     "output_type": "stream",
     "text": [
      "XGB Average RMSE over 50 folds: 0.618290\n"
     ]
    },
    {
     "name": "stderr",
     "output_type": "stream",
     "text": [
      "Iterations: 100%|██████████| 5/5 [01:17<00:00, 15.59s/it]\n"
     ]
    },
    {
     "name": "stdout",
     "output_type": "stream",
     "text": [
      "XGB Average RMSE over 50 folds: 0.620350\n"
     ]
    },
    {
     "name": "stderr",
     "output_type": "stream",
     "text": [
      "Iterations: 100%|██████████| 5/5 [02:25<00:00, 29.02s/it]\n"
     ]
    },
    {
     "name": "stdout",
     "output_type": "stream",
     "text": [
      "XGB Average RMSE over 50 folds: 0.609768\n"
     ]
    },
    {
     "name": "stderr",
     "output_type": "stream",
     "text": [
      "Iterations: 100%|██████████| 5/5 [01:19<00:00, 15.97s/it]\n"
     ]
    },
    {
     "name": "stdout",
     "output_type": "stream",
     "text": [
      "XGB Average RMSE over 50 folds: 0.611869\n"
     ]
    },
    {
     "name": "stderr",
     "output_type": "stream",
     "text": [
      "Iterations: 100%|██████████| 5/5 [03:35<00:00, 43.19s/it]\n"
     ]
    },
    {
     "name": "stdout",
     "output_type": "stream",
     "text": [
      "XGB Average RMSE over 50 folds: 0.651729\n"
     ]
    },
    {
     "name": "stderr",
     "output_type": "stream",
     "text": [
      "Iterations: 100%|██████████| 5/5 [02:19<00:00, 27.81s/it]\n"
     ]
    },
    {
     "name": "stdout",
     "output_type": "stream",
     "text": [
      "XGB Average RMSE over 50 folds: 0.613138\n"
     ]
    },
    {
     "name": "stderr",
     "output_type": "stream",
     "text": [
      "Iterations: 100%|██████████| 5/5 [03:14<00:00, 38.97s/it]\n"
     ]
    },
    {
     "name": "stdout",
     "output_type": "stream",
     "text": [
      "XGB Average RMSE over 50 folds: 0.613891\n"
     ]
    },
    {
     "name": "stderr",
     "output_type": "stream",
     "text": [
      "Iterations: 100%|██████████| 5/5 [00:48<00:00,  9.70s/it]\n"
     ]
    },
    {
     "name": "stdout",
     "output_type": "stream",
     "text": [
      "XGB Average RMSE over 50 folds: 0.612216\n"
     ]
    },
    {
     "name": "stderr",
     "output_type": "stream",
     "text": [
      "Iterations: 100%|██████████| 5/5 [03:42<00:00, 44.52s/it]\n"
     ]
    },
    {
     "name": "stdout",
     "output_type": "stream",
     "text": [
      "XGB Average RMSE over 50 folds: 0.624728\n"
     ]
    },
    {
     "name": "stderr",
     "output_type": "stream",
     "text": [
      "Iterations: 100%|██████████| 5/5 [01:22<00:00, 16.45s/it]\n"
     ]
    },
    {
     "name": "stdout",
     "output_type": "stream",
     "text": [
      "XGB Average RMSE over 50 folds: 0.624284\n"
     ]
    },
    {
     "name": "stderr",
     "output_type": "stream",
     "text": [
      "Iterations: 100%|██████████| 5/5 [00:42<00:00,  8.57s/it]\n"
     ]
    },
    {
     "name": "stdout",
     "output_type": "stream",
     "text": [
      "XGB Average RMSE over 50 folds: 0.602347\n"
     ]
    },
    {
     "name": "stderr",
     "output_type": "stream",
     "text": [
      "Iterations: 100%|██████████| 5/5 [01:24<00:00, 16.94s/it]\n"
     ]
    },
    {
     "name": "stdout",
     "output_type": "stream",
     "text": [
      "XGB Average RMSE over 50 folds: 0.621382\n"
     ]
    },
    {
     "name": "stderr",
     "output_type": "stream",
     "text": [
      "Iterations: 100%|██████████| 5/5 [00:56<00:00, 11.39s/it]\n"
     ]
    },
    {
     "name": "stdout",
     "output_type": "stream",
     "text": [
      "XGB Average RMSE over 50 folds: 0.606185\n"
     ]
    },
    {
     "name": "stderr",
     "output_type": "stream",
     "text": [
      "Iterations: 100%|██████████| 5/5 [03:08<00:00, 37.62s/it]\n"
     ]
    },
    {
     "name": "stdout",
     "output_type": "stream",
     "text": [
      "XGB Average RMSE over 50 folds: 0.610657\n"
     ]
    },
    {
     "name": "stderr",
     "output_type": "stream",
     "text": [
      "Iterations: 100%|██████████| 5/5 [01:28<00:00, 17.73s/it]\n"
     ]
    },
    {
     "name": "stdout",
     "output_type": "stream",
     "text": [
      "XGB Average RMSE over 50 folds: 0.618935\n"
     ]
    },
    {
     "name": "stderr",
     "output_type": "stream",
     "text": [
      "Iterations: 100%|██████████| 5/5 [00:44<00:00,  8.81s/it]\n"
     ]
    },
    {
     "name": "stdout",
     "output_type": "stream",
     "text": [
      "XGB Average RMSE over 50 folds: 0.602334\n"
     ]
    },
    {
     "name": "stderr",
     "output_type": "stream",
     "text": [
      "Iterations: 100%|██████████| 5/5 [01:18<00:00, 15.76s/it]\n"
     ]
    },
    {
     "name": "stdout",
     "output_type": "stream",
     "text": [
      "XGB Average RMSE over 50 folds: 0.607870\n"
     ]
    },
    {
     "name": "stderr",
     "output_type": "stream",
     "text": [
      "Iterations: 100%|██████████| 5/5 [03:01<00:00, 36.28s/it]\n"
     ]
    },
    {
     "name": "stdout",
     "output_type": "stream",
     "text": [
      "XGB Average RMSE over 50 folds: 0.618007\n"
     ]
    },
    {
     "name": "stderr",
     "output_type": "stream",
     "text": [
      "Iterations: 100%|██████████| 5/5 [02:15<00:00, 27.20s/it]\n"
     ]
    },
    {
     "name": "stdout",
     "output_type": "stream",
     "text": [
      "XGB Average RMSE over 50 folds: 0.616499\n"
     ]
    },
    {
     "name": "stderr",
     "output_type": "stream",
     "text": [
      "Iterations: 100%|██████████| 5/5 [01:35<00:00, 19.13s/it]\n"
     ]
    },
    {
     "name": "stdout",
     "output_type": "stream",
     "text": [
      "XGB Average RMSE over 50 folds: 0.620958\n"
     ]
    },
    {
     "name": "stderr",
     "output_type": "stream",
     "text": [
      "Iterations: 100%|██████████| 5/5 [00:40<00:00,  8.15s/it]\n"
     ]
    },
    {
     "name": "stdout",
     "output_type": "stream",
     "text": [
      "XGB Average RMSE over 50 folds: 0.606169\n"
     ]
    },
    {
     "name": "stderr",
     "output_type": "stream",
     "text": [
      "Iterations: 100%|██████████| 5/5 [01:04<00:00, 12.90s/it]\n"
     ]
    },
    {
     "name": "stdout",
     "output_type": "stream",
     "text": [
      "XGB Average RMSE over 50 folds: 0.618281\n"
     ]
    },
    {
     "name": "stderr",
     "output_type": "stream",
     "text": [
      "Iterations: 100%|██████████| 5/5 [01:35<00:00, 19.15s/it]\n"
     ]
    },
    {
     "name": "stdout",
     "output_type": "stream",
     "text": [
      "XGB Average RMSE over 50 folds: 0.617007\n"
     ]
    },
    {
     "name": "stderr",
     "output_type": "stream",
     "text": [
      "Iterations: 100%|██████████| 5/5 [00:48<00:00,  9.72s/it]\n"
     ]
    },
    {
     "name": "stdout",
     "output_type": "stream",
     "text": [
      "XGB Average RMSE over 50 folds: 0.606778\n"
     ]
    },
    {
     "name": "stderr",
     "output_type": "stream",
     "text": [
      "Iterations: 100%|██████████| 5/5 [00:37<00:00,  7.55s/it]\n"
     ]
    },
    {
     "name": "stdout",
     "output_type": "stream",
     "text": [
      "XGB Average RMSE over 50 folds: 0.605427\n"
     ]
    },
    {
     "name": "stderr",
     "output_type": "stream",
     "text": [
      "Iterations: 100%|██████████| 5/5 [01:05<00:00, 13.18s/it]\n"
     ]
    },
    {
     "name": "stdout",
     "output_type": "stream",
     "text": [
      "XGB Average RMSE over 50 folds: 0.608339\n"
     ]
    },
    {
     "name": "stderr",
     "output_type": "stream",
     "text": [
      "Iterations: 100%|██████████| 5/5 [00:49<00:00,  9.95s/it]\n"
     ]
    },
    {
     "name": "stdout",
     "output_type": "stream",
     "text": [
      "XGB Average RMSE over 50 folds: 0.621479\n"
     ]
    },
    {
     "name": "stderr",
     "output_type": "stream",
     "text": [
      "Iterations: 100%|██████████| 5/5 [00:37<00:00,  7.57s/it]\n"
     ]
    },
    {
     "name": "stdout",
     "output_type": "stream",
     "text": [
      "XGB Average RMSE over 50 folds: 0.618422\n"
     ]
    },
    {
     "name": "stderr",
     "output_type": "stream",
     "text": [
      "Iterations: 100%|██████████| 5/5 [00:52<00:00, 10.41s/it]\n"
     ]
    },
    {
     "name": "stdout",
     "output_type": "stream",
     "text": [
      "XGB Average RMSE over 50 folds: 0.604752\n"
     ]
    },
    {
     "name": "stderr",
     "output_type": "stream",
     "text": [
      "Iterations: 100%|██████████| 5/5 [00:53<00:00, 10.77s/it]\n"
     ]
    },
    {
     "name": "stdout",
     "output_type": "stream",
     "text": [
      "XGB Average RMSE over 50 folds: 0.606115\n"
     ]
    },
    {
     "name": "stderr",
     "output_type": "stream",
     "text": [
      "Iterations: 100%|██████████| 5/5 [01:35<00:00, 19.20s/it]\n"
     ]
    },
    {
     "name": "stdout",
     "output_type": "stream",
     "text": [
      "XGB Average RMSE over 50 folds: 0.616544\n"
     ]
    },
    {
     "name": "stderr",
     "output_type": "stream",
     "text": [
      "Iterations: 100%|██████████| 5/5 [00:38<00:00,  7.65s/it]\n"
     ]
    },
    {
     "name": "stdout",
     "output_type": "stream",
     "text": [
      "XGB Average RMSE over 50 folds: 0.606527\n"
     ]
    },
    {
     "name": "stderr",
     "output_type": "stream",
     "text": [
      "Iterations: 100%|██████████| 5/5 [00:38<00:00,  7.70s/it]\n"
     ]
    },
    {
     "name": "stdout",
     "output_type": "stream",
     "text": [
      "XGB Average RMSE over 50 folds: 0.605891\n"
     ]
    },
    {
     "name": "stderr",
     "output_type": "stream",
     "text": [
      "Iterations: 100%|██████████| 5/5 [00:55<00:00, 11.07s/it]\n"
     ]
    },
    {
     "name": "stdout",
     "output_type": "stream",
     "text": [
      "XGB Average RMSE over 50 folds: 0.611694\n"
     ]
    },
    {
     "name": "stderr",
     "output_type": "stream",
     "text": [
      "Iterations: 100%|██████████| 5/5 [01:17<00:00, 15.49s/it]\n"
     ]
    },
    {
     "name": "stdout",
     "output_type": "stream",
     "text": [
      "XGB Average RMSE over 50 folds: 0.611035\n"
     ]
    },
    {
     "name": "stderr",
     "output_type": "stream",
     "text": [
      "Iterations: 100%|██████████| 5/5 [00:56<00:00, 11.27s/it]\n"
     ]
    },
    {
     "name": "stdout",
     "output_type": "stream",
     "text": [
      "XGB Average RMSE over 50 folds: 0.608902\n"
     ]
    },
    {
     "name": "stderr",
     "output_type": "stream",
     "text": [
      "Iterations: 100%|██████████| 5/5 [01:32<00:00, 18.42s/it]\n"
     ]
    },
    {
     "name": "stdout",
     "output_type": "stream",
     "text": [
      "XGB Average RMSE over 50 folds: 0.607971\n"
     ]
    },
    {
     "name": "stderr",
     "output_type": "stream",
     "text": [
      "Iterations: 100%|██████████| 5/5 [01:00<00:00, 12.11s/it]\n"
     ]
    },
    {
     "name": "stdout",
     "output_type": "stream",
     "text": [
      "XGB Average RMSE over 50 folds: 0.606537\n"
     ]
    },
    {
     "name": "stderr",
     "output_type": "stream",
     "text": [
      "Iterations: 100%|██████████| 5/5 [02:57<00:00, 35.54s/it]\n"
     ]
    },
    {
     "name": "stdout",
     "output_type": "stream",
     "text": [
      "XGB Average RMSE over 50 folds: 0.617601\n"
     ]
    },
    {
     "name": "stderr",
     "output_type": "stream",
     "text": [
      "Iterations: 100%|██████████| 5/5 [00:55<00:00, 11.05s/it]\n"
     ]
    },
    {
     "name": "stdout",
     "output_type": "stream",
     "text": [
      "XGB Average RMSE over 50 folds: 0.606900\n"
     ]
    },
    {
     "name": "stderr",
     "output_type": "stream",
     "text": [
      "Iterations: 100%|██████████| 5/5 [00:38<00:00,  7.67s/it]\n"
     ]
    },
    {
     "name": "stdout",
     "output_type": "stream",
     "text": [
      "XGB Average RMSE over 50 folds: 0.603950\n"
     ]
    },
    {
     "name": "stderr",
     "output_type": "stream",
     "text": [
      "Iterations: 100%|██████████| 5/5 [01:21<00:00, 16.28s/it]\n"
     ]
    },
    {
     "name": "stdout",
     "output_type": "stream",
     "text": [
      "XGB Average RMSE over 50 folds: 0.609966\n"
     ]
    },
    {
     "name": "stderr",
     "output_type": "stream",
     "text": [
      "Iterations: 100%|██████████| 5/5 [01:53<00:00, 22.77s/it]\n"
     ]
    },
    {
     "name": "stdout",
     "output_type": "stream",
     "text": [
      "XGB Average RMSE over 50 folds: 0.615084\n"
     ]
    },
    {
     "name": "stderr",
     "output_type": "stream",
     "text": [
      "Iterations: 100%|██████████| 5/5 [01:45<00:00, 21.11s/it]\n"
     ]
    },
    {
     "name": "stdout",
     "output_type": "stream",
     "text": [
      "XGB Average RMSE over 50 folds: 0.613027\n"
     ]
    },
    {
     "name": "stderr",
     "output_type": "stream",
     "text": [
      "Iterations: 100%|██████████| 5/5 [00:49<00:00,  9.94s/it]\n"
     ]
    },
    {
     "name": "stdout",
     "output_type": "stream",
     "text": [
      "XGB Average RMSE over 50 folds: 0.607877\n"
     ]
    },
    {
     "name": "stderr",
     "output_type": "stream",
     "text": [
      "Iterations: 100%|██████████| 5/5 [02:25<00:00, 29.13s/it]\n"
     ]
    },
    {
     "name": "stdout",
     "output_type": "stream",
     "text": [
      "XGB Average RMSE over 50 folds: 0.623353\n"
     ]
    },
    {
     "name": "stderr",
     "output_type": "stream",
     "text": [
      "Iterations: 100%|██████████| 5/5 [00:48<00:00,  9.61s/it]\n"
     ]
    },
    {
     "name": "stdout",
     "output_type": "stream",
     "text": [
      "XGB Average RMSE over 50 folds: 0.606663\n"
     ]
    },
    {
     "name": "stderr",
     "output_type": "stream",
     "text": [
      "Iterations: 100%|██████████| 5/5 [01:34<00:00, 19.00s/it]\n"
     ]
    },
    {
     "name": "stdout",
     "output_type": "stream",
     "text": [
      "XGB Average RMSE over 50 folds: 0.609585\n"
     ]
    },
    {
     "name": "stderr",
     "output_type": "stream",
     "text": [
      "Iterations: 100%|██████████| 5/5 [01:27<00:00, 17.53s/it]\n"
     ]
    },
    {
     "name": "stdout",
     "output_type": "stream",
     "text": [
      "XGB Average RMSE over 50 folds: 0.624976\n"
     ]
    },
    {
     "name": "stderr",
     "output_type": "stream",
     "text": [
      "Iterations: 100%|██████████| 5/5 [01:43<00:00, 20.77s/it]\n"
     ]
    },
    {
     "name": "stdout",
     "output_type": "stream",
     "text": [
      "XGB Average RMSE over 50 folds: 0.614712\n"
     ]
    },
    {
     "name": "stderr",
     "output_type": "stream",
     "text": [
      "Iterations: 100%|██████████| 5/5 [00:37<00:00,  7.56s/it]\n"
     ]
    },
    {
     "name": "stdout",
     "output_type": "stream",
     "text": [
      "XGB Average RMSE over 50 folds: 0.604158\n"
     ]
    },
    {
     "name": "stderr",
     "output_type": "stream",
     "text": [
      "Iterations: 100%|██████████| 5/5 [01:22<00:00, 16.42s/it]\n"
     ]
    },
    {
     "name": "stdout",
     "output_type": "stream",
     "text": [
      "XGB Average RMSE over 50 folds: 0.608943\n"
     ]
    },
    {
     "name": "stderr",
     "output_type": "stream",
     "text": [
      "Iterations: 100%|██████████| 5/5 [00:53<00:00, 10.80s/it]\n"
     ]
    },
    {
     "name": "stdout",
     "output_type": "stream",
     "text": [
      "XGB Average RMSE over 50 folds: 0.607342\n"
     ]
    },
    {
     "name": "stderr",
     "output_type": "stream",
     "text": [
      "Iterations: 100%|██████████| 5/5 [02:04<00:00, 24.83s/it]\n"
     ]
    },
    {
     "name": "stdout",
     "output_type": "stream",
     "text": [
      "XGB Average RMSE over 50 folds: 0.612797\n"
     ]
    },
    {
     "name": "stderr",
     "output_type": "stream",
     "text": [
      "Iterations: 100%|██████████| 5/5 [00:48<00:00,  9.75s/it]\n"
     ]
    },
    {
     "name": "stdout",
     "output_type": "stream",
     "text": [
      "XGB Average RMSE over 50 folds: 0.608015\n"
     ]
    },
    {
     "name": "stderr",
     "output_type": "stream",
     "text": [
      "Iterations: 100%|██████████| 5/5 [00:47<00:00,  9.58s/it]\n"
     ]
    },
    {
     "name": "stdout",
     "output_type": "stream",
     "text": [
      "XGB Average RMSE over 50 folds: 0.601994\n"
     ]
    },
    {
     "name": "stderr",
     "output_type": "stream",
     "text": [
      "Iterations: 100%|██████████| 5/5 [00:37<00:00,  7.57s/it]\n"
     ]
    },
    {
     "name": "stdout",
     "output_type": "stream",
     "text": [
      "XGB Average RMSE over 50 folds: 0.605774\n"
     ]
    },
    {
     "name": "stderr",
     "output_type": "stream",
     "text": [
      "Iterations: 100%|██████████| 5/5 [01:07<00:00, 13.49s/it]\n"
     ]
    },
    {
     "name": "stdout",
     "output_type": "stream",
     "text": [
      "XGB Average RMSE over 50 folds: 0.619432\n"
     ]
    },
    {
     "name": "stderr",
     "output_type": "stream",
     "text": [
      "Iterations: 100%|██████████| 5/5 [00:47<00:00,  9.57s/it]\n"
     ]
    },
    {
     "name": "stdout",
     "output_type": "stream",
     "text": [
      "XGB Average RMSE over 50 folds: 0.621815\n"
     ]
    },
    {
     "name": "stderr",
     "output_type": "stream",
     "text": [
      "Iterations: 100%|██████████| 5/5 [01:04<00:00, 12.87s/it]\n"
     ]
    },
    {
     "name": "stdout",
     "output_type": "stream",
     "text": [
      "XGB Average RMSE over 50 folds: 0.609377\n"
     ]
    },
    {
     "name": "stderr",
     "output_type": "stream",
     "text": [
      "Iterations: 100%|██████████| 5/5 [00:59<00:00, 11.90s/it]\n"
     ]
    },
    {
     "name": "stdout",
     "output_type": "stream",
     "text": [
      "XGB Average RMSE over 50 folds: 0.607610\n"
     ]
    },
    {
     "name": "stderr",
     "output_type": "stream",
     "text": [
      "Iterations: 100%|██████████| 5/5 [02:49<00:00, 33.99s/it]\n"
     ]
    },
    {
     "name": "stdout",
     "output_type": "stream",
     "text": [
      "XGB Average RMSE over 50 folds: 0.616041\n"
     ]
    },
    {
     "name": "stderr",
     "output_type": "stream",
     "text": [
      "Iterations: 100%|██████████| 5/5 [05:10<00:00, 62.07s/it]\n"
     ]
    },
    {
     "name": "stdout",
     "output_type": "stream",
     "text": [
      "XGB Average RMSE over 50 folds: 0.680841\n"
     ]
    },
    {
     "name": "stderr",
     "output_type": "stream",
     "text": [
      "Iterations: 100%|██████████| 5/5 [00:39<00:00,  7.82s/it]\n"
     ]
    },
    {
     "name": "stdout",
     "output_type": "stream",
     "text": [
      "XGB Average RMSE over 50 folds: 0.615086\n"
     ]
    },
    {
     "name": "stderr",
     "output_type": "stream",
     "text": [
      "Iterations: 100%|██████████| 5/5 [01:01<00:00, 12.38s/it]\n"
     ]
    },
    {
     "name": "stdout",
     "output_type": "stream",
     "text": [
      "XGB Average RMSE over 50 folds: 0.626191\n"
     ]
    },
    {
     "name": "stderr",
     "output_type": "stream",
     "text": [
      "Iterations: 100%|██████████| 5/5 [00:38<00:00,  7.71s/it]\n"
     ]
    },
    {
     "name": "stdout",
     "output_type": "stream",
     "text": [
      "XGB Average RMSE over 50 folds: 0.608770\n"
     ]
    },
    {
     "name": "stderr",
     "output_type": "stream",
     "text": [
      "Iterations: 100%|██████████| 5/5 [01:26<00:00, 17.29s/it]\n"
     ]
    },
    {
     "name": "stdout",
     "output_type": "stream",
     "text": [
      "XGB Average RMSE over 50 folds: 0.622381\n"
     ]
    },
    {
     "name": "stderr",
     "output_type": "stream",
     "text": [
      "Iterations: 100%|██████████| 5/5 [00:48<00:00,  9.78s/it]\n"
     ]
    },
    {
     "name": "stdout",
     "output_type": "stream",
     "text": [
      "XGB Average RMSE over 50 folds: 0.608860\n"
     ]
    },
    {
     "name": "stderr",
     "output_type": "stream",
     "text": [
      "Iterations: 100%|██████████| 5/5 [02:03<00:00, 24.77s/it]\n"
     ]
    },
    {
     "name": "stdout",
     "output_type": "stream",
     "text": [
      "XGB Average RMSE over 50 folds: 0.618169\n"
     ]
    },
    {
     "name": "stderr",
     "output_type": "stream",
     "text": [
      "Iterations: 100%|██████████| 5/5 [01:02<00:00, 12.45s/it]\n"
     ]
    },
    {
     "name": "stdout",
     "output_type": "stream",
     "text": [
      "XGB Average RMSE over 50 folds: 0.607302\n"
     ]
    },
    {
     "name": "stderr",
     "output_type": "stream",
     "text": [
      "Iterations: 100%|██████████| 5/5 [00:50<00:00, 10.14s/it]\n"
     ]
    },
    {
     "name": "stdout",
     "output_type": "stream",
     "text": [
      "XGB Average RMSE over 50 folds: 0.612369\n"
     ]
    },
    {
     "name": "stderr",
     "output_type": "stream",
     "text": [
      "Iterations: 100%|██████████| 5/5 [01:08<00:00, 13.69s/it]\n"
     ]
    },
    {
     "name": "stdout",
     "output_type": "stream",
     "text": [
      "XGB Average RMSE over 50 folds: 0.616656\n"
     ]
    },
    {
     "name": "stderr",
     "output_type": "stream",
     "text": [
      "Iterations: 100%|██████████| 5/5 [01:05<00:00, 13.08s/it]\n"
     ]
    },
    {
     "name": "stdout",
     "output_type": "stream",
     "text": [
      "XGB Average RMSE over 50 folds: 0.609096\n"
     ]
    },
    {
     "name": "stderr",
     "output_type": "stream",
     "text": [
      "Iterations: 100%|██████████| 5/5 [00:46<00:00,  9.28s/it]\n"
     ]
    },
    {
     "name": "stdout",
     "output_type": "stream",
     "text": [
      "XGB Average RMSE over 50 folds: 0.604248\n"
     ]
    },
    {
     "name": "stderr",
     "output_type": "stream",
     "text": [
      "Iterations: 100%|██████████| 5/5 [00:37<00:00,  7.59s/it]\n"
     ]
    },
    {
     "name": "stdout",
     "output_type": "stream",
     "text": [
      "XGB Average RMSE over 50 folds: 0.606342\n"
     ]
    },
    {
     "name": "stderr",
     "output_type": "stream",
     "text": [
      "Iterations: 100%|██████████| 5/5 [03:47<00:00, 45.56s/it]\n"
     ]
    },
    {
     "name": "stdout",
     "output_type": "stream",
     "text": [
      "XGB Average RMSE over 50 folds: 0.640234\n"
     ]
    },
    {
     "name": "stderr",
     "output_type": "stream",
     "text": [
      "Iterations: 100%|██████████| 5/5 [02:46<00:00, 33.31s/it]\n"
     ]
    },
    {
     "name": "stdout",
     "output_type": "stream",
     "text": [
      "XGB Average RMSE over 50 folds: 0.620970\n"
     ]
    },
    {
     "name": "stderr",
     "output_type": "stream",
     "text": [
      "Iterations: 100%|██████████| 5/5 [01:53<00:00, 22.74s/it]\n"
     ]
    },
    {
     "name": "stdout",
     "output_type": "stream",
     "text": [
      "XGB Average RMSE over 50 folds: 0.615304\n"
     ]
    },
    {
     "name": "stderr",
     "output_type": "stream",
     "text": [
      "Iterations: 100%|██████████| 5/5 [02:18<00:00, 27.68s/it]\n"
     ]
    },
    {
     "name": "stdout",
     "output_type": "stream",
     "text": [
      "XGB Average RMSE over 50 folds: 0.610998\n"
     ]
    },
    {
     "name": "stderr",
     "output_type": "stream",
     "text": [
      "Iterations: 100%|██████████| 5/5 [00:45<00:00,  9.00s/it]\n"
     ]
    },
    {
     "name": "stdout",
     "output_type": "stream",
     "text": [
      "XGB Average RMSE over 50 folds: 0.606287\n"
     ]
    },
    {
     "name": "stderr",
     "output_type": "stream",
     "text": [
      "Iterations: 100%|██████████| 5/5 [00:37<00:00,  7.60s/it]\n"
     ]
    },
    {
     "name": "stdout",
     "output_type": "stream",
     "text": [
      "XGB Average RMSE over 50 folds: 0.620045\n"
     ]
    },
    {
     "name": "stderr",
     "output_type": "stream",
     "text": [
      "Iterations: 100%|██████████| 5/5 [03:11<00:00, 38.32s/it]\n"
     ]
    },
    {
     "name": "stdout",
     "output_type": "stream",
     "text": [
      "XGB Average RMSE over 50 folds: 0.623162\n"
     ]
    },
    {
     "name": "stderr",
     "output_type": "stream",
     "text": [
      "Iterations: 100%|██████████| 5/5 [00:57<00:00, 11.47s/it]\n"
     ]
    },
    {
     "name": "stdout",
     "output_type": "stream",
     "text": [
      "XGB Average RMSE over 50 folds: 0.611440\n"
     ]
    },
    {
     "name": "stderr",
     "output_type": "stream",
     "text": [
      "Iterations: 100%|██████████| 5/5 [02:16<00:00, 27.25s/it]\n"
     ]
    },
    {
     "name": "stdout",
     "output_type": "stream",
     "text": [
      "XGB Average RMSE over 50 folds: 0.617228\n"
     ]
    },
    {
     "name": "stderr",
     "output_type": "stream",
     "text": [
      "Iterations: 100%|██████████| 5/5 [01:39<00:00, 19.99s/it]\n"
     ]
    },
    {
     "name": "stdout",
     "output_type": "stream",
     "text": [
      "XGB Average RMSE over 50 folds: 0.611785\n"
     ]
    },
    {
     "name": "stderr",
     "output_type": "stream",
     "text": [
      "Iterations: 100%|██████████| 5/5 [01:17<00:00, 15.52s/it]\n"
     ]
    },
    {
     "name": "stdout",
     "output_type": "stream",
     "text": [
      "XGB Average RMSE over 50 folds: 0.624776\n"
     ]
    },
    {
     "name": "stderr",
     "output_type": "stream",
     "text": [
      "Iterations: 100%|██████████| 5/5 [01:28<00:00, 17.61s/it]\n"
     ]
    },
    {
     "name": "stdout",
     "output_type": "stream",
     "text": [
      "XGB Average RMSE over 50 folds: 0.608497\n"
     ]
    },
    {
     "name": "stderr",
     "output_type": "stream",
     "text": [
      "Iterations: 100%|██████████| 5/5 [01:06<00:00, 13.22s/it]\n"
     ]
    },
    {
     "name": "stdout",
     "output_type": "stream",
     "text": [
      "XGB Average RMSE over 50 folds: 0.613152\n"
     ]
    },
    {
     "name": "stderr",
     "output_type": "stream",
     "text": [
      "Iterations: 100%|██████████| 5/5 [01:02<00:00, 12.46s/it]\n"
     ]
    },
    {
     "name": "stdout",
     "output_type": "stream",
     "text": [
      "XGB Average RMSE over 50 folds: 0.615610\n"
     ]
    },
    {
     "name": "stderr",
     "output_type": "stream",
     "text": [
      "Iterations: 100%|██████████| 5/5 [01:05<00:00, 13.12s/it]\n"
     ]
    },
    {
     "name": "stdout",
     "output_type": "stream",
     "text": [
      "XGB Average RMSE over 50 folds: 0.608277\n"
     ]
    },
    {
     "name": "stderr",
     "output_type": "stream",
     "text": [
      "Iterations: 100%|██████████| 5/5 [01:08<00:00, 13.61s/it]\n"
     ]
    },
    {
     "name": "stdout",
     "output_type": "stream",
     "text": [
      "XGB Average RMSE over 50 folds: 0.608409\n"
     ]
    },
    {
     "name": "stderr",
     "output_type": "stream",
     "text": [
      "Iterations: 100%|██████████| 5/5 [01:26<00:00, 17.39s/it]\n"
     ]
    },
    {
     "name": "stdout",
     "output_type": "stream",
     "text": [
      "XGB Average RMSE over 50 folds: 0.616819\n"
     ]
    },
    {
     "name": "stderr",
     "output_type": "stream",
     "text": [
      "Iterations: 100%|██████████| 5/5 [01:21<00:00, 16.40s/it]\n"
     ]
    },
    {
     "name": "stdout",
     "output_type": "stream",
     "text": [
      "XGB Average RMSE over 50 folds: 0.610499\n"
     ]
    },
    {
     "name": "stderr",
     "output_type": "stream",
     "text": [
      "Iterations: 100%|██████████| 5/5 [01:03<00:00, 12.79s/it]\n"
     ]
    },
    {
     "name": "stdout",
     "output_type": "stream",
     "text": [
      "XGB Average RMSE over 50 folds: 0.608872\n"
     ]
    },
    {
     "name": "stderr",
     "output_type": "stream",
     "text": [
      "Iterations: 100%|██████████| 5/5 [01:19<00:00, 15.90s/it]\n"
     ]
    },
    {
     "name": "stdout",
     "output_type": "stream",
     "text": [
      "XGB Average RMSE over 50 folds: 0.624838\n"
     ]
    },
    {
     "name": "stderr",
     "output_type": "stream",
     "text": [
      "Iterations: 100%|██████████| 5/5 [00:38<00:00,  7.60s/it]\n"
     ]
    },
    {
     "name": "stdout",
     "output_type": "stream",
     "text": [
      "XGB Average RMSE over 50 folds: 0.604347\n"
     ]
    },
    {
     "name": "stderr",
     "output_type": "stream",
     "text": [
      "Iterations: 100%|██████████| 5/5 [01:17<00:00, 15.42s/it]\n"
     ]
    },
    {
     "name": "stdout",
     "output_type": "stream",
     "text": [
      "XGB Average RMSE over 50 folds: 0.617303\n"
     ]
    },
    {
     "name": "stderr",
     "output_type": "stream",
     "text": [
      "Iterations: 100%|██████████| 5/5 [01:50<00:00, 22.08s/it]\n"
     ]
    },
    {
     "name": "stdout",
     "output_type": "stream",
     "text": [
      "XGB Average RMSE over 50 folds: 0.619053\n"
     ]
    },
    {
     "name": "stderr",
     "output_type": "stream",
     "text": [
      "Iterations: 100%|██████████| 5/5 [01:37<00:00, 19.49s/it]\n"
     ]
    },
    {
     "name": "stdout",
     "output_type": "stream",
     "text": [
      "XGB Average RMSE over 50 folds: 0.614907\n"
     ]
    },
    {
     "name": "stderr",
     "output_type": "stream",
     "text": [
      "Iterations: 100%|██████████| 5/5 [02:45<00:00, 33.16s/it]\n"
     ]
    },
    {
     "name": "stdout",
     "output_type": "stream",
     "text": [
      "XGB Average RMSE over 50 folds: 0.615528\n"
     ]
    },
    {
     "name": "stderr",
     "output_type": "stream",
     "text": [
      "Iterations: 100%|██████████| 5/5 [00:58<00:00, 11.76s/it]\n"
     ]
    },
    {
     "name": "stdout",
     "output_type": "stream",
     "text": [
      "XGB Average RMSE over 50 folds: 0.603148\n"
     ]
    },
    {
     "name": "stderr",
     "output_type": "stream",
     "text": [
      "Iterations: 100%|██████████| 5/5 [00:44<00:00,  8.94s/it]\n"
     ]
    },
    {
     "name": "stdout",
     "output_type": "stream",
     "text": [
      "XGB Average RMSE over 50 folds: 0.602685\n"
     ]
    },
    {
     "name": "stderr",
     "output_type": "stream",
     "text": [
      "Iterations: 100%|██████████| 5/5 [00:37<00:00,  7.60s/it]\n"
     ]
    },
    {
     "name": "stdout",
     "output_type": "stream",
     "text": [
      "XGB Average RMSE over 50 folds: 0.605268\n"
     ]
    },
    {
     "name": "stderr",
     "output_type": "stream",
     "text": [
      "Iterations: 100%|██████████| 5/5 [00:58<00:00, 11.72s/it]\n"
     ]
    },
    {
     "name": "stdout",
     "output_type": "stream",
     "text": [
      "XGB Average RMSE over 50 folds: 0.605635\n"
     ]
    },
    {
     "name": "stderr",
     "output_type": "stream",
     "text": [
      "Iterations: 100%|██████████| 5/5 [02:38<00:00, 31.80s/it]\n"
     ]
    },
    {
     "name": "stdout",
     "output_type": "stream",
     "text": [
      "XGB Average RMSE over 50 folds: 0.617795\n"
     ]
    },
    {
     "name": "stderr",
     "output_type": "stream",
     "text": [
      "Iterations: 100%|██████████| 5/5 [01:08<00:00, 13.71s/it]\n"
     ]
    },
    {
     "name": "stdout",
     "output_type": "stream",
     "text": [
      "XGB Average RMSE over 50 folds: 0.614998\n"
     ]
    },
    {
     "name": "stderr",
     "output_type": "stream",
     "text": [
      "Iterations: 100%|██████████| 5/5 [00:38<00:00,  7.74s/it]\n"
     ]
    },
    {
     "name": "stdout",
     "output_type": "stream",
     "text": [
      "XGB Average RMSE over 50 folds: 0.603546\n"
     ]
    },
    {
     "name": "stderr",
     "output_type": "stream",
     "text": [
      "Iterations: 100%|██████████| 5/5 [01:25<00:00, 17.15s/it]\n"
     ]
    },
    {
     "name": "stdout",
     "output_type": "stream",
     "text": [
      "XGB Average RMSE over 50 folds: 0.608576\n"
     ]
    },
    {
     "name": "stderr",
     "output_type": "stream",
     "text": [
      "Iterations: 100%|██████████| 5/5 [00:37<00:00,  7.55s/it]\n"
     ]
    },
    {
     "name": "stdout",
     "output_type": "stream",
     "text": [
      "XGB Average RMSE over 50 folds: 0.603547\n"
     ]
    },
    {
     "name": "stderr",
     "output_type": "stream",
     "text": [
      "Iterations: 100%|██████████| 5/5 [02:25<00:00, 29.06s/it]\n"
     ]
    },
    {
     "name": "stdout",
     "output_type": "stream",
     "text": [
      "XGB Average RMSE over 50 folds: 0.615327\n"
     ]
    },
    {
     "name": "stderr",
     "output_type": "stream",
     "text": [
      "Iterations: 100%|██████████| 5/5 [01:44<00:00, 20.84s/it]\n"
     ]
    },
    {
     "name": "stdout",
     "output_type": "stream",
     "text": [
      "XGB Average RMSE over 50 folds: 0.609995\n"
     ]
    },
    {
     "name": "stderr",
     "output_type": "stream",
     "text": [
      "Iterations: 100%|██████████| 5/5 [01:13<00:00, 14.61s/it]\n"
     ]
    },
    {
     "name": "stdout",
     "output_type": "stream",
     "text": [
      "XGB Average RMSE over 50 folds: 0.618744\n"
     ]
    },
    {
     "name": "stderr",
     "output_type": "stream",
     "text": [
      "Iterations: 100%|██████████| 5/5 [01:19<00:00, 15.92s/it]\n"
     ]
    },
    {
     "name": "stdout",
     "output_type": "stream",
     "text": [
      "XGB Average RMSE over 50 folds: 0.612907\n"
     ]
    },
    {
     "name": "stderr",
     "output_type": "stream",
     "text": [
      "Iterations: 100%|██████████| 5/5 [01:34<00:00, 18.89s/it]\n"
     ]
    },
    {
     "name": "stdout",
     "output_type": "stream",
     "text": [
      "XGB Average RMSE over 50 folds: 0.610384\n"
     ]
    },
    {
     "name": "stderr",
     "output_type": "stream",
     "text": [
      "Iterations: 100%|██████████| 5/5 [00:42<00:00,  8.58s/it]\n"
     ]
    },
    {
     "name": "stdout",
     "output_type": "stream",
     "text": [
      "XGB Average RMSE over 50 folds: 0.604196\n"
     ]
    },
    {
     "name": "stderr",
     "output_type": "stream",
     "text": [
      "Iterations: 100%|██████████| 5/5 [00:39<00:00,  7.92s/it]\n"
     ]
    },
    {
     "name": "stdout",
     "output_type": "stream",
     "text": [
      "XGB Average RMSE over 50 folds: 0.676479\n"
     ]
    },
    {
     "name": "stderr",
     "output_type": "stream",
     "text": [
      "Iterations: 100%|██████████| 5/5 [00:38<00:00,  7.68s/it]\n"
     ]
    },
    {
     "name": "stdout",
     "output_type": "stream",
     "text": [
      "XGB Average RMSE over 50 folds: 0.602538\n"
     ]
    },
    {
     "name": "stderr",
     "output_type": "stream",
     "text": [
      "Iterations: 100%|██████████| 5/5 [00:42<00:00,  8.52s/it]\n"
     ]
    },
    {
     "name": "stdout",
     "output_type": "stream",
     "text": [
      "XGB Average RMSE over 50 folds: 0.608096\n"
     ]
    },
    {
     "name": "stderr",
     "output_type": "stream",
     "text": [
      "Iterations: 100%|██████████| 5/5 [00:37<00:00,  7.54s/it]\n"
     ]
    },
    {
     "name": "stdout",
     "output_type": "stream",
     "text": [
      "XGB Average RMSE over 50 folds: 0.636743\n"
     ]
    },
    {
     "name": "stderr",
     "output_type": "stream",
     "text": [
      "Iterations: 100%|██████████| 5/5 [01:07<00:00, 13.41s/it]\n"
     ]
    },
    {
     "name": "stdout",
     "output_type": "stream",
     "text": [
      "XGB Average RMSE over 50 folds: 0.621147\n"
     ]
    },
    {
     "name": "stderr",
     "output_type": "stream",
     "text": [
      "Iterations: 100%|██████████| 5/5 [01:15<00:00, 15.13s/it]\n"
     ]
    },
    {
     "name": "stdout",
     "output_type": "stream",
     "text": [
      "XGB Average RMSE over 50 folds: 0.614843\n"
     ]
    },
    {
     "name": "stderr",
     "output_type": "stream",
     "text": [
      "Iterations: 100%|██████████| 5/5 [01:07<00:00, 13.47s/it]\n"
     ]
    },
    {
     "name": "stdout",
     "output_type": "stream",
     "text": [
      "XGB Average RMSE over 50 folds: 0.607341\n"
     ]
    },
    {
     "name": "stderr",
     "output_type": "stream",
     "text": [
      "Iterations: 100%|██████████| 5/5 [01:13<00:00, 14.75s/it]\n"
     ]
    },
    {
     "name": "stdout",
     "output_type": "stream",
     "text": [
      "XGB Average RMSE over 50 folds: 0.611727\n"
     ]
    },
    {
     "name": "stderr",
     "output_type": "stream",
     "text": [
      "Iterations: 100%|██████████| 5/5 [00:58<00:00, 11.67s/it]\n"
     ]
    },
    {
     "name": "stdout",
     "output_type": "stream",
     "text": [
      "XGB Average RMSE over 50 folds: 0.621811\n"
     ]
    },
    {
     "name": "stderr",
     "output_type": "stream",
     "text": [
      "Iterations: 100%|██████████| 5/5 [00:39<00:00,  7.87s/it]\n"
     ]
    },
    {
     "name": "stdout",
     "output_type": "stream",
     "text": [
      "XGB Average RMSE over 50 folds: 0.603541\n"
     ]
    },
    {
     "name": "stderr",
     "output_type": "stream",
     "text": [
      "Iterations: 100%|██████████| 5/5 [01:56<00:00, 23.39s/it]\n"
     ]
    },
    {
     "name": "stdout",
     "output_type": "stream",
     "text": [
      "XGB Average RMSE over 50 folds: 0.621238\n"
     ]
    },
    {
     "name": "stderr",
     "output_type": "stream",
     "text": [
      "Iterations: 100%|██████████| 5/5 [02:06<00:00, 25.23s/it]\n"
     ]
    },
    {
     "name": "stdout",
     "output_type": "stream",
     "text": [
      "XGB Average RMSE over 50 folds: 0.618727\n"
     ]
    },
    {
     "name": "stderr",
     "output_type": "stream",
     "text": [
      "Iterations: 100%|██████████| 5/5 [00:49<00:00,  9.96s/it]\n"
     ]
    },
    {
     "name": "stdout",
     "output_type": "stream",
     "text": [
      "XGB Average RMSE over 50 folds: 0.605743\n"
     ]
    },
    {
     "name": "stderr",
     "output_type": "stream",
     "text": [
      "Iterations: 100%|██████████| 5/5 [00:47<00:00,  9.48s/it]\n"
     ]
    },
    {
     "name": "stdout",
     "output_type": "stream",
     "text": [
      "XGB Average RMSE over 50 folds: 0.605574\n"
     ]
    },
    {
     "name": "stderr",
     "output_type": "stream",
     "text": [
      "Iterations: 100%|██████████| 5/5 [03:19<00:00, 39.92s/it]\n"
     ]
    },
    {
     "name": "stdout",
     "output_type": "stream",
     "text": [
      "XGB Average RMSE over 50 folds: 0.638698\n"
     ]
    },
    {
     "name": "stderr",
     "output_type": "stream",
     "text": [
      "Iterations: 100%|██████████| 5/5 [00:49<00:00,  9.83s/it]\n"
     ]
    },
    {
     "name": "stdout",
     "output_type": "stream",
     "text": [
      "XGB Average RMSE over 50 folds: 0.604014\n"
     ]
    },
    {
     "name": "stderr",
     "output_type": "stream",
     "text": [
      "Iterations: 100%|██████████| 5/5 [01:21<00:00, 16.31s/it]\n"
     ]
    },
    {
     "name": "stdout",
     "output_type": "stream",
     "text": [
      "XGB Average RMSE over 50 folds: 0.609780\n"
     ]
    },
    {
     "name": "stderr",
     "output_type": "stream",
     "text": [
      "Iterations: 100%|██████████| 5/5 [02:09<00:00, 25.95s/it]\n"
     ]
    },
    {
     "name": "stdout",
     "output_type": "stream",
     "text": [
      "XGB Average RMSE over 50 folds: 0.616150\n"
     ]
    },
    {
     "name": "stderr",
     "output_type": "stream",
     "text": [
      "Iterations: 100%|██████████| 5/5 [02:25<00:00, 29.15s/it]\n"
     ]
    },
    {
     "name": "stdout",
     "output_type": "stream",
     "text": [
      "XGB Average RMSE over 50 folds: 0.629169\n"
     ]
    },
    {
     "name": "stderr",
     "output_type": "stream",
     "text": [
      "Iterations: 100%|██████████| 5/5 [00:38<00:00,  7.75s/it]\n"
     ]
    },
    {
     "name": "stdout",
     "output_type": "stream",
     "text": [
      "XGB Average RMSE over 50 folds: 0.603863\n"
     ]
    },
    {
     "name": "stderr",
     "output_type": "stream",
     "text": [
      "Iterations: 100%|██████████| 5/5 [02:15<00:00, 27.01s/it]\n"
     ]
    },
    {
     "name": "stdout",
     "output_type": "stream",
     "text": [
      "XGB Average RMSE over 50 folds: 0.616272\n"
     ]
    },
    {
     "name": "stderr",
     "output_type": "stream",
     "text": [
      "Iterations: 100%|██████████| 5/5 [01:12<00:00, 14.55s/it]\n"
     ]
    },
    {
     "name": "stdout",
     "output_type": "stream",
     "text": [
      "XGB Average RMSE over 50 folds: 0.606720\n"
     ]
    },
    {
     "name": "stderr",
     "output_type": "stream",
     "text": [
      "Iterations: 100%|██████████| 5/5 [01:10<00:00, 14.14s/it]\n"
     ]
    },
    {
     "name": "stdout",
     "output_type": "stream",
     "text": [
      "XGB Average RMSE over 50 folds: 0.614197\n"
     ]
    },
    {
     "name": "stderr",
     "output_type": "stream",
     "text": [
      "Iterations: 100%|██████████| 5/5 [00:51<00:00, 10.25s/it]\n"
     ]
    },
    {
     "name": "stdout",
     "output_type": "stream",
     "text": [
      "XGB Average RMSE over 50 folds: 0.606493\n"
     ]
    },
    {
     "name": "stderr",
     "output_type": "stream",
     "text": [
      "Iterations: 100%|██████████| 5/5 [02:22<00:00, 28.44s/it]\n"
     ]
    },
    {
     "name": "stdout",
     "output_type": "stream",
     "text": [
      "XGB Average RMSE over 50 folds: 0.616996\n"
     ]
    },
    {
     "name": "stderr",
     "output_type": "stream",
     "text": [
      "Iterations: 100%|██████████| 5/5 [01:45<00:00, 21.02s/it]\n"
     ]
    },
    {
     "name": "stdout",
     "output_type": "stream",
     "text": [
      "XGB Average RMSE over 50 folds: 0.621803\n"
     ]
    },
    {
     "name": "stderr",
     "output_type": "stream",
     "text": [
      "Iterations: 100%|██████████| 5/5 [00:47<00:00,  9.42s/it]\n"
     ]
    },
    {
     "name": "stdout",
     "output_type": "stream",
     "text": [
      "XGB Average RMSE over 50 folds: 0.606103\n"
     ]
    },
    {
     "name": "stderr",
     "output_type": "stream",
     "text": [
      "Iterations: 100%|██████████| 5/5 [00:45<00:00,  9.10s/it]\n"
     ]
    },
    {
     "name": "stdout",
     "output_type": "stream",
     "text": [
      "XGB Average RMSE over 50 folds: 0.620209\n"
     ]
    },
    {
     "name": "stderr",
     "output_type": "stream",
     "text": [
      "Iterations: 100%|██████████| 5/5 [00:50<00:00, 10.16s/it]\n"
     ]
    },
    {
     "name": "stdout",
     "output_type": "stream",
     "text": [
      "XGB Average RMSE over 50 folds: 0.601949\n"
     ]
    },
    {
     "name": "stderr",
     "output_type": "stream",
     "text": [
      "Iterations: 100%|██████████| 5/5 [01:28<00:00, 17.65s/it]\n"
     ]
    },
    {
     "name": "stdout",
     "output_type": "stream",
     "text": [
      "XGB Average RMSE over 50 folds: 0.610888\n"
     ]
    },
    {
     "name": "stderr",
     "output_type": "stream",
     "text": [
      "Iterations: 100%|██████████| 5/5 [02:23<00:00, 28.76s/it]\n"
     ]
    },
    {
     "name": "stdout",
     "output_type": "stream",
     "text": [
      "XGB Average RMSE over 50 folds: 0.617322\n"
     ]
    },
    {
     "name": "stderr",
     "output_type": "stream",
     "text": [
      "Iterations: 100%|██████████| 5/5 [02:45<00:00, 33.14s/it]\n"
     ]
    },
    {
     "name": "stdout",
     "output_type": "stream",
     "text": [
      "XGB Average RMSE over 50 folds: 0.628249\n"
     ]
    },
    {
     "name": "stderr",
     "output_type": "stream",
     "text": [
      "Iterations: 100%|██████████| 5/5 [01:26<00:00, 17.38s/it]\n"
     ]
    },
    {
     "name": "stdout",
     "output_type": "stream",
     "text": [
      "XGB Average RMSE over 50 folds: 0.613695\n"
     ]
    },
    {
     "name": "stderr",
     "output_type": "stream",
     "text": [
      "Iterations: 100%|██████████| 5/5 [01:41<00:00, 20.39s/it]\n"
     ]
    },
    {
     "name": "stdout",
     "output_type": "stream",
     "text": [
      "XGB Average RMSE over 50 folds: 0.612917\n"
     ]
    },
    {
     "name": "stderr",
     "output_type": "stream",
     "text": [
      "Iterations: 100%|██████████| 5/5 [00:59<00:00, 11.89s/it]\n"
     ]
    },
    {
     "name": "stdout",
     "output_type": "stream",
     "text": [
      "XGB Average RMSE over 50 folds: 0.608076\n"
     ]
    },
    {
     "name": "stderr",
     "output_type": "stream",
     "text": [
      "Iterations: 100%|██████████| 5/5 [01:31<00:00, 18.29s/it]\n"
     ]
    },
    {
     "name": "stdout",
     "output_type": "stream",
     "text": [
      "XGB Average RMSE over 50 folds: 0.613352\n"
     ]
    },
    {
     "name": "stderr",
     "output_type": "stream",
     "text": [
      "Iterations: 100%|██████████| 5/5 [01:10<00:00, 14.12s/it]\n"
     ]
    },
    {
     "name": "stdout",
     "output_type": "stream",
     "text": [
      "XGB Average RMSE over 50 folds: 0.611860\n"
     ]
    },
    {
     "name": "stderr",
     "output_type": "stream",
     "text": [
      "Iterations: 100%|██████████| 5/5 [01:02<00:00, 12.43s/it]\n"
     ]
    },
    {
     "name": "stdout",
     "output_type": "stream",
     "text": [
      "XGB Average RMSE over 50 folds: 0.608853\n"
     ]
    },
    {
     "name": "stderr",
     "output_type": "stream",
     "text": [
      "Iterations: 100%|██████████| 5/5 [01:18<00:00, 15.71s/it]\n"
     ]
    },
    {
     "name": "stdout",
     "output_type": "stream",
     "text": [
      "XGB Average RMSE over 50 folds: 0.623081\n"
     ]
    },
    {
     "name": "stderr",
     "output_type": "stream",
     "text": [
      "Iterations: 100%|██████████| 5/5 [00:42<00:00,  8.40s/it]\n"
     ]
    },
    {
     "name": "stdout",
     "output_type": "stream",
     "text": [
      "XGB Average RMSE over 50 folds: 0.616650\n"
     ]
    },
    {
     "name": "stderr",
     "output_type": "stream",
     "text": [
      "Iterations: 100%|██████████| 5/5 [00:42<00:00,  8.50s/it]\n"
     ]
    },
    {
     "name": "stdout",
     "output_type": "stream",
     "text": [
      "XGB Average RMSE over 50 folds: 0.609874\n"
     ]
    },
    {
     "name": "stderr",
     "output_type": "stream",
     "text": [
      "Iterations: 100%|██████████| 5/5 [01:19<00:00, 15.95s/it]\n"
     ]
    },
    {
     "name": "stdout",
     "output_type": "stream",
     "text": [
      "XGB Average RMSE over 50 folds: 0.615387\n"
     ]
    },
    {
     "name": "stderr",
     "output_type": "stream",
     "text": [
      "Iterations: 100%|██████████| 5/5 [00:56<00:00, 11.28s/it]\n"
     ]
    },
    {
     "name": "stdout",
     "output_type": "stream",
     "text": [
      "XGB Average RMSE over 50 folds: 0.607324\n"
     ]
    },
    {
     "name": "stderr",
     "output_type": "stream",
     "text": [
      "Iterations: 100%|██████████| 5/5 [01:13<00:00, 14.66s/it]\n"
     ]
    },
    {
     "name": "stdout",
     "output_type": "stream",
     "text": [
      "XGB Average RMSE over 50 folds: 0.612200\n"
     ]
    },
    {
     "name": "stderr",
     "output_type": "stream",
     "text": [
      "Iterations: 100%|██████████| 5/5 [01:06<00:00, 13.23s/it]\n"
     ]
    },
    {
     "name": "stdout",
     "output_type": "stream",
     "text": [
      "XGB Average RMSE over 50 folds: 0.612858\n"
     ]
    },
    {
     "name": "stderr",
     "output_type": "stream",
     "text": [
      "Iterations: 100%|██████████| 5/5 [04:10<00:00, 50.04s/it]\n"
     ]
    },
    {
     "name": "stdout",
     "output_type": "stream",
     "text": [
      "XGB Average RMSE over 50 folds: 0.659257\n"
     ]
    },
    {
     "name": "stderr",
     "output_type": "stream",
     "text": [
      "Iterations: 100%|██████████| 5/5 [01:48<00:00, 21.74s/it]\n"
     ]
    },
    {
     "name": "stdout",
     "output_type": "stream",
     "text": [
      "XGB Average RMSE over 50 folds: 0.616184\n"
     ]
    },
    {
     "name": "stderr",
     "output_type": "stream",
     "text": [
      "Iterations: 100%|██████████| 5/5 [00:43<00:00,  8.73s/it]\n"
     ]
    },
    {
     "name": "stdout",
     "output_type": "stream",
     "text": [
      "XGB Average RMSE over 50 folds: 0.607877\n"
     ]
    },
    {
     "name": "stderr",
     "output_type": "stream",
     "text": [
      "Iterations: 100%|██████████| 5/5 [06:27<00:00, 77.54s/it]\n"
     ]
    },
    {
     "name": "stdout",
     "output_type": "stream",
     "text": [
      "XGB Average RMSE over 50 folds: 0.629235\n"
     ]
    },
    {
     "name": "stderr",
     "output_type": "stream",
     "text": [
      "Iterations: 100%|██████████| 5/5 [00:38<00:00,  7.74s/it]\n"
     ]
    },
    {
     "name": "stdout",
     "output_type": "stream",
     "text": [
      "XGB Average RMSE over 50 folds: 0.615738\n"
     ]
    },
    {
     "name": "stderr",
     "output_type": "stream",
     "text": [
      "Iterations: 100%|██████████| 5/5 [02:01<00:00, 24.37s/it]\n"
     ]
    },
    {
     "name": "stdout",
     "output_type": "stream",
     "text": [
      "XGB Average RMSE over 50 folds: 0.617543\n"
     ]
    },
    {
     "name": "stderr",
     "output_type": "stream",
     "text": [
      "Iterations: 100%|██████████| 5/5 [01:48<00:00, 21.73s/it]\n"
     ]
    },
    {
     "name": "stdout",
     "output_type": "stream",
     "text": [
      "XGB Average RMSE over 50 folds: 0.658275\n"
     ]
    },
    {
     "name": "stderr",
     "output_type": "stream",
     "text": [
      "Iterations: 100%|██████████| 5/5 [03:33<00:00, 42.65s/it]\n"
     ]
    },
    {
     "name": "stdout",
     "output_type": "stream",
     "text": [
      "XGB Average RMSE over 50 folds: 0.648611\n"
     ]
    },
    {
     "name": "stderr",
     "output_type": "stream",
     "text": [
      "Iterations: 100%|██████████| 5/5 [00:38<00:00,  7.76s/it]\n"
     ]
    },
    {
     "name": "stdout",
     "output_type": "stream",
     "text": [
      "XGB Average RMSE over 50 folds: 0.602066\n"
     ]
    },
    {
     "name": "stderr",
     "output_type": "stream",
     "text": [
      "Iterations: 100%|██████████| 5/5 [02:01<00:00, 24.30s/it]\n"
     ]
    },
    {
     "name": "stdout",
     "output_type": "stream",
     "text": [
      "XGB Average RMSE over 50 folds: 0.615821\n"
     ]
    },
    {
     "name": "stderr",
     "output_type": "stream",
     "text": [
      "Iterations: 100%|██████████| 5/5 [03:00<00:00, 36.05s/it]\n"
     ]
    },
    {
     "name": "stdout",
     "output_type": "stream",
     "text": [
      "XGB Average RMSE over 50 folds: 0.642920\n"
     ]
    },
    {
     "name": "stderr",
     "output_type": "stream",
     "text": [
      "Iterations: 100%|██████████| 5/5 [01:29<00:00, 17.84s/it]\n"
     ]
    },
    {
     "name": "stdout",
     "output_type": "stream",
     "text": [
      "XGB Average RMSE over 50 folds: 0.610698\n"
     ]
    },
    {
     "name": "stderr",
     "output_type": "stream",
     "text": [
      "Iterations: 100%|██████████| 5/5 [01:56<00:00, 23.23s/it]\n"
     ]
    },
    {
     "name": "stdout",
     "output_type": "stream",
     "text": [
      "XGB Average RMSE over 50 folds: 0.610870\n"
     ]
    },
    {
     "name": "stderr",
     "output_type": "stream",
     "text": [
      "Iterations: 100%|██████████| 5/5 [03:16<00:00, 39.25s/it]\n"
     ]
    },
    {
     "name": "stdout",
     "output_type": "stream",
     "text": [
      "XGB Average RMSE over 50 folds: 0.620455\n"
     ]
    },
    {
     "name": "stderr",
     "output_type": "stream",
     "text": [
      "Iterations: 100%|██████████| 5/5 [00:46<00:00,  9.25s/it]\n"
     ]
    },
    {
     "name": "stdout",
     "output_type": "stream",
     "text": [
      "XGB Average RMSE over 50 folds: 0.603550\n"
     ]
    },
    {
     "name": "stderr",
     "output_type": "stream",
     "text": [
      "Iterations: 100%|██████████| 5/5 [01:14<00:00, 14.87s/it]\n"
     ]
    },
    {
     "name": "stdout",
     "output_type": "stream",
     "text": [
      "XGB Average RMSE over 50 folds: 0.614252\n"
     ]
    },
    {
     "name": "stderr",
     "output_type": "stream",
     "text": [
      "Iterations: 100%|██████████| 5/5 [02:38<00:00, 31.63s/it]\n"
     ]
    },
    {
     "name": "stdout",
     "output_type": "stream",
     "text": [
      "XGB Average RMSE over 50 folds: 0.622936\n"
     ]
    },
    {
     "name": "stderr",
     "output_type": "stream",
     "text": [
      "Iterations: 100%|██████████| 5/5 [01:04<00:00, 12.91s/it]\n"
     ]
    },
    {
     "name": "stdout",
     "output_type": "stream",
     "text": [
      "XGB Average RMSE over 50 folds: 0.615295\n"
     ]
    },
    {
     "name": "stderr",
     "output_type": "stream",
     "text": [
      "Iterations: 100%|██████████| 5/5 [01:12<00:00, 14.43s/it]\n"
     ]
    },
    {
     "name": "stdout",
     "output_type": "stream",
     "text": [
      "XGB Average RMSE over 50 folds: 0.613774\n"
     ]
    },
    {
     "name": "stderr",
     "output_type": "stream",
     "text": [
      "Iterations: 100%|██████████| 5/5 [00:55<00:00, 11.10s/it]\n"
     ]
    },
    {
     "name": "stdout",
     "output_type": "stream",
     "text": [
      "XGB Average RMSE over 50 folds: 0.607161\n"
     ]
    },
    {
     "name": "stderr",
     "output_type": "stream",
     "text": [
      "Iterations: 100%|██████████| 5/5 [01:13<00:00, 14.65s/it]\n"
     ]
    },
    {
     "name": "stdout",
     "output_type": "stream",
     "text": [
      "XGB Average RMSE over 50 folds: 0.614108\n"
     ]
    },
    {
     "name": "stderr",
     "output_type": "stream",
     "text": [
      "Iterations: 100%|██████████| 5/5 [03:05<00:00, 37.03s/it]\n"
     ]
    },
    {
     "name": "stdout",
     "output_type": "stream",
     "text": [
      "XGB Average RMSE over 50 folds: 0.632457\n"
     ]
    },
    {
     "name": "stderr",
     "output_type": "stream",
     "text": [
      "Iterations: 100%|██████████| 5/5 [02:09<00:00, 25.93s/it]\n"
     ]
    },
    {
     "name": "stdout",
     "output_type": "stream",
     "text": [
      "XGB Average RMSE over 50 folds: 0.615526\n"
     ]
    },
    {
     "name": "stderr",
     "output_type": "stream",
     "text": [
      "Iterations: 100%|██████████| 5/5 [01:19<00:00, 15.92s/it]\n"
     ]
    },
    {
     "name": "stdout",
     "output_type": "stream",
     "text": [
      "XGB Average RMSE over 50 folds: 0.616275\n"
     ]
    },
    {
     "name": "stderr",
     "output_type": "stream",
     "text": [
      "Iterations: 100%|██████████| 5/5 [01:46<00:00, 21.20s/it]\n"
     ]
    },
    {
     "name": "stdout",
     "output_type": "stream",
     "text": [
      "XGB Average RMSE over 50 folds: 0.616698\n"
     ]
    },
    {
     "name": "stderr",
     "output_type": "stream",
     "text": [
      "Iterations: 100%|██████████| 5/5 [01:24<00:00, 16.82s/it]\n"
     ]
    },
    {
     "name": "stdout",
     "output_type": "stream",
     "text": [
      "XGB Average RMSE over 50 folds: 0.609372\n"
     ]
    },
    {
     "name": "stderr",
     "output_type": "stream",
     "text": [
      "Iterations: 100%|██████████| 5/5 [01:19<00:00, 15.84s/it]\n"
     ]
    },
    {
     "name": "stdout",
     "output_type": "stream",
     "text": [
      "XGB Average RMSE over 50 folds: 0.611390\n"
     ]
    },
    {
     "name": "stderr",
     "output_type": "stream",
     "text": [
      "Iterations: 100%|██████████| 5/5 [01:13<00:00, 14.76s/it]\n"
     ]
    },
    {
     "name": "stdout",
     "output_type": "stream",
     "text": [
      "XGB Average RMSE over 50 folds: 0.613837\n"
     ]
    },
    {
     "name": "stderr",
     "output_type": "stream",
     "text": [
      "Iterations: 100%|██████████| 5/5 [01:51<00:00, 22.39s/it]\n"
     ]
    },
    {
     "name": "stdout",
     "output_type": "stream",
     "text": [
      "XGB Average RMSE over 50 folds: 0.613277\n"
     ]
    },
    {
     "name": "stderr",
     "output_type": "stream",
     "text": [
      "Iterations: 100%|██████████| 5/5 [00:40<00:00,  8.02s/it]\n"
     ]
    },
    {
     "name": "stdout",
     "output_type": "stream",
     "text": [
      "XGB Average RMSE over 50 folds: 0.667196\n"
     ]
    },
    {
     "name": "stderr",
     "output_type": "stream",
     "text": [
      "Iterations: 100%|██████████| 5/5 [00:39<00:00,  7.85s/it]\n"
     ]
    },
    {
     "name": "stdout",
     "output_type": "stream",
     "text": [
      "XGB Average RMSE over 50 folds: 0.614086\n"
     ]
    },
    {
     "name": "stderr",
     "output_type": "stream",
     "text": [
      "Iterations: 100%|██████████| 5/5 [01:02<00:00, 12.43s/it]\n"
     ]
    },
    {
     "name": "stdout",
     "output_type": "stream",
     "text": [
      "XGB Average RMSE over 50 folds: 0.606951\n"
     ]
    },
    {
     "name": "stderr",
     "output_type": "stream",
     "text": [
      "Iterations: 100%|██████████| 5/5 [00:44<00:00,  8.81s/it]\n"
     ]
    },
    {
     "name": "stdout",
     "output_type": "stream",
     "text": [
      "XGB Average RMSE over 50 folds: 0.603104\n"
     ]
    },
    {
     "name": "stderr",
     "output_type": "stream",
     "text": [
      "Iterations: 100%|██████████| 5/5 [01:01<00:00, 12.25s/it]\n"
     ]
    },
    {
     "name": "stdout",
     "output_type": "stream",
     "text": [
      "XGB Average RMSE over 50 folds: 0.608411\n"
     ]
    },
    {
     "name": "stderr",
     "output_type": "stream",
     "text": [
      "Iterations: 100%|██████████| 5/5 [01:00<00:00, 12.04s/it]\n"
     ]
    },
    {
     "name": "stdout",
     "output_type": "stream",
     "text": [
      "XGB Average RMSE over 50 folds: 0.608094\n"
     ]
    },
    {
     "name": "stderr",
     "output_type": "stream",
     "text": [
      "Iterations: 100%|██████████| 5/5 [01:03<00:00, 12.73s/it]\n"
     ]
    },
    {
     "name": "stdout",
     "output_type": "stream",
     "text": [
      "XGB Average RMSE over 50 folds: 0.634840\n"
     ]
    },
    {
     "name": "stderr",
     "output_type": "stream",
     "text": [
      "Iterations: 100%|██████████| 5/5 [00:44<00:00,  8.85s/it]\n"
     ]
    },
    {
     "name": "stdout",
     "output_type": "stream",
     "text": [
      "XGB Average RMSE over 50 folds: 0.609830\n"
     ]
    },
    {
     "name": "stderr",
     "output_type": "stream",
     "text": [
      "Iterations: 100%|██████████| 5/5 [03:51<00:00, 46.28s/it]\n"
     ]
    },
    {
     "name": "stdout",
     "output_type": "stream",
     "text": [
      "XGB Average RMSE over 50 folds: 0.615564\n"
     ]
    },
    {
     "name": "stderr",
     "output_type": "stream",
     "text": [
      "Iterations: 100%|██████████| 5/5 [00:45<00:00,  9.02s/it]\n"
     ]
    },
    {
     "name": "stdout",
     "output_type": "stream",
     "text": [
      "XGB Average RMSE over 50 folds: 0.626569\n"
     ]
    },
    {
     "name": "stderr",
     "output_type": "stream",
     "text": [
      "Iterations: 100%|██████████| 5/5 [00:43<00:00,  8.65s/it]\n"
     ]
    },
    {
     "name": "stdout",
     "output_type": "stream",
     "text": [
      "XGB Average RMSE over 50 folds: 0.606068\n"
     ]
    },
    {
     "name": "stderr",
     "output_type": "stream",
     "text": [
      "Iterations: 100%|██████████| 5/5 [01:01<00:00, 12.37s/it]\n"
     ]
    },
    {
     "name": "stdout",
     "output_type": "stream",
     "text": [
      "XGB Average RMSE over 50 folds: 0.614222\n"
     ]
    },
    {
     "name": "stderr",
     "output_type": "stream",
     "text": [
      "Iterations: 100%|██████████| 5/5 [00:59<00:00, 11.80s/it]\n"
     ]
    },
    {
     "name": "stdout",
     "output_type": "stream",
     "text": [
      "XGB Average RMSE over 50 folds: 0.609639\n"
     ]
    },
    {
     "name": "stderr",
     "output_type": "stream",
     "text": [
      "Iterations: 100%|██████████| 5/5 [03:01<00:00, 36.24s/it]\n"
     ]
    },
    {
     "name": "stdout",
     "output_type": "stream",
     "text": [
      "XGB Average RMSE over 50 folds: 0.615003\n"
     ]
    },
    {
     "name": "stderr",
     "output_type": "stream",
     "text": [
      "Iterations: 100%|██████████| 5/5 [01:51<00:00, 22.23s/it]\n"
     ]
    },
    {
     "name": "stdout",
     "output_type": "stream",
     "text": [
      "XGB Average RMSE over 50 folds: 0.620262\n"
     ]
    },
    {
     "name": "stderr",
     "output_type": "stream",
     "text": [
      "Iterations: 100%|██████████| 5/5 [01:10<00:00, 14.15s/it]\n"
     ]
    },
    {
     "name": "stdout",
     "output_type": "stream",
     "text": [
      "XGB Average RMSE over 50 folds: 0.619507\n"
     ]
    },
    {
     "name": "stderr",
     "output_type": "stream",
     "text": [
      "Iterations: 100%|██████████| 5/5 [01:34<00:00, 18.89s/it]\n"
     ]
    },
    {
     "name": "stdout",
     "output_type": "stream",
     "text": [
      "XGB Average RMSE over 50 folds: 0.614168\n"
     ]
    },
    {
     "name": "stderr",
     "output_type": "stream",
     "text": [
      "Iterations: 100%|██████████| 5/5 [01:45<00:00, 21.09s/it]\n"
     ]
    },
    {
     "name": "stdout",
     "output_type": "stream",
     "text": [
      "XGB Average RMSE over 50 folds: 0.616866\n"
     ]
    },
    {
     "name": "stderr",
     "output_type": "stream",
     "text": [
      "Iterations: 100%|██████████| 5/5 [01:42<00:00, 20.53s/it]\n"
     ]
    },
    {
     "name": "stdout",
     "output_type": "stream",
     "text": [
      "XGB Average RMSE over 50 folds: 0.616404\n"
     ]
    },
    {
     "name": "stderr",
     "output_type": "stream",
     "text": [
      "Iterations: 100%|██████████| 5/5 [00:38<00:00,  7.66s/it]\n"
     ]
    },
    {
     "name": "stdout",
     "output_type": "stream",
     "text": [
      "XGB Average RMSE over 50 folds: 0.605255\n"
     ]
    },
    {
     "name": "stderr",
     "output_type": "stream",
     "text": [
      "Iterations: 100%|██████████| 5/5 [00:39<00:00,  7.96s/it]\n"
     ]
    },
    {
     "name": "stdout",
     "output_type": "stream",
     "text": [
      "XGB Average RMSE over 50 folds: 0.609696\n"
     ]
    },
    {
     "name": "stderr",
     "output_type": "stream",
     "text": [
      "Iterations: 100%|██████████| 5/5 [01:45<00:00, 21.01s/it]\n"
     ]
    },
    {
     "name": "stdout",
     "output_type": "stream",
     "text": [
      "XGB Average RMSE over 50 folds: 0.610296\n"
     ]
    },
    {
     "name": "stderr",
     "output_type": "stream",
     "text": [
      "Iterations: 100%|██████████| 5/5 [01:04<00:00, 12.85s/it]\n"
     ]
    },
    {
     "name": "stdout",
     "output_type": "stream",
     "text": [
      "XGB Average RMSE over 50 folds: 0.606215\n"
     ]
    },
    {
     "name": "stderr",
     "output_type": "stream",
     "text": [
      "Iterations: 100%|██████████| 5/5 [01:12<00:00, 14.53s/it]"
     ]
    },
    {
     "name": "stdout",
     "output_type": "stream",
     "text": [
      "XGB Average RMSE over 50 folds: 0.615773\n",
      "Best RMSE: 0.601441\n",
      "Best Parameters: {'objective': 'reg:squarederror', 'base_score': None, 'booster': 'gbtree', 'callbacks': None, 'colsample_bylevel': None, 'colsample_bynode': None, 'colsample_bytree': 0.8739265814988941, 'device': 'cuda', 'early_stopping_rounds': 250, 'enable_categorical': False, 'eval_metric': None, 'feature_types': None, 'gamma': 0.3893408430829386, 'grow_policy': None, 'importance_type': None, 'interaction_constraints': None, 'learning_rate': 0.18205557831997368, 'max_bin': None, 'max_cat_threshold': None, 'max_cat_to_onehot': None, 'max_delta_step': None, 'max_depth': 3, 'max_leaves': None, 'min_child_weight': 4, 'missing': nan, 'monotone_constraints': None, 'multi_strategy': None, 'n_estimators': None, 'n_jobs': None, 'num_parallel_tree': None, 'random_state': 42, 'reg_alpha': None, 'reg_lambda': None, 'sampling_method': None, 'scale_pos_weight': None, 'subsample': 0.6407940935121966, 'tree_method': None, 'validate_parameters': None, 'verbosity': None}\n"
     ]
    },
    {
     "name": "stderr",
     "output_type": "stream",
     "text": [
      "\n"
     ]
    }
   ],
   "source": [
    "import numpy as np\n",
    "import xgboost as xgb\n",
    "from sklearn.metrics import mean_squared_error\n",
    "from sklearn.model_selection import StratifiedKFold\n",
    "import random\n",
    "\n",
    "def random_param_search_xgb(train_feats, test_feats, n_iterations):\n",
    "    # Define parameter ranges\n",
    "    param_ranges = {\n",
    "        'booster': ['gbtree'],\n",
    "        'max_depth': (3, 10),  # Range for max_depth\n",
    "        'learning_rate': (0.01, 0.2),  # Range for learning_rate\n",
    "        'min_child_weight': (1, 6),  # Range for min_child_weight\n",
    "        'gamma': (0, 0.5),  # Range for gamma\n",
    "        'subsample': (0.5, 1),  # Range for subsample\n",
    "        'colsample_bytree': (0.5, 1),  # Range for colsample_bytree\n",
    "    }\n",
    "\n",
    "    best_rmse = float(\"inf\")\n",
    "    best_params = None\n",
    "    test_predictions_df = pd.DataFrame()\n",
    "\n",
    "    for _ in range(n_iterations):\n",
    "\n",
    "        # Sampling parameters from ranges\n",
    "        params = {\n",
    "            'booster': random.choice(param_ranges['booster']),\n",
    "            'max_depth': random.randint(*param_ranges['max_depth']),\n",
    "            'learning_rate': random.uniform(*param_ranges['learning_rate']),\n",
    "            'min_child_weight': random.randint(*param_ranges['min_child_weight']),\n",
    "            'gamma': random.uniform(*param_ranges['gamma']),\n",
    "            'subsample': random.uniform(*param_ranges['subsample']),\n",
    "            'colsample_bytree': random.uniform(*param_ranges['colsample_bytree']),\n",
    "            'device': 'cuda',\n",
    "        }\n",
    "        \n",
    "        # Train and evaluate model\n",
    "        booster = params['booster']\n",
    "        _, _, rmse, model = xgb_cv_pipeline(train_feats, test_feats, params)\n",
    "                                        \n",
    "        new_iter = {'rmse': [rmse],\n",
    "                    'params': str(model.get_params())}\n",
    "\n",
    "        test_predictions_df = pd.concat([test_predictions_df, pd.DataFrame(data=new_iter)])\n",
    "        # Update best parameters if current model is better\n",
    "        if rmse < best_rmse:\n",
    "            print(f\"New best RMSE: {rmse:.6f}\")\n",
    "            best_rmse = rmse\n",
    "            best_params = model.get_params()\n",
    "    \n",
    "    print(f\"Best RMSE: {best_rmse:.6f}\")\n",
    "    print(\"Best Parameters:\", best_params)\n",
    "    return test_predictions_df\n",
    "\n",
    "# Example usage\n",
    "test_predictions_df_xgb = random_param_search_xgb(train_feats, test_feats, 300)\n",
    "test_predictions_df_xgb.sort_values('rmse').to_csv('params_xgb.csv', index=False)"
   ]
  },
  {
   "cell_type": "code",
   "execution_count": 4,
   "metadata": {},
   "outputs": [
    {
     "name": "stderr",
     "output_type": "stream",
     "text": [
      "Iterations:   0%|          | 0/5 [00:00<?, ?it/s]"
     ]
    },
    {
     "name": "stderr",
     "output_type": "stream",
     "text": [
      "Iterations: 100%|██████████| 5/5 [01:37<00:00, 19.58s/it]\n"
     ]
    },
    {
     "name": "stdout",
     "output_type": "stream",
     "text": [
      "XGB Average RMSE over 50 folds: 0.609284\n",
      "New best RMSE: 0.609284\n"
     ]
    },
    {
     "name": "stderr",
     "output_type": "stream",
     "text": [
      "Iterations: 100%|██████████| 5/5 [02:32<00:00, 30.53s/it]\n"
     ]
    },
    {
     "name": "stdout",
     "output_type": "stream",
     "text": [
      "XGB Average RMSE over 50 folds: 0.615890\n"
     ]
    },
    {
     "name": "stderr",
     "output_type": "stream",
     "text": [
      "Iterations: 100%|██████████| 5/5 [02:03<00:00, 24.72s/it]\n"
     ]
    },
    {
     "name": "stdout",
     "output_type": "stream",
     "text": [
      "XGB Average RMSE over 50 folds: 0.611885\n"
     ]
    },
    {
     "name": "stderr",
     "output_type": "stream",
     "text": [
      "Iterations: 100%|██████████| 5/5 [01:11<00:00, 14.36s/it]\n"
     ]
    },
    {
     "name": "stdout",
     "output_type": "stream",
     "text": [
      "XGB Average RMSE over 50 folds: 0.612129\n"
     ]
    },
    {
     "name": "stderr",
     "output_type": "stream",
     "text": [
      "Iterations: 100%|██████████| 5/5 [01:16<00:00, 15.21s/it]\n"
     ]
    },
    {
     "name": "stdout",
     "output_type": "stream",
     "text": [
      "XGB Average RMSE over 50 folds: 0.611918\n"
     ]
    },
    {
     "name": "stderr",
     "output_type": "stream",
     "text": [
      "Iterations: 100%|██████████| 5/5 [01:09<00:00, 13.96s/it]\n"
     ]
    },
    {
     "name": "stdout",
     "output_type": "stream",
     "text": [
      "XGB Average RMSE over 50 folds: 0.615517\n"
     ]
    },
    {
     "name": "stderr",
     "output_type": "stream",
     "text": [
      "Iterations: 100%|██████████| 5/5 [01:27<00:00, 17.44s/it]\n"
     ]
    },
    {
     "name": "stdout",
     "output_type": "stream",
     "text": [
      "XGB Average RMSE over 50 folds: 0.615626\n"
     ]
    },
    {
     "name": "stderr",
     "output_type": "stream",
     "text": [
      "Iterations: 100%|██████████| 5/5 [00:56<00:00, 11.24s/it]\n"
     ]
    },
    {
     "name": "stdout",
     "output_type": "stream",
     "text": [
      "XGB Average RMSE over 50 folds: 0.607809\n",
      "New best RMSE: 0.607809\n"
     ]
    },
    {
     "name": "stderr",
     "output_type": "stream",
     "text": [
      "Iterations: 100%|██████████| 5/5 [00:54<00:00, 10.91s/it]\n"
     ]
    },
    {
     "name": "stdout",
     "output_type": "stream",
     "text": [
      "XGB Average RMSE over 50 folds: 0.608097\n"
     ]
    },
    {
     "name": "stderr",
     "output_type": "stream",
     "text": [
      "Iterations: 100%|██████████| 5/5 [01:48<00:00, 21.67s/it]\n"
     ]
    },
    {
     "name": "stdout",
     "output_type": "stream",
     "text": [
      "XGB Average RMSE over 50 folds: 0.616524\n"
     ]
    },
    {
     "name": "stderr",
     "output_type": "stream",
     "text": [
      "Iterations: 100%|██████████| 5/5 [01:19<00:00, 15.99s/it]\n"
     ]
    },
    {
     "name": "stdout",
     "output_type": "stream",
     "text": [
      "XGB Average RMSE over 50 folds: 0.610793\n"
     ]
    },
    {
     "name": "stderr",
     "output_type": "stream",
     "text": [
      "Iterations: 100%|██████████| 5/5 [00:38<00:00,  7.60s/it]\n"
     ]
    },
    {
     "name": "stdout",
     "output_type": "stream",
     "text": [
      "XGB Average RMSE over 50 folds: 0.611270\n"
     ]
    },
    {
     "name": "stderr",
     "output_type": "stream",
     "text": [
      "Iterations: 100%|██████████| 5/5 [02:03<00:00, 24.68s/it]\n"
     ]
    },
    {
     "name": "stdout",
     "output_type": "stream",
     "text": [
      "XGB Average RMSE over 50 folds: 0.619423\n"
     ]
    },
    {
     "name": "stderr",
     "output_type": "stream",
     "text": [
      "Iterations: 100%|██████████| 5/5 [01:05<00:00, 13.10s/it]\n"
     ]
    },
    {
     "name": "stdout",
     "output_type": "stream",
     "text": [
      "XGB Average RMSE over 50 folds: 0.619322\n"
     ]
    },
    {
     "name": "stderr",
     "output_type": "stream",
     "text": [
      "Iterations: 100%|██████████| 5/5 [01:13<00:00, 14.68s/it]\n"
     ]
    },
    {
     "name": "stdout",
     "output_type": "stream",
     "text": [
      "XGB Average RMSE over 50 folds: 0.617422\n"
     ]
    },
    {
     "name": "stderr",
     "output_type": "stream",
     "text": [
      "Iterations: 100%|██████████| 5/5 [01:16<00:00, 15.39s/it]\n"
     ]
    },
    {
     "name": "stdout",
     "output_type": "stream",
     "text": [
      "XGB Average RMSE over 50 folds: 0.614616\n"
     ]
    },
    {
     "name": "stderr",
     "output_type": "stream",
     "text": [
      "Iterations: 100%|██████████| 5/5 [03:05<00:00, 37.16s/it]\n"
     ]
    },
    {
     "name": "stdout",
     "output_type": "stream",
     "text": [
      "XGB Average RMSE over 50 folds: 0.617315\n"
     ]
    },
    {
     "name": "stderr",
     "output_type": "stream",
     "text": [
      "Iterations: 100%|██████████| 5/5 [01:09<00:00, 13.81s/it]\n"
     ]
    },
    {
     "name": "stdout",
     "output_type": "stream",
     "text": [
      "XGB Average RMSE over 50 folds: 0.611415\n"
     ]
    },
    {
     "name": "stderr",
     "output_type": "stream",
     "text": [
      "Iterations: 100%|██████████| 5/5 [03:06<00:00, 37.38s/it]\n"
     ]
    },
    {
     "name": "stdout",
     "output_type": "stream",
     "text": [
      "XGB Average RMSE over 50 folds: 0.617684\n"
     ]
    },
    {
     "name": "stderr",
     "output_type": "stream",
     "text": [
      "Iterations: 100%|██████████| 5/5 [03:27<00:00, 41.60s/it]\n"
     ]
    },
    {
     "name": "stdout",
     "output_type": "stream",
     "text": [
      "XGB Average RMSE over 50 folds: 0.619502\n"
     ]
    },
    {
     "name": "stderr",
     "output_type": "stream",
     "text": [
      "Iterations: 100%|██████████| 5/5 [01:04<00:00, 12.99s/it]\n"
     ]
    },
    {
     "name": "stdout",
     "output_type": "stream",
     "text": [
      "XGB Average RMSE over 50 folds: 0.607457\n",
      "New best RMSE: 0.607457\n"
     ]
    },
    {
     "name": "stderr",
     "output_type": "stream",
     "text": [
      "Iterations: 100%|██████████| 5/5 [01:31<00:00, 18.36s/it]\n"
     ]
    },
    {
     "name": "stdout",
     "output_type": "stream",
     "text": [
      "XGB Average RMSE over 50 folds: 0.617566\n"
     ]
    },
    {
     "name": "stderr",
     "output_type": "stream",
     "text": [
      "Iterations: 100%|██████████| 5/5 [00:37<00:00,  7.52s/it]\n"
     ]
    },
    {
     "name": "stdout",
     "output_type": "stream",
     "text": [
      "XGB Average RMSE over 50 folds: 0.604966\n",
      "New best RMSE: 0.604966\n"
     ]
    },
    {
     "name": "stderr",
     "output_type": "stream",
     "text": [
      "Iterations: 100%|██████████| 5/5 [03:12<00:00, 38.55s/it]\n"
     ]
    },
    {
     "name": "stdout",
     "output_type": "stream",
     "text": [
      "XGB Average RMSE over 50 folds: 0.624426\n"
     ]
    },
    {
     "name": "stderr",
     "output_type": "stream",
     "text": [
      "Iterations: 100%|██████████| 5/5 [01:16<00:00, 15.24s/it]\n"
     ]
    },
    {
     "name": "stdout",
     "output_type": "stream",
     "text": [
      "XGB Average RMSE over 50 folds: 0.616001\n"
     ]
    },
    {
     "name": "stderr",
     "output_type": "stream",
     "text": [
      "Iterations: 100%|██████████| 5/5 [01:41<00:00, 20.31s/it]\n"
     ]
    },
    {
     "name": "stdout",
     "output_type": "stream",
     "text": [
      "XGB Average RMSE over 50 folds: 0.623767\n"
     ]
    },
    {
     "name": "stderr",
     "output_type": "stream",
     "text": [
      "Iterations: 100%|██████████| 5/5 [01:46<00:00, 21.35s/it]\n"
     ]
    },
    {
     "name": "stdout",
     "output_type": "stream",
     "text": [
      "XGB Average RMSE over 50 folds: 0.623887\n"
     ]
    },
    {
     "name": "stderr",
     "output_type": "stream",
     "text": [
      "Iterations: 100%|██████████| 5/5 [00:50<00:00, 10.16s/it]\n"
     ]
    },
    {
     "name": "stdout",
     "output_type": "stream",
     "text": [
      "XGB Average RMSE over 50 folds: 0.625044\n"
     ]
    },
    {
     "name": "stderr",
     "output_type": "stream",
     "text": [
      "Iterations: 100%|██████████| 5/5 [04:03<00:00, 48.74s/it]\n"
     ]
    },
    {
     "name": "stdout",
     "output_type": "stream",
     "text": [
      "XGB Average RMSE over 50 folds: 0.626521\n"
     ]
    },
    {
     "name": "stderr",
     "output_type": "stream",
     "text": [
      "Iterations: 100%|██████████| 5/5 [01:04<00:00, 12.93s/it]\n"
     ]
    },
    {
     "name": "stdout",
     "output_type": "stream",
     "text": [
      "XGB Average RMSE over 50 folds: 0.619984\n"
     ]
    },
    {
     "name": "stderr",
     "output_type": "stream",
     "text": [
      "Iterations: 100%|██████████| 5/5 [01:06<00:00, 13.21s/it]\n"
     ]
    },
    {
     "name": "stdout",
     "output_type": "stream",
     "text": [
      "XGB Average RMSE over 50 folds: 0.613885\n"
     ]
    },
    {
     "name": "stderr",
     "output_type": "stream",
     "text": [
      "Iterations: 100%|██████████| 5/5 [00:49<00:00,  9.89s/it]\n"
     ]
    },
    {
     "name": "stdout",
     "output_type": "stream",
     "text": [
      "XGB Average RMSE over 50 folds: 0.634410\n"
     ]
    },
    {
     "name": "stderr",
     "output_type": "stream",
     "text": [
      "Iterations: 100%|██████████| 5/5 [00:49<00:00,  9.97s/it]\n"
     ]
    },
    {
     "name": "stdout",
     "output_type": "stream",
     "text": [
      "XGB Average RMSE over 50 folds: 0.610037\n"
     ]
    },
    {
     "name": "stderr",
     "output_type": "stream",
     "text": [
      "Iterations: 100%|██████████| 5/5 [01:56<00:00, 23.31s/it]\n"
     ]
    },
    {
     "name": "stdout",
     "output_type": "stream",
     "text": [
      "XGB Average RMSE over 50 folds: 0.625043\n"
     ]
    },
    {
     "name": "stderr",
     "output_type": "stream",
     "text": [
      "Iterations: 100%|██████████| 5/5 [01:56<00:00, 23.39s/it]\n"
     ]
    },
    {
     "name": "stdout",
     "output_type": "stream",
     "text": [
      "XGB Average RMSE over 50 folds: 0.654091\n"
     ]
    },
    {
     "name": "stderr",
     "output_type": "stream",
     "text": [
      "Iterations: 100%|██████████| 5/5 [00:49<00:00,  9.92s/it]\n"
     ]
    },
    {
     "name": "stdout",
     "output_type": "stream",
     "text": [
      "XGB Average RMSE over 50 folds: 0.627268\n"
     ]
    },
    {
     "name": "stderr",
     "output_type": "stream",
     "text": [
      "Iterations: 100%|██████████| 5/5 [04:10<00:00, 50.02s/it]\n"
     ]
    },
    {
     "name": "stdout",
     "output_type": "stream",
     "text": [
      "XGB Average RMSE over 50 folds: 0.644127\n"
     ]
    },
    {
     "name": "stderr",
     "output_type": "stream",
     "text": [
      "Iterations: 100%|██████████| 5/5 [01:19<00:00, 15.83s/it]\n"
     ]
    },
    {
     "name": "stdout",
     "output_type": "stream",
     "text": [
      "XGB Average RMSE over 50 folds: 0.609929\n"
     ]
    },
    {
     "name": "stderr",
     "output_type": "stream",
     "text": [
      "Iterations: 100%|██████████| 5/5 [01:35<00:00, 19.04s/it]\n"
     ]
    },
    {
     "name": "stdout",
     "output_type": "stream",
     "text": [
      "XGB Average RMSE over 50 folds: 0.611669\n"
     ]
    },
    {
     "name": "stderr",
     "output_type": "stream",
     "text": [
      "Iterations: 100%|██████████| 5/5 [01:14<00:00, 14.99s/it]\n"
     ]
    },
    {
     "name": "stdout",
     "output_type": "stream",
     "text": [
      "XGB Average RMSE over 50 folds: 0.612679\n"
     ]
    },
    {
     "name": "stderr",
     "output_type": "stream",
     "text": [
      "Iterations: 100%|██████████| 5/5 [00:47<00:00,  9.56s/it]\n"
     ]
    },
    {
     "name": "stdout",
     "output_type": "stream",
     "text": [
      "XGB Average RMSE over 50 folds: 0.605320\n"
     ]
    },
    {
     "name": "stderr",
     "output_type": "stream",
     "text": [
      "Iterations:  40%|████      | 2/5 [02:32<03:49, 76.41s/it]\n"
     ]
    },
    {
     "ename": "KeyboardInterrupt",
     "evalue": "",
     "output_type": "error",
     "traceback": [
      "\u001b[0;31m---------------------------------------------------------------------------\u001b[0m",
      "\u001b[0;31mKeyboardInterrupt\u001b[0m                         Traceback (most recent call last)",
      "\u001b[1;32m/root/Projects/Kaggle/linking-writing/SPF_lgbm_randomsearch.ipynb Cell 4\u001b[0m line \u001b[0;36m5\n\u001b[1;32m     <a href='vscode-notebook-cell://wsl%2Bubuntu/root/Projects/Kaggle/linking-writing/SPF_lgbm_randomsearch.ipynb#X14sdnNjb2RlLXJlbW90ZQ%3D%3D?line=52'>53</a>\u001b[0m     \u001b[39mreturn\u001b[39;00m test_predictions_df\n\u001b[1;32m     <a href='vscode-notebook-cell://wsl%2Bubuntu/root/Projects/Kaggle/linking-writing/SPF_lgbm_randomsearch.ipynb#X14sdnNjb2RlLXJlbW90ZQ%3D%3D?line=54'>55</a>\u001b[0m \u001b[39m# Example usage\u001b[39;00m\n\u001b[0;32m---> <a href='vscode-notebook-cell://wsl%2Bubuntu/root/Projects/Kaggle/linking-writing/SPF_lgbm_randomsearch.ipynb#X14sdnNjb2RlLXJlbW90ZQ%3D%3D?line=55'>56</a>\u001b[0m test_predictions_df_xgb \u001b[39m=\u001b[39m random_param_search_xgb(train_feats, test_feats, \u001b[39m850\u001b[39;49m)\n\u001b[1;32m     <a href='vscode-notebook-cell://wsl%2Bubuntu/root/Projects/Kaggle/linking-writing/SPF_lgbm_randomsearch.ipynb#X14sdnNjb2RlLXJlbW90ZQ%3D%3D?line=56'>57</a>\u001b[0m test_predictions_df_xgb\u001b[39m.\u001b[39msort_values(\u001b[39m'\u001b[39m\u001b[39mrmse\u001b[39m\u001b[39m'\u001b[39m)\u001b[39m.\u001b[39mto_csv(\u001b[39m'\u001b[39m\u001b[39mparams_xgb2.csv\u001b[39m\u001b[39m'\u001b[39m, index\u001b[39m=\u001b[39m\u001b[39mFalse\u001b[39;00m)\n",
      "\u001b[1;32m/root/Projects/Kaggle/linking-writing/SPF_lgbm_randomsearch.ipynb Cell 4\u001b[0m line \u001b[0;36m3\n\u001b[1;32m     <a href='vscode-notebook-cell://wsl%2Bubuntu/root/Projects/Kaggle/linking-writing/SPF_lgbm_randomsearch.ipynb#X14sdnNjb2RlLXJlbW90ZQ%3D%3D?line=36'>37</a>\u001b[0m \u001b[39m# Train and evaluate model\u001b[39;00m\n\u001b[1;32m     <a href='vscode-notebook-cell://wsl%2Bubuntu/root/Projects/Kaggle/linking-writing/SPF_lgbm_randomsearch.ipynb#X14sdnNjb2RlLXJlbW90ZQ%3D%3D?line=37'>38</a>\u001b[0m booster \u001b[39m=\u001b[39m params[\u001b[39m'\u001b[39m\u001b[39mbooster\u001b[39m\u001b[39m'\u001b[39m]\n\u001b[0;32m---> <a href='vscode-notebook-cell://wsl%2Bubuntu/root/Projects/Kaggle/linking-writing/SPF_lgbm_randomsearch.ipynb#X14sdnNjb2RlLXJlbW90ZQ%3D%3D?line=38'>39</a>\u001b[0m _, _, rmse, model \u001b[39m=\u001b[39m xgb_cv_pipeline(train_feats, test_feats, params)\n\u001b[1;32m     <a href='vscode-notebook-cell://wsl%2Bubuntu/root/Projects/Kaggle/linking-writing/SPF_lgbm_randomsearch.ipynb#X14sdnNjb2RlLXJlbW90ZQ%3D%3D?line=40'>41</a>\u001b[0m new_iter \u001b[39m=\u001b[39m {\u001b[39m'\u001b[39m\u001b[39mrmse\u001b[39m\u001b[39m'\u001b[39m: [rmse],\n\u001b[1;32m     <a href='vscode-notebook-cell://wsl%2Bubuntu/root/Projects/Kaggle/linking-writing/SPF_lgbm_randomsearch.ipynb#X14sdnNjb2RlLXJlbW90ZQ%3D%3D?line=41'>42</a>\u001b[0m             \u001b[39m'\u001b[39m\u001b[39mparams\u001b[39m\u001b[39m'\u001b[39m: \u001b[39mstr\u001b[39m(model\u001b[39m.\u001b[39mget_params())}\n\u001b[1;32m     <a href='vscode-notebook-cell://wsl%2Bubuntu/root/Projects/Kaggle/linking-writing/SPF_lgbm_randomsearch.ipynb#X14sdnNjb2RlLXJlbW90ZQ%3D%3D?line=43'>44</a>\u001b[0m test_predictions_df \u001b[39m=\u001b[39m pd\u001b[39m.\u001b[39mconcat([test_predictions_df, pd\u001b[39m.\u001b[39mDataFrame(data\u001b[39m=\u001b[39mnew_iter)])\n",
      "File \u001b[0;32m~/Projects/Kaggle/linking-writing/m5_models.py:191\u001b[0m, in \u001b[0;36mxgb_cv_pipeline\u001b[0;34m(train_feats, test_feats, xgb_params, seed, n_repeats, n_splits)\u001b[0m\n\u001b[1;32m    188\u001b[0m train_feats\u001b[39m.\u001b[39mreplace([np\u001b[39m.\u001b[39minf, \u001b[39m-\u001b[39mnp\u001b[39m.\u001b[39minf], np\u001b[39m.\u001b[39mnan, inplace\u001b[39m=\u001b[39m\u001b[39mTrue\u001b[39;00m)\n\u001b[1;32m    189\u001b[0m test_feats\u001b[39m.\u001b[39mreplace([np\u001b[39m.\u001b[39minf, \u001b[39m-\u001b[39mnp\u001b[39m.\u001b[39minf], np\u001b[39m.\u001b[39mnan, inplace\u001b[39m=\u001b[39m\u001b[39mTrue\u001b[39;00m)\n\u001b[0;32m--> 191\u001b[0m test_preds, oof_preds, rmse, model \u001b[39m=\u001b[39m run_xgb_cv(train_feats\u001b[39m=\u001b[39;49mtrain_feats, test_feats\u001b[39m=\u001b[39;49mtest_feats, \n\u001b[1;32m    192\u001b[0m                   train_cols\u001b[39m=\u001b[39;49mtrain_cols, target_col\u001b[39m=\u001b[39;49mtarget_col, \n\u001b[1;32m    193\u001b[0m                   xgb_params\u001b[39m=\u001b[39;49mxgb_params,\n\u001b[1;32m    194\u001b[0m                   seed\u001b[39m=\u001b[39;49mseed, n_repeats\u001b[39m=\u001b[39;49mn_repeats, n_splits\u001b[39m=\u001b[39;49mn_splits)\n\u001b[1;32m    196\u001b[0m \u001b[39mreturn\u001b[39;00m test_preds, oof_preds, rmse, model\n",
      "File \u001b[0;32m~/Projects/Kaggle/linking-writing/m5_models.py:162\u001b[0m, in \u001b[0;36mrun_xgb_cv\u001b[0;34m(train_feats, test_feats, train_cols, target_col, xgb_params, seed, n_repeats, n_splits)\u001b[0m\n\u001b[1;32m    159\u001b[0m X_valid, y_valid \u001b[39m=\u001b[39m X\u001b[39m.\u001b[39mloc[valid_idx], y\u001b[39m.\u001b[39mloc[valid_idx]\n\u001b[1;32m    161\u001b[0m model_xgb \u001b[39m=\u001b[39m xgb\u001b[39m.\u001b[39mXGBRegressor(\u001b[39m*\u001b[39m\u001b[39m*\u001b[39mxgb_params)\u001b[39m.\u001b[39mset_params(early_stopping_rounds\u001b[39m=\u001b[39m\u001b[39m250\u001b[39m, random_state \u001b[39m=\u001b[39m seed)\n\u001b[0;32m--> 162\u001b[0m valid_preds_xgb, test_preds_xgb \u001b[39m=\u001b[39m run_xgb_model(model_xgb, \n\u001b[1;32m    163\u001b[0m                                    X_train, y_train, \n\u001b[1;32m    164\u001b[0m                                    X_valid, y_valid, \n\u001b[1;32m    165\u001b[0m                                    X_test)\n\u001b[1;32m    167\u001b[0m test_preds_list\u001b[39m.\u001b[39mappend(test_preds_xgb)\n\u001b[1;32m    169\u001b[0m tmp_df \u001b[39m=\u001b[39m train_feats\u001b[39m.\u001b[39mloc[valid_idx][[\u001b[39m'\u001b[39m\u001b[39mid\u001b[39m\u001b[39m'\u001b[39m,\u001b[39m'\u001b[39m\u001b[39mscore\u001b[39m\u001b[39m'\u001b[39m]]\n",
      "File \u001b[0;32m~/Projects/Kaggle/linking-writing/m5_models.py:24\u001b[0m, in \u001b[0;36mrun_xgb_model\u001b[0;34m(model, X_train, y_train, X_valid, y_valid, X_test)\u001b[0m\n\u001b[1;32m     23\u001b[0m \u001b[39mdef\u001b[39;00m \u001b[39mrun_xgb_model\u001b[39m(model, X_train, y_train, X_valid, y_valid, X_test):\n\u001b[0;32m---> 24\u001b[0m     model\u001b[39m.\u001b[39;49mfit(\n\u001b[1;32m     25\u001b[0m         X_train, y_train, \n\u001b[1;32m     26\u001b[0m         eval_set\u001b[39m=\u001b[39;49m[(X_valid, y_valid)],\n\u001b[1;32m     27\u001b[0m         verbose\u001b[39m=\u001b[39;49m\u001b[39mFalse\u001b[39;49;00m\n\u001b[1;32m     28\u001b[0m     )\n\u001b[1;32m     29\u001b[0m     valid_predictions \u001b[39m=\u001b[39m model\u001b[39m.\u001b[39mpredict(X_valid)\n\u001b[1;32m     30\u001b[0m     test_predictions \u001b[39m=\u001b[39m model\u001b[39m.\u001b[39mpredict(X_test)\n",
      "File \u001b[0;32m~/miniconda3/envs/lrp/lib/python3.10/site-packages/xgboost/core.py:729\u001b[0m, in \u001b[0;36mrequire_keyword_args.<locals>.throw_if.<locals>.inner_f\u001b[0;34m(*args, **kwargs)\u001b[0m\n\u001b[1;32m    727\u001b[0m \u001b[39mfor\u001b[39;00m k, arg \u001b[39min\u001b[39;00m \u001b[39mzip\u001b[39m(sig\u001b[39m.\u001b[39mparameters, args):\n\u001b[1;32m    728\u001b[0m     kwargs[k] \u001b[39m=\u001b[39m arg\n\u001b[0;32m--> 729\u001b[0m \u001b[39mreturn\u001b[39;00m func(\u001b[39m*\u001b[39;49m\u001b[39m*\u001b[39;49mkwargs)\n",
      "File \u001b[0;32m~/miniconda3/envs/lrp/lib/python3.10/site-packages/xgboost/sklearn.py:1086\u001b[0m, in \u001b[0;36mXGBModel.fit\u001b[0;34m(self, X, y, sample_weight, base_margin, eval_set, eval_metric, early_stopping_rounds, verbose, xgb_model, sample_weight_eval_set, base_margin_eval_set, feature_weights, callbacks)\u001b[0m\n\u001b[1;32m   1075\u001b[0m     obj \u001b[39m=\u001b[39m \u001b[39mNone\u001b[39;00m\n\u001b[1;32m   1077\u001b[0m (\n\u001b[1;32m   1078\u001b[0m     model,\n\u001b[1;32m   1079\u001b[0m     metric,\n\u001b[0;32m   (...)\u001b[0m\n\u001b[1;32m   1084\u001b[0m     xgb_model, eval_metric, params, early_stopping_rounds, callbacks\n\u001b[1;32m   1085\u001b[0m )\n\u001b[0;32m-> 1086\u001b[0m \u001b[39mself\u001b[39m\u001b[39m.\u001b[39m_Booster \u001b[39m=\u001b[39m train(\n\u001b[1;32m   1087\u001b[0m     params,\n\u001b[1;32m   1088\u001b[0m     train_dmatrix,\n\u001b[1;32m   1089\u001b[0m     \u001b[39mself\u001b[39;49m\u001b[39m.\u001b[39;49mget_num_boosting_rounds(),\n\u001b[1;32m   1090\u001b[0m     evals\u001b[39m=\u001b[39;49mevals,\n\u001b[1;32m   1091\u001b[0m     early_stopping_rounds\u001b[39m=\u001b[39;49mearly_stopping_rounds,\n\u001b[1;32m   1092\u001b[0m     evals_result\u001b[39m=\u001b[39;49mevals_result,\n\u001b[1;32m   1093\u001b[0m     obj\u001b[39m=\u001b[39;49mobj,\n\u001b[1;32m   1094\u001b[0m     custom_metric\u001b[39m=\u001b[39;49mmetric,\n\u001b[1;32m   1095\u001b[0m     verbose_eval\u001b[39m=\u001b[39;49mverbose,\n\u001b[1;32m   1096\u001b[0m     xgb_model\u001b[39m=\u001b[39;49mmodel,\n\u001b[1;32m   1097\u001b[0m     callbacks\u001b[39m=\u001b[39;49mcallbacks,\n\u001b[1;32m   1098\u001b[0m )\n\u001b[1;32m   1100\u001b[0m \u001b[39mself\u001b[39m\u001b[39m.\u001b[39m_set_evaluation_result(evals_result)\n\u001b[1;32m   1101\u001b[0m \u001b[39mreturn\u001b[39;00m \u001b[39mself\u001b[39m\n",
      "File \u001b[0;32m~/miniconda3/envs/lrp/lib/python3.10/site-packages/xgboost/core.py:729\u001b[0m, in \u001b[0;36mrequire_keyword_args.<locals>.throw_if.<locals>.inner_f\u001b[0;34m(*args, **kwargs)\u001b[0m\n\u001b[1;32m    727\u001b[0m \u001b[39mfor\u001b[39;00m k, arg \u001b[39min\u001b[39;00m \u001b[39mzip\u001b[39m(sig\u001b[39m.\u001b[39mparameters, args):\n\u001b[1;32m    728\u001b[0m     kwargs[k] \u001b[39m=\u001b[39m arg\n\u001b[0;32m--> 729\u001b[0m \u001b[39mreturn\u001b[39;00m func(\u001b[39m*\u001b[39;49m\u001b[39m*\u001b[39;49mkwargs)\n",
      "File \u001b[0;32m~/miniconda3/envs/lrp/lib/python3.10/site-packages/xgboost/training.py:181\u001b[0m, in \u001b[0;36mtrain\u001b[0;34m(params, dtrain, num_boost_round, evals, obj, feval, maximize, early_stopping_rounds, evals_result, verbose_eval, xgb_model, callbacks, custom_metric)\u001b[0m\n\u001b[1;32m    179\u001b[0m \u001b[39mif\u001b[39;00m cb_container\u001b[39m.\u001b[39mbefore_iteration(bst, i, dtrain, evals):\n\u001b[1;32m    180\u001b[0m     \u001b[39mbreak\u001b[39;00m\n\u001b[0;32m--> 181\u001b[0m bst\u001b[39m.\u001b[39;49mupdate(dtrain, i, obj)\n\u001b[1;32m    182\u001b[0m \u001b[39mif\u001b[39;00m cb_container\u001b[39m.\u001b[39mafter_iteration(bst, i, dtrain, evals):\n\u001b[1;32m    183\u001b[0m     \u001b[39mbreak\u001b[39;00m\n",
      "File \u001b[0;32m~/miniconda3/envs/lrp/lib/python3.10/site-packages/xgboost/core.py:2050\u001b[0m, in \u001b[0;36mBooster.update\u001b[0;34m(self, dtrain, iteration, fobj)\u001b[0m\n\u001b[1;32m   2046\u001b[0m \u001b[39mself\u001b[39m\u001b[39m.\u001b[39m_assign_dmatrix_features(dtrain)\n\u001b[1;32m   2048\u001b[0m \u001b[39mif\u001b[39;00m fobj \u001b[39mis\u001b[39;00m \u001b[39mNone\u001b[39;00m:\n\u001b[1;32m   2049\u001b[0m     _check_call(\n\u001b[0;32m-> 2050\u001b[0m         _LIB\u001b[39m.\u001b[39;49mXGBoosterUpdateOneIter(\n\u001b[1;32m   2051\u001b[0m             \u001b[39mself\u001b[39;49m\u001b[39m.\u001b[39;49mhandle, ctypes\u001b[39m.\u001b[39;49mc_int(iteration), dtrain\u001b[39m.\u001b[39;49mhandle\n\u001b[1;32m   2052\u001b[0m         )\n\u001b[1;32m   2053\u001b[0m     )\n\u001b[1;32m   2054\u001b[0m \u001b[39melse\u001b[39;00m:\n\u001b[1;32m   2055\u001b[0m     pred \u001b[39m=\u001b[39m \u001b[39mself\u001b[39m\u001b[39m.\u001b[39mpredict(dtrain, output_margin\u001b[39m=\u001b[39m\u001b[39mTrue\u001b[39;00m, training\u001b[39m=\u001b[39m\u001b[39mTrue\u001b[39;00m)\n",
      "\u001b[0;31mKeyboardInterrupt\u001b[0m: "
     ]
    }
   ],
   "source": [
    "import numpy as np\n",
    "import xgboost as xgb\n",
    "from sklearn.metrics import mean_squared_error\n",
    "from sklearn.model_selection import StratifiedKFold\n",
    "import random\n",
    "\n",
    "def random_param_search_xgb(train_feats, test_feats, n_iterations):\n",
    "    # Define parameter ranges\n",
    "    param_ranges = {\n",
    "        'booster': ['gbtree'],\n",
    "        'max_depth': (3, 10),  # Range for max_depth\n",
    "        'learning_rate': (0.01, 0.2),  # Range for learning_rate\n",
    "        'min_child_weight': (1, 6),  # Range for min_child_weight\n",
    "        'gamma': (0, 0.5),  # Range for gamma\n",
    "        'subsample': (0.5, 1),  # Range for subsample\n",
    "        'colsample_bytree': (0.5, 1),  # Range for colsample_bytree\n",
    "    }\n",
    "\n",
    "    best_rmse = float(\"inf\")\n",
    "    best_params = None\n",
    "    test_predictions_df = pd.DataFrame()\n",
    "\n",
    "    for _ in range(n_iterations):\n",
    "\n",
    "        # Sampling parameters from ranges\n",
    "        params = {\n",
    "            'booster': random.choice(param_ranges['booster']),\n",
    "            'max_depth': random.randint(*param_ranges['max_depth']),\n",
    "            'learning_rate': random.uniform(*param_ranges['learning_rate']),\n",
    "            'min_child_weight': random.randint(*param_ranges['min_child_weight']),\n",
    "            'gamma': random.uniform(*param_ranges['gamma']),\n",
    "            'subsample': random.uniform(*param_ranges['subsample']),\n",
    "            'colsample_bytree': random.uniform(*param_ranges['colsample_bytree']),\n",
    "            'device': 'cuda',\n",
    "        }\n",
    "        \n",
    "        # Train and evaluate model\n",
    "        booster = params['booster']\n",
    "        _, _, rmse, model = xgb_cv_pipeline(train_feats, test_feats, params)\n",
    "                                        \n",
    "        new_iter = {'rmse': [rmse],\n",
    "                    'params': str(model.get_params())}\n",
    "\n",
    "        test_predictions_df = pd.concat([test_predictions_df, pd.DataFrame(data=new_iter)])\n",
    "        # Update best parameters if current model is better\n",
    "        if rmse < best_rmse:\n",
    "            print(f\"New best RMSE: {rmse:.6f}\")\n",
    "            best_rmse = rmse\n",
    "            best_params = model.get_params()\n",
    "    \n",
    "    print(f\"Best RMSE: {best_rmse:.6f}\")\n",
    "    print(\"Best Parameters:\", best_params)\n",
    "    return test_predictions_df\n",
    "\n",
    "# Example usage\n",
    "test_predictions_df_xgb = random_param_search_xgb(train_feats, test_feats, 850)\n",
    "test_predictions_df_xgb.sort_values('rmse').to_csv('params_xgb2.csv', index=False)"
   ]
  },
  {
   "cell_type": "code",
   "execution_count": null,
   "metadata": {},
   "outputs": [],
   "source": [
    "import numpy as np\n",
    "import xgboost as xgb\n",
    "from sklearn.metrics import mean_squared_error\n",
    "from sklearn.model_selection import StratifiedKFold\n",
    "import random\n",
    "\n",
    "def random_param_search_xgb(train_feats, test_feats, n_iterations):\n",
    "    # Define parameter ranges\n",
    "    param_ranges = {\n",
    "        'booster': ['gbtree', 'gblinear'],\n",
    "        'max_depth': (3, 10),  # Range for max_depth\n",
    "        'learning_rate': (0.01, 0.2),  # Range for learning_rate\n",
    "        'n_estimators': (100, 1000),  # Range for n_estimators\n",
    "        'min_child_weight': (1, 6),  # Range for min_child_weight\n",
    "        'gamma': (0, 0.5),  # Range for gamma\n",
    "        'subsample': (0.5, 1),  # Range for subsample\n",
    "        'colsample_bytree': (0.5, 1),  # Range for colsample_bytree\n",
    "    }\n",
    "\n",
    "    best_rmse = float(\"inf\")\n",
    "    best_params = None\n",
    "    test_predictions_df = pd.DataFrame()\n",
    "\n",
    "    for _ in range(n_iterations):\n",
    "\n",
    "        # Sampling parameters from ranges\n",
    "        params = {\n",
    "            'booster': random.choice(param_ranges['booster']),\n",
    "            'max_depth': random.randint(*param_ranges['max_depth']),\n",
    "            'learning_rate': random.uniform(*param_ranges['learning_rate']),\n",
    "            'n_estimators': random.randint(*param_ranges['n_estimators']),\n",
    "            'min_child_weight': random.randint(*param_ranges['min_child_weight']),\n",
    "            'gamma': random.uniform(*param_ranges['gamma']),\n",
    "            'subsample': random.uniform(*param_ranges['subsample']),\n",
    "            'colsample_bytree': random.uniform(*param_ranges['colsample_bytree']),\n",
    "            'device': 'cuda',\n",
    "            'tree_method': 'hist',\n",
    "        }\n",
    "        \n",
    "        # Train and evaluate model\n",
    "        booster = params['booster']\n",
    "        _, _, rmse, model = xgb_cv_pipeline(train_feats, test_feats, params, booster)\n",
    "                                        \n",
    "        new_iter = {'rmse': [rmse],\n",
    "                    'params': str(model.get_params())}\n",
    "\n",
    "        test_predictions_df = pd.concat([test_predictions_df, pd.DataFrame(data=new_iter)])\n",
    "        # Update best parameters if current model is better\n",
    "        if rmse < best_rmse:\n",
    "            print(f\"New best RMSE: {rmse:.6f}\")\n",
    "            best_rmse = rmse\n",
    "            best_params = model.get_params()\n",
    "    \n",
    "    print(f\"Best RMSE: {best_rmse:.6f}\")\n",
    "    print(\"Best Parameters:\", best_params)\n",
    "    return test_predictions_df\n",
    "\n",
    "# Example usage\n",
    "test_predictions_df_xgb = random_param_search_xgb(train_feats, test_feats, 300)\n",
    "test_predictions_df_xgb.sort_values('rmse').to_csv('params_xgb2.csv', index=False)"
   ]
  },
  {
   "cell_type": "code",
   "execution_count": 14,
   "metadata": {},
   "outputs": [],
   "source": [
    "test_predictions_df.sort_values('rmse')"
   ]
  },
  {
   "cell_type": "code",
   "execution_count": 21,
   "metadata": {},
   "outputs": [
    {
     "data": {
      "text/plain": [
       "0    {'boosting_type': 'gbdt', 'class_weight': None...\n",
       "0    {'boosting_type': 'dart', 'class_weight': None...\n",
       "0    {'boosting_type': 'gbdt', 'class_weight': None...\n",
       "Name: params, dtype: object"
      ]
     },
     "execution_count": 21,
     "metadata": {},
     "output_type": "execute_result"
    }
   ],
   "source": [
    "test_predictions_df['params'].head(3)"
   ]
  }
 ],
 "metadata": {
  "kernelspec": {
   "display_name": "lrp",
   "language": "python",
   "name": "python3"
  },
  "language_info": {
   "codemirror_mode": {
    "name": "ipython",
    "version": 3
   },
   "file_extension": ".py",
   "mimetype": "text/x-python",
   "name": "python",
   "nbconvert_exporter": "python",
   "pygments_lexer": "ipython3",
   "version": "3.10.13"
  }
 },
 "nbformat": 4,
 "nbformat_minor": 2
}
