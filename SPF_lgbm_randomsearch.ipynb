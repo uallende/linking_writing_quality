{
 "cells": [
  {
   "cell_type": "code",
   "execution_count": 1,
   "metadata": {},
   "outputs": [],
   "source": [
    "import pandas as pd\n",
    "import numpy as np\n",
    "\n",
    "from m4_feats_functions import *\n",
    "from m5_models import *\n",
    "from m7_utils import *\n",
    "from m3_model_params import lgb_params_1, xgb_params\n",
    "from sklearn.metrics import mean_squared_error\n",
    "from tqdm import tqdm  # Import tqdm"
   ]
  },
  {
   "cell_type": "code",
   "execution_count": 2,
   "metadata": {},
   "outputs": [],
   "source": [
    "# Paths to the train and test directories\n",
    "INPUT_DIR = 'kaggle/input/linking-writing-processes-to-writing-quality'\n",
    "FEATURE_STORE = 'feature_store'\n",
    "train_scores = pd.read_csv(f'{INPUT_DIR}/train_scores.csv')\n",
    "train_feats = pd.read_pickle('feature_store/base_feats/train_base_feats_2.pkl')\n",
    "train_feats = train_feats.merge(train_scores, on='id', how='left')\n",
    "test_feats = pd.read_pickle('feature_store/base_feats/test_base_feats_2.pkl')\n",
    "train_dir = 'feature_store/train'\n",
    "test_dir = 'feature_store/test'\n",
    "# Usage\n",
    "seed = 42\n",
    "n_repeats = 5\n",
    "n_splits = 10\n",
    "target_col = 'score'"
   ]
  },
  {
   "cell_type": "code",
   "execution_count": 5,
   "metadata": {},
   "outputs": [
    {
     "name": "stderr",
     "output_type": "stream",
     "text": [
      "Running Parameter Search:   0%|          | 1/800 [01:21<18:01:05, 81.18s/it, Best RMSE=0.68]"
     ]
    },
    {
     "name": "stdout",
     "output_type": "stream",
     "text": [
      "LGBM Average RMSE over 50 folds: 0.679902\n",
      "New best RMSE: 0.679902\n"
     ]
    },
    {
     "name": "stderr",
     "output_type": "stream",
     "text": [
      "Running Parameter Search:   0%|          | 2/800 [01:43<10:18:52, 46.53s/it, Best RMSE=0.68]"
     ]
    },
    {
     "name": "stdout",
     "output_type": "stream",
     "text": [
      "LGBM Average RMSE over 50 folds: 1.161787\n"
     ]
    },
    {
     "name": "stderr",
     "output_type": "stream",
     "text": [
      "Running Parameter Search:   0%|          | 3/800 [02:24<9:43:13, 43.91s/it, Best RMSE=0.613] "
     ]
    },
    {
     "name": "stdout",
     "output_type": "stream",
     "text": [
      "LGBM Average RMSE over 50 folds: 0.612534\n",
      "New best RMSE: 0.612534\n"
     ]
    },
    {
     "name": "stderr",
     "output_type": "stream",
     "text": [
      "Running Parameter Search:   0%|          | 4/800 [02:41<7:22:27, 33.35s/it, Best RMSE=0.605]"
     ]
    },
    {
     "name": "stdout",
     "output_type": "stream",
     "text": [
      "LGBM Average RMSE over 50 folds: 0.605121\n",
      "New best RMSE: 0.605121\n"
     ]
    },
    {
     "name": "stderr",
     "output_type": "stream",
     "text": [
      "Running Parameter Search:   1%|          | 5/800 [03:04<6:32:21, 29.61s/it, Best RMSE=0.605]"
     ]
    },
    {
     "name": "stdout",
     "output_type": "stream",
     "text": [
      "LGBM Average RMSE over 50 folds: 0.611666\n"
     ]
    },
    {
     "name": "stderr",
     "output_type": "stream",
     "text": [
      "Running Parameter Search:   1%|          | 6/800 [03:18<5:21:05, 24.26s/it, Best RMSE=0.605]"
     ]
    },
    {
     "name": "stdout",
     "output_type": "stream",
     "text": [
      "LGBM Average RMSE over 50 folds: 0.607990\n"
     ]
    },
    {
     "name": "stderr",
     "output_type": "stream",
     "text": [
      "Running Parameter Search:   1%|          | 7/800 [03:32<4:38:45, 21.09s/it, Best RMSE=0.605]"
     ]
    },
    {
     "name": "stdout",
     "output_type": "stream",
     "text": [
      "LGBM Average RMSE over 50 folds: 0.948358\n"
     ]
    },
    {
     "name": "stderr",
     "output_type": "stream",
     "text": [
      "Running Parameter Search:   1%|          | 8/800 [04:18<6:23:36, 29.06s/it, Best RMSE=0.605]"
     ]
    },
    {
     "name": "stdout",
     "output_type": "stream",
     "text": [
      "LGBM Average RMSE over 50 folds: 0.613186\n"
     ]
    },
    {
     "name": "stderr",
     "output_type": "stream",
     "text": [
      "Running Parameter Search:   1%|          | 9/800 [04:43<6:03:10, 27.55s/it, Best RMSE=0.605]"
     ]
    },
    {
     "name": "stdout",
     "output_type": "stream",
     "text": [
      "LGBM Average RMSE over 50 folds: 0.613269\n"
     ]
    },
    {
     "name": "stderr",
     "output_type": "stream",
     "text": [
      "Running Parameter Search:   1%|▏         | 10/800 [04:56<5:03:03, 23.02s/it, Best RMSE=0.605]"
     ]
    },
    {
     "name": "stdout",
     "output_type": "stream",
     "text": [
      "LGBM Average RMSE over 50 folds: 0.607804\n"
     ]
    },
    {
     "name": "stderr",
     "output_type": "stream",
     "text": [
      "Running Parameter Search:   1%|▏         | 11/800 [05:17<4:56:00, 22.51s/it, Best RMSE=0.605]"
     ]
    },
    {
     "name": "stdout",
     "output_type": "stream",
     "text": [
      "LGBM Average RMSE over 50 folds: 0.606467\n"
     ]
    },
    {
     "name": "stderr",
     "output_type": "stream",
     "text": [
      "Running Parameter Search:   2%|▏         | 12/800 [05:32<4:26:21, 20.28s/it, Best RMSE=0.605]"
     ]
    },
    {
     "name": "stdout",
     "output_type": "stream",
     "text": [
      "LGBM Average RMSE over 50 folds: 0.662837\n"
     ]
    },
    {
     "name": "stderr",
     "output_type": "stream",
     "text": [
      "Running Parameter Search:   2%|▏         | 13/800 [05:48<4:08:03, 18.91s/it, Best RMSE=0.605]"
     ]
    },
    {
     "name": "stdout",
     "output_type": "stream",
     "text": [
      "LGBM Average RMSE over 50 folds: 0.607079\n"
     ]
    },
    {
     "name": "stderr",
     "output_type": "stream",
     "text": [
      "Running Parameter Search:   2%|▏         | 14/800 [06:50<6:59:50, 32.05s/it, Best RMSE=0.605]"
     ]
    },
    {
     "name": "stdout",
     "output_type": "stream",
     "text": [
      "LGBM Average RMSE over 50 folds: 0.640446\n"
     ]
    },
    {
     "name": "stderr",
     "output_type": "stream",
     "text": [
      "Running Parameter Search:   2%|▏         | 15/800 [07:12<6:20:36, 29.09s/it, Best RMSE=0.605]"
     ]
    },
    {
     "name": "stdout",
     "output_type": "stream",
     "text": [
      "LGBM Average RMSE over 50 folds: 0.679441\n"
     ]
    },
    {
     "name": "stderr",
     "output_type": "stream",
     "text": [
      "Running Parameter Search:   2%|▏         | 16/800 [07:50<6:51:15, 31.47s/it, Best RMSE=0.605]"
     ]
    },
    {
     "name": "stdout",
     "output_type": "stream",
     "text": [
      "LGBM Average RMSE over 50 folds: 0.612216\n"
     ]
    },
    {
     "name": "stderr",
     "output_type": "stream",
     "text": [
      "Running Parameter Search:   2%|▏         | 17/800 [08:22<6:55:28, 31.84s/it, Best RMSE=0.605]"
     ]
    },
    {
     "name": "stdout",
     "output_type": "stream",
     "text": [
      "LGBM Average RMSE over 50 folds: 0.616472\n"
     ]
    },
    {
     "name": "stderr",
     "output_type": "stream",
     "text": [
      "Running Parameter Search:   2%|▏         | 18/800 [08:53<6:50:54, 31.53s/it, Best RMSE=0.605]"
     ]
    },
    {
     "name": "stdout",
     "output_type": "stream",
     "text": [
      "LGBM Average RMSE over 50 folds: 0.608078\n"
     ]
    },
    {
     "name": "stderr",
     "output_type": "stream",
     "text": [
      "Running Parameter Search:   2%|▏         | 19/800 [09:18<6:25:31, 29.62s/it, Best RMSE=0.605]"
     ]
    },
    {
     "name": "stdout",
     "output_type": "stream",
     "text": [
      "LGBM Average RMSE over 50 folds: 0.613100\n"
     ]
    },
    {
     "name": "stderr",
     "output_type": "stream",
     "text": [
      "Running Parameter Search:   2%|▎         | 20/800 [09:58<7:05:47, 32.75s/it, Best RMSE=0.605]"
     ]
    },
    {
     "name": "stdout",
     "output_type": "stream",
     "text": [
      "LGBM Average RMSE over 50 folds: 0.614794\n"
     ]
    },
    {
     "name": "stderr",
     "output_type": "stream",
     "text": [
      "Running Parameter Search:   3%|▎         | 21/800 [10:13<5:56:10, 27.43s/it, Best RMSE=0.605]"
     ]
    },
    {
     "name": "stdout",
     "output_type": "stream",
     "text": [
      "LGBM Average RMSE over 50 folds: 0.636944\n"
     ]
    },
    {
     "name": "stderr",
     "output_type": "stream",
     "text": [
      "Running Parameter Search:   3%|▎         | 22/800 [10:29<5:10:57, 23.98s/it, Best RMSE=0.605]"
     ]
    },
    {
     "name": "stdout",
     "output_type": "stream",
     "text": [
      "LGBM Average RMSE over 50 folds: 0.609188\n"
     ]
    },
    {
     "name": "stderr",
     "output_type": "stream",
     "text": [
      "Running Parameter Search:   3%|▎         | 23/800 [10:41<4:24:58, 20.46s/it, Best RMSE=0.605]"
     ]
    },
    {
     "name": "stdout",
     "output_type": "stream",
     "text": [
      "LGBM Average RMSE over 50 folds: 0.608005\n"
     ]
    },
    {
     "name": "stderr",
     "output_type": "stream",
     "text": [
      "Running Parameter Search:   3%|▎         | 24/800 [11:08<4:47:17, 22.21s/it, Best RMSE=0.605]"
     ]
    },
    {
     "name": "stdout",
     "output_type": "stream",
     "text": [
      "LGBM Average RMSE over 50 folds: 0.616263\n"
     ]
    },
    {
     "name": "stderr",
     "output_type": "stream",
     "text": [
      "Running Parameter Search:   3%|▎         | 25/800 [11:27<4:34:26, 21.25s/it, Best RMSE=0.605]"
     ]
    },
    {
     "name": "stdout",
     "output_type": "stream",
     "text": [
      "LGBM Average RMSE over 50 folds: 0.630938\n"
     ]
    },
    {
     "name": "stderr",
     "output_type": "stream",
     "text": [
      "Running Parameter Search:   3%|▎         | 26/800 [11:45<4:23:58, 20.46s/it, Best RMSE=0.605]"
     ]
    },
    {
     "name": "stdout",
     "output_type": "stream",
     "text": [
      "LGBM Average RMSE over 50 folds: 0.637748\n"
     ]
    },
    {
     "name": "stderr",
     "output_type": "stream",
     "text": [
      "Running Parameter Search:   3%|▎         | 27/800 [12:11<4:43:32, 22.01s/it, Best RMSE=0.605]"
     ]
    },
    {
     "name": "stdout",
     "output_type": "stream",
     "text": [
      "LGBM Average RMSE over 50 folds: 0.634962\n"
     ]
    },
    {
     "name": "stderr",
     "output_type": "stream",
     "text": [
      "Running Parameter Search:   4%|▎         | 28/800 [12:25<4:13:21, 19.69s/it, Best RMSE=0.605]"
     ]
    },
    {
     "name": "stdout",
     "output_type": "stream",
     "text": [
      "LGBM Average RMSE over 50 folds: 0.709782\n"
     ]
    },
    {
     "name": "stderr",
     "output_type": "stream",
     "text": [
      "Running Parameter Search:   4%|▎         | 29/800 [12:41<3:55:59, 18.37s/it, Best RMSE=0.605]"
     ]
    },
    {
     "name": "stdout",
     "output_type": "stream",
     "text": [
      "LGBM Average RMSE over 50 folds: 0.642945\n"
     ]
    },
    {
     "name": "stderr",
     "output_type": "stream",
     "text": [
      "Running Parameter Search:   4%|▍         | 30/800 [13:19<5:13:45, 24.45s/it, Best RMSE=0.605]"
     ]
    },
    {
     "name": "stdout",
     "output_type": "stream",
     "text": [
      "LGBM Average RMSE over 50 folds: 0.776806\n"
     ]
    },
    {
     "name": "stderr",
     "output_type": "stream",
     "text": [
      "Running Parameter Search:   4%|▍         | 31/800 [14:09<6:51:12, 32.08s/it, Best RMSE=0.605]"
     ]
    },
    {
     "name": "stdout",
     "output_type": "stream",
     "text": [
      "LGBM Average RMSE over 50 folds: 0.624889\n"
     ]
    },
    {
     "name": "stderr",
     "output_type": "stream",
     "text": [
      "Running Parameter Search:   4%|▍         | 32/800 [14:25<5:50:27, 27.38s/it, Best RMSE=0.605]"
     ]
    },
    {
     "name": "stdout",
     "output_type": "stream",
     "text": [
      "LGBM Average RMSE over 50 folds: 0.652066\n"
     ]
    },
    {
     "name": "stderr",
     "output_type": "stream",
     "text": [
      "Running Parameter Search:   4%|▍         | 33/800 [14:54<5:53:08, 27.62s/it, Best RMSE=0.605]"
     ]
    },
    {
     "name": "stdout",
     "output_type": "stream",
     "text": [
      "LGBM Average RMSE over 50 folds: 0.606786\n"
     ]
    },
    {
     "name": "stderr",
     "output_type": "stream",
     "text": [
      "Running Parameter Search:   4%|▍         | 34/800 [15:12<5:18:28, 24.95s/it, Best RMSE=0.605]"
     ]
    },
    {
     "name": "stdout",
     "output_type": "stream",
     "text": [
      "LGBM Average RMSE over 50 folds: 0.607504\n"
     ]
    },
    {
     "name": "stderr",
     "output_type": "stream",
     "text": [
      "Running Parameter Search:   4%|▍         | 35/800 [15:31<4:55:29, 23.18s/it, Best RMSE=0.605]"
     ]
    },
    {
     "name": "stdout",
     "output_type": "stream",
     "text": [
      "LGBM Average RMSE over 50 folds: 0.743677\n"
     ]
    },
    {
     "name": "stderr",
     "output_type": "stream",
     "text": [
      "Running Parameter Search:   4%|▍         | 36/800 [15:46<4:21:16, 20.52s/it, Best RMSE=0.605]"
     ]
    },
    {
     "name": "stdout",
     "output_type": "stream",
     "text": [
      "LGBM Average RMSE over 50 folds: 0.606897\n"
     ]
    },
    {
     "name": "stderr",
     "output_type": "stream",
     "text": [
      "Running Parameter Search:   5%|▍         | 37/800 [16:14<4:48:58, 22.72s/it, Best RMSE=0.605]"
     ]
    },
    {
     "name": "stdout",
     "output_type": "stream",
     "text": [
      "LGBM Average RMSE over 50 folds: 0.737335\n"
     ]
    },
    {
     "name": "stderr",
     "output_type": "stream",
     "text": [
      "Running Parameter Search:   5%|▍         | 38/800 [16:54<5:55:31, 27.99s/it, Best RMSE=0.605]"
     ]
    },
    {
     "name": "stdout",
     "output_type": "stream",
     "text": [
      "LGBM Average RMSE over 50 folds: 0.615862\n"
     ]
    },
    {
     "name": "stderr",
     "output_type": "stream",
     "text": [
      "Running Parameter Search:   5%|▍         | 39/800 [17:44<7:19:52, 34.68s/it, Best RMSE=0.605]"
     ]
    },
    {
     "name": "stdout",
     "output_type": "stream",
     "text": [
      "LGBM Average RMSE over 50 folds: 0.615141\n"
     ]
    },
    {
     "name": "stderr",
     "output_type": "stream",
     "text": [
      "Running Parameter Search:   5%|▌         | 40/800 [18:17<7:11:11, 34.04s/it, Best RMSE=0.605]"
     ]
    },
    {
     "name": "stdout",
     "output_type": "stream",
     "text": [
      "LGBM Average RMSE over 50 folds: 0.606585\n"
     ]
    },
    {
     "name": "stderr",
     "output_type": "stream",
     "text": [
      "Running Parameter Search:   5%|▌         | 41/800 [18:30<5:52:42, 27.88s/it, Best RMSE=0.605]"
     ]
    },
    {
     "name": "stdout",
     "output_type": "stream",
     "text": [
      "LGBM Average RMSE over 50 folds: 0.605041\n",
      "New best RMSE: 0.605041\n"
     ]
    },
    {
     "name": "stderr",
     "output_type": "stream",
     "text": [
      "Running Parameter Search:   5%|▌         | 42/800 [18:48<5:14:12, 24.87s/it, Best RMSE=0.605]"
     ]
    },
    {
     "name": "stdout",
     "output_type": "stream",
     "text": [
      "LGBM Average RMSE over 50 folds: 0.945658\n"
     ]
    },
    {
     "name": "stderr",
     "output_type": "stream",
     "text": [
      "Running Parameter Search:   5%|▌         | 43/800 [19:04<4:39:10, 22.13s/it, Best RMSE=0.605]"
     ]
    },
    {
     "name": "stdout",
     "output_type": "stream",
     "text": [
      "LGBM Average RMSE over 50 folds: 0.626769\n"
     ]
    },
    {
     "name": "stderr",
     "output_type": "stream",
     "text": [
      "Running Parameter Search:   6%|▌         | 44/800 [19:18<4:09:17, 19.78s/it, Best RMSE=0.605]"
     ]
    },
    {
     "name": "stdout",
     "output_type": "stream",
     "text": [
      "LGBM Average RMSE over 50 folds: 0.608790\n"
     ]
    },
    {
     "name": "stderr",
     "output_type": "stream",
     "text": [
      "Running Parameter Search:   6%|▌         | 45/800 [19:40<4:17:36, 20.47s/it, Best RMSE=0.605]"
     ]
    },
    {
     "name": "stdout",
     "output_type": "stream",
     "text": [
      "LGBM Average RMSE over 50 folds: 0.614962\n"
     ]
    },
    {
     "name": "stderr",
     "output_type": "stream",
     "text": [
      "Running Parameter Search:   6%|▌         | 46/800 [20:03<4:25:24, 21.12s/it, Best RMSE=0.605]"
     ]
    },
    {
     "name": "stdout",
     "output_type": "stream",
     "text": [
      "LGBM Average RMSE over 50 folds: 0.632290\n"
     ]
    },
    {
     "name": "stderr",
     "output_type": "stream",
     "text": [
      "Running Parameter Search:   6%|▌         | 47/800 [20:19<4:04:32, 19.48s/it, Best RMSE=0.605]"
     ]
    },
    {
     "name": "stdout",
     "output_type": "stream",
     "text": [
      "LGBM Average RMSE over 50 folds: 0.608367\n"
     ]
    },
    {
     "name": "stderr",
     "output_type": "stream",
     "text": [
      "Running Parameter Search:   6%|▌         | 48/800 [20:32<3:42:14, 17.73s/it, Best RMSE=0.605]"
     ]
    },
    {
     "name": "stdout",
     "output_type": "stream",
     "text": [
      "LGBM Average RMSE over 50 folds: 0.607236\n"
     ]
    },
    {
     "name": "stderr",
     "output_type": "stream",
     "text": [
      "Running Parameter Search:   6%|▌         | 49/800 [21:10<4:58:25, 23.84s/it, Best RMSE=0.605]"
     ]
    },
    {
     "name": "stdout",
     "output_type": "stream",
     "text": [
      "LGBM Average RMSE over 50 folds: 0.615965\n"
     ]
    },
    {
     "name": "stderr",
     "output_type": "stream",
     "text": [
      "Running Parameter Search:   6%|▋         | 50/800 [21:28<4:35:31, 22.04s/it, Best RMSE=0.605]"
     ]
    },
    {
     "name": "stdout",
     "output_type": "stream",
     "text": [
      "LGBM Average RMSE over 50 folds: 0.608587\n"
     ]
    },
    {
     "name": "stderr",
     "output_type": "stream",
     "text": [
      "Running Parameter Search:   6%|▋         | 51/800 [21:52<4:41:33, 22.55s/it, Best RMSE=0.605]"
     ]
    },
    {
     "name": "stdout",
     "output_type": "stream",
     "text": [
      "LGBM Average RMSE over 50 folds: 0.610448\n"
     ]
    },
    {
     "name": "stderr",
     "output_type": "stream",
     "text": [
      "Running Parameter Search:   6%|▋         | 52/800 [22:23<5:13:27, 25.14s/it, Best RMSE=0.605]"
     ]
    },
    {
     "name": "stdout",
     "output_type": "stream",
     "text": [
      "LGBM Average RMSE over 50 folds: 0.610166\n"
     ]
    },
    {
     "name": "stderr",
     "output_type": "stream",
     "text": [
      "Running Parameter Search:   7%|▋         | 53/800 [22:57<5:45:42, 27.77s/it, Best RMSE=0.605]"
     ]
    },
    {
     "name": "stdout",
     "output_type": "stream",
     "text": [
      "LGBM Average RMSE over 50 folds: 0.610250\n"
     ]
    },
    {
     "name": "stderr",
     "output_type": "stream",
     "text": [
      "Running Parameter Search:   7%|▋         | 54/800 [23:16<5:14:13, 25.27s/it, Best RMSE=0.605]"
     ]
    },
    {
     "name": "stdout",
     "output_type": "stream",
     "text": [
      "LGBM Average RMSE over 50 folds: 0.660383\n"
     ]
    },
    {
     "name": "stderr",
     "output_type": "stream",
     "text": [
      "Running Parameter Search:   7%|▋         | 55/800 [23:36<4:54:05, 23.69s/it, Best RMSE=0.605]"
     ]
    },
    {
     "name": "stdout",
     "output_type": "stream",
     "text": [
      "LGBM Average RMSE over 50 folds: 0.628547\n"
     ]
    },
    {
     "name": "stderr",
     "output_type": "stream",
     "text": [
      "Running Parameter Search:   7%|▋         | 56/800 [25:14<9:27:32, 45.77s/it, Best RMSE=0.605]"
     ]
    },
    {
     "name": "stdout",
     "output_type": "stream",
     "text": [
      "LGBM Average RMSE over 50 folds: 0.648417\n"
     ]
    },
    {
     "name": "stderr",
     "output_type": "stream",
     "text": [
      "Running Parameter Search:   7%|▋         | 57/800 [25:33<7:46:47, 37.70s/it, Best RMSE=0.605]"
     ]
    },
    {
     "name": "stdout",
     "output_type": "stream",
     "text": [
      "LGBM Average RMSE over 50 folds: 2.086226\n"
     ]
    },
    {
     "name": "stderr",
     "output_type": "stream",
     "text": [
      "Running Parameter Search:   7%|▋         | 58/800 [25:54<6:45:00, 32.75s/it, Best RMSE=0.605]"
     ]
    },
    {
     "name": "stdout",
     "output_type": "stream",
     "text": [
      "LGBM Average RMSE over 50 folds: 0.609597\n"
     ]
    },
    {
     "name": "stderr",
     "output_type": "stream",
     "text": [
      "Running Parameter Search:   7%|▋         | 59/800 [26:39<7:32:14, 36.62s/it, Best RMSE=0.605]"
     ]
    },
    {
     "name": "stdout",
     "output_type": "stream",
     "text": [
      "LGBM Average RMSE over 50 folds: 0.615980\n"
     ]
    },
    {
     "name": "stderr",
     "output_type": "stream",
     "text": [
      "Running Parameter Search:   8%|▊         | 60/800 [27:30<8:22:50, 40.77s/it, Best RMSE=0.605]"
     ]
    },
    {
     "name": "stdout",
     "output_type": "stream",
     "text": [
      "LGBM Average RMSE over 50 folds: 0.616321\n"
     ]
    },
    {
     "name": "stderr",
     "output_type": "stream",
     "text": [
      "Running Parameter Search:   8%|▊         | 61/800 [27:53<7:17:08, 35.49s/it, Best RMSE=0.605]"
     ]
    },
    {
     "name": "stdout",
     "output_type": "stream",
     "text": [
      "LGBM Average RMSE over 50 folds: 0.705798\n"
     ]
    },
    {
     "name": "stderr",
     "output_type": "stream",
     "text": [
      "Running Parameter Search:   8%|▊         | 62/800 [28:48<8:30:12, 41.48s/it, Best RMSE=0.605]"
     ]
    },
    {
     "name": "stdout",
     "output_type": "stream",
     "text": [
      "LGBM Average RMSE over 50 folds: 0.611949\n"
     ]
    },
    {
     "name": "stderr",
     "output_type": "stream",
     "text": [
      "Running Parameter Search:   8%|▊         | 63/800 [29:36<8:53:24, 43.42s/it, Best RMSE=0.605]"
     ]
    },
    {
     "name": "stdout",
     "output_type": "stream",
     "text": [
      "LGBM Average RMSE over 50 folds: 0.608466\n"
     ]
    },
    {
     "name": "stderr",
     "output_type": "stream",
     "text": [
      "Running Parameter Search:   8%|▊         | 64/800 [30:36<9:51:54, 48.25s/it, Best RMSE=0.605]"
     ]
    },
    {
     "name": "stdout",
     "output_type": "stream",
     "text": [
      "LGBM Average RMSE over 50 folds: 0.617670\n"
     ]
    },
    {
     "name": "stderr",
     "output_type": "stream",
     "text": [
      "Running Parameter Search:   8%|▊         | 65/800 [31:33<10:22:54, 50.85s/it, Best RMSE=0.605]"
     ]
    },
    {
     "name": "stdout",
     "output_type": "stream",
     "text": [
      "LGBM Average RMSE over 50 folds: 0.625487\n"
     ]
    },
    {
     "name": "stderr",
     "output_type": "stream",
     "text": [
      "Running Parameter Search:   8%|▊         | 66/800 [31:45<7:59:18, 39.18s/it, Best RMSE=0.605] "
     ]
    },
    {
     "name": "stdout",
     "output_type": "stream",
     "text": [
      "LGBM Average RMSE over 50 folds: 0.606466\n"
     ]
    },
    {
     "name": "stderr",
     "output_type": "stream",
     "text": [
      "Running Parameter Search:   8%|▊         | 67/800 [32:09<7:03:07, 34.64s/it, Best RMSE=0.605]"
     ]
    },
    {
     "name": "stdout",
     "output_type": "stream",
     "text": [
      "LGBM Average RMSE over 50 folds: 0.622769\n"
     ]
    },
    {
     "name": "stderr",
     "output_type": "stream",
     "text": [
      "Running Parameter Search:   8%|▊         | 68/800 [32:31<6:16:28, 30.86s/it, Best RMSE=0.605]"
     ]
    },
    {
     "name": "stdout",
     "output_type": "stream",
     "text": [
      "LGBM Average RMSE over 50 folds: 0.678954\n"
     ]
    },
    {
     "name": "stderr",
     "output_type": "stream",
     "text": [
      "Running Parameter Search:   9%|▊         | 69/800 [32:46<5:19:38, 26.24s/it, Best RMSE=0.605]"
     ]
    },
    {
     "name": "stdout",
     "output_type": "stream",
     "text": [
      "LGBM Average RMSE over 50 folds: 0.609548\n"
     ]
    },
    {
     "name": "stderr",
     "output_type": "stream",
     "text": [
      "Running Parameter Search:   9%|▉         | 70/800 [33:15<5:29:23, 27.07s/it, Best RMSE=0.605]"
     ]
    },
    {
     "name": "stdout",
     "output_type": "stream",
     "text": [
      "LGBM Average RMSE over 50 folds: 0.610183\n"
     ]
    },
    {
     "name": "stderr",
     "output_type": "stream",
     "text": [
      "Running Parameter Search:   9%|▉         | 71/800 [34:22<7:51:43, 38.82s/it, Best RMSE=0.605]"
     ]
    },
    {
     "name": "stdout",
     "output_type": "stream",
     "text": [
      "LGBM Average RMSE over 50 folds: 0.622260\n"
     ]
    },
    {
     "name": "stderr",
     "output_type": "stream",
     "text": [
      "Running Parameter Search:   9%|▉         | 72/800 [34:35<6:17:45, 31.13s/it, Best RMSE=0.605]"
     ]
    },
    {
     "name": "stdout",
     "output_type": "stream",
     "text": [
      "LGBM Average RMSE over 50 folds: 0.610002\n"
     ]
    },
    {
     "name": "stderr",
     "output_type": "stream",
     "text": [
      "Running Parameter Search:   9%|▉         | 73/800 [35:07<6:22:54, 31.60s/it, Best RMSE=0.605]"
     ]
    },
    {
     "name": "stdout",
     "output_type": "stream",
     "text": [
      "LGBM Average RMSE over 50 folds: 0.615090\n"
     ]
    },
    {
     "name": "stderr",
     "output_type": "stream",
     "text": [
      "Running Parameter Search:   9%|▉         | 74/800 [36:11<8:17:37, 41.13s/it, Best RMSE=0.605]"
     ]
    },
    {
     "name": "stdout",
     "output_type": "stream",
     "text": [
      "LGBM Average RMSE over 50 folds: 0.619854\n"
     ]
    },
    {
     "name": "stderr",
     "output_type": "stream",
     "text": [
      "Running Parameter Search:   9%|▉         | 75/800 [36:44<7:47:45, 38.71s/it, Best RMSE=0.605]"
     ]
    },
    {
     "name": "stdout",
     "output_type": "stream",
     "text": [
      "LGBM Average RMSE over 50 folds: 0.608398\n"
     ]
    },
    {
     "name": "stderr",
     "output_type": "stream",
     "text": [
      "Running Parameter Search:  10%|▉         | 76/800 [37:11<7:05:41, 35.28s/it, Best RMSE=0.605]"
     ]
    },
    {
     "name": "stdout",
     "output_type": "stream",
     "text": [
      "LGBM Average RMSE over 50 folds: 0.608644\n"
     ]
    },
    {
     "name": "stderr",
     "output_type": "stream",
     "text": [
      "Running Parameter Search:  10%|▉         | 77/800 [37:47<7:07:28, 35.47s/it, Best RMSE=0.605]"
     ]
    },
    {
     "name": "stdout",
     "output_type": "stream",
     "text": [
      "LGBM Average RMSE over 50 folds: 0.612975\n"
     ]
    },
    {
     "name": "stderr",
     "output_type": "stream",
     "text": [
      "Running Parameter Search:  10%|▉         | 78/800 [38:16<6:42:03, 33.41s/it, Best RMSE=0.605]"
     ]
    },
    {
     "name": "stdout",
     "output_type": "stream",
     "text": [
      "LGBM Average RMSE over 50 folds: 0.611079\n"
     ]
    },
    {
     "name": "stderr",
     "output_type": "stream",
     "text": [
      "Running Parameter Search:  10%|▉         | 79/800 [38:49<6:42:16, 33.48s/it, Best RMSE=0.605]"
     ]
    },
    {
     "name": "stdout",
     "output_type": "stream",
     "text": [
      "LGBM Average RMSE over 50 folds: 0.608597\n"
     ]
    },
    {
     "name": "stderr",
     "output_type": "stream",
     "text": [
      "Running Parameter Search:  10%|█         | 80/800 [39:53<8:31:26, 42.62s/it, Best RMSE=0.605]"
     ]
    },
    {
     "name": "stdout",
     "output_type": "stream",
     "text": [
      "LGBM Average RMSE over 50 folds: 0.622743\n"
     ]
    },
    {
     "name": "stderr",
     "output_type": "stream",
     "text": [
      "Running Parameter Search:  10%|█         | 81/800 [40:15<7:17:17, 36.49s/it, Best RMSE=0.604]"
     ]
    },
    {
     "name": "stdout",
     "output_type": "stream",
     "text": [
      "LGBM Average RMSE over 50 folds: 0.603551\n",
      "New best RMSE: 0.603551\n"
     ]
    },
    {
     "name": "stderr",
     "output_type": "stream",
     "text": [
      "Running Parameter Search:  10%|█         | 82/800 [40:30<5:57:14, 29.85s/it, Best RMSE=0.604]"
     ]
    },
    {
     "name": "stdout",
     "output_type": "stream",
     "text": [
      "LGBM Average RMSE over 50 folds: 0.922445\n"
     ]
    },
    {
     "name": "stderr",
     "output_type": "stream",
     "text": [
      "Running Parameter Search:  10%|█         | 83/800 [41:11<6:37:52, 33.30s/it, Best RMSE=0.604]"
     ]
    },
    {
     "name": "stdout",
     "output_type": "stream",
     "text": [
      "LGBM Average RMSE over 50 folds: 0.617284\n"
     ]
    },
    {
     "name": "stderr",
     "output_type": "stream",
     "text": [
      "Running Parameter Search:  10%|█         | 84/800 [41:28<5:39:54, 28.48s/it, Best RMSE=0.604]"
     ]
    },
    {
     "name": "stdout",
     "output_type": "stream",
     "text": [
      "LGBM Average RMSE over 50 folds: 0.609042\n"
     ]
    },
    {
     "name": "stderr",
     "output_type": "stream",
     "text": [
      "Running Parameter Search:  11%|█         | 85/800 [42:05<6:06:56, 30.79s/it, Best RMSE=0.604]"
     ]
    },
    {
     "name": "stdout",
     "output_type": "stream",
     "text": [
      "LGBM Average RMSE over 50 folds: 0.608025\n"
     ]
    },
    {
     "name": "stderr",
     "output_type": "stream",
     "text": [
      "Running Parameter Search:  11%|█         | 86/800 [42:36<6:06:55, 30.83s/it, Best RMSE=0.604]"
     ]
    },
    {
     "name": "stdout",
     "output_type": "stream",
     "text": [
      "LGBM Average RMSE over 50 folds: 0.733609\n"
     ]
    },
    {
     "name": "stderr",
     "output_type": "stream",
     "text": [
      "Running Parameter Search:  11%|█         | 87/800 [43:16<6:41:01, 33.75s/it, Best RMSE=0.604]"
     ]
    },
    {
     "name": "stdout",
     "output_type": "stream",
     "text": [
      "LGBM Average RMSE over 50 folds: 0.614363\n"
     ]
    },
    {
     "name": "stderr",
     "output_type": "stream",
     "text": [
      "Running Parameter Search:  11%|█         | 88/800 [43:52<6:47:38, 34.35s/it, Best RMSE=0.604]"
     ]
    },
    {
     "name": "stdout",
     "output_type": "stream",
     "text": [
      "LGBM Average RMSE over 50 folds: 0.616398\n"
     ]
    },
    {
     "name": "stderr",
     "output_type": "stream",
     "text": [
      "Running Parameter Search:  11%|█         | 89/800 [44:12<5:55:03, 29.96s/it, Best RMSE=0.604]"
     ]
    },
    {
     "name": "stdout",
     "output_type": "stream",
     "text": [
      "LGBM Average RMSE over 50 folds: 0.609098\n"
     ]
    },
    {
     "name": "stderr",
     "output_type": "stream",
     "text": [
      "Running Parameter Search:  11%|█▏        | 90/800 [45:00<7:01:32, 35.62s/it, Best RMSE=0.604]"
     ]
    },
    {
     "name": "stdout",
     "output_type": "stream",
     "text": [
      "LGBM Average RMSE over 50 folds: 0.614129\n"
     ]
    },
    {
     "name": "stderr",
     "output_type": "stream",
     "text": [
      "Running Parameter Search:  11%|█▏        | 91/800 [45:17<5:53:01, 29.87s/it, Best RMSE=0.604]"
     ]
    },
    {
     "name": "stdout",
     "output_type": "stream",
     "text": [
      "LGBM Average RMSE over 50 folds: 0.605662\n"
     ]
    },
    {
     "name": "stderr",
     "output_type": "stream",
     "text": [
      "Running Parameter Search:  12%|█▏        | 92/800 [45:34<5:06:21, 25.96s/it, Best RMSE=0.604]"
     ]
    },
    {
     "name": "stdout",
     "output_type": "stream",
     "text": [
      "LGBM Average RMSE over 50 folds: 0.608878\n"
     ]
    },
    {
     "name": "stderr",
     "output_type": "stream",
     "text": [
      "Running Parameter Search:  12%|█▏        | 93/800 [45:50<4:31:55, 23.08s/it, Best RMSE=0.604]"
     ]
    },
    {
     "name": "stdout",
     "output_type": "stream",
     "text": [
      "LGBM Average RMSE over 50 folds: 0.718849\n"
     ]
    },
    {
     "name": "stderr",
     "output_type": "stream",
     "text": [
      "Running Parameter Search:  12%|█▏        | 94/800 [46:25<5:13:40, 26.66s/it, Best RMSE=0.604]"
     ]
    },
    {
     "name": "stdout",
     "output_type": "stream",
     "text": [
      "LGBM Average RMSE over 50 folds: 0.609181\n"
     ]
    },
    {
     "name": "stderr",
     "output_type": "stream",
     "text": [
      "Running Parameter Search:  12%|█▏        | 95/800 [46:59<5:38:22, 28.80s/it, Best RMSE=0.604]"
     ]
    },
    {
     "name": "stdout",
     "output_type": "stream",
     "text": [
      "LGBM Average RMSE over 50 folds: 0.635235\n"
     ]
    },
    {
     "name": "stderr",
     "output_type": "stream",
     "text": [
      "Running Parameter Search:  12%|█▏        | 96/800 [47:14<4:51:09, 24.82s/it, Best RMSE=0.604]"
     ]
    },
    {
     "name": "stdout",
     "output_type": "stream",
     "text": [
      "LGBM Average RMSE over 50 folds: 2.024966\n"
     ]
    },
    {
     "name": "stderr",
     "output_type": "stream",
     "text": [
      "Running Parameter Search:  12%|█▏        | 97/800 [47:33<4:27:19, 22.82s/it, Best RMSE=0.604]"
     ]
    },
    {
     "name": "stdout",
     "output_type": "stream",
     "text": [
      "LGBM Average RMSE over 50 folds: 0.651666\n"
     ]
    },
    {
     "name": "stderr",
     "output_type": "stream",
     "text": [
      "Running Parameter Search:  12%|█▏        | 98/800 [48:30<6:27:30, 33.12s/it, Best RMSE=0.604]"
     ]
    },
    {
     "name": "stdout",
     "output_type": "stream",
     "text": [
      "LGBM Average RMSE over 50 folds: 0.623264\n"
     ]
    },
    {
     "name": "stderr",
     "output_type": "stream",
     "text": [
      "Running Parameter Search:  12%|█▏        | 99/800 [49:02<6:22:51, 32.77s/it, Best RMSE=0.604]"
     ]
    },
    {
     "name": "stdout",
     "output_type": "stream",
     "text": [
      "LGBM Average RMSE over 50 folds: 0.608143\n"
     ]
    },
    {
     "name": "stderr",
     "output_type": "stream",
     "text": [
      "Running Parameter Search:  12%|█▎        | 100/800 [49:40<6:43:36, 34.60s/it, Best RMSE=0.604]"
     ]
    },
    {
     "name": "stdout",
     "output_type": "stream",
     "text": [
      "LGBM Average RMSE over 50 folds: 0.608788\n"
     ]
    },
    {
     "name": "stderr",
     "output_type": "stream",
     "text": [
      "Running Parameter Search:  13%|█▎        | 101/800 [50:01<5:54:18, 30.41s/it, Best RMSE=0.604]"
     ]
    },
    {
     "name": "stdout",
     "output_type": "stream",
     "text": [
      "LGBM Average RMSE over 50 folds: 0.649879\n"
     ]
    },
    {
     "name": "stderr",
     "output_type": "stream",
     "text": [
      "Running Parameter Search:  13%|█▎        | 102/800 [50:20<5:12:08, 26.83s/it, Best RMSE=0.604]"
     ]
    },
    {
     "name": "stdout",
     "output_type": "stream",
     "text": [
      "LGBM Average RMSE over 50 folds: 0.612535\n"
     ]
    },
    {
     "name": "stderr",
     "output_type": "stream",
     "text": [
      "Running Parameter Search:  13%|█▎        | 103/800 [50:37<4:37:35, 23.90s/it, Best RMSE=0.604]"
     ]
    },
    {
     "name": "stdout",
     "output_type": "stream",
     "text": [
      "LGBM Average RMSE over 50 folds: 0.942284\n"
     ]
    },
    {
     "name": "stderr",
     "output_type": "stream",
     "text": [
      "Running Parameter Search:  13%|█▎        | 104/800 [50:55<4:17:11, 22.17s/it, Best RMSE=0.604]"
     ]
    },
    {
     "name": "stdout",
     "output_type": "stream",
     "text": [
      "LGBM Average RMSE over 50 folds: 0.612447\n"
     ]
    },
    {
     "name": "stderr",
     "output_type": "stream",
     "text": [
      "Running Parameter Search:  13%|█▎        | 105/800 [51:47<5:59:53, 31.07s/it, Best RMSE=0.604]"
     ]
    },
    {
     "name": "stdout",
     "output_type": "stream",
     "text": [
      "LGBM Average RMSE over 50 folds: 0.624370\n"
     ]
    },
    {
     "name": "stderr",
     "output_type": "stream",
     "text": [
      "Running Parameter Search:  13%|█▎        | 106/800 [52:04<5:12:30, 27.02s/it, Best RMSE=0.604]"
     ]
    },
    {
     "name": "stdout",
     "output_type": "stream",
     "text": [
      "LGBM Average RMSE over 50 folds: 0.643368\n"
     ]
    },
    {
     "name": "stderr",
     "output_type": "stream",
     "text": [
      "Running Parameter Search:  13%|█▎        | 107/800 [52:26<4:52:53, 25.36s/it, Best RMSE=0.604]"
     ]
    },
    {
     "name": "stdout",
     "output_type": "stream",
     "text": [
      "LGBM Average RMSE over 50 folds: 0.610010\n"
     ]
    },
    {
     "name": "stderr",
     "output_type": "stream",
     "text": [
      "Running Parameter Search:  14%|█▎        | 108/800 [52:41<4:17:50, 22.36s/it, Best RMSE=0.604]"
     ]
    },
    {
     "name": "stdout",
     "output_type": "stream",
     "text": [
      "LGBM Average RMSE over 50 folds: 0.607375\n"
     ]
    },
    {
     "name": "stderr",
     "output_type": "stream",
     "text": [
      "Running Parameter Search:  14%|█▎        | 109/800 [53:10<4:41:45, 24.46s/it, Best RMSE=0.604]"
     ]
    },
    {
     "name": "stdout",
     "output_type": "stream",
     "text": [
      "LGBM Average RMSE over 50 folds: 0.609236\n"
     ]
    },
    {
     "name": "stderr",
     "output_type": "stream",
     "text": [
      "Running Parameter Search:  14%|█▍        | 110/800 [53:31<4:28:17, 23.33s/it, Best RMSE=0.604]"
     ]
    },
    {
     "name": "stdout",
     "output_type": "stream",
     "text": [
      "LGBM Average RMSE over 50 folds: 0.625252\n"
     ]
    },
    {
     "name": "stderr",
     "output_type": "stream",
     "text": [
      "Running Parameter Search:  14%|█▍        | 111/800 [53:58<4:40:33, 24.43s/it, Best RMSE=0.604]"
     ]
    },
    {
     "name": "stdout",
     "output_type": "stream",
     "text": [
      "LGBM Average RMSE over 50 folds: 0.670929\n"
     ]
    },
    {
     "name": "stderr",
     "output_type": "stream",
     "text": [
      "Running Parameter Search:  14%|█▍        | 112/800 [54:26<4:51:05, 25.39s/it, Best RMSE=0.604]"
     ]
    },
    {
     "name": "stdout",
     "output_type": "stream",
     "text": [
      "LGBM Average RMSE over 50 folds: 0.606726\n"
     ]
    },
    {
     "name": "stderr",
     "output_type": "stream",
     "text": [
      "Running Parameter Search:  14%|█▍        | 113/800 [54:48<4:38:46, 24.35s/it, Best RMSE=0.604]"
     ]
    },
    {
     "name": "stdout",
     "output_type": "stream",
     "text": [
      "LGBM Average RMSE over 50 folds: 0.622178\n"
     ]
    },
    {
     "name": "stderr",
     "output_type": "stream",
     "text": [
      "Running Parameter Search:  14%|█▍        | 114/800 [55:06<4:17:14, 22.50s/it, Best RMSE=0.604]"
     ]
    },
    {
     "name": "stdout",
     "output_type": "stream",
     "text": [
      "LGBM Average RMSE over 50 folds: 0.611760\n"
     ]
    },
    {
     "name": "stderr",
     "output_type": "stream",
     "text": [
      "Running Parameter Search:  14%|█▍        | 115/800 [55:22<3:56:12, 20.69s/it, Best RMSE=0.604]"
     ]
    },
    {
     "name": "stdout",
     "output_type": "stream",
     "text": [
      "LGBM Average RMSE over 50 folds: 0.785565\n"
     ]
    },
    {
     "name": "stderr",
     "output_type": "stream",
     "text": [
      "Running Parameter Search:  14%|█▍        | 116/800 [55:56<4:41:09, 24.66s/it, Best RMSE=0.604]"
     ]
    },
    {
     "name": "stdout",
     "output_type": "stream",
     "text": [
      "LGBM Average RMSE over 50 folds: 0.612867\n"
     ]
    },
    {
     "name": "stderr",
     "output_type": "stream",
     "text": [
      "Running Parameter Search:  15%|█▍        | 117/800 [56:32<5:18:03, 27.94s/it, Best RMSE=0.604]"
     ]
    },
    {
     "name": "stdout",
     "output_type": "stream",
     "text": [
      "LGBM Average RMSE over 50 folds: 0.610884\n"
     ]
    },
    {
     "name": "stderr",
     "output_type": "stream",
     "text": [
      "Running Parameter Search:  15%|█▍        | 118/800 [56:55<5:01:35, 26.53s/it, Best RMSE=0.604]"
     ]
    },
    {
     "name": "stdout",
     "output_type": "stream",
     "text": [
      "LGBM Average RMSE over 50 folds: 1.164968\n"
     ]
    },
    {
     "name": "stderr",
     "output_type": "stream",
     "text": [
      "Running Parameter Search:  15%|█▍        | 119/800 [57:30<5:28:25, 28.94s/it, Best RMSE=0.604]"
     ]
    },
    {
     "name": "stdout",
     "output_type": "stream",
     "text": [
      "LGBM Average RMSE over 50 folds: 0.629466\n"
     ]
    },
    {
     "name": "stderr",
     "output_type": "stream",
     "text": [
      "Running Parameter Search:  15%|█▌        | 120/800 [58:28<7:09:32, 37.90s/it, Best RMSE=0.604]"
     ]
    },
    {
     "name": "stdout",
     "output_type": "stream",
     "text": [
      "LGBM Average RMSE over 50 folds: 0.618414\n"
     ]
    },
    {
     "name": "stderr",
     "output_type": "stream",
     "text": [
      "Running Parameter Search:  15%|█▌        | 121/800 [59:23<8:04:28, 42.81s/it, Best RMSE=0.604]"
     ]
    },
    {
     "name": "stdout",
     "output_type": "stream",
     "text": [
      "LGBM Average RMSE over 50 folds: 0.617532\n"
     ]
    },
    {
     "name": "stderr",
     "output_type": "stream",
     "text": [
      "Running Parameter Search:  15%|█▌        | 122/800 [1:00:11<8:21:58, 44.42s/it, Best RMSE=0.604]"
     ]
    },
    {
     "name": "stdout",
     "output_type": "stream",
     "text": [
      "LGBM Average RMSE over 50 folds: 0.615713\n"
     ]
    },
    {
     "name": "stderr",
     "output_type": "stream",
     "text": [
      "Running Parameter Search:  15%|█▌        | 123/800 [1:00:49<8:00:49, 42.61s/it, Best RMSE=0.604]"
     ]
    },
    {
     "name": "stdout",
     "output_type": "stream",
     "text": [
      "LGBM Average RMSE over 50 folds: 0.615094\n"
     ]
    },
    {
     "name": "stderr",
     "output_type": "stream",
     "text": [
      "Running Parameter Search:  16%|█▌        | 124/800 [1:01:20<7:20:14, 39.07s/it, Best RMSE=0.604]"
     ]
    },
    {
     "name": "stdout",
     "output_type": "stream",
     "text": [
      "LGBM Average RMSE over 50 folds: 0.612005\n"
     ]
    },
    {
     "name": "stderr",
     "output_type": "stream",
     "text": [
      "Running Parameter Search:  16%|█▌        | 125/800 [1:01:50<6:47:21, 36.21s/it, Best RMSE=0.604]"
     ]
    },
    {
     "name": "stdout",
     "output_type": "stream",
     "text": [
      "LGBM Average RMSE over 50 folds: 0.622134\n"
     ]
    },
    {
     "name": "stderr",
     "output_type": "stream",
     "text": [
      "Running Parameter Search:  16%|█▌        | 126/800 [1:02:25<6:45:33, 36.10s/it, Best RMSE=0.604]"
     ]
    },
    {
     "name": "stdout",
     "output_type": "stream",
     "text": [
      "LGBM Average RMSE over 50 folds: 0.615469\n"
     ]
    },
    {
     "name": "stderr",
     "output_type": "stream",
     "text": [
      "Running Parameter Search:  16%|█▌        | 127/800 [1:02:48<6:00:56, 32.18s/it, Best RMSE=0.604]"
     ]
    },
    {
     "name": "stdout",
     "output_type": "stream",
     "text": [
      "LGBM Average RMSE over 50 folds: 0.688268\n"
     ]
    },
    {
     "name": "stderr",
     "output_type": "stream",
     "text": [
      "Running Parameter Search:  16%|█▌        | 128/800 [1:03:06<5:11:00, 27.77s/it, Best RMSE=0.604]"
     ]
    },
    {
     "name": "stdout",
     "output_type": "stream",
     "text": [
      "LGBM Average RMSE over 50 folds: 0.743271\n"
     ]
    },
    {
     "name": "stderr",
     "output_type": "stream",
     "text": [
      "Running Parameter Search:  16%|█▌        | 129/800 [1:03:23<4:33:42, 24.47s/it, Best RMSE=0.604]"
     ]
    },
    {
     "name": "stdout",
     "output_type": "stream",
     "text": [
      "LGBM Average RMSE over 50 folds: 0.607636\n"
     ]
    },
    {
     "name": "stderr",
     "output_type": "stream",
     "text": [
      "Running Parameter Search:  16%|█▋        | 130/800 [1:04:03<5:24:51, 29.09s/it, Best RMSE=0.604]"
     ]
    },
    {
     "name": "stdout",
     "output_type": "stream",
     "text": [
      "LGBM Average RMSE over 50 folds: 0.611848\n"
     ]
    },
    {
     "name": "stderr",
     "output_type": "stream",
     "text": [
      "Running Parameter Search:  16%|█▋        | 131/800 [1:04:32<5:26:49, 29.31s/it, Best RMSE=0.604]"
     ]
    },
    {
     "name": "stdout",
     "output_type": "stream",
     "text": [
      "LGBM Average RMSE over 50 folds: 0.616479\n"
     ]
    },
    {
     "name": "stderr",
     "output_type": "stream",
     "text": [
      "Running Parameter Search:  16%|█▋        | 132/800 [1:05:08<5:47:32, 31.22s/it, Best RMSE=0.604]"
     ]
    },
    {
     "name": "stdout",
     "output_type": "stream",
     "text": [
      "LGBM Average RMSE over 50 folds: 0.640780\n"
     ]
    },
    {
     "name": "stderr",
     "output_type": "stream",
     "text": [
      "Running Parameter Search:  17%|█▋        | 133/800 [1:05:40<5:49:47, 31.47s/it, Best RMSE=0.604]"
     ]
    },
    {
     "name": "stdout",
     "output_type": "stream",
     "text": [
      "LGBM Average RMSE over 50 folds: 0.606899\n"
     ]
    },
    {
     "name": "stderr",
     "output_type": "stream",
     "text": [
      "Running Parameter Search:  17%|█▋        | 134/800 [1:06:03<5:22:08, 29.02s/it, Best RMSE=0.604]"
     ]
    },
    {
     "name": "stdout",
     "output_type": "stream",
     "text": [
      "LGBM Average RMSE over 50 folds: 1.427801\n"
     ]
    },
    {
     "name": "stderr",
     "output_type": "stream",
     "text": [
      "Running Parameter Search:  17%|█▋        | 135/800 [1:06:57<6:42:18, 36.30s/it, Best RMSE=0.604]"
     ]
    },
    {
     "name": "stdout",
     "output_type": "stream",
     "text": [
      "LGBM Average RMSE over 50 folds: 0.613510\n"
     ]
    },
    {
     "name": "stderr",
     "output_type": "stream",
     "text": [
      "Running Parameter Search:  17%|█▋        | 136/800 [1:07:17<5:48:30, 31.49s/it, Best RMSE=0.604]"
     ]
    },
    {
     "name": "stdout",
     "output_type": "stream",
     "text": [
      "LGBM Average RMSE over 50 folds: 0.637113\n"
     ]
    },
    {
     "name": "stderr",
     "output_type": "stream",
     "text": [
      "Running Parameter Search:  17%|█▋        | 137/800 [1:07:31<4:50:20, 26.27s/it, Best RMSE=0.604]"
     ]
    },
    {
     "name": "stdout",
     "output_type": "stream",
     "text": [
      "LGBM Average RMSE over 50 folds: 0.747427\n"
     ]
    },
    {
     "name": "stderr",
     "output_type": "stream",
     "text": [
      "Running Parameter Search:  17%|█▋        | 138/800 [1:08:06<5:19:13, 28.93s/it, Best RMSE=0.604]"
     ]
    },
    {
     "name": "stdout",
     "output_type": "stream",
     "text": [
      "LGBM Average RMSE over 50 folds: 0.615324\n"
     ]
    },
    {
     "name": "stderr",
     "output_type": "stream",
     "text": [
      "Running Parameter Search:  17%|█▋        | 139/800 [1:08:21<4:32:58, 24.78s/it, Best RMSE=0.604]"
     ]
    },
    {
     "name": "stdout",
     "output_type": "stream",
     "text": [
      "LGBM Average RMSE over 50 folds: 1.116060\n"
     ]
    },
    {
     "name": "stderr",
     "output_type": "stream",
     "text": [
      "Running Parameter Search:  18%|█▊        | 140/800 [1:08:53<4:55:06, 26.83s/it, Best RMSE=0.604]"
     ]
    },
    {
     "name": "stdout",
     "output_type": "stream",
     "text": [
      "LGBM Average RMSE over 50 folds: 0.609692\n"
     ]
    },
    {
     "name": "stderr",
     "output_type": "stream",
     "text": [
      "Running Parameter Search:  18%|█▊        | 141/800 [1:09:13<4:31:45, 24.74s/it, Best RMSE=0.604]"
     ]
    },
    {
     "name": "stdout",
     "output_type": "stream",
     "text": [
      "LGBM Average RMSE over 50 folds: 0.610915\n"
     ]
    },
    {
     "name": "stderr",
     "output_type": "stream",
     "text": [
      "Running Parameter Search:  18%|█▊        | 142/800 [1:09:46<4:57:32, 27.13s/it, Best RMSE=0.604]"
     ]
    },
    {
     "name": "stdout",
     "output_type": "stream",
     "text": [
      "LGBM Average RMSE over 50 folds: 0.608643\n"
     ]
    },
    {
     "name": "stderr",
     "output_type": "stream",
     "text": [
      "Running Parameter Search:  18%|█▊        | 143/800 [1:10:25<5:38:12, 30.89s/it, Best RMSE=0.604]"
     ]
    },
    {
     "name": "stdout",
     "output_type": "stream",
     "text": [
      "LGBM Average RMSE over 50 folds: 0.615620\n"
     ]
    },
    {
     "name": "stderr",
     "output_type": "stream",
     "text": [
      "Running Parameter Search:  18%|█▊        | 144/800 [1:10:40<4:44:38, 26.03s/it, Best RMSE=0.604]"
     ]
    },
    {
     "name": "stdout",
     "output_type": "stream",
     "text": [
      "LGBM Average RMSE over 50 folds: 0.607820\n"
     ]
    },
    {
     "name": "stderr",
     "output_type": "stream",
     "text": [
      "Running Parameter Search:  18%|█▊        | 145/800 [1:11:04<4:38:14, 25.49s/it, Best RMSE=0.604]"
     ]
    },
    {
     "name": "stdout",
     "output_type": "stream",
     "text": [
      "LGBM Average RMSE over 50 folds: 0.689661\n"
     ]
    },
    {
     "name": "stderr",
     "output_type": "stream",
     "text": [
      "Running Parameter Search:  18%|█▊        | 146/800 [1:11:28<4:33:57, 25.13s/it, Best RMSE=0.604]"
     ]
    },
    {
     "name": "stdout",
     "output_type": "stream",
     "text": [
      "LGBM Average RMSE over 50 folds: 0.740980\n"
     ]
    },
    {
     "name": "stderr",
     "output_type": "stream",
     "text": [
      "Running Parameter Search:  18%|█▊        | 147/800 [1:11:59<4:50:51, 26.73s/it, Best RMSE=0.604]"
     ]
    },
    {
     "name": "stdout",
     "output_type": "stream",
     "text": [
      "LGBM Average RMSE over 50 folds: 0.626907\n"
     ]
    },
    {
     "name": "stderr",
     "output_type": "stream",
     "text": [
      "Running Parameter Search:  18%|█▊        | 148/800 [1:12:14<4:11:59, 23.19s/it, Best RMSE=0.604]"
     ]
    },
    {
     "name": "stdout",
     "output_type": "stream",
     "text": [
      "LGBM Average RMSE over 50 folds: 0.606796\n"
     ]
    },
    {
     "name": "stderr",
     "output_type": "stream",
     "text": [
      "Running Parameter Search:  19%|█▊        | 149/800 [1:12:29<3:45:53, 20.82s/it, Best RMSE=0.604]"
     ]
    },
    {
     "name": "stdout",
     "output_type": "stream",
     "text": [
      "LGBM Average RMSE over 50 folds: 0.608579\n"
     ]
    },
    {
     "name": "stderr",
     "output_type": "stream",
     "text": [
      "Running Parameter Search:  19%|█▉        | 150/800 [1:12:52<3:51:49, 21.40s/it, Best RMSE=0.604]"
     ]
    },
    {
     "name": "stdout",
     "output_type": "stream",
     "text": [
      "LGBM Average RMSE over 50 folds: 0.625515\n"
     ]
    },
    {
     "name": "stderr",
     "output_type": "stream",
     "text": [
      "Running Parameter Search:  19%|█▉        | 151/800 [1:13:05<3:26:09, 19.06s/it, Best RMSE=0.604]"
     ]
    },
    {
     "name": "stdout",
     "output_type": "stream",
     "text": [
      "LGBM Average RMSE over 50 folds: 0.611011\n"
     ]
    },
    {
     "name": "stderr",
     "output_type": "stream",
     "text": [
      "Running Parameter Search:  19%|█▉        | 152/800 [1:13:24<3:24:03, 18.90s/it, Best RMSE=0.604]"
     ]
    },
    {
     "name": "stdout",
     "output_type": "stream",
     "text": [
      "LGBM Average RMSE over 50 folds: 0.805142\n"
     ]
    },
    {
     "name": "stderr",
     "output_type": "stream",
     "text": [
      "Running Parameter Search:  19%|█▉        | 153/800 [1:13:40<3:14:24, 18.03s/it, Best RMSE=0.604]"
     ]
    },
    {
     "name": "stdout",
     "output_type": "stream",
     "text": [
      "LGBM Average RMSE over 50 folds: 0.637802\n"
     ]
    },
    {
     "name": "stderr",
     "output_type": "stream",
     "text": [
      "Running Parameter Search:  19%|█▉        | 154/800 [1:14:03<3:31:06, 19.61s/it, Best RMSE=0.604]"
     ]
    },
    {
     "name": "stdout",
     "output_type": "stream",
     "text": [
      "LGBM Average RMSE over 50 folds: 0.617602\n"
     ]
    },
    {
     "name": "stderr",
     "output_type": "stream",
     "text": [
      "Running Parameter Search:  19%|█▉        | 155/800 [1:14:19<3:19:10, 18.53s/it, Best RMSE=0.604]"
     ]
    },
    {
     "name": "stdout",
     "output_type": "stream",
     "text": [
      "LGBM Average RMSE over 50 folds: 1.069240\n"
     ]
    },
    {
     "name": "stderr",
     "output_type": "stream",
     "text": [
      "Running Parameter Search:  20%|█▉        | 156/800 [1:15:00<4:31:41, 25.31s/it, Best RMSE=0.604]"
     ]
    },
    {
     "name": "stdout",
     "output_type": "stream",
     "text": [
      "LGBM Average RMSE over 50 folds: 0.606972\n"
     ]
    },
    {
     "name": "stderr",
     "output_type": "stream",
     "text": [
      "Running Parameter Search:  20%|█▉        | 157/800 [1:15:46<5:37:36, 31.50s/it, Best RMSE=0.604]"
     ]
    },
    {
     "name": "stdout",
     "output_type": "stream",
     "text": [
      "LGBM Average RMSE over 50 folds: 0.619593\n"
     ]
    },
    {
     "name": "stderr",
     "output_type": "stream",
     "text": [
      "Running Parameter Search:  20%|█▉        | 158/800 [1:16:12<5:19:29, 29.86s/it, Best RMSE=0.604]"
     ]
    },
    {
     "name": "stdout",
     "output_type": "stream",
     "text": [
      "LGBM Average RMSE over 50 folds: 0.610607\n"
     ]
    },
    {
     "name": "stderr",
     "output_type": "stream",
     "text": [
      "Running Parameter Search:  20%|█▉        | 159/800 [1:16:29<4:37:41, 25.99s/it, Best RMSE=0.604]"
     ]
    },
    {
     "name": "stdout",
     "output_type": "stream",
     "text": [
      "LGBM Average RMSE over 50 folds: 0.608771\n"
     ]
    },
    {
     "name": "stderr",
     "output_type": "stream",
     "text": [
      "Running Parameter Search:  20%|██        | 160/800 [1:16:50<4:21:29, 24.51s/it, Best RMSE=0.604]"
     ]
    },
    {
     "name": "stdout",
     "output_type": "stream",
     "text": [
      "LGBM Average RMSE over 50 folds: 0.606272\n"
     ]
    },
    {
     "name": "stderr",
     "output_type": "stream",
     "text": [
      "Running Parameter Search:  20%|██        | 161/800 [1:17:06<3:52:08, 21.80s/it, Best RMSE=0.604]"
     ]
    },
    {
     "name": "stdout",
     "output_type": "stream",
     "text": [
      "LGBM Average RMSE over 50 folds: 0.623689\n"
     ]
    },
    {
     "name": "stderr",
     "output_type": "stream",
     "text": [
      "Running Parameter Search:  20%|██        | 162/800 [1:17:52<5:07:56, 28.96s/it, Best RMSE=0.604]"
     ]
    },
    {
     "name": "stdout",
     "output_type": "stream",
     "text": [
      "LGBM Average RMSE over 50 folds: 0.613419\n"
     ]
    },
    {
     "name": "stderr",
     "output_type": "stream",
     "text": [
      "Running Parameter Search:  20%|██        | 163/800 [1:18:13<4:42:22, 26.60s/it, Best RMSE=0.604]"
     ]
    },
    {
     "name": "stdout",
     "output_type": "stream",
     "text": [
      "LGBM Average RMSE over 50 folds: 0.653698\n"
     ]
    },
    {
     "name": "stderr",
     "output_type": "stream",
     "text": [
      "Running Parameter Search:  20%|██        | 164/800 [1:18:37<4:36:04, 26.04s/it, Best RMSE=0.604]"
     ]
    },
    {
     "name": "stdout",
     "output_type": "stream",
     "text": [
      "LGBM Average RMSE over 50 folds: 0.611608\n"
     ]
    },
    {
     "name": "stderr",
     "output_type": "stream",
     "text": [
      "Running Parameter Search:  21%|██        | 165/800 [1:19:19<5:25:23, 30.75s/it, Best RMSE=0.604]"
     ]
    },
    {
     "name": "stdout",
     "output_type": "stream",
     "text": [
      "LGBM Average RMSE over 50 folds: 0.612133\n"
     ]
    },
    {
     "name": "stderr",
     "output_type": "stream",
     "text": [
      "Running Parameter Search:  21%|██        | 166/800 [1:19:36<4:41:52, 26.68s/it, Best RMSE=0.604]"
     ]
    },
    {
     "name": "stdout",
     "output_type": "stream",
     "text": [
      "LGBM Average RMSE over 50 folds: 0.604466\n"
     ]
    },
    {
     "name": "stderr",
     "output_type": "stream",
     "text": [
      "Running Parameter Search:  21%|██        | 167/800 [1:20:00<4:30:32, 25.64s/it, Best RMSE=0.604]"
     ]
    },
    {
     "name": "stdout",
     "output_type": "stream",
     "text": [
      "LGBM Average RMSE over 50 folds: 0.610281\n"
     ]
    },
    {
     "name": "stderr",
     "output_type": "stream",
     "text": [
      "Running Parameter Search:  21%|██        | 168/800 [1:20:33<4:55:43, 28.07s/it, Best RMSE=0.604]"
     ]
    },
    {
     "name": "stdout",
     "output_type": "stream",
     "text": [
      "LGBM Average RMSE over 50 folds: 0.624019\n"
     ]
    },
    {
     "name": "stderr",
     "output_type": "stream",
     "text": [
      "Running Parameter Search:  21%|██        | 169/800 [1:21:03<5:01:41, 28.69s/it, Best RMSE=0.604]"
     ]
    },
    {
     "name": "stdout",
     "output_type": "stream",
     "text": [
      "LGBM Average RMSE over 50 folds: 0.611223\n"
     ]
    },
    {
     "name": "stderr",
     "output_type": "stream",
     "text": [
      "Running Parameter Search:  21%|██▏       | 170/800 [1:21:36<5:15:09, 30.01s/it, Best RMSE=0.604]"
     ]
    },
    {
     "name": "stdout",
     "output_type": "stream",
     "text": [
      "LGBM Average RMSE over 50 folds: 0.618689\n"
     ]
    },
    {
     "name": "stderr",
     "output_type": "stream",
     "text": [
      "Running Parameter Search:  21%|██▏       | 171/800 [1:23:20<9:06:08, 52.10s/it, Best RMSE=0.604]"
     ]
    },
    {
     "name": "stdout",
     "output_type": "stream",
     "text": [
      "LGBM Average RMSE over 50 folds: 0.622022\n"
     ]
    },
    {
     "name": "stderr",
     "output_type": "stream",
     "text": [
      "Running Parameter Search:  22%|██▏       | 172/800 [1:23:37<7:16:01, 41.66s/it, Best RMSE=0.604]"
     ]
    },
    {
     "name": "stdout",
     "output_type": "stream",
     "text": [
      "LGBM Average RMSE over 50 folds: 0.607752\n"
     ]
    },
    {
     "name": "stderr",
     "output_type": "stream",
     "text": [
      "Running Parameter Search:  22%|██▏       | 173/800 [1:23:51<5:48:28, 33.35s/it, Best RMSE=0.604]"
     ]
    },
    {
     "name": "stdout",
     "output_type": "stream",
     "text": [
      "LGBM Average RMSE over 50 folds: 0.610044\n"
     ]
    },
    {
     "name": "stderr",
     "output_type": "stream",
     "text": [
      "Running Parameter Search:  22%|██▏       | 174/800 [1:24:30<6:05:46, 35.06s/it, Best RMSE=0.604]"
     ]
    },
    {
     "name": "stdout",
     "output_type": "stream",
     "text": [
      "LGBM Average RMSE over 50 folds: 0.608075\n"
     ]
    },
    {
     "name": "stderr",
     "output_type": "stream",
     "text": [
      "Running Parameter Search:  22%|██▏       | 175/800 [1:24:52<5:24:19, 31.13s/it, Best RMSE=0.604]"
     ]
    },
    {
     "name": "stdout",
     "output_type": "stream",
     "text": [
      "LGBM Average RMSE over 50 folds: 0.612769\n"
     ]
    },
    {
     "name": "stderr",
     "output_type": "stream",
     "text": [
      "Running Parameter Search:  22%|██▏       | 176/800 [1:25:16<4:59:54, 28.84s/it, Best RMSE=0.604]"
     ]
    },
    {
     "name": "stdout",
     "output_type": "stream",
     "text": [
      "LGBM Average RMSE over 50 folds: 0.612314\n"
     ]
    },
    {
     "name": "stderr",
     "output_type": "stream",
     "text": [
      "Running Parameter Search:  22%|██▏       | 177/800 [1:25:40<4:44:40, 27.42s/it, Best RMSE=0.604]"
     ]
    },
    {
     "name": "stdout",
     "output_type": "stream",
     "text": [
      "LGBM Average RMSE over 50 folds: 0.610978\n"
     ]
    },
    {
     "name": "stderr",
     "output_type": "stream",
     "text": [
      "Running Parameter Search:  22%|██▏       | 178/800 [1:26:23<5:31:39, 31.99s/it, Best RMSE=0.604]"
     ]
    },
    {
     "name": "stdout",
     "output_type": "stream",
     "text": [
      "LGBM Average RMSE over 50 folds: 0.616368\n"
     ]
    },
    {
     "name": "stderr",
     "output_type": "stream",
     "text": [
      "Running Parameter Search:  22%|██▏       | 179/800 [1:26:42<4:50:57, 28.11s/it, Best RMSE=0.604]"
     ]
    },
    {
     "name": "stdout",
     "output_type": "stream",
     "text": [
      "LGBM Average RMSE over 50 folds: 0.771262\n"
     ]
    },
    {
     "name": "stderr",
     "output_type": "stream",
     "text": [
      "Running Parameter Search:  22%|██▎       | 180/800 [1:26:59<4:17:12, 24.89s/it, Best RMSE=0.604]"
     ]
    },
    {
     "name": "stdout",
     "output_type": "stream",
     "text": [
      "LGBM Average RMSE over 50 folds: 0.615112\n"
     ]
    },
    {
     "name": "stderr",
     "output_type": "stream",
     "text": [
      "Running Parameter Search:  23%|██▎       | 181/800 [1:27:42<5:11:09, 30.16s/it, Best RMSE=0.604]"
     ]
    },
    {
     "name": "stdout",
     "output_type": "stream",
     "text": [
      "LGBM Average RMSE over 50 folds: 0.613161\n"
     ]
    },
    {
     "name": "stderr",
     "output_type": "stream",
     "text": [
      "Running Parameter Search:  23%|██▎       | 182/800 [1:28:33<6:16:30, 36.55s/it, Best RMSE=0.604]"
     ]
    },
    {
     "name": "stdout",
     "output_type": "stream",
     "text": [
      "LGBM Average RMSE over 50 folds: 0.619647\n"
     ]
    },
    {
     "name": "stderr",
     "output_type": "stream",
     "text": [
      "Running Parameter Search:  23%|██▎       | 183/800 [1:29:41<7:53:27, 46.04s/it, Best RMSE=0.604]"
     ]
    },
    {
     "name": "stdout",
     "output_type": "stream",
     "text": [
      "LGBM Average RMSE over 50 folds: 0.623097\n"
     ]
    },
    {
     "name": "stderr",
     "output_type": "stream",
     "text": [
      "Running Parameter Search:  23%|██▎       | 184/800 [1:30:08<6:54:17, 40.35s/it, Best RMSE=0.604]"
     ]
    },
    {
     "name": "stdout",
     "output_type": "stream",
     "text": [
      "LGBM Average RMSE over 50 folds: 0.618035\n"
     ]
    },
    {
     "name": "stderr",
     "output_type": "stream",
     "text": [
      "Running Parameter Search:  23%|██▎       | 185/800 [1:30:46<6:46:56, 39.70s/it, Best RMSE=0.604]"
     ]
    },
    {
     "name": "stdout",
     "output_type": "stream",
     "text": [
      "LGBM Average RMSE over 50 folds: 0.617786\n"
     ]
    },
    {
     "name": "stderr",
     "output_type": "stream",
     "text": [
      "Running Parameter Search:  23%|██▎       | 186/800 [1:31:10<5:56:04, 34.80s/it, Best RMSE=0.604]"
     ]
    },
    {
     "name": "stdout",
     "output_type": "stream",
     "text": [
      "LGBM Average RMSE over 50 folds: 0.612041\n"
     ]
    },
    {
     "name": "stderr",
     "output_type": "stream",
     "text": [
      "Running Parameter Search:  23%|██▎       | 187/800 [1:31:29<5:08:13, 30.17s/it, Best RMSE=0.604]"
     ]
    },
    {
     "name": "stdout",
     "output_type": "stream",
     "text": [
      "LGBM Average RMSE over 50 folds: 0.603505\n",
      "New best RMSE: 0.603505\n"
     ]
    },
    {
     "name": "stderr",
     "output_type": "stream",
     "text": [
      "Running Parameter Search:  24%|██▎       | 188/800 [1:31:44<4:21:29, 25.64s/it, Best RMSE=0.604]"
     ]
    },
    {
     "name": "stdout",
     "output_type": "stream",
     "text": [
      "LGBM Average RMSE over 50 folds: 0.633429\n"
     ]
    },
    {
     "name": "stderr",
     "output_type": "stream",
     "text": [
      "Running Parameter Search:  24%|██▎       | 189/800 [1:32:12<4:28:59, 26.42s/it, Best RMSE=0.604]"
     ]
    },
    {
     "name": "stdout",
     "output_type": "stream",
     "text": [
      "LGBM Average RMSE over 50 folds: 0.861194\n"
     ]
    },
    {
     "name": "stderr",
     "output_type": "stream",
     "text": [
      "Running Parameter Search:  24%|██▍       | 190/800 [1:32:27<3:52:32, 22.87s/it, Best RMSE=0.604]"
     ]
    },
    {
     "name": "stdout",
     "output_type": "stream",
     "text": [
      "LGBM Average RMSE over 50 folds: 1.769302\n"
     ]
    },
    {
     "name": "stderr",
     "output_type": "stream",
     "text": [
      "Running Parameter Search:  24%|██▍       | 191/800 [1:32:49<3:50:03, 22.67s/it, Best RMSE=0.604]"
     ]
    },
    {
     "name": "stdout",
     "output_type": "stream",
     "text": [
      "LGBM Average RMSE over 50 folds: 0.614105\n"
     ]
    },
    {
     "name": "stderr",
     "output_type": "stream",
     "text": [
      "Running Parameter Search:  24%|██▍       | 192/800 [1:33:39<5:11:59, 30.79s/it, Best RMSE=0.604]"
     ]
    },
    {
     "name": "stdout",
     "output_type": "stream",
     "text": [
      "LGBM Average RMSE over 50 folds: 0.617761\n"
     ]
    },
    {
     "name": "stderr",
     "output_type": "stream",
     "text": [
      "Running Parameter Search:  24%|██▍       | 193/800 [1:34:04<4:53:45, 29.04s/it, Best RMSE=0.604]"
     ]
    },
    {
     "name": "stdout",
     "output_type": "stream",
     "text": [
      "LGBM Average RMSE over 50 folds: 0.614398\n"
     ]
    },
    {
     "name": "stderr",
     "output_type": "stream",
     "text": [
      "Running Parameter Search:  24%|██▍       | 194/800 [1:34:38<5:09:44, 30.67s/it, Best RMSE=0.604]"
     ]
    },
    {
     "name": "stdout",
     "output_type": "stream",
     "text": [
      "LGBM Average RMSE over 50 folds: 0.623020\n"
     ]
    },
    {
     "name": "stderr",
     "output_type": "stream",
     "text": [
      "Running Parameter Search:  24%|██▍       | 195/800 [1:34:58<4:35:37, 27.34s/it, Best RMSE=0.604]"
     ]
    },
    {
     "name": "stdout",
     "output_type": "stream",
     "text": [
      "LGBM Average RMSE over 50 folds: 0.611980\n"
     ]
    },
    {
     "name": "stderr",
     "output_type": "stream",
     "text": [
      "Running Parameter Search:  24%|██▍       | 196/800 [1:35:12<3:54:09, 23.26s/it, Best RMSE=0.604]"
     ]
    },
    {
     "name": "stdout",
     "output_type": "stream",
     "text": [
      "LGBM Average RMSE over 50 folds: 0.606148\n"
     ]
    },
    {
     "name": "stderr",
     "output_type": "stream",
     "text": [
      "Running Parameter Search:  25%|██▍       | 197/800 [1:35:30<3:38:20, 21.72s/it, Best RMSE=0.604]"
     ]
    },
    {
     "name": "stdout",
     "output_type": "stream",
     "text": [
      "LGBM Average RMSE over 50 folds: 0.627031\n"
     ]
    },
    {
     "name": "stderr",
     "output_type": "stream",
     "text": [
      "Running Parameter Search:  25%|██▍       | 198/800 [1:35:45<3:17:36, 19.69s/it, Best RMSE=0.604]"
     ]
    },
    {
     "name": "stdout",
     "output_type": "stream",
     "text": [
      "LGBM Average RMSE over 50 folds: 0.608475\n"
     ]
    },
    {
     "name": "stderr",
     "output_type": "stream",
     "text": [
      "Running Parameter Search:  25%|██▍       | 199/800 [1:36:15<3:47:51, 22.75s/it, Best RMSE=0.604]"
     ]
    },
    {
     "name": "stdout",
     "output_type": "stream",
     "text": [
      "LGBM Average RMSE over 50 folds: 0.677391\n"
     ]
    },
    {
     "name": "stderr",
     "output_type": "stream",
     "text": [
      "Running Parameter Search:  25%|██▌       | 200/800 [1:36:37<3:44:43, 22.47s/it, Best RMSE=0.604]"
     ]
    },
    {
     "name": "stdout",
     "output_type": "stream",
     "text": [
      "LGBM Average RMSE over 50 folds: 0.604790\n"
     ]
    },
    {
     "name": "stderr",
     "output_type": "stream",
     "text": [
      "Running Parameter Search:  25%|██▌       | 201/800 [1:37:13<4:25:04, 26.55s/it, Best RMSE=0.604]"
     ]
    },
    {
     "name": "stdout",
     "output_type": "stream",
     "text": [
      "LGBM Average RMSE over 50 folds: 0.613915\n"
     ]
    },
    {
     "name": "stderr",
     "output_type": "stream",
     "text": [
      "Running Parameter Search:  25%|██▌       | 202/800 [1:37:33<4:05:33, 24.64s/it, Best RMSE=0.604]"
     ]
    },
    {
     "name": "stdout",
     "output_type": "stream",
     "text": [
      "LGBM Average RMSE over 50 folds: 0.716141\n"
     ]
    },
    {
     "name": "stderr",
     "output_type": "stream",
     "text": [
      "Running Parameter Search:  25%|██▌       | 203/800 [1:38:14<4:55:32, 29.70s/it, Best RMSE=0.604]"
     ]
    },
    {
     "name": "stdout",
     "output_type": "stream",
     "text": [
      "LGBM Average RMSE over 50 folds: 0.608733\n"
     ]
    },
    {
     "name": "stderr",
     "output_type": "stream",
     "text": [
      "Running Parameter Search:  26%|██▌       | 204/800 [1:38:38<4:36:07, 27.80s/it, Best RMSE=0.604]"
     ]
    },
    {
     "name": "stdout",
     "output_type": "stream",
     "text": [
      "LGBM Average RMSE over 50 folds: 0.611142\n"
     ]
    },
    {
     "name": "stderr",
     "output_type": "stream",
     "text": [
      "Running Parameter Search:  26%|██▌       | 205/800 [1:39:07<4:39:53, 28.22s/it, Best RMSE=0.604]"
     ]
    },
    {
     "name": "stdout",
     "output_type": "stream",
     "text": [
      "LGBM Average RMSE over 50 folds: 0.617702\n"
     ]
    },
    {
     "name": "stderr",
     "output_type": "stream",
     "text": [
      "Running Parameter Search:  26%|██▌       | 206/800 [1:39:40<4:54:42, 29.77s/it, Best RMSE=0.604]"
     ]
    },
    {
     "name": "stdout",
     "output_type": "stream",
     "text": [
      "LGBM Average RMSE over 50 folds: 0.613695\n"
     ]
    },
    {
     "name": "stderr",
     "output_type": "stream",
     "text": [
      "Running Parameter Search:  26%|██▌       | 207/800 [1:40:17<5:13:37, 31.73s/it, Best RMSE=0.604]"
     ]
    },
    {
     "name": "stdout",
     "output_type": "stream",
     "text": [
      "LGBM Average RMSE over 50 folds: 0.608639\n"
     ]
    },
    {
     "name": "stderr",
     "output_type": "stream",
     "text": [
      "Running Parameter Search:  26%|██▌       | 208/800 [1:41:02<5:54:37, 35.94s/it, Best RMSE=0.604]"
     ]
    },
    {
     "name": "stdout",
     "output_type": "stream",
     "text": [
      "LGBM Average RMSE over 50 folds: 0.763490\n"
     ]
    },
    {
     "name": "stderr",
     "output_type": "stream",
     "text": [
      "Running Parameter Search:  26%|██▌       | 209/800 [1:41:25<5:14:31, 31.93s/it, Best RMSE=0.604]"
     ]
    },
    {
     "name": "stdout",
     "output_type": "stream",
     "text": [
      "LGBM Average RMSE over 50 folds: 0.609476\n"
     ]
    },
    {
     "name": "stderr",
     "output_type": "stream",
     "text": [
      "Running Parameter Search:  26%|██▋       | 210/800 [1:43:11<8:51:52, 54.09s/it, Best RMSE=0.604]"
     ]
    },
    {
     "name": "stdout",
     "output_type": "stream",
     "text": [
      "LGBM Average RMSE over 50 folds: 0.630446\n"
     ]
    },
    {
     "name": "stderr",
     "output_type": "stream",
     "text": [
      "Running Parameter Search:  26%|██▋       | 211/800 [1:44:10<9:06:18, 55.65s/it, Best RMSE=0.604]"
     ]
    },
    {
     "name": "stdout",
     "output_type": "stream",
     "text": [
      "LGBM Average RMSE over 50 folds: 0.660276\n"
     ]
    },
    {
     "name": "stderr",
     "output_type": "stream",
     "text": [
      "Running Parameter Search:  26%|██▋       | 212/800 [1:44:50<8:18:15, 50.84s/it, Best RMSE=0.604]"
     ]
    },
    {
     "name": "stdout",
     "output_type": "stream",
     "text": [
      "LGBM Average RMSE over 50 folds: 0.612463\n"
     ]
    },
    {
     "name": "stderr",
     "output_type": "stream",
     "text": [
      "Running Parameter Search:  27%|██▋       | 213/800 [1:45:42<8:21:57, 51.31s/it, Best RMSE=0.604]"
     ]
    },
    {
     "name": "stdout",
     "output_type": "stream",
     "text": [
      "LGBM Average RMSE over 50 folds: 0.618715\n"
     ]
    },
    {
     "name": "stderr",
     "output_type": "stream",
     "text": [
      "Running Parameter Search:  27%|██▋       | 214/800 [1:46:02<6:48:32, 41.83s/it, Best RMSE=0.604]"
     ]
    },
    {
     "name": "stdout",
     "output_type": "stream",
     "text": [
      "LGBM Average RMSE over 50 folds: 0.638292\n"
     ]
    },
    {
     "name": "stderr",
     "output_type": "stream",
     "text": [
      "Running Parameter Search:  27%|██▋       | 215/800 [1:46:20<5:38:28, 34.71s/it, Best RMSE=0.604]"
     ]
    },
    {
     "name": "stdout",
     "output_type": "stream",
     "text": [
      "LGBM Average RMSE over 50 folds: 0.641262\n"
     ]
    },
    {
     "name": "stderr",
     "output_type": "stream",
     "text": [
      "Running Parameter Search:  27%|██▋       | 216/800 [1:46:34<4:39:05, 28.67s/it, Best RMSE=0.604]"
     ]
    },
    {
     "name": "stdout",
     "output_type": "stream",
     "text": [
      "LGBM Average RMSE over 50 folds: 0.607391\n"
     ]
    },
    {
     "name": "stderr",
     "output_type": "stream",
     "text": [
      "Running Parameter Search:  27%|██▋       | 217/800 [1:46:58<4:22:29, 27.01s/it, Best RMSE=0.604]"
     ]
    },
    {
     "name": "stdout",
     "output_type": "stream",
     "text": [
      "LGBM Average RMSE over 50 folds: 0.615382\n"
     ]
    },
    {
     "name": "stderr",
     "output_type": "stream",
     "text": [
      "Running Parameter Search:  27%|██▋       | 218/800 [1:47:43<5:15:08, 32.49s/it, Best RMSE=0.604]"
     ]
    },
    {
     "name": "stdout",
     "output_type": "stream",
     "text": [
      "LGBM Average RMSE over 50 folds: 0.615263\n"
     ]
    },
    {
     "name": "stderr",
     "output_type": "stream",
     "text": [
      "Running Parameter Search:  27%|██▋       | 219/800 [1:48:15<5:12:35, 32.28s/it, Best RMSE=0.604]"
     ]
    },
    {
     "name": "stdout",
     "output_type": "stream",
     "text": [
      "LGBM Average RMSE over 50 folds: 0.611879\n"
     ]
    },
    {
     "name": "stderr",
     "output_type": "stream",
     "text": [
      "Running Parameter Search:  28%|██▊       | 220/800 [1:48:40<4:53:23, 30.35s/it, Best RMSE=0.604]"
     ]
    },
    {
     "name": "stdout",
     "output_type": "stream",
     "text": [
      "LGBM Average RMSE over 50 folds: 0.610124\n"
     ]
    },
    {
     "name": "stderr",
     "output_type": "stream",
     "text": [
      "Running Parameter Search:  28%|██▊       | 221/800 [1:48:58<4:15:38, 26.49s/it, Best RMSE=0.604]"
     ]
    },
    {
     "name": "stdout",
     "output_type": "stream",
     "text": [
      "LGBM Average RMSE over 50 folds: 0.693637\n"
     ]
    },
    {
     "name": "stderr",
     "output_type": "stream",
     "text": [
      "Running Parameter Search:  28%|██▊       | 222/800 [1:49:18<3:56:55, 24.59s/it, Best RMSE=0.604]"
     ]
    },
    {
     "name": "stdout",
     "output_type": "stream",
     "text": [
      "LGBM Average RMSE over 50 folds: 0.706769\n"
     ]
    },
    {
     "name": "stderr",
     "output_type": "stream",
     "text": [
      "Running Parameter Search:  28%|██▊       | 223/800 [1:49:33<3:30:00, 21.84s/it, Best RMSE=0.604]"
     ]
    },
    {
     "name": "stdout",
     "output_type": "stream",
     "text": [
      "LGBM Average RMSE over 50 folds: 0.607352\n"
     ]
    },
    {
     "name": "stderr",
     "output_type": "stream",
     "text": [
      "Running Parameter Search:  28%|██▊       | 224/800 [1:50:25<4:55:28, 30.78s/it, Best RMSE=0.604]"
     ]
    },
    {
     "name": "stdout",
     "output_type": "stream",
     "text": [
      "LGBM Average RMSE over 50 folds: 0.618250\n"
     ]
    },
    {
     "name": "stderr",
     "output_type": "stream",
     "text": [
      "Running Parameter Search:  28%|██▊       | 225/800 [1:50:42<4:15:35, 26.67s/it, Best RMSE=0.604]"
     ]
    },
    {
     "name": "stdout",
     "output_type": "stream",
     "text": [
      "LGBM Average RMSE over 50 folds: 0.612653\n"
     ]
    },
    {
     "name": "stderr",
     "output_type": "stream",
     "text": [
      "Running Parameter Search:  28%|██▊       | 226/800 [1:51:17<4:37:09, 28.97s/it, Best RMSE=0.604]"
     ]
    },
    {
     "name": "stdout",
     "output_type": "stream",
     "text": [
      "LGBM Average RMSE over 50 folds: 0.618528\n"
     ]
    },
    {
     "name": "stderr",
     "output_type": "stream",
     "text": [
      "Running Parameter Search:  28%|██▊       | 227/800 [1:51:35<4:07:52, 25.96s/it, Best RMSE=0.604]"
     ]
    },
    {
     "name": "stdout",
     "output_type": "stream",
     "text": [
      "LGBM Average RMSE over 50 folds: 0.675524\n"
     ]
    },
    {
     "name": "stderr",
     "output_type": "stream",
     "text": [
      "Running Parameter Search:  28%|██▊       | 228/800 [1:52:00<4:02:32, 25.44s/it, Best RMSE=0.604]"
     ]
    },
    {
     "name": "stdout",
     "output_type": "stream",
     "text": [
      "LGBM Average RMSE over 50 folds: 0.636095\n"
     ]
    },
    {
     "name": "stderr",
     "output_type": "stream",
     "text": [
      "Running Parameter Search:  29%|██▊       | 229/800 [1:52:14<3:29:12, 21.98s/it, Best RMSE=0.604]"
     ]
    },
    {
     "name": "stdout",
     "output_type": "stream",
     "text": [
      "LGBM Average RMSE over 50 folds: 0.657869\n"
     ]
    },
    {
     "name": "stderr",
     "output_type": "stream",
     "text": [
      "Running Parameter Search:  29%|██▉       | 230/800 [1:52:49<4:08:05, 26.11s/it, Best RMSE=0.604]"
     ]
    },
    {
     "name": "stdout",
     "output_type": "stream",
     "text": [
      "LGBM Average RMSE over 50 folds: 0.614855\n"
     ]
    },
    {
     "name": "stderr",
     "output_type": "stream",
     "text": [
      "Running Parameter Search:  29%|██▉       | 231/800 [1:53:20<4:19:37, 27.38s/it, Best RMSE=0.604]"
     ]
    },
    {
     "name": "stdout",
     "output_type": "stream",
     "text": [
      "LGBM Average RMSE over 50 folds: 0.615354\n"
     ]
    },
    {
     "name": "stderr",
     "output_type": "stream",
     "text": [
      "Running Parameter Search:  29%|██▉       | 232/800 [1:53:40<3:59:44, 25.33s/it, Best RMSE=0.604]"
     ]
    },
    {
     "name": "stdout",
     "output_type": "stream",
     "text": [
      "LGBM Average RMSE over 50 folds: 1.173912\n"
     ]
    },
    {
     "name": "stderr",
     "output_type": "stream",
     "text": [
      "Running Parameter Search:  29%|██▉       | 233/800 [1:54:00<3:43:31, 23.65s/it, Best RMSE=0.604]"
     ]
    },
    {
     "name": "stdout",
     "output_type": "stream",
     "text": [
      "LGBM Average RMSE over 50 folds: 0.748944\n"
     ]
    },
    {
     "name": "stderr",
     "output_type": "stream",
     "text": [
      "Running Parameter Search:  29%|██▉       | 234/800 [1:55:23<6:31:59, 41.55s/it, Best RMSE=0.604]"
     ]
    },
    {
     "name": "stdout",
     "output_type": "stream",
     "text": [
      "LGBM Average RMSE over 50 folds: 0.620756\n"
     ]
    },
    {
     "name": "stderr",
     "output_type": "stream",
     "text": [
      "Running Parameter Search:  29%|██▉       | 235/800 [1:55:48<5:42:52, 36.41s/it, Best RMSE=0.604]"
     ]
    },
    {
     "name": "stdout",
     "output_type": "stream",
     "text": [
      "LGBM Average RMSE over 50 folds: 0.605613\n"
     ]
    },
    {
     "name": "stderr",
     "output_type": "stream",
     "text": [
      "Running Parameter Search:  30%|██▉       | 236/800 [1:56:44<6:38:11, 42.36s/it, Best RMSE=0.604]"
     ]
    },
    {
     "name": "stdout",
     "output_type": "stream",
     "text": [
      "LGBM Average RMSE over 50 folds: 0.612485\n"
     ]
    },
    {
     "name": "stderr",
     "output_type": "stream",
     "text": [
      "Running Parameter Search:  30%|██▉       | 237/800 [1:57:00<5:24:07, 34.54s/it, Best RMSE=0.604]"
     ]
    },
    {
     "name": "stdout",
     "output_type": "stream",
     "text": [
      "LGBM Average RMSE over 50 folds: 0.687153\n"
     ]
    },
    {
     "name": "stderr",
     "output_type": "stream",
     "text": [
      "Running Parameter Search:  30%|██▉       | 238/800 [1:57:29<5:07:19, 32.81s/it, Best RMSE=0.604]"
     ]
    },
    {
     "name": "stdout",
     "output_type": "stream",
     "text": [
      "LGBM Average RMSE over 50 folds: 0.614881\n"
     ]
    },
    {
     "name": "stderr",
     "output_type": "stream",
     "text": [
      "Running Parameter Search:  30%|██▉       | 239/800 [1:58:28<6:21:10, 40.77s/it, Best RMSE=0.604]"
     ]
    },
    {
     "name": "stdout",
     "output_type": "stream",
     "text": [
      "LGBM Average RMSE over 50 folds: 0.619469\n"
     ]
    },
    {
     "name": "stderr",
     "output_type": "stream",
     "text": [
      "Running Parameter Search:  30%|███       | 240/800 [1:59:06<6:11:15, 39.78s/it, Best RMSE=0.604]"
     ]
    },
    {
     "name": "stdout",
     "output_type": "stream",
     "text": [
      "LGBM Average RMSE over 50 folds: 0.617850\n"
     ]
    },
    {
     "name": "stderr",
     "output_type": "stream",
     "text": [
      "Running Parameter Search:  30%|███       | 241/800 [1:59:43<6:04:15, 39.10s/it, Best RMSE=0.604]"
     ]
    },
    {
     "name": "stdout",
     "output_type": "stream",
     "text": [
      "LGBM Average RMSE over 50 folds: 0.608867\n"
     ]
    },
    {
     "name": "stderr",
     "output_type": "stream",
     "text": [
      "Running Parameter Search:  30%|███       | 242/800 [2:00:02<5:07:52, 33.10s/it, Best RMSE=0.604]"
     ]
    },
    {
     "name": "stdout",
     "output_type": "stream",
     "text": [
      "LGBM Average RMSE over 50 folds: 0.636860\n"
     ]
    },
    {
     "name": "stderr",
     "output_type": "stream",
     "text": [
      "Running Parameter Search:  30%|███       | 243/800 [2:00:21<4:27:48, 28.85s/it, Best RMSE=0.604]"
     ]
    },
    {
     "name": "stdout",
     "output_type": "stream",
     "text": [
      "LGBM Average RMSE over 50 folds: 0.607744\n"
     ]
    },
    {
     "name": "stderr",
     "output_type": "stream",
     "text": [
      "Running Parameter Search:  30%|███       | 244/800 [2:00:35<3:44:47, 24.26s/it, Best RMSE=0.604]"
     ]
    },
    {
     "name": "stdout",
     "output_type": "stream",
     "text": [
      "LGBM Average RMSE over 50 folds: 0.608945\n"
     ]
    },
    {
     "name": "stderr",
     "output_type": "stream",
     "text": [
      "Running Parameter Search:  31%|███       | 245/800 [2:01:08<4:09:58, 27.02s/it, Best RMSE=0.604]"
     ]
    },
    {
     "name": "stdout",
     "output_type": "stream",
     "text": [
      "LGBM Average RMSE over 50 folds: 0.611493\n"
     ]
    },
    {
     "name": "stderr",
     "output_type": "stream",
     "text": [
      "Running Parameter Search:  31%|███       | 246/800 [2:01:33<4:01:59, 26.21s/it, Best RMSE=0.604]"
     ]
    },
    {
     "name": "stdout",
     "output_type": "stream",
     "text": [
      "LGBM Average RMSE over 50 folds: 0.638797\n"
     ]
    },
    {
     "name": "stderr",
     "output_type": "stream",
     "text": [
      "Running Parameter Search:  31%|███       | 247/800 [2:01:49<3:33:50, 23.20s/it, Best RMSE=0.604]"
     ]
    },
    {
     "name": "stdout",
     "output_type": "stream",
     "text": [
      "LGBM Average RMSE over 50 folds: 0.626715\n"
     ]
    },
    {
     "name": "stderr",
     "output_type": "stream",
     "text": [
      "Running Parameter Search:  31%|███       | 248/800 [2:02:08<3:23:25, 22.11s/it, Best RMSE=0.604]"
     ]
    },
    {
     "name": "stdout",
     "output_type": "stream",
     "text": [
      "LGBM Average RMSE over 50 folds: 0.608559\n"
     ]
    },
    {
     "name": "stderr",
     "output_type": "stream",
     "text": [
      "Running Parameter Search:  31%|███       | 249/800 [2:02:36<3:37:04, 23.64s/it, Best RMSE=0.604]"
     ]
    },
    {
     "name": "stdout",
     "output_type": "stream",
     "text": [
      "LGBM Average RMSE over 50 folds: 0.608188\n"
     ]
    },
    {
     "name": "stderr",
     "output_type": "stream",
     "text": [
      "Running Parameter Search:  31%|███▏      | 250/800 [2:02:53<3:19:01, 21.71s/it, Best RMSE=0.604]"
     ]
    },
    {
     "name": "stdout",
     "output_type": "stream",
     "text": [
      "LGBM Average RMSE over 50 folds: 0.607305\n"
     ]
    },
    {
     "name": "stderr",
     "output_type": "stream",
     "text": [
      "Running Parameter Search:  31%|███▏      | 251/800 [2:03:10<3:06:51, 20.42s/it, Best RMSE=0.604]"
     ]
    },
    {
     "name": "stdout",
     "output_type": "stream",
     "text": [
      "LGBM Average RMSE over 50 folds: 0.670088\n"
     ]
    },
    {
     "name": "stderr",
     "output_type": "stream",
     "text": [
      "Running Parameter Search:  32%|███▏      | 252/800 [2:04:12<5:00:46, 32.93s/it, Best RMSE=0.604]"
     ]
    },
    {
     "name": "stdout",
     "output_type": "stream",
     "text": [
      "LGBM Average RMSE over 50 folds: 0.619363\n"
     ]
    },
    {
     "name": "stderr",
     "output_type": "stream",
     "text": [
      "Running Parameter Search:  32%|███▏      | 253/800 [2:04:33<4:25:23, 29.11s/it, Best RMSE=0.604]"
     ]
    },
    {
     "name": "stdout",
     "output_type": "stream",
     "text": [
      "LGBM Average RMSE over 50 folds: 0.629405\n"
     ]
    },
    {
     "name": "stderr",
     "output_type": "stream",
     "text": [
      "Running Parameter Search:  32%|███▏      | 254/800 [2:04:49<3:49:51, 25.26s/it, Best RMSE=0.604]"
     ]
    },
    {
     "name": "stdout",
     "output_type": "stream",
     "text": [
      "LGBM Average RMSE over 50 folds: 0.616423\n"
     ]
    },
    {
     "name": "stderr",
     "output_type": "stream",
     "text": [
      "Running Parameter Search:  32%|███▏      | 255/800 [2:05:03<3:19:16, 21.94s/it, Best RMSE=0.604]"
     ]
    },
    {
     "name": "stdout",
     "output_type": "stream",
     "text": [
      "LGBM Average RMSE over 50 folds: 0.988604\n"
     ]
    },
    {
     "name": "stderr",
     "output_type": "stream",
     "text": [
      "Running Parameter Search:  32%|███▏      | 256/800 [2:05:26<3:21:03, 22.17s/it, Best RMSE=0.604]"
     ]
    },
    {
     "name": "stdout",
     "output_type": "stream",
     "text": [
      "LGBM Average RMSE over 50 folds: 0.610085\n"
     ]
    },
    {
     "name": "stderr",
     "output_type": "stream",
     "text": [
      "Running Parameter Search:  32%|███▏      | 257/800 [2:05:56<3:41:55, 24.52s/it, Best RMSE=0.604]"
     ]
    },
    {
     "name": "stdout",
     "output_type": "stream",
     "text": [
      "LGBM Average RMSE over 50 folds: 0.630281\n"
     ]
    },
    {
     "name": "stderr",
     "output_type": "stream",
     "text": [
      "Running Parameter Search:  32%|███▏      | 258/800 [2:06:44<4:44:51, 31.53s/it, Best RMSE=0.604]"
     ]
    },
    {
     "name": "stdout",
     "output_type": "stream",
     "text": [
      "LGBM Average RMSE over 50 folds: 0.616416\n"
     ]
    },
    {
     "name": "stderr",
     "output_type": "stream",
     "text": [
      "Running Parameter Search:  32%|███▏      | 259/800 [2:06:59<3:59:54, 26.61s/it, Best RMSE=0.604]"
     ]
    },
    {
     "name": "stdout",
     "output_type": "stream",
     "text": [
      "LGBM Average RMSE over 50 folds: 1.140434\n"
     ]
    },
    {
     "name": "stderr",
     "output_type": "stream",
     "text": [
      "Running Parameter Search:  32%|███▎      | 260/800 [2:07:39<4:36:04, 30.68s/it, Best RMSE=0.604]"
     ]
    },
    {
     "name": "stdout",
     "output_type": "stream",
     "text": [
      "LGBM Average RMSE over 50 folds: 0.720505\n"
     ]
    },
    {
     "name": "stderr",
     "output_type": "stream",
     "text": [
      "Running Parameter Search:  33%|███▎      | 261/800 [2:07:58<4:02:59, 27.05s/it, Best RMSE=0.604]"
     ]
    },
    {
     "name": "stdout",
     "output_type": "stream",
     "text": [
      "LGBM Average RMSE over 50 folds: 0.608973\n"
     ]
    },
    {
     "name": "stderr",
     "output_type": "stream",
     "text": [
      "Running Parameter Search:  33%|███▎      | 262/800 [2:08:22<3:56:12, 26.34s/it, Best RMSE=0.604]"
     ]
    },
    {
     "name": "stdout",
     "output_type": "stream",
     "text": [
      "LGBM Average RMSE over 50 folds: 0.643021\n"
     ]
    },
    {
     "name": "stderr",
     "output_type": "stream",
     "text": [
      "Running Parameter Search:  33%|███▎      | 263/800 [2:08:36<3:22:42, 22.65s/it, Best RMSE=0.604]"
     ]
    },
    {
     "name": "stdout",
     "output_type": "stream",
     "text": [
      "LGBM Average RMSE over 50 folds: 0.676558\n"
     ]
    },
    {
     "name": "stderr",
     "output_type": "stream",
     "text": [
      "Running Parameter Search:  33%|███▎      | 264/800 [2:09:09<3:49:52, 25.73s/it, Best RMSE=0.604]"
     ]
    },
    {
     "name": "stdout",
     "output_type": "stream",
     "text": [
      "LGBM Average RMSE over 50 folds: 0.635333\n"
     ]
    },
    {
     "name": "stderr",
     "output_type": "stream",
     "text": [
      "Running Parameter Search:  33%|███▎      | 265/800 [2:09:42<4:09:03, 27.93s/it, Best RMSE=0.604]"
     ]
    },
    {
     "name": "stdout",
     "output_type": "stream",
     "text": [
      "LGBM Average RMSE over 50 folds: 0.805998\n"
     ]
    },
    {
     "name": "stderr",
     "output_type": "stream",
     "text": [
      "Running Parameter Search:  33%|███▎      | 266/800 [2:10:09<4:05:02, 27.53s/it, Best RMSE=0.604]"
     ]
    },
    {
     "name": "stdout",
     "output_type": "stream",
     "text": [
      "LGBM Average RMSE over 50 folds: 0.608558\n"
     ]
    },
    {
     "name": "stderr",
     "output_type": "stream",
     "text": [
      "Running Parameter Search:  33%|███▎      | 267/800 [2:10:36<4:03:21, 27.40s/it, Best RMSE=0.604]"
     ]
    },
    {
     "name": "stdout",
     "output_type": "stream",
     "text": [
      "LGBM Average RMSE over 50 folds: 0.632628\n"
     ]
    },
    {
     "name": "stderr",
     "output_type": "stream",
     "text": [
      "Running Parameter Search:  34%|███▎      | 268/800 [2:10:54<3:38:39, 24.66s/it, Best RMSE=0.604]"
     ]
    },
    {
     "name": "stdout",
     "output_type": "stream",
     "text": [
      "LGBM Average RMSE over 50 folds: 1.172789\n"
     ]
    },
    {
     "name": "stderr",
     "output_type": "stream",
     "text": [
      "Running Parameter Search:  34%|███▎      | 269/800 [2:11:17<3:32:40, 24.03s/it, Best RMSE=0.604]"
     ]
    },
    {
     "name": "stdout",
     "output_type": "stream",
     "text": [
      "LGBM Average RMSE over 50 folds: 0.632508\n"
     ]
    },
    {
     "name": "stderr",
     "output_type": "stream",
     "text": [
      "Running Parameter Search:  34%|███▍      | 270/800 [2:12:23<5:22:57, 36.56s/it, Best RMSE=0.604]"
     ]
    },
    {
     "name": "stdout",
     "output_type": "stream",
     "text": [
      "LGBM Average RMSE over 50 folds: 0.621259\n"
     ]
    },
    {
     "name": "stderr",
     "output_type": "stream",
     "text": [
      "Running Parameter Search:  34%|███▍      | 271/800 [2:12:52<5:02:16, 34.28s/it, Best RMSE=0.604]"
     ]
    },
    {
     "name": "stdout",
     "output_type": "stream",
     "text": [
      "LGBM Average RMSE over 50 folds: 0.938513\n"
     ]
    },
    {
     "name": "stderr",
     "output_type": "stream",
     "text": [
      "Running Parameter Search:  34%|███▍      | 272/800 [2:13:13<4:27:56, 30.45s/it, Best RMSE=0.604]"
     ]
    },
    {
     "name": "stdout",
     "output_type": "stream",
     "text": [
      "LGBM Average RMSE over 50 folds: 0.644665\n"
     ]
    },
    {
     "name": "stderr",
     "output_type": "stream",
     "text": [
      "Running Parameter Search:  34%|███▍      | 273/800 [2:14:10<5:38:28, 38.54s/it, Best RMSE=0.604]"
     ]
    },
    {
     "name": "stdout",
     "output_type": "stream",
     "text": [
      "LGBM Average RMSE over 50 folds: 0.613891\n"
     ]
    },
    {
     "name": "stderr",
     "output_type": "stream",
     "text": [
      "Running Parameter Search:  34%|███▍      | 274/800 [2:14:44<5:23:23, 36.89s/it, Best RMSE=0.604]"
     ]
    },
    {
     "name": "stdout",
     "output_type": "stream",
     "text": [
      "LGBM Average RMSE over 50 folds: 0.614004\n"
     ]
    },
    {
     "name": "stderr",
     "output_type": "stream",
     "text": [
      "Running Parameter Search:  34%|███▍      | 275/800 [2:15:07<4:48:17, 32.95s/it, Best RMSE=0.604]"
     ]
    },
    {
     "name": "stdout",
     "output_type": "stream",
     "text": [
      "LGBM Average RMSE over 50 folds: 0.627236\n"
     ]
    },
    {
     "name": "stderr",
     "output_type": "stream",
     "text": [
      "Running Parameter Search:  34%|███▍      | 276/800 [2:15:48<5:09:25, 35.43s/it, Best RMSE=0.604]"
     ]
    },
    {
     "name": "stdout",
     "output_type": "stream",
     "text": [
      "LGBM Average RMSE over 50 folds: 0.621057\n"
     ]
    },
    {
     "name": "stderr",
     "output_type": "stream",
     "text": [
      "Running Parameter Search:  35%|███▍      | 277/800 [2:16:10<4:31:28, 31.15s/it, Best RMSE=0.604]"
     ]
    },
    {
     "name": "stdout",
     "output_type": "stream",
     "text": [
      "LGBM Average RMSE over 50 folds: 0.696457\n"
     ]
    },
    {
     "name": "stderr",
     "output_type": "stream",
     "text": [
      "Running Parameter Search:  35%|███▍      | 278/800 [2:16:35<4:15:15, 29.34s/it, Best RMSE=0.604]"
     ]
    },
    {
     "name": "stdout",
     "output_type": "stream",
     "text": [
      "LGBM Average RMSE over 50 folds: 0.634058\n"
     ]
    },
    {
     "name": "stderr",
     "output_type": "stream",
     "text": [
      "Running Parameter Search:  35%|███▍      | 279/800 [2:16:58<3:59:03, 27.53s/it, Best RMSE=0.604]"
     ]
    },
    {
     "name": "stdout",
     "output_type": "stream",
     "text": [
      "LGBM Average RMSE over 50 folds: 0.651773\n"
     ]
    },
    {
     "name": "stderr",
     "output_type": "stream",
     "text": [
      "Running Parameter Search:  35%|███▌      | 280/800 [2:17:25<3:57:50, 27.44s/it, Best RMSE=0.604]"
     ]
    },
    {
     "name": "stdout",
     "output_type": "stream",
     "text": [
      "LGBM Average RMSE over 50 folds: 0.690659\n"
     ]
    },
    {
     "name": "stderr",
     "output_type": "stream",
     "text": [
      "Running Parameter Search:  35%|███▌      | 281/800 [2:17:45<3:38:04, 25.21s/it, Best RMSE=0.604]"
     ]
    },
    {
     "name": "stdout",
     "output_type": "stream",
     "text": [
      "LGBM Average RMSE over 50 folds: 1.719121\n"
     ]
    },
    {
     "name": "stderr",
     "output_type": "stream",
     "text": [
      "Running Parameter Search:  35%|███▌      | 282/800 [2:18:15<3:50:10, 26.66s/it, Best RMSE=0.604]"
     ]
    },
    {
     "name": "stdout",
     "output_type": "stream",
     "text": [
      "LGBM Average RMSE over 50 folds: 0.608186\n"
     ]
    },
    {
     "name": "stderr",
     "output_type": "stream",
     "text": [
      "Running Parameter Search:  35%|███▌      | 283/800 [2:18:41<3:45:59, 26.23s/it, Best RMSE=0.604]"
     ]
    },
    {
     "name": "stdout",
     "output_type": "stream",
     "text": [
      "LGBM Average RMSE over 50 folds: 0.618044\n"
     ]
    },
    {
     "name": "stderr",
     "output_type": "stream",
     "text": [
      "Running Parameter Search:  36%|███▌      | 284/800 [2:18:58<3:23:08, 23.62s/it, Best RMSE=0.604]"
     ]
    },
    {
     "name": "stdout",
     "output_type": "stream",
     "text": [
      "LGBM Average RMSE over 50 folds: 0.615481\n"
     ]
    },
    {
     "name": "stderr",
     "output_type": "stream",
     "text": [
      "Running Parameter Search:  36%|███▌      | 285/800 [2:19:39<4:07:38, 28.85s/it, Best RMSE=0.604]"
     ]
    },
    {
     "name": "stdout",
     "output_type": "stream",
     "text": [
      "LGBM Average RMSE over 50 folds: 0.615466\n"
     ]
    },
    {
     "name": "stderr",
     "output_type": "stream",
     "text": [
      "Running Parameter Search:  36%|███▌      | 286/800 [2:19:58<3:40:48, 25.77s/it, Best RMSE=0.604]"
     ]
    },
    {
     "name": "stdout",
     "output_type": "stream",
     "text": [
      "LGBM Average RMSE over 50 folds: 0.610816\n"
     ]
    },
    {
     "name": "stderr",
     "output_type": "stream",
     "text": [
      "Running Parameter Search:  36%|███▌      | 287/800 [2:20:26<3:45:42, 26.40s/it, Best RMSE=0.604]"
     ]
    },
    {
     "name": "stdout",
     "output_type": "stream",
     "text": [
      "LGBM Average RMSE over 50 folds: 0.609565\n"
     ]
    },
    {
     "name": "stderr",
     "output_type": "stream",
     "text": [
      "Running Parameter Search:  36%|███▌      | 288/800 [2:20:55<3:51:39, 27.15s/it, Best RMSE=0.604]"
     ]
    },
    {
     "name": "stdout",
     "output_type": "stream",
     "text": [
      "LGBM Average RMSE over 50 folds: 0.611174\n"
     ]
    },
    {
     "name": "stderr",
     "output_type": "stream",
     "text": [
      "Running Parameter Search:  36%|███▌      | 289/800 [2:21:09<3:19:51, 23.47s/it, Best RMSE=0.604]"
     ]
    },
    {
     "name": "stdout",
     "output_type": "stream",
     "text": [
      "LGBM Average RMSE over 50 folds: 1.272299\n"
     ]
    },
    {
     "name": "stderr",
     "output_type": "stream",
     "text": [
      "Running Parameter Search:  36%|███▋      | 290/800 [2:21:25<2:58:20, 20.98s/it, Best RMSE=0.604]"
     ]
    },
    {
     "name": "stdout",
     "output_type": "stream",
     "text": [
      "LGBM Average RMSE over 50 folds: 0.658060\n"
     ]
    },
    {
     "name": "stderr",
     "output_type": "stream",
     "text": [
      "Running Parameter Search:  36%|███▋      | 291/800 [2:21:40<2:43:20, 19.25s/it, Best RMSE=0.604]"
     ]
    },
    {
     "name": "stdout",
     "output_type": "stream",
     "text": [
      "LGBM Average RMSE over 50 folds: 0.672453\n"
     ]
    },
    {
     "name": "stderr",
     "output_type": "stream",
     "text": [
      "Running Parameter Search:  36%|███▋      | 292/800 [2:21:59<2:42:43, 19.22s/it, Best RMSE=0.604]"
     ]
    },
    {
     "name": "stdout",
     "output_type": "stream",
     "text": [
      "LGBM Average RMSE over 50 folds: 0.630592\n"
     ]
    },
    {
     "name": "stderr",
     "output_type": "stream",
     "text": [
      "Running Parameter Search:  37%|███▋      | 293/800 [2:22:47<3:54:32, 27.76s/it, Best RMSE=0.604]"
     ]
    },
    {
     "name": "stdout",
     "output_type": "stream",
     "text": [
      "LGBM Average RMSE over 50 folds: 0.619674\n"
     ]
    },
    {
     "name": "stderr",
     "output_type": "stream",
     "text": [
      "Running Parameter Search:  37%|███▋      | 294/800 [2:23:33<4:41:04, 33.33s/it, Best RMSE=0.604]"
     ]
    },
    {
     "name": "stdout",
     "output_type": "stream",
     "text": [
      "LGBM Average RMSE over 50 folds: 0.614172\n"
     ]
    },
    {
     "name": "stderr",
     "output_type": "stream",
     "text": [
      "Running Parameter Search:  37%|███▋      | 295/800 [2:23:58<4:19:56, 30.88s/it, Best RMSE=0.604]"
     ]
    },
    {
     "name": "stdout",
     "output_type": "stream",
     "text": [
      "LGBM Average RMSE over 50 folds: 0.609061\n"
     ]
    },
    {
     "name": "stderr",
     "output_type": "stream",
     "text": [
      "Running Parameter Search:  37%|███▋      | 296/800 [2:24:17<3:50:01, 27.38s/it, Best RMSE=0.604]"
     ]
    },
    {
     "name": "stdout",
     "output_type": "stream",
     "text": [
      "LGBM Average RMSE over 50 folds: 0.611611\n"
     ]
    },
    {
     "name": "stderr",
     "output_type": "stream",
     "text": [
      "Running Parameter Search:  37%|███▋      | 297/800 [2:24:39<3:35:59, 25.76s/it, Best RMSE=0.604]"
     ]
    },
    {
     "name": "stdout",
     "output_type": "stream",
     "text": [
      "LGBM Average RMSE over 50 folds: 0.608942\n"
     ]
    },
    {
     "name": "stderr",
     "output_type": "stream",
     "text": [
      "Running Parameter Search:  37%|███▋      | 298/800 [2:24:57<3:14:14, 23.22s/it, Best RMSE=0.604]"
     ]
    },
    {
     "name": "stdout",
     "output_type": "stream",
     "text": [
      "LGBM Average RMSE over 50 folds: 0.606103\n"
     ]
    },
    {
     "name": "stderr",
     "output_type": "stream",
     "text": [
      "Running Parameter Search:  37%|███▋      | 299/800 [2:25:17<3:06:38, 22.35s/it, Best RMSE=0.604]"
     ]
    },
    {
     "name": "stdout",
     "output_type": "stream",
     "text": [
      "LGBM Average RMSE over 50 folds: 0.607419\n"
     ]
    },
    {
     "name": "stderr",
     "output_type": "stream",
     "text": [
      "Running Parameter Search:  38%|███▊      | 300/800 [2:25:33<2:50:26, 20.45s/it, Best RMSE=0.604]"
     ]
    },
    {
     "name": "stdout",
     "output_type": "stream",
     "text": [
      "LGBM Average RMSE over 50 folds: 0.610348\n"
     ]
    },
    {
     "name": "stderr",
     "output_type": "stream",
     "text": [
      "Running Parameter Search:  38%|███▊      | 301/800 [2:26:12<3:36:38, 26.05s/it, Best RMSE=0.604]"
     ]
    },
    {
     "name": "stdout",
     "output_type": "stream",
     "text": [
      "LGBM Average RMSE over 50 folds: 0.613096\n"
     ]
    },
    {
     "name": "stderr",
     "output_type": "stream",
     "text": [
      "Running Parameter Search:  38%|███▊      | 302/800 [2:26:37<3:34:28, 25.84s/it, Best RMSE=0.604]"
     ]
    },
    {
     "name": "stdout",
     "output_type": "stream",
     "text": [
      "LGBM Average RMSE over 50 folds: 0.631510\n"
     ]
    },
    {
     "name": "stderr",
     "output_type": "stream",
     "text": [
      "Running Parameter Search:  38%|███▊      | 303/800 [2:27:16<4:06:17, 29.73s/it, Best RMSE=0.604]"
     ]
    },
    {
     "name": "stdout",
     "output_type": "stream",
     "text": [
      "LGBM Average RMSE over 50 folds: 0.609021\n"
     ]
    },
    {
     "name": "stderr",
     "output_type": "stream",
     "text": [
      "Running Parameter Search:  38%|███▊      | 304/800 [2:27:54<4:26:08, 32.19s/it, Best RMSE=0.604]"
     ]
    },
    {
     "name": "stdout",
     "output_type": "stream",
     "text": [
      "LGBM Average RMSE over 50 folds: 0.608763\n"
     ]
    },
    {
     "name": "stderr",
     "output_type": "stream",
     "text": [
      "Running Parameter Search:  38%|███▊      | 305/800 [2:28:49<5:22:00, 39.03s/it, Best RMSE=0.604]"
     ]
    },
    {
     "name": "stdout",
     "output_type": "stream",
     "text": [
      "LGBM Average RMSE over 50 folds: 0.615740\n"
     ]
    },
    {
     "name": "stderr",
     "output_type": "stream",
     "text": [
      "Running Parameter Search:  38%|███▊      | 306/800 [2:29:09<4:34:42, 33.36s/it, Best RMSE=0.603]"
     ]
    },
    {
     "name": "stdout",
     "output_type": "stream",
     "text": [
      "LGBM Average RMSE over 50 folds: 0.603186\n",
      "New best RMSE: 0.603186\n"
     ]
    },
    {
     "name": "stderr",
     "output_type": "stream",
     "text": [
      "Running Parameter Search:  38%|███▊      | 307/800 [2:29:54<5:02:35, 36.83s/it, Best RMSE=0.603]"
     ]
    },
    {
     "name": "stdout",
     "output_type": "stream",
     "text": [
      "LGBM Average RMSE over 50 folds: 0.614918\n"
     ]
    },
    {
     "name": "stderr",
     "output_type": "stream",
     "text": [
      "Running Parameter Search:  38%|███▊      | 308/800 [2:30:14<4:19:55, 31.70s/it, Best RMSE=0.603]"
     ]
    },
    {
     "name": "stdout",
     "output_type": "stream",
     "text": [
      "LGBM Average RMSE over 50 folds: 0.778953\n"
     ]
    },
    {
     "name": "stderr",
     "output_type": "stream",
     "text": [
      "Running Parameter Search:  39%|███▊      | 309/800 [2:31:26<5:58:01, 43.75s/it, Best RMSE=0.603]"
     ]
    },
    {
     "name": "stdout",
     "output_type": "stream",
     "text": [
      "LGBM Average RMSE over 50 folds: 0.620673\n"
     ]
    },
    {
     "name": "stderr",
     "output_type": "stream",
     "text": [
      "Running Parameter Search:  39%|███▉      | 310/800 [2:31:45<4:57:04, 36.38s/it, Best RMSE=0.603]"
     ]
    },
    {
     "name": "stdout",
     "output_type": "stream",
     "text": [
      "LGBM Average RMSE over 50 folds: 0.699596\n"
     ]
    },
    {
     "name": "stderr",
     "output_type": "stream",
     "text": [
      "Running Parameter Search:  39%|███▉      | 311/800 [2:32:06<4:18:20, 31.70s/it, Best RMSE=0.603]"
     ]
    },
    {
     "name": "stdout",
     "output_type": "stream",
     "text": [
      "LGBM Average RMSE over 50 folds: 0.967625\n"
     ]
    },
    {
     "name": "stderr",
     "output_type": "stream",
     "text": [
      "Running Parameter Search:  39%|███▉      | 312/800 [2:32:19<3:32:16, 26.10s/it, Best RMSE=0.603]"
     ]
    },
    {
     "name": "stdout",
     "output_type": "stream",
     "text": [
      "LGBM Average RMSE over 50 folds: 0.606487\n"
     ]
    },
    {
     "name": "stderr",
     "output_type": "stream",
     "text": [
      "Running Parameter Search:  39%|███▉      | 313/800 [2:32:45<3:32:45, 26.21s/it, Best RMSE=0.603]"
     ]
    },
    {
     "name": "stdout",
     "output_type": "stream",
     "text": [
      "LGBM Average RMSE over 50 folds: 0.616524\n"
     ]
    },
    {
     "name": "stderr",
     "output_type": "stream",
     "text": [
      "Running Parameter Search:  39%|███▉      | 314/800 [2:33:22<3:57:17, 29.30s/it, Best RMSE=0.603]"
     ]
    },
    {
     "name": "stdout",
     "output_type": "stream",
     "text": [
      "LGBM Average RMSE over 50 folds: 0.628808\n"
     ]
    },
    {
     "name": "stderr",
     "output_type": "stream",
     "text": [
      "Running Parameter Search:  39%|███▉      | 315/800 [2:33:39<3:28:17, 25.77s/it, Best RMSE=0.603]"
     ]
    },
    {
     "name": "stdout",
     "output_type": "stream",
     "text": [
      "LGBM Average RMSE over 50 folds: 0.610466\n"
     ]
    },
    {
     "name": "stderr",
     "output_type": "stream",
     "text": [
      "Running Parameter Search:  40%|███▉      | 316/800 [2:34:03<3:22:07, 25.06s/it, Best RMSE=0.603]"
     ]
    },
    {
     "name": "stdout",
     "output_type": "stream",
     "text": [
      "LGBM Average RMSE over 50 folds: 0.631461\n"
     ]
    },
    {
     "name": "stderr",
     "output_type": "stream",
     "text": [
      "Running Parameter Search:  40%|███▉      | 317/800 [2:34:47<4:07:25, 30.74s/it, Best RMSE=0.603]"
     ]
    },
    {
     "name": "stdout",
     "output_type": "stream",
     "text": [
      "LGBM Average RMSE over 50 folds: 0.614507\n"
     ]
    },
    {
     "name": "stderr",
     "output_type": "stream",
     "text": [
      "Running Parameter Search:  40%|███▉      | 318/800 [2:35:06<3:39:17, 27.30s/it, Best RMSE=0.603]"
     ]
    },
    {
     "name": "stdout",
     "output_type": "stream",
     "text": [
      "LGBM Average RMSE over 50 folds: 1.174475\n"
     ]
    },
    {
     "name": "stderr",
     "output_type": "stream",
     "text": [
      "Running Parameter Search:  40%|███▉      | 319/800 [2:36:00<4:42:46, 35.27s/it, Best RMSE=0.603]"
     ]
    },
    {
     "name": "stdout",
     "output_type": "stream",
     "text": [
      "LGBM Average RMSE over 50 folds: 0.620055\n"
     ]
    },
    {
     "name": "stderr",
     "output_type": "stream",
     "text": [
      "Running Parameter Search:  40%|████      | 320/800 [2:36:36<4:45:16, 35.66s/it, Best RMSE=0.603]"
     ]
    },
    {
     "name": "stdout",
     "output_type": "stream",
     "text": [
      "LGBM Average RMSE over 50 folds: 0.626060\n"
     ]
    },
    {
     "name": "stderr",
     "output_type": "stream",
     "text": [
      "Running Parameter Search:  40%|████      | 321/800 [2:37:09<4:36:26, 34.63s/it, Best RMSE=0.603]"
     ]
    },
    {
     "name": "stdout",
     "output_type": "stream",
     "text": [
      "LGBM Average RMSE over 50 folds: 0.639274\n"
     ]
    },
    {
     "name": "stderr",
     "output_type": "stream",
     "text": [
      "Running Parameter Search:  40%|████      | 322/800 [2:37:44<4:37:36, 34.85s/it, Best RMSE=0.603]"
     ]
    },
    {
     "name": "stdout",
     "output_type": "stream",
     "text": [
      "LGBM Average RMSE over 50 folds: 0.645812\n"
     ]
    },
    {
     "name": "stderr",
     "output_type": "stream",
     "text": [
      "Running Parameter Search:  40%|████      | 323/800 [2:37:58<3:47:29, 28.62s/it, Best RMSE=0.603]"
     ]
    },
    {
     "name": "stdout",
     "output_type": "stream",
     "text": [
      "LGBM Average RMSE over 50 folds: 0.660873\n"
     ]
    },
    {
     "name": "stderr",
     "output_type": "stream",
     "text": [
      "Running Parameter Search:  40%|████      | 324/800 [2:38:58<5:02:31, 38.13s/it, Best RMSE=0.603]"
     ]
    },
    {
     "name": "stdout",
     "output_type": "stream",
     "text": [
      "LGBM Average RMSE over 50 folds: 0.619985\n"
     ]
    },
    {
     "name": "stderr",
     "output_type": "stream",
     "text": [
      "Running Parameter Search:  41%|████      | 325/800 [2:39:24<4:32:37, 34.44s/it, Best RMSE=0.603]"
     ]
    },
    {
     "name": "stdout",
     "output_type": "stream",
     "text": [
      "LGBM Average RMSE over 50 folds: 0.608926\n"
     ]
    },
    {
     "name": "stderr",
     "output_type": "stream",
     "text": [
      "Running Parameter Search:  41%|████      | 326/800 [2:39:41<3:50:28, 29.17s/it, Best RMSE=0.603]"
     ]
    },
    {
     "name": "stdout",
     "output_type": "stream",
     "text": [
      "LGBM Average RMSE over 50 folds: 0.610692\n"
     ]
    },
    {
     "name": "stderr",
     "output_type": "stream",
     "text": [
      "Running Parameter Search:  41%|████      | 327/800 [2:40:03<3:31:44, 26.86s/it, Best RMSE=0.603]"
     ]
    },
    {
     "name": "stdout",
     "output_type": "stream",
     "text": [
      "LGBM Average RMSE over 50 folds: 0.693772\n"
     ]
    },
    {
     "name": "stderr",
     "output_type": "stream",
     "text": [
      "Running Parameter Search:  41%|████      | 328/800 [2:41:01<4:46:04, 36.37s/it, Best RMSE=0.603]"
     ]
    },
    {
     "name": "stdout",
     "output_type": "stream",
     "text": [
      "LGBM Average RMSE over 50 folds: 0.616510\n"
     ]
    },
    {
     "name": "stderr",
     "output_type": "stream",
     "text": [
      "Running Parameter Search:  41%|████      | 329/800 [2:41:20<4:03:11, 30.98s/it, Best RMSE=0.603]"
     ]
    },
    {
     "name": "stdout",
     "output_type": "stream",
     "text": [
      "LGBM Average RMSE over 50 folds: 0.771238\n"
     ]
    },
    {
     "name": "stderr",
     "output_type": "stream",
     "text": [
      "Running Parameter Search:  41%|████▏     | 330/800 [2:41:46<3:52:39, 29.70s/it, Best RMSE=0.603]"
     ]
    },
    {
     "name": "stdout",
     "output_type": "stream",
     "text": [
      "LGBM Average RMSE over 50 folds: 0.634354\n"
     ]
    },
    {
     "name": "stderr",
     "output_type": "stream",
     "text": [
      "Running Parameter Search:  41%|████▏     | 331/800 [2:42:01<3:16:56, 25.20s/it, Best RMSE=0.603]"
     ]
    },
    {
     "name": "stdout",
     "output_type": "stream",
     "text": [
      "LGBM Average RMSE over 50 folds: 0.608568\n"
     ]
    },
    {
     "name": "stderr",
     "output_type": "stream",
     "text": [
      "Running Parameter Search:  42%|████▏     | 332/800 [2:42:29<3:22:34, 25.97s/it, Best RMSE=0.603]"
     ]
    },
    {
     "name": "stdout",
     "output_type": "stream",
     "text": [
      "LGBM Average RMSE over 50 folds: 0.628444\n"
     ]
    },
    {
     "name": "stderr",
     "output_type": "stream",
     "text": [
      "Running Parameter Search:  42%|████▏     | 333/800 [2:42:51<3:13:18, 24.84s/it, Best RMSE=0.603]"
     ]
    },
    {
     "name": "stdout",
     "output_type": "stream",
     "text": [
      "LGBM Average RMSE over 50 folds: 0.614201\n"
     ]
    },
    {
     "name": "stderr",
     "output_type": "stream",
     "text": [
      "Running Parameter Search:  42%|████▏     | 334/800 [2:43:08<2:54:39, 22.49s/it, Best RMSE=0.603]"
     ]
    },
    {
     "name": "stdout",
     "output_type": "stream",
     "text": [
      "LGBM Average RMSE over 50 folds: 1.766557\n"
     ]
    },
    {
     "name": "stderr",
     "output_type": "stream",
     "text": [
      "Running Parameter Search:  42%|████▏     | 335/800 [2:43:21<2:32:04, 19.62s/it, Best RMSE=0.603]"
     ]
    },
    {
     "name": "stdout",
     "output_type": "stream",
     "text": [
      "LGBM Average RMSE over 50 folds: 0.613408\n"
     ]
    },
    {
     "name": "stderr",
     "output_type": "stream",
     "text": [
      "Running Parameter Search:  42%|████▏     | 336/800 [2:44:13<3:47:15, 29.39s/it, Best RMSE=0.603]"
     ]
    },
    {
     "name": "stdout",
     "output_type": "stream",
     "text": [
      "LGBM Average RMSE over 50 folds: 0.615243\n"
     ]
    },
    {
     "name": "stderr",
     "output_type": "stream",
     "text": [
      "Running Parameter Search:  42%|████▏     | 337/800 [2:44:28<3:13:10, 25.03s/it, Best RMSE=0.603]"
     ]
    },
    {
     "name": "stdout",
     "output_type": "stream",
     "text": [
      "LGBM Average RMSE over 50 folds: 0.607361\n"
     ]
    },
    {
     "name": "stderr",
     "output_type": "stream",
     "text": [
      "Running Parameter Search:  42%|████▏     | 338/800 [2:44:45<2:55:35, 22.80s/it, Best RMSE=0.603]"
     ]
    },
    {
     "name": "stdout",
     "output_type": "stream",
     "text": [
      "LGBM Average RMSE over 50 folds: 0.636684\n"
     ]
    },
    {
     "name": "stderr",
     "output_type": "stream",
     "text": [
      "Running Parameter Search:  42%|████▏     | 339/800 [2:45:07<2:52:00, 22.39s/it, Best RMSE=0.603]"
     ]
    },
    {
     "name": "stdout",
     "output_type": "stream",
     "text": [
      "LGBM Average RMSE over 50 folds: 0.632011\n"
     ]
    },
    {
     "name": "stderr",
     "output_type": "stream",
     "text": [
      "Running Parameter Search:  42%|████▎     | 340/800 [2:45:38<3:12:18, 25.08s/it, Best RMSE=0.603]"
     ]
    },
    {
     "name": "stdout",
     "output_type": "stream",
     "text": [
      "LGBM Average RMSE over 50 folds: 0.653088\n"
     ]
    },
    {
     "name": "stderr",
     "output_type": "stream",
     "text": [
      "Running Parameter Search:  43%|████▎     | 341/800 [2:47:13<5:50:36, 45.83s/it, Best RMSE=0.603]"
     ]
    },
    {
     "name": "stdout",
     "output_type": "stream",
     "text": [
      "LGBM Average RMSE over 50 folds: 0.625575\n"
     ]
    },
    {
     "name": "stderr",
     "output_type": "stream",
     "text": [
      "Running Parameter Search:  43%|████▎     | 342/800 [2:47:38<5:03:57, 39.82s/it, Best RMSE=0.603]"
     ]
    },
    {
     "name": "stdout",
     "output_type": "stream",
     "text": [
      "LGBM Average RMSE over 50 folds: 0.662139\n"
     ]
    },
    {
     "name": "stderr",
     "output_type": "stream",
     "text": [
      "Running Parameter Search:  43%|████▎     | 343/800 [2:48:03<4:29:45, 35.42s/it, Best RMSE=0.603]"
     ]
    },
    {
     "name": "stdout",
     "output_type": "stream",
     "text": [
      "LGBM Average RMSE over 50 folds: 0.626659\n"
     ]
    },
    {
     "name": "stderr",
     "output_type": "stream",
     "text": [
      "Running Parameter Search:  43%|████▎     | 344/800 [2:48:27<4:01:12, 31.74s/it, Best RMSE=0.603]"
     ]
    },
    {
     "name": "stdout",
     "output_type": "stream",
     "text": [
      "LGBM Average RMSE over 50 folds: 0.614825\n"
     ]
    },
    {
     "name": "stderr",
     "output_type": "stream",
     "text": [
      "Running Parameter Search:  43%|████▎     | 345/800 [2:48:50<3:42:43, 29.37s/it, Best RMSE=0.603]"
     ]
    },
    {
     "name": "stdout",
     "output_type": "stream",
     "text": [
      "LGBM Average RMSE over 50 folds: 0.801827\n"
     ]
    },
    {
     "name": "stderr",
     "output_type": "stream",
     "text": [
      "Running Parameter Search:  43%|████▎     | 346/800 [2:49:23<3:48:31, 30.20s/it, Best RMSE=0.603]"
     ]
    },
    {
     "name": "stdout",
     "output_type": "stream",
     "text": [
      "LGBM Average RMSE over 50 folds: 0.633423\n"
     ]
    },
    {
     "name": "stderr",
     "output_type": "stream",
     "text": [
      "Running Parameter Search:  43%|████▎     | 347/800 [2:49:43<3:26:15, 27.32s/it, Best RMSE=0.603]"
     ]
    },
    {
     "name": "stdout",
     "output_type": "stream",
     "text": [
      "LGBM Average RMSE over 50 folds: 0.614841\n"
     ]
    },
    {
     "name": "stderr",
     "output_type": "stream",
     "text": [
      "Running Parameter Search:  44%|████▎     | 348/800 [2:50:31<4:12:03, 33.46s/it, Best RMSE=0.603]"
     ]
    },
    {
     "name": "stdout",
     "output_type": "stream",
     "text": [
      "LGBM Average RMSE over 50 folds: 0.622694\n"
     ]
    },
    {
     "name": "stderr",
     "output_type": "stream",
     "text": [
      "Running Parameter Search:  44%|████▎     | 349/800 [2:51:30<5:09:07, 41.13s/it, Best RMSE=0.603]"
     ]
    },
    {
     "name": "stdout",
     "output_type": "stream",
     "text": [
      "LGBM Average RMSE over 50 folds: 0.632728\n"
     ]
    },
    {
     "name": "stderr",
     "output_type": "stream",
     "text": [
      "Running Parameter Search:  44%|████▍     | 350/800 [2:51:46<4:12:06, 33.61s/it, Best RMSE=0.603]"
     ]
    },
    {
     "name": "stdout",
     "output_type": "stream",
     "text": [
      "LGBM Average RMSE over 50 folds: 0.898647\n"
     ]
    },
    {
     "name": "stderr",
     "output_type": "stream",
     "text": [
      "Running Parameter Search:  44%|████▍     | 351/800 [2:52:02<3:32:26, 28.39s/it, Best RMSE=0.603]"
     ]
    },
    {
     "name": "stdout",
     "output_type": "stream",
     "text": [
      "LGBM Average RMSE over 50 folds: 0.673430\n"
     ]
    },
    {
     "name": "stderr",
     "output_type": "stream",
     "text": [
      "Running Parameter Search:  44%|████▍     | 352/800 [2:52:39<3:50:32, 30.88s/it, Best RMSE=0.603]"
     ]
    },
    {
     "name": "stdout",
     "output_type": "stream",
     "text": [
      "LGBM Average RMSE over 50 folds: 0.640838\n"
     ]
    },
    {
     "name": "stderr",
     "output_type": "stream",
     "text": [
      "Running Parameter Search:  44%|████▍     | 353/800 [2:53:28<4:29:45, 36.21s/it, Best RMSE=0.603]"
     ]
    },
    {
     "name": "stdout",
     "output_type": "stream",
     "text": [
      "LGBM Average RMSE over 50 folds: 0.612946\n"
     ]
    },
    {
     "name": "stderr",
     "output_type": "stream",
     "text": [
      "Running Parameter Search:  44%|████▍     | 354/800 [2:54:10<4:41:56, 37.93s/it, Best RMSE=0.603]"
     ]
    },
    {
     "name": "stdout",
     "output_type": "stream",
     "text": [
      "LGBM Average RMSE over 50 folds: 0.614758\n"
     ]
    },
    {
     "name": "stderr",
     "output_type": "stream",
     "text": [
      "Running Parameter Search:  44%|████▍     | 355/800 [2:54:32<4:06:08, 33.19s/it, Best RMSE=0.603]"
     ]
    },
    {
     "name": "stdout",
     "output_type": "stream",
     "text": [
      "LGBM Average RMSE over 50 folds: 0.641656\n"
     ]
    },
    {
     "name": "stderr",
     "output_type": "stream",
     "text": [
      "Running Parameter Search:  44%|████▍     | 356/800 [2:55:14<4:25:27, 35.87s/it, Best RMSE=0.603]"
     ]
    },
    {
     "name": "stdout",
     "output_type": "stream",
     "text": [
      "LGBM Average RMSE over 50 folds: 0.614071\n"
     ]
    },
    {
     "name": "stderr",
     "output_type": "stream",
     "text": [
      "Running Parameter Search:  45%|████▍     | 357/800 [2:55:34<3:49:47, 31.12s/it, Best RMSE=0.603]"
     ]
    },
    {
     "name": "stdout",
     "output_type": "stream",
     "text": [
      "LGBM Average RMSE over 50 folds: 0.646763\n"
     ]
    },
    {
     "name": "stderr",
     "output_type": "stream",
     "text": [
      "Running Parameter Search:  45%|████▍     | 358/800 [2:55:50<3:15:44, 26.57s/it, Best RMSE=0.603]"
     ]
    },
    {
     "name": "stdout",
     "output_type": "stream",
     "text": [
      "LGBM Average RMSE over 50 folds: 1.390684\n"
     ]
    },
    {
     "name": "stderr",
     "output_type": "stream",
     "text": [
      "Running Parameter Search:  45%|████▍     | 359/800 [2:56:39<4:05:34, 33.41s/it, Best RMSE=0.603]"
     ]
    },
    {
     "name": "stdout",
     "output_type": "stream",
     "text": [
      "LGBM Average RMSE over 50 folds: 0.615631\n"
     ]
    },
    {
     "name": "stderr",
     "output_type": "stream",
     "text": [
      "Running Parameter Search:  45%|████▌     | 360/800 [2:56:53<3:21:29, 27.48s/it, Best RMSE=0.603]"
     ]
    },
    {
     "name": "stdout",
     "output_type": "stream",
     "text": [
      "LGBM Average RMSE over 50 folds: 0.610399\n"
     ]
    },
    {
     "name": "stderr",
     "output_type": "stream",
     "text": [
      "Running Parameter Search:  45%|████▌     | 361/800 [2:57:11<3:01:30, 24.81s/it, Best RMSE=0.603]"
     ]
    },
    {
     "name": "stdout",
     "output_type": "stream",
     "text": [
      "LGBM Average RMSE over 50 folds: 0.628031\n"
     ]
    },
    {
     "name": "stderr",
     "output_type": "stream",
     "text": [
      "Running Parameter Search:  45%|████▌     | 362/800 [2:58:03<3:58:56, 32.73s/it, Best RMSE=0.603]"
     ]
    },
    {
     "name": "stdout",
     "output_type": "stream",
     "text": [
      "LGBM Average RMSE over 50 folds: 0.618014\n"
     ]
    },
    {
     "name": "stderr",
     "output_type": "stream",
     "text": [
      "Running Parameter Search:  45%|████▌     | 363/800 [2:58:48<4:26:47, 36.63s/it, Best RMSE=0.603]"
     ]
    },
    {
     "name": "stdout",
     "output_type": "stream",
     "text": [
      "LGBM Average RMSE over 50 folds: 0.612883\n"
     ]
    },
    {
     "name": "stderr",
     "output_type": "stream",
     "text": [
      "Running Parameter Search:  46%|████▌     | 364/800 [3:00:09<6:01:11, 49.71s/it, Best RMSE=0.603]"
     ]
    },
    {
     "name": "stdout",
     "output_type": "stream",
     "text": [
      "LGBM Average RMSE over 50 folds: 0.623031\n"
     ]
    },
    {
     "name": "stderr",
     "output_type": "stream",
     "text": [
      "Running Parameter Search:  46%|████▌     | 365/800 [3:00:43<5:27:14, 45.14s/it, Best RMSE=0.603]"
     ]
    },
    {
     "name": "stdout",
     "output_type": "stream",
     "text": [
      "LGBM Average RMSE over 50 folds: 0.630671\n"
     ]
    },
    {
     "name": "stderr",
     "output_type": "stream",
     "text": [
      "Running Parameter Search:  46%|████▌     | 366/800 [3:01:14<4:56:46, 41.03s/it, Best RMSE=0.603]"
     ]
    },
    {
     "name": "stdout",
     "output_type": "stream",
     "text": [
      "LGBM Average RMSE over 50 folds: 0.612988\n"
     ]
    },
    {
     "name": "stderr",
     "output_type": "stream",
     "text": [
      "Running Parameter Search:  46%|████▌     | 367/800 [3:01:36<4:14:56, 35.33s/it, Best RMSE=0.603]"
     ]
    },
    {
     "name": "stdout",
     "output_type": "stream",
     "text": [
      "LGBM Average RMSE over 50 folds: 0.639906\n"
     ]
    },
    {
     "name": "stderr",
     "output_type": "stream",
     "text": [
      "Running Parameter Search:  46%|████▌     | 368/800 [3:01:58<3:43:45, 31.08s/it, Best RMSE=0.603]"
     ]
    },
    {
     "name": "stdout",
     "output_type": "stream",
     "text": [
      "LGBM Average RMSE over 50 folds: 0.623196\n"
     ]
    },
    {
     "name": "stderr",
     "output_type": "stream",
     "text": [
      "Running Parameter Search:  46%|████▌     | 369/800 [3:02:19<3:23:17, 28.30s/it, Best RMSE=0.603]"
     ]
    },
    {
     "name": "stdout",
     "output_type": "stream",
     "text": [
      "LGBM Average RMSE over 50 folds: 0.693596\n"
     ]
    },
    {
     "name": "stderr",
     "output_type": "stream",
     "text": [
      "Running Parameter Search:  46%|████▋     | 370/800 [3:02:48<3:23:26, 28.39s/it, Best RMSE=0.603]"
     ]
    },
    {
     "name": "stdout",
     "output_type": "stream",
     "text": [
      "LGBM Average RMSE over 50 folds: 0.610772\n"
     ]
    },
    {
     "name": "stderr",
     "output_type": "stream",
     "text": [
      "Running Parameter Search:  46%|████▋     | 371/800 [3:03:12<3:12:56, 26.99s/it, Best RMSE=0.603]"
     ]
    },
    {
     "name": "stdout",
     "output_type": "stream",
     "text": [
      "LGBM Average RMSE over 50 folds: 0.685083\n"
     ]
    },
    {
     "name": "stderr",
     "output_type": "stream",
     "text": [
      "Running Parameter Search:  46%|████▋     | 372/800 [3:03:34<3:03:21, 25.70s/it, Best RMSE=0.603]"
     ]
    },
    {
     "name": "stdout",
     "output_type": "stream",
     "text": [
      "LGBM Average RMSE over 50 folds: 0.634140\n"
     ]
    },
    {
     "name": "stderr",
     "output_type": "stream",
     "text": [
      "Running Parameter Search:  47%|████▋     | 373/800 [3:03:51<2:42:49, 22.88s/it, Best RMSE=0.603]"
     ]
    },
    {
     "name": "stdout",
     "output_type": "stream",
     "text": [
      "LGBM Average RMSE over 50 folds: 0.632608\n"
     ]
    },
    {
     "name": "stderr",
     "output_type": "stream",
     "text": [
      "Running Parameter Search:  47%|████▋     | 374/800 [3:04:14<2:42:32, 22.89s/it, Best RMSE=0.603]"
     ]
    },
    {
     "name": "stdout",
     "output_type": "stream",
     "text": [
      "LGBM Average RMSE over 50 folds: 0.625208\n"
     ]
    },
    {
     "name": "stderr",
     "output_type": "stream",
     "text": [
      "Running Parameter Search:  47%|████▋     | 375/800 [3:04:48<3:07:11, 26.43s/it, Best RMSE=0.603]"
     ]
    },
    {
     "name": "stdout",
     "output_type": "stream",
     "text": [
      "LGBM Average RMSE over 50 folds: 1.796102\n"
     ]
    },
    {
     "name": "stderr",
     "output_type": "stream",
     "text": [
      "Running Parameter Search:  47%|████▋     | 376/800 [3:05:21<3:20:01, 28.31s/it, Best RMSE=0.603]"
     ]
    },
    {
     "name": "stdout",
     "output_type": "stream",
     "text": [
      "LGBM Average RMSE over 50 folds: 0.608613\n"
     ]
    },
    {
     "name": "stderr",
     "output_type": "stream",
     "text": [
      "Running Parameter Search:  47%|████▋     | 377/800 [3:05:57<3:35:33, 30.58s/it, Best RMSE=0.603]"
     ]
    },
    {
     "name": "stdout",
     "output_type": "stream",
     "text": [
      "LGBM Average RMSE over 50 folds: 0.617745\n"
     ]
    },
    {
     "name": "stderr",
     "output_type": "stream",
     "text": [
      "Running Parameter Search:  47%|████▋     | 378/800 [3:06:20<3:19:04, 28.31s/it, Best RMSE=0.603]"
     ]
    },
    {
     "name": "stdout",
     "output_type": "stream",
     "text": [
      "LGBM Average RMSE over 50 folds: 0.684484\n"
     ]
    },
    {
     "name": "stderr",
     "output_type": "stream",
     "text": [
      "Running Parameter Search:  47%|████▋     | 379/800 [3:06:46<3:13:58, 27.64s/it, Best RMSE=0.603]"
     ]
    },
    {
     "name": "stdout",
     "output_type": "stream",
     "text": [
      "LGBM Average RMSE over 50 folds: 0.630729\n"
     ]
    },
    {
     "name": "stderr",
     "output_type": "stream",
     "text": [
      "Running Parameter Search:  48%|████▊     | 380/800 [3:07:08<3:01:56, 25.99s/it, Best RMSE=0.603]"
     ]
    },
    {
     "name": "stdout",
     "output_type": "stream",
     "text": [
      "LGBM Average RMSE over 50 folds: 0.671318\n"
     ]
    },
    {
     "name": "stderr",
     "output_type": "stream",
     "text": [
      "Running Parameter Search:  48%|████▊     | 381/800 [3:07:39<3:12:38, 27.59s/it, Best RMSE=0.603]"
     ]
    },
    {
     "name": "stdout",
     "output_type": "stream",
     "text": [
      "LGBM Average RMSE over 50 folds: 0.612167\n"
     ]
    },
    {
     "name": "stderr",
     "output_type": "stream",
     "text": [
      "Running Parameter Search:  48%|████▊     | 382/800 [3:07:56<2:49:42, 24.36s/it, Best RMSE=0.603]"
     ]
    },
    {
     "name": "stdout",
     "output_type": "stream",
     "text": [
      "LGBM Average RMSE over 50 folds: 0.629138\n"
     ]
    },
    {
     "name": "stderr",
     "output_type": "stream",
     "text": [
      "Running Parameter Search:  48%|████▊     | 383/800 [3:08:24<2:55:22, 25.23s/it, Best RMSE=0.603]"
     ]
    },
    {
     "name": "stdout",
     "output_type": "stream",
     "text": [
      "LGBM Average RMSE over 50 folds: 0.611927\n"
     ]
    },
    {
     "name": "stderr",
     "output_type": "stream",
     "text": [
      "Running Parameter Search:  48%|████▊     | 384/800 [3:08:45<2:47:21, 24.14s/it, Best RMSE=0.603]"
     ]
    },
    {
     "name": "stdout",
     "output_type": "stream",
     "text": [
      "LGBM Average RMSE over 50 folds: 0.613796\n"
     ]
    },
    {
     "name": "stderr",
     "output_type": "stream",
     "text": [
      "Running Parameter Search:  48%|████▊     | 385/800 [3:09:08<2:43:24, 23.63s/it, Best RMSE=0.603]"
     ]
    },
    {
     "name": "stdout",
     "output_type": "stream",
     "text": [
      "LGBM Average RMSE over 50 folds: 0.610054\n"
     ]
    },
    {
     "name": "stderr",
     "output_type": "stream",
     "text": [
      "Running Parameter Search:  48%|████▊     | 386/800 [3:09:37<2:54:04, 25.23s/it, Best RMSE=0.603]"
     ]
    },
    {
     "name": "stdout",
     "output_type": "stream",
     "text": [
      "LGBM Average RMSE over 50 folds: 0.615783\n"
     ]
    },
    {
     "name": "stderr",
     "output_type": "stream",
     "text": [
      "Running Parameter Search:  48%|████▊     | 387/800 [3:09:51<2:30:27, 21.86s/it, Best RMSE=0.603]"
     ]
    },
    {
     "name": "stdout",
     "output_type": "stream",
     "text": [
      "LGBM Average RMSE over 50 folds: 0.612222\n"
     ]
    },
    {
     "name": "stderr",
     "output_type": "stream",
     "text": [
      "Running Parameter Search:  48%|████▊     | 388/800 [3:10:12<2:28:27, 21.62s/it, Best RMSE=0.603]"
     ]
    },
    {
     "name": "stdout",
     "output_type": "stream",
     "text": [
      "LGBM Average RMSE over 50 folds: 0.669870\n"
     ]
    },
    {
     "name": "stderr",
     "output_type": "stream",
     "text": [
      "Running Parameter Search:  49%|████▊     | 389/800 [3:10:48<2:58:32, 26.06s/it, Best RMSE=0.603]"
     ]
    },
    {
     "name": "stdout",
     "output_type": "stream",
     "text": [
      "LGBM Average RMSE over 50 folds: 0.610687\n"
     ]
    },
    {
     "name": "stderr",
     "output_type": "stream",
     "text": [
      "Running Parameter Search:  49%|████▉     | 390/800 [3:11:47<4:05:10, 35.88s/it, Best RMSE=0.603]"
     ]
    },
    {
     "name": "stdout",
     "output_type": "stream",
     "text": [
      "LGBM Average RMSE over 50 folds: 0.618316\n"
     ]
    },
    {
     "name": "stderr",
     "output_type": "stream",
     "text": [
      "Running Parameter Search:  49%|████▉     | 391/800 [3:12:19<3:57:15, 34.80s/it, Best RMSE=0.603]"
     ]
    },
    {
     "name": "stdout",
     "output_type": "stream",
     "text": [
      "LGBM Average RMSE over 50 folds: 0.609406\n"
     ]
    },
    {
     "name": "stderr",
     "output_type": "stream",
     "text": [
      "Running Parameter Search:  49%|████▉     | 392/800 [3:12:38<3:24:04, 30.01s/it, Best RMSE=0.603]"
     ]
    },
    {
     "name": "stdout",
     "output_type": "stream",
     "text": [
      "LGBM Average RMSE over 50 folds: 0.629127\n"
     ]
    },
    {
     "name": "stderr",
     "output_type": "stream",
     "text": [
      "Running Parameter Search:  49%|████▉     | 393/800 [3:12:57<3:01:25, 26.75s/it, Best RMSE=0.603]"
     ]
    },
    {
     "name": "stdout",
     "output_type": "stream",
     "text": [
      "LGBM Average RMSE over 50 folds: 0.609998\n"
     ]
    },
    {
     "name": "stderr",
     "output_type": "stream",
     "text": [
      "Running Parameter Search:  49%|████▉     | 394/800 [3:13:45<3:44:02, 33.11s/it, Best RMSE=0.603]"
     ]
    },
    {
     "name": "stdout",
     "output_type": "stream",
     "text": [
      "LGBM Average RMSE over 50 folds: 0.615712\n"
     ]
    },
    {
     "name": "stderr",
     "output_type": "stream",
     "text": [
      "Running Parameter Search:  49%|████▉     | 395/800 [3:14:04<3:14:39, 28.84s/it, Best RMSE=0.603]"
     ]
    },
    {
     "name": "stdout",
     "output_type": "stream",
     "text": [
      "LGBM Average RMSE over 50 folds: 0.654054\n"
     ]
    },
    {
     "name": "stderr",
     "output_type": "stream",
     "text": [
      "Running Parameter Search:  50%|████▉     | 396/800 [3:14:26<2:59:29, 26.66s/it, Best RMSE=0.603]"
     ]
    },
    {
     "name": "stdout",
     "output_type": "stream",
     "text": [
      "LGBM Average RMSE over 50 folds: 0.637890\n"
     ]
    },
    {
     "name": "stderr",
     "output_type": "stream",
     "text": [
      "Running Parameter Search:  50%|████▉     | 397/800 [3:15:09<3:33:06, 31.73s/it, Best RMSE=0.603]"
     ]
    },
    {
     "name": "stdout",
     "output_type": "stream",
     "text": [
      "LGBM Average RMSE over 50 folds: 0.617498\n"
     ]
    },
    {
     "name": "stderr",
     "output_type": "stream",
     "text": [
      "Running Parameter Search:  50%|████▉     | 398/800 [3:15:31<3:12:56, 28.80s/it, Best RMSE=0.603]"
     ]
    },
    {
     "name": "stdout",
     "output_type": "stream",
     "text": [
      "LGBM Average RMSE over 50 folds: 0.626478\n"
     ]
    },
    {
     "name": "stderr",
     "output_type": "stream",
     "text": [
      "Running Parameter Search:  50%|████▉     | 399/800 [3:16:00<3:13:27, 28.95s/it, Best RMSE=0.603]"
     ]
    },
    {
     "name": "stdout",
     "output_type": "stream",
     "text": [
      "LGBM Average RMSE over 50 folds: 0.616765\n"
     ]
    },
    {
     "name": "stderr",
     "output_type": "stream",
     "text": [
      "Running Parameter Search:  50%|█████     | 400/800 [3:16:43<3:40:57, 33.14s/it, Best RMSE=0.603]"
     ]
    },
    {
     "name": "stdout",
     "output_type": "stream",
     "text": [
      "LGBM Average RMSE over 50 folds: 0.612090\n"
     ]
    },
    {
     "name": "stderr",
     "output_type": "stream",
     "text": [
      "Running Parameter Search:  50%|█████     | 401/800 [3:17:02<3:12:25, 28.94s/it, Best RMSE=0.603]"
     ]
    },
    {
     "name": "stdout",
     "output_type": "stream",
     "text": [
      "LGBM Average RMSE over 50 folds: 0.640142\n"
     ]
    },
    {
     "name": "stderr",
     "output_type": "stream",
     "text": [
      "Running Parameter Search:  50%|█████     | 402/800 [3:17:54<3:57:40, 35.83s/it, Best RMSE=0.603]"
     ]
    },
    {
     "name": "stdout",
     "output_type": "stream",
     "text": [
      "LGBM Average RMSE over 50 folds: 0.621085\n"
     ]
    },
    {
     "name": "stderr",
     "output_type": "stream",
     "text": [
      "Running Parameter Search:  50%|█████     | 403/800 [3:18:34<4:04:27, 36.95s/it, Best RMSE=0.603]"
     ]
    },
    {
     "name": "stdout",
     "output_type": "stream",
     "text": [
      "LGBM Average RMSE over 50 folds: 0.639777\n"
     ]
    },
    {
     "name": "stderr",
     "output_type": "stream",
     "text": [
      "Running Parameter Search:  50%|█████     | 404/800 [3:18:55<3:33:21, 32.33s/it, Best RMSE=0.603]"
     ]
    },
    {
     "name": "stdout",
     "output_type": "stream",
     "text": [
      "LGBM Average RMSE over 50 folds: 0.612530\n"
     ]
    },
    {
     "name": "stderr",
     "output_type": "stream",
     "text": [
      "Running Parameter Search:  51%|█████     | 405/800 [3:19:17<3:11:22, 29.07s/it, Best RMSE=0.603]"
     ]
    },
    {
     "name": "stdout",
     "output_type": "stream",
     "text": [
      "LGBM Average RMSE over 50 folds: 0.659669\n"
     ]
    },
    {
     "name": "stderr",
     "output_type": "stream",
     "text": [
      "Running Parameter Search:  51%|█████     | 406/800 [3:19:33<2:44:42, 25.08s/it, Best RMSE=0.603]"
     ]
    },
    {
     "name": "stdout",
     "output_type": "stream",
     "text": [
      "LGBM Average RMSE over 50 folds: 0.612275\n"
     ]
    },
    {
     "name": "stderr",
     "output_type": "stream",
     "text": [
      "Running Parameter Search:  51%|█████     | 407/800 [3:20:03<2:54:42, 26.67s/it, Best RMSE=0.603]"
     ]
    },
    {
     "name": "stdout",
     "output_type": "stream",
     "text": [
      "LGBM Average RMSE over 50 folds: 0.607132\n"
     ]
    },
    {
     "name": "stderr",
     "output_type": "stream",
     "text": [
      "Running Parameter Search:  51%|█████     | 408/800 [3:21:09<4:11:30, 38.50s/it, Best RMSE=0.603]"
     ]
    },
    {
     "name": "stdout",
     "output_type": "stream",
     "text": [
      "LGBM Average RMSE over 50 folds: 0.614944\n"
     ]
    },
    {
     "name": "stderr",
     "output_type": "stream",
     "text": [
      "Running Parameter Search:  51%|█████     | 409/800 [3:21:27<3:31:05, 32.39s/it, Best RMSE=0.603]"
     ]
    },
    {
     "name": "stdout",
     "output_type": "stream",
     "text": [
      "LGBM Average RMSE over 50 folds: 0.612213\n"
     ]
    },
    {
     "name": "stderr",
     "output_type": "stream",
     "text": [
      "Running Parameter Search:  51%|█████▏    | 410/800 [3:21:44<3:00:02, 27.70s/it, Best RMSE=0.603]"
     ]
    },
    {
     "name": "stdout",
     "output_type": "stream",
     "text": [
      "LGBM Average RMSE over 50 folds: 0.609652\n"
     ]
    },
    {
     "name": "stderr",
     "output_type": "stream",
     "text": [
      "Running Parameter Search:  51%|█████▏    | 411/800 [3:21:59<2:34:03, 23.76s/it, Best RMSE=0.603]"
     ]
    },
    {
     "name": "stdout",
     "output_type": "stream",
     "text": [
      "LGBM Average RMSE over 50 folds: 0.610008\n"
     ]
    },
    {
     "name": "stderr",
     "output_type": "stream",
     "text": [
      "Running Parameter Search:  52%|█████▏    | 412/800 [3:22:12<2:13:48, 20.69s/it, Best RMSE=0.603]"
     ]
    },
    {
     "name": "stdout",
     "output_type": "stream",
     "text": [
      "LGBM Average RMSE over 50 folds: 2.087839\n"
     ]
    },
    {
     "name": "stderr",
     "output_type": "stream",
     "text": [
      "Running Parameter Search:  52%|█████▏    | 413/800 [3:22:29<2:05:26, 19.45s/it, Best RMSE=0.603]"
     ]
    },
    {
     "name": "stdout",
     "output_type": "stream",
     "text": [
      "LGBM Average RMSE over 50 folds: 0.635423\n"
     ]
    },
    {
     "name": "stderr",
     "output_type": "stream",
     "text": [
      "Running Parameter Search:  52%|█████▏    | 414/800 [3:23:12<2:50:49, 26.55s/it, Best RMSE=0.603]"
     ]
    },
    {
     "name": "stdout",
     "output_type": "stream",
     "text": [
      "LGBM Average RMSE over 50 folds: 0.646421\n"
     ]
    },
    {
     "name": "stderr",
     "output_type": "stream",
     "text": [
      "Running Parameter Search:  52%|█████▏    | 415/800 [3:23:33<2:39:59, 24.93s/it, Best RMSE=0.603]"
     ]
    },
    {
     "name": "stdout",
     "output_type": "stream",
     "text": [
      "LGBM Average RMSE over 50 folds: 0.643591\n"
     ]
    },
    {
     "name": "stderr",
     "output_type": "stream",
     "text": [
      "Running Parameter Search:  52%|█████▏    | 416/800 [3:24:00<2:43:59, 25.62s/it, Best RMSE=0.603]"
     ]
    },
    {
     "name": "stdout",
     "output_type": "stream",
     "text": [
      "LGBM Average RMSE over 50 folds: 0.612252\n"
     ]
    },
    {
     "name": "stderr",
     "output_type": "stream",
     "text": [
      "Running Parameter Search:  52%|█████▏    | 417/800 [3:24:20<2:32:10, 23.84s/it, Best RMSE=0.603]"
     ]
    },
    {
     "name": "stdout",
     "output_type": "stream",
     "text": [
      "LGBM Average RMSE over 50 folds: 0.607041\n"
     ]
    },
    {
     "name": "stderr",
     "output_type": "stream",
     "text": [
      "Running Parameter Search:  52%|█████▏    | 418/800 [3:24:40<2:25:05, 22.79s/it, Best RMSE=0.603]"
     ]
    },
    {
     "name": "stdout",
     "output_type": "stream",
     "text": [
      "LGBM Average RMSE over 50 folds: 0.627091\n"
     ]
    },
    {
     "name": "stderr",
     "output_type": "stream",
     "text": [
      "Running Parameter Search:  52%|█████▏    | 419/800 [3:25:01<2:20:59, 22.20s/it, Best RMSE=0.603]"
     ]
    },
    {
     "name": "stdout",
     "output_type": "stream",
     "text": [
      "LGBM Average RMSE over 50 folds: 0.610977\n"
     ]
    },
    {
     "name": "stderr",
     "output_type": "stream",
     "text": [
      "Running Parameter Search:  52%|█████▎    | 420/800 [3:25:14<2:03:07, 19.44s/it, Best RMSE=0.603]"
     ]
    },
    {
     "name": "stdout",
     "output_type": "stream",
     "text": [
      "LGBM Average RMSE over 50 folds: 0.607820\n"
     ]
    },
    {
     "name": "stderr",
     "output_type": "stream",
     "text": [
      "Running Parameter Search:  53%|█████▎    | 421/800 [3:25:44<2:22:17, 22.53s/it, Best RMSE=0.603]"
     ]
    },
    {
     "name": "stdout",
     "output_type": "stream",
     "text": [
      "LGBM Average RMSE over 50 folds: 0.625250\n"
     ]
    },
    {
     "name": "stderr",
     "output_type": "stream",
     "text": [
      "Running Parameter Search:  53%|█████▎    | 422/800 [3:26:02<2:13:26, 21.18s/it, Best RMSE=0.603]"
     ]
    },
    {
     "name": "stdout",
     "output_type": "stream",
     "text": [
      "LGBM Average RMSE over 50 folds: 0.637865\n"
     ]
    },
    {
     "name": "stderr",
     "output_type": "stream",
     "text": [
      "Running Parameter Search:  53%|█████▎    | 423/800 [3:26:18<2:03:11, 19.61s/it, Best RMSE=0.603]"
     ]
    },
    {
     "name": "stdout",
     "output_type": "stream",
     "text": [
      "LGBM Average RMSE over 50 folds: 0.606529\n"
     ]
    },
    {
     "name": "stderr",
     "output_type": "stream",
     "text": [
      "Running Parameter Search:  53%|█████▎    | 424/800 [3:26:47<2:21:43, 22.62s/it, Best RMSE=0.603]"
     ]
    },
    {
     "name": "stdout",
     "output_type": "stream",
     "text": [
      "LGBM Average RMSE over 50 folds: 0.632722\n"
     ]
    },
    {
     "name": "stderr",
     "output_type": "stream",
     "text": [
      "Running Parameter Search:  53%|█████▎    | 425/800 [3:27:23<2:45:23, 26.46s/it, Best RMSE=0.603]"
     ]
    },
    {
     "name": "stdout",
     "output_type": "stream",
     "text": [
      "LGBM Average RMSE over 50 folds: 0.609829\n"
     ]
    },
    {
     "name": "stderr",
     "output_type": "stream",
     "text": [
      "Running Parameter Search:  53%|█████▎    | 426/800 [3:27:39<2:26:28, 23.50s/it, Best RMSE=0.603]"
     ]
    },
    {
     "name": "stdout",
     "output_type": "stream",
     "text": [
      "LGBM Average RMSE over 50 folds: 0.641843\n"
     ]
    },
    {
     "name": "stderr",
     "output_type": "stream",
     "text": [
      "Running Parameter Search:  53%|█████▎    | 427/800 [3:27:56<2:13:36, 21.49s/it, Best RMSE=0.603]"
     ]
    },
    {
     "name": "stdout",
     "output_type": "stream",
     "text": [
      "LGBM Average RMSE over 50 folds: 0.608789\n"
     ]
    },
    {
     "name": "stderr",
     "output_type": "stream",
     "text": [
      "Running Parameter Search:  54%|█████▎    | 428/800 [3:28:23<2:23:07, 23.09s/it, Best RMSE=0.603]"
     ]
    },
    {
     "name": "stdout",
     "output_type": "stream",
     "text": [
      "LGBM Average RMSE over 50 folds: 0.628070\n"
     ]
    },
    {
     "name": "stderr",
     "output_type": "stream",
     "text": [
      "Running Parameter Search:  54%|█████▎    | 429/800 [3:28:37<2:05:33, 20.31s/it, Best RMSE=0.603]"
     ]
    },
    {
     "name": "stdout",
     "output_type": "stream",
     "text": [
      "LGBM Average RMSE over 50 folds: 0.606826\n"
     ]
    },
    {
     "name": "stderr",
     "output_type": "stream",
     "text": [
      "Running Parameter Search:  54%|█████▍    | 430/800 [3:29:30<3:06:56, 30.31s/it, Best RMSE=0.603]"
     ]
    },
    {
     "name": "stdout",
     "output_type": "stream",
     "text": [
      "LGBM Average RMSE over 50 folds: 0.615510\n"
     ]
    },
    {
     "name": "stderr",
     "output_type": "stream",
     "text": [
      "Running Parameter Search:  54%|█████▍    | 431/800 [3:29:46<2:39:33, 25.94s/it, Best RMSE=0.603]"
     ]
    },
    {
     "name": "stdout",
     "output_type": "stream",
     "text": [
      "LGBM Average RMSE over 50 folds: 0.606975\n"
     ]
    },
    {
     "name": "stderr",
     "output_type": "stream",
     "text": [
      "Running Parameter Search:  54%|█████▍    | 432/800 [3:30:15<2:45:08, 26.93s/it, Best RMSE=0.603]"
     ]
    },
    {
     "name": "stdout",
     "output_type": "stream",
     "text": [
      "LGBM Average RMSE over 50 folds: 0.606343\n"
     ]
    },
    {
     "name": "stderr",
     "output_type": "stream",
     "text": [
      "Running Parameter Search:  54%|█████▍    | 433/800 [3:30:45<2:48:54, 27.61s/it, Best RMSE=0.603]"
     ]
    },
    {
     "name": "stdout",
     "output_type": "stream",
     "text": [
      "LGBM Average RMSE over 50 folds: 0.607726\n"
     ]
    },
    {
     "name": "stderr",
     "output_type": "stream",
     "text": [
      "Running Parameter Search:  54%|█████▍    | 434/800 [3:31:06<2:37:42, 25.85s/it, Best RMSE=0.603]"
     ]
    },
    {
     "name": "stdout",
     "output_type": "stream",
     "text": [
      "LGBM Average RMSE over 50 folds: 0.612650\n"
     ]
    },
    {
     "name": "stderr",
     "output_type": "stream",
     "text": [
      "Running Parameter Search:  54%|█████▍    | 435/800 [3:31:24<2:21:55, 23.33s/it, Best RMSE=0.603]"
     ]
    },
    {
     "name": "stdout",
     "output_type": "stream",
     "text": [
      "LGBM Average RMSE over 50 folds: 0.834377\n"
     ]
    },
    {
     "name": "stderr",
     "output_type": "stream",
     "text": [
      "Running Parameter Search:  55%|█████▍    | 436/800 [3:32:05<2:53:49, 28.65s/it, Best RMSE=0.603]"
     ]
    },
    {
     "name": "stdout",
     "output_type": "stream",
     "text": [
      "LGBM Average RMSE over 50 folds: 0.615458\n"
     ]
    },
    {
     "name": "stderr",
     "output_type": "stream",
     "text": [
      "Running Parameter Search:  55%|█████▍    | 437/800 [3:32:29<2:45:48, 27.41s/it, Best RMSE=0.603]"
     ]
    },
    {
     "name": "stdout",
     "output_type": "stream",
     "text": [
      "LGBM Average RMSE over 50 folds: 0.606722\n"
     ]
    },
    {
     "name": "stderr",
     "output_type": "stream",
     "text": [
      "Running Parameter Search:  55%|█████▍    | 438/800 [3:33:06<3:02:09, 30.19s/it, Best RMSE=0.603]"
     ]
    },
    {
     "name": "stdout",
     "output_type": "stream",
     "text": [
      "LGBM Average RMSE over 50 folds: 0.633548\n"
     ]
    },
    {
     "name": "stderr",
     "output_type": "stream",
     "text": [
      "Running Parameter Search:  55%|█████▍    | 439/800 [3:33:22<2:36:20, 25.99s/it, Best RMSE=0.603]"
     ]
    },
    {
     "name": "stdout",
     "output_type": "stream",
     "text": [
      "LGBM Average RMSE over 50 folds: 0.627242\n"
     ]
    },
    {
     "name": "stderr",
     "output_type": "stream",
     "text": [
      "Running Parameter Search:  55%|█████▌    | 440/800 [3:33:43<2:27:15, 24.54s/it, Best RMSE=0.603]"
     ]
    },
    {
     "name": "stdout",
     "output_type": "stream",
     "text": [
      "LGBM Average RMSE over 50 folds: 0.611842\n"
     ]
    },
    {
     "name": "stderr",
     "output_type": "stream",
     "text": [
      "Running Parameter Search:  55%|█████▌    | 441/800 [3:33:58<2:08:17, 21.44s/it, Best RMSE=0.603]"
     ]
    },
    {
     "name": "stdout",
     "output_type": "stream",
     "text": [
      "LGBM Average RMSE over 50 folds: 0.783376\n"
     ]
    },
    {
     "name": "stderr",
     "output_type": "stream",
     "text": [
      "Running Parameter Search:  55%|█████▌    | 442/800 [3:34:46<2:56:44, 29.62s/it, Best RMSE=0.603]"
     ]
    },
    {
     "name": "stdout",
     "output_type": "stream",
     "text": [
      "LGBM Average RMSE over 50 folds: 0.617667\n"
     ]
    },
    {
     "name": "stderr",
     "output_type": "stream",
     "text": [
      "Running Parameter Search:  55%|█████▌    | 443/800 [3:35:08<2:42:20, 27.28s/it, Best RMSE=0.603]"
     ]
    },
    {
     "name": "stdout",
     "output_type": "stream",
     "text": [
      "LGBM Average RMSE over 50 folds: 0.613532\n"
     ]
    },
    {
     "name": "stderr",
     "output_type": "stream",
     "text": [
      "Running Parameter Search:  56%|█████▌    | 444/800 [3:35:49<3:06:01, 31.35s/it, Best RMSE=0.603]"
     ]
    },
    {
     "name": "stdout",
     "output_type": "stream",
     "text": [
      "LGBM Average RMSE over 50 folds: 0.614007\n"
     ]
    },
    {
     "name": "stderr",
     "output_type": "stream",
     "text": [
      "Running Parameter Search:  56%|█████▌    | 445/800 [3:36:03<2:34:42, 26.15s/it, Best RMSE=0.603]"
     ]
    },
    {
     "name": "stdout",
     "output_type": "stream",
     "text": [
      "LGBM Average RMSE over 50 folds: 2.121359\n"
     ]
    },
    {
     "name": "stderr",
     "output_type": "stream",
     "text": [
      "Running Parameter Search:  56%|█████▌    | 446/800 [3:36:27<2:30:21, 25.48s/it, Best RMSE=0.603]"
     ]
    },
    {
     "name": "stdout",
     "output_type": "stream",
     "text": [
      "LGBM Average RMSE over 50 folds: 0.636145\n"
     ]
    },
    {
     "name": "stderr",
     "output_type": "stream",
     "text": [
      "Running Parameter Search:  56%|█████▌    | 447/800 [3:37:00<2:43:51, 27.85s/it, Best RMSE=0.603]"
     ]
    },
    {
     "name": "stdout",
     "output_type": "stream",
     "text": [
      "LGBM Average RMSE over 50 folds: 0.617437\n"
     ]
    },
    {
     "name": "stderr",
     "output_type": "stream",
     "text": [
      "Running Parameter Search:  56%|█████▌    | 448/800 [3:37:32<2:49:48, 28.94s/it, Best RMSE=0.603]"
     ]
    },
    {
     "name": "stdout",
     "output_type": "stream",
     "text": [
      "LGBM Average RMSE over 50 folds: 0.785598\n"
     ]
    },
    {
     "name": "stderr",
     "output_type": "stream",
     "text": [
      "Running Parameter Search:  56%|█████▌    | 449/800 [3:37:51<2:31:16, 25.86s/it, Best RMSE=0.603]"
     ]
    },
    {
     "name": "stdout",
     "output_type": "stream",
     "text": [
      "LGBM Average RMSE over 50 folds: 0.987978\n"
     ]
    },
    {
     "name": "stderr",
     "output_type": "stream",
     "text": [
      "Running Parameter Search:  56%|█████▋    | 450/800 [3:38:06<2:11:54, 22.61s/it, Best RMSE=0.603]"
     ]
    },
    {
     "name": "stdout",
     "output_type": "stream",
     "text": [
      "LGBM Average RMSE over 50 folds: 0.608614\n"
     ]
    },
    {
     "name": "stderr",
     "output_type": "stream",
     "text": [
      "Running Parameter Search:  56%|█████▋    | 451/800 [3:38:28<2:10:43, 22.47s/it, Best RMSE=0.603]"
     ]
    },
    {
     "name": "stdout",
     "output_type": "stream",
     "text": [
      "LGBM Average RMSE over 50 folds: 0.606524\n"
     ]
    },
    {
     "name": "stderr",
     "output_type": "stream",
     "text": [
      "Running Parameter Search:  56%|█████▋    | 452/800 [3:39:02<2:31:35, 26.14s/it, Best RMSE=0.603]"
     ]
    },
    {
     "name": "stdout",
     "output_type": "stream",
     "text": [
      "LGBM Average RMSE over 50 folds: 0.610498\n"
     ]
    },
    {
     "name": "stderr",
     "output_type": "stream",
     "text": [
      "Running Parameter Search:  57%|█████▋    | 453/800 [3:39:20<2:15:55, 23.50s/it, Best RMSE=0.603]"
     ]
    },
    {
     "name": "stdout",
     "output_type": "stream",
     "text": [
      "LGBM Average RMSE over 50 folds: 0.608579\n"
     ]
    },
    {
     "name": "stderr",
     "output_type": "stream",
     "text": [
      "Running Parameter Search:  57%|█████▋    | 454/800 [3:39:45<2:19:11, 24.14s/it, Best RMSE=0.603]"
     ]
    },
    {
     "name": "stdout",
     "output_type": "stream",
     "text": [
      "LGBM Average RMSE over 50 folds: 0.626623\n"
     ]
    },
    {
     "name": "stderr",
     "output_type": "stream",
     "text": [
      "Running Parameter Search:  57%|█████▋    | 455/800 [3:40:03<2:07:39, 22.20s/it, Best RMSE=0.603]"
     ]
    },
    {
     "name": "stdout",
     "output_type": "stream",
     "text": [
      "LGBM Average RMSE over 50 folds: 0.963903\n"
     ]
    },
    {
     "name": "stderr",
     "output_type": "stream",
     "text": [
      "Running Parameter Search:  57%|█████▋    | 456/800 [3:40:24<2:05:53, 21.96s/it, Best RMSE=0.603]"
     ]
    },
    {
     "name": "stdout",
     "output_type": "stream",
     "text": [
      "LGBM Average RMSE over 50 folds: 0.611929\n"
     ]
    },
    {
     "name": "stderr",
     "output_type": "stream",
     "text": [
      "Running Parameter Search:  57%|█████▋    | 457/800 [3:40:54<2:17:44, 24.09s/it, Best RMSE=0.603]"
     ]
    },
    {
     "name": "stdout",
     "output_type": "stream",
     "text": [
      "LGBM Average RMSE over 50 folds: 0.606988\n"
     ]
    },
    {
     "name": "stderr",
     "output_type": "stream",
     "text": [
      "Running Parameter Search:  57%|█████▋    | 458/800 [3:41:16<2:15:07, 23.71s/it, Best RMSE=0.603]"
     ]
    },
    {
     "name": "stdout",
     "output_type": "stream",
     "text": [
      "LGBM Average RMSE over 50 folds: 1.988167\n"
     ]
    },
    {
     "name": "stderr",
     "output_type": "stream",
     "text": [
      "Running Parameter Search:  57%|█████▋    | 459/800 [3:41:57<2:43:20, 28.74s/it, Best RMSE=0.603]"
     ]
    },
    {
     "name": "stdout",
     "output_type": "stream",
     "text": [
      "LGBM Average RMSE over 50 folds: 0.613318\n"
     ]
    },
    {
     "name": "stderr",
     "output_type": "stream",
     "text": [
      "Running Parameter Search:  57%|█████▊    | 460/800 [3:42:35<2:59:31, 31.68s/it, Best RMSE=0.603]"
     ]
    },
    {
     "name": "stdout",
     "output_type": "stream",
     "text": [
      "LGBM Average RMSE over 50 folds: 0.612617\n"
     ]
    },
    {
     "name": "stderr",
     "output_type": "stream",
     "text": [
      "Running Parameter Search:  58%|█████▊    | 461/800 [3:42:57<2:41:50, 28.65s/it, Best RMSE=0.603]"
     ]
    },
    {
     "name": "stdout",
     "output_type": "stream",
     "text": [
      "LGBM Average RMSE over 50 folds: 0.885841\n"
     ]
    },
    {
     "name": "stderr",
     "output_type": "stream",
     "text": [
      "Running Parameter Search:  58%|█████▊    | 462/800 [3:43:13<2:20:52, 25.01s/it, Best RMSE=0.603]"
     ]
    },
    {
     "name": "stdout",
     "output_type": "stream",
     "text": [
      "LGBM Average RMSE over 50 folds: 0.609478\n"
     ]
    },
    {
     "name": "stderr",
     "output_type": "stream",
     "text": [
      "Running Parameter Search:  58%|█████▊    | 463/800 [3:43:44<2:29:11, 26.56s/it, Best RMSE=0.603]"
     ]
    },
    {
     "name": "stdout",
     "output_type": "stream",
     "text": [
      "LGBM Average RMSE over 50 folds: 0.607145\n"
     ]
    },
    {
     "name": "stderr",
     "output_type": "stream",
     "text": [
      "Running Parameter Search:  58%|█████▊    | 464/800 [3:43:58<2:08:34, 22.96s/it, Best RMSE=0.603]"
     ]
    },
    {
     "name": "stdout",
     "output_type": "stream",
     "text": [
      "LGBM Average RMSE over 50 folds: 0.608783\n"
     ]
    },
    {
     "name": "stderr",
     "output_type": "stream",
     "text": [
      "Running Parameter Search:  58%|█████▊    | 465/800 [3:44:36<2:33:04, 27.42s/it, Best RMSE=0.603]"
     ]
    },
    {
     "name": "stdout",
     "output_type": "stream",
     "text": [
      "LGBM Average RMSE over 50 folds: 0.608523\n"
     ]
    },
    {
     "name": "stderr",
     "output_type": "stream",
     "text": [
      "Running Parameter Search:  58%|█████▊    | 466/800 [3:44:52<2:12:47, 23.85s/it, Best RMSE=0.603]"
     ]
    },
    {
     "name": "stdout",
     "output_type": "stream",
     "text": [
      "LGBM Average RMSE over 50 folds: 2.038624\n"
     ]
    },
    {
     "name": "stderr",
     "output_type": "stream",
     "text": [
      "Running Parameter Search:  58%|█████▊    | 467/800 [3:45:22<2:23:44, 25.90s/it, Best RMSE=0.603]"
     ]
    },
    {
     "name": "stdout",
     "output_type": "stream",
     "text": [
      "LGBM Average RMSE over 50 folds: 0.621920\n"
     ]
    },
    {
     "name": "stderr",
     "output_type": "stream",
     "text": [
      "Running Parameter Search:  58%|█████▊    | 468/800 [3:45:50<2:26:56, 26.55s/it, Best RMSE=0.603]"
     ]
    },
    {
     "name": "stdout",
     "output_type": "stream",
     "text": [
      "LGBM Average RMSE over 50 folds: 0.612257\n"
     ]
    },
    {
     "name": "stderr",
     "output_type": "stream",
     "text": [
      "Running Parameter Search:  59%|█████▊    | 469/800 [3:46:21<2:34:08, 27.94s/it, Best RMSE=0.603]"
     ]
    },
    {
     "name": "stdout",
     "output_type": "stream",
     "text": [
      "LGBM Average RMSE over 50 folds: 0.610625\n"
     ]
    },
    {
     "name": "stderr",
     "output_type": "stream",
     "text": [
      "Running Parameter Search:  59%|█████▉    | 470/800 [3:47:33<3:46:00, 41.09s/it, Best RMSE=0.603]"
     ]
    },
    {
     "name": "stdout",
     "output_type": "stream",
     "text": [
      "LGBM Average RMSE over 50 folds: 0.616403\n"
     ]
    },
    {
     "name": "stderr",
     "output_type": "stream",
     "text": [
      "Running Parameter Search:  59%|█████▉    | 471/800 [3:47:47<3:01:02, 33.02s/it, Best RMSE=0.603]"
     ]
    },
    {
     "name": "stdout",
     "output_type": "stream",
     "text": [
      "LGBM Average RMSE over 50 folds: 0.607893\n"
     ]
    },
    {
     "name": "stderr",
     "output_type": "stream",
     "text": [
      "Running Parameter Search:  59%|█████▉    | 472/800 [3:48:31<3:17:22, 36.10s/it, Best RMSE=0.603]"
     ]
    },
    {
     "name": "stdout",
     "output_type": "stream",
     "text": [
      "LGBM Average RMSE over 50 folds: 0.616706\n"
     ]
    },
    {
     "name": "stderr",
     "output_type": "stream",
     "text": [
      "Running Parameter Search:  59%|█████▉    | 473/800 [3:49:06<3:15:50, 35.93s/it, Best RMSE=0.603]"
     ]
    },
    {
     "name": "stdout",
     "output_type": "stream",
     "text": [
      "LGBM Average RMSE over 50 folds: 0.614175\n"
     ]
    },
    {
     "name": "stderr",
     "output_type": "stream",
     "text": [
      "Running Parameter Search:  59%|█████▉    | 474/800 [3:49:32<2:58:45, 32.90s/it, Best RMSE=0.603]"
     ]
    },
    {
     "name": "stdout",
     "output_type": "stream",
     "text": [
      "LGBM Average RMSE over 50 folds: 0.612744\n"
     ]
    },
    {
     "name": "stderr",
     "output_type": "stream",
     "text": [
      "Running Parameter Search:  59%|█████▉    | 475/800 [3:50:20<3:22:50, 37.45s/it, Best RMSE=0.603]"
     ]
    },
    {
     "name": "stdout",
     "output_type": "stream",
     "text": [
      "LGBM Average RMSE over 50 folds: 0.617520\n"
     ]
    },
    {
     "name": "stderr",
     "output_type": "stream",
     "text": [
      "Running Parameter Search:  60%|█████▉    | 476/800 [3:50:51<3:10:51, 35.34s/it, Best RMSE=0.603]"
     ]
    },
    {
     "name": "stdout",
     "output_type": "stream",
     "text": [
      "LGBM Average RMSE over 50 folds: 0.628841\n"
     ]
    },
    {
     "name": "stderr",
     "output_type": "stream",
     "text": [
      "Running Parameter Search:  60%|█████▉    | 477/800 [3:51:08<2:41:20, 29.97s/it, Best RMSE=0.603]"
     ]
    },
    {
     "name": "stdout",
     "output_type": "stream",
     "text": [
      "LGBM Average RMSE over 50 folds: 0.980836\n"
     ]
    },
    {
     "name": "stderr",
     "output_type": "stream",
     "text": [
      "Running Parameter Search:  60%|█████▉    | 478/800 [3:51:25<2:20:11, 26.12s/it, Best RMSE=0.603]"
     ]
    },
    {
     "name": "stdout",
     "output_type": "stream",
     "text": [
      "LGBM Average RMSE over 50 folds: 1.583579\n"
     ]
    },
    {
     "name": "stderr",
     "output_type": "stream",
     "text": [
      "Running Parameter Search:  60%|█████▉    | 479/800 [3:51:58<2:30:06, 28.06s/it, Best RMSE=0.603]"
     ]
    },
    {
     "name": "stdout",
     "output_type": "stream",
     "text": [
      "LGBM Average RMSE over 50 folds: 0.607672\n"
     ]
    },
    {
     "name": "stderr",
     "output_type": "stream",
     "text": [
      "Running Parameter Search:  60%|██████    | 480/800 [3:52:58<3:21:45, 37.83s/it, Best RMSE=0.603]"
     ]
    },
    {
     "name": "stdout",
     "output_type": "stream",
     "text": [
      "LGBM Average RMSE over 50 folds: 0.618682\n"
     ]
    },
    {
     "name": "stderr",
     "output_type": "stream",
     "text": [
      "Running Parameter Search:  60%|██████    | 481/800 [3:53:15<2:46:59, 31.41s/it, Best RMSE=0.603]"
     ]
    },
    {
     "name": "stdout",
     "output_type": "stream",
     "text": [
      "LGBM Average RMSE over 50 folds: 0.605608\n"
     ]
    },
    {
     "name": "stderr",
     "output_type": "stream",
     "text": [
      "Running Parameter Search:  60%|██████    | 482/800 [3:53:46<2:46:26, 31.40s/it, Best RMSE=0.603]"
     ]
    },
    {
     "name": "stdout",
     "output_type": "stream",
     "text": [
      "LGBM Average RMSE over 50 folds: 0.609629\n"
     ]
    },
    {
     "name": "stderr",
     "output_type": "stream",
     "text": [
      "Running Parameter Search:  60%|██████    | 483/800 [3:54:13<2:38:06, 29.93s/it, Best RMSE=0.603]"
     ]
    },
    {
     "name": "stdout",
     "output_type": "stream",
     "text": [
      "LGBM Average RMSE over 50 folds: 0.695027\n"
     ]
    },
    {
     "name": "stderr",
     "output_type": "stream",
     "text": [
      "Running Parameter Search:  60%|██████    | 484/800 [3:54:31<2:19:27, 26.48s/it, Best RMSE=0.603]"
     ]
    },
    {
     "name": "stdout",
     "output_type": "stream",
     "text": [
      "LGBM Average RMSE over 50 folds: 0.609247\n"
     ]
    },
    {
     "name": "stderr",
     "output_type": "stream",
     "text": [
      "Running Parameter Search:  61%|██████    | 485/800 [3:54:51<2:07:54, 24.36s/it, Best RMSE=0.603]"
     ]
    },
    {
     "name": "stdout",
     "output_type": "stream",
     "text": [
      "LGBM Average RMSE over 50 folds: 0.638445\n"
     ]
    },
    {
     "name": "stderr",
     "output_type": "stream",
     "text": [
      "Running Parameter Search:  61%|██████    | 486/800 [3:55:10<1:59:55, 22.92s/it, Best RMSE=0.603]"
     ]
    },
    {
     "name": "stdout",
     "output_type": "stream",
     "text": [
      "LGBM Average RMSE over 50 folds: 0.610988\n"
     ]
    },
    {
     "name": "stderr",
     "output_type": "stream",
     "text": [
      "Running Parameter Search:  61%|██████    | 487/800 [3:55:50<2:26:44, 28.13s/it, Best RMSE=0.603]"
     ]
    },
    {
     "name": "stdout",
     "output_type": "stream",
     "text": [
      "LGBM Average RMSE over 50 folds: 0.609541\n"
     ]
    },
    {
     "name": "stderr",
     "output_type": "stream",
     "text": [
      "Running Parameter Search:  61%|██████    | 488/800 [3:56:46<3:09:52, 36.52s/it, Best RMSE=0.603]"
     ]
    },
    {
     "name": "stdout",
     "output_type": "stream",
     "text": [
      "LGBM Average RMSE over 50 folds: 0.621255\n"
     ]
    },
    {
     "name": "stderr",
     "output_type": "stream",
     "text": [
      "Running Parameter Search:  61%|██████    | 489/800 [3:57:21<3:05:57, 35.88s/it, Best RMSE=0.603]"
     ]
    },
    {
     "name": "stdout",
     "output_type": "stream",
     "text": [
      "LGBM Average RMSE over 50 folds: 0.644813\n"
     ]
    },
    {
     "name": "stderr",
     "output_type": "stream",
     "text": [
      "Running Parameter Search:  61%|██████▏   | 490/800 [3:57:49<2:52:40, 33.42s/it, Best RMSE=0.603]"
     ]
    },
    {
     "name": "stdout",
     "output_type": "stream",
     "text": [
      "LGBM Average RMSE over 50 folds: 0.606147\n"
     ]
    },
    {
     "name": "stderr",
     "output_type": "stream",
     "text": [
      "Running Parameter Search:  61%|██████▏   | 491/800 [3:58:03<2:23:27, 27.86s/it, Best RMSE=0.603]"
     ]
    },
    {
     "name": "stdout",
     "output_type": "stream",
     "text": [
      "LGBM Average RMSE over 50 folds: 0.606614\n"
     ]
    },
    {
     "name": "stderr",
     "output_type": "stream",
     "text": [
      "Running Parameter Search:  62%|██████▏   | 492/800 [3:58:23<2:09:43, 25.27s/it, Best RMSE=0.603]"
     ]
    },
    {
     "name": "stdout",
     "output_type": "stream",
     "text": [
      "LGBM Average RMSE over 50 folds: 0.609525\n"
     ]
    },
    {
     "name": "stderr",
     "output_type": "stream",
     "text": [
      "Running Parameter Search:  62%|██████▏   | 493/800 [3:58:47<2:08:15, 25.07s/it, Best RMSE=0.603]"
     ]
    },
    {
     "name": "stdout",
     "output_type": "stream",
     "text": [
      "LGBM Average RMSE over 50 folds: 0.612788\n"
     ]
    },
    {
     "name": "stderr",
     "output_type": "stream",
     "text": [
      "Running Parameter Search:  62%|██████▏   | 494/800 [3:59:03<1:53:18, 22.22s/it, Best RMSE=0.603]"
     ]
    },
    {
     "name": "stdout",
     "output_type": "stream",
     "text": [
      "LGBM Average RMSE over 50 folds: 0.628849\n"
     ]
    },
    {
     "name": "stderr",
     "output_type": "stream",
     "text": [
      "Running Parameter Search:  62%|██████▏   | 495/800 [4:00:06<2:56:04, 34.64s/it, Best RMSE=0.603]"
     ]
    },
    {
     "name": "stdout",
     "output_type": "stream",
     "text": [
      "LGBM Average RMSE over 50 folds: 0.626353\n"
     ]
    },
    {
     "name": "stderr",
     "output_type": "stream",
     "text": [
      "Running Parameter Search:  62%|██████▏   | 496/800 [4:00:50<3:09:50, 37.47s/it, Best RMSE=0.603]"
     ]
    },
    {
     "name": "stdout",
     "output_type": "stream",
     "text": [
      "LGBM Average RMSE over 50 folds: 0.617803\n"
     ]
    },
    {
     "name": "stderr",
     "output_type": "stream",
     "text": [
      "Running Parameter Search:  62%|██████▏   | 497/800 [4:01:09<2:41:09, 31.91s/it, Best RMSE=0.603]"
     ]
    },
    {
     "name": "stdout",
     "output_type": "stream",
     "text": [
      "LGBM Average RMSE over 50 folds: 0.608599\n"
     ]
    },
    {
     "name": "stderr",
     "output_type": "stream",
     "text": [
      "Running Parameter Search:  62%|██████▏   | 498/800 [4:02:23<3:43:16, 44.36s/it, Best RMSE=0.603]"
     ]
    },
    {
     "name": "stdout",
     "output_type": "stream",
     "text": [
      "LGBM Average RMSE over 50 folds: 0.616294\n"
     ]
    },
    {
     "name": "stderr",
     "output_type": "stream",
     "text": [
      "Running Parameter Search:  62%|██████▏   | 499/800 [4:03:04<3:37:58, 43.45s/it, Best RMSE=0.603]"
     ]
    },
    {
     "name": "stdout",
     "output_type": "stream",
     "text": [
      "LGBM Average RMSE over 50 folds: 0.610978\n"
     ]
    },
    {
     "name": "stderr",
     "output_type": "stream",
     "text": [
      "Running Parameter Search:  62%|██████▎   | 500/800 [4:03:37<3:21:44, 40.35s/it, Best RMSE=0.603]"
     ]
    },
    {
     "name": "stdout",
     "output_type": "stream",
     "text": [
      "LGBM Average RMSE over 50 folds: 0.787057\n"
     ]
    },
    {
     "name": "stderr",
     "output_type": "stream",
     "text": [
      "Running Parameter Search:  63%|██████▎   | 501/800 [4:03:55<2:47:47, 33.67s/it, Best RMSE=0.603]"
     ]
    },
    {
     "name": "stdout",
     "output_type": "stream",
     "text": [
      "LGBM Average RMSE over 50 folds: 1.684876\n"
     ]
    },
    {
     "name": "stderr",
     "output_type": "stream",
     "text": [
      "Running Parameter Search:  63%|██████▎   | 502/800 [4:04:27<2:44:17, 33.08s/it, Best RMSE=0.603]"
     ]
    },
    {
     "name": "stdout",
     "output_type": "stream",
     "text": [
      "LGBM Average RMSE over 50 folds: 0.613628\n"
     ]
    },
    {
     "name": "stderr",
     "output_type": "stream",
     "text": [
      "Running Parameter Search:  63%|██████▎   | 503/800 [4:04:40<2:13:39, 27.00s/it, Best RMSE=0.603]"
     ]
    },
    {
     "name": "stdout",
     "output_type": "stream",
     "text": [
      "LGBM Average RMSE over 50 folds: 0.852894\n"
     ]
    },
    {
     "name": "stderr",
     "output_type": "stream",
     "text": [
      "Running Parameter Search:  63%|██████▎   | 504/800 [4:05:01<2:03:48, 25.10s/it, Best RMSE=0.603]"
     ]
    },
    {
     "name": "stdout",
     "output_type": "stream",
     "text": [
      "LGBM Average RMSE over 50 folds: 0.641498\n"
     ]
    },
    {
     "name": "stderr",
     "output_type": "stream",
     "text": [
      "Running Parameter Search:  63%|██████▎   | 505/800 [4:05:44<2:30:07, 30.54s/it, Best RMSE=0.603]"
     ]
    },
    {
     "name": "stdout",
     "output_type": "stream",
     "text": [
      "LGBM Average RMSE over 50 folds: 0.619381\n"
     ]
    },
    {
     "name": "stderr",
     "output_type": "stream",
     "text": [
      "Running Parameter Search:  63%|██████▎   | 506/800 [4:06:01<2:09:40, 26.47s/it, Best RMSE=0.603]"
     ]
    },
    {
     "name": "stdout",
     "output_type": "stream",
     "text": [
      "LGBM Average RMSE over 50 folds: 0.608694\n"
     ]
    },
    {
     "name": "stderr",
     "output_type": "stream",
     "text": [
      "Running Parameter Search:  63%|██████▎   | 507/800 [4:06:43<2:33:01, 31.34s/it, Best RMSE=0.603]"
     ]
    },
    {
     "name": "stdout",
     "output_type": "stream",
     "text": [
      "LGBM Average RMSE over 50 folds: 0.611987\n"
     ]
    },
    {
     "name": "stderr",
     "output_type": "stream",
     "text": [
      "Running Parameter Search:  64%|██████▎   | 508/800 [4:07:14<2:30:49, 30.99s/it, Best RMSE=0.603]"
     ]
    },
    {
     "name": "stdout",
     "output_type": "stream",
     "text": [
      "LGBM Average RMSE over 50 folds: 0.609903\n"
     ]
    },
    {
     "name": "stderr",
     "output_type": "stream",
     "text": [
      "Running Parameter Search:  64%|██████▎   | 509/800 [4:07:36<2:17:55, 28.44s/it, Best RMSE=0.603]"
     ]
    },
    {
     "name": "stdout",
     "output_type": "stream",
     "text": [
      "LGBM Average RMSE over 50 folds: 0.764395\n"
     ]
    },
    {
     "name": "stderr",
     "output_type": "stream",
     "text": [
      "Running Parameter Search:  64%|██████▍   | 510/800 [4:08:08<2:23:05, 29.61s/it, Best RMSE=0.603]"
     ]
    },
    {
     "name": "stdout",
     "output_type": "stream",
     "text": [
      "LGBM Average RMSE over 50 folds: 0.615155\n"
     ]
    },
    {
     "name": "stderr",
     "output_type": "stream",
     "text": [
      "Running Parameter Search:  64%|██████▍   | 511/800 [4:08:50<2:39:13, 33.06s/it, Best RMSE=0.603]"
     ]
    },
    {
     "name": "stdout",
     "output_type": "stream",
     "text": [
      "LGBM Average RMSE over 50 folds: 0.613712\n"
     ]
    },
    {
     "name": "stderr",
     "output_type": "stream",
     "text": [
      "Running Parameter Search:  64%|██████▍   | 512/800 [4:09:09<2:18:43, 28.90s/it, Best RMSE=0.603]"
     ]
    },
    {
     "name": "stdout",
     "output_type": "stream",
     "text": [
      "LGBM Average RMSE over 50 folds: 0.609830\n"
     ]
    },
    {
     "name": "stderr",
     "output_type": "stream",
     "text": [
      "Running Parameter Search:  64%|██████▍   | 513/800 [4:09:42<2:23:57, 30.10s/it, Best RMSE=0.603]"
     ]
    },
    {
     "name": "stdout",
     "output_type": "stream",
     "text": [
      "LGBM Average RMSE over 50 folds: 0.609987\n"
     ]
    },
    {
     "name": "stderr",
     "output_type": "stream",
     "text": [
      "Running Parameter Search:  64%|██████▍   | 514/800 [4:10:24<2:40:45, 33.73s/it, Best RMSE=0.603]"
     ]
    },
    {
     "name": "stdout",
     "output_type": "stream",
     "text": [
      "LGBM Average RMSE over 50 folds: 0.633230\n"
     ]
    },
    {
     "name": "stderr",
     "output_type": "stream",
     "text": [
      "Running Parameter Search:  64%|██████▍   | 515/800 [4:11:46<3:49:36, 48.34s/it, Best RMSE=0.603]"
     ]
    },
    {
     "name": "stdout",
     "output_type": "stream",
     "text": [
      "LGBM Average RMSE over 50 folds: 0.632514\n"
     ]
    },
    {
     "name": "stderr",
     "output_type": "stream",
     "text": [
      "Running Parameter Search:  64%|██████▍   | 516/800 [4:12:06<3:08:08, 39.75s/it, Best RMSE=0.603]"
     ]
    },
    {
     "name": "stdout",
     "output_type": "stream",
     "text": [
      "LGBM Average RMSE over 50 folds: 0.730206\n"
     ]
    },
    {
     "name": "stderr",
     "output_type": "stream",
     "text": [
      "Running Parameter Search:  65%|██████▍   | 517/800 [4:12:25<2:38:01, 33.50s/it, Best RMSE=0.603]"
     ]
    },
    {
     "name": "stdout",
     "output_type": "stream",
     "text": [
      "LGBM Average RMSE over 50 folds: 0.614759\n"
     ]
    },
    {
     "name": "stderr",
     "output_type": "stream",
     "text": [
      "Running Parameter Search:  65%|██████▍   | 518/800 [4:12:44<2:17:06, 29.17s/it, Best RMSE=0.603]"
     ]
    },
    {
     "name": "stdout",
     "output_type": "stream",
     "text": [
      "LGBM Average RMSE over 50 folds: 0.609100\n"
     ]
    },
    {
     "name": "stderr",
     "output_type": "stream",
     "text": [
      "Running Parameter Search:  65%|██████▍   | 519/800 [4:13:41<2:55:30, 37.47s/it, Best RMSE=0.603]"
     ]
    },
    {
     "name": "stdout",
     "output_type": "stream",
     "text": [
      "LGBM Average RMSE over 50 folds: 0.622255\n"
     ]
    },
    {
     "name": "stderr",
     "output_type": "stream",
     "text": [
      "Running Parameter Search:  65%|██████▌   | 520/800 [4:14:06<2:37:24, 33.73s/it, Best RMSE=0.603]"
     ]
    },
    {
     "name": "stdout",
     "output_type": "stream",
     "text": [
      "LGBM Average RMSE over 50 folds: 0.634908\n"
     ]
    },
    {
     "name": "stderr",
     "output_type": "stream",
     "text": [
      "Running Parameter Search:  65%|██████▌   | 521/800 [4:14:28<2:20:47, 30.28s/it, Best RMSE=0.603]"
     ]
    },
    {
     "name": "stdout",
     "output_type": "stream",
     "text": [
      "LGBM Average RMSE over 50 folds: 0.903493\n"
     ]
    },
    {
     "name": "stderr",
     "output_type": "stream",
     "text": [
      "Running Parameter Search:  65%|██████▌   | 522/800 [4:15:11<2:37:30, 33.99s/it, Best RMSE=0.603]"
     ]
    },
    {
     "name": "stdout",
     "output_type": "stream",
     "text": [
      "LGBM Average RMSE over 50 folds: 0.612961\n"
     ]
    },
    {
     "name": "stderr",
     "output_type": "stream",
     "text": [
      "Running Parameter Search:  65%|██████▌   | 523/800 [4:15:57<2:53:30, 37.58s/it, Best RMSE=0.603]"
     ]
    },
    {
     "name": "stdout",
     "output_type": "stream",
     "text": [
      "LGBM Average RMSE over 50 folds: 0.612041\n"
     ]
    },
    {
     "name": "stderr",
     "output_type": "stream",
     "text": [
      "Running Parameter Search:  66%|██████▌   | 524/800 [4:16:33<2:50:52, 37.15s/it, Best RMSE=0.603]"
     ]
    },
    {
     "name": "stdout",
     "output_type": "stream",
     "text": [
      "LGBM Average RMSE over 50 folds: 0.808056\n"
     ]
    },
    {
     "name": "stderr",
     "output_type": "stream",
     "text": [
      "Running Parameter Search:  66%|██████▌   | 525/800 [4:16:48<2:20:42, 30.70s/it, Best RMSE=0.603]"
     ]
    },
    {
     "name": "stdout",
     "output_type": "stream",
     "text": [
      "LGBM Average RMSE over 50 folds: 0.997015\n"
     ]
    },
    {
     "name": "stderr",
     "output_type": "stream",
     "text": [
      "Running Parameter Search:  66%|██████▌   | 526/800 [4:17:52<3:04:46, 40.46s/it, Best RMSE=0.603]"
     ]
    },
    {
     "name": "stdout",
     "output_type": "stream",
     "text": [
      "LGBM Average RMSE over 50 folds: 0.623230\n"
     ]
    },
    {
     "name": "stderr",
     "output_type": "stream",
     "text": [
      "Running Parameter Search:  66%|██████▌   | 527/800 [4:18:08<2:31:30, 33.30s/it, Best RMSE=0.603]"
     ]
    },
    {
     "name": "stdout",
     "output_type": "stream",
     "text": [
      "LGBM Average RMSE over 50 folds: 0.607374\n"
     ]
    },
    {
     "name": "stderr",
     "output_type": "stream",
     "text": [
      "Running Parameter Search:  66%|██████▌   | 528/800 [4:18:33<2:19:15, 30.72s/it, Best RMSE=0.603]"
     ]
    },
    {
     "name": "stdout",
     "output_type": "stream",
     "text": [
      "LGBM Average RMSE over 50 folds: 0.607404\n"
     ]
    },
    {
     "name": "stderr",
     "output_type": "stream",
     "text": [
      "Running Parameter Search:  66%|██████▌   | 529/800 [4:19:11<2:28:06, 32.79s/it, Best RMSE=0.603]"
     ]
    },
    {
     "name": "stdout",
     "output_type": "stream",
     "text": [
      "LGBM Average RMSE over 50 folds: 0.608088\n"
     ]
    },
    {
     "name": "stderr",
     "output_type": "stream",
     "text": [
      "Running Parameter Search:  66%|██████▋   | 530/800 [4:19:30<2:09:15, 28.73s/it, Best RMSE=0.603]"
     ]
    },
    {
     "name": "stdout",
     "output_type": "stream",
     "text": [
      "LGBM Average RMSE over 50 folds: 0.674317\n"
     ]
    },
    {
     "name": "stderr",
     "output_type": "stream",
     "text": [
      "Running Parameter Search:  66%|██████▋   | 531/800 [4:19:57<2:06:49, 28.29s/it, Best RMSE=0.603]"
     ]
    },
    {
     "name": "stdout",
     "output_type": "stream",
     "text": [
      "LGBM Average RMSE over 50 folds: 0.635954\n"
     ]
    },
    {
     "name": "stderr",
     "output_type": "stream",
     "text": [
      "Running Parameter Search:  66%|██████▋   | 532/800 [4:20:31<2:14:00, 30.00s/it, Best RMSE=0.603]"
     ]
    },
    {
     "name": "stdout",
     "output_type": "stream",
     "text": [
      "LGBM Average RMSE over 50 folds: 0.662964\n"
     ]
    },
    {
     "name": "stderr",
     "output_type": "stream",
     "text": [
      "Running Parameter Search:  67%|██████▋   | 533/800 [4:21:01<2:14:00, 30.11s/it, Best RMSE=0.603]"
     ]
    },
    {
     "name": "stdout",
     "output_type": "stream",
     "text": [
      "LGBM Average RMSE over 50 folds: 0.684414\n"
     ]
    },
    {
     "name": "stderr",
     "output_type": "stream",
     "text": [
      "Running Parameter Search:  67%|██████▋   | 534/800 [4:21:17<1:54:16, 25.78s/it, Best RMSE=0.603]"
     ]
    },
    {
     "name": "stdout",
     "output_type": "stream",
     "text": [
      "LGBM Average RMSE over 50 folds: 0.745238\n"
     ]
    },
    {
     "name": "stderr",
     "output_type": "stream",
     "text": [
      "Running Parameter Search:  67%|██████▋   | 535/800 [4:21:33<1:40:42, 22.80s/it, Best RMSE=0.603]"
     ]
    },
    {
     "name": "stdout",
     "output_type": "stream",
     "text": [
      "LGBM Average RMSE over 50 folds: 0.631474\n"
     ]
    },
    {
     "name": "stderr",
     "output_type": "stream",
     "text": [
      "Running Parameter Search:  67%|██████▋   | 536/800 [4:21:46<1:27:46, 19.95s/it, Best RMSE=0.603]"
     ]
    },
    {
     "name": "stdout",
     "output_type": "stream",
     "text": [
      "LGBM Average RMSE over 50 folds: 0.606345\n"
     ]
    },
    {
     "name": "stderr",
     "output_type": "stream",
     "text": [
      "Running Parameter Search:  67%|██████▋   | 537/800 [4:22:15<1:39:05, 22.60s/it, Best RMSE=0.603]"
     ]
    },
    {
     "name": "stdout",
     "output_type": "stream",
     "text": [
      "LGBM Average RMSE over 50 folds: 0.614290\n"
     ]
    },
    {
     "name": "stderr",
     "output_type": "stream",
     "text": [
      "Running Parameter Search:  67%|██████▋   | 538/800 [4:22:31<1:29:42, 20.54s/it, Best RMSE=0.603]"
     ]
    },
    {
     "name": "stdout",
     "output_type": "stream",
     "text": [
      "LGBM Average RMSE over 50 folds: 0.627039\n"
     ]
    },
    {
     "name": "stderr",
     "output_type": "stream",
     "text": [
      "Running Parameter Search:  67%|██████▋   | 539/800 [4:22:50<1:28:08, 20.26s/it, Best RMSE=0.603]"
     ]
    },
    {
     "name": "stdout",
     "output_type": "stream",
     "text": [
      "LGBM Average RMSE over 50 folds: 0.630262\n"
     ]
    },
    {
     "name": "stderr",
     "output_type": "stream",
     "text": [
      "Running Parameter Search:  68%|██████▊   | 540/800 [4:24:34<3:15:48, 45.19s/it, Best RMSE=0.603]"
     ]
    },
    {
     "name": "stdout",
     "output_type": "stream",
     "text": [
      "LGBM Average RMSE over 50 folds: 0.648149\n"
     ]
    },
    {
     "name": "stderr",
     "output_type": "stream",
     "text": [
      "Running Parameter Search:  68%|██████▊   | 541/800 [4:25:30<3:29:17, 48.48s/it, Best RMSE=0.603]"
     ]
    },
    {
     "name": "stdout",
     "output_type": "stream",
     "text": [
      "LGBM Average RMSE over 50 folds: 0.658250\n"
     ]
    },
    {
     "name": "stderr",
     "output_type": "stream",
     "text": [
      "Running Parameter Search:  68%|██████▊   | 542/800 [4:26:02<3:07:48, 43.68s/it, Best RMSE=0.603]"
     ]
    },
    {
     "name": "stdout",
     "output_type": "stream",
     "text": [
      "LGBM Average RMSE over 50 folds: 0.610625\n"
     ]
    },
    {
     "name": "stderr",
     "output_type": "stream",
     "text": [
      "Running Parameter Search:  68%|██████▊   | 543/800 [4:26:18<2:31:34, 35.39s/it, Best RMSE=0.603]"
     ]
    },
    {
     "name": "stdout",
     "output_type": "stream",
     "text": [
      "LGBM Average RMSE over 50 folds: 0.605473\n"
     ]
    },
    {
     "name": "stderr",
     "output_type": "stream",
     "text": [
      "Running Parameter Search:  68%|██████▊   | 544/800 [4:26:35<2:07:23, 29.86s/it, Best RMSE=0.603]"
     ]
    },
    {
     "name": "stdout",
     "output_type": "stream",
     "text": [
      "LGBM Average RMSE over 50 folds: 0.624575\n"
     ]
    },
    {
     "name": "stderr",
     "output_type": "stream",
     "text": [
      "Running Parameter Search:  68%|██████▊   | 545/800 [4:26:50<1:47:35, 25.31s/it, Best RMSE=0.603]"
     ]
    },
    {
     "name": "stdout",
     "output_type": "stream",
     "text": [
      "LGBM Average RMSE over 50 folds: 0.608147\n"
     ]
    },
    {
     "name": "stderr",
     "output_type": "stream",
     "text": [
      "Running Parameter Search:  68%|██████▊   | 546/800 [4:27:20<1:53:30, 26.81s/it, Best RMSE=0.603]"
     ]
    },
    {
     "name": "stdout",
     "output_type": "stream",
     "text": [
      "LGBM Average RMSE over 50 folds: 0.613278\n"
     ]
    },
    {
     "name": "stderr",
     "output_type": "stream",
     "text": [
      "Running Parameter Search:  68%|██████▊   | 547/800 [4:27:52<1:59:40, 28.38s/it, Best RMSE=0.603]"
     ]
    },
    {
     "name": "stdout",
     "output_type": "stream",
     "text": [
      "LGBM Average RMSE over 50 folds: 0.697288\n"
     ]
    },
    {
     "name": "stderr",
     "output_type": "stream",
     "text": [
      "Running Parameter Search:  68%|██████▊   | 548/800 [4:28:10<1:44:58, 25.00s/it, Best RMSE=0.603]"
     ]
    },
    {
     "name": "stdout",
     "output_type": "stream",
     "text": [
      "LGBM Average RMSE over 50 folds: 0.609762\n"
     ]
    },
    {
     "name": "stderr",
     "output_type": "stream",
     "text": [
      "Running Parameter Search:  69%|██████▊   | 549/800 [4:28:30<1:39:25, 23.77s/it, Best RMSE=0.603]"
     ]
    },
    {
     "name": "stdout",
     "output_type": "stream",
     "text": [
      "LGBM Average RMSE over 50 folds: 0.912509\n"
     ]
    },
    {
     "name": "stderr",
     "output_type": "stream",
     "text": [
      "Running Parameter Search:  69%|██████▉   | 550/800 [4:28:45<1:27:56, 21.11s/it, Best RMSE=0.603]"
     ]
    },
    {
     "name": "stdout",
     "output_type": "stream",
     "text": [
      "LGBM Average RMSE over 50 folds: 0.612790\n"
     ]
    },
    {
     "name": "stderr",
     "output_type": "stream",
     "text": [
      "Running Parameter Search:  69%|██████▉   | 551/800 [4:29:06<1:26:33, 20.86s/it, Best RMSE=0.603]"
     ]
    },
    {
     "name": "stdout",
     "output_type": "stream",
     "text": [
      "LGBM Average RMSE over 50 folds: 0.611757\n"
     ]
    },
    {
     "name": "stderr",
     "output_type": "stream",
     "text": [
      "Running Parameter Search:  69%|██████▉   | 552/800 [4:29:36<1:38:35, 23.85s/it, Best RMSE=0.603]"
     ]
    },
    {
     "name": "stdout",
     "output_type": "stream",
     "text": [
      "LGBM Average RMSE over 50 folds: 0.605738\n"
     ]
    },
    {
     "name": "stderr",
     "output_type": "stream",
     "text": [
      "Running Parameter Search:  69%|██████▉   | 553/800 [4:29:56<1:33:28, 22.71s/it, Best RMSE=0.603]"
     ]
    },
    {
     "name": "stdout",
     "output_type": "stream",
     "text": [
      "LGBM Average RMSE over 50 folds: 0.996956\n"
     ]
    },
    {
     "name": "stderr",
     "output_type": "stream",
     "text": [
      "Running Parameter Search:  69%|██████▉   | 554/800 [4:30:13<1:25:20, 20.82s/it, Best RMSE=0.603]"
     ]
    },
    {
     "name": "stdout",
     "output_type": "stream",
     "text": [
      "LGBM Average RMSE over 50 folds: 0.611357\n"
     ]
    },
    {
     "name": "stderr",
     "output_type": "stream",
     "text": [
      "Running Parameter Search:  69%|██████▉   | 555/800 [4:30:43<1:35:54, 23.49s/it, Best RMSE=0.603]"
     ]
    },
    {
     "name": "stdout",
     "output_type": "stream",
     "text": [
      "LGBM Average RMSE over 50 folds: 0.609163\n"
     ]
    },
    {
     "name": "stderr",
     "output_type": "stream",
     "text": [
      "Running Parameter Search:  70%|██████▉   | 556/800 [4:31:27<2:01:24, 29.86s/it, Best RMSE=0.603]"
     ]
    },
    {
     "name": "stdout",
     "output_type": "stream",
     "text": [
      "LGBM Average RMSE over 50 folds: 0.612574\n"
     ]
    },
    {
     "name": "stderr",
     "output_type": "stream",
     "text": [
      "Running Parameter Search:  70%|██████▉   | 557/800 [4:31:51<1:52:48, 27.85s/it, Best RMSE=0.603]"
     ]
    },
    {
     "name": "stdout",
     "output_type": "stream",
     "text": [
      "LGBM Average RMSE over 50 folds: 0.608949\n"
     ]
    },
    {
     "name": "stderr",
     "output_type": "stream",
     "text": [
      "Running Parameter Search:  70%|██████▉   | 558/800 [4:32:41<2:19:42, 34.64s/it, Best RMSE=0.603]"
     ]
    },
    {
     "name": "stdout",
     "output_type": "stream",
     "text": [
      "LGBM Average RMSE over 50 folds: 0.620332\n"
     ]
    },
    {
     "name": "stderr",
     "output_type": "stream",
     "text": [
      "Running Parameter Search:  70%|██████▉   | 559/800 [4:33:52<3:03:22, 45.65s/it, Best RMSE=0.603]"
     ]
    },
    {
     "name": "stdout",
     "output_type": "stream",
     "text": [
      "LGBM Average RMSE over 50 folds: 0.625029\n"
     ]
    },
    {
     "name": "stderr",
     "output_type": "stream",
     "text": [
      "Running Parameter Search:  70%|███████   | 560/800 [4:34:07<2:24:59, 36.25s/it, Best RMSE=0.603]"
     ]
    },
    {
     "name": "stdout",
     "output_type": "stream",
     "text": [
      "LGBM Average RMSE over 50 folds: 1.140780\n"
     ]
    },
    {
     "name": "stderr",
     "output_type": "stream",
     "text": [
      "Running Parameter Search:  70%|███████   | 561/800 [4:34:24<2:01:19, 30.46s/it, Best RMSE=0.603]"
     ]
    },
    {
     "name": "stdout",
     "output_type": "stream",
     "text": [
      "LGBM Average RMSE over 50 folds: 0.625007\n"
     ]
    },
    {
     "name": "stderr",
     "output_type": "stream",
     "text": [
      "Running Parameter Search:  70%|███████   | 562/800 [4:35:02<2:10:25, 32.88s/it, Best RMSE=0.603]"
     ]
    },
    {
     "name": "stdout",
     "output_type": "stream",
     "text": [
      "LGBM Average RMSE over 50 folds: 0.613693\n"
     ]
    },
    {
     "name": "stderr",
     "output_type": "stream",
     "text": [
      "Running Parameter Search:  70%|███████   | 563/800 [4:35:24<1:57:11, 29.67s/it, Best RMSE=0.603]"
     ]
    },
    {
     "name": "stdout",
     "output_type": "stream",
     "text": [
      "LGBM Average RMSE over 50 folds: 0.808793\n"
     ]
    },
    {
     "name": "stderr",
     "output_type": "stream",
     "text": [
      "Running Parameter Search:  70%|███████   | 564/800 [4:35:44<1:45:31, 26.83s/it, Best RMSE=0.603]"
     ]
    },
    {
     "name": "stdout",
     "output_type": "stream",
     "text": [
      "LGBM Average RMSE over 50 folds: 0.610497\n"
     ]
    },
    {
     "name": "stderr",
     "output_type": "stream",
     "text": [
      "Running Parameter Search:  71%|███████   | 565/800 [4:36:07<1:39:48, 25.48s/it, Best RMSE=0.603]"
     ]
    },
    {
     "name": "stdout",
     "output_type": "stream",
     "text": [
      "LGBM Average RMSE over 50 folds: 0.614388\n"
     ]
    },
    {
     "name": "stderr",
     "output_type": "stream",
     "text": [
      "Running Parameter Search:  71%|███████   | 566/800 [4:36:32<1:38:34, 25.28s/it, Best RMSE=0.603]"
     ]
    },
    {
     "name": "stdout",
     "output_type": "stream",
     "text": [
      "LGBM Average RMSE over 50 folds: 0.628975\n"
     ]
    },
    {
     "name": "stderr",
     "output_type": "stream",
     "text": [
      "Running Parameter Search:  71%|███████   | 567/800 [4:36:51<1:31:51, 23.65s/it, Best RMSE=0.603]"
     ]
    },
    {
     "name": "stdout",
     "output_type": "stream",
     "text": [
      "LGBM Average RMSE over 50 folds: 0.609882\n"
     ]
    },
    {
     "name": "stderr",
     "output_type": "stream",
     "text": [
      "Running Parameter Search:  71%|███████   | 568/800 [4:37:19<1:35:53, 24.80s/it, Best RMSE=0.603]"
     ]
    },
    {
     "name": "stdout",
     "output_type": "stream",
     "text": [
      "LGBM Average RMSE over 50 folds: 0.689465\n"
     ]
    },
    {
     "name": "stderr",
     "output_type": "stream",
     "text": [
      "Running Parameter Search:  71%|███████   | 569/800 [4:37:33<1:23:20, 21.65s/it, Best RMSE=0.603]"
     ]
    },
    {
     "name": "stdout",
     "output_type": "stream",
     "text": [
      "LGBM Average RMSE over 50 folds: 0.630600\n"
     ]
    },
    {
     "name": "stderr",
     "output_type": "stream",
     "text": [
      "Running Parameter Search:  71%|███████▏  | 570/800 [4:38:06<1:36:09, 25.08s/it, Best RMSE=0.603]"
     ]
    },
    {
     "name": "stdout",
     "output_type": "stream",
     "text": [
      "LGBM Average RMSE over 50 folds: 0.609403\n"
     ]
    },
    {
     "name": "stderr",
     "output_type": "stream",
     "text": [
      "Running Parameter Search:  71%|███████▏  | 571/800 [4:38:27<1:31:03, 23.86s/it, Best RMSE=0.603]"
     ]
    },
    {
     "name": "stdout",
     "output_type": "stream",
     "text": [
      "LGBM Average RMSE over 50 folds: 0.613665\n"
     ]
    },
    {
     "name": "stderr",
     "output_type": "stream",
     "text": [
      "Running Parameter Search:  72%|███████▏  | 572/800 [4:39:06<1:47:19, 28.24s/it, Best RMSE=0.603]"
     ]
    },
    {
     "name": "stdout",
     "output_type": "stream",
     "text": [
      "LGBM Average RMSE over 50 folds: 0.616559\n"
     ]
    },
    {
     "name": "stderr",
     "output_type": "stream",
     "text": [
      "Running Parameter Search:  72%|███████▏  | 573/800 [4:39:35<1:48:05, 28.57s/it, Best RMSE=0.603]"
     ]
    },
    {
     "name": "stdout",
     "output_type": "stream",
     "text": [
      "LGBM Average RMSE over 50 folds: 0.606550\n"
     ]
    },
    {
     "name": "stderr",
     "output_type": "stream",
     "text": [
      "Running Parameter Search:  72%|███████▏  | 574/800 [4:39:56<1:38:23, 26.12s/it, Best RMSE=0.603]"
     ]
    },
    {
     "name": "stdout",
     "output_type": "stream",
     "text": [
      "LGBM Average RMSE over 50 folds: 0.643598\n"
     ]
    },
    {
     "name": "stderr",
     "output_type": "stream",
     "text": [
      "Running Parameter Search:  72%|███████▏  | 575/800 [4:40:11<1:25:54, 22.91s/it, Best RMSE=0.603]"
     ]
    },
    {
     "name": "stdout",
     "output_type": "stream",
     "text": [
      "LGBM Average RMSE over 50 folds: 0.635425\n"
     ]
    },
    {
     "name": "stderr",
     "output_type": "stream",
     "text": [
      "Running Parameter Search:  72%|███████▏  | 576/800 [4:40:42<1:34:14, 25.24s/it, Best RMSE=0.603]"
     ]
    },
    {
     "name": "stdout",
     "output_type": "stream",
     "text": [
      "LGBM Average RMSE over 50 folds: 1.348486\n"
     ]
    },
    {
     "name": "stderr",
     "output_type": "stream",
     "text": [
      "Running Parameter Search:  72%|███████▏  | 577/800 [4:41:10<1:37:42, 26.29s/it, Best RMSE=0.603]"
     ]
    },
    {
     "name": "stdout",
     "output_type": "stream",
     "text": [
      "LGBM Average RMSE over 50 folds: 0.653434\n"
     ]
    },
    {
     "name": "stderr",
     "output_type": "stream",
     "text": [
      "Running Parameter Search:  72%|███████▏  | 578/800 [4:41:23<1:21:52, 22.13s/it, Best RMSE=0.603]"
     ]
    },
    {
     "name": "stdout",
     "output_type": "stream",
     "text": [
      "LGBM Average RMSE over 50 folds: 0.606418\n"
     ]
    },
    {
     "name": "stderr",
     "output_type": "stream",
     "text": [
      "Running Parameter Search:  72%|███████▏  | 579/800 [4:41:41<1:17:17, 20.99s/it, Best RMSE=0.603]"
     ]
    },
    {
     "name": "stdout",
     "output_type": "stream",
     "text": [
      "LGBM Average RMSE over 50 folds: 0.606992\n"
     ]
    },
    {
     "name": "stderr",
     "output_type": "stream",
     "text": [
      "Running Parameter Search:  72%|███████▎  | 580/800 [4:41:55<1:09:25, 18.94s/it, Best RMSE=0.603]"
     ]
    },
    {
     "name": "stdout",
     "output_type": "stream",
     "text": [
      "LGBM Average RMSE over 50 folds: 0.609437\n"
     ]
    },
    {
     "name": "stderr",
     "output_type": "stream",
     "text": [
      "Running Parameter Search:  73%|███████▎  | 581/800 [4:42:27<1:22:32, 22.62s/it, Best RMSE=0.603]"
     ]
    },
    {
     "name": "stdout",
     "output_type": "stream",
     "text": [
      "LGBM Average RMSE over 50 folds: 0.607244\n"
     ]
    },
    {
     "name": "stderr",
     "output_type": "stream",
     "text": [
      "Running Parameter Search:  73%|███████▎  | 582/800 [4:42:53<1:26:23, 23.78s/it, Best RMSE=0.603]"
     ]
    },
    {
     "name": "stdout",
     "output_type": "stream",
     "text": [
      "LGBM Average RMSE over 50 folds: 0.631903\n"
     ]
    },
    {
     "name": "stderr",
     "output_type": "stream",
     "text": [
      "Running Parameter Search:  73%|███████▎  | 583/800 [4:43:52<2:03:45, 34.22s/it, Best RMSE=0.603]"
     ]
    },
    {
     "name": "stdout",
     "output_type": "stream",
     "text": [
      "LGBM Average RMSE over 50 folds: 0.617841\n"
     ]
    },
    {
     "name": "stderr",
     "output_type": "stream",
     "text": [
      "Running Parameter Search:  73%|███████▎  | 584/800 [4:44:08<1:43:38, 28.79s/it, Best RMSE=0.603]"
     ]
    },
    {
     "name": "stdout",
     "output_type": "stream",
     "text": [
      "LGBM Average RMSE over 50 folds: 0.804128\n"
     ]
    },
    {
     "name": "stderr",
     "output_type": "stream",
     "text": [
      "Running Parameter Search:  73%|███████▎  | 585/800 [4:44:23<1:29:06, 24.87s/it, Best RMSE=0.603]"
     ]
    },
    {
     "name": "stdout",
     "output_type": "stream",
     "text": [
      "LGBM Average RMSE over 50 folds: 0.607791\n"
     ]
    },
    {
     "name": "stderr",
     "output_type": "stream",
     "text": [
      "Running Parameter Search:  73%|███████▎  | 586/800 [4:44:45<1:25:12, 23.89s/it, Best RMSE=0.603]"
     ]
    },
    {
     "name": "stdout",
     "output_type": "stream",
     "text": [
      "LGBM Average RMSE over 50 folds: 0.610564\n"
     ]
    },
    {
     "name": "stderr",
     "output_type": "stream",
     "text": [
      "Running Parameter Search:  73%|███████▎  | 587/800 [4:45:02<1:17:16, 21.77s/it, Best RMSE=0.603]"
     ]
    },
    {
     "name": "stdout",
     "output_type": "stream",
     "text": [
      "LGBM Average RMSE over 50 folds: 0.638416\n"
     ]
    },
    {
     "name": "stderr",
     "output_type": "stream",
     "text": [
      "Running Parameter Search:  74%|███████▎  | 588/800 [4:46:03<1:58:30, 33.54s/it, Best RMSE=0.603]"
     ]
    },
    {
     "name": "stdout",
     "output_type": "stream",
     "text": [
      "LGBM Average RMSE over 50 folds: 0.622032\n"
     ]
    },
    {
     "name": "stderr",
     "output_type": "stream",
     "text": [
      "Running Parameter Search:  74%|███████▎  | 589/800 [4:46:19<1:39:09, 28.19s/it, Best RMSE=0.603]"
     ]
    },
    {
     "name": "stdout",
     "output_type": "stream",
     "text": [
      "LGBM Average RMSE over 50 folds: 0.712454\n"
     ]
    },
    {
     "name": "stderr",
     "output_type": "stream",
     "text": [
      "Running Parameter Search:  74%|███████▍  | 590/800 [4:46:32<1:23:36, 23.89s/it, Best RMSE=0.603]"
     ]
    },
    {
     "name": "stdout",
     "output_type": "stream",
     "text": [
      "LGBM Average RMSE over 50 folds: 1.534700\n"
     ]
    },
    {
     "name": "stderr",
     "output_type": "stream",
     "text": [
      "Running Parameter Search:  74%|███████▍  | 591/800 [4:46:53<1:19:43, 22.89s/it, Best RMSE=0.603]"
     ]
    },
    {
     "name": "stdout",
     "output_type": "stream",
     "text": [
      "LGBM Average RMSE over 50 folds: 0.634387\n"
     ]
    },
    {
     "name": "stderr",
     "output_type": "stream",
     "text": [
      "Running Parameter Search:  74%|███████▍  | 592/800 [4:47:39<1:42:54, 29.69s/it, Best RMSE=0.603]"
     ]
    },
    {
     "name": "stdout",
     "output_type": "stream",
     "text": [
      "LGBM Average RMSE over 50 folds: 0.618351\n"
     ]
    },
    {
     "name": "stderr",
     "output_type": "stream",
     "text": [
      "Running Parameter Search:  74%|███████▍  | 593/800 [4:48:01<1:34:33, 27.41s/it, Best RMSE=0.603]"
     ]
    },
    {
     "name": "stdout",
     "output_type": "stream",
     "text": [
      "LGBM Average RMSE over 50 folds: 0.635252\n"
     ]
    },
    {
     "name": "stderr",
     "output_type": "stream",
     "text": [
      "Running Parameter Search:  74%|███████▍  | 594/800 [4:48:26<1:32:02, 26.81s/it, Best RMSE=0.603]"
     ]
    },
    {
     "name": "stdout",
     "output_type": "stream",
     "text": [
      "LGBM Average RMSE over 50 folds: 0.633850\n"
     ]
    },
    {
     "name": "stderr",
     "output_type": "stream",
     "text": [
      "Running Parameter Search:  74%|███████▍  | 595/800 [4:48:44<1:22:43, 24.21s/it, Best RMSE=0.603]"
     ]
    },
    {
     "name": "stdout",
     "output_type": "stream",
     "text": [
      "LGBM Average RMSE over 50 folds: 0.761885\n"
     ]
    },
    {
     "name": "stderr",
     "output_type": "stream",
     "text": [
      "Running Parameter Search:  74%|███████▍  | 596/800 [4:49:18<1:31:41, 26.97s/it, Best RMSE=0.603]"
     ]
    },
    {
     "name": "stdout",
     "output_type": "stream",
     "text": [
      "LGBM Average RMSE over 50 folds: 0.609302\n"
     ]
    },
    {
     "name": "stderr",
     "output_type": "stream",
     "text": [
      "Running Parameter Search:  75%|███████▍  | 597/800 [4:49:40<1:26:14, 25.49s/it, Best RMSE=0.603]"
     ]
    },
    {
     "name": "stdout",
     "output_type": "stream",
     "text": [
      "LGBM Average RMSE over 50 folds: 0.647776\n"
     ]
    },
    {
     "name": "stderr",
     "output_type": "stream",
     "text": [
      "Running Parameter Search:  75%|███████▍  | 598/800 [4:49:54<1:14:58, 22.27s/it, Best RMSE=0.603]"
     ]
    },
    {
     "name": "stdout",
     "output_type": "stream",
     "text": [
      "LGBM Average RMSE over 50 folds: 1.524091\n"
     ]
    },
    {
     "name": "stderr",
     "output_type": "stream",
     "text": [
      "Running Parameter Search:  75%|███████▍  | 599/800 [4:50:56<1:53:50, 33.98s/it, Best RMSE=0.603]"
     ]
    },
    {
     "name": "stdout",
     "output_type": "stream",
     "text": [
      "LGBM Average RMSE over 50 folds: 0.620929\n"
     ]
    },
    {
     "name": "stderr",
     "output_type": "stream",
     "text": [
      "Running Parameter Search:  75%|███████▌  | 600/800 [4:51:14<1:37:21, 29.21s/it, Best RMSE=0.603]"
     ]
    },
    {
     "name": "stdout",
     "output_type": "stream",
     "text": [
      "LGBM Average RMSE over 50 folds: 0.640529\n"
     ]
    },
    {
     "name": "stderr",
     "output_type": "stream",
     "text": [
      "Running Parameter Search:  75%|███████▌  | 601/800 [4:51:45<1:38:46, 29.78s/it, Best RMSE=0.603]"
     ]
    },
    {
     "name": "stdout",
     "output_type": "stream",
     "text": [
      "LGBM Average RMSE over 50 folds: 0.629013\n"
     ]
    },
    {
     "name": "stderr",
     "output_type": "stream",
     "text": [
      "Running Parameter Search:  75%|███████▌  | 602/800 [4:51:58<1:22:15, 24.93s/it, Best RMSE=0.603]"
     ]
    },
    {
     "name": "stdout",
     "output_type": "stream",
     "text": [
      "LGBM Average RMSE over 50 folds: 0.734196\n"
     ]
    },
    {
     "name": "stderr",
     "output_type": "stream",
     "text": [
      "Running Parameter Search:  75%|███████▌  | 603/800 [4:52:16<1:14:28, 22.68s/it, Best RMSE=0.603]"
     ]
    },
    {
     "name": "stdout",
     "output_type": "stream",
     "text": [
      "LGBM Average RMSE over 50 folds: 0.630768\n"
     ]
    },
    {
     "name": "stderr",
     "output_type": "stream",
     "text": [
      "Running Parameter Search:  76%|███████▌  | 604/800 [4:52:37<1:12:24, 22.17s/it, Best RMSE=0.603]"
     ]
    },
    {
     "name": "stdout",
     "output_type": "stream",
     "text": [
      "LGBM Average RMSE over 50 folds: 0.681638\n"
     ]
    },
    {
     "name": "stderr",
     "output_type": "stream",
     "text": [
      "Running Parameter Search:  76%|███████▌  | 605/800 [4:52:54<1:06:39, 20.51s/it, Best RMSE=0.603]"
     ]
    },
    {
     "name": "stdout",
     "output_type": "stream",
     "text": [
      "LGBM Average RMSE over 50 folds: 0.608924\n"
     ]
    },
    {
     "name": "stderr",
     "output_type": "stream",
     "text": [
      "Running Parameter Search:  76%|███████▌  | 606/800 [4:53:23<1:15:03, 23.22s/it, Best RMSE=0.603]"
     ]
    },
    {
     "name": "stdout",
     "output_type": "stream",
     "text": [
      "LGBM Average RMSE over 50 folds: 0.608944\n"
     ]
    },
    {
     "name": "stderr",
     "output_type": "stream",
     "text": [
      "Running Parameter Search:  76%|███████▌  | 607/800 [4:53:58<1:25:57, 26.72s/it, Best RMSE=0.603]"
     ]
    },
    {
     "name": "stdout",
     "output_type": "stream",
     "text": [
      "LGBM Average RMSE over 50 folds: 0.608857\n"
     ]
    },
    {
     "name": "stderr",
     "output_type": "stream",
     "text": [
      "Running Parameter Search:  76%|███████▌  | 608/800 [4:54:34<1:34:15, 29.45s/it, Best RMSE=0.603]"
     ]
    },
    {
     "name": "stdout",
     "output_type": "stream",
     "text": [
      "LGBM Average RMSE over 50 folds: 0.615649\n"
     ]
    },
    {
     "name": "stderr",
     "output_type": "stream",
     "text": [
      "Running Parameter Search:  76%|███████▌  | 609/800 [4:55:10<1:40:00, 31.42s/it, Best RMSE=0.603]"
     ]
    },
    {
     "name": "stdout",
     "output_type": "stream",
     "text": [
      "LGBM Average RMSE over 50 folds: 0.623525\n"
     ]
    },
    {
     "name": "stderr",
     "output_type": "stream",
     "text": [
      "Running Parameter Search:  76%|███████▋  | 610/800 [4:55:30<1:28:27, 27.94s/it, Best RMSE=0.603]"
     ]
    },
    {
     "name": "stdout",
     "output_type": "stream",
     "text": [
      "LGBM Average RMSE over 50 folds: 0.632742\n"
     ]
    },
    {
     "name": "stderr",
     "output_type": "stream",
     "text": [
      "Running Parameter Search:  76%|███████▋  | 611/800 [4:56:07<1:37:20, 30.90s/it, Best RMSE=0.603]"
     ]
    },
    {
     "name": "stdout",
     "output_type": "stream",
     "text": [
      "LGBM Average RMSE over 50 folds: 0.611865\n"
     ]
    },
    {
     "name": "stderr",
     "output_type": "stream",
     "text": [
      "Running Parameter Search:  76%|███████▋  | 612/800 [4:56:30<1:29:25, 28.54s/it, Best RMSE=0.603]"
     ]
    },
    {
     "name": "stdout",
     "output_type": "stream",
     "text": [
      "LGBM Average RMSE over 50 folds: 0.611705\n"
     ]
    },
    {
     "name": "stderr",
     "output_type": "stream",
     "text": [
      "Running Parameter Search:  77%|███████▋  | 613/800 [4:56:56<1:25:54, 27.57s/it, Best RMSE=0.603]"
     ]
    },
    {
     "name": "stdout",
     "output_type": "stream",
     "text": [
      "LGBM Average RMSE over 50 folds: 0.611852\n"
     ]
    },
    {
     "name": "stderr",
     "output_type": "stream",
     "text": [
      "Running Parameter Search:  77%|███████▋  | 614/800 [4:57:23<1:25:25, 27.56s/it, Best RMSE=0.603]"
     ]
    },
    {
     "name": "stdout",
     "output_type": "stream",
     "text": [
      "LGBM Average RMSE over 50 folds: 0.609009\n"
     ]
    },
    {
     "name": "stderr",
     "output_type": "stream",
     "text": [
      "Running Parameter Search:  77%|███████▋  | 615/800 [4:57:55<1:28:40, 28.76s/it, Best RMSE=0.603]"
     ]
    },
    {
     "name": "stdout",
     "output_type": "stream",
     "text": [
      "LGBM Average RMSE over 50 folds: 0.607984\n"
     ]
    },
    {
     "name": "stderr",
     "output_type": "stream",
     "text": [
      "Running Parameter Search:  77%|███████▋  | 616/800 [4:58:14<1:19:38, 25.97s/it, Best RMSE=0.603]"
     ]
    },
    {
     "name": "stdout",
     "output_type": "stream",
     "text": [
      "LGBM Average RMSE over 50 folds: 0.606836\n"
     ]
    },
    {
     "name": "stderr",
     "output_type": "stream",
     "text": [
      "Running Parameter Search:  77%|███████▋  | 617/800 [4:58:29<1:09:18, 22.72s/it, Best RMSE=0.603]"
     ]
    },
    {
     "name": "stdout",
     "output_type": "stream",
     "text": [
      "LGBM Average RMSE over 50 folds: 0.609174\n"
     ]
    },
    {
     "name": "stderr",
     "output_type": "stream",
     "text": [
      "Running Parameter Search:  77%|███████▋  | 618/800 [4:58:52<1:08:54, 22.72s/it, Best RMSE=0.603]"
     ]
    },
    {
     "name": "stdout",
     "output_type": "stream",
     "text": [
      "LGBM Average RMSE over 50 folds: 0.672311\n"
     ]
    },
    {
     "name": "stderr",
     "output_type": "stream",
     "text": [
      "Running Parameter Search:  77%|███████▋  | 619/800 [4:59:09<1:02:47, 20.82s/it, Best RMSE=0.603]"
     ]
    },
    {
     "name": "stdout",
     "output_type": "stream",
     "text": [
      "LGBM Average RMSE over 50 folds: 0.633063\n"
     ]
    },
    {
     "name": "stderr",
     "output_type": "stream",
     "text": [
      "Running Parameter Search:  78%|███████▊  | 620/800 [4:59:42<1:13:59, 24.66s/it, Best RMSE=0.603]"
     ]
    },
    {
     "name": "stdout",
     "output_type": "stream",
     "text": [
      "LGBM Average RMSE over 50 folds: 0.627693\n"
     ]
    },
    {
     "name": "stderr",
     "output_type": "stream",
     "text": [
      "Running Parameter Search:  78%|███████▊  | 621/800 [5:00:15<1:20:52, 27.11s/it, Best RMSE=0.603]"
     ]
    },
    {
     "name": "stdout",
     "output_type": "stream",
     "text": [
      "LGBM Average RMSE over 50 folds: 0.612674\n"
     ]
    },
    {
     "name": "stderr",
     "output_type": "stream",
     "text": [
      "Running Parameter Search:  78%|███████▊  | 622/800 [5:00:48<1:25:54, 28.96s/it, Best RMSE=0.603]"
     ]
    },
    {
     "name": "stdout",
     "output_type": "stream",
     "text": [
      "LGBM Average RMSE over 50 folds: 0.613075\n"
     ]
    },
    {
     "name": "stderr",
     "output_type": "stream",
     "text": [
      "Running Parameter Search:  78%|███████▊  | 623/800 [5:01:12<1:20:49, 27.40s/it, Best RMSE=0.603]"
     ]
    },
    {
     "name": "stdout",
     "output_type": "stream",
     "text": [
      "LGBM Average RMSE over 50 folds: 0.627308\n"
     ]
    },
    {
     "name": "stderr",
     "output_type": "stream",
     "text": [
      "Running Parameter Search:  78%|███████▊  | 624/800 [5:01:28<1:10:11, 23.93s/it, Best RMSE=0.603]"
     ]
    },
    {
     "name": "stdout",
     "output_type": "stream",
     "text": [
      "LGBM Average RMSE over 50 folds: 0.784462\n"
     ]
    },
    {
     "name": "stderr",
     "output_type": "stream",
     "text": [
      "Running Parameter Search:  78%|███████▊  | 625/800 [5:02:01<1:17:26, 26.55s/it, Best RMSE=0.603]"
     ]
    },
    {
     "name": "stdout",
     "output_type": "stream",
     "text": [
      "LGBM Average RMSE over 50 folds: 0.607124\n"
     ]
    },
    {
     "name": "stderr",
     "output_type": "stream",
     "text": [
      "Running Parameter Search:  78%|███████▊  | 626/800 [5:02:17<1:08:33, 23.64s/it, Best RMSE=0.603]"
     ]
    },
    {
     "name": "stdout",
     "output_type": "stream",
     "text": [
      "LGBM Average RMSE over 50 folds: 0.618057\n"
     ]
    },
    {
     "name": "stderr",
     "output_type": "stream",
     "text": [
      "Running Parameter Search:  78%|███████▊  | 627/800 [5:02:33<1:01:29, 21.33s/it, Best RMSE=0.603]"
     ]
    },
    {
     "name": "stdout",
     "output_type": "stream",
     "text": [
      "LGBM Average RMSE over 50 folds: 0.657765\n"
     ]
    },
    {
     "name": "stderr",
     "output_type": "stream",
     "text": [
      "Running Parameter Search:  78%|███████▊  | 628/800 [5:02:53<59:19, 20.69s/it, Best RMSE=0.603]  "
     ]
    },
    {
     "name": "stdout",
     "output_type": "stream",
     "text": [
      "LGBM Average RMSE over 50 folds: 0.683307\n"
     ]
    },
    {
     "name": "stderr",
     "output_type": "stream",
     "text": [
      "Running Parameter Search:  79%|███████▊  | 629/800 [5:03:16<1:01:32, 21.59s/it, Best RMSE=0.603]"
     ]
    },
    {
     "name": "stdout",
     "output_type": "stream",
     "text": [
      "LGBM Average RMSE over 50 folds: 0.665408\n"
     ]
    },
    {
     "name": "stderr",
     "output_type": "stream",
     "text": [
      "Running Parameter Search:  79%|███████▉  | 630/800 [5:03:52<1:12:52, 25.72s/it, Best RMSE=0.603]"
     ]
    },
    {
     "name": "stdout",
     "output_type": "stream",
     "text": [
      "LGBM Average RMSE over 50 folds: 0.615574\n"
     ]
    },
    {
     "name": "stderr",
     "output_type": "stream",
     "text": [
      "Running Parameter Search:  79%|███████▉  | 631/800 [5:04:10<1:05:58, 23.42s/it, Best RMSE=0.603]"
     ]
    },
    {
     "name": "stdout",
     "output_type": "stream",
     "text": [
      "LGBM Average RMSE over 50 folds: 0.769975\n"
     ]
    },
    {
     "name": "stderr",
     "output_type": "stream",
     "text": [
      "Running Parameter Search:  79%|███████▉  | 632/800 [5:04:29<1:02:10, 22.20s/it, Best RMSE=0.603]"
     ]
    },
    {
     "name": "stdout",
     "output_type": "stream",
     "text": [
      "LGBM Average RMSE over 50 folds: 0.714349\n"
     ]
    },
    {
     "name": "stderr",
     "output_type": "stream",
     "text": [
      "Running Parameter Search:  79%|███████▉  | 633/800 [5:04:44<55:55, 20.09s/it, Best RMSE=0.603]  "
     ]
    },
    {
     "name": "stdout",
     "output_type": "stream",
     "text": [
      "LGBM Average RMSE over 50 folds: 0.680355\n"
     ]
    },
    {
     "name": "stderr",
     "output_type": "stream",
     "text": [
      "Running Parameter Search:  79%|███████▉  | 634/800 [5:05:08<59:02, 21.34s/it, Best RMSE=0.603]"
     ]
    },
    {
     "name": "stdout",
     "output_type": "stream",
     "text": [
      "LGBM Average RMSE over 50 folds: 0.653990\n"
     ]
    },
    {
     "name": "stderr",
     "output_type": "stream",
     "text": [
      "Running Parameter Search:  79%|███████▉  | 635/800 [5:05:29<58:11, 21.16s/it, Best RMSE=0.603]"
     ]
    },
    {
     "name": "stdout",
     "output_type": "stream",
     "text": [
      "LGBM Average RMSE over 50 folds: 0.650688\n"
     ]
    },
    {
     "name": "stderr",
     "output_type": "stream",
     "text": [
      "Running Parameter Search:  80%|███████▉  | 636/800 [5:05:45<53:44, 19.66s/it, Best RMSE=0.603]"
     ]
    },
    {
     "name": "stdout",
     "output_type": "stream",
     "text": [
      "LGBM Average RMSE over 50 folds: 0.627397\n"
     ]
    },
    {
     "name": "stderr",
     "output_type": "stream",
     "text": [
      "Running Parameter Search:  80%|███████▉  | 637/800 [5:06:01<50:33, 18.61s/it, Best RMSE=0.603]"
     ]
    },
    {
     "name": "stdout",
     "output_type": "stream",
     "text": [
      "LGBM Average RMSE over 50 folds: 0.635903\n"
     ]
    },
    {
     "name": "stderr",
     "output_type": "stream",
     "text": [
      "Running Parameter Search:  80%|███████▉  | 638/800 [5:06:21<51:06, 18.93s/it, Best RMSE=0.603]"
     ]
    },
    {
     "name": "stdout",
     "output_type": "stream",
     "text": [
      "LGBM Average RMSE over 50 folds: 0.667953\n"
     ]
    },
    {
     "name": "stderr",
     "output_type": "stream",
     "text": [
      "Running Parameter Search:  80%|███████▉  | 639/800 [5:06:59<1:05:41, 24.48s/it, Best RMSE=0.603]"
     ]
    },
    {
     "name": "stdout",
     "output_type": "stream",
     "text": [
      "LGBM Average RMSE over 50 folds: 0.610804\n"
     ]
    },
    {
     "name": "stderr",
     "output_type": "stream",
     "text": [
      "Running Parameter Search:  80%|████████  | 640/800 [5:07:16<59:45, 22.41s/it, Best RMSE=0.603]  "
     ]
    },
    {
     "name": "stdout",
     "output_type": "stream",
     "text": [
      "LGBM Average RMSE over 50 folds: 0.610183\n"
     ]
    },
    {
     "name": "stderr",
     "output_type": "stream",
     "text": [
      "Running Parameter Search:  80%|████████  | 641/800 [5:07:29<51:51, 19.57s/it, Best RMSE=0.603]"
     ]
    },
    {
     "name": "stdout",
     "output_type": "stream",
     "text": [
      "LGBM Average RMSE over 50 folds: 0.606022\n"
     ]
    },
    {
     "name": "stderr",
     "output_type": "stream",
     "text": [
      "Running Parameter Search:  80%|████████  | 642/800 [5:07:50<52:21, 19.88s/it, Best RMSE=0.603]"
     ]
    },
    {
     "name": "stdout",
     "output_type": "stream",
     "text": [
      "LGBM Average RMSE over 50 folds: 0.608522\n"
     ]
    },
    {
     "name": "stderr",
     "output_type": "stream",
     "text": [
      "Running Parameter Search:  80%|████████  | 643/800 [5:08:07<50:10, 19.18s/it, Best RMSE=0.603]"
     ]
    },
    {
     "name": "stdout",
     "output_type": "stream",
     "text": [
      "LGBM Average RMSE over 50 folds: 0.610704\n"
     ]
    },
    {
     "name": "stderr",
     "output_type": "stream",
     "text": [
      "Running Parameter Search:  80%|████████  | 644/800 [5:08:21<45:58, 17.68s/it, Best RMSE=0.603]"
     ]
    },
    {
     "name": "stdout",
     "output_type": "stream",
     "text": [
      "LGBM Average RMSE over 50 folds: 0.606572\n"
     ]
    },
    {
     "name": "stderr",
     "output_type": "stream",
     "text": [
      "Running Parameter Search:  81%|████████  | 645/800 [5:09:24<1:20:22, 31.12s/it, Best RMSE=0.603]"
     ]
    },
    {
     "name": "stdout",
     "output_type": "stream",
     "text": [
      "LGBM Average RMSE over 50 folds: 0.618293\n"
     ]
    },
    {
     "name": "stderr",
     "output_type": "stream",
     "text": [
      "Running Parameter Search:  81%|████████  | 646/800 [5:09:38<1:06:44, 26.01s/it, Best RMSE=0.603]"
     ]
    },
    {
     "name": "stdout",
     "output_type": "stream",
     "text": [
      "LGBM Average RMSE over 50 folds: 0.691507\n"
     ]
    },
    {
     "name": "stderr",
     "output_type": "stream",
     "text": [
      "Running Parameter Search:  81%|████████  | 647/800 [5:10:15<1:15:01, 29.42s/it, Best RMSE=0.603]"
     ]
    },
    {
     "name": "stdout",
     "output_type": "stream",
     "text": [
      "LGBM Average RMSE over 50 folds: 0.614101\n"
     ]
    },
    {
     "name": "stderr",
     "output_type": "stream",
     "text": [
      "Running Parameter Search:  81%|████████  | 648/800 [5:11:06<1:30:49, 35.85s/it, Best RMSE=0.603]"
     ]
    },
    {
     "name": "stdout",
     "output_type": "stream",
     "text": [
      "LGBM Average RMSE over 50 folds: 0.651773\n"
     ]
    },
    {
     "name": "stderr",
     "output_type": "stream",
     "text": [
      "Running Parameter Search:  81%|████████  | 649/800 [5:11:57<1:41:09, 40.19s/it, Best RMSE=0.603]"
     ]
    },
    {
     "name": "stdout",
     "output_type": "stream",
     "text": [
      "LGBM Average RMSE over 50 folds: 0.619048\n"
     ]
    },
    {
     "name": "stderr",
     "output_type": "stream",
     "text": [
      "Running Parameter Search:  81%|████████▏ | 650/800 [5:12:18<1:26:23, 34.56s/it, Best RMSE=0.603]"
     ]
    },
    {
     "name": "stdout",
     "output_type": "stream",
     "text": [
      "LGBM Average RMSE over 50 folds: 0.655596\n"
     ]
    },
    {
     "name": "stderr",
     "output_type": "stream",
     "text": [
      "Running Parameter Search:  81%|████████▏ | 651/800 [5:12:35<1:12:39, 29.26s/it, Best RMSE=0.603]"
     ]
    },
    {
     "name": "stdout",
     "output_type": "stream",
     "text": [
      "LGBM Average RMSE over 50 folds: 0.634600\n"
     ]
    },
    {
     "name": "stderr",
     "output_type": "stream",
     "text": [
      "Running Parameter Search:  82%|████████▏ | 652/800 [5:12:55<1:05:14, 26.45s/it, Best RMSE=0.603]"
     ]
    },
    {
     "name": "stdout",
     "output_type": "stream",
     "text": [
      "LGBM Average RMSE over 50 folds: 0.606769\n"
     ]
    },
    {
     "name": "stderr",
     "output_type": "stream",
     "text": [
      "Running Parameter Search:  82%|████████▏ | 653/800 [5:13:11<57:05, 23.30s/it, Best RMSE=0.603]  "
     ]
    },
    {
     "name": "stdout",
     "output_type": "stream",
     "text": [
      "LGBM Average RMSE over 50 folds: 0.606851\n"
     ]
    },
    {
     "name": "stderr",
     "output_type": "stream",
     "text": [
      "Running Parameter Search:  82%|████████▏ | 654/800 [5:13:25<50:23, 20.71s/it, Best RMSE=0.603]"
     ]
    },
    {
     "name": "stdout",
     "output_type": "stream",
     "text": [
      "LGBM Average RMSE over 50 folds: 1.686164\n"
     ]
    },
    {
     "name": "stderr",
     "output_type": "stream",
     "text": [
      "Running Parameter Search:  82%|████████▏ | 655/800 [5:13:50<52:41, 21.81s/it, Best RMSE=0.603]"
     ]
    },
    {
     "name": "stdout",
     "output_type": "stream",
     "text": [
      "LGBM Average RMSE over 50 folds: 0.634187\n"
     ]
    },
    {
     "name": "stderr",
     "output_type": "stream",
     "text": [
      "Running Parameter Search:  82%|████████▏ | 656/800 [5:14:06<48:06, 20.05s/it, Best RMSE=0.603]"
     ]
    },
    {
     "name": "stdout",
     "output_type": "stream",
     "text": [
      "LGBM Average RMSE over 50 folds: 0.607388\n"
     ]
    },
    {
     "name": "stderr",
     "output_type": "stream",
     "text": [
      "Running Parameter Search:  82%|████████▏ | 657/800 [5:14:32<51:59, 21.82s/it, Best RMSE=0.603]"
     ]
    },
    {
     "name": "stdout",
     "output_type": "stream",
     "text": [
      "LGBM Average RMSE over 50 folds: 0.615299\n"
     ]
    },
    {
     "name": "stderr",
     "output_type": "stream",
     "text": [
      "Running Parameter Search:  82%|████████▏ | 658/800 [5:14:51<49:54, 21.09s/it, Best RMSE=0.603]"
     ]
    },
    {
     "name": "stdout",
     "output_type": "stream",
     "text": [
      "LGBM Average RMSE over 50 folds: 0.897008\n"
     ]
    },
    {
     "name": "stderr",
     "output_type": "stream",
     "text": [
      "Running Parameter Search:  82%|████████▏ | 659/800 [5:15:08<46:58, 19.99s/it, Best RMSE=0.603]"
     ]
    },
    {
     "name": "stdout",
     "output_type": "stream",
     "text": [
      "LGBM Average RMSE over 50 folds: 0.656612\n"
     ]
    },
    {
     "name": "stderr",
     "output_type": "stream",
     "text": [
      "Running Parameter Search:  82%|████████▎ | 660/800 [5:15:27<45:24, 19.46s/it, Best RMSE=0.603]"
     ]
    },
    {
     "name": "stdout",
     "output_type": "stream",
     "text": [
      "LGBM Average RMSE over 50 folds: 0.613352\n"
     ]
    },
    {
     "name": "stderr",
     "output_type": "stream",
     "text": [
      "Running Parameter Search:  83%|████████▎ | 661/800 [5:16:03<57:04, 24.64s/it, Best RMSE=0.603]"
     ]
    },
    {
     "name": "stdout",
     "output_type": "stream",
     "text": [
      "LGBM Average RMSE over 50 folds: 0.615290\n"
     ]
    },
    {
     "name": "stderr",
     "output_type": "stream",
     "text": [
      "Running Parameter Search:  83%|████████▎ | 662/800 [5:16:21<51:40, 22.47s/it, Best RMSE=0.603]"
     ]
    },
    {
     "name": "stdout",
     "output_type": "stream",
     "text": [
      "LGBM Average RMSE over 50 folds: 0.607650\n"
     ]
    },
    {
     "name": "stderr",
     "output_type": "stream",
     "text": [
      "Running Parameter Search:  83%|████████▎ | 663/800 [5:16:43<51:11, 22.42s/it, Best RMSE=0.603]"
     ]
    },
    {
     "name": "stdout",
     "output_type": "stream",
     "text": [
      "LGBM Average RMSE over 50 folds: 0.664480\n"
     ]
    },
    {
     "name": "stderr",
     "output_type": "stream",
     "text": [
      "Running Parameter Search:  83%|████████▎ | 664/800 [5:17:00<47:17, 20.86s/it, Best RMSE=0.603]"
     ]
    },
    {
     "name": "stdout",
     "output_type": "stream",
     "text": [
      "LGBM Average RMSE over 50 folds: 0.609457\n"
     ]
    },
    {
     "name": "stderr",
     "output_type": "stream",
     "text": [
      "Running Parameter Search:  83%|████████▎ | 665/800 [5:17:33<55:11, 24.53s/it, Best RMSE=0.603]"
     ]
    },
    {
     "name": "stdout",
     "output_type": "stream",
     "text": [
      "LGBM Average RMSE over 50 folds: 0.626156\n"
     ]
    },
    {
     "name": "stderr",
     "output_type": "stream",
     "text": [
      "Running Parameter Search:  83%|████████▎ | 666/800 [5:17:54<52:21, 23.44s/it, Best RMSE=0.603]"
     ]
    },
    {
     "name": "stdout",
     "output_type": "stream",
     "text": [
      "LGBM Average RMSE over 50 folds: 0.606974\n"
     ]
    },
    {
     "name": "stderr",
     "output_type": "stream",
     "text": [
      "Running Parameter Search:  83%|████████▎ | 667/800 [5:18:10<46:35, 21.02s/it, Best RMSE=0.603]"
     ]
    },
    {
     "name": "stdout",
     "output_type": "stream",
     "text": [
      "LGBM Average RMSE over 50 folds: 0.998206\n"
     ]
    },
    {
     "name": "stderr",
     "output_type": "stream",
     "text": [
      "Running Parameter Search:  84%|████████▎ | 668/800 [5:19:36<1:29:15, 40.57s/it, Best RMSE=0.603]"
     ]
    },
    {
     "name": "stdout",
     "output_type": "stream",
     "text": [
      "LGBM Average RMSE over 50 folds: 0.621368\n"
     ]
    },
    {
     "name": "stderr",
     "output_type": "stream",
     "text": [
      "Running Parameter Search:  84%|████████▎ | 669/800 [5:19:56<1:15:16, 34.48s/it, Best RMSE=0.603]"
     ]
    },
    {
     "name": "stdout",
     "output_type": "stream",
     "text": [
      "LGBM Average RMSE over 50 folds: 0.608585\n"
     ]
    },
    {
     "name": "stderr",
     "output_type": "stream",
     "text": [
      "Running Parameter Search:  84%|████████▍ | 670/800 [5:20:19<1:07:07, 30.98s/it, Best RMSE=0.603]"
     ]
    },
    {
     "name": "stdout",
     "output_type": "stream",
     "text": [
      "LGBM Average RMSE over 50 folds: 0.630072\n"
     ]
    },
    {
     "name": "stderr",
     "output_type": "stream",
     "text": [
      "Running Parameter Search:  84%|████████▍ | 671/800 [5:21:27<1:30:26, 42.07s/it, Best RMSE=0.603]"
     ]
    },
    {
     "name": "stdout",
     "output_type": "stream",
     "text": [
      "LGBM Average RMSE over 50 folds: 0.617265\n"
     ]
    },
    {
     "name": "stderr",
     "output_type": "stream",
     "text": [
      "Running Parameter Search:  84%|████████▍ | 672/800 [5:22:09<1:29:57, 42.17s/it, Best RMSE=0.603]"
     ]
    },
    {
     "name": "stdout",
     "output_type": "stream",
     "text": [
      "LGBM Average RMSE over 50 folds: 0.611479\n"
     ]
    },
    {
     "name": "stderr",
     "output_type": "stream",
     "text": [
      "Running Parameter Search:  84%|████████▍ | 673/800 [5:22:41<1:22:23, 38.92s/it, Best RMSE=0.603]"
     ]
    },
    {
     "name": "stdout",
     "output_type": "stream",
     "text": [
      "LGBM Average RMSE over 50 folds: 0.606248\n"
     ]
    },
    {
     "name": "stderr",
     "output_type": "stream",
     "text": [
      "Running Parameter Search:  84%|████████▍ | 674/800 [5:22:54<1:05:24, 31.15s/it, Best RMSE=0.603]"
     ]
    },
    {
     "name": "stdout",
     "output_type": "stream",
     "text": [
      "LGBM Average RMSE over 50 folds: 0.612686\n"
     ]
    },
    {
     "name": "stderr",
     "output_type": "stream",
     "text": [
      "Running Parameter Search:  84%|████████▍ | 675/800 [5:23:08<54:16, 26.05s/it, Best RMSE=0.603]  "
     ]
    },
    {
     "name": "stdout",
     "output_type": "stream",
     "text": [
      "LGBM Average RMSE over 50 folds: 0.608419\n"
     ]
    },
    {
     "name": "stderr",
     "output_type": "stream",
     "text": [
      "Running Parameter Search:  84%|████████▍ | 676/800 [5:23:31<52:07, 25.22s/it, Best RMSE=0.603]"
     ]
    },
    {
     "name": "stdout",
     "output_type": "stream",
     "text": [
      "LGBM Average RMSE over 50 folds: 0.639525\n"
     ]
    },
    {
     "name": "stderr",
     "output_type": "stream",
     "text": [
      "Running Parameter Search:  85%|████████▍ | 677/800 [5:23:51<48:15, 23.54s/it, Best RMSE=0.603]"
     ]
    },
    {
     "name": "stdout",
     "output_type": "stream",
     "text": [
      "LGBM Average RMSE over 50 folds: 0.610989\n"
     ]
    },
    {
     "name": "stderr",
     "output_type": "stream",
     "text": [
      "Running Parameter Search:  85%|████████▍ | 678/800 [5:24:03<41:13, 20.28s/it, Best RMSE=0.603]"
     ]
    },
    {
     "name": "stdout",
     "output_type": "stream",
     "text": [
      "LGBM Average RMSE over 50 folds: 0.605023\n"
     ]
    },
    {
     "name": "stderr",
     "output_type": "stream",
     "text": [
      "Running Parameter Search:  85%|████████▍ | 679/800 [5:24:22<39:45, 19.72s/it, Best RMSE=0.603]"
     ]
    },
    {
     "name": "stdout",
     "output_type": "stream",
     "text": [
      "LGBM Average RMSE over 50 folds: 0.608327\n"
     ]
    },
    {
     "name": "stderr",
     "output_type": "stream",
     "text": [
      "Running Parameter Search:  85%|████████▌ | 680/800 [5:24:56<47:53, 23.95s/it, Best RMSE=0.603]"
     ]
    },
    {
     "name": "stdout",
     "output_type": "stream",
     "text": [
      "LGBM Average RMSE over 50 folds: 0.609052\n"
     ]
    },
    {
     "name": "stderr",
     "output_type": "stream",
     "text": [
      "Running Parameter Search:  85%|████████▌ | 681/800 [5:25:17<46:00, 23.20s/it, Best RMSE=0.603]"
     ]
    },
    {
     "name": "stdout",
     "output_type": "stream",
     "text": [
      "LGBM Average RMSE over 50 folds: 0.612477\n"
     ]
    },
    {
     "name": "stderr",
     "output_type": "stream",
     "text": [
      "Running Parameter Search:  85%|████████▌ | 682/800 [5:25:48<50:25, 25.64s/it, Best RMSE=0.603]"
     ]
    },
    {
     "name": "stdout",
     "output_type": "stream",
     "text": [
      "LGBM Average RMSE over 50 folds: 0.612873\n"
     ]
    },
    {
     "name": "stderr",
     "output_type": "stream",
     "text": [
      "Running Parameter Search:  85%|████████▌ | 683/800 [5:26:26<57:11, 29.33s/it, Best RMSE=0.603]"
     ]
    },
    {
     "name": "stdout",
     "output_type": "stream",
     "text": [
      "LGBM Average RMSE over 50 folds: 0.616388\n"
     ]
    },
    {
     "name": "stderr",
     "output_type": "stream",
     "text": [
      "Running Parameter Search:  86%|████████▌ | 684/800 [5:26:57<57:39, 29.83s/it, Best RMSE=0.603]"
     ]
    },
    {
     "name": "stdout",
     "output_type": "stream",
     "text": [
      "LGBM Average RMSE over 50 folds: 0.619096\n"
     ]
    },
    {
     "name": "stderr",
     "output_type": "stream",
     "text": [
      "Running Parameter Search:  86%|████████▌ | 685/800 [5:27:17<51:33, 26.90s/it, Best RMSE=0.603]"
     ]
    },
    {
     "name": "stdout",
     "output_type": "stream",
     "text": [
      "LGBM Average RMSE over 50 folds: 0.815717\n"
     ]
    },
    {
     "name": "stderr",
     "output_type": "stream",
     "text": [
      "Running Parameter Search:  86%|████████▌ | 686/800 [5:28:00<1:00:08, 31.65s/it, Best RMSE=0.603]"
     ]
    },
    {
     "name": "stdout",
     "output_type": "stream",
     "text": [
      "LGBM Average RMSE over 50 folds: 0.614490\n"
     ]
    },
    {
     "name": "stderr",
     "output_type": "stream",
     "text": [
      "Running Parameter Search:  86%|████████▌ | 687/800 [5:28:25<55:55, 29.70s/it, Best RMSE=0.603]  "
     ]
    },
    {
     "name": "stdout",
     "output_type": "stream",
     "text": [
      "LGBM Average RMSE over 50 folds: 0.610872\n"
     ]
    },
    {
     "name": "stderr",
     "output_type": "stream",
     "text": [
      "Running Parameter Search:  86%|████████▌ | 688/800 [5:29:04<1:00:20, 32.32s/it, Best RMSE=0.603]"
     ]
    },
    {
     "name": "stdout",
     "output_type": "stream",
     "text": [
      "LGBM Average RMSE over 50 folds: 1.061721\n"
     ]
    },
    {
     "name": "stderr",
     "output_type": "stream",
     "text": [
      "Running Parameter Search:  86%|████████▌ | 689/800 [5:29:26<54:26, 29.43s/it, Best RMSE=0.603]  "
     ]
    },
    {
     "name": "stdout",
     "output_type": "stream",
     "text": [
      "LGBM Average RMSE over 50 folds: 0.662400\n"
     ]
    },
    {
     "name": "stderr",
     "output_type": "stream",
     "text": [
      "Running Parameter Search:  86%|████████▋ | 690/800 [5:29:46<48:35, 26.51s/it, Best RMSE=0.603]"
     ]
    },
    {
     "name": "stdout",
     "output_type": "stream",
     "text": [
      "LGBM Average RMSE over 50 folds: 0.655255\n"
     ]
    },
    {
     "name": "stderr",
     "output_type": "stream",
     "text": [
      "Running Parameter Search:  86%|████████▋ | 691/800 [5:30:04<43:28, 23.93s/it, Best RMSE=0.603]"
     ]
    },
    {
     "name": "stdout",
     "output_type": "stream",
     "text": [
      "LGBM Average RMSE over 50 folds: 0.609940\n"
     ]
    },
    {
     "name": "stderr",
     "output_type": "stream",
     "text": [
      "Running Parameter Search:  86%|████████▋ | 692/800 [5:30:26<41:54, 23.29s/it, Best RMSE=0.603]"
     ]
    },
    {
     "name": "stdout",
     "output_type": "stream",
     "text": [
      "LGBM Average RMSE over 50 folds: 0.614933\n"
     ]
    },
    {
     "name": "stderr",
     "output_type": "stream",
     "text": [
      "Running Parameter Search:  87%|████████▋ | 693/800 [5:30:53<43:54, 24.62s/it, Best RMSE=0.603]"
     ]
    },
    {
     "name": "stdout",
     "output_type": "stream",
     "text": [
      "LGBM Average RMSE over 50 folds: 0.641260\n"
     ]
    },
    {
     "name": "stderr",
     "output_type": "stream",
     "text": [
      "Running Parameter Search:  87%|████████▋ | 694/800 [5:31:42<56:25, 31.94s/it, Best RMSE=0.603]"
     ]
    },
    {
     "name": "stdout",
     "output_type": "stream",
     "text": [
      "LGBM Average RMSE over 50 folds: 0.618647\n"
     ]
    },
    {
     "name": "stderr",
     "output_type": "stream",
     "text": [
      "Running Parameter Search:  87%|████████▋ | 695/800 [5:32:19<58:06, 33.21s/it, Best RMSE=0.603]"
     ]
    },
    {
     "name": "stdout",
     "output_type": "stream",
     "text": [
      "LGBM Average RMSE over 50 folds: 0.612459\n"
     ]
    },
    {
     "name": "stderr",
     "output_type": "stream",
     "text": [
      "Running Parameter Search:  87%|████████▋ | 696/800 [5:32:42<52:35, 30.34s/it, Best RMSE=0.603]"
     ]
    },
    {
     "name": "stdout",
     "output_type": "stream",
     "text": [
      "LGBM Average RMSE over 50 folds: 0.607471\n"
     ]
    },
    {
     "name": "stderr",
     "output_type": "stream",
     "text": [
      "Running Parameter Search:  87%|████████▋ | 697/800 [5:33:14<52:47, 30.75s/it, Best RMSE=0.603]"
     ]
    },
    {
     "name": "stdout",
     "output_type": "stream",
     "text": [
      "LGBM Average RMSE over 50 folds: 0.608462\n"
     ]
    },
    {
     "name": "stderr",
     "output_type": "stream",
     "text": [
      "Running Parameter Search:  87%|████████▋ | 698/800 [5:33:52<56:04, 32.99s/it, Best RMSE=0.603]"
     ]
    },
    {
     "name": "stdout",
     "output_type": "stream",
     "text": [
      "LGBM Average RMSE over 50 folds: 0.610294\n"
     ]
    },
    {
     "name": "stderr",
     "output_type": "stream",
     "text": [
      "Running Parameter Search:  87%|████████▋ | 699/800 [5:35:18<1:21:57, 48.69s/it, Best RMSE=0.603]"
     ]
    },
    {
     "name": "stdout",
     "output_type": "stream",
     "text": [
      "LGBM Average RMSE over 50 folds: 0.619130\n"
     ]
    },
    {
     "name": "stderr",
     "output_type": "stream",
     "text": [
      "Running Parameter Search:  88%|████████▊ | 700/800 [5:35:46<1:11:15, 42.76s/it, Best RMSE=0.603]"
     ]
    },
    {
     "name": "stdout",
     "output_type": "stream",
     "text": [
      "LGBM Average RMSE over 50 folds: 0.617573\n"
     ]
    },
    {
     "name": "stderr",
     "output_type": "stream",
     "text": [
      "Running Parameter Search:  88%|████████▊ | 701/800 [5:36:02<57:08, 34.63s/it, Best RMSE=0.603]  "
     ]
    },
    {
     "name": "stdout",
     "output_type": "stream",
     "text": [
      "LGBM Average RMSE over 50 folds: 0.720837\n"
     ]
    },
    {
     "name": "stderr",
     "output_type": "stream",
     "text": [
      "Running Parameter Search:  88%|████████▊ | 702/800 [5:36:23<49:37, 30.38s/it, Best RMSE=0.603]"
     ]
    },
    {
     "name": "stdout",
     "output_type": "stream",
     "text": [
      "LGBM Average RMSE over 50 folds: 0.621911\n"
     ]
    },
    {
     "name": "stderr",
     "output_type": "stream",
     "text": [
      "Running Parameter Search:  88%|████████▊ | 703/800 [5:36:45<45:24, 28.09s/it, Best RMSE=0.603]"
     ]
    },
    {
     "name": "stdout",
     "output_type": "stream",
     "text": [
      "LGBM Average RMSE over 50 folds: 2.198231\n"
     ]
    },
    {
     "name": "stderr",
     "output_type": "stream",
     "text": [
      "Running Parameter Search:  88%|████████▊ | 704/800 [5:37:00<38:30, 24.07s/it, Best RMSE=0.603]"
     ]
    },
    {
     "name": "stdout",
     "output_type": "stream",
     "text": [
      "LGBM Average RMSE over 50 folds: 0.858852\n"
     ]
    },
    {
     "name": "stderr",
     "output_type": "stream",
     "text": [
      "Running Parameter Search:  88%|████████▊ | 705/800 [5:37:19<35:34, 22.47s/it, Best RMSE=0.603]"
     ]
    },
    {
     "name": "stdout",
     "output_type": "stream",
     "text": [
      "LGBM Average RMSE over 50 folds: 0.609163\n"
     ]
    },
    {
     "name": "stderr",
     "output_type": "stream",
     "text": [
      "Running Parameter Search:  88%|████████▊ | 706/800 [5:37:50<39:21, 25.12s/it, Best RMSE=0.603]"
     ]
    },
    {
     "name": "stdout",
     "output_type": "stream",
     "text": [
      "LGBM Average RMSE over 50 folds: 0.614347\n"
     ]
    },
    {
     "name": "stderr",
     "output_type": "stream",
     "text": [
      "Running Parameter Search:  88%|████████▊ | 707/800 [5:38:14<38:21, 24.74s/it, Best RMSE=0.603]"
     ]
    },
    {
     "name": "stdout",
     "output_type": "stream",
     "text": [
      "LGBM Average RMSE over 50 folds: 0.611438\n"
     ]
    },
    {
     "name": "stderr",
     "output_type": "stream",
     "text": [
      "Running Parameter Search:  88%|████████▊ | 708/800 [5:38:38<37:48, 24.66s/it, Best RMSE=0.603]"
     ]
    },
    {
     "name": "stdout",
     "output_type": "stream",
     "text": [
      "LGBM Average RMSE over 50 folds: 0.610568\n"
     ]
    },
    {
     "name": "stderr",
     "output_type": "stream",
     "text": [
      "Running Parameter Search:  89%|████████▊ | 709/800 [5:39:07<39:09, 25.82s/it, Best RMSE=0.603]"
     ]
    },
    {
     "name": "stdout",
     "output_type": "stream",
     "text": [
      "LGBM Average RMSE over 50 folds: 0.608104\n"
     ]
    },
    {
     "name": "stderr",
     "output_type": "stream",
     "text": [
      "Running Parameter Search:  89%|████████▉ | 710/800 [5:39:30<37:31, 25.02s/it, Best RMSE=0.603]"
     ]
    },
    {
     "name": "stdout",
     "output_type": "stream",
     "text": [
      "LGBM Average RMSE over 50 folds: 0.628667\n"
     ]
    },
    {
     "name": "stderr",
     "output_type": "stream",
     "text": [
      "Running Parameter Search:  89%|████████▉ | 711/800 [5:39:59<38:48, 26.16s/it, Best RMSE=0.603]"
     ]
    },
    {
     "name": "stdout",
     "output_type": "stream",
     "text": [
      "LGBM Average RMSE over 50 folds: 0.636821\n"
     ]
    },
    {
     "name": "stderr",
     "output_type": "stream",
     "text": [
      "Running Parameter Search:  89%|████████▉ | 712/800 [5:40:16<34:27, 23.50s/it, Best RMSE=0.603]"
     ]
    },
    {
     "name": "stdout",
     "output_type": "stream",
     "text": [
      "LGBM Average RMSE over 50 folds: 0.665403\n"
     ]
    },
    {
     "name": "stderr",
     "output_type": "stream",
     "text": [
      "Running Parameter Search:  89%|████████▉ | 713/800 [5:40:51<39:09, 27.01s/it, Best RMSE=0.603]"
     ]
    },
    {
     "name": "stdout",
     "output_type": "stream",
     "text": [
      "LGBM Average RMSE over 50 folds: 0.612204\n"
     ]
    },
    {
     "name": "stderr",
     "output_type": "stream",
     "text": [
      "Running Parameter Search:  89%|████████▉ | 714/800 [5:41:35<45:51, 31.99s/it, Best RMSE=0.603]"
     ]
    },
    {
     "name": "stdout",
     "output_type": "stream",
     "text": [
      "LGBM Average RMSE over 50 folds: 0.613171\n"
     ]
    },
    {
     "name": "stderr",
     "output_type": "stream",
     "text": [
      "Running Parameter Search:  89%|████████▉ | 715/800 [5:42:20<50:41, 35.78s/it, Best RMSE=0.603]"
     ]
    },
    {
     "name": "stdout",
     "output_type": "stream",
     "text": [
      "LGBM Average RMSE over 50 folds: 0.621279\n"
     ]
    },
    {
     "name": "stderr",
     "output_type": "stream",
     "text": [
      "Running Parameter Search:  90%|████████▉ | 716/800 [5:42:39<43:06, 30.79s/it, Best RMSE=0.603]"
     ]
    },
    {
     "name": "stdout",
     "output_type": "stream",
     "text": [
      "LGBM Average RMSE over 50 folds: 0.683334\n"
     ]
    },
    {
     "name": "stderr",
     "output_type": "stream",
     "text": [
      "Running Parameter Search:  90%|████████▉ | 717/800 [5:43:00<38:41, 27.97s/it, Best RMSE=0.603]"
     ]
    },
    {
     "name": "stdout",
     "output_type": "stream",
     "text": [
      "LGBM Average RMSE over 50 folds: 0.641242\n"
     ]
    },
    {
     "name": "stderr",
     "output_type": "stream",
     "text": [
      "Running Parameter Search:  90%|████████▉ | 718/800 [5:43:15<32:52, 24.06s/it, Best RMSE=0.603]"
     ]
    },
    {
     "name": "stdout",
     "output_type": "stream",
     "text": [
      "LGBM Average RMSE over 50 folds: 0.609901\n"
     ]
    },
    {
     "name": "stderr",
     "output_type": "stream",
     "text": [
      "Running Parameter Search:  90%|████████▉ | 719/800 [5:44:01<41:14, 30.55s/it, Best RMSE=0.603]"
     ]
    },
    {
     "name": "stdout",
     "output_type": "stream",
     "text": [
      "LGBM Average RMSE over 50 folds: 0.614297\n"
     ]
    },
    {
     "name": "stderr",
     "output_type": "stream",
     "text": [
      "Running Parameter Search:  90%|█████████ | 720/800 [5:44:28<39:16, 29.46s/it, Best RMSE=0.603]"
     ]
    },
    {
     "name": "stdout",
     "output_type": "stream",
     "text": [
      "LGBM Average RMSE over 50 folds: 0.624318\n"
     ]
    },
    {
     "name": "stderr",
     "output_type": "stream",
     "text": [
      "Running Parameter Search:  90%|█████████ | 721/800 [5:44:44<33:36, 25.52s/it, Best RMSE=0.603]"
     ]
    },
    {
     "name": "stdout",
     "output_type": "stream",
     "text": [
      "LGBM Average RMSE over 50 folds: 1.690139\n"
     ]
    },
    {
     "name": "stderr",
     "output_type": "stream",
     "text": [
      "Running Parameter Search:  90%|█████████ | 722/800 [5:45:13<34:41, 26.69s/it, Best RMSE=0.603]"
     ]
    },
    {
     "name": "stdout",
     "output_type": "stream",
     "text": [
      "LGBM Average RMSE over 50 folds: 0.633831\n"
     ]
    },
    {
     "name": "stderr",
     "output_type": "stream",
     "text": [
      "Running Parameter Search:  90%|█████████ | 723/800 [5:45:54<39:38, 30.89s/it, Best RMSE=0.603]"
     ]
    },
    {
     "name": "stdout",
     "output_type": "stream",
     "text": [
      "LGBM Average RMSE over 50 folds: 0.612253\n"
     ]
    },
    {
     "name": "stderr",
     "output_type": "stream",
     "text": [
      "Running Parameter Search:  90%|█████████ | 724/800 [5:46:09<33:03, 26.09s/it, Best RMSE=0.603]"
     ]
    },
    {
     "name": "stdout",
     "output_type": "stream",
     "text": [
      "LGBM Average RMSE over 50 folds: 0.625788\n"
     ]
    },
    {
     "name": "stderr",
     "output_type": "stream",
     "text": [
      "Running Parameter Search:  91%|█████████ | 725/800 [5:46:27<29:36, 23.68s/it, Best RMSE=0.603]"
     ]
    },
    {
     "name": "stdout",
     "output_type": "stream",
     "text": [
      "LGBM Average RMSE over 50 folds: 0.661989\n"
     ]
    },
    {
     "name": "stderr",
     "output_type": "stream",
     "text": [
      "Running Parameter Search:  91%|█████████ | 726/800 [5:47:13<37:31, 30.42s/it, Best RMSE=0.603]"
     ]
    },
    {
     "name": "stdout",
     "output_type": "stream",
     "text": [
      "LGBM Average RMSE over 50 folds: 0.615781\n"
     ]
    },
    {
     "name": "stderr",
     "output_type": "stream",
     "text": [
      "Running Parameter Search:  91%|█████████ | 727/800 [5:47:48<38:43, 31.83s/it, Best RMSE=0.603]"
     ]
    },
    {
     "name": "stdout",
     "output_type": "stream",
     "text": [
      "LGBM Average RMSE over 50 folds: 0.610149\n"
     ]
    },
    {
     "name": "stderr",
     "output_type": "stream",
     "text": [
      "Running Parameter Search:  91%|█████████ | 728/800 [5:48:05<32:40, 27.23s/it, Best RMSE=0.603]"
     ]
    },
    {
     "name": "stdout",
     "output_type": "stream",
     "text": [
      "LGBM Average RMSE over 50 folds: 0.611726\n"
     ]
    },
    {
     "name": "stderr",
     "output_type": "stream",
     "text": [
      "Running Parameter Search:  91%|█████████ | 729/800 [5:48:16<26:32, 22.43s/it, Best RMSE=0.603]"
     ]
    },
    {
     "name": "stdout",
     "output_type": "stream",
     "text": [
      "LGBM Average RMSE over 50 folds: 0.608013\n"
     ]
    },
    {
     "name": "stderr",
     "output_type": "stream",
     "text": [
      "Running Parameter Search:  91%|█████████▏| 730/800 [5:49:12<37:49, 32.43s/it, Best RMSE=0.603]"
     ]
    },
    {
     "name": "stdout",
     "output_type": "stream",
     "text": [
      "LGBM Average RMSE over 50 folds: 0.620429\n"
     ]
    },
    {
     "name": "stderr",
     "output_type": "stream",
     "text": [
      "Running Parameter Search:  91%|█████████▏| 731/800 [5:49:46<37:57, 33.01s/it, Best RMSE=0.603]"
     ]
    },
    {
     "name": "stdout",
     "output_type": "stream",
     "text": [
      "LGBM Average RMSE over 50 folds: 0.609022\n"
     ]
    },
    {
     "name": "stderr",
     "output_type": "stream",
     "text": [
      "Running Parameter Search:  92%|█████████▏| 732/800 [5:50:20<37:45, 33.32s/it, Best RMSE=0.603]"
     ]
    },
    {
     "name": "stdout",
     "output_type": "stream",
     "text": [
      "LGBM Average RMSE over 50 folds: 0.606139\n"
     ]
    },
    {
     "name": "stderr",
     "output_type": "stream",
     "text": [
      "Running Parameter Search:  92%|█████████▏| 733/800 [5:51:12<43:14, 38.73s/it, Best RMSE=0.603]"
     ]
    },
    {
     "name": "stdout",
     "output_type": "stream",
     "text": [
      "LGBM Average RMSE over 50 folds: 0.655022\n"
     ]
    },
    {
     "name": "stderr",
     "output_type": "stream",
     "text": [
      "Running Parameter Search:  92%|█████████▏| 734/800 [5:51:25<34:07, 31.02s/it, Best RMSE=0.603]"
     ]
    },
    {
     "name": "stdout",
     "output_type": "stream",
     "text": [
      "LGBM Average RMSE over 50 folds: 0.608119\n"
     ]
    },
    {
     "name": "stderr",
     "output_type": "stream",
     "text": [
      "Running Parameter Search:  92%|█████████▏| 735/800 [5:51:53<32:50, 30.32s/it, Best RMSE=0.603]"
     ]
    },
    {
     "name": "stdout",
     "output_type": "stream",
     "text": [
      "LGBM Average RMSE over 50 folds: 0.734852\n"
     ]
    },
    {
     "name": "stderr",
     "output_type": "stream",
     "text": [
      "Running Parameter Search:  92%|█████████▏| 736/800 [5:52:47<39:45, 37.28s/it, Best RMSE=0.603]"
     ]
    },
    {
     "name": "stdout",
     "output_type": "stream",
     "text": [
      "LGBM Average RMSE over 50 folds: 0.615175\n"
     ]
    },
    {
     "name": "stderr",
     "output_type": "stream",
     "text": [
      "Running Parameter Search:  92%|█████████▏| 737/800 [5:53:05<33:10, 31.60s/it, Best RMSE=0.603]"
     ]
    },
    {
     "name": "stdout",
     "output_type": "stream",
     "text": [
      "LGBM Average RMSE over 50 folds: 0.607105\n"
     ]
    },
    {
     "name": "stderr",
     "output_type": "stream",
     "text": [
      "Running Parameter Search:  92%|█████████▏| 738/800 [5:53:39<33:22, 32.30s/it, Best RMSE=0.603]"
     ]
    },
    {
     "name": "stdout",
     "output_type": "stream",
     "text": [
      "LGBM Average RMSE over 50 folds: 0.608314\n"
     ]
    },
    {
     "name": "stderr",
     "output_type": "stream",
     "text": [
      "Running Parameter Search:  92%|█████████▏| 739/800 [5:53:54<27:38, 27.18s/it, Best RMSE=0.603]"
     ]
    },
    {
     "name": "stdout",
     "output_type": "stream",
     "text": [
      "LGBM Average RMSE over 50 folds: 0.610707\n"
     ]
    },
    {
     "name": "stderr",
     "output_type": "stream",
     "text": [
      "Running Parameter Search:  92%|█████████▎| 740/800 [5:54:12<24:24, 24.40s/it, Best RMSE=0.603]"
     ]
    },
    {
     "name": "stdout",
     "output_type": "stream",
     "text": [
      "LGBM Average RMSE over 50 folds: 0.669806\n"
     ]
    },
    {
     "name": "stderr",
     "output_type": "stream",
     "text": [
      "Running Parameter Search:  93%|█████████▎| 741/800 [5:56:06<50:19, 51.18s/it, Best RMSE=0.603]"
     ]
    },
    {
     "name": "stdout",
     "output_type": "stream",
     "text": [
      "LGBM Average RMSE over 50 folds: 0.692738\n"
     ]
    },
    {
     "name": "stderr",
     "output_type": "stream",
     "text": [
      "Running Parameter Search:  93%|█████████▎| 742/800 [5:56:28<40:57, 42.37s/it, Best RMSE=0.603]"
     ]
    },
    {
     "name": "stdout",
     "output_type": "stream",
     "text": [
      "LGBM Average RMSE over 50 folds: 0.613561\n"
     ]
    },
    {
     "name": "stderr",
     "output_type": "stream",
     "text": [
      "Running Parameter Search:  93%|█████████▎| 743/800 [5:56:43<32:31, 34.23s/it, Best RMSE=0.603]"
     ]
    },
    {
     "name": "stdout",
     "output_type": "stream",
     "text": [
      "LGBM Average RMSE over 50 folds: 0.608649\n"
     ]
    },
    {
     "name": "stderr",
     "output_type": "stream",
     "text": [
      "Running Parameter Search:  93%|█████████▎| 744/800 [5:57:26<34:17, 36.74s/it, Best RMSE=0.603]"
     ]
    },
    {
     "name": "stdout",
     "output_type": "stream",
     "text": [
      "LGBM Average RMSE over 50 folds: 0.612995\n"
     ]
    },
    {
     "name": "stderr",
     "output_type": "stream",
     "text": [
      "Running Parameter Search:  93%|█████████▎| 745/800 [5:58:31<41:38, 45.43s/it, Best RMSE=0.603]"
     ]
    },
    {
     "name": "stdout",
     "output_type": "stream",
     "text": [
      "LGBM Average RMSE over 50 folds: 0.618753\n"
     ]
    },
    {
     "name": "stderr",
     "output_type": "stream",
     "text": [
      "Running Parameter Search:  93%|█████████▎| 746/800 [5:59:11<39:24, 43.79s/it, Best RMSE=0.603]"
     ]
    },
    {
     "name": "stdout",
     "output_type": "stream",
     "text": [
      "LGBM Average RMSE over 50 folds: 0.617646\n"
     ]
    },
    {
     "name": "stderr",
     "output_type": "stream",
     "text": [
      "Running Parameter Search:  93%|█████████▎| 747/800 [5:59:32<32:30, 36.80s/it, Best RMSE=0.603]"
     ]
    },
    {
     "name": "stdout",
     "output_type": "stream",
     "text": [
      "LGBM Average RMSE over 50 folds: 0.725292\n"
     ]
    },
    {
     "name": "stderr",
     "output_type": "stream",
     "text": [
      "Running Parameter Search:  94%|█████████▎| 748/800 [6:00:14<33:18, 38.43s/it, Best RMSE=0.603]"
     ]
    },
    {
     "name": "stdout",
     "output_type": "stream",
     "text": [
      "LGBM Average RMSE over 50 folds: 0.617891\n"
     ]
    },
    {
     "name": "stderr",
     "output_type": "stream",
     "text": [
      "Running Parameter Search:  94%|█████████▎| 749/800 [6:00:34<28:04, 33.02s/it, Best RMSE=0.603]"
     ]
    },
    {
     "name": "stdout",
     "output_type": "stream",
     "text": [
      "LGBM Average RMSE over 50 folds: 0.610167\n"
     ]
    },
    {
     "name": "stderr",
     "output_type": "stream",
     "text": [
      "Running Parameter Search:  94%|█████████▍| 750/800 [6:00:48<22:34, 27.09s/it, Best RMSE=0.603]"
     ]
    },
    {
     "name": "stdout",
     "output_type": "stream",
     "text": [
      "LGBM Average RMSE over 50 folds: 0.608191\n"
     ]
    },
    {
     "name": "stderr",
     "output_type": "stream",
     "text": [
      "Running Parameter Search:  94%|█████████▍| 751/800 [6:01:06<19:54, 24.38s/it, Best RMSE=0.603]"
     ]
    },
    {
     "name": "stdout",
     "output_type": "stream",
     "text": [
      "LGBM Average RMSE over 50 folds: 0.653638\n"
     ]
    },
    {
     "name": "stderr",
     "output_type": "stream",
     "text": [
      "Running Parameter Search:  94%|█████████▍| 752/800 [6:01:31<19:41, 24.61s/it, Best RMSE=0.603]"
     ]
    },
    {
     "name": "stdout",
     "output_type": "stream",
     "text": [
      "LGBM Average RMSE over 50 folds: 0.608843\n"
     ]
    },
    {
     "name": "stderr",
     "output_type": "stream",
     "text": [
      "Running Parameter Search:  94%|█████████▍| 753/800 [6:01:47<17:23, 22.21s/it, Best RMSE=0.603]"
     ]
    },
    {
     "name": "stdout",
     "output_type": "stream",
     "text": [
      "LGBM Average RMSE over 50 folds: 1.003022\n"
     ]
    },
    {
     "name": "stderr",
     "output_type": "stream",
     "text": [
      "Running Parameter Search:  94%|█████████▍| 754/800 [6:02:06<16:10, 21.09s/it, Best RMSE=0.603]"
     ]
    },
    {
     "name": "stdout",
     "output_type": "stream",
     "text": [
      "LGBM Average RMSE over 50 folds: 0.614166\n"
     ]
    },
    {
     "name": "stderr",
     "output_type": "stream",
     "text": [
      "Running Parameter Search:  94%|█████████▍| 755/800 [6:02:22<14:39, 19.54s/it, Best RMSE=0.603]"
     ]
    },
    {
     "name": "stdout",
     "output_type": "stream",
     "text": [
      "LGBM Average RMSE over 50 folds: 0.609627\n"
     ]
    },
    {
     "name": "stderr",
     "output_type": "stream",
     "text": [
      "Running Parameter Search:  94%|█████████▍| 756/800 [6:03:01<18:40, 25.47s/it, Best RMSE=0.603]"
     ]
    },
    {
     "name": "stdout",
     "output_type": "stream",
     "text": [
      "LGBM Average RMSE over 50 folds: 0.618275\n"
     ]
    },
    {
     "name": "stderr",
     "output_type": "stream",
     "text": [
      "Running Parameter Search:  95%|█████████▍| 757/800 [6:03:18<16:26, 22.94s/it, Best RMSE=0.603]"
     ]
    },
    {
     "name": "stdout",
     "output_type": "stream",
     "text": [
      "LGBM Average RMSE over 50 folds: 0.638064\n"
     ]
    },
    {
     "name": "stderr",
     "output_type": "stream",
     "text": [
      "Running Parameter Search:  95%|█████████▍| 758/800 [6:04:14<22:52, 32.69s/it, Best RMSE=0.603]"
     ]
    },
    {
     "name": "stdout",
     "output_type": "stream",
     "text": [
      "LGBM Average RMSE over 50 folds: 0.619319\n"
     ]
    },
    {
     "name": "stderr",
     "output_type": "stream",
     "text": [
      "Running Parameter Search:  95%|█████████▍| 759/800 [6:04:30<18:56, 27.71s/it, Best RMSE=0.603]"
     ]
    },
    {
     "name": "stdout",
     "output_type": "stream",
     "text": [
      "LGBM Average RMSE over 50 folds: 0.605942\n"
     ]
    },
    {
     "name": "stderr",
     "output_type": "stream",
     "text": [
      "Running Parameter Search:  95%|█████████▌| 760/800 [6:04:49<16:49, 25.23s/it, Best RMSE=0.603]"
     ]
    },
    {
     "name": "stdout",
     "output_type": "stream",
     "text": [
      "LGBM Average RMSE over 50 folds: 0.609517\n"
     ]
    },
    {
     "name": "stderr",
     "output_type": "stream",
     "text": [
      "Running Parameter Search:  95%|█████████▌| 761/800 [6:05:10<15:33, 23.95s/it, Best RMSE=0.603]"
     ]
    },
    {
     "name": "stdout",
     "output_type": "stream",
     "text": [
      "LGBM Average RMSE over 50 folds: 0.640048\n"
     ]
    },
    {
     "name": "stderr",
     "output_type": "stream",
     "text": [
      "Running Parameter Search:  95%|█████████▌| 762/800 [6:05:25<13:25, 21.19s/it, Best RMSE=0.603]"
     ]
    },
    {
     "name": "stdout",
     "output_type": "stream",
     "text": [
      "LGBM Average RMSE over 50 folds: 0.607974\n"
     ]
    },
    {
     "name": "stderr",
     "output_type": "stream",
     "text": [
      "Running Parameter Search:  95%|█████████▌| 763/800 [6:05:43<12:30, 20.29s/it, Best RMSE=0.603]"
     ]
    },
    {
     "name": "stdout",
     "output_type": "stream",
     "text": [
      "LGBM Average RMSE over 50 folds: 0.640871\n"
     ]
    },
    {
     "name": "stderr",
     "output_type": "stream",
     "text": [
      "Running Parameter Search:  96%|█████████▌| 764/800 [6:06:16<14:25, 24.04s/it, Best RMSE=0.603]"
     ]
    },
    {
     "name": "stdout",
     "output_type": "stream",
     "text": [
      "LGBM Average RMSE over 50 folds: 0.614562\n"
     ]
    },
    {
     "name": "stderr",
     "output_type": "stream",
     "text": [
      "Running Parameter Search:  96%|█████████▌| 765/800 [6:07:00<17:32, 30.07s/it, Best RMSE=0.603]"
     ]
    },
    {
     "name": "stdout",
     "output_type": "stream",
     "text": [
      "LGBM Average RMSE over 50 folds: 0.633115\n"
     ]
    },
    {
     "name": "stderr",
     "output_type": "stream",
     "text": [
      "Running Parameter Search:  96%|█████████▌| 766/800 [6:07:32<17:22, 30.65s/it, Best RMSE=0.603]"
     ]
    },
    {
     "name": "stdout",
     "output_type": "stream",
     "text": [
      "LGBM Average RMSE over 50 folds: 0.608468\n"
     ]
    },
    {
     "name": "stderr",
     "output_type": "stream",
     "text": [
      "Running Parameter Search:  96%|█████████▌| 767/800 [6:07:55<15:32, 28.25s/it, Best RMSE=0.603]"
     ]
    },
    {
     "name": "stdout",
     "output_type": "stream",
     "text": [
      "LGBM Average RMSE over 50 folds: 0.610236\n"
     ]
    },
    {
     "name": "stderr",
     "output_type": "stream",
     "text": [
      "Running Parameter Search:  96%|█████████▌| 768/800 [6:08:50<19:27, 36.49s/it, Best RMSE=0.603]"
     ]
    },
    {
     "name": "stdout",
     "output_type": "stream",
     "text": [
      "LGBM Average RMSE over 50 folds: 0.617466\n"
     ]
    },
    {
     "name": "stderr",
     "output_type": "stream",
     "text": [
      "Running Parameter Search:  96%|█████████▌| 769/800 [6:09:34<19:59, 38.68s/it, Best RMSE=0.603]"
     ]
    },
    {
     "name": "stdout",
     "output_type": "stream",
     "text": [
      "LGBM Average RMSE over 50 folds: 0.620752\n"
     ]
    },
    {
     "name": "stderr",
     "output_type": "stream",
     "text": [
      "Running Parameter Search:  96%|█████████▋| 770/800 [6:10:31<22:05, 44.19s/it, Best RMSE=0.603]"
     ]
    },
    {
     "name": "stdout",
     "output_type": "stream",
     "text": [
      "LGBM Average RMSE over 50 folds: 0.623955\n"
     ]
    },
    {
     "name": "stderr",
     "output_type": "stream",
     "text": [
      "Running Parameter Search:  96%|█████████▋| 771/800 [6:11:25<22:45, 47.08s/it, Best RMSE=0.603]"
     ]
    },
    {
     "name": "stdout",
     "output_type": "stream",
     "text": [
      "LGBM Average RMSE over 50 folds: 0.614567\n"
     ]
    },
    {
     "name": "stderr",
     "output_type": "stream",
     "text": [
      "Running Parameter Search:  96%|█████████▋| 772/800 [6:11:46<18:20, 39.31s/it, Best RMSE=0.603]"
     ]
    },
    {
     "name": "stdout",
     "output_type": "stream",
     "text": [
      "LGBM Average RMSE over 50 folds: 0.713524\n"
     ]
    },
    {
     "name": "stderr",
     "output_type": "stream",
     "text": [
      "Running Parameter Search:  97%|█████████▋| 773/800 [6:12:15<16:18, 36.22s/it, Best RMSE=0.603]"
     ]
    },
    {
     "name": "stdout",
     "output_type": "stream",
     "text": [
      "LGBM Average RMSE over 50 folds: 0.610326\n"
     ]
    },
    {
     "name": "stderr",
     "output_type": "stream",
     "text": [
      "Running Parameter Search:  97%|█████████▋| 774/800 [6:12:54<15:59, 36.89s/it, Best RMSE=0.603]"
     ]
    },
    {
     "name": "stdout",
     "output_type": "stream",
     "text": [
      "LGBM Average RMSE over 50 folds: 0.611773\n"
     ]
    },
    {
     "name": "stderr",
     "output_type": "stream",
     "text": [
      "Running Parameter Search:  97%|█████████▋| 775/800 [6:13:15<13:28, 32.35s/it, Best RMSE=0.603]"
     ]
    },
    {
     "name": "stdout",
     "output_type": "stream",
     "text": [
      "LGBM Average RMSE over 50 folds: 0.607894\n"
     ]
    },
    {
     "name": "stderr",
     "output_type": "stream",
     "text": [
      "Running Parameter Search:  97%|█████████▋| 776/800 [6:13:58<14:09, 35.39s/it, Best RMSE=0.603]"
     ]
    },
    {
     "name": "stdout",
     "output_type": "stream",
     "text": [
      "LGBM Average RMSE over 50 folds: 0.614211\n"
     ]
    },
    {
     "name": "stderr",
     "output_type": "stream",
     "text": [
      "Running Parameter Search:  97%|█████████▋| 777/800 [6:14:26<12:46, 33.32s/it, Best RMSE=0.603]"
     ]
    },
    {
     "name": "stdout",
     "output_type": "stream",
     "text": [
      "LGBM Average RMSE over 50 folds: 0.649267\n"
     ]
    },
    {
     "name": "stderr",
     "output_type": "stream",
     "text": [
      "Running Parameter Search:  97%|█████████▋| 778/800 [6:14:49<11:05, 30.25s/it, Best RMSE=0.603]"
     ]
    },
    {
     "name": "stdout",
     "output_type": "stream",
     "text": [
      "LGBM Average RMSE over 50 folds: 1.066910\n"
     ]
    },
    {
     "name": "stderr",
     "output_type": "stream",
     "text": [
      "Running Parameter Search:  97%|█████████▋| 779/800 [6:15:21<10:40, 30.51s/it, Best RMSE=0.603]"
     ]
    },
    {
     "name": "stdout",
     "output_type": "stream",
     "text": [
      "LGBM Average RMSE over 50 folds: 0.613891\n"
     ]
    },
    {
     "name": "stderr",
     "output_type": "stream",
     "text": [
      "Running Parameter Search:  98%|█████████▊| 780/800 [6:15:34<08:28, 25.41s/it, Best RMSE=0.603]"
     ]
    },
    {
     "name": "stdout",
     "output_type": "stream",
     "text": [
      "LGBM Average RMSE over 50 folds: 1.671319\n"
     ]
    },
    {
     "name": "stderr",
     "output_type": "stream",
     "text": [
      "Running Parameter Search:  98%|█████████▊| 781/800 [6:15:56<07:43, 24.40s/it, Best RMSE=0.603]"
     ]
    },
    {
     "name": "stdout",
     "output_type": "stream",
     "text": [
      "LGBM Average RMSE over 50 folds: 0.715559\n"
     ]
    },
    {
     "name": "stderr",
     "output_type": "stream",
     "text": [
      "Running Parameter Search:  98%|█████████▊| 782/800 [6:16:28<08:00, 26.71s/it, Best RMSE=0.603]"
     ]
    },
    {
     "name": "stdout",
     "output_type": "stream",
     "text": [
      "LGBM Average RMSE over 50 folds: 0.608999\n"
     ]
    },
    {
     "name": "stderr",
     "output_type": "stream",
     "text": [
      "Running Parameter Search:  98%|█████████▊| 783/800 [6:16:45<06:41, 23.60s/it, Best RMSE=0.603]"
     ]
    },
    {
     "name": "stdout",
     "output_type": "stream",
     "text": [
      "LGBM Average RMSE over 50 folds: 0.607337\n"
     ]
    },
    {
     "name": "stderr",
     "output_type": "stream",
     "text": [
      "Running Parameter Search:  98%|█████████▊| 784/800 [6:17:07<06:10, 23.14s/it, Best RMSE=0.603]"
     ]
    },
    {
     "name": "stdout",
     "output_type": "stream",
     "text": [
      "LGBM Average RMSE over 50 folds: 0.613284\n"
     ]
    },
    {
     "name": "stderr",
     "output_type": "stream",
     "text": [
      "Running Parameter Search:  98%|█████████▊| 785/800 [6:17:43<06:48, 27.22s/it, Best RMSE=0.603]"
     ]
    },
    {
     "name": "stdout",
     "output_type": "stream",
     "text": [
      "LGBM Average RMSE over 50 folds: 0.658213\n"
     ]
    },
    {
     "name": "stderr",
     "output_type": "stream",
     "text": [
      "Running Parameter Search:  98%|█████████▊| 786/800 [6:18:14<06:33, 28.12s/it, Best RMSE=0.603]"
     ]
    },
    {
     "name": "stdout",
     "output_type": "stream",
     "text": [
      "LGBM Average RMSE over 50 folds: 0.634689\n"
     ]
    },
    {
     "name": "stderr",
     "output_type": "stream",
     "text": [
      "Running Parameter Search:  98%|█████████▊| 787/800 [6:18:34<05:37, 25.94s/it, Best RMSE=0.603]"
     ]
    },
    {
     "name": "stdout",
     "output_type": "stream",
     "text": [
      "LGBM Average RMSE over 50 folds: 0.641235\n"
     ]
    },
    {
     "name": "stderr",
     "output_type": "stream",
     "text": [
      "Running Parameter Search:  98%|█████████▊| 788/800 [6:18:58<05:02, 25.22s/it, Best RMSE=0.603]"
     ]
    },
    {
     "name": "stdout",
     "output_type": "stream",
     "text": [
      "LGBM Average RMSE over 50 folds: 0.661320\n"
     ]
    },
    {
     "name": "stderr",
     "output_type": "stream",
     "text": [
      "Running Parameter Search:  99%|█████████▊| 789/800 [6:19:52<06:12, 33.85s/it, Best RMSE=0.603]"
     ]
    },
    {
     "name": "stdout",
     "output_type": "stream",
     "text": [
      "LGBM Average RMSE over 50 folds: 0.640747\n"
     ]
    },
    {
     "name": "stderr",
     "output_type": "stream",
     "text": [
      "Running Parameter Search:  99%|█████████▉| 790/800 [6:20:12<04:57, 29.71s/it, Best RMSE=0.603]"
     ]
    },
    {
     "name": "stdout",
     "output_type": "stream",
     "text": [
      "LGBM Average RMSE over 50 folds: 0.669177\n"
     ]
    },
    {
     "name": "stderr",
     "output_type": "stream",
     "text": [
      "Running Parameter Search:  99%|█████████▉| 791/800 [6:20:33<04:02, 26.95s/it, Best RMSE=0.603]"
     ]
    },
    {
     "name": "stdout",
     "output_type": "stream",
     "text": [
      "LGBM Average RMSE over 50 folds: 0.614799\n"
     ]
    },
    {
     "name": "stderr",
     "output_type": "stream",
     "text": [
      "Running Parameter Search:  99%|█████████▉| 792/800 [6:20:56<03:26, 25.82s/it, Best RMSE=0.603]"
     ]
    },
    {
     "name": "stdout",
     "output_type": "stream",
     "text": [
      "LGBM Average RMSE over 50 folds: 0.610916\n"
     ]
    },
    {
     "name": "stderr",
     "output_type": "stream",
     "text": [
      "Running Parameter Search:  99%|█████████▉| 793/800 [6:21:16<02:49, 24.15s/it, Best RMSE=0.603]"
     ]
    },
    {
     "name": "stdout",
     "output_type": "stream",
     "text": [
      "LGBM Average RMSE over 50 folds: 0.610545\n"
     ]
    },
    {
     "name": "stderr",
     "output_type": "stream",
     "text": [
      "Running Parameter Search:  99%|█████████▉| 794/800 [6:21:47<02:36, 26.15s/it, Best RMSE=0.603]"
     ]
    },
    {
     "name": "stdout",
     "output_type": "stream",
     "text": [
      "LGBM Average RMSE over 50 folds: 0.631808\n"
     ]
    },
    {
     "name": "stderr",
     "output_type": "stream",
     "text": [
      "Running Parameter Search:  99%|█████████▉| 795/800 [6:22:27<02:32, 30.47s/it, Best RMSE=0.603]"
     ]
    },
    {
     "name": "stdout",
     "output_type": "stream",
     "text": [
      "LGBM Average RMSE over 50 folds: 0.618857\n"
     ]
    },
    {
     "name": "stderr",
     "output_type": "stream",
     "text": [
      "Running Parameter Search: 100%|█████████▉| 796/800 [6:23:18<02:26, 36.63s/it, Best RMSE=0.603]"
     ]
    },
    {
     "name": "stdout",
     "output_type": "stream",
     "text": [
      "LGBM Average RMSE over 50 folds: 0.616612\n"
     ]
    },
    {
     "name": "stderr",
     "output_type": "stream",
     "text": [
      "Running Parameter Search: 100%|█████████▉| 797/800 [6:23:58<01:52, 37.64s/it, Best RMSE=0.603]"
     ]
    },
    {
     "name": "stdout",
     "output_type": "stream",
     "text": [
      "LGBM Average RMSE over 50 folds: 0.610933\n"
     ]
    },
    {
     "name": "stderr",
     "output_type": "stream",
     "text": [
      "Running Parameter Search: 100%|█████████▉| 798/800 [6:24:14<01:01, 30.89s/it, Best RMSE=0.603]"
     ]
    },
    {
     "name": "stdout",
     "output_type": "stream",
     "text": [
      "LGBM Average RMSE over 50 folds: 0.819828\n"
     ]
    },
    {
     "name": "stderr",
     "output_type": "stream",
     "text": [
      "Running Parameter Search: 100%|█████████▉| 799/800 [6:24:49<00:32, 32.39s/it, Best RMSE=0.603]"
     ]
    },
    {
     "name": "stdout",
     "output_type": "stream",
     "text": [
      "LGBM Average RMSE over 50 folds: 0.613409\n"
     ]
    },
    {
     "name": "stderr",
     "output_type": "stream",
     "text": [
      "Running Parameter Search: 100%|██████████| 800/800 [6:25:29<00:00, 28.91s/it, Best RMSE=0.603]"
     ]
    },
    {
     "name": "stdout",
     "output_type": "stream",
     "text": [
      "LGBM Average RMSE over 50 folds: 0.613266\n",
      "Best RMSE: 0.603186\n",
      "Best Parameters: {'boosting_type': 'gbdt', 'num_leaves': 16, 'learning_rate': 0.15347777609888505, 'max_depth': 11, 'min_child_samples': 49, 'reg_alpha': 0.011839618542937691, 'reg_lambda': 0.8759242646774177}\n"
     ]
    },
    {
     "name": "stderr",
     "output_type": "stream",
     "text": [
      "\n"
     ]
    }
   ],
   "source": [
    "import numpy as np\n",
    "import lightgbm as lgb\n",
    "from sklearn.metrics import mean_squared_error\n",
    "from sklearn.model_selection import StratifiedKFold\n",
    "import random\n",
    "\n",
    "def random_param_search(train_feats, test_feats, n_iterations):\n",
    "    # Define parameter ranges\n",
    "    param_ranges = {\n",
    "        'boosting_type': ['gbdt', 'dart', 'goss'],\n",
    "        'num_leaves': (15, 150),  # Range for num_leaves\n",
    "        'learning_rate': (0.01, 0.2),  # Range for learning_rate\n",
    "        'max_depth': (5, 20),  # Range for max_depth\n",
    "        'min_child_samples': (5, 50),  # Range for min_child_samples\n",
    "        'reg_alpha': (0, 1),  # Range for L1 regularization\n",
    "        'reg_lambda': (0, 1),  # Range for L2 regularization\n",
    "        'n_estimators': 2000\n",
    "    }\n",
    "\n",
    "    best_rmse = float(\"inf\")\n",
    "    best_params = None\n",
    "    test_predictions_df = pd.DataFrame()\n",
    "\n",
    "    progress_bar = tqdm(range(n_iterations), desc=\"Running Parameter Search\")\n",
    "    for iteration in progress_bar:\n",
    "\n",
    "        # Sampling parameters from ranges\n",
    "        params = {\n",
    "            'boosting_type': random.choice(param_ranges['boosting_type']),\n",
    "            'num_leaves': random.randint(*param_ranges['num_leaves']),\n",
    "            'learning_rate': random.uniform(*param_ranges['learning_rate']),\n",
    "            'max_depth': random.randint(*param_ranges['max_depth']),\n",
    "            'min_child_samples': random.randint(*param_ranges['min_child_samples']),\n",
    "            'reg_alpha': random.uniform(*param_ranges['reg_alpha']),\n",
    "            'reg_lambda': random.uniform(*param_ranges['reg_lambda'])\n",
    "        }\n",
    "        \n",
    "        # Train and evaluate model\n",
    "        boosting_type = params['boosting_type']\n",
    "        test_preds, _, rmse = cv_pipeline(train_feats, test_feats, params, boosting_type, )\n",
    "                                        \n",
    "\n",
    "        params_str = ', '.join(f'{k}: {v}' for k, v in params.items())\n",
    "\n",
    "        new_iter = {'rmse': [rmse],\n",
    "                    'params': params_str}\n",
    "\n",
    "        test_predictions_df = pd.concat([test_predictions_df, pd.DataFrame(data=new_iter)])\n",
    "        # Update best parameters if current model is better\n",
    "        if rmse < best_rmse:\n",
    "            print(f\"New best RMSE: {rmse:.6f}\")\n",
    "            best_rmse = rmse\n",
    "            best_params = params\n",
    "            progress_bar.set_postfix({\"Best RMSE\": best_rmse})\n",
    "    \n",
    "    print(f\"Best RMSE: {best_rmse:.6f}\")\n",
    "    print(\"Best Parameters:\", best_params)\n",
    "    return test_predictions_df\n",
    "\n",
    "# Example usage\n",
    "test_predictions_df = random_param_search(train_feats, test_feats, 800)"
   ]
  },
  {
   "cell_type": "code",
   "execution_count": 22,
   "metadata": {},
   "outputs": [],
   "source": [
    "test_predictions_df.sort_values('rmse').head(2).params.to_csv('random_search_params.csv',  index=False)"
   ]
  },
  {
   "cell_type": "code",
   "execution_count": 7,
   "metadata": {},
   "outputs": [
    {
     "data": {
      "text/html": [
       "<div>\n",
       "<style scoped>\n",
       "    .dataframe tbody tr th:only-of-type {\n",
       "        vertical-align: middle;\n",
       "    }\n",
       "\n",
       "    .dataframe tbody tr th {\n",
       "        vertical-align: top;\n",
       "    }\n",
       "\n",
       "    .dataframe thead th {\n",
       "        text-align: right;\n",
       "    }\n",
       "</style>\n",
       "<table border=\"1\" class=\"dataframe\">\n",
       "  <thead>\n",
       "    <tr style=\"text-align: right;\">\n",
       "      <th></th>\n",
       "      <th>rmse</th>\n",
       "      <th>params</th>\n",
       "    </tr>\n",
       "  </thead>\n",
       "  <tbody>\n",
       "    <tr>\n",
       "      <th>0</th>\n",
       "      <td>0.603186</td>\n",
       "      <td>boosting_type: gbdt, num_leaves: 16, learning_...</td>\n",
       "    </tr>\n",
       "    <tr>\n",
       "      <th>0</th>\n",
       "      <td>0.603505</td>\n",
       "      <td>boosting_type: gbdt, num_leaves: 16, learning_...</td>\n",
       "    </tr>\n",
       "    <tr>\n",
       "      <th>0</th>\n",
       "      <td>0.603551</td>\n",
       "      <td>boosting_type: gbdt, num_leaves: 17, learning_...</td>\n",
       "    </tr>\n",
       "    <tr>\n",
       "      <th>0</th>\n",
       "      <td>0.604466</td>\n",
       "      <td>boosting_type: goss, num_leaves: 88, learning_...</td>\n",
       "    </tr>\n",
       "    <tr>\n",
       "      <th>0</th>\n",
       "      <td>0.604790</td>\n",
       "      <td>boosting_type: gbdt, num_leaves: 16, learning_...</td>\n",
       "    </tr>\n",
       "    <tr>\n",
       "      <th>...</th>\n",
       "      <td>...</td>\n",
       "      <td>...</td>\n",
       "    </tr>\n",
       "    <tr>\n",
       "      <th>0</th>\n",
       "      <td>2.038624</td>\n",
       "      <td>boosting_type: dart, num_leaves: 35, learning_...</td>\n",
       "    </tr>\n",
       "    <tr>\n",
       "      <th>0</th>\n",
       "      <td>2.086226</td>\n",
       "      <td>boosting_type: dart, num_leaves: 76, learning_...</td>\n",
       "    </tr>\n",
       "    <tr>\n",
       "      <th>0</th>\n",
       "      <td>2.087839</td>\n",
       "      <td>boosting_type: dart, num_leaves: 100, learning...</td>\n",
       "    </tr>\n",
       "    <tr>\n",
       "      <th>0</th>\n",
       "      <td>2.121359</td>\n",
       "      <td>boosting_type: dart, num_leaves: 120, learning...</td>\n",
       "    </tr>\n",
       "    <tr>\n",
       "      <th>0</th>\n",
       "      <td>2.198231</td>\n",
       "      <td>boosting_type: dart, num_leaves: 117, learning...</td>\n",
       "    </tr>\n",
       "  </tbody>\n",
       "</table>\n",
       "<p>800 rows × 2 columns</p>\n",
       "</div>"
      ],
      "text/plain": [
       "        rmse                                             params\n",
       "0   0.603186  boosting_type: gbdt, num_leaves: 16, learning_...\n",
       "0   0.603505  boosting_type: gbdt, num_leaves: 16, learning_...\n",
       "0   0.603551  boosting_type: gbdt, num_leaves: 17, learning_...\n",
       "0   0.604466  boosting_type: goss, num_leaves: 88, learning_...\n",
       "0   0.604790  boosting_type: gbdt, num_leaves: 16, learning_...\n",
       "..       ...                                                ...\n",
       "0   2.038624  boosting_type: dart, num_leaves: 35, learning_...\n",
       "0   2.086226  boosting_type: dart, num_leaves: 76, learning_...\n",
       "0   2.087839  boosting_type: dart, num_leaves: 100, learning...\n",
       "0   2.121359  boosting_type: dart, num_leaves: 120, learning...\n",
       "0   2.198231  boosting_type: dart, num_leaves: 117, learning...\n",
       "\n",
       "[800 rows x 2 columns]"
      ]
     },
     "execution_count": 7,
     "metadata": {},
     "output_type": "execute_result"
    }
   ],
   "source": [
    "test_predictions_df.sort_values('rmse')"
   ]
  }
 ],
 "metadata": {
  "kernelspec": {
   "display_name": "lrp",
   "language": "python",
   "name": "python3"
  },
  "language_info": {
   "codemirror_mode": {
    "name": "ipython",
    "version": 3
   },
   "file_extension": ".py",
   "mimetype": "text/x-python",
   "name": "python",
   "nbconvert_exporter": "python",
   "pygments_lexer": "ipython3",
   "version": "3.10.13"
  }
 },
 "nbformat": 4,
 "nbformat_minor": 2
}
