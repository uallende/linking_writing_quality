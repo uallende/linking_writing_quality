{
 "cells": [
  {
   "cell_type": "code",
   "execution_count": 1,
   "metadata": {},
   "outputs": [],
   "source": [
    "import pandas as pd\n",
    "import numpy as np\n",
    "# from m4_feats_functions import *\n",
    "# from m7_utils import *\n",
    "# from m5_models import *\n",
    "from m3_model_params import lgb_params_2 as lgbm_params\n",
    "from m3_model_params import xgb_params_2 as xgb_params\n",
    "from sklearn.preprocessing import MinMaxScaler, StandardScaler\n",
    "from sklearn.preprocessing import PowerTransformer, MinMaxScaler, StandardScaler\n",
    "from m3_model_params import non_important_feats"
   ]
  },
  {
   "cell_type": "code",
   "execution_count": 2,
   "metadata": {},
   "outputs": [
    {
     "data": {
      "text/plain": [
       "\" INPUT_DIR = 'kaggle/input/linking-writing-processes-to-writing-quality'\\nFEAT_STORE_DIR = 'feat_store_combined'\\ntrain_logs = pd.read_csv(f'{INPUT_DIR}/train_logs.csv')\\ntrain_scores = pd.read_csv(f'{INPUT_DIR}/train_scores.csv')\\ntest_logs = pd.read_csv(f'{INPUT_DIR}/test_logs.csv')\\nss_df = pd.read_csv(f'{INPUT_DIR}/sample_submission.csv')\\n\\n# logs = pd.concat([train_logs, test_logs], axis=0) \""
      ]
     },
     "execution_count": 2,
     "metadata": {},
     "output_type": "execute_result"
    }
   ],
   "source": [
    "\"\"\" INPUT_DIR = 'kaggle/input/linking-writing-processes-to-writing-quality'\n",
    "FEAT_STORE_DIR = 'feat_store_combined'\n",
    "train_logs = pd.read_csv(f'{INPUT_DIR}/train_logs.csv')\n",
    "train_scores = pd.read_csv(f'{INPUT_DIR}/train_scores.csv')\n",
    "test_logs = pd.read_csv(f'{INPUT_DIR}/test_logs.csv')\n",
    "ss_df = pd.read_csv(f'{INPUT_DIR}/sample_submission.csv')\n",
    "\n",
    "# logs = pd.concat([train_logs, test_logs], axis=0) \"\"\""
   ]
  },
  {
   "cell_type": "code",
   "execution_count": 3,
   "metadata": {},
   "outputs": [],
   "source": [
    "import polars as pl\n",
    "data_path     = 'kaggle/input/linking-writing-processes-to-writing-quality/'\n",
    "train_logs    = pl.scan_csv(f'{data_path}/train_logs.csv')\n",
    "test_logs    = pl.scan_csv(f'{data_path}/test_logs.csv')"
   ]
  },
  {
   "cell_type": "code",
   "execution_count": 4,
   "metadata": {},
   "outputs": [],
   "source": [
    "# POLARS\n",
    "def normalise_up_down_times(train_logs, test_logs):\n",
    "    new_logs = []\n",
    "    for logs in [train_logs, test_logs]:\n",
    "        min_down_time = logs.group_by('id').agg(pl.min('down_time').alias('min_down_time'))\n",
    "        logs = logs.join(min_down_time, on='id', how='left')\n",
    "        logs = logs.with_columns([\n",
    "            (pl.col('down_time') - pl.col('min_down_time')).alias('normalised_down_time'),\n",
    "            (pl.col('up_time') + pl.col('action_time')).alias('normalised_up_time')\n",
    "        ])\n",
    "        logs = logs.drop(['min_down_time', 'down_time', 'up_time'])\n",
    "        logs = logs.rename({'normalised_down_time': 'down_time', 'normalised_up_time': 'up_time'})\n",
    "        new_logs.append(logs)\n",
    "    return new_logs[0], new_logs[1]\n",
    "\n",
    "tr_logs, ts_logs = normalise_up_down_times(train_logs, test_logs)"
   ]
  },
  {
   "cell_type": "code",
   "execution_count": 5,
   "metadata": {},
   "outputs": [],
   "source": [
    "def down_time_padding(train_logs, test_logs, time_agg):\n",
    "\n",
    "    data = []\n",
    "\n",
    "    for logs in [train_logs, test_logs]:\n",
    "    # bin original logs\n",
    "        logs_binned = logs.clone()\n",
    "        logs_binned = logs_binned.with_columns((pl.col('down_time') / 1000).alias('down_time_sec'))\n",
    "        logs_binned = logs_binned.with_columns(((pl.col('down_time_sec') // time_agg) * time_agg).alias('time_bin'))\n",
    "\n",
    "        grp_binned = logs_binned.group_by(['id', 'time_bin']).agg(pl.max('word_count'))\n",
    "        grp_binned = grp_binned.with_columns(pl.col('time_bin').cast(pl.Int64))\n",
    "        grp_binned = grp_binned.sort([pl.col('id'), pl.col('time_bin')])\n",
    "\n",
    "        # get max down_time value from logs\n",
    "        max_logs = logs.clone()\n",
    "        max_down_time = max_logs.group_by(['id']).agg(pl.max('down_time') / 1000)\n",
    "        max_down_time = max_down_time.with_columns([pl.col('down_time').cast(pl.Int64)])\n",
    "\n",
    "        padding_dataframes = []\n",
    "        max_down_time = max_down_time.collect()\n",
    "\n",
    "        # Iterate over each row in max_down_time_df\n",
    "        for row in max_down_time.rows():\n",
    "            id_value, max_time_value = row[0], row[1]  # Access by index\n",
    "\n",
    "            # Generate time steps\n",
    "            time_steps = list(range(0, max_time_value + time_agg, time_agg))\n",
    "\n",
    "            # Create padding DataFrame with the correct types\n",
    "            padding_df = pl.DataFrame({\n",
    "                'id': [str(id_value)] * len(time_steps),\n",
    "                'time_bin': time_steps\n",
    "            })\n",
    "\n",
    "            padding_dataframes.append(padding_df)\n",
    "\n",
    "        pad_df = pl.concat(padding_dataframes).lazy()\n",
    "        grp_df = pad_df.join(grp_binned.lazy(), on=['id', 'time_bin'], how='left')\n",
    "        grp_df = grp_df.sort([pl.col('id'), pl.col('time_bin')])\n",
    "        grp_df = grp_df.with_columns(pl.col('word_count').fill_null(strategy=\"forward\").over('id'))\n",
    "        data.append(grp_df.collect())\n",
    "\n",
    "    return data[0], data[1]\n",
    "\n",
    "t_logs, s_logs = down_time_padding(tr_logs, ts_logs, 10)"
   ]
  },
  {
   "cell_type": "code",
   "execution_count": null,
   "metadata": {},
   "outputs": [],
   "source": [
    "train_logs.filter(pl.col('ic')=='001519c8').collect().head()"
   ]
  },
  {
   "cell_type": "code",
   "execution_count": 7,
   "metadata": {},
   "outputs": [
    {
     "data": {
      "text/html": [
       "<div><style>\n",
       ".dataframe > thead > tr,\n",
       ".dataframe > tbody > tr {\n",
       "  text-align: right;\n",
       "  white-space: pre-wrap;\n",
       "}\n",
       "</style>\n",
       "<small>shape: (15, 11)</small><table border=\"1\" class=\"dataframe\"><thead><tr><th>id</th><th>event_id</th><th>action_time</th><th>activity</th><th>down_event</th><th>up_event</th><th>text_change</th><th>cursor_position</th><th>word_count</th><th>down_time</th><th>up_time</th></tr><tr><td>str</td><td>i64</td><td>i64</td><td>str</td><td>str</td><td>str</td><td>str</td><td>i64</td><td>i64</td><td>i64</td><td>i64</td></tr></thead><tbody><tr><td>&quot;001519c8&quot;</td><td>1</td><td>31</td><td>&quot;Nonproduction&quot;</td><td>&quot;Leftclick&quot;</td><td>&quot;Leftclick&quot;</td><td>&quot;NoChange&quot;</td><td>0</td><td>0</td><td>0</td><td>4588</td></tr><tr><td>&quot;001519c8&quot;</td><td>2</td><td>404</td><td>&quot;Nonproduction&quot;</td><td>&quot;Leftclick&quot;</td><td>&quot;Leftclick&quot;</td><td>&quot;NoChange&quot;</td><td>0</td><td>0</td><td>32</td><td>5366</td></tr><tr><td>&quot;001519c8&quot;</td><td>3</td><td>0</td><td>&quot;Nonproduction&quot;</td><td>&quot;Shift&quot;</td><td>&quot;Shift&quot;</td><td>&quot;NoChange&quot;</td><td>0</td><td>0</td><td>102045</td><td>106571</td></tr><tr><td>&quot;001519c8&quot;</td><td>4</td><td>91</td><td>&quot;Input&quot;</td><td>&quot;q&quot;</td><td>&quot;q&quot;</td><td>&quot;q&quot;</td><td>1</td><td>1</td><td>102160</td><td>106868</td></tr><tr><td>&quot;001519c8&quot;</td><td>5</td><td>127</td><td>&quot;Input&quot;</td><td>&quot;q&quot;</td><td>&quot;q&quot;</td><td>&quot;q&quot;</td><td>2</td><td>1</td><td>102670</td><td>107450</td></tr><tr><td>&quot;001519c8&quot;</td><td>6</td><td>104</td><td>&quot;Input&quot;</td><td>&quot;q&quot;</td><td>&quot;q&quot;</td><td>&quot;q&quot;</td><td>3</td><td>1</td><td>102770</td><td>107504</td></tr><tr><td>&quot;001519c8&quot;</td><td>7</td><td>127</td><td>&quot;Input&quot;</td><td>&quot;q&quot;</td><td>&quot;q&quot;</td><td>&quot;q&quot;</td><td>4</td><td>1</td><td>102943</td><td>107723</td></tr><tr><td>&quot;001519c8&quot;</td><td>8</td><td>107</td><td>&quot;Input&quot;</td><td>&quot;q&quot;</td><td>&quot;q&quot;</td><td>&quot;q&quot;</td><td>5</td><td>1</td><td>103133</td><td>107873</td></tr><tr><td>&quot;001519c8&quot;</td><td>9</td><td>109</td><td>&quot;Input&quot;</td><td>&quot;q&quot;</td><td>&quot;q&quot;</td><td>&quot;q&quot;</td><td>6</td><td>1</td><td>103217</td><td>107961</td></tr><tr><td>&quot;001519c8&quot;</td><td>10</td><td>138</td><td>&quot;Input&quot;</td><td>&quot;Space&quot;</td><td>&quot;Space&quot;</td><td>&quot; &quot;</td><td>7</td><td>1</td><td>103314</td><td>108116</td></tr><tr><td>&quot;001519c8&quot;</td><td>11</td><td>187</td><td>&quot;Input&quot;</td><td>&quot;q&quot;</td><td>&quot;q&quot;</td><td>&quot;q&quot;</td><td>8</td><td>2</td><td>103482</td><td>108382</td></tr><tr><td>&quot;001519c8&quot;</td><td>12</td><td>155</td><td>&quot;Input&quot;</td><td>&quot;q&quot;</td><td>&quot;q&quot;</td><td>&quot;q&quot;</td><td>9</td><td>2</td><td>103578</td><td>108414</td></tr><tr><td>&quot;001519c8&quot;</td><td>13</td><td>141</td><td>&quot;Input&quot;</td><td>&quot;q&quot;</td><td>&quot;q&quot;</td><td>&quot;q&quot;</td><td>10</td><td>2</td><td>103703</td><td>108511</td></tr><tr><td>&quot;001519c8&quot;</td><td>14</td><td>145</td><td>&quot;Input&quot;</td><td>&quot;Space&quot;</td><td>&quot;Space&quot;</td><td>&quot; &quot;</td><td>11</td><td>2</td><td>103815</td><td>108631</td></tr><tr><td>&quot;001519c8&quot;</td><td>15</td><td>142</td><td>&quot;Input&quot;</td><td>&quot;q&quot;</td><td>&quot;q&quot;</td><td>&quot;q&quot;</td><td>12</td><td>3</td><td>104770</td><td>109580</td></tr></tbody></table></div>"
      ],
      "text/plain": [
       "shape: (15, 11)\n",
       "┌──────────┬──────────┬────────────┬────────────┬───┬────────────┬───────────┬───────────┬─────────┐\n",
       "│ id       ┆ event_id ┆ action_tim ┆ activity   ┆ … ┆ cursor_pos ┆ word_coun ┆ down_time ┆ up_time │\n",
       "│ ---      ┆ ---      ┆ e          ┆ ---        ┆   ┆ ition      ┆ t         ┆ ---       ┆ ---     │\n",
       "│ str      ┆ i64      ┆ ---        ┆ str        ┆   ┆ ---        ┆ ---       ┆ i64       ┆ i64     │\n",
       "│          ┆          ┆ i64        ┆            ┆   ┆ i64        ┆ i64       ┆           ┆         │\n",
       "╞══════════╪══════════╪════════════╪════════════╪═══╪════════════╪═══════════╪═══════════╪═════════╡\n",
       "│ 001519c8 ┆ 1        ┆ 31         ┆ Nonproduct ┆ … ┆ 0          ┆ 0         ┆ 0         ┆ 4588    │\n",
       "│          ┆          ┆            ┆ ion        ┆   ┆            ┆           ┆           ┆         │\n",
       "│ 001519c8 ┆ 2        ┆ 404        ┆ Nonproduct ┆ … ┆ 0          ┆ 0         ┆ 32        ┆ 5366    │\n",
       "│          ┆          ┆            ┆ ion        ┆   ┆            ┆           ┆           ┆         │\n",
       "│ 001519c8 ┆ 3        ┆ 0          ┆ Nonproduct ┆ … ┆ 0          ┆ 0         ┆ 102045    ┆ 106571  │\n",
       "│          ┆          ┆            ┆ ion        ┆   ┆            ┆           ┆           ┆         │\n",
       "│ 001519c8 ┆ 4        ┆ 91         ┆ Input      ┆ … ┆ 1          ┆ 1         ┆ 102160    ┆ 106868  │\n",
       "│ …        ┆ …        ┆ …          ┆ …          ┆ … ┆ …          ┆ …         ┆ …         ┆ …       │\n",
       "│ 001519c8 ┆ 12       ┆ 155        ┆ Input      ┆ … ┆ 9          ┆ 2         ┆ 103578    ┆ 108414  │\n",
       "│ 001519c8 ┆ 13       ┆ 141        ┆ Input      ┆ … ┆ 10         ┆ 2         ┆ 103703    ┆ 108511  │\n",
       "│ 001519c8 ┆ 14       ┆ 145        ┆ Input      ┆ … ┆ 11         ┆ 2         ┆ 103815    ┆ 108631  │\n",
       "│ 001519c8 ┆ 15       ┆ 142        ┆ Input      ┆ … ┆ 12         ┆ 3         ┆ 104770    ┆ 109580  │\n",
       "└──────────┴──────────┴────────────┴────────────┴───┴────────────┴───────────┴───────────┴─────────┘"
      ]
     },
     "execution_count": 7,
     "metadata": {},
     "output_type": "execute_result"
    }
   ],
   "source": [
    "tr_logs.head(15).collect()"
   ]
  },
  {
   "cell_type": "code",
   "execution_count": 6,
   "metadata": {},
   "outputs": [],
   "source": [
    "time_agg = 10\n",
    "logs_binned = tr_logs.clone()\n",
    "logs_binned = logs_binned.with_columns((pl.col('down_time') / 1000).alias('down_time_sec'))\n",
    "logs_binned = logs_binned.with_columns(((pl.col('down_time_sec') // time_agg) * time_agg).alias('time_bin'))\n",
    "\n",
    "grp_binned = logs_binned.group_by(['id', 'time_bin']).agg(pl.max('word_count'))\n",
    "grp_binned = grp_binned.with_columns(pl.col('time_bin').cast(pl.Int64))\n",
    "grp_binned = grp_binned.sort([pl.col('id'), pl.col('time_bin')])\n",
    "\n",
    "# get max down_time value from logs\n",
    "max_logs = tr_logs.clone()\n",
    "max_down_time = max_logs.group_by(['id']).agg(pl.max('down_time') / 1000)\n",
    "max_down_time = max_down_time.with_columns([pl.col('down_time').cast(pl.Int64)])\n",
    "\n",
    "padding_dataframes = []\n",
    "max_down_time = max_down_time.collect()\n",
    "\n",
    "# Iterate over each row in max_down_time_df\n",
    "for row in max_down_time.rows():\n",
    "    id_value, max_time_value = row[0], row[1]  # Access by index\n",
    "\n",
    "    # Generate time steps\n",
    "    time_steps = list(range(0, max_time_value + time_agg, time_agg))\n",
    "\n",
    "    # Create padding DataFrame with the correct types\n",
    "    padding_df = pl.DataFrame({\n",
    "        'id': [str(id_value)] * len(time_steps),\n",
    "        'time_bin': time_steps\n",
    "    })\n",
    "\n",
    "    padding_dataframes.append(padding_df)\n",
    "    pad_df = pl.concat(padding_dataframes).lazy()"
   ]
  },
  {
   "cell_type": "code",
   "execution_count": null,
   "metadata": {},
   "outputs": [],
   "source": [
    "pad_df = pl.concat(padding_dataframes).lazy()\n",
    "grp_df = pad_df.join(grp_binned.lazy(), on=['id', 'time_bin'], how='left')\n",
    "grp_df = grp_df.sort([pl.col('id'), pl.col('time_bin')])\n",
    "grp_df = grp_df.with_columns(pl.col('word_count').fill_null(strategy=\"forward\").over('id'))"
   ]
  },
  {
   "cell_type": "code",
   "execution_count": 7,
   "metadata": {},
   "outputs": [],
   "source": [
    "x = pad_df.filter(pl.col('id')=='fff05981')"
   ]
  },
  {
   "cell_type": "code",
   "execution_count": 8,
   "metadata": {},
   "outputs": [],
   "source": [
    "y = grp_binned.filter(pl.col('id')=='fff05981')"
   ]
  },
  {
   "cell_type": "code",
   "execution_count": 9,
   "metadata": {},
   "outputs": [
    {
     "data": {
      "text/html": [
       "<div><style>\n",
       ".dataframe > thead > tr,\n",
       ".dataframe > tbody > tr {\n",
       "  text-align: right;\n",
       "  white-space: pre-wrap;\n",
       "}\n",
       "</style>\n",
       "<small>shape: (5, 13)</small><table border=\"1\" class=\"dataframe\"><thead><tr><th>id</th><th>event_id</th><th>action_time</th><th>activity</th><th>down_event</th><th>up_event</th><th>text_change</th><th>cursor_position</th><th>word_count</th><th>down_time</th><th>up_time</th><th>down_time_sec</th><th>time_bin</th></tr><tr><td>str</td><td>i64</td><td>i64</td><td>str</td><td>str</td><td>str</td><td>str</td><td>i64</td><td>i64</td><td>i64</td><td>i64</td><td>f64</td><td>f64</td></tr></thead><tbody><tr><td>&quot;001519c8&quot;</td><td>1</td><td>31</td><td>&quot;Nonproduction&quot;</td><td>&quot;Leftclick&quot;</td><td>&quot;Leftclick&quot;</td><td>&quot;NoChange&quot;</td><td>0</td><td>0</td><td>0</td><td>4588</td><td>0.0</td><td>0.0</td></tr><tr><td>&quot;001519c8&quot;</td><td>2</td><td>404</td><td>&quot;Nonproduction&quot;</td><td>&quot;Leftclick&quot;</td><td>&quot;Leftclick&quot;</td><td>&quot;NoChange&quot;</td><td>0</td><td>0</td><td>32</td><td>5366</td><td>0.032</td><td>0.0</td></tr><tr><td>&quot;001519c8&quot;</td><td>3</td><td>0</td><td>&quot;Nonproduction&quot;</td><td>&quot;Shift&quot;</td><td>&quot;Shift&quot;</td><td>&quot;NoChange&quot;</td><td>0</td><td>0</td><td>102045</td><td>106571</td><td>102.045</td><td>100.0</td></tr><tr><td>&quot;001519c8&quot;</td><td>4</td><td>91</td><td>&quot;Input&quot;</td><td>&quot;q&quot;</td><td>&quot;q&quot;</td><td>&quot;q&quot;</td><td>1</td><td>1</td><td>102160</td><td>106868</td><td>102.16</td><td>100.0</td></tr><tr><td>&quot;001519c8&quot;</td><td>5</td><td>127</td><td>&quot;Input&quot;</td><td>&quot;q&quot;</td><td>&quot;q&quot;</td><td>&quot;q&quot;</td><td>2</td><td>1</td><td>102670</td><td>107450</td><td>102.67</td><td>100.0</td></tr></tbody></table></div>"
      ],
      "text/plain": [
       "shape: (5, 13)\n",
       "┌──────────┬──────────┬─────────────┬────────────┬───┬───────────┬─────────┬────────────┬──────────┐\n",
       "│ id       ┆ event_id ┆ action_time ┆ activity   ┆ … ┆ down_time ┆ up_time ┆ down_time_ ┆ time_bin │\n",
       "│ ---      ┆ ---      ┆ ---         ┆ ---        ┆   ┆ ---       ┆ ---     ┆ sec        ┆ ---      │\n",
       "│ str      ┆ i64      ┆ i64         ┆ str        ┆   ┆ i64       ┆ i64     ┆ ---        ┆ f64      │\n",
       "│          ┆          ┆             ┆            ┆   ┆           ┆         ┆ f64        ┆          │\n",
       "╞══════════╪══════════╪═════════════╪════════════╪═══╪═══════════╪═════════╪════════════╪══════════╡\n",
       "│ 001519c8 ┆ 1        ┆ 31          ┆ Nonproduct ┆ … ┆ 0         ┆ 4588    ┆ 0.0        ┆ 0.0      │\n",
       "│          ┆          ┆             ┆ ion        ┆   ┆           ┆         ┆            ┆          │\n",
       "│ 001519c8 ┆ 2        ┆ 404         ┆ Nonproduct ┆ … ┆ 32        ┆ 5366    ┆ 0.032      ┆ 0.0      │\n",
       "│          ┆          ┆             ┆ ion        ┆   ┆           ┆         ┆            ┆          │\n",
       "│ 001519c8 ┆ 3        ┆ 0           ┆ Nonproduct ┆ … ┆ 102045    ┆ 106571  ┆ 102.045    ┆ 100.0    │\n",
       "│          ┆          ┆             ┆ ion        ┆   ┆           ┆         ┆            ┆          │\n",
       "│ 001519c8 ┆ 4        ┆ 91          ┆ Input      ┆ … ┆ 102160    ┆ 106868  ┆ 102.16     ┆ 100.0    │\n",
       "│ 001519c8 ┆ 5        ┆ 127         ┆ Input      ┆ … ┆ 102670    ┆ 107450  ┆ 102.67     ┆ 100.0    │\n",
       "└──────────┴──────────┴─────────────┴────────────┴───┴───────────┴─────────┴────────────┴──────────┘"
      ]
     },
     "execution_count": 9,
     "metadata": {},
     "output_type": "execute_result"
    }
   ],
   "source": [
    "logs_binned.collect().head()"
   ]
  },
  {
   "cell_type": "code",
   "execution_count": 10,
   "metadata": {},
   "outputs": [
    {
     "data": {
      "text/html": [
       "<div><style>\n",
       ".dataframe > thead > tr,\n",
       ".dataframe > tbody > tr {\n",
       "  text-align: right;\n",
       "  white-space: pre-wrap;\n",
       "}\n",
       "</style>\n",
       "<small>shape: (5, 3)</small><table border=\"1\" class=\"dataframe\"><thead><tr><th>id</th><th>time_bin</th><th>word_count</th></tr><tr><td>str</td><td>i64</td><td>i64</td></tr></thead><tbody><tr><td>&quot;fff05981&quot;</td><td>0</td><td>0</td></tr><tr><td>&quot;fff05981&quot;</td><td>10</td><td>0</td></tr><tr><td>&quot;fff05981&quot;</td><td>30</td><td>3</td></tr><tr><td>&quot;fff05981&quot;</td><td>40</td><td>5</td></tr><tr><td>&quot;fff05981&quot;</td><td>50</td><td>5</td></tr></tbody></table></div>"
      ],
      "text/plain": [
       "shape: (5, 3)\n",
       "┌──────────┬──────────┬────────────┐\n",
       "│ id       ┆ time_bin ┆ word_count │\n",
       "│ ---      ┆ ---      ┆ ---        │\n",
       "│ str      ┆ i64      ┆ i64        │\n",
       "╞══════════╪══════════╪════════════╡\n",
       "│ fff05981 ┆ 0        ┆ 0          │\n",
       "│ fff05981 ┆ 10       ┆ 0          │\n",
       "│ fff05981 ┆ 30       ┆ 3          │\n",
       "│ fff05981 ┆ 40       ┆ 5          │\n",
       "│ fff05981 ┆ 50       ┆ 5          │\n",
       "└──────────┴──────────┴────────────┘"
      ]
     },
     "execution_count": 10,
     "metadata": {},
     "output_type": "execute_result"
    }
   ],
   "source": [
    "y.collect().head()"
   ]
  },
  {
   "cell_type": "code",
   "execution_count": 11,
   "metadata": {},
   "outputs": [
    {
     "data": {
      "text/html": [
       "<div><style>\n",
       ".dataframe > thead > tr,\n",
       ".dataframe > tbody > tr {\n",
       "  text-align: right;\n",
       "  white-space: pre-wrap;\n",
       "}\n",
       "</style>\n",
       "<small>shape: (5, 2)</small><table border=\"1\" class=\"dataframe\"><thead><tr><th>id</th><th>time_bin</th></tr><tr><td>str</td><td>i64</td></tr></thead><tbody><tr><td>&quot;fff05981&quot;</td><td>0</td></tr><tr><td>&quot;fff05981&quot;</td><td>10</td></tr><tr><td>&quot;fff05981&quot;</td><td>20</td></tr><tr><td>&quot;fff05981&quot;</td><td>30</td></tr><tr><td>&quot;fff05981&quot;</td><td>40</td></tr></tbody></table></div>"
      ],
      "text/plain": [
       "shape: (5, 2)\n",
       "┌──────────┬──────────┐\n",
       "│ id       ┆ time_bin │\n",
       "│ ---      ┆ ---      │\n",
       "│ str      ┆ i64      │\n",
       "╞══════════╪══════════╡\n",
       "│ fff05981 ┆ 0        │\n",
       "│ fff05981 ┆ 10       │\n",
       "│ fff05981 ┆ 20       │\n",
       "│ fff05981 ┆ 30       │\n",
       "│ fff05981 ┆ 40       │\n",
       "└──────────┴──────────┘"
      ]
     },
     "execution_count": 11,
     "metadata": {},
     "output_type": "execute_result"
    }
   ],
   "source": [
    "x.collect().head()"
   ]
  },
  {
   "cell_type": "code",
   "execution_count": 12,
   "metadata": {},
   "outputs": [],
   "source": [
    "z = x.join(y, on=['id', 'time_bin'], how='left')"
   ]
  },
  {
   "cell_type": "code",
   "execution_count": 13,
   "metadata": {},
   "outputs": [
    {
     "data": {
      "text/html": [
       "<div><style>\n",
       ".dataframe > thead > tr,\n",
       ".dataframe > tbody > tr {\n",
       "  text-align: right;\n",
       "  white-space: pre-wrap;\n",
       "}\n",
       "</style>\n",
       "<small>shape: (5, 3)</small><table border=\"1\" class=\"dataframe\"><thead><tr><th>id</th><th>time_bin</th><th>word_count</th></tr><tr><td>str</td><td>i64</td><td>i64</td></tr></thead><tbody><tr><td>&quot;fff05981&quot;</td><td>0</td><td>0</td></tr><tr><td>&quot;fff05981&quot;</td><td>10</td><td>0</td></tr><tr><td>&quot;fff05981&quot;</td><td>20</td><td>null</td></tr><tr><td>&quot;fff05981&quot;</td><td>30</td><td>3</td></tr><tr><td>&quot;fff05981&quot;</td><td>40</td><td>5</td></tr></tbody></table></div>"
      ],
      "text/plain": [
       "shape: (5, 3)\n",
       "┌──────────┬──────────┬────────────┐\n",
       "│ id       ┆ time_bin ┆ word_count │\n",
       "│ ---      ┆ ---      ┆ ---        │\n",
       "│ str      ┆ i64      ┆ i64        │\n",
       "╞══════════╪══════════╪════════════╡\n",
       "│ fff05981 ┆ 0        ┆ 0          │\n",
       "│ fff05981 ┆ 10       ┆ 0          │\n",
       "│ fff05981 ┆ 20       ┆ null       │\n",
       "│ fff05981 ┆ 30       ┆ 3          │\n",
       "│ fff05981 ┆ 40       ┆ 5          │\n",
       "└──────────┴──────────┴────────────┘"
      ]
     },
     "execution_count": 13,
     "metadata": {},
     "output_type": "execute_result"
    }
   ],
   "source": [
    "z.collect().head()"
   ]
  },
  {
   "cell_type": "code",
   "execution_count": 12,
   "metadata": {},
   "outputs": [
    {
     "data": {
      "text/html": [
       "<div><style>\n",
       ".dataframe > thead > tr,\n",
       ".dataframe > tbody > tr {\n",
       "  text-align: right;\n",
       "  white-space: pre-wrap;\n",
       "}\n",
       "</style>\n",
       "<small>shape: (16, 3)</small><table border=\"1\" class=\"dataframe\"><thead><tr><th>id</th><th>time_bin</th><th>word_count</th></tr><tr><td>str</td><td>i64</td><td>i64</td></tr></thead><tbody><tr><td>&quot;001519c8&quot;</td><td>0</td><td>0</td></tr><tr><td>&quot;001519c8&quot;</td><td>10</td><td>0</td></tr><tr><td>&quot;001519c8&quot;</td><td>20</td><td>0</td></tr><tr><td>&quot;001519c8&quot;</td><td>30</td><td>0</td></tr><tr><td>&quot;001519c8&quot;</td><td>40</td><td>0</td></tr><tr><td>&quot;001519c8&quot;</td><td>50</td><td>0</td></tr><tr><td>&quot;001519c8&quot;</td><td>60</td><td>0</td></tr><tr><td>&quot;001519c8&quot;</td><td>70</td><td>0</td></tr><tr><td>&quot;001519c8&quot;</td><td>80</td><td>0</td></tr><tr><td>&quot;001519c8&quot;</td><td>90</td><td>0</td></tr><tr><td>&quot;001519c8&quot;</td><td>100</td><td>8</td></tr><tr><td>&quot;001519c8&quot;</td><td>110</td><td>12</td></tr><tr><td>&quot;001519c8&quot;</td><td>120</td><td>12</td></tr><tr><td>&quot;001519c8&quot;</td><td>130</td><td>12</td></tr><tr><td>&quot;001519c8&quot;</td><td>140</td><td>12</td></tr><tr><td>&quot;001519c8&quot;</td><td>150</td><td>15</td></tr></tbody></table></div>"
      ],
      "text/plain": [
       "shape: (16, 3)\n",
       "┌──────────┬──────────┬────────────┐\n",
       "│ id       ┆ time_bin ┆ word_count │\n",
       "│ ---      ┆ ---      ┆ ---        │\n",
       "│ str      ┆ i64      ┆ i64        │\n",
       "╞══════════╪══════════╪════════════╡\n",
       "│ 001519c8 ┆ 0        ┆ 0          │\n",
       "│ 001519c8 ┆ 10       ┆ 0          │\n",
       "│ 001519c8 ┆ 20       ┆ 0          │\n",
       "│ 001519c8 ┆ 30       ┆ 0          │\n",
       "│ …        ┆ …        ┆ …          │\n",
       "│ 001519c8 ┆ 120      ┆ 12         │\n",
       "│ 001519c8 ┆ 130      ┆ 12         │\n",
       "│ 001519c8 ┆ 140      ┆ 12         │\n",
       "│ 001519c8 ┆ 150      ┆ 15         │\n",
       "└──────────┴──────────┴────────────┘"
      ]
     },
     "execution_count": 12,
     "metadata": {},
     "output_type": "execute_result"
    }
   ],
   "source": [
    "t_logs.filter(pl.col('id')=='001519c8').head(16)"
   ]
  },
  {
   "cell_type": "code",
   "execution_count": 13,
   "metadata": {},
   "outputs": [
    {
     "data": {
      "text/html": [
       "<div><style>\n",
       ".dataframe > thead > tr,\n",
       ".dataframe > tbody > tr {\n",
       "  text-align: right;\n",
       "  white-space: pre-wrap;\n",
       "}\n",
       "</style>\n",
       "<small>shape: (16, 11)</small><table border=\"1\" class=\"dataframe\"><thead><tr><th>id</th><th>event_id</th><th>action_time</th><th>activity</th><th>down_event</th><th>up_event</th><th>text_change</th><th>cursor_position</th><th>word_count</th><th>down_time</th><th>up_time</th></tr><tr><td>str</td><td>i64</td><td>i64</td><td>str</td><td>str</td><td>str</td><td>str</td><td>i64</td><td>i64</td><td>i64</td><td>i64</td></tr></thead><tbody><tr><td>&quot;001519c8&quot;</td><td>1</td><td>31</td><td>&quot;Nonproduction&quot;</td><td>&quot;Leftclick&quot;</td><td>&quot;Leftclick&quot;</td><td>&quot;NoChange&quot;</td><td>0</td><td>0</td><td>0</td><td>4588</td></tr><tr><td>&quot;001519c8&quot;</td><td>2</td><td>404</td><td>&quot;Nonproduction&quot;</td><td>&quot;Leftclick&quot;</td><td>&quot;Leftclick&quot;</td><td>&quot;NoChange&quot;</td><td>0</td><td>0</td><td>32</td><td>5366</td></tr><tr><td>&quot;001519c8&quot;</td><td>3</td><td>0</td><td>&quot;Nonproduction&quot;</td><td>&quot;Shift&quot;</td><td>&quot;Shift&quot;</td><td>&quot;NoChange&quot;</td><td>0</td><td>0</td><td>102045</td><td>106571</td></tr><tr><td>&quot;001519c8&quot;</td><td>4</td><td>91</td><td>&quot;Input&quot;</td><td>&quot;q&quot;</td><td>&quot;q&quot;</td><td>&quot;q&quot;</td><td>1</td><td>1</td><td>102160</td><td>106868</td></tr><tr><td>&quot;001519c8&quot;</td><td>5</td><td>127</td><td>&quot;Input&quot;</td><td>&quot;q&quot;</td><td>&quot;q&quot;</td><td>&quot;q&quot;</td><td>2</td><td>1</td><td>102670</td><td>107450</td></tr><tr><td>&quot;001519c8&quot;</td><td>6</td><td>104</td><td>&quot;Input&quot;</td><td>&quot;q&quot;</td><td>&quot;q&quot;</td><td>&quot;q&quot;</td><td>3</td><td>1</td><td>102770</td><td>107504</td></tr><tr><td>&quot;001519c8&quot;</td><td>7</td><td>127</td><td>&quot;Input&quot;</td><td>&quot;q&quot;</td><td>&quot;q&quot;</td><td>&quot;q&quot;</td><td>4</td><td>1</td><td>102943</td><td>107723</td></tr><tr><td>&quot;001519c8&quot;</td><td>8</td><td>107</td><td>&quot;Input&quot;</td><td>&quot;q&quot;</td><td>&quot;q&quot;</td><td>&quot;q&quot;</td><td>5</td><td>1</td><td>103133</td><td>107873</td></tr><tr><td>&quot;001519c8&quot;</td><td>9</td><td>109</td><td>&quot;Input&quot;</td><td>&quot;q&quot;</td><td>&quot;q&quot;</td><td>&quot;q&quot;</td><td>6</td><td>1</td><td>103217</td><td>107961</td></tr><tr><td>&quot;001519c8&quot;</td><td>10</td><td>138</td><td>&quot;Input&quot;</td><td>&quot;Space&quot;</td><td>&quot;Space&quot;</td><td>&quot; &quot;</td><td>7</td><td>1</td><td>103314</td><td>108116</td></tr><tr><td>&quot;001519c8&quot;</td><td>11</td><td>187</td><td>&quot;Input&quot;</td><td>&quot;q&quot;</td><td>&quot;q&quot;</td><td>&quot;q&quot;</td><td>8</td><td>2</td><td>103482</td><td>108382</td></tr><tr><td>&quot;001519c8&quot;</td><td>12</td><td>155</td><td>&quot;Input&quot;</td><td>&quot;q&quot;</td><td>&quot;q&quot;</td><td>&quot;q&quot;</td><td>9</td><td>2</td><td>103578</td><td>108414</td></tr><tr><td>&quot;001519c8&quot;</td><td>13</td><td>141</td><td>&quot;Input&quot;</td><td>&quot;q&quot;</td><td>&quot;q&quot;</td><td>&quot;q&quot;</td><td>10</td><td>2</td><td>103703</td><td>108511</td></tr><tr><td>&quot;001519c8&quot;</td><td>14</td><td>145</td><td>&quot;Input&quot;</td><td>&quot;Space&quot;</td><td>&quot;Space&quot;</td><td>&quot; &quot;</td><td>11</td><td>2</td><td>103815</td><td>108631</td></tr><tr><td>&quot;001519c8&quot;</td><td>15</td><td>142</td><td>&quot;Input&quot;</td><td>&quot;q&quot;</td><td>&quot;q&quot;</td><td>&quot;q&quot;</td><td>12</td><td>3</td><td>104770</td><td>109580</td></tr><tr><td>&quot;001519c8&quot;</td><td>16</td><td>136</td><td>&quot;Input&quot;</td><td>&quot;q&quot;</td><td>&quot;q&quot;</td><td>&quot;q&quot;</td><td>13</td><td>3</td><td>104897</td><td>109695</td></tr></tbody></table></div>"
      ],
      "text/plain": [
       "shape: (16, 11)\n",
       "┌──────────┬──────────┬────────────┬────────────┬───┬────────────┬───────────┬───────────┬─────────┐\n",
       "│ id       ┆ event_id ┆ action_tim ┆ activity   ┆ … ┆ cursor_pos ┆ word_coun ┆ down_time ┆ up_time │\n",
       "│ ---      ┆ ---      ┆ e          ┆ ---        ┆   ┆ ition      ┆ t         ┆ ---       ┆ ---     │\n",
       "│ str      ┆ i64      ┆ ---        ┆ str        ┆   ┆ ---        ┆ ---       ┆ i64       ┆ i64     │\n",
       "│          ┆          ┆ i64        ┆            ┆   ┆ i64        ┆ i64       ┆           ┆         │\n",
       "╞══════════╪══════════╪════════════╪════════════╪═══╪════════════╪═══════════╪═══════════╪═════════╡\n",
       "│ 001519c8 ┆ 1        ┆ 31         ┆ Nonproduct ┆ … ┆ 0          ┆ 0         ┆ 0         ┆ 4588    │\n",
       "│          ┆          ┆            ┆ ion        ┆   ┆            ┆           ┆           ┆         │\n",
       "│ 001519c8 ┆ 2        ┆ 404        ┆ Nonproduct ┆ … ┆ 0          ┆ 0         ┆ 32        ┆ 5366    │\n",
       "│          ┆          ┆            ┆ ion        ┆   ┆            ┆           ┆           ┆         │\n",
       "│ 001519c8 ┆ 3        ┆ 0          ┆ Nonproduct ┆ … ┆ 0          ┆ 0         ┆ 102045    ┆ 106571  │\n",
       "│          ┆          ┆            ┆ ion        ┆   ┆            ┆           ┆           ┆         │\n",
       "│ 001519c8 ┆ 4        ┆ 91         ┆ Input      ┆ … ┆ 1          ┆ 1         ┆ 102160    ┆ 106868  │\n",
       "│ …        ┆ …        ┆ …          ┆ …          ┆ … ┆ …          ┆ …         ┆ …         ┆ …       │\n",
       "│ 001519c8 ┆ 13       ┆ 141        ┆ Input      ┆ … ┆ 10         ┆ 2         ┆ 103703    ┆ 108511  │\n",
       "│ 001519c8 ┆ 14       ┆ 145        ┆ Input      ┆ … ┆ 11         ┆ 2         ┆ 103815    ┆ 108631  │\n",
       "│ 001519c8 ┆ 15       ┆ 142        ┆ Input      ┆ … ┆ 12         ┆ 3         ┆ 104770    ┆ 109580  │\n",
       "│ 001519c8 ┆ 16       ┆ 136        ┆ Input      ┆ … ┆ 13         ┆ 3         ┆ 104897    ┆ 109695  │\n",
       "└──────────┴──────────┴────────────┴────────────┴───┴────────────┴───────────┴───────────┴─────────┘"
      ]
     },
     "execution_count": 13,
     "metadata": {},
     "output_type": "execute_result"
    }
   ],
   "source": [
    "tr_logs.filter(pl.col('id')=='001519c8').head(16).collect()"
   ]
  },
  {
   "cell_type": "code",
   "execution_count": 14,
   "metadata": {},
   "outputs": [
    {
     "data": {
      "text/html": [
       "<div><style>\n",
       ".dataframe > thead > tr,\n",
       ".dataframe > tbody > tr {\n",
       "  text-align: right;\n",
       "  white-space: pre-wrap;\n",
       "}\n",
       "</style>\n",
       "<small>shape: (16, 11)</small><table border=\"1\" class=\"dataframe\"><thead><tr><th>id</th><th>event_id</th><th>down_time</th><th>up_time</th><th>action_time</th><th>activity</th><th>down_event</th><th>up_event</th><th>text_change</th><th>cursor_position</th><th>word_count</th></tr><tr><td>str</td><td>i64</td><td>i64</td><td>i64</td><td>i64</td><td>str</td><td>str</td><td>str</td><td>str</td><td>i64</td><td>i64</td></tr></thead><tbody><tr><td>&quot;001519c8&quot;</td><td>1</td><td>4526</td><td>4557</td><td>31</td><td>&quot;Nonproduction&quot;</td><td>&quot;Leftclick&quot;</td><td>&quot;Leftclick&quot;</td><td>&quot;NoChange&quot;</td><td>0</td><td>0</td></tr><tr><td>&quot;001519c8&quot;</td><td>2</td><td>4558</td><td>4962</td><td>404</td><td>&quot;Nonproduction&quot;</td><td>&quot;Leftclick&quot;</td><td>&quot;Leftclick&quot;</td><td>&quot;NoChange&quot;</td><td>0</td><td>0</td></tr><tr><td>&quot;001519c8&quot;</td><td>3</td><td>106571</td><td>106571</td><td>0</td><td>&quot;Nonproduction&quot;</td><td>&quot;Shift&quot;</td><td>&quot;Shift&quot;</td><td>&quot;NoChange&quot;</td><td>0</td><td>0</td></tr><tr><td>&quot;001519c8&quot;</td><td>4</td><td>106686</td><td>106777</td><td>91</td><td>&quot;Input&quot;</td><td>&quot;q&quot;</td><td>&quot;q&quot;</td><td>&quot;q&quot;</td><td>1</td><td>1</td></tr><tr><td>&quot;001519c8&quot;</td><td>5</td><td>107196</td><td>107323</td><td>127</td><td>&quot;Input&quot;</td><td>&quot;q&quot;</td><td>&quot;q&quot;</td><td>&quot;q&quot;</td><td>2</td><td>1</td></tr><tr><td>&quot;001519c8&quot;</td><td>6</td><td>107296</td><td>107400</td><td>104</td><td>&quot;Input&quot;</td><td>&quot;q&quot;</td><td>&quot;q&quot;</td><td>&quot;q&quot;</td><td>3</td><td>1</td></tr><tr><td>&quot;001519c8&quot;</td><td>7</td><td>107469</td><td>107596</td><td>127</td><td>&quot;Input&quot;</td><td>&quot;q&quot;</td><td>&quot;q&quot;</td><td>&quot;q&quot;</td><td>4</td><td>1</td></tr><tr><td>&quot;001519c8&quot;</td><td>8</td><td>107659</td><td>107766</td><td>107</td><td>&quot;Input&quot;</td><td>&quot;q&quot;</td><td>&quot;q&quot;</td><td>&quot;q&quot;</td><td>5</td><td>1</td></tr><tr><td>&quot;001519c8&quot;</td><td>9</td><td>107743</td><td>107852</td><td>109</td><td>&quot;Input&quot;</td><td>&quot;q&quot;</td><td>&quot;q&quot;</td><td>&quot;q&quot;</td><td>6</td><td>1</td></tr><tr><td>&quot;001519c8&quot;</td><td>10</td><td>107840</td><td>107978</td><td>138</td><td>&quot;Input&quot;</td><td>&quot;Space&quot;</td><td>&quot;Space&quot;</td><td>&quot; &quot;</td><td>7</td><td>1</td></tr><tr><td>&quot;001519c8&quot;</td><td>11</td><td>108008</td><td>108195</td><td>187</td><td>&quot;Input&quot;</td><td>&quot;q&quot;</td><td>&quot;q&quot;</td><td>&quot;q&quot;</td><td>8</td><td>2</td></tr><tr><td>&quot;001519c8&quot;</td><td>12</td><td>108104</td><td>108259</td><td>155</td><td>&quot;Input&quot;</td><td>&quot;q&quot;</td><td>&quot;q&quot;</td><td>&quot;q&quot;</td><td>9</td><td>2</td></tr><tr><td>&quot;001519c8&quot;</td><td>13</td><td>108229</td><td>108370</td><td>141</td><td>&quot;Input&quot;</td><td>&quot;q&quot;</td><td>&quot;q&quot;</td><td>&quot;q&quot;</td><td>10</td><td>2</td></tr><tr><td>&quot;001519c8&quot;</td><td>14</td><td>108341</td><td>108486</td><td>145</td><td>&quot;Input&quot;</td><td>&quot;Space&quot;</td><td>&quot;Space&quot;</td><td>&quot; &quot;</td><td>11</td><td>2</td></tr><tr><td>&quot;001519c8&quot;</td><td>15</td><td>109296</td><td>109438</td><td>142</td><td>&quot;Input&quot;</td><td>&quot;q&quot;</td><td>&quot;q&quot;</td><td>&quot;q&quot;</td><td>12</td><td>3</td></tr><tr><td>&quot;001519c8&quot;</td><td>16</td><td>109423</td><td>109559</td><td>136</td><td>&quot;Input&quot;</td><td>&quot;q&quot;</td><td>&quot;q&quot;</td><td>&quot;q&quot;</td><td>13</td><td>3</td></tr></tbody></table></div>"
      ],
      "text/plain": [
       "shape: (16, 11)\n",
       "┌──────────┬──────────┬───────────┬─────────┬───┬───────────┬────────────┬────────────┬────────────┐\n",
       "│ id       ┆ event_id ┆ down_time ┆ up_time ┆ … ┆ up_event  ┆ text_chang ┆ cursor_pos ┆ word_count │\n",
       "│ ---      ┆ ---      ┆ ---       ┆ ---     ┆   ┆ ---       ┆ e          ┆ ition      ┆ ---        │\n",
       "│ str      ┆ i64      ┆ i64       ┆ i64     ┆   ┆ str       ┆ ---        ┆ ---        ┆ i64        │\n",
       "│          ┆          ┆           ┆         ┆   ┆           ┆ str        ┆ i64        ┆            │\n",
       "╞══════════╪══════════╪═══════════╪═════════╪═══╪═══════════╪════════════╪════════════╪════════════╡\n",
       "│ 001519c8 ┆ 1        ┆ 4526      ┆ 4557    ┆ … ┆ Leftclick ┆ NoChange   ┆ 0          ┆ 0          │\n",
       "│ 001519c8 ┆ 2        ┆ 4558      ┆ 4962    ┆ … ┆ Leftclick ┆ NoChange   ┆ 0          ┆ 0          │\n",
       "│ 001519c8 ┆ 3        ┆ 106571    ┆ 106571  ┆ … ┆ Shift     ┆ NoChange   ┆ 0          ┆ 0          │\n",
       "│ 001519c8 ┆ 4        ┆ 106686    ┆ 106777  ┆ … ┆ q         ┆ q          ┆ 1          ┆ 1          │\n",
       "│ …        ┆ …        ┆ …         ┆ …       ┆ … ┆ …         ┆ …          ┆ …          ┆ …          │\n",
       "│ 001519c8 ┆ 13       ┆ 108229    ┆ 108370  ┆ … ┆ q         ┆ q          ┆ 10         ┆ 2          │\n",
       "│ 001519c8 ┆ 14       ┆ 108341    ┆ 108486  ┆ … ┆ Space     ┆            ┆ 11         ┆ 2          │\n",
       "│ 001519c8 ┆ 15       ┆ 109296    ┆ 109438  ┆ … ┆ q         ┆ q          ┆ 12         ┆ 3          │\n",
       "│ 001519c8 ┆ 16       ┆ 109423    ┆ 109559  ┆ … ┆ q         ┆ q          ┆ 13         ┆ 3          │\n",
       "└──────────┴──────────┴───────────┴─────────┴───┴───────────┴────────────┴────────────┴────────────┘"
      ]
     },
     "execution_count": 14,
     "metadata": {},
     "output_type": "execute_result"
    }
   ],
   "source": [
    "train_logs.filter(pl.col('id')=='001519c8').head(16).collect()"
   ]
  },
  {
   "cell_type": "code",
   "execution_count": 42,
   "metadata": {},
   "outputs": [
    {
     "data": {
      "text/html": [
       "<div><style>\n",
       ".dataframe > thead > tr,\n",
       ".dataframe > tbody > tr {\n",
       "  text-align: right;\n",
       "  white-space: pre-wrap;\n",
       "}\n",
       "</style>\n",
       "<small>shape: (10, 3)</small><table border=\"1\" class=\"dataframe\"><thead><tr><th>id</th><th>time_bin</th><th>word_count</th></tr><tr><td>str</td><td>i64</td><td>i64</td></tr></thead><tbody><tr><td>&quot;fff05981&quot;</td><td>0</td><td>null</td></tr><tr><td>&quot;fff05981&quot;</td><td>10</td><td>null</td></tr><tr><td>&quot;fff05981&quot;</td><td>20</td><td>null</td></tr><tr><td>&quot;fff05981&quot;</td><td>30</td><td>0</td></tr><tr><td>&quot;fff05981&quot;</td><td>40</td><td>0</td></tr><tr><td>&quot;fff05981&quot;</td><td>50</td><td>0</td></tr><tr><td>&quot;fff05981&quot;</td><td>60</td><td>0</td></tr><tr><td>&quot;fff05981&quot;</td><td>70</td><td>3</td></tr><tr><td>&quot;fff05981&quot;</td><td>80</td><td>5</td></tr><tr><td>&quot;fff05981&quot;</td><td>90</td><td>5</td></tr></tbody></table></div>"
      ],
      "text/plain": [
       "shape: (10, 3)\n",
       "┌──────────┬──────────┬────────────┐\n",
       "│ id       ┆ time_bin ┆ word_count │\n",
       "│ ---      ┆ ---      ┆ ---        │\n",
       "│ str      ┆ i64      ┆ i64        │\n",
       "╞══════════╪══════════╪════════════╡\n",
       "│ fff05981 ┆ 0        ┆ null       │\n",
       "│ fff05981 ┆ 10       ┆ null       │\n",
       "│ fff05981 ┆ 20       ┆ null       │\n",
       "│ fff05981 ┆ 30       ┆ 0          │\n",
       "│ …        ┆ …        ┆ …          │\n",
       "│ fff05981 ┆ 60       ┆ 0          │\n",
       "│ fff05981 ┆ 70       ┆ 3          │\n",
       "│ fff05981 ┆ 80       ┆ 5          │\n",
       "│ fff05981 ┆ 90       ┆ 5          │\n",
       "└──────────┴──────────┴────────────┘"
      ]
     },
     "execution_count": 42,
     "metadata": {},
     "output_type": "execute_result"
    }
   ],
   "source": [
    "tr_logs.filter(pl.col('id')=='fff05981').head(10)"
   ]
  },
  {
   "cell_type": "code",
   "execution_count": 39,
   "metadata": {},
   "outputs": [
    {
     "data": {
      "text/html": [
       "<div><style>\n",
       ".dataframe > thead > tr,\n",
       ".dataframe > tbody > tr {\n",
       "  text-align: right;\n",
       "  white-space: pre-wrap;\n",
       "}\n",
       "</style>\n",
       "<small>shape: (5, 3)</small><table border=\"1\" class=\"dataframe\"><thead><tr><th>id</th><th>time_bin</th><th>word_count</th></tr><tr><td>str</td><td>i64</td><td>i64</td></tr></thead><tbody><tr><td>&quot;fff05981&quot;</td><td>30</td><td>0</td></tr><tr><td>&quot;fff05981&quot;</td><td>50</td><td>0</td></tr><tr><td>&quot;fff05981&quot;</td><td>70</td><td>3</td></tr><tr><td>&quot;fff05981&quot;</td><td>80</td><td>5</td></tr><tr><td>&quot;fff05981&quot;</td><td>90</td><td>5</td></tr></tbody></table></div>"
      ],
      "text/plain": [
       "shape: (5, 3)\n",
       "┌──────────┬──────────┬────────────┐\n",
       "│ id       ┆ time_bin ┆ word_count │\n",
       "│ ---      ┆ ---      ┆ ---        │\n",
       "│ str      ┆ i64      ┆ i64        │\n",
       "╞══════════╪══════════╪════════════╡\n",
       "│ fff05981 ┆ 30       ┆ 0          │\n",
       "│ fff05981 ┆ 50       ┆ 0          │\n",
       "│ fff05981 ┆ 70       ┆ 3          │\n",
       "│ fff05981 ┆ 80       ┆ 5          │\n",
       "│ fff05981 ┆ 90       ┆ 5          │\n",
       "└──────────┴──────────┴────────────┘"
      ]
     },
     "execution_count": 39,
     "metadata": {},
     "output_type": "execute_result"
    }
   ],
   "source": [
    "y.collect().head()"
   ]
  },
  {
   "cell_type": "code",
   "execution_count": 37,
   "metadata": {},
   "outputs": [
    {
     "data": {
      "text/html": [
       "<div><style>\n",
       ".dataframe > thead > tr,\n",
       ".dataframe > tbody > tr {\n",
       "  text-align: right;\n",
       "  white-space: pre-wrap;\n",
       "}\n",
       "</style>\n",
       "<small>shape: (15, 3)</small><table border=\"1\" class=\"dataframe\"><thead><tr><th>id</th><th>time_bin</th><th>word_count</th></tr><tr><td>str</td><td>i64</td><td>i64</td></tr></thead><tbody><tr><td>&quot;fff05981&quot;</td><td>0</td><td>null</td></tr><tr><td>&quot;fff05981&quot;</td><td>10</td><td>null</td></tr><tr><td>&quot;fff05981&quot;</td><td>20</td><td>null</td></tr><tr><td>&quot;fff05981&quot;</td><td>30</td><td>0</td></tr><tr><td>&quot;fff05981&quot;</td><td>40</td><td>0</td></tr><tr><td>&quot;fff05981&quot;</td><td>50</td><td>0</td></tr><tr><td>&quot;fff05981&quot;</td><td>60</td><td>0</td></tr><tr><td>&quot;fff05981&quot;</td><td>70</td><td>3</td></tr><tr><td>&quot;fff05981&quot;</td><td>80</td><td>5</td></tr><tr><td>&quot;fff05981&quot;</td><td>90</td><td>5</td></tr><tr><td>&quot;fff05981&quot;</td><td>100</td><td>8</td></tr><tr><td>&quot;fff05981&quot;</td><td>110</td><td>8</td></tr><tr><td>&quot;fff05981&quot;</td><td>120</td><td>8</td></tr><tr><td>&quot;fff05981&quot;</td><td>130</td><td>9</td></tr><tr><td>&quot;fff05981&quot;</td><td>140</td><td>11</td></tr></tbody></table></div>"
      ],
      "text/plain": [
       "shape: (15, 3)\n",
       "┌──────────┬──────────┬────────────┐\n",
       "│ id       ┆ time_bin ┆ word_count │\n",
       "│ ---      ┆ ---      ┆ ---        │\n",
       "│ str      ┆ i64      ┆ i64        │\n",
       "╞══════════╪══════════╪════════════╡\n",
       "│ fff05981 ┆ 0        ┆ null       │\n",
       "│ fff05981 ┆ 10       ┆ null       │\n",
       "│ fff05981 ┆ 20       ┆ null       │\n",
       "│ fff05981 ┆ 30       ┆ 0          │\n",
       "│ …        ┆ …        ┆ …          │\n",
       "│ fff05981 ┆ 110      ┆ 8          │\n",
       "│ fff05981 ┆ 120      ┆ 8          │\n",
       "│ fff05981 ┆ 130      ┆ 9          │\n",
       "│ fff05981 ┆ 140      ┆ 11         │\n",
       "└──────────┴──────────┴────────────┘"
      ]
     },
     "execution_count": 37,
     "metadata": {},
     "output_type": "execute_result"
    }
   ],
   "source": [
    "z.with_columns(pl.col('word_count').fill_null(strategy=\"forward\").over('id')).collect().head(15)"
   ]
  },
  {
   "cell_type": "code",
   "execution_count": 14,
   "metadata": {},
   "outputs": [
    {
     "ename": "AttributeError",
     "evalue": "'GroupBy' object has no attribute 'fill_null'",
     "output_type": "error",
     "traceback": [
      "\u001b[0;31m---------------------------------------------------------------------------\u001b[0m",
      "\u001b[0;31mAttributeError\u001b[0m                            Traceback (most recent call last)",
      "\u001b[1;32m/root/Projects/Kaggle/linking-writing/EDA.ipynb Cell 9\u001b[0m line \u001b[0;36m1\n\u001b[0;32m----> <a href='vscode-notebook-cell://wsl%2Bubuntu/root/Projects/Kaggle/linking-writing/EDA.ipynb#Y144sdnNjb2RlLXJlbW90ZQ%3D%3D?line=0'>1</a>\u001b[0m grp_df\u001b[39m.\u001b[39;49mcollect()\u001b[39m.\u001b[39;49mgroup_by([\u001b[39m'\u001b[39;49m\u001b[39mid\u001b[39;49m\u001b[39m'\u001b[39;49m])\u001b[39m.\u001b[39;49mfill_null(strategy\u001b[39m=\u001b[39m\u001b[39m'\u001b[39m\u001b[39mforward\u001b[39m\u001b[39m'\u001b[39m)\n",
      "\u001b[0;31mAttributeError\u001b[0m: 'GroupBy' object has no attribute 'fill_null'"
     ]
    }
   ],
   "source": [
    "grp_df.collect().group_by(['id']).fill_null(strategy='forward')"
   ]
  },
  {
   "cell_type": "code",
   "execution_count": 10,
   "metadata": {},
   "outputs": [
    {
     "data": {
      "text/html": [
       "<div><style>\n",
       ".dataframe > thead > tr,\n",
       ".dataframe > tbody > tr {\n",
       "  text-align: right;\n",
       "  white-space: pre-wrap;\n",
       "}\n",
       "</style>\n",
       "<small>shape: (500, 3)</small><table border=\"1\" class=\"dataframe\"><thead><tr><th>id</th><th>time_bin</th><th>word_count</th></tr><tr><td>str</td><td>i64</td><td>i64</td></tr></thead><tbody><tr><td>&quot;fedefb50&quot;</td><td>0</td><td>null</td></tr><tr><td>&quot;fedefb50&quot;</td><td>10</td><td>null</td></tr><tr><td>&quot;fedefb50&quot;</td><td>20</td><td>null</td></tr><tr><td>&quot;fedefb50&quot;</td><td>30</td><td>null</td></tr><tr><td>&quot;fedefb50&quot;</td><td>40</td><td>null</td></tr><tr><td>&quot;fedefb50&quot;</td><td>50</td><td>null</td></tr><tr><td>&quot;fedefb50&quot;</td><td>60</td><td>null</td></tr><tr><td>&quot;fedefb50&quot;</td><td>70</td><td>null</td></tr><tr><td>&quot;fedefb50&quot;</td><td>80</td><td>null</td></tr><tr><td>&quot;fedefb50&quot;</td><td>90</td><td>null</td></tr><tr><td>&quot;fedefb50&quot;</td><td>100</td><td>null</td></tr><tr><td>&quot;fedefb50&quot;</td><td>110</td><td>null</td></tr><tr><td>&hellip;</td><td>&hellip;</td><td>&hellip;</td></tr><tr><td>&quot;d7c8a819&quot;</td><td>680</td><td>null</td></tr><tr><td>&quot;d7c8a819&quot;</td><td>690</td><td>null</td></tr><tr><td>&quot;d7c8a819&quot;</td><td>700</td><td>null</td></tr><tr><td>&quot;d7c8a819&quot;</td><td>710</td><td>null</td></tr><tr><td>&quot;d7c8a819&quot;</td><td>720</td><td>null</td></tr><tr><td>&quot;d7c8a819&quot;</td><td>730</td><td>null</td></tr><tr><td>&quot;d7c8a819&quot;</td><td>740</td><td>null</td></tr><tr><td>&quot;d7c8a819&quot;</td><td>750</td><td>null</td></tr><tr><td>&quot;d7c8a819&quot;</td><td>760</td><td>null</td></tr><tr><td>&quot;d7c8a819&quot;</td><td>770</td><td>null</td></tr><tr><td>&quot;d7c8a819&quot;</td><td>780</td><td>null</td></tr><tr><td>&quot;d7c8a819&quot;</td><td>790</td><td>null</td></tr></tbody></table></div>"
      ],
      "text/plain": [
       "shape: (500, 3)\n",
       "┌──────────┬──────────┬────────────┐\n",
       "│ id       ┆ time_bin ┆ word_count │\n",
       "│ ---      ┆ ---      ┆ ---        │\n",
       "│ str      ┆ i64      ┆ i64        │\n",
       "╞══════════╪══════════╪════════════╡\n",
       "│ fedefb50 ┆ 0        ┆ null       │\n",
       "│ fedefb50 ┆ 10       ┆ null       │\n",
       "│ fedefb50 ┆ 20       ┆ null       │\n",
       "│ fedefb50 ┆ 30       ┆ null       │\n",
       "│ …        ┆ …        ┆ …          │\n",
       "│ d7c8a819 ┆ 760      ┆ null       │\n",
       "│ d7c8a819 ┆ 770      ┆ null       │\n",
       "│ d7c8a819 ┆ 780      ┆ null       │\n",
       "│ d7c8a819 ┆ 790      ┆ null       │\n",
       "└──────────┴──────────┴────────────┘"
      ]
     },
     "execution_count": 10,
     "metadata": {},
     "output_type": "execute_result"
    }
   ],
   "source": [
    "grp_df.fetch()"
   ]
  },
  {
   "cell_type": "code",
   "execution_count": 10,
   "metadata": {},
   "outputs": [],
   "source": [
    "# Clone the LazyFrame\n",
    "import polars as pl\n",
    "time_agg = 10\n",
    "logs_binned = tr_logs.clone()\n",
    "logs_binned = logs_binned.with_columns((pl.col('down_time') / 1000).alias('down_time_sec'))\n",
    "logs_binned = logs_binned.with_columns(((pl.col('down_time_sec') // time_agg) * time_agg).alias('time_bin'))\n",
    "\n",
    "grp_binned = logs_binned.group_by(['id', 'time_bin']).agg(pl.max('word_count'))\n",
    "\n",
    "logs = tr_logs.clone()\n",
    "max_down_time = logs.group_by(['id']).agg(pl.max('down_time') / 1000)\n",
    "max_down_time = max_down_time.with_columns(pl.col('down_time').cast(pl.Int64))"
   ]
  },
  {
   "cell_type": "code",
   "execution_count": 18,
   "metadata": {},
   "outputs": [
    {
     "name": "stdout",
     "output_type": "stream",
     "text": [
      "1d199f1e 1696\n"
     ]
    }
   ],
   "source": [
    "max_down_time_df = max_down_time.collect()\n",
    "padding_dataframes = []\n",
    "for row in max_down_time_df.rows():\n",
    "    id_value, max_time_value = row[0], row[1]\n",
    "    print(id_value, max_time_value)\n",
    "    break"
   ]
  },
  {
   "cell_type": "code",
   "execution_count": 16,
   "metadata": {},
   "outputs": [],
   "source": [
    "import polars as pl\n",
    "\n",
    "# Assuming max_down_time is a LazyFrame, collect it into a DataFrame\n",
    "max_down_time_df = max_down_time.collect()\n",
    "padding_dataframes = []\n",
    "\n",
    "# Iterate over each row in max_down_time_df\n",
    "for row in max_down_time_df.rows():\n",
    "    id_value, max_time_value = row[0], row[1]  # Access by index\n",
    "\n",
    "    # Create a range of time steps\n",
    "    time_steps = pl.arange(0, max_time_value + time_agg, time_agg)\n",
    "\n",
    "    # Create a padding dataframe for each id\n",
    "    padding_df = pl.DataFrame({'id': pl.lit(id_value), 'time_bin': time_steps})\n",
    "\n",
    "    # Append the padding dataframe to the list\n",
    "    padding_dataframes.append(padding_df)\n",
    "\n",
    "# Concatenate all padding dataframes\n",
    "pad_df = pl.concat(padding_dataframes)\n",
    "\n",
    "# Now pad_df is the Polars equivalent of the Pandas pad_df\n"
   ]
  },
  {
   "cell_type": "code",
   "execution_count": 91,
   "metadata": {},
   "outputs": [],
   "source": [
    "grp_df = grp_binned.join(pad_df.lazy(), on=['id', 'time_bin'], how='outer')"
   ]
  },
  {
   "cell_type": "code",
   "execution_count": 90,
   "metadata": {},
   "outputs": [
    {
     "data": {
      "text/plain": [
       "[Utf8, Int64, Int64]"
      ]
     },
     "execution_count": 90,
     "metadata": {},
     "output_type": "execute_result"
    }
   ],
   "source": [
    "grp_binned.dtypes"
   ]
  },
  {
   "cell_type": "code",
   "execution_count": 92,
   "metadata": {},
   "outputs": [
    {
     "data": {
      "text/html": [
       "<div><style>\n",
       ".dataframe > thead > tr,\n",
       ".dataframe > tbody > tr {\n",
       "  text-align: right;\n",
       "  white-space: pre-wrap;\n",
       "}\n",
       "</style>\n",
       "<small>shape: (534, 3)</small><table border=\"1\" class=\"dataframe\"><thead><tr><th>id</th><th>time_bin</th><th>word_count</th></tr><tr><td>str</td><td>i64</td><td>i64</td></tr></thead><tbody><tr><td>&quot;69a3c3d6&quot;</td><td>0</td><td>null</td></tr><tr><td>&quot;69a3c3d6&quot;</td><td>10</td><td>null</td></tr><tr><td>&quot;69a3c3d6&quot;</td><td>20</td><td>null</td></tr><tr><td>&quot;69a3c3d6&quot;</td><td>30</td><td>null</td></tr><tr><td>&quot;69a3c3d6&quot;</td><td>40</td><td>null</td></tr><tr><td>&quot;69a3c3d6&quot;</td><td>50</td><td>null</td></tr><tr><td>&quot;69a3c3d6&quot;</td><td>60</td><td>null</td></tr><tr><td>&quot;69a3c3d6&quot;</td><td>70</td><td>null</td></tr><tr><td>&quot;69a3c3d6&quot;</td><td>80</td><td>null</td></tr><tr><td>&quot;69a3c3d6&quot;</td><td>90</td><td>null</td></tr><tr><td>&quot;69a3c3d6&quot;</td><td>100</td><td>null</td></tr><tr><td>&quot;69a3c3d6&quot;</td><td>110</td><td>null</td></tr><tr><td>&hellip;</td><td>&hellip;</td><td>&hellip;</td></tr><tr><td>&quot;001519c8&quot;</td><td>260</td><td>23</td></tr><tr><td>&quot;001519c8&quot;</td><td>0</td><td>0</td></tr><tr><td>&quot;001519c8&quot;</td><td>310</td><td>27</td></tr><tr><td>&quot;001519c8&quot;</td><td>170</td><td>18</td></tr><tr><td>&quot;001519c8&quot;</td><td>300</td><td>27</td></tr><tr><td>&quot;001519c8&quot;</td><td>220</td><td>21</td></tr><tr><td>&quot;001519c8&quot;</td><td>280</td><td>27</td></tr><tr><td>&quot;001519c8&quot;</td><td>140</td><td>12</td></tr><tr><td>&quot;001519c8&quot;</td><td>100</td><td>8</td></tr><tr><td>&quot;001519c8&quot;</td><td>450</td><td>41</td></tr><tr><td>&quot;001519c8&quot;</td><td>270</td><td>26</td></tr><tr><td>&quot;001519c8&quot;</td><td>380</td><td>33</td></tr></tbody></table></div>"
      ],
      "text/plain": [
       "shape: (534, 3)\n",
       "┌──────────┬──────────┬────────────┐\n",
       "│ id       ┆ time_bin ┆ word_count │\n",
       "│ ---      ┆ ---      ┆ ---        │\n",
       "│ str      ┆ i64      ┆ i64        │\n",
       "╞══════════╪══════════╪════════════╡\n",
       "│ 69a3c3d6 ┆ 0        ┆ null       │\n",
       "│ 69a3c3d6 ┆ 10       ┆ null       │\n",
       "│ 69a3c3d6 ┆ 20       ┆ null       │\n",
       "│ 69a3c3d6 ┆ 30       ┆ null       │\n",
       "│ …        ┆ …        ┆ …          │\n",
       "│ 001519c8 ┆ 100      ┆ 8          │\n",
       "│ 001519c8 ┆ 450      ┆ 41         │\n",
       "│ 001519c8 ┆ 270      ┆ 26         │\n",
       "│ 001519c8 ┆ 380      ┆ 33         │\n",
       "└──────────┴──────────┴────────────┘"
      ]
     },
     "execution_count": 92,
     "metadata": {},
     "output_type": "execute_result"
    }
   ],
   "source": [
    "grp_df.fetch()"
   ]
  },
  {
   "cell_type": "code",
   "execution_count": 82,
   "metadata": {},
   "outputs": [
    {
     "data": {
      "text/html": [
       "<div><style>\n",
       ".dataframe > thead > tr,\n",
       ".dataframe > tbody > tr {\n",
       "  text-align: right;\n",
       "  white-space: pre-wrap;\n",
       "}\n",
       "</style>\n",
       "<small>shape: (34, 3)</small><table border=\"1\" class=\"dataframe\"><thead><tr><th>id</th><th>time_bin</th><th>word_count</th></tr><tr><td>str</td><td>f64</td><td>i64</td></tr></thead><tbody><tr><td>&quot;001519c8&quot;</td><td>110.0</td><td>12</td></tr><tr><td>&quot;001519c8&quot;</td><td>240.0</td><td>21</td></tr><tr><td>&quot;001519c8&quot;</td><td>400.0</td><td>36</td></tr><tr><td>&quot;001519c8&quot;</td><td>150.0</td><td>15</td></tr><tr><td>&quot;001519c8&quot;</td><td>0.0</td><td>0</td></tr><tr><td>&quot;001519c8&quot;</td><td>300.0</td><td>27</td></tr><tr><td>&quot;001519c8&quot;</td><td>370.0</td><td>31</td></tr><tr><td>&quot;001519c8&quot;</td><td>200.0</td><td>20</td></tr><tr><td>&quot;001519c8&quot;</td><td>230.0</td><td>20</td></tr><tr><td>&quot;001519c8&quot;</td><td>340.0</td><td>27</td></tr><tr><td>&quot;001519c8&quot;</td><td>380.0</td><td>33</td></tr><tr><td>&quot;001519c8&quot;</td><td>470.0</td><td>42</td></tr><tr><td>&hellip;</td><td>&hellip;</td><td>&hellip;</td></tr><tr><td>&quot;001519c8&quot;</td><td>460.0</td><td>42</td></tr><tr><td>&quot;001519c8&quot;</td><td>140.0</td><td>12</td></tr><tr><td>&quot;001519c8&quot;</td><td>310.0</td><td>27</td></tr><tr><td>&quot;001519c8&quot;</td><td>450.0</td><td>41</td></tr><tr><td>&quot;001519c8&quot;</td><td>160.0</td><td>18</td></tr><tr><td>&quot;001519c8&quot;</td><td>210.0</td><td>21</td></tr><tr><td>&quot;001519c8&quot;</td><td>260.0</td><td>23</td></tr><tr><td>&quot;001519c8&quot;</td><td>280.0</td><td>27</td></tr><tr><td>&quot;001519c8&quot;</td><td>270.0</td><td>26</td></tr><tr><td>&quot;001519c8&quot;</td><td>180.0</td><td>19</td></tr><tr><td>&quot;001519c8&quot;</td><td>120.0</td><td>12</td></tr><tr><td>&quot;001519c8&quot;</td><td>290.0</td><td>27</td></tr></tbody></table></div>"
      ],
      "text/plain": [
       "shape: (34, 3)\n",
       "┌──────────┬──────────┬────────────┐\n",
       "│ id       ┆ time_bin ┆ word_count │\n",
       "│ ---      ┆ ---      ┆ ---        │\n",
       "│ str      ┆ f64      ┆ i64        │\n",
       "╞══════════╪══════════╪════════════╡\n",
       "│ 001519c8 ┆ 110.0    ┆ 12         │\n",
       "│ 001519c8 ┆ 240.0    ┆ 21         │\n",
       "│ 001519c8 ┆ 400.0    ┆ 36         │\n",
       "│ 001519c8 ┆ 150.0    ┆ 15         │\n",
       "│ …        ┆ …        ┆ …          │\n",
       "│ 001519c8 ┆ 270.0    ┆ 26         │\n",
       "│ 001519c8 ┆ 180.0    ┆ 19         │\n",
       "│ 001519c8 ┆ 120.0    ┆ 12         │\n",
       "│ 001519c8 ┆ 290.0    ┆ 27         │\n",
       "└──────────┴──────────┴────────────┘"
      ]
     },
     "execution_count": 82,
     "metadata": {},
     "output_type": "execute_result"
    }
   ],
   "source": [
    "grp_binned.fetch()"
   ]
  },
  {
   "cell_type": "code",
   "execution_count": 81,
   "metadata": {},
   "outputs": [
    {
     "data": {
      "text/plain": [
       "([Utf8, Float64, Int64], [Utf8, Float64, Int64])"
      ]
     },
     "execution_count": 81,
     "metadata": {},
     "output_type": "execute_result"
    }
   ],
   "source": [
    "grp_binned.dtypes, grp_df.dtypes"
   ]
  },
  {
   "cell_type": "code",
   "execution_count": 80,
   "metadata": {},
   "outputs": [
    {
     "ename": "ComputeError",
     "evalue": "datatypes of join keys don't match - `time_bin`: f64 on left does not match `time_bin`: i64 on right",
     "output_type": "error",
     "traceback": [
      "\u001b[0;31m---------------------------------------------------------------------------\u001b[0m",
      "\u001b[0;31mComputeError\u001b[0m                              Traceback (most recent call last)",
      "\u001b[1;32m/root/Projects/Kaggle/linking-writing/EDA.ipynb Cell 14\u001b[0m line \u001b[0;36m1\n\u001b[0;32m----> <a href='vscode-notebook-cell://wsl%2Bubuntu/root/Projects/Kaggle/linking-writing/EDA.ipynb#Y113sdnNjb2RlLXJlbW90ZQ%3D%3D?line=0'>1</a>\u001b[0m grp_df\u001b[39m.\u001b[39;49mfetch()\n",
      "File \u001b[0;32m~/miniconda3/envs/lrp/lib/python3.10/site-packages/polars/utils/deprecation.py:100\u001b[0m, in \u001b[0;36mdeprecate_renamed_parameter.<locals>.decorate.<locals>.wrapper\u001b[0;34m(*args, **kwargs)\u001b[0m\n\u001b[1;32m     95\u001b[0m \u001b[39m@wraps\u001b[39m(function)\n\u001b[1;32m     96\u001b[0m \u001b[39mdef\u001b[39;00m \u001b[39mwrapper\u001b[39m(\u001b[39m*\u001b[39margs: P\u001b[39m.\u001b[39margs, \u001b[39m*\u001b[39m\u001b[39m*\u001b[39mkwargs: P\u001b[39m.\u001b[39mkwargs) \u001b[39m-\u001b[39m\u001b[39m>\u001b[39m T:\n\u001b[1;32m     97\u001b[0m     _rename_keyword_argument(\n\u001b[1;32m     98\u001b[0m         old_name, new_name, kwargs, function\u001b[39m.\u001b[39m\u001b[39m__name__\u001b[39m, version\n\u001b[1;32m     99\u001b[0m     )\n\u001b[0;32m--> 100\u001b[0m     \u001b[39mreturn\u001b[39;00m function(\u001b[39m*\u001b[39;49margs, \u001b[39m*\u001b[39;49m\u001b[39m*\u001b[39;49mkwargs)\n",
      "File \u001b[0;32m~/miniconda3/envs/lrp/lib/python3.10/site-packages/polars/lazyframe/frame.py:2432\u001b[0m, in \u001b[0;36mLazyFrame.fetch\u001b[0;34m(self, n_rows, type_coercion, predicate_pushdown, projection_pushdown, simplify_expression, no_optimization, slice_pushdown, comm_subplan_elim, comm_subexpr_elim, streaming)\u001b[0m\n\u001b[1;32m   2419\u001b[0m     comm_subexpr_elim \u001b[39m=\u001b[39m \u001b[39mFalse\u001b[39;00m\n\u001b[1;32m   2421\u001b[0m lf \u001b[39m=\u001b[39m \u001b[39mself\u001b[39m\u001b[39m.\u001b[39m_ldf\u001b[39m.\u001b[39moptimization_toggle(\n\u001b[1;32m   2422\u001b[0m     type_coercion,\n\u001b[1;32m   2423\u001b[0m     predicate_pushdown,\n\u001b[0;32m   (...)\u001b[0m\n\u001b[1;32m   2430\u001b[0m     _eager\u001b[39m=\u001b[39m\u001b[39mFalse\u001b[39;00m,\n\u001b[1;32m   2431\u001b[0m )\n\u001b[0;32m-> 2432\u001b[0m \u001b[39mreturn\u001b[39;00m wrap_df(lf\u001b[39m.\u001b[39;49mfetch(n_rows))\n",
      "\u001b[0;31mComputeError\u001b[0m: datatypes of join keys don't match - `time_bin`: f64 on left does not match `time_bin`: i64 on right"
     ]
    }
   ],
   "source": [
    "grp_df.fetch()"
   ]
  },
  {
   "cell_type": "code",
   "execution_count": null,
   "metadata": {},
   "outputs": [],
   "source": [
    "import pandas as pd\n",
    "\n",
    "def down_time_padding(train_logs, test_logs, time_agg):\n",
    "    padded = []\n",
    "\n",
    "    for logs in [train_logs, test_logs]:\n",
    "        # Convert down_time to seconds and create time bins\n",
    "        logs_binned = logs.copy()\n",
    "        logs_binned['down_time_sec'] = logs_binned['down_time'] / 1000\n",
    "        logs_binned['time_bin'] = (logs_binned['down_time_sec'] // time_agg) * time_agg\n",
    "\n",
    "        # Bin logs without padding\n",
    "        grp_binned = logs_binned.groupby(['id', 'time_bin']).agg({'word_count': 'max'}).reset_index()\n",
    "\n",
    "        # Calculate upper bound for padding\n",
    "        max_down_time = logs.groupby('id')['down_time'].max() / 1000\n",
    "\n",
    "        # Create padding DataFrame\n",
    "        padding_rows = [\n",
    "            {'id': id_val, 'time_bin': t}\n",
    "            for id_val, max_time in max_down_time.items()\n",
    "            for t in range(0, int(max_time) + time_agg, time_agg)\n",
    "        ]\n",
    "        pad_df = pd.DataFrame(padding_rows)\n",
    "\n",
    "        # Right join padded bins and forward fill\n",
    "        grp_df = grp_binned.merge(pad_df, on=['id', 'time_bin'], how='right').sort_values(by=['id', 'time_bin'])\n",
    "        grp_df = grp_df.groupby('id').ffill()\n",
    "        padded.append(grp_df)\n",
    "\n",
    "    return padded[0], padded[1]\n"
   ]
  },
  {
   "cell_type": "code",
   "execution_count": 11,
   "metadata": {},
   "outputs": [],
   "source": [
    "def rate_of_change_feats(train_logs, test_logs):\n",
    "\n",
    "    AGGREGATIONS = ['count', 'mean', 'std', 'sum', 'max', q1, 'median', q3, 'skew', pd.DataFrame.kurt] \n",
    "    feats = []\n",
    "    for logs in [train_logs, test_logs]:\n",
    "\n",
    "        word_count_diff = logs.groupby('id')['word_count'].diff().fillna(0)\n",
    "        time_bin_diff = logs.groupby('id')['time_bin'].diff().fillna(0)\n",
    "        logs['rate_of_change'] = (word_count_diff / time_bin_diff).fillna(0)\n",
    "\n",
    "        stats = logs[['id','rate_of_change']].groupby(['id']).agg(AGGREGATIONS)\n",
    "        stats.columns = ['_'.join(x) for x in stats.columns]\n",
    "        feats.append(stats)\n",
    "\n",
    "    return feats[0], feats[1]"
   ]
  },
  {
   "cell_type": "code",
   "execution_count": null,
   "metadata": {},
   "outputs": [],
   "source": [
    "def rate_of_change_feats(train_logs, test_logs):\n",
    "\n",
    "    AGGREGATIONS = ['count', 'mean', 'std', 'sum', 'max', q1, 'median', q3, 'skew', pd.DataFrame.kurt] \n",
    "    feats = []\n",
    "    for logs in [train_logs, test_logs]:\n",
    "\n",
    "        word_count_diff = logs.groupby('id')['word_count'].diff().fillna(0)\n",
    "        time_bin_diff = logs.groupby('id')['time_bin'].diff().fillna(0)\n",
    "        logs['rate_of_change'] = (word_count_diff / time_bin_diff).fillna(0)\n",
    "\n",
    "        stats = logs[['id','rate_of_change']].groupby(['id']).agg(AGGREGATIONS)\n",
    "        stats.columns = ['_'.join(x) for x in stats.columns]\n",
    "        feats.append(stats)\n",
    "\n",
    "    return feats[0], feats[1]"
   ]
  },
  {
   "cell_type": "code",
   "execution_count": 7,
   "metadata": {},
   "outputs": [
    {
     "ename": "KeyboardInterrupt",
     "evalue": "",
     "output_type": "error",
     "traceback": [
      "\u001b[0;31m---------------------------------------------------------------------------\u001b[0m",
      "\u001b[0;31mKeyboardInterrupt\u001b[0m                         Traceback (most recent call last)",
      "\u001b[1;32m/root/Projects/Kaggle/linking-writing/EDA.ipynb Cell 5\u001b[0m line \u001b[0;36m6\n\u001b[1;32m      <a href='vscode-notebook-cell://wsl%2Bubuntu/root/Projects/Kaggle/linking-writing/EDA.ipynb#W3sdnNjb2RlLXJlbW90ZQ%3D%3D?line=2'>3</a>\u001b[0m \u001b[39mfrom\u001b[39;00m \u001b[39mm4_feats_polars\u001b[39;00m \u001b[39mimport\u001b[39;00m down_time_padding, rate_of_change_feats\n\u001b[1;32m      <a href='vscode-notebook-cell://wsl%2Bubuntu/root/Projects/Kaggle/linking-writing/EDA.ipynb#W3sdnNjb2RlLXJlbW90ZQ%3D%3D?line=4'>5</a>\u001b[0m \u001b[39mfor\u001b[39;00m time \u001b[39min\u001b[39;00m [\u001b[39m1\u001b[39m,\u001b[39m5\u001b[39m,\u001b[39m10\u001b[39m,\u001b[39m15\u001b[39m,\u001b[39m20\u001b[39m,\u001b[39m30\u001b[39m,\u001b[39m45\u001b[39m,\u001b[39m60\u001b[39m,\u001b[39m90\u001b[39m,\u001b[39m120\u001b[39m,\u001b[39m300\u001b[39m]:\n\u001b[0;32m----> <a href='vscode-notebook-cell://wsl%2Bubuntu/root/Projects/Kaggle/linking-writing/EDA.ipynb#W3sdnNjb2RlLXJlbW90ZQ%3D%3D?line=5'>6</a>\u001b[0m     tr_pad_word_count, ts_pad_word_count \u001b[39m=\u001b[39m down_time_padding(train_logs, test_logs, time)\n\u001b[1;32m      <a href='vscode-notebook-cell://wsl%2Bubuntu/root/Projects/Kaggle/linking-writing/EDA.ipynb#W3sdnNjb2RlLXJlbW90ZQ%3D%3D?line=6'>7</a>\u001b[0m     tr_feats, ts_feats \u001b[39m=\u001b[39m rate_of_change_feats(tr_pad_word_count, ts_pad_word_count)\n\u001b[1;32m      <a href='vscode-notebook-cell://wsl%2Bubuntu/root/Projects/Kaggle/linking-writing/EDA.ipynb#W3sdnNjb2RlLXJlbW90ZQ%3D%3D?line=8'>9</a>\u001b[0m     train_feats \u001b[39m=\u001b[39m tr_feats\u001b[39m.\u001b[39mmerge(train_scores, on\u001b[39m=\u001b[39m\u001b[39m'\u001b[39m\u001b[39mid\u001b[39m\u001b[39m'\u001b[39m, how\u001b[39m=\u001b[39m\u001b[39m'\u001b[39m\u001b[39mleft\u001b[39m\u001b[39m'\u001b[39m)\n",
      "File \u001b[0;32m~/Projects/Kaggle/linking-writing/m4_feats_polars.py:36\u001b[0m, in \u001b[0;36mdown_time_padding\u001b[0;34m(train_logs, test_logs, time_agg)\u001b[0m\n\u001b[1;32m     31\u001b[0m padded \u001b[39m=\u001b[39m []\n\u001b[1;32m     33\u001b[0m \u001b[39mfor\u001b[39;00m logs \u001b[39min\u001b[39;00m [train_logs, test_logs]:\n\u001b[1;32m     34\u001b[0m \n\u001b[1;32m     35\u001b[0m     \u001b[39m# add time bins to original logs\u001b[39;00m\n\u001b[0;32m---> 36\u001b[0m     logs_binned \u001b[39m=\u001b[39m logs\u001b[39m.\u001b[39;49mcopy()\n\u001b[1;32m     37\u001b[0m     logs_binned[\u001b[39m'\u001b[39m\u001b[39mdown_time_sec\u001b[39m\u001b[39m'\u001b[39m] \u001b[39m=\u001b[39m logs_binned[\u001b[39m'\u001b[39m\u001b[39mdown_time\u001b[39m\u001b[39m'\u001b[39m] \u001b[39m/\u001b[39m \u001b[39m1000\u001b[39m\n\u001b[1;32m     38\u001b[0m     logs_binned[\u001b[39m'\u001b[39m\u001b[39mtime_bin\u001b[39m\u001b[39m'\u001b[39m] \u001b[39m=\u001b[39m logs_binned[\u001b[39m'\u001b[39m\u001b[39mdown_time_sec\u001b[39m\u001b[39m'\u001b[39m]\u001b[39m.\u001b[39mapply(\u001b[39mlambda\u001b[39;00m x: time_agg \u001b[39m*\u001b[39m (x \u001b[39m/\u001b[39m\u001b[39m/\u001b[39m time_agg))\n",
      "File \u001b[0;32m~/miniconda3/envs/lrp/lib/python3.10/site-packages/pandas/core/generic.py:6368\u001b[0m, in \u001b[0;36mNDFrame.copy\u001b[0;34m(self, deep)\u001b[0m\n\u001b[1;32m   6258\u001b[0m \u001b[39m@final\u001b[39m\n\u001b[1;32m   6259\u001b[0m \u001b[39mdef\u001b[39;00m \u001b[39mcopy\u001b[39m(\u001b[39mself\u001b[39m: NDFrameT, deep: bool_t \u001b[39m|\u001b[39m \u001b[39mNone\u001b[39;00m \u001b[39m=\u001b[39m \u001b[39mTrue\u001b[39;00m) \u001b[39m-\u001b[39m\u001b[39m>\u001b[39m NDFrameT:\n\u001b[1;32m   6260\u001b[0m \u001b[39m    \u001b[39m\u001b[39m\"\"\"\u001b[39;00m\n\u001b[1;32m   6261\u001b[0m \u001b[39m    Make a copy of this object's indices and data.\u001b[39;00m\n\u001b[1;32m   6262\u001b[0m \n\u001b[0;32m   (...)\u001b[0m\n\u001b[1;32m   6366\u001b[0m \u001b[39m    dtype: object\u001b[39;00m\n\u001b[1;32m   6367\u001b[0m \u001b[39m    \"\"\"\u001b[39;00m\n\u001b[0;32m-> 6368\u001b[0m     data \u001b[39m=\u001b[39m \u001b[39mself\u001b[39;49m\u001b[39m.\u001b[39;49m_mgr\u001b[39m.\u001b[39;49mcopy(deep\u001b[39m=\u001b[39;49mdeep)\n\u001b[1;32m   6369\u001b[0m     \u001b[39mself\u001b[39m\u001b[39m.\u001b[39m_clear_item_cache()\n\u001b[1;32m   6370\u001b[0m     \u001b[39mreturn\u001b[39;00m \u001b[39mself\u001b[39m\u001b[39m.\u001b[39m_constructor(data)\u001b[39m.\u001b[39m__finalize__(\u001b[39mself\u001b[39m, method\u001b[39m=\u001b[39m\u001b[39m\"\u001b[39m\u001b[39mcopy\u001b[39m\u001b[39m\"\u001b[39m)\n",
      "File \u001b[0;32m~/miniconda3/envs/lrp/lib/python3.10/site-packages/pandas/core/internals/managers.py:649\u001b[0m, in \u001b[0;36mBaseBlockManager.copy\u001b[0;34m(self, deep)\u001b[0m\n\u001b[1;32m    646\u001b[0m \u001b[39melse\u001b[39;00m:\n\u001b[1;32m    647\u001b[0m     new_axes \u001b[39m=\u001b[39m \u001b[39mlist\u001b[39m(\u001b[39mself\u001b[39m\u001b[39m.\u001b[39maxes)\n\u001b[0;32m--> 649\u001b[0m res \u001b[39m=\u001b[39m \u001b[39mself\u001b[39;49m\u001b[39m.\u001b[39;49mapply(\u001b[39m\"\u001b[39;49m\u001b[39mcopy\u001b[39;49m\u001b[39m\"\u001b[39;49m, deep\u001b[39m=\u001b[39;49mdeep)\n\u001b[1;32m    650\u001b[0m new_refs: \u001b[39mlist\u001b[39m[weakref\u001b[39m.\u001b[39mref \u001b[39m|\u001b[39m \u001b[39mNone\u001b[39;00m] \u001b[39m|\u001b[39m \u001b[39mNone\u001b[39;00m\n\u001b[1;32m    651\u001b[0m \u001b[39mif\u001b[39;00m deep:\n",
      "File \u001b[0;32m~/miniconda3/envs/lrp/lib/python3.10/site-packages/pandas/core/internals/managers.py:352\u001b[0m, in \u001b[0;36mBaseBlockManager.apply\u001b[0;34m(self, f, align_keys, ignore_failures, **kwargs)\u001b[0m\n\u001b[1;32m    350\u001b[0m         applied \u001b[39m=\u001b[39m b\u001b[39m.\u001b[39mapply(f, \u001b[39m*\u001b[39m\u001b[39m*\u001b[39mkwargs)\n\u001b[1;32m    351\u001b[0m     \u001b[39melse\u001b[39;00m:\n\u001b[0;32m--> 352\u001b[0m         applied \u001b[39m=\u001b[39m \u001b[39mgetattr\u001b[39;49m(b, f)(\u001b[39m*\u001b[39;49m\u001b[39m*\u001b[39;49mkwargs)\n\u001b[1;32m    353\u001b[0m \u001b[39mexcept\u001b[39;00m (\u001b[39mTypeError\u001b[39;00m, \u001b[39mNotImplementedError\u001b[39;00m):\n\u001b[1;32m    354\u001b[0m     \u001b[39mif\u001b[39;00m \u001b[39mnot\u001b[39;00m ignore_failures:\n",
      "File \u001b[0;32m~/miniconda3/envs/lrp/lib/python3.10/site-packages/pandas/core/internals/blocks.py:549\u001b[0m, in \u001b[0;36mBlock.copy\u001b[0;34m(self, deep)\u001b[0m\n\u001b[1;32m    547\u001b[0m values \u001b[39m=\u001b[39m \u001b[39mself\u001b[39m\u001b[39m.\u001b[39mvalues\n\u001b[1;32m    548\u001b[0m \u001b[39mif\u001b[39;00m deep:\n\u001b[0;32m--> 549\u001b[0m     values \u001b[39m=\u001b[39m values\u001b[39m.\u001b[39;49mcopy()\n\u001b[1;32m    550\u001b[0m \u001b[39mreturn\u001b[39;00m \u001b[39mtype\u001b[39m(\u001b[39mself\u001b[39m)(values, placement\u001b[39m=\u001b[39m\u001b[39mself\u001b[39m\u001b[39m.\u001b[39m_mgr_locs, ndim\u001b[39m=\u001b[39m\u001b[39mself\u001b[39m\u001b[39m.\u001b[39mndim)\n",
      "\u001b[0;31mKeyboardInterrupt\u001b[0m: "
     ]
    }
   ],
   "source": [
    "# from m4_feats_polars import *\n",
    "from m3_model_params import lgb_params_1 as params \n",
    "from m4_feats_polars import down_time_padding, rate_of_change_feats\n",
    "\n",
    "for time in [1,5,10,15,20,30,45,60,90,120,300]:\n",
    "    tr_pad_word_count, ts_pad_word_count = down_time_padding(train_logs, test_logs, time)\n",
    "    tr_feats, ts_feats = rate_of_change_feats(tr_pad_word_count, ts_pad_word_count)\n",
    "\n",
    "    train_feats = tr_feats.merge(train_scores, on='id', how='left')\n",
    "    test_feats = ts_feats.copy()\n",
    "    missing_cols = set(tr_feats.columns) - set(ts_feats.columns)\n",
    "\n",
    "    for col in missing_cols:\n",
    "        test_feats[col] = np.nan\n",
    "\n",
    "    print(f'Time aggregation {time}')\n",
    "    _,_,_,_ = cv_pipeline(train_feats, test_feats, params, 'gbdt')"
   ]
  },
  {
   "cell_type": "markdown",
   "metadata": {},
   "source": [
    "Time aggregation 5\n",
    "LGBM Average RMSE over 50 folds: 0.702056\n",
    "Mean RMSE of all iterations: 0.704186"
   ]
  },
  {
   "cell_type": "code",
   "execution_count": 4,
   "metadata": {},
   "outputs": [],
   "source": [
    "tr_logs, ts_logs = train_logs.copy(), test_logs.copy()\n",
    "#tr_logs, ts_logs = down_time_padding(tr_logs, ts_logs, 10)"
   ]
  },
  {
   "cell_type": "code",
   "execution_count": 17,
   "metadata": {},
   "outputs": [],
   "source": [
    "# add time bins to original logs\n",
    "time_agg = 10\n",
    "logs_binned = tr_logs.copy()\n",
    "logs_binned['down_time_sec'] = logs_binned['down_time'] / 1000\n",
    "logs_binned['time_bin'] = logs_binned['down_time_sec'].apply(lambda x: time_agg * (x // time_agg))\n",
    "\n",
    "# creates time series without padding\n",
    "grp_binned = logs_binned.groupby(['id', 'time_bin'])['word_count'].max().reset_index() \n",
    "\n",
    "# upper bound for padding\n",
    "logs_pad = tr_logs.copy()\n",
    "max_down_time = logs_pad.groupby('id')['down_time'].max()\n",
    "max_down_time /= 1000\n",
    "\n",
    "pad_df = pd.DataFrame()\n",
    "for id, max_time in max_down_time.items():\n",
    "    time_steps = list(range(0, int(max_time) + time_agg, time_agg))\n",
    "    padding_df = pd.DataFrame({'id': id, 'time_bin': time_steps})\n",
    "    pad_df = pd.concat([pad_df, padding_df])\n",
    "    pad_df.append(pad_df)\n",
    "\n",
    "grp_df = grp_binned.merge(pad_df, on=['id', 'time_bin'], how='right')\n",
    "grp_df = grp_df.ffill()"
   ]
  },
  {
   "cell_type": "code",
   "execution_count": 18,
   "metadata": {},
   "outputs": [
    {
     "data": {
      "text/html": [
       "<div>\n",
       "<style scoped>\n",
       "    .dataframe tbody tr th:only-of-type {\n",
       "        vertical-align: middle;\n",
       "    }\n",
       "\n",
       "    .dataframe tbody tr th {\n",
       "        vertical-align: top;\n",
       "    }\n",
       "\n",
       "    .dataframe thead th {\n",
       "        text-align: right;\n",
       "    }\n",
       "</style>\n",
       "<table border=\"1\" class=\"dataframe\">\n",
       "  <thead>\n",
       "    <tr style=\"text-align: right;\">\n",
       "      <th></th>\n",
       "      <th>id</th>\n",
       "      <th>time_bin</th>\n",
       "      <th>word_count</th>\n",
       "    </tr>\n",
       "  </thead>\n",
       "  <tbody>\n",
       "    <tr>\n",
       "      <th>0</th>\n",
       "      <td>001519c8</td>\n",
       "      <td>0.0</td>\n",
       "      <td>0.0</td>\n",
       "    </tr>\n",
       "    <tr>\n",
       "      <th>1</th>\n",
       "      <td>001519c8</td>\n",
       "      <td>10.0</td>\n",
       "      <td>0.0</td>\n",
       "    </tr>\n",
       "    <tr>\n",
       "      <th>2</th>\n",
       "      <td>001519c8</td>\n",
       "      <td>20.0</td>\n",
       "      <td>0.0</td>\n",
       "    </tr>\n",
       "    <tr>\n",
       "      <th>3</th>\n",
       "      <td>001519c8</td>\n",
       "      <td>30.0</td>\n",
       "      <td>0.0</td>\n",
       "    </tr>\n",
       "    <tr>\n",
       "      <th>4</th>\n",
       "      <td>001519c8</td>\n",
       "      <td>40.0</td>\n",
       "      <td>0.0</td>\n",
       "    </tr>\n",
       "    <tr>\n",
       "      <th>...</th>\n",
       "      <td>...</td>\n",
       "      <td>...</td>\n",
       "      <td>...</td>\n",
       "    </tr>\n",
       "    <tr>\n",
       "      <th>430160</th>\n",
       "      <td>fff05981</td>\n",
       "      <td>1990.0</td>\n",
       "      <td>241.0</td>\n",
       "    </tr>\n",
       "    <tr>\n",
       "      <th>430161</th>\n",
       "      <td>fff05981</td>\n",
       "      <td>2000.0</td>\n",
       "      <td>241.0</td>\n",
       "    </tr>\n",
       "    <tr>\n",
       "      <th>430162</th>\n",
       "      <td>fff05981</td>\n",
       "      <td>2010.0</td>\n",
       "      <td>240.0</td>\n",
       "    </tr>\n",
       "    <tr>\n",
       "      <th>430163</th>\n",
       "      <td>fff05981</td>\n",
       "      <td>2020.0</td>\n",
       "      <td>240.0</td>\n",
       "    </tr>\n",
       "    <tr>\n",
       "      <th>430164</th>\n",
       "      <td>fff05981</td>\n",
       "      <td>2030.0</td>\n",
       "      <td>240.0</td>\n",
       "    </tr>\n",
       "  </tbody>\n",
       "</table>\n",
       "<p>430165 rows × 3 columns</p>\n",
       "</div>"
      ],
      "text/plain": [
       "              id  time_bin  word_count\n",
       "0       001519c8       0.0         0.0\n",
       "1       001519c8      10.0         0.0\n",
       "2       001519c8      20.0         0.0\n",
       "3       001519c8      30.0         0.0\n",
       "4       001519c8      40.0         0.0\n",
       "...          ...       ...         ...\n",
       "430160  fff05981    1990.0       241.0\n",
       "430161  fff05981    2000.0       241.0\n",
       "430162  fff05981    2010.0       240.0\n",
       "430163  fff05981    2020.0       240.0\n",
       "430164  fff05981    2030.0       240.0\n",
       "\n",
       "[430165 rows x 3 columns]"
      ]
     },
     "execution_count": 18,
     "metadata": {},
     "output_type": "execute_result"
    }
   ],
   "source": [
    "grp_df"
   ]
  },
  {
   "cell_type": "code",
   "execution_count": 16,
   "metadata": {},
   "outputs": [
    {
     "data": {
      "text/html": [
       "<div>\n",
       "<style scoped>\n",
       "    .dataframe tbody tr th:only-of-type {\n",
       "        vertical-align: middle;\n",
       "    }\n",
       "\n",
       "    .dataframe tbody tr th {\n",
       "        vertical-align: top;\n",
       "    }\n",
       "\n",
       "    .dataframe thead th {\n",
       "        text-align: right;\n",
       "    }\n",
       "</style>\n",
       "<table border=\"1\" class=\"dataframe\">\n",
       "  <thead>\n",
       "    <tr style=\"text-align: right;\">\n",
       "      <th></th>\n",
       "      <th>id</th>\n",
       "      <th>time_bin</th>\n",
       "    </tr>\n",
       "  </thead>\n",
       "  <tbody>\n",
       "    <tr>\n",
       "      <th>0</th>\n",
       "      <td>001519c8</td>\n",
       "      <td>0</td>\n",
       "    </tr>\n",
       "    <tr>\n",
       "      <th>1</th>\n",
       "      <td>001519c8</td>\n",
       "      <td>10</td>\n",
       "    </tr>\n",
       "    <tr>\n",
       "      <th>2</th>\n",
       "      <td>001519c8</td>\n",
       "      <td>20</td>\n",
       "    </tr>\n",
       "    <tr>\n",
       "      <th>3</th>\n",
       "      <td>001519c8</td>\n",
       "      <td>30</td>\n",
       "    </tr>\n",
       "    <tr>\n",
       "      <th>4</th>\n",
       "      <td>001519c8</td>\n",
       "      <td>40</td>\n",
       "    </tr>\n",
       "    <tr>\n",
       "      <th>...</th>\n",
       "      <td>...</td>\n",
       "      <td>...</td>\n",
       "    </tr>\n",
       "    <tr>\n",
       "      <th>199</th>\n",
       "      <td>fff05981</td>\n",
       "      <td>1990</td>\n",
       "    </tr>\n",
       "    <tr>\n",
       "      <th>200</th>\n",
       "      <td>fff05981</td>\n",
       "      <td>2000</td>\n",
       "    </tr>\n",
       "    <tr>\n",
       "      <th>201</th>\n",
       "      <td>fff05981</td>\n",
       "      <td>2010</td>\n",
       "    </tr>\n",
       "    <tr>\n",
       "      <th>202</th>\n",
       "      <td>fff05981</td>\n",
       "      <td>2020</td>\n",
       "    </tr>\n",
       "    <tr>\n",
       "      <th>203</th>\n",
       "      <td>fff05981</td>\n",
       "      <td>2030</td>\n",
       "    </tr>\n",
       "  </tbody>\n",
       "</table>\n",
       "<p>430165 rows × 2 columns</p>\n",
       "</div>"
      ],
      "text/plain": [
       "           id  time_bin\n",
       "0    001519c8         0\n",
       "1    001519c8        10\n",
       "2    001519c8        20\n",
       "3    001519c8        30\n",
       "4    001519c8        40\n",
       "..        ...       ...\n",
       "199  fff05981      1990\n",
       "200  fff05981      2000\n",
       "201  fff05981      2010\n",
       "202  fff05981      2020\n",
       "203  fff05981      2030\n",
       "\n",
       "[430165 rows x 2 columns]"
      ]
     },
     "execution_count": 16,
     "metadata": {},
     "output_type": "execute_result"
    }
   ],
   "source": [
    "pad_df.ffill()"
   ]
  },
  {
   "cell_type": "code",
   "execution_count": 15,
   "metadata": {},
   "outputs": [
    {
     "data": {
      "text/html": [
       "<div>\n",
       "<style scoped>\n",
       "    .dataframe tbody tr th:only-of-type {\n",
       "        vertical-align: middle;\n",
       "    }\n",
       "\n",
       "    .dataframe tbody tr th {\n",
       "        vertical-align: top;\n",
       "    }\n",
       "\n",
       "    .dataframe thead th {\n",
       "        text-align: right;\n",
       "    }\n",
       "</style>\n",
       "<table border=\"1\" class=\"dataframe\">\n",
       "  <thead>\n",
       "    <tr style=\"text-align: right;\">\n",
       "      <th></th>\n",
       "      <th>id</th>\n",
       "      <th>time_bin</th>\n",
       "      <th>word_count</th>\n",
       "    </tr>\n",
       "  </thead>\n",
       "  <tbody>\n",
       "    <tr>\n",
       "      <th>0</th>\n",
       "      <td>001519c8</td>\n",
       "      <td>0.0</td>\n",
       "      <td>0.0</td>\n",
       "    </tr>\n",
       "    <tr>\n",
       "      <th>1</th>\n",
       "      <td>001519c8</td>\n",
       "      <td>10.0</td>\n",
       "      <td>ffill</td>\n",
       "    </tr>\n",
       "    <tr>\n",
       "      <th>2</th>\n",
       "      <td>001519c8</td>\n",
       "      <td>20.0</td>\n",
       "      <td>ffill</td>\n",
       "    </tr>\n",
       "    <tr>\n",
       "      <th>3</th>\n",
       "      <td>001519c8</td>\n",
       "      <td>30.0</td>\n",
       "      <td>ffill</td>\n",
       "    </tr>\n",
       "    <tr>\n",
       "      <th>4</th>\n",
       "      <td>001519c8</td>\n",
       "      <td>40.0</td>\n",
       "      <td>ffill</td>\n",
       "    </tr>\n",
       "    <tr>\n",
       "      <th>...</th>\n",
       "      <td>...</td>\n",
       "      <td>...</td>\n",
       "      <td>...</td>\n",
       "    </tr>\n",
       "    <tr>\n",
       "      <th>430160</th>\n",
       "      <td>fff05981</td>\n",
       "      <td>1990.0</td>\n",
       "      <td>241.0</td>\n",
       "    </tr>\n",
       "    <tr>\n",
       "      <th>430161</th>\n",
       "      <td>fff05981</td>\n",
       "      <td>2000.0</td>\n",
       "      <td>241.0</td>\n",
       "    </tr>\n",
       "    <tr>\n",
       "      <th>430162</th>\n",
       "      <td>fff05981</td>\n",
       "      <td>2010.0</td>\n",
       "      <td>240.0</td>\n",
       "    </tr>\n",
       "    <tr>\n",
       "      <th>430163</th>\n",
       "      <td>fff05981</td>\n",
       "      <td>2020.0</td>\n",
       "      <td>240.0</td>\n",
       "    </tr>\n",
       "    <tr>\n",
       "      <th>430164</th>\n",
       "      <td>fff05981</td>\n",
       "      <td>2030.0</td>\n",
       "      <td>240.0</td>\n",
       "    </tr>\n",
       "  </tbody>\n",
       "</table>\n",
       "<p>430165 rows × 3 columns</p>\n",
       "</div>"
      ],
      "text/plain": [
       "              id  time_bin word_count\n",
       "0       001519c8       0.0        0.0\n",
       "1       001519c8      10.0      ffill\n",
       "2       001519c8      20.0      ffill\n",
       "3       001519c8      30.0      ffill\n",
       "4       001519c8      40.0      ffill\n",
       "...          ...       ...        ...\n",
       "430160  fff05981    1990.0      241.0\n",
       "430161  fff05981    2000.0      241.0\n",
       "430162  fff05981    2010.0      240.0\n",
       "430163  fff05981    2020.0      240.0\n",
       "430164  fff05981    2030.0      240.0\n",
       "\n",
       "[430165 rows x 3 columns]"
      ]
     },
     "execution_count": 15,
     "metadata": {},
     "output_type": "execute_result"
    }
   ],
   "source": [
    "grp_df"
   ]
  },
  {
   "cell_type": "code",
   "execution_count": 14,
   "metadata": {},
   "outputs": [],
   "source": [
    "grp_df = grp_df.fillna('ffill')"
   ]
  },
  {
   "cell_type": "code",
   "execution_count": null,
   "metadata": {},
   "outputs": [],
   "source": [
    "grp_df"
   ]
  },
  {
   "cell_type": "code",
   "execution_count": 9,
   "metadata": {},
   "outputs": [
    {
     "data": {
      "text/html": [
       "<div>\n",
       "<style scoped>\n",
       "    .dataframe tbody tr th:only-of-type {\n",
       "        vertical-align: middle;\n",
       "    }\n",
       "\n",
       "    .dataframe tbody tr th {\n",
       "        vertical-align: top;\n",
       "    }\n",
       "\n",
       "    .dataframe thead th {\n",
       "        text-align: right;\n",
       "    }\n",
       "</style>\n",
       "<table border=\"1\" class=\"dataframe\">\n",
       "  <thead>\n",
       "    <tr style=\"text-align: right;\">\n",
       "      <th></th>\n",
       "      <th>id</th>\n",
       "      <th>time_bin</th>\n",
       "    </tr>\n",
       "  </thead>\n",
       "  <tbody>\n",
       "    <tr>\n",
       "      <th>0</th>\n",
       "      <td>001519c8</td>\n",
       "      <td>0</td>\n",
       "    </tr>\n",
       "    <tr>\n",
       "      <th>1</th>\n",
       "      <td>001519c8</td>\n",
       "      <td>10</td>\n",
       "    </tr>\n",
       "    <tr>\n",
       "      <th>2</th>\n",
       "      <td>001519c8</td>\n",
       "      <td>20</td>\n",
       "    </tr>\n",
       "    <tr>\n",
       "      <th>3</th>\n",
       "      <td>001519c8</td>\n",
       "      <td>30</td>\n",
       "    </tr>\n",
       "    <tr>\n",
       "      <th>4</th>\n",
       "      <td>001519c8</td>\n",
       "      <td>40</td>\n",
       "    </tr>\n",
       "    <tr>\n",
       "      <th>...</th>\n",
       "      <td>...</td>\n",
       "      <td>...</td>\n",
       "    </tr>\n",
       "    <tr>\n",
       "      <th>176</th>\n",
       "      <td>001519c8</td>\n",
       "      <td>1760</td>\n",
       "    </tr>\n",
       "    <tr>\n",
       "      <th>177</th>\n",
       "      <td>001519c8</td>\n",
       "      <td>1770</td>\n",
       "    </tr>\n",
       "    <tr>\n",
       "      <th>178</th>\n",
       "      <td>001519c8</td>\n",
       "      <td>1780</td>\n",
       "    </tr>\n",
       "    <tr>\n",
       "      <th>179</th>\n",
       "      <td>001519c8</td>\n",
       "      <td>1790</td>\n",
       "    </tr>\n",
       "    <tr>\n",
       "      <th>180</th>\n",
       "      <td>001519c8</td>\n",
       "      <td>1800</td>\n",
       "    </tr>\n",
       "  </tbody>\n",
       "</table>\n",
       "<p>181 rows × 2 columns</p>\n",
       "</div>"
      ],
      "text/plain": [
       "           id  time_bin\n",
       "0    001519c8         0\n",
       "1    001519c8        10\n",
       "2    001519c8        20\n",
       "3    001519c8        30\n",
       "4    001519c8        40\n",
       "..        ...       ...\n",
       "176  001519c8      1760\n",
       "177  001519c8      1770\n",
       "178  001519c8      1780\n",
       "179  001519c8      1790\n",
       "180  001519c8      1800\n",
       "\n",
       "[181 rows x 2 columns]"
      ]
     },
     "execution_count": 9,
     "metadata": {},
     "output_type": "execute_result"
    }
   ],
   "source": [
    "tr_logs"
   ]
  },
  {
   "cell_type": "code",
   "execution_count": 91,
   "metadata": {},
   "outputs": [],
   "source": [
    "# Step 2 & 3: Create Padding DataFrame\n",
    "pad_df = pd.DataFrame()\n",
    "for id, max_time in max_down_time.items():\n",
    "    time_steps = list(range(0, int(max_time) + time_agg, time_agg))\n",
    "    padding_df = pd.DataFrame({'id': id, 'time_bin': time_steps})\n",
    "    pad_df = pd.concat([pad_df, padding_df])"
   ]
  },
  {
   "cell_type": "code",
   "execution_count": 93,
   "metadata": {},
   "outputs": [],
   "source": [
    "AGGREGATIONS = ['count', 'mean', 'std', 'max', q1, 'median', q3, 'skew', pd.DataFrame.kurt]\n",
    "\n",
    "pad_df = pd.DataFrame()\n",
    "for id, max_time in max_down_time.items():\n",
    "    time_steps = list(range(0, int(max_time) + time_agg, time_agg))\n",
    "    padding_df = pd.DataFrame({'id': id, 'time_bin': time_steps})\n",
    "    pad_df = pd.concat([pad_df, padding_df])\n",
    "\n",
    "df = train_logs[['id', 'down_time', 'word_count']].copy()\n",
    "df['down_time_sec'] = df['down_time'] / 1000\n",
    "df['time_bin'] = df['down_time_sec'].apply(lambda x: time_agg * (x // time_agg))\n",
    "grp_df = df.groupby(['id', 'time_bin'])['word_count'].max().reset_index()\n",
    "\n",
    "grp_df = grp_df.merge(pad_df, on=['id', 'time_bin'], how='right')\n",
    "\n",
    "word_count_diff = grp_df.groupby('id')['word_count'].diff().fillna(0)\n",
    "time_bin_diff = grp_df.groupby('id')['time_bin'].diff().fillna(0)\n",
    "grp_df['rate_of_change'] = (word_count_diff / time_bin_diff).fillna(0)\n",
    "\n",
    "stats = grp_df[['id','rate_of_change']].groupby(['id']).agg(AGGREGATIONS)\n",
    "stats.columns = ['_'.join(x) for x in stats.columns]"
   ]
  },
  {
   "cell_type": "code",
   "execution_count": 16,
   "metadata": {},
   "outputs": [
    {
     "name": "stderr",
     "output_type": "stream",
     "text": [
      "100%|██████████| 2471/2471 [00:07<00:00, 312.13it/s]\n",
      "100%|██████████| 3/3 [00:00<00:00, 3151.24it/s]\n"
     ]
    },
    {
     "name": "stdout",
     "output_type": "stream",
     "text": [
      "LGBM Average RMSE over 50 folds: 0.641185\n",
      "Mean RMSE of all iterations: 0.644486\n"
     ]
    }
   ],
   "source": [
    "from m5_models import cv_pipeline\n",
    "from m3_model_params import lgb_params_1 as params\n",
    "from m4_feats_polars import countvectorize_one_one\n",
    "\n",
    "train_roc, test_roc = rate_of_change_feats(train_logs, test_logs, 5)\n",
    "train_feats = train_roc.merge(train_scores, on=['id'], how='left')\n",
    "test_feats = test_roc.copy()\n",
    "\n",
    "tr_vect, ts_vect = countvectorize_one_one(train_logs, test_logs)\n",
    "train_feats = train_feats.merge(tr_vect, on=['id'], how='left')\n",
    "test_feats = test_feats.merge(test_feats, on=['id'], how='left')\n",
    "\n",
    "_,_,_,_ = cv_pipeline(train_feats, test_feats, params, 'gbdt')"
   ]
  },
  {
   "cell_type": "markdown",
   "metadata": {},
   "source": [
    "LGBM Average RMSE over 50 folds: 0.640596\n",
    "Mean RMSE of all iterations: 0.6438"
   ]
  },
  {
   "cell_type": "code",
   "execution_count": 5,
   "metadata": {},
   "outputs": [
    {
     "name": "stderr",
     "output_type": "stream",
     "text": [
      "100%|██████████| 2471/2471 [00:07<00:00, 327.43it/s]\n",
      "100%|██████████| 3/3 [00:00<00:00, 2631.86it/s]\n"
     ]
    },
    {
     "name": "stdout",
     "output_type": "stream",
     "text": [
      "LGBM Average RMSE over 50 folds: 0.662483\n",
      "Mean RMSE of all iterations: 0.664685\n"
     ]
    }
   ],
   "source": [
    "from m4_feats_polars import *\n",
    "from m3_model_params import lgb_params_1 as params \n",
    "\n",
    "test_logs   = pl.scan_csv(INPUT_DIR + '/test_logs.csv').collect().to_pandas()\n",
    "tr_feats, ts_feats = countvectorize_one_one(train_logs, test_logs)\n",
    "\n",
    "train_feats = tr_feats.merge(train_scores, on='id', how='left')\n",
    "test_feats = ts_feats.copy()\n",
    "missing_cols = set(tr_feats.columns) - set(ts_feats.columns)\n",
    "\n",
    "for col in missing_cols:\n",
    "    test_feats[col] = np.nan\n",
    "\n",
    "_,_,_,_ = cv_pipeline(train_feats, test_feats, params, 'gbdt')"
   ]
  },
  {
   "cell_type": "markdown",
   "metadata": {},
   "source": [
    "16toks\n",
    "LGBM Average RMSE over 50 folds: 0.660058\n",
    "Mean RMSE of all iterations: 0.662582"
   ]
  },
  {
   "cell_type": "markdown",
   "metadata": {},
   "source": [
    "roc - all features\n",
    "LGBM Average RMSE over 50 folds: 0.702210\n",
    "Mean RMSE of all iterations: 0.704513\n",
    "\n",
    "both\n",
    "LGBM Average RMSE over 50 folds: 0.700664\n",
    "Mean RMSE of all iterations: 0.702844"
   ]
  },
  {
   "cell_type": "code",
   "execution_count": 64,
   "metadata": {},
   "outputs": [
    {
     "data": {
      "text/plain": [
       "id\n",
       "001519c8    0.043348\n",
       "0022f953    0.126891\n",
       "0042269b    0.289170\n",
       "0059420b    0.031068\n",
       "0075873a    0.118257\n",
       "              ...   \n",
       "ffb8c745    3.177869\n",
       "ffbef7e5    0.062108\n",
       "ffccd6fd    0.024770\n",
       "ffec5b38    0.068829\n",
       "fff05981    0.112743\n",
       "Name: rate_of_change, Length: 2471, dtype: float64"
      ]
     },
     "execution_count": 64,
     "metadata": {},
     "output_type": "execute_result"
    }
   ],
   "source": [
    "burstiness"
   ]
  },
  {
   "cell_type": "code",
   "execution_count": 63,
   "metadata": {},
   "outputs": [
    {
     "data": {
      "text/html": [
       "<div>\n",
       "<style scoped>\n",
       "    .dataframe tbody tr th:only-of-type {\n",
       "        vertical-align: middle;\n",
       "    }\n",
       "\n",
       "    .dataframe tbody tr th {\n",
       "        vertical-align: top;\n",
       "    }\n",
       "\n",
       "    .dataframe thead th {\n",
       "        text-align: right;\n",
       "    }\n",
       "</style>\n",
       "<table border=\"1\" class=\"dataframe\">\n",
       "  <thead>\n",
       "    <tr style=\"text-align: right;\">\n",
       "      <th></th>\n",
       "      <th>id</th>\n",
       "      <th>time_bin</th>\n",
       "      <th>word_count</th>\n",
       "      <th>rate_of_change</th>\n",
       "      <th>acceleration</th>\n",
       "    </tr>\n",
       "  </thead>\n",
       "  <tbody>\n",
       "    <tr>\n",
       "      <th>0</th>\n",
       "      <td>001519c8</td>\n",
       "      <td>0.0</td>\n",
       "      <td>0</td>\n",
       "      <td>NaN</td>\n",
       "      <td>NaN</td>\n",
       "    </tr>\n",
       "    <tr>\n",
       "      <th>1</th>\n",
       "      <td>001519c8</td>\n",
       "      <td>100.0</td>\n",
       "      <td>3</td>\n",
       "      <td>0.03</td>\n",
       "      <td>NaN</td>\n",
       "    </tr>\n",
       "    <tr>\n",
       "      <th>2</th>\n",
       "      <td>001519c8</td>\n",
       "      <td>110.0</td>\n",
       "      <td>12</td>\n",
       "      <td>0.90</td>\n",
       "      <td>0.087</td>\n",
       "    </tr>\n",
       "    <tr>\n",
       "      <th>3</th>\n",
       "      <td>001519c8</td>\n",
       "      <td>120.0</td>\n",
       "      <td>12</td>\n",
       "      <td>0.00</td>\n",
       "      <td>-0.090</td>\n",
       "    </tr>\n",
       "    <tr>\n",
       "      <th>4</th>\n",
       "      <td>001519c8</td>\n",
       "      <td>150.0</td>\n",
       "      <td>12</td>\n",
       "      <td>0.00</td>\n",
       "      <td>0.000</td>\n",
       "    </tr>\n",
       "    <tr>\n",
       "      <th>...</th>\n",
       "      <td>...</td>\n",
       "      <td>...</td>\n",
       "      <td>...</td>\n",
       "      <td>...</td>\n",
       "      <td>...</td>\n",
       "    </tr>\n",
       "    <tr>\n",
       "      <th>303960</th>\n",
       "      <td>fff05981</td>\n",
       "      <td>2030.0</td>\n",
       "      <td>241</td>\n",
       "      <td>0.00</td>\n",
       "      <td>-0.040</td>\n",
       "    </tr>\n",
       "    <tr>\n",
       "      <th>303961</th>\n",
       "      <td>fff05981</td>\n",
       "      <td>2040.0</td>\n",
       "      <td>241</td>\n",
       "      <td>0.00</td>\n",
       "      <td>0.000</td>\n",
       "    </tr>\n",
       "    <tr>\n",
       "      <th>303962</th>\n",
       "      <td>fff05981</td>\n",
       "      <td>2050.0</td>\n",
       "      <td>240</td>\n",
       "      <td>-0.10</td>\n",
       "      <td>-0.010</td>\n",
       "    </tr>\n",
       "    <tr>\n",
       "      <th>303963</th>\n",
       "      <td>fff05981</td>\n",
       "      <td>2060.0</td>\n",
       "      <td>240</td>\n",
       "      <td>0.00</td>\n",
       "      <td>0.010</td>\n",
       "    </tr>\n",
       "    <tr>\n",
       "      <th>303964</th>\n",
       "      <td>fff05981</td>\n",
       "      <td>2070.0</td>\n",
       "      <td>240</td>\n",
       "      <td>0.00</td>\n",
       "      <td>0.000</td>\n",
       "    </tr>\n",
       "  </tbody>\n",
       "</table>\n",
       "<p>303965 rows × 5 columns</p>\n",
       "</div>"
      ],
      "text/plain": [
       "              id  time_bin  word_count  rate_of_change  acceleration\n",
       "0       001519c8       0.0           0             NaN           NaN\n",
       "1       001519c8     100.0           3            0.03           NaN\n",
       "2       001519c8     110.0          12            0.90         0.087\n",
       "3       001519c8     120.0          12            0.00        -0.090\n",
       "4       001519c8     150.0          12            0.00         0.000\n",
       "...          ...       ...         ...             ...           ...\n",
       "303960  fff05981    2030.0         241            0.00        -0.040\n",
       "303961  fff05981    2040.0         241            0.00         0.000\n",
       "303962  fff05981    2050.0         240           -0.10        -0.010\n",
       "303963  fff05981    2060.0         240            0.00         0.010\n",
       "303964  fff05981    2070.0         240            0.00         0.000\n",
       "\n",
       "[303965 rows x 5 columns]"
      ]
     },
     "execution_count": 63,
     "metadata": {},
     "output_type": "execute_result"
    }
   ],
   "source": [
    "aggregated_data"
   ]
  },
  {
   "cell_type": "code",
   "execution_count": 61,
   "metadata": {},
   "outputs": [],
   "source": [
    "aggregated_data['count_of_plateaus'] = aggregated_data['rate_of_change']"
   ]
  },
  {
   "cell_type": "code",
   "execution_count": null,
   "metadata": {},
   "outputs": [],
   "source": [
    "aggregated_data['rate_of_change'] = aggregated_data['word_count'].diff() / aggregated_data['time_bin'].diff()\n",
    "aggregated_data['acceleration'] = aggregated_data['rate_of_change'].diff() / aggregated_data['time_bin'].diff()\n",
    "burstiness = aggregated_data['rate_of_change'].var()\n",
    "plateaus = aggregated_data[aggregated_data['rate_of_change'] == 0]\n",
    "average_word_count_per_interval = aggregated_data['rate_of_change'].mean()"
   ]
  },
  {
   "cell_type": "code",
   "execution_count": 66,
   "metadata": {},
   "outputs": [
    {
     "data": {
      "text/plain": [
       "id\n",
       "001519c8    0.187125\n",
       "0022f953    0.287237\n",
       "0042269b    0.339173\n",
       "0059420b    0.191538\n",
       "0075873a    0.215201\n",
       "              ...   \n",
       "ffb8c745    0.277810\n",
       "ffbef7e5    0.325700\n",
       "ffccd6fd    0.145013\n",
       "ffec5b38    0.371174\n",
       "fff05981    0.137594\n",
       "Name: rate_of_change, Length: 2471, dtype: float64"
      ]
     },
     "execution_count": 66,
     "metadata": {},
     "output_type": "execute_result"
    }
   ],
   "source": [
    "# FEATURES\n",
    "average_word_count_per_interval = aggregated_data.groupby('id')['rate_of_change'].mean()\n",
    "burstiness = aggregated_data.groupby(['id'])['rate_of_change'].var()\n"
   ]
  },
  {
   "cell_type": "code",
   "execution_count": null,
   "metadata": {},
   "outputs": [],
   "source": [
    "burstiness = aggregated_data['rate_of_change'].var()\n",
    "plateaus = aggregated_data[aggregated_data['rate_of_change'] == 0]\n",
    "average_word_count_per_interval = aggregated_data['rate_of_change'].mean()"
   ]
  },
  {
   "cell_type": "code",
   "execution_count": 65,
   "metadata": {},
   "outputs": [
    {
     "data": {
      "text/plain": [
       "0.10143425238600207"
      ]
     },
     "execution_count": 65,
     "metadata": {},
     "output_type": "execute_result"
    }
   ],
   "source": [
    "average_word_count_per_interval"
   ]
  },
  {
   "cell_type": "code",
   "execution_count": null,
   "metadata": {},
   "outputs": [],
   "source": [
    "\n",
    "aggregated_data['rate_of_change'] = aggregated_data['word_count'].diff() / aggregated_data['time_bin'].diff()\n",
    "aggregated_data['acceleration'] = aggregated_data['rate_of_change'].diff() / aggregated_data['time_bin'].diff()\n",
    "\n",
    "# Calculate burstiness: variance of the rate of change\n",
    "burstiness = aggregated_data['rate_of_change'].var()\n",
    "\n",
    "# Detect plateaus: where the rate of change is zero (or near-zero which we might define later)\n",
    "plateaus = aggregated_data[aggregated_data['rate_of_change'] == 0]\n",
    "\n",
    "# Calculate average word count per interval\n",
    "# Here we consider each row as an interval, so the average is the rate of change itself\n",
    "average_word_count_per_interval = aggregated_data['rate_of_change'].mean()\n",
    "\n",
    "aggregated_data.head(), burstiness, plateaus, average_word_count_per_interval\n"
   ]
  },
  {
   "cell_type": "code",
   "execution_count": 3,
   "metadata": {},
   "outputs": [
    {
     "data": {
      "text/html": [
       "<div>\n",
       "<style scoped>\n",
       "    .dataframe tbody tr th:only-of-type {\n",
       "        vertical-align: middle;\n",
       "    }\n",
       "\n",
       "    .dataframe tbody tr th {\n",
       "        vertical-align: top;\n",
       "    }\n",
       "\n",
       "    .dataframe thead th {\n",
       "        text-align: right;\n",
       "    }\n",
       "</style>\n",
       "<table border=\"1\" class=\"dataframe\">\n",
       "  <thead>\n",
       "    <tr style=\"text-align: right;\">\n",
       "      <th></th>\n",
       "      <th>id</th>\n",
       "      <th>event_id</th>\n",
       "      <th>down_time</th>\n",
       "      <th>up_time</th>\n",
       "      <th>action_time</th>\n",
       "      <th>activity</th>\n",
       "      <th>down_event</th>\n",
       "      <th>up_event</th>\n",
       "      <th>text_change</th>\n",
       "      <th>cursor_position</th>\n",
       "      <th>word_count</th>\n",
       "    </tr>\n",
       "  </thead>\n",
       "  <tbody>\n",
       "    <tr>\n",
       "      <th>0</th>\n",
       "      <td>001519c8</td>\n",
       "      <td>1</td>\n",
       "      <td>4526</td>\n",
       "      <td>4557</td>\n",
       "      <td>31</td>\n",
       "      <td>Nonproduction</td>\n",
       "      <td>Leftclick</td>\n",
       "      <td>Leftclick</td>\n",
       "      <td>NoChange</td>\n",
       "      <td>0</td>\n",
       "      <td>0</td>\n",
       "    </tr>\n",
       "    <tr>\n",
       "      <th>1</th>\n",
       "      <td>001519c8</td>\n",
       "      <td>2</td>\n",
       "      <td>4558</td>\n",
       "      <td>4962</td>\n",
       "      <td>404</td>\n",
       "      <td>Nonproduction</td>\n",
       "      <td>Leftclick</td>\n",
       "      <td>Leftclick</td>\n",
       "      <td>NoChange</td>\n",
       "      <td>0</td>\n",
       "      <td>0</td>\n",
       "    </tr>\n",
       "    <tr>\n",
       "      <th>2</th>\n",
       "      <td>001519c8</td>\n",
       "      <td>3</td>\n",
       "      <td>106571</td>\n",
       "      <td>106571</td>\n",
       "      <td>0</td>\n",
       "      <td>Nonproduction</td>\n",
       "      <td>Shift</td>\n",
       "      <td>Shift</td>\n",
       "      <td>NoChange</td>\n",
       "      <td>0</td>\n",
       "      <td>0</td>\n",
       "    </tr>\n",
       "    <tr>\n",
       "      <th>3</th>\n",
       "      <td>001519c8</td>\n",
       "      <td>4</td>\n",
       "      <td>106686</td>\n",
       "      <td>106777</td>\n",
       "      <td>91</td>\n",
       "      <td>Input</td>\n",
       "      <td>q</td>\n",
       "      <td>q</td>\n",
       "      <td>q</td>\n",
       "      <td>1</td>\n",
       "      <td>1</td>\n",
       "    </tr>\n",
       "    <tr>\n",
       "      <th>4</th>\n",
       "      <td>001519c8</td>\n",
       "      <td>5</td>\n",
       "      <td>107196</td>\n",
       "      <td>107323</td>\n",
       "      <td>127</td>\n",
       "      <td>Input</td>\n",
       "      <td>q</td>\n",
       "      <td>q</td>\n",
       "      <td>q</td>\n",
       "      <td>2</td>\n",
       "      <td>1</td>\n",
       "    </tr>\n",
       "    <tr>\n",
       "      <th>5</th>\n",
       "      <td>001519c8</td>\n",
       "      <td>6</td>\n",
       "      <td>107296</td>\n",
       "      <td>107400</td>\n",
       "      <td>104</td>\n",
       "      <td>Input</td>\n",
       "      <td>q</td>\n",
       "      <td>q</td>\n",
       "      <td>q</td>\n",
       "      <td>3</td>\n",
       "      <td>1</td>\n",
       "    </tr>\n",
       "  </tbody>\n",
       "</table>\n",
       "</div>"
      ],
      "text/plain": [
       "         id  event_id  down_time  up_time  action_time       activity  \\\n",
       "0  001519c8         1       4526     4557           31  Nonproduction   \n",
       "1  001519c8         2       4558     4962          404  Nonproduction   \n",
       "2  001519c8         3     106571   106571            0  Nonproduction   \n",
       "3  001519c8         4     106686   106777           91          Input   \n",
       "4  001519c8         5     107196   107323          127          Input   \n",
       "5  001519c8         6     107296   107400          104          Input   \n",
       "\n",
       "  down_event   up_event text_change  cursor_position  word_count  \n",
       "0  Leftclick  Leftclick    NoChange                0           0  \n",
       "1  Leftclick  Leftclick    NoChange                0           0  \n",
       "2      Shift      Shift    NoChange                0           0  \n",
       "3          q          q           q                1           1  \n",
       "4          q          q           q                2           1  \n",
       "5          q          q           q                3           1  "
      ]
     },
     "execution_count": 3,
     "metadata": {},
     "output_type": "execute_result"
    }
   ],
   "source": [
    "train_logs.head(6)"
   ]
  },
  {
   "cell_type": "code",
   "execution_count": 13,
   "metadata": {},
   "outputs": [
    {
     "data": {
      "text/html": [
       "<div>\n",
       "<style scoped>\n",
       "    .dataframe tbody tr th:only-of-type {\n",
       "        vertical-align: middle;\n",
       "    }\n",
       "\n",
       "    .dataframe tbody tr th {\n",
       "        vertical-align: top;\n",
       "    }\n",
       "\n",
       "    .dataframe thead th {\n",
       "        text-align: right;\n",
       "    }\n",
       "</style>\n",
       "<table border=\"1\" class=\"dataframe\">\n",
       "  <thead>\n",
       "    <tr style=\"text-align: right;\">\n",
       "      <th></th>\n",
       "      <th>id</th>\n",
       "      <th>score</th>\n",
       "    </tr>\n",
       "  </thead>\n",
       "  <tbody>\n",
       "    <tr>\n",
       "      <th>2</th>\n",
       "      <td>0042269b</td>\n",
       "      <td>6.0</td>\n",
       "    </tr>\n",
       "    <tr>\n",
       "      <th>38</th>\n",
       "      <td>0395b217</td>\n",
       "      <td>5.5</td>\n",
       "    </tr>\n",
       "    <tr>\n",
       "      <th>44</th>\n",
       "      <td>044b274d</td>\n",
       "      <td>6.0</td>\n",
       "    </tr>\n",
       "    <tr>\n",
       "      <th>61</th>\n",
       "      <td>06336d82</td>\n",
       "      <td>6.0</td>\n",
       "    </tr>\n",
       "    <tr>\n",
       "      <th>67</th>\n",
       "      <td>06e59db8</td>\n",
       "      <td>6.0</td>\n",
       "    </tr>\n",
       "    <tr>\n",
       "      <th>...</th>\n",
       "      <td>...</td>\n",
       "      <td>...</td>\n",
       "    </tr>\n",
       "    <tr>\n",
       "      <th>2411</th>\n",
       "      <td>f9fd3268</td>\n",
       "      <td>6.0</td>\n",
       "    </tr>\n",
       "    <tr>\n",
       "      <th>2414</th>\n",
       "      <td>fa489e99</td>\n",
       "      <td>6.0</td>\n",
       "    </tr>\n",
       "    <tr>\n",
       "      <th>2423</th>\n",
       "      <td>fb682f46</td>\n",
       "      <td>5.5</td>\n",
       "    </tr>\n",
       "    <tr>\n",
       "      <th>2430</th>\n",
       "      <td>fc76950f</td>\n",
       "      <td>5.5</td>\n",
       "    </tr>\n",
       "    <tr>\n",
       "      <th>2431</th>\n",
       "      <td>fc95c51a</td>\n",
       "      <td>5.5</td>\n",
       "    </tr>\n",
       "  </tbody>\n",
       "</table>\n",
       "<p>165 rows × 2 columns</p>\n",
       "</div>"
      ],
      "text/plain": [
       "            id  score\n",
       "2     0042269b    6.0\n",
       "38    0395b217    5.5\n",
       "44    044b274d    6.0\n",
       "61    06336d82    6.0\n",
       "67    06e59db8    6.0\n",
       "...        ...    ...\n",
       "2411  f9fd3268    6.0\n",
       "2414  fa489e99    6.0\n",
       "2423  fb682f46    5.5\n",
       "2430  fc76950f    5.5\n",
       "2431  fc95c51a    5.5\n",
       "\n",
       "[165 rows x 2 columns]"
      ]
     },
     "execution_count": 13,
     "metadata": {},
     "output_type": "execute_result"
    }
   ],
   "source": [
    "train_scores[train_scores['score']>5]"
   ]
  },
  {
   "cell_type": "code",
   "execution_count": 24,
   "metadata": {},
   "outputs": [
    {
     "data": {
      "text/html": [
       "<div>\n",
       "<style scoped>\n",
       "    .dataframe tbody tr th:only-of-type {\n",
       "        vertical-align: middle;\n",
       "    }\n",
       "\n",
       "    .dataframe tbody tr th {\n",
       "        vertical-align: top;\n",
       "    }\n",
       "\n",
       "    .dataframe thead th {\n",
       "        text-align: right;\n",
       "    }\n",
       "</style>\n",
       "<table border=\"1\" class=\"dataframe\">\n",
       "  <thead>\n",
       "    <tr style=\"text-align: right;\">\n",
       "      <th></th>\n",
       "      <th>id</th>\n",
       "      <th>score</th>\n",
       "    </tr>\n",
       "  </thead>\n",
       "  <tbody>\n",
       "    <tr>\n",
       "      <th>24</th>\n",
       "      <td>01d0ba4b</td>\n",
       "      <td>1.5</td>\n",
       "    </tr>\n",
       "    <tr>\n",
       "      <th>45</th>\n",
       "      <td>044c5c54</td>\n",
       "      <td>1.0</td>\n",
       "    </tr>\n",
       "    <tr>\n",
       "      <th>84</th>\n",
       "      <td>08e3c7ae</td>\n",
       "      <td>1.0</td>\n",
       "    </tr>\n",
       "    <tr>\n",
       "      <th>104</th>\n",
       "      <td>0a4eae7a</td>\n",
       "      <td>1.5</td>\n",
       "    </tr>\n",
       "    <tr>\n",
       "      <th>122</th>\n",
       "      <td>0ca05fe3</td>\n",
       "      <td>1.5</td>\n",
       "    </tr>\n",
       "    <tr>\n",
       "      <th>...</th>\n",
       "      <td>...</td>\n",
       "      <td>...</td>\n",
       "    </tr>\n",
       "    <tr>\n",
       "      <th>2352</th>\n",
       "      <td>f413c831</td>\n",
       "      <td>1.5</td>\n",
       "    </tr>\n",
       "    <tr>\n",
       "      <th>2366</th>\n",
       "      <td>f564c467</td>\n",
       "      <td>1.0</td>\n",
       "    </tr>\n",
       "    <tr>\n",
       "      <th>2376</th>\n",
       "      <td>f605d266</td>\n",
       "      <td>1.5</td>\n",
       "    </tr>\n",
       "    <tr>\n",
       "      <th>2383</th>\n",
       "      <td>f65da054</td>\n",
       "      <td>1.0</td>\n",
       "    </tr>\n",
       "    <tr>\n",
       "      <th>2468</th>\n",
       "      <td>ffccd6fd</td>\n",
       "      <td>1.5</td>\n",
       "    </tr>\n",
       "  </tbody>\n",
       "</table>\n",
       "<p>109 rows × 2 columns</p>\n",
       "</div>"
      ],
      "text/plain": [
       "            id  score\n",
       "24    01d0ba4b    1.5\n",
       "45    044c5c54    1.0\n",
       "84    08e3c7ae    1.0\n",
       "104   0a4eae7a    1.5\n",
       "122   0ca05fe3    1.5\n",
       "...        ...    ...\n",
       "2352  f413c831    1.5\n",
       "2366  f564c467    1.0\n",
       "2376  f605d266    1.5\n",
       "2383  f65da054    1.0\n",
       "2468  ffccd6fd    1.5\n",
       "\n",
       "[109 rows x 2 columns]"
      ]
     },
     "execution_count": 24,
     "metadata": {},
     "output_type": "execute_result"
    }
   ],
   "source": [
    "train_scores[train_scores['score']<2]"
   ]
  },
  {
   "cell_type": "code",
   "execution_count": 31,
   "metadata": {},
   "outputs": [],
   "source": [
    "df[['id', 'word_count', 'time_bin']].to_csv('count_of_words.csv', index=False)"
   ]
  },
  {
   "cell_type": "code",
   "execution_count": 21,
   "metadata": {},
   "outputs": [
    {
     "data": {
      "image/png": "[encoded data removed]",
      "text/plain": [
       "<Figure size 1000x800 with 2 Axes>"
      ]
     },
     "metadata": {},
     "output_type": "display_data"
    }
   ],
   "source": [
    "import seaborn as sns\n",
    "import matplotlib.pyplot as plt\n",
    "\n",
    "df = train_acc.copy()\n",
    "df = df.merge(train_scores, on='id', how='left')\n",
    "\n",
    "# Compute the correlation matrix\n",
    "corr = df.corr()\n",
    "\n",
    "# Generate a mask for the upper triangle (optional)\n",
    "mask = np.triu(np.ones_like(corr, dtype=bool))\n",
    "\n",
    "# Set up the matplotlib figure\n",
    "plt.figure(figsize=(10, 8))\n",
    "\n",
    "# Draw the heatmap with the mask and correct aspect ratio\n",
    "sns.heatmap(corr, mask=mask, cmap='coolwarm', vmax=.3, center=0,\n",
    "            square=True, linewidths=.5, cbar_kws={\"shrink\": .5}, annot=True)\n",
    "\n",
    "plt.show()"
   ]
  },
  {
   "cell_type": "code",
   "execution_count": 33,
   "metadata": {},
   "outputs": [
    {
     "data": {
      "image/png": "[encoded data removed]",
      "text/plain": [
       "<Figure size 1000x600 with 1 Axes>"
      ]
     },
     "metadata": {},
     "output_type": "display_data"
    }
   ],
   "source": [
    "import pandas as pd\n",
    "import matplotlib.pyplot as plt\n",
    "\n",
    "time_agg = 1\n",
    "sample = train_logs[train_logs['id']=='f65da054']\n",
    "\n",
    "df = sample.copy()\n",
    "# Convert 'down_time' from milliseconds to seconds\n",
    "df['down_time_sec'] = df['down_time'] / 1000\n",
    "\n",
    "# Round down the time to the nearest 10 seconds for aggregation\n",
    "df['time_bin'] = df['down_time_sec'].apply(lambda x: time_agg * (x // time_agg))\n",
    "\n",
    "# Group by the new time bins and sum the word counts\n",
    "word_count_agg = df.groupby('time_bin')['word_count'].max()\n",
    "\n",
    "# Plotting\n",
    "plt.figure(figsize=(10, 6))\n",
    "plt.plot(word_count_agg.index, word_count_agg.values, marker='o')\n",
    "plt.title('Word Count Over Time (Aggregated in 10-second Intervals)')\n",
    "plt.xlabel('Time (seconds)')\n",
    "plt.ylabel('Word Count')\n",
    "plt.grid(True)\n",
    "plt.show()"
   ]
  },
  {
   "cell_type": "code",
   "execution_count": 8,
   "metadata": {},
   "outputs": [
    {
     "data": {
      "text/html": [
       "<div>\n",
       "<style scoped>\n",
       "    .dataframe tbody tr th:only-of-type {\n",
       "        vertical-align: middle;\n",
       "    }\n",
       "\n",
       "    .dataframe tbody tr th {\n",
       "        vertical-align: top;\n",
       "    }\n",
       "\n",
       "    .dataframe thead th {\n",
       "        text-align: right;\n",
       "    }\n",
       "</style>\n",
       "<table border=\"1\" class=\"dataframe\">\n",
       "  <thead>\n",
       "    <tr style=\"text-align: right;\">\n",
       "      <th></th>\n",
       "      <th>id</th>\n",
       "      <th>event_id</th>\n",
       "      <th>down_time</th>\n",
       "      <th>up_time</th>\n",
       "      <th>action_time</th>\n",
       "      <th>activity</th>\n",
       "      <th>down_event</th>\n",
       "      <th>up_event</th>\n",
       "      <th>text_change</th>\n",
       "      <th>cursor_position</th>\n",
       "      <th>word_count</th>\n",
       "      <th>down_time_sec</th>\n",
       "      <th>time_bin</th>\n",
       "    </tr>\n",
       "  </thead>\n",
       "  <tbody>\n",
       "    <tr>\n",
       "      <th>0</th>\n",
       "      <td>001519c8</td>\n",
       "      <td>1</td>\n",
       "      <td>4526</td>\n",
       "      <td>4557</td>\n",
       "      <td>31</td>\n",
       "      <td>Nonproduction</td>\n",
       "      <td>Leftclick</td>\n",
       "      <td>Leftclick</td>\n",
       "      <td>NoChange</td>\n",
       "      <td>0</td>\n",
       "      <td>0</td>\n",
       "      <td>4.526</td>\n",
       "      <td>0.0</td>\n",
       "    </tr>\n",
       "    <tr>\n",
       "      <th>1</th>\n",
       "      <td>001519c8</td>\n",
       "      <td>2</td>\n",
       "      <td>4558</td>\n",
       "      <td>4962</td>\n",
       "      <td>404</td>\n",
       "      <td>Nonproduction</td>\n",
       "      <td>Leftclick</td>\n",
       "      <td>Leftclick</td>\n",
       "      <td>NoChange</td>\n",
       "      <td>0</td>\n",
       "      <td>0</td>\n",
       "      <td>4.558</td>\n",
       "      <td>0.0</td>\n",
       "    </tr>\n",
       "    <tr>\n",
       "      <th>2</th>\n",
       "      <td>001519c8</td>\n",
       "      <td>3</td>\n",
       "      <td>106571</td>\n",
       "      <td>106571</td>\n",
       "      <td>0</td>\n",
       "      <td>Nonproduction</td>\n",
       "      <td>Shift</td>\n",
       "      <td>Shift</td>\n",
       "      <td>NoChange</td>\n",
       "      <td>0</td>\n",
       "      <td>0</td>\n",
       "      <td>106.571</td>\n",
       "      <td>100.0</td>\n",
       "    </tr>\n",
       "    <tr>\n",
       "      <th>3</th>\n",
       "      <td>001519c8</td>\n",
       "      <td>4</td>\n",
       "      <td>106686</td>\n",
       "      <td>106777</td>\n",
       "      <td>91</td>\n",
       "      <td>Input</td>\n",
       "      <td>q</td>\n",
       "      <td>q</td>\n",
       "      <td>q</td>\n",
       "      <td>1</td>\n",
       "      <td>1</td>\n",
       "      <td>106.686</td>\n",
       "      <td>100.0</td>\n",
       "    </tr>\n",
       "    <tr>\n",
       "      <th>4</th>\n",
       "      <td>001519c8</td>\n",
       "      <td>5</td>\n",
       "      <td>107196</td>\n",
       "      <td>107323</td>\n",
       "      <td>127</td>\n",
       "      <td>Input</td>\n",
       "      <td>q</td>\n",
       "      <td>q</td>\n",
       "      <td>q</td>\n",
       "      <td>2</td>\n",
       "      <td>1</td>\n",
       "      <td>107.196</td>\n",
       "      <td>100.0</td>\n",
       "    </tr>\n",
       "    <tr>\n",
       "      <th>...</th>\n",
       "      <td>...</td>\n",
       "      <td>...</td>\n",
       "      <td>...</td>\n",
       "      <td>...</td>\n",
       "      <td>...</td>\n",
       "      <td>...</td>\n",
       "      <td>...</td>\n",
       "      <td>...</td>\n",
       "      <td>...</td>\n",
       "      <td>...</td>\n",
       "      <td>...</td>\n",
       "      <td>...</td>\n",
       "      <td>...</td>\n",
       "    </tr>\n",
       "    <tr>\n",
       "      <th>2552</th>\n",
       "      <td>001519c8</td>\n",
       "      <td>2553</td>\n",
       "      <td>1781786</td>\n",
       "      <td>1781841</td>\n",
       "      <td>55</td>\n",
       "      <td>Remove/Cut</td>\n",
       "      <td>Backspace</td>\n",
       "      <td>Backspace</td>\n",
       "      <td>q</td>\n",
       "      <td>555</td>\n",
       "      <td>255</td>\n",
       "      <td>1781.786</td>\n",
       "      <td>1780.0</td>\n",
       "    </tr>\n",
       "    <tr>\n",
       "      <th>2553</th>\n",
       "      <td>001519c8</td>\n",
       "      <td>2554</td>\n",
       "      <td>1781917</td>\n",
       "      <td>1781991</td>\n",
       "      <td>74</td>\n",
       "      <td>Remove/Cut</td>\n",
       "      <td>Backspace</td>\n",
       "      <td>Backspace</td>\n",
       "      <td>q</td>\n",
       "      <td>554</td>\n",
       "      <td>255</td>\n",
       "      <td>1781.917</td>\n",
       "      <td>1780.0</td>\n",
       "    </tr>\n",
       "    <tr>\n",
       "      <th>2554</th>\n",
       "      <td>001519c8</td>\n",
       "      <td>2555</td>\n",
       "      <td>1782062</td>\n",
       "      <td>1782141</td>\n",
       "      <td>79</td>\n",
       "      <td>Remove/Cut</td>\n",
       "      <td>Backspace</td>\n",
       "      <td>Backspace</td>\n",
       "      <td>q</td>\n",
       "      <td>553</td>\n",
       "      <td>255</td>\n",
       "      <td>1782.062</td>\n",
       "      <td>1780.0</td>\n",
       "    </tr>\n",
       "    <tr>\n",
       "      <th>2555</th>\n",
       "      <td>001519c8</td>\n",
       "      <td>2556</td>\n",
       "      <td>1782922</td>\n",
       "      <td>1782985</td>\n",
       "      <td>63</td>\n",
       "      <td>Input</td>\n",
       "      <td>q</td>\n",
       "      <td>q</td>\n",
       "      <td>q</td>\n",
       "      <td>554</td>\n",
       "      <td>255</td>\n",
       "      <td>1782.922</td>\n",
       "      <td>1780.0</td>\n",
       "    </tr>\n",
       "    <tr>\n",
       "      <th>2556</th>\n",
       "      <td>001519c8</td>\n",
       "      <td>2557</td>\n",
       "      <td>1801877</td>\n",
       "      <td>1801969</td>\n",
       "      <td>92</td>\n",
       "      <td>Nonproduction</td>\n",
       "      <td>Leftclick</td>\n",
       "      <td>Leftclick</td>\n",
       "      <td>NoChange</td>\n",
       "      <td>1046</td>\n",
       "      <td>255</td>\n",
       "      <td>1801.877</td>\n",
       "      <td>1800.0</td>\n",
       "    </tr>\n",
       "  </tbody>\n",
       "</table>\n",
       "<p>2557 rows × 13 columns</p>\n",
       "</div>"
      ],
      "text/plain": [
       "            id  event_id  down_time  up_time  action_time       activity  \\\n",
       "0     001519c8         1       4526     4557           31  Nonproduction   \n",
       "1     001519c8         2       4558     4962          404  Nonproduction   \n",
       "2     001519c8         3     106571   106571            0  Nonproduction   \n",
       "3     001519c8         4     106686   106777           91          Input   \n",
       "4     001519c8         5     107196   107323          127          Input   \n",
       "...        ...       ...        ...      ...          ...            ...   \n",
       "2552  001519c8      2553    1781786  1781841           55     Remove/Cut   \n",
       "2553  001519c8      2554    1781917  1781991           74     Remove/Cut   \n",
       "2554  001519c8      2555    1782062  1782141           79     Remove/Cut   \n",
       "2555  001519c8      2556    1782922  1782985           63          Input   \n",
       "2556  001519c8      2557    1801877  1801969           92  Nonproduction   \n",
       "\n",
       "     down_event   up_event text_change  cursor_position  word_count  \\\n",
       "0     Leftclick  Leftclick    NoChange                0           0   \n",
       "1     Leftclick  Leftclick    NoChange                0           0   \n",
       "2         Shift      Shift    NoChange                0           0   \n",
       "3             q          q           q                1           1   \n",
       "4             q          q           q                2           1   \n",
       "...         ...        ...         ...              ...         ...   \n",
       "2552  Backspace  Backspace           q              555         255   \n",
       "2553  Backspace  Backspace           q              554         255   \n",
       "2554  Backspace  Backspace           q              553         255   \n",
       "2555          q          q           q              554         255   \n",
       "2556  Leftclick  Leftclick    NoChange             1046         255   \n",
       "\n",
       "      down_time_sec  time_bin  \n",
       "0             4.526       0.0  \n",
       "1             4.558       0.0  \n",
       "2           106.571     100.0  \n",
       "3           106.686     100.0  \n",
       "4           107.196     100.0  \n",
       "...             ...       ...  \n",
       "2552       1781.786    1780.0  \n",
       "2553       1781.917    1780.0  \n",
       "2554       1782.062    1780.0  \n",
       "2555       1782.922    1780.0  \n",
       "2556       1801.877    1800.0  \n",
       "\n",
       "[2557 rows x 13 columns]"
      ]
     },
     "execution_count": 8,
     "metadata": {},
     "output_type": "execute_result"
    }
   ],
   "source": [
    "df"
   ]
  },
  {
   "cell_type": "code",
   "execution_count": 18,
   "metadata": {},
   "outputs": [
    {
     "data": {
      "image/png": "[encoded data removed]",
      "text/plain": [
       "<Figure size 1000x800 with 2 Axes>"
      ]
     },
     "metadata": {},
     "output_type": "display_data"
    }
   ],
   "source": [
    "import seaborn as sns\n",
    "import matplotlib.pyplot as plt\n",
    "\n",
    "df = train_roc.copy()\n",
    "df = df.merge(train_scores, on='id', how='left')\n",
    "\n",
    "# Compute the correlation matrix\n",
    "corr = df.corr()\n",
    "\n",
    "# Generate a mask for the upper triangle (optional)\n",
    "mask = np.triu(np.ones_like(corr, dtype=bool))\n",
    "\n",
    "# Set up the matplotlib figure\n",
    "plt.figure(figsize=(10, 8))\n",
    "\n",
    "# Draw the heatmap with the mask and correct aspect ratio\n",
    "sns.heatmap(corr, mask=mask, cmap='coolwarm', vmax=.3, center=0,\n",
    "            square=True, linewidths=.5, cbar_kws={\"shrink\": .5}, annot=True)\n",
    "\n",
    "plt.show()"
   ]
  }
 ],
 "metadata": {
  "kernelspec": {
   "display_name": "lrp",
   "language": "python",
   "name": "python3"
  },
  "language_info": {
   "codemirror_mode": {
    "name": "ipython",
    "version": 3
   },
   "file_extension": ".py",
   "mimetype": "text/x-python",
   "name": "python",
   "nbconvert_exporter": "python",
   "pygments_lexer": "ipython3",
   "version": "3.10.13"
  }
 },
 "nbformat": 4,
 "nbformat_minor": 2
}
