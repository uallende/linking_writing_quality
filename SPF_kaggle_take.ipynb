{
 "cells": [
  {
   "cell_type": "code",
   "execution_count": 1,
   "metadata": {},
   "outputs": [],
   "source": [
    "import pandas as pd\n",
    "import polars as pl\n",
    "import numpy as np\n",
    "\n",
    "from m3_model_params import lgb_params_1\n",
    "from m4_kaggle_feats import *\n",
    "from m5_sb_models import *\n",
    "import warnings\n",
    "warnings.filterwarnings(\"ignore\")\n",
    "\n",
    "data_path     = 'kaggle/input/linking-writing-processes-to-writing-quality/'\n",
    "train_logs    = pl.scan_csv(f'{data_path}/train_logs.csv')\n",
    "test_logs    = pl.scan_csv(f'{data_path}/test_logs.csv')\n",
    "train_scores = pl.scan_csv(f'{data_path}/train_scores.csv')"
   ]
  },
  {
   "cell_type": "code",
   "execution_count": 2,
   "metadata": {},
   "outputs": [
    {
     "name": "stdout",
     "output_type": "stream",
     "text": [
      "Engineering cursor position data\n"
     ]
    },
    {
     "data": {
      "text/html": [
       "<div><style>\n",
       ".dataframe > thead > tr,\n",
       ".dataframe > tbody > tr {\n",
       "  text-align: right;\n",
       "  white-space: pre-wrap;\n",
       "}\n",
       "</style>\n",
       "<small>shape: (3, 10)</small><table border=\"1\" class=\"dataframe\"><thead><tr><th>id</th><th>cursor_position_change100_max</th><th>cursor_position_change100_min</th><th>cursor_position_change100_mean</th><th>cursor_position_change100_std</th><th>cursor_position_change100_quantile</th><th>cursor_position_change100_median</th><th>cursor_position_change100_sum</th><th>cursor_position_change100_skew</th><th>cursor_position_change100_kurt</th></tr><tr><td>str</td><td>i64</td><td>i64</td><td>f64</td><td>f64</td><td>f64</td><td>f64</td><td>i64</td><td>f64</td><td>f64</td></tr></thead><tbody><tr><td>&quot;0000aaaa&quot;</td><td>null</td><td>null</td><td>null</td><td>null</td><td>null</td><td>null</td><td>0</td><td>null</td><td>null</td></tr><tr><td>&quot;4444cccc&quot;</td><td>null</td><td>null</td><td>null</td><td>null</td><td>null</td><td>null</td><td>0</td><td>null</td><td>null</td></tr><tr><td>&quot;2222bbbb&quot;</td><td>null</td><td>null</td><td>null</td><td>null</td><td>null</td><td>null</td><td>0</td><td>null</td><td>null</td></tr></tbody></table></div>"
      ],
      "text/plain": [
       "shape: (3, 10)\n",
       "┌──────────┬───────────┬───────────┬───────────┬───┬───────────┬───────────┬───────────┬───────────┐\n",
       "│ id       ┆ cursor_po ┆ cursor_po ┆ cursor_po ┆ … ┆ cursor_po ┆ cursor_po ┆ cursor_po ┆ cursor_po │\n",
       "│ ---      ┆ sition_ch ┆ sition_ch ┆ sition_ch ┆   ┆ sition_ch ┆ sition_ch ┆ sition_ch ┆ sition_ch │\n",
       "│ str      ┆ ange100_m ┆ ange100_m ┆ ange100_m ┆   ┆ ange100_m ┆ ange100_s ┆ ange100_s ┆ ange100_k │\n",
       "│          ┆ ax        ┆ in        ┆ ean       ┆   ┆ edian     ┆ um        ┆ kew       ┆ urt       │\n",
       "│          ┆ ---       ┆ ---       ┆ ---       ┆   ┆ ---       ┆ ---       ┆ ---       ┆ ---       │\n",
       "│          ┆ i64       ┆ i64       ┆ f64       ┆   ┆ f64       ┆ i64       ┆ f64       ┆ f64       │\n",
       "╞══════════╪═══════════╪═══════════╪═══════════╪═══╪═══════════╪═══════════╪═══════════╪═══════════╡\n",
       "│ 0000aaaa ┆ null      ┆ null      ┆ null      ┆ … ┆ null      ┆ 0         ┆ null      ┆ null      │\n",
       "│ 4444cccc ┆ null      ┆ null      ┆ null      ┆ … ┆ null      ┆ 0         ┆ null      ┆ null      │\n",
       "│ 2222bbbb ┆ null      ┆ null      ┆ null      ┆ … ┆ null      ┆ 0         ┆ null      ┆ null      │\n",
       "└──────────┴───────────┴───────────┴───────────┴───┴───────────┴───────────┴───────────┴───────────┘"
      ]
     },
     "execution_count": 2,
     "metadata": {},
     "output_type": "execute_result"
    }
   ],
   "source": [
    "tr, ts = cursor_position_change_gap(train_logs, test_logs)\n",
    "ts.collect()"
   ]
  },
  {
   "cell_type": "code",
   "execution_count": 32,
   "metadata": {},
   "outputs": [
    {
     "data": {
      "text/html": [
       "<div><style>\n",
       ".dataframe > thead > tr,\n",
       ".dataframe > tbody > tr {\n",
       "  text-align: right;\n",
       "  white-space: pre-wrap;\n",
       "}\n",
       "</style>\n",
       "<small>shape: (2_471, 7)</small><table border=\"1\" class=\"dataframe\"><thead><tr><th>id</th><th>event_id_max</th><th>up_time_max</th><th>activity_n_unique</th><th>down_event_n_unique</th><th>up_event_n_unique</th><th>text_change_n_unique</th></tr><tr><td>str</td><td>i64</td><td>i64</td><td>u32</td><td>u32</td><td>u32</td><td>u32</td></tr></thead><tbody><tr><td>&quot;001519c8&quot;</td><td>2557</td><td>1801969</td><td>7</td><td>12</td><td>12</td><td>17</td></tr><tr><td>&quot;0022f953&quot;</td><td>2454</td><td>1788969</td><td>5</td><td>17</td><td>17</td><td>12</td></tr><tr><td>&quot;0042269b&quot;</td><td>4136</td><td>1771669</td><td>4</td><td>13</td><td>18</td><td>19</td></tr><tr><td>&quot;0059420b&quot;</td><td>1556</td><td>1404469</td><td>5</td><td>15</td><td>15</td><td>10</td></tr><tr><td>&quot;0075873a&quot;</td><td>2531</td><td>1662472</td><td>3</td><td>11</td><td>11</td><td>9</td></tr><tr><td>&quot;0081af50&quot;</td><td>2211</td><td>1778916</td><td>4</td><td>11</td><td>11</td><td>11</td></tr><tr><td>&quot;0093f095&quot;</td><td>1765</td><td>1768197</td><td>3</td><td>13</td><td>13</td><td>9</td></tr><tr><td>&quot;009e23ab&quot;</td><td>2353</td><td>1799303</td><td>4</td><td>17</td><td>17</td><td>12</td></tr><tr><td>&quot;00e048f1&quot;</td><td>1585</td><td>1797498</td><td>3</td><td>8</td><td>8</td><td>6</td></tr><tr><td>&quot;00e1f05a&quot;</td><td>7826</td><td>1853697</td><td>4</td><td>22</td><td>22</td><td>26</td></tr><tr><td>&quot;00e713bd&quot;</td><td>4565</td><td>1749111</td><td>4</td><td>16</td><td>17</td><td>16</td></tr><tr><td>&quot;00f0737e&quot;</td><td>2416</td><td>1833804</td><td>4</td><td>22</td><td>22</td><td>13</td></tr><tr><td>&hellip;</td><td>&hellip;</td><td>&hellip;</td><td>&hellip;</td><td>&hellip;</td><td>&hellip;</td><td>&hellip;</td></tr><tr><td>&quot;ff5ac707&quot;</td><td>1772</td><td>1791604</td><td>3</td><td>18</td><td>18</td><td>10</td></tr><tr><td>&quot;ff635a91&quot;</td><td>2511</td><td>1404463</td><td>5</td><td>19</td><td>19</td><td>14</td></tr><tr><td>&quot;ff7f1779&quot;</td><td>3342</td><td>1798714</td><td>3</td><td>14</td><td>14</td><td>10</td></tr><tr><td>&quot;ff90a677&quot;</td><td>1885</td><td>1671498</td><td>4</td><td>12</td><td>13</td><td>9</td></tr><tr><td>&quot;ff9a11ae&quot;</td><td>3640</td><td>1767702</td><td>4</td><td>19</td><td>19</td><td>19</td></tr><tr><td>&quot;ff9d1032&quot;</td><td>2761</td><td>1826540</td><td>4</td><td>12</td><td>12</td><td>14</td></tr><tr><td>&quot;ffab2ba4&quot;</td><td>2001</td><td>1678336</td><td>3</td><td>13</td><td>13</td><td>8</td></tr><tr><td>&quot;ffb8c745&quot;</td><td>4739</td><td>1791649</td><td>4</td><td>13</td><td>13</td><td>13</td></tr><tr><td>&quot;ffbef7e5&quot;</td><td>2604</td><td>1799174</td><td>4</td><td>11</td><td>11</td><td>8</td></tr><tr><td>&quot;ffccd6fd&quot;</td><td>3063</td><td>1959363</td><td>3</td><td>11</td><td>11</td><td>6</td></tr><tr><td>&quot;ffec5b38&quot;</td><td>3242</td><td>1508504</td><td>3</td><td>15</td><td>15</td><td>13</td></tr><tr><td>&quot;fff05981&quot;</td><td>3619</td><td>2070133</td><td>6</td><td>23</td><td>24</td><td>46</td></tr></tbody></table></div>"
      ],
      "text/plain": [
       "shape: (2_471, 7)\n",
       "┌──────────┬──────────────┬─────────────┬──────────────┬──────────────┬──────────────┬─────────────┐\n",
       "│ id       ┆ event_id_max ┆ up_time_max ┆ activity_n_u ┆ down_event_n ┆ up_event_n_u ┆ text_change │\n",
       "│ ---      ┆ ---          ┆ ---         ┆ nique        ┆ _unique      ┆ nique        ┆ _n_unique   │\n",
       "│ str      ┆ i64          ┆ i64         ┆ ---          ┆ ---          ┆ ---          ┆ ---         │\n",
       "│          ┆              ┆             ┆ u32          ┆ u32          ┆ u32          ┆ u32         │\n",
       "╞══════════╪══════════════╪═════════════╪══════════════╪══════════════╪══════════════╪═════════════╡\n",
       "│ 001519c8 ┆ 2557         ┆ 1801969     ┆ 7            ┆ 12           ┆ 12           ┆ 17          │\n",
       "│ 0022f953 ┆ 2454         ┆ 1788969     ┆ 5            ┆ 17           ┆ 17           ┆ 12          │\n",
       "│ 0042269b ┆ 4136         ┆ 1771669     ┆ 4            ┆ 13           ┆ 18           ┆ 19          │\n",
       "│ 0059420b ┆ 1556         ┆ 1404469     ┆ 5            ┆ 15           ┆ 15           ┆ 10          │\n",
       "│ …        ┆ …            ┆ …           ┆ …            ┆ …            ┆ …            ┆ …           │\n",
       "│ ffbef7e5 ┆ 2604         ┆ 1799174     ┆ 4            ┆ 11           ┆ 11           ┆ 8           │\n",
       "│ ffccd6fd ┆ 3063         ┆ 1959363     ┆ 3            ┆ 11           ┆ 11           ┆ 6           │\n",
       "│ ffec5b38 ┆ 3242         ┆ 1508504     ┆ 3            ┆ 15           ┆ 15           ┆ 13          │\n",
       "│ fff05981 ┆ 3619         ┆ 2070133     ┆ 6            ┆ 23           ┆ 24           ┆ 46          │\n",
       "└──────────┴──────────────┴─────────────┴──────────────┴──────────────┴──────────────┴─────────────┘"
      ]
     },
     "execution_count": 32,
     "metadata": {},
     "output_type": "execute_result"
    }
   ],
   "source": [
    "tr,ts = categorical_stats(train_logs, test_logs)\n",
    "tr.collect()"
   ]
  },
  {
   "cell_type": "code",
   "execution_count": null,
   "metadata": {},
   "outputs": [],
   "source": [
    "print(\"Engineering statistical summaries for features\")\n",
    "feats_stat = [\n",
    "    ('event_id', ['max']),\n",
    "    ('up_time', ['max']),\n",
    "    ('action_time', ['max', 'min', 'mean', 'std', 'quantile', 'sem', 'sum', 'skew', pd.DataFrame.kurt]),\n",
    "    ('activity', ['nunique']),\n",
    "    ('down_event', ['nunique']),\n",
    "    ('up_event', ['nunique']),\n",
    "    ('text_change', ['nunique']),\n",
    "    ('cursor_position', ['nunique', 'max', 'quantile', 'sem', 'mean']),\n",
    "    ('word_count', ['nunique', 'max', 'quantile', 'sem', 'mean'])]"
   ]
  },
  {
   "cell_type": "code",
   "execution_count": null,
   "metadata": {},
   "outputs": [],
   "source": [
    "\n",
    "def make_feats(self, df):\n",
    "        gaps = [1, 2, 3, 5, 10, 20, 50, 100]\n",
    "        feats = pd.DataFrame({'id': df['id'].unique().tolist()})\n",
    "        \n",
    "        print(\"Engineering time data\")\n",
    "        for gap in self.gaps:\n",
    "            df[f'up_time_shift{gap}'] = df.groupby('id')['up_time'].shift(gap)\n",
    "            df[f'action_time_gap{gap}'] = df['down_time'] - df[f'up_time_shift{gap}']\n",
    "        df.drop(columns=[f'up_time_shift{gap}' for gap in self.gaps], inplace=True)\n",
    "\n",
    "        print(\"Engineering cursor position data\")\n",
    "        for gap in self.gaps:\n",
    "            df[f'cursor_position_shift{gap}'] = df.groupby('id')['cursor_position'].shift(gap)\n",
    "            df[f'cursor_position_change{gap}'] = df['cursor_position'] - df[f'cursor_position_shift{gap}']\n",
    "            df[f'cursor_position_abs_change{gap}'] = np.abs(df[f'cursor_position_change{gap}'])\n",
    "        df.drop(columns=[f'cursor_position_shift{gap}' for gap in self.gaps], inplace=True)\n",
    "\n",
    "        print(\"Engineering word count data\")\n",
    "        for gap in self.gaps:\n",
    "            df[f'word_count_shift{gap}'] = df.groupby('id')['word_count'].shift(gap)\n",
    "            df[f'word_count_change{gap}'] = df['word_count'] - df[f'word_count_shift{gap}']\n",
    "            df[f'word_count_abs_change{gap}'] = np.abs(df[f'word_count_change{gap}'])\n",
    "        df.drop(columns=[f'word_count_shift{gap}' for gap in self.gaps], inplace=True)\n",
    "        \n",
    "        print(\"Engineering statistical summaries for features\")\n",
    "        feats_stat = [\n",
    "            ('event_id', ['max']),\n",
    "            ('up_time', ['max']),\n",
    "            ('action_time', ['max', 'min', 'mean', 'std', 'quantile', 'sem', 'sum', 'skew', pd.DataFrame.kurt]),\n",
    "            ('activity', ['nunique']),\n",
    "            ('down_event', ['nunique']),\n",
    "            ('up_event', ['nunique']),\n",
    "            ('text_change', ['nunique']),\n",
    "            ('cursor_position', ['nunique', 'max', 'quantile', 'sem', 'mean']),\n",
    "            ('word_count', ['nunique', 'max', 'quantile', 'sem', 'mean'])]\n",
    "        \n",
    "        for gap in self.gaps:\n",
    "            feats_stat.extend([\n",
    "                (f'action_time_gap{gap}', ['max', 'min', 'mean', 'std', 'quantile', 'sem', 'sum', 'skew', pd.DataFrame.kurt]),\n",
    "                (f'cursor_position_change{gap}', ['max', 'mean', 'std', 'quantile', 'sem', 'sum', 'skew', pd.DataFrame.kurt]),\n",
    "                (f'word_count_change{gap}', ['max', 'mean', 'std', 'quantile', 'sem', 'sum', 'skew', pd.DataFrame.kurt])\n",
    "            ])\n",
    "        \n",
    "        pbar = tqdm(feats_stat)\n",
    "        for item in pbar:\n",
    "            colname, methods = item[0], item[1]\n",
    "            for method in methods:\n",
    "                pbar.set_postfix()\n",
    "                if isinstance(method, str):\n",
    "                    method_name = method\n",
    "                else:\n",
    "                    method_name = method.__name__\n",
    "                pbar.set_postfix(column=colname, method=method_name)\n",
    "                tmp_df = df.groupby(['id']).agg({colname: method}).reset_index().rename(columns={colname: f'{colname}_{method_name}'})\n",
    "                feats = feats.merge(tmp_df, on='id', how='left')\n",
    "\n",
    "        print(\"Engineering activity counts data\")\n",
    "        tmp_df = self.activity_counts(df)\n",
    "        feats = pd.concat([feats, tmp_df], axis=1)\n",
    "        \n",
    "        print(\"Engineering event counts data\")\n",
    "        tmp_df = self.event_counts(df, 'down_event')\n",
    "        feats = pd.concat([feats, tmp_df], axis=1)\n",
    "        tmp_df = self.event_counts(df, 'up_event')\n",
    "        feats = pd.concat([feats, tmp_df], axis=1)\n",
    "        \n",
    "        print(\"Engineering text change counts data\")\n",
    "        tmp_df = self.text_change_counts(df)\n",
    "        feats = pd.concat([feats, tmp_df], axis=1)\n",
    "        \n",
    "        print(\"Engineering punctuation counts data\")\n",
    "        tmp_df = self.match_punctuations(df)\n",
    "        feats = pd.concat([feats, tmp_df], axis=1)\n",
    "\n",
    "        print(\"Engineering input words data\")\n",
    "        tmp_df = self.get_input_words(df)\n",
    "        feats = pd.merge(feats, tmp_df, on='id', how='left')\n",
    "\n",
    "        print(\"Engineering ratios data\")\n",
    "        feats['word_time_ratio'] = feats['word_count_max'] / feats['up_time_max']\n",
    "        feats['word_event_ratio'] = feats['word_count_max'] / feats['event_id_max']\n",
    "        feats['event_time_ratio'] = feats['event_id_max']  / feats['up_time_max']\n",
    "        feats['idle_time_ratio'] = feats['action_time_gap1_sum'] / feats['up_time_max']\n",
    "\n",
    "        return feats"
   ]
  }
 ],
 "metadata": {
  "kernelspec": {
   "display_name": "lwq",
   "language": "python",
   "name": "python3"
  },
  "language_info": {
   "codemirror_mode": {
    "name": "ipython",
    "version": 3
   },
   "file_extension": ".py",
   "mimetype": "text/x-python",
   "name": "python",
   "nbconvert_exporter": "python",
   "pygments_lexer": "ipython3",
   "version": "3.10.13"
  }
 },
 "nbformat": 4,
 "nbformat_minor": 2
}
