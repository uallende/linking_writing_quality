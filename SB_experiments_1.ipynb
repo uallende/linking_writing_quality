{
 "cells": [
  {
   "cell_type": "code",
   "execution_count": 17,
   "metadata": {},
   "outputs": [
    {
     "name": "stdout",
     "output_type": "stream",
     "text": [
      "< Mapping >\n"
     ]
    }
   ],
   "source": [
    "from m5_sb_models import lgb_pipeline\n",
    "import pandas as pd\n",
    "\n",
    "FEATS_DIR = 'silver_bullet'\n",
    "data_path     = 'kaggle/input/linking-writing-processes-to-writing-quality/'\n",
    "\n",
    "train_feats= pd.read_pickle(f'{FEATS_DIR}/train_feats.pkl')\n",
    "test_feats = pd.read_pickle(f'{FEATS_DIR}/test_feats.pkl')\n",
    "\n",
    "print('< Mapping >')\n",
    "train_scores   = pd.read_csv(data_path + 'train_scores.csv')\n",
    "train = train_feats.merge(train_scores, on='id', how='left')\n",
    "test = test_feats.copy()\n",
    "\n",
    "# test_preds, valid_preds, final_rmse, cv_rmse = lgb_pipeline(train, test)"
   ]
  },
  {
   "cell_type": "code",
   "execution_count": 18,
   "metadata": {},
   "outputs": [],
   "source": [
    "def full_pipeline(train, test):\n",
    "    print('< Mapping >')\n",
    "    train_scores   = pd.read_csv(data_path + 'train_scores.csv')\n",
    "    train = train_feats.merge(train_scores, on='id', how='left')\n",
    "\n",
    "    test_preds, valid_preds, final_rmse, cv_rmse = lgb_pipeline(train, test)\n",
    "    return test_preds, valid_preds, final_rmse, cv_rmse"
   ]
  },
  {
   "cell_type": "code",
   "execution_count": 23,
   "metadata": {},
   "outputs": [
    {
     "name": "stdout",
     "output_type": "stream",
     "text": [
      "< Mapping >\n"
     ]
    },
    {
     "name": "stderr",
     "output_type": "stream",
     "text": [
      "/root/miniconda3/envs/lrp/lib/python3.10/site-packages/sklearn/model_selection/_split.py:737: UserWarning: The least populated class in y has only 5 members, which is less than n_splits=10.\n",
      "  warnings.warn(\n",
      "/root/miniconda3/envs/lrp/lib/python3.10/site-packages/sklearn/model_selection/_split.py:737: UserWarning: The least populated class in y has only 5 members, which is less than n_splits=10.\n",
      "  warnings.warn(\n",
      "/root/miniconda3/envs/lrp/lib/python3.10/site-packages/sklearn/model_selection/_split.py:737: UserWarning: The least populated class in y has only 5 members, which is less than n_splits=10.\n",
      "  warnings.warn(\n",
      "/root/miniconda3/envs/lrp/lib/python3.10/site-packages/sklearn/model_selection/_split.py:737: UserWarning: The least populated class in y has only 5 members, which is less than n_splits=10.\n",
      "  warnings.warn(\n",
      "/root/miniconda3/envs/lrp/lib/python3.10/site-packages/sklearn/model_selection/_split.py:737: UserWarning: The least populated class in y has only 5 members, which is less than n_splits=10.\n",
      "  warnings.warn(\n"
     ]
    },
    {
     "name": "stdout",
     "output_type": "stream",
     "text": [
      "Final RMSE over 50: 0.616905.\n",
      "RMSE by fold 0.616752\n"
     ]
    },
    {
     "ename": "ValueError",
     "evalue": "not enough values to unpack (expected 4, got 2)",
     "output_type": "error",
     "traceback": [
      "\u001b[0;31m---------------------------------------------------------------------------\u001b[0m",
      "\u001b[0;31mValueError\u001b[0m                                Traceback (most recent call last)",
      "\u001b[1;32m/root/Projects/Kaggle/linking-writing/SB_experiments_1.ipynb Cell 3\u001b[0m line \u001b[0;36m1\n\u001b[1;32m     <a href='vscode-notebook-cell://wsl%2Bubuntu/root/Projects/Kaggle/linking-writing/SB_experiments_1.ipynb#W1sdnNjb2RlLXJlbW90ZQ%3D%3D?line=13'>14</a>\u001b[0m train_feats \u001b[39m=\u001b[39m train_feats\u001b[39m.\u001b[39mmerge(tr_new_feat, on\u001b[39m=\u001b[39m\u001b[39m'\u001b[39m\u001b[39mid\u001b[39m\u001b[39m'\u001b[39m, how\u001b[39m=\u001b[39m\u001b[39m'\u001b[39m\u001b[39mleft\u001b[39m\u001b[39m'\u001b[39m)\n\u001b[1;32m     <a href='vscode-notebook-cell://wsl%2Bubuntu/root/Projects/Kaggle/linking-writing/SB_experiments_1.ipynb#W1sdnNjb2RlLXJlbW90ZQ%3D%3D?line=14'>15</a>\u001b[0m test_feats \u001b[39m=\u001b[39m test_feats\u001b[39m.\u001b[39mmerge(ts_new_feat, on\u001b[39m=\u001b[39m\u001b[39m'\u001b[39m\u001b[39mid\u001b[39m\u001b[39m'\u001b[39m, how\u001b[39m=\u001b[39m\u001b[39m'\u001b[39m\u001b[39mleft\u001b[39m\u001b[39m'\u001b[39m)\n\u001b[0;32m---> <a href='vscode-notebook-cell://wsl%2Bubuntu/root/Projects/Kaggle/linking-writing/SB_experiments_1.ipynb#W1sdnNjb2RlLXJlbW90ZQ%3D%3D?line=15'>16</a>\u001b[0m _,_,final_rmse, cv_rmse \u001b[39m=\u001b[39m full_pipeline(train_feats, test_feats)\n",
      "\u001b[1;32m/root/Projects/Kaggle/linking-writing/SB_experiments_1.ipynb Cell 3\u001b[0m line \u001b[0;36m6\n\u001b[1;32m      <a href='vscode-notebook-cell://wsl%2Bubuntu/root/Projects/Kaggle/linking-writing/SB_experiments_1.ipynb#W1sdnNjb2RlLXJlbW90ZQ%3D%3D?line=2'>3</a>\u001b[0m train_scores   \u001b[39m=\u001b[39m pd\u001b[39m.\u001b[39mread_csv(data_path \u001b[39m+\u001b[39m \u001b[39m'\u001b[39m\u001b[39mtrain_scores.csv\u001b[39m\u001b[39m'\u001b[39m)\n\u001b[1;32m      <a href='vscode-notebook-cell://wsl%2Bubuntu/root/Projects/Kaggle/linking-writing/SB_experiments_1.ipynb#W1sdnNjb2RlLXJlbW90ZQ%3D%3D?line=3'>4</a>\u001b[0m train \u001b[39m=\u001b[39m train_feats\u001b[39m.\u001b[39mmerge(train_scores, on\u001b[39m=\u001b[39m\u001b[39m'\u001b[39m\u001b[39mid\u001b[39m\u001b[39m'\u001b[39m, how\u001b[39m=\u001b[39m\u001b[39m'\u001b[39m\u001b[39mleft\u001b[39m\u001b[39m'\u001b[39m)\n\u001b[0;32m----> <a href='vscode-notebook-cell://wsl%2Bubuntu/root/Projects/Kaggle/linking-writing/SB_experiments_1.ipynb#W1sdnNjb2RlLXJlbW90ZQ%3D%3D?line=5'>6</a>\u001b[0m test_preds, valid_preds, final_rmse, cv_rmse \u001b[39m=\u001b[39m lgb_pipeline(train, test)\n\u001b[1;32m      <a href='vscode-notebook-cell://wsl%2Bubuntu/root/Projects/Kaggle/linking-writing/SB_experiments_1.ipynb#W1sdnNjb2RlLXJlbW90ZQ%3D%3D?line=6'>7</a>\u001b[0m \u001b[39mreturn\u001b[39;00m final_rmse, cv_rmse\n",
      "\u001b[0;31mValueError\u001b[0m: not enough values to unpack (expected 4, got 2)"
     ]
    }
   ],
   "source": [
    "FEAT_STORE = 'feature_store'\n",
    "tr_feats = pd.read_pickle(f'{FEAT_STORE}/train/train_wpm_feats.pkl')\n",
    "ts_feats = pd.read_pickle(f'{FEAT_STORE}/test/test_wpm_feats.pkl')\n",
    "\n",
    "base_train_feats= pd.read_pickle(f'{FEATS_DIR}/train_feats.pkl')\n",
    "test_feats = pd.read_pickle(f'{FEATS_DIR}/test_feats.pkl')\n",
    "\n",
    "n_feats = len(tr_feats.columns)\n",
    "\n",
    "for feat in range(n_feats):\n",
    "    train_feats = base_train_feats.copy()\n",
    "    tr_new_feat = tr_feats.iloc[:,feat:feat+1]\n",
    "    ts_new_feat = ts_feats.iloc[:,feat:feat+1]\n",
    "    train_feats = train_feats.merge(tr_new_feat, on='id', how='left')\n",
    "    test_feats = test_feats.merge(ts_new_feat, on='id', how='left')\n",
    "    _,_,final_rmse, cv_rmse = full_pipeline(train_feats, test_feats)\n",
    "    break"
   ]
  }
 ],
 "metadata": {
  "kernelspec": {
   "display_name": "lrp",
   "language": "python",
   "name": "python3"
  },
  "language_info": {
   "codemirror_mode": {
    "name": "ipython",
    "version": 3
   },
   "file_extension": ".py",
   "mimetype": "text/x-python",
   "name": "python",
   "nbconvert_exporter": "python",
   "pygments_lexer": "ipython3",
   "version": "3.10.13"
  }
 },
 "nbformat": 4,
 "nbformat_minor": 2
}
