{
 "cells": [
  {
   "cell_type": "code",
   "execution_count": 1,
   "metadata": {},
   "outputs": [],
   "source": [
    "from m5_sb_models import lgb_pipeline, xgb_pipeline\n",
    "import pandas as pd"
   ]
  },
  {
   "cell_type": "code",
   "execution_count": 2,
   "metadata": {},
   "outputs": [
    {
     "name": "stdout",
     "output_type": "stream",
     "text": [
      "< Mapping >\n"
     ]
    }
   ],
   "source": [
    "FEATS_DIR = 'silver_bullet'\n",
    "data_path     = 'kaggle/input/linking-writing-processes-to-writing-quality/'\n",
    "\n",
    "train_feats= pd.read_pickle(f'{FEATS_DIR}/train_feats.pkl')\n",
    "test_feats = pd.read_pickle(f'{FEATS_DIR}/test_feats.pkl')\n",
    "\n",
    "print('< Mapping >')\n",
    "train_scores   = pd.read_csv(data_path + 'train_scores.csv')\n",
    "train = train_feats.merge(train_scores, on='id', how='left')\n",
    "test = test_feats.copy()\n",
    "\n",
    "# test_preds, valid_preds, final_rmse, cv_rmse = lgb_pipeline(train, test)"
   ]
  },
  {
   "cell_type": "code",
   "execution_count": 3,
   "metadata": {},
   "outputs": [
    {
     "name": "stderr",
     "output_type": "stream",
     "text": [
      "/root/miniconda3/envs/lrp/lib/python3.10/site-packages/sklearn/model_selection/_split.py:737: UserWarning: The least populated class in y has only 5 members, which is less than n_splits=10.\n",
      "  warnings.warn(\n"
     ]
    },
    {
     "name": "stdout",
     "output_type": "stream",
     "text": [
      "171\n"
     ]
    },
    {
     "name": "stderr",
     "output_type": "stream",
     "text": [
      "/root/miniconda3/envs/lrp/lib/python3.10/site-packages/xgboost/core.py:160: UserWarning: [17:57:49] WARNING: /workspace/src/common/error_msg.cc:58: Falling back to prediction using DMatrix due to mismatched devices. This might lead to higher memory usage and slower performance. XGBoost is running on: cuda:0, while the input data is on: cpu.\n",
      "Potential solutions:\n",
      "- Use a data structure that matches the device ordinal in the booster.\n",
      "- Set the device for booster before call to inplace_predict.\n",
      "\n",
      "This warning will only be shown once.\n",
      "\n",
      "  warnings.warn(smsg, UserWarning)\n"
     ]
    },
    {
     "name": "stdout",
     "output_type": "stream",
     "text": [
      "453\n",
      "179\n",
      "275\n",
      "357\n",
      "108\n",
      "81\n",
      "89\n",
      "132\n",
      "106\n"
     ]
    },
    {
     "name": "stderr",
     "output_type": "stream",
     "text": [
      "/root/miniconda3/envs/lrp/lib/python3.10/site-packages/sklearn/model_selection/_split.py:737: UserWarning: The least populated class in y has only 5 members, which is less than n_splits=10.\n",
      "  warnings.warn(\n"
     ]
    },
    {
     "name": "stdout",
     "output_type": "stream",
     "text": [
      "182\n",
      "121\n",
      "452\n",
      "185\n",
      "75\n",
      "918\n",
      "779\n",
      "229\n",
      "110\n",
      "193\n"
     ]
    },
    {
     "name": "stderr",
     "output_type": "stream",
     "text": [
      "/root/miniconda3/envs/lrp/lib/python3.10/site-packages/sklearn/model_selection/_split.py:737: UserWarning: The least populated class in y has only 5 members, which is less than n_splits=10.\n",
      "  warnings.warn(\n"
     ]
    },
    {
     "name": "stdout",
     "output_type": "stream",
     "text": [
      "127\n",
      "246\n",
      "115\n",
      "97\n",
      "132\n",
      "374\n",
      "103\n",
      "499\n",
      "412\n",
      "73\n"
     ]
    },
    {
     "name": "stderr",
     "output_type": "stream",
     "text": [
      "/root/miniconda3/envs/lrp/lib/python3.10/site-packages/sklearn/model_selection/_split.py:737: UserWarning: The least populated class in y has only 5 members, which is less than n_splits=10.\n",
      "  warnings.warn(\n"
     ]
    },
    {
     "name": "stdout",
     "output_type": "stream",
     "text": [
      "335\n",
      "1296\n",
      "278\n",
      "248\n",
      "211\n",
      "138\n",
      "62\n",
      "122\n",
      "98\n",
      "86\n"
     ]
    },
    {
     "name": "stderr",
     "output_type": "stream",
     "text": [
      "/root/miniconda3/envs/lrp/lib/python3.10/site-packages/sklearn/model_selection/_split.py:737: UserWarning: The least populated class in y has only 5 members, which is less than n_splits=10.\n",
      "  warnings.warn(\n"
     ]
    },
    {
     "name": "stdout",
     "output_type": "stream",
     "text": [
      "133\n",
      "100\n",
      "69\n",
      "1074\n",
      "123\n",
      "112\n",
      "564\n",
      "164\n",
      "593\n",
      "194\n",
      "Final RMSE over 50: 0.609396.\n",
      "RMSE by fold 0.609255\n"
     ]
    },
    {
     "data": {
      "text/plain": [
       "([array([2.9702096, 1.3822114, 1.4230185], dtype=float32),\n",
       "  array([3.0812283, 1.5559249, 1.5829954], dtype=float32),\n",
       "  array([3.317512 , 1.3842049, 1.4860733], dtype=float32),\n",
       "  array([2.9226317, 1.4879646, 1.5397701], dtype=float32),\n",
       "  array([3.2156591, 1.4542873, 1.4762955], dtype=float32),\n",
       "  array([3.2097974, 1.6847508, 1.7214026], dtype=float32),\n",
       "  array([3.3375514, 1.450835 , 1.4825723], dtype=float32),\n",
       "  array([3.199919 , 1.3064644, 1.3273349], dtype=float32),\n",
       "  array([3.2537107, 1.3219466, 1.3219466], dtype=float32),\n",
       "  array([3.4426305, 1.8031088, 1.8031088], dtype=float32),\n",
       "  array([3.0566945, 1.534575 , 1.5231147], dtype=float32),\n",
       "  array([3.028844, 1.524544, 1.524544], dtype=float32),\n",
       "  array([2.875489 , 1.2878423, 1.2878423], dtype=float32),\n",
       "  array([3.042409 , 1.6971841, 1.6961312], dtype=float32),\n",
       "  array([3.4839604, 1.7134544, 1.7134544], dtype=float32),\n",
       "  array([2.9282854, 1.4144304, 1.4260507], dtype=float32),\n",
       "  array([3.1390288, 1.5221832, 1.5221832], dtype=float32),\n",
       "  array([3.0864892, 1.2362387, 1.2460144], dtype=float32),\n",
       "  array([3.2265012, 1.339823 , 1.3747499], dtype=float32),\n",
       "  array([3.309126 , 1.2957487, 1.3150284], dtype=float32),\n",
       "  array([2.9692378, 1.6379666, 1.658997 ], dtype=float32),\n",
       "  array([3.056289 , 1.513433 , 1.5205383], dtype=float32),\n",
       "  array([3.2476141, 1.3250391, 1.338923 ], dtype=float32),\n",
       "  array([3.3098903, 1.5859611, 1.5859611], dtype=float32),\n",
       "  array([2.869117 , 1.3129876, 1.3245289], dtype=float32),\n",
       "  array([2.9434047, 1.3966458, 1.4229515], dtype=float32),\n",
       "  array([3.356123 , 1.3961105, 1.3961105], dtype=float32),\n",
       "  array([3.090375 , 1.4281745, 1.4381673], dtype=float32),\n",
       "  array([2.8918009, 1.3546474, 1.3405716], dtype=float32),\n",
       "  array([3.2632835, 1.5366695, 1.5366695], dtype=float32),\n",
       "  array([2.9694517, 1.2847061, 1.3181777], dtype=float32),\n",
       "  array([3.0182674, 1.5768511, 1.5907903], dtype=float32),\n",
       "  array([3.036568 , 1.2818558, 1.2818558], dtype=float32),\n",
       "  array([3.214259 , 1.3838911, 1.3970654], dtype=float32),\n",
       "  array([3.0700297, 1.1336823, 1.1996381], dtype=float32),\n",
       "  array([3.1182194, 1.6021085, 1.6466703], dtype=float32),\n",
       "  array([3.5148902, 1.7918441, 1.7918441], dtype=float32),\n",
       "  array([3.0128095, 1.2649212, 1.2649212], dtype=float32),\n",
       "  array([3.0794358, 1.5349734, 1.6026227], dtype=float32),\n",
       "  array([3.3643475, 1.6079767, 1.6079767], dtype=float32),\n",
       "  array([3.0449362, 1.5109513, 1.5477321], dtype=float32),\n",
       "  array([3.232199 , 1.4546571, 1.5475829], dtype=float32),\n",
       "  array([3.306883 , 1.7213122, 1.7213122], dtype=float32),\n",
       "  array([3.2859256, 1.616215 , 1.7489964], dtype=float32),\n",
       "  array([3.1695614, 1.5786281, 1.6340375], dtype=float32),\n",
       "  array([3.0217223, 1.4182065, 1.4182065], dtype=float32),\n",
       "  array([3.4626944, 1.6014025, 1.6078367], dtype=float32),\n",
       "  array([3.144535 , 1.5132208, 1.5132208], dtype=float32),\n",
       "  array([2.8918588, 1.3708305, 1.3994644], dtype=float32),\n",
       "  array([2.9600163, 1.2580049, 1.2580049], dtype=float32)],\n",
       "             id  score     preds  iteration\n",
       " 10    00e713bd    4.5  4.823646          1\n",
       " 14    0144e4d5    2.5  2.244596          1\n",
       " 48    04c5f885    3.0  2.396944          1\n",
       " 54    052cf3a6    2.5  2.725548          1\n",
       " 56    05624ab0    3.5  3.270315          1\n",
       " ...        ...    ...       ...        ...\n",
       " 2431  fc95c51a    5.5  4.840026         10\n",
       " 2432  fca422ea    3.0  2.639784         10\n",
       " 2435  fd25a501    3.5  3.788304         10\n",
       " 2458  ff387a10    3.5  4.215964         10\n",
       " 2459  ff5ac707    3.0  2.662831         10\n",
       " \n",
       " [12355 rows x 4 columns],\n",
       " 0.6093960050857297,\n",
       " iteration\n",
       " 1     0.604964\n",
       " 2     0.587686\n",
       " 3     0.617627\n",
       " 4     0.606202\n",
       " 5     0.618310\n",
       " 6     0.612616\n",
       " 7     0.621891\n",
       " 8     0.597243\n",
       " 9     0.593651\n",
       " 10    0.632361\n",
       " dtype: float64)"
      ]
     },
     "execution_count": 3,
     "metadata": {},
     "output_type": "execute_result"
    }
   ],
   "source": [
    "xgb_pipeline(train, test)"
   ]
  },
  {
   "cell_type": "code",
   "execution_count": 18,
   "metadata": {},
   "outputs": [],
   "source": [
    "def full_pipeline(train, test):\n",
    "    print('< Mapping >')\n",
    "    train_scores   = pd.read_csv(data_path + 'train_scores.csv')\n",
    "    train = train_feats.merge(train_scores, on='id', how='left')\n",
    "\n",
    "    test_preds, valid_preds, final_rmse, cv_rmse = lgb_pipeline(train, test)\n",
    "    return test_preds, valid_preds, final_rmse, cv_rmse"
   ]
  },
  {
   "cell_type": "code",
   "execution_count": null,
   "metadata": {},
   "outputs": [],
   "source": [
    "feat_name = tr_new_feat.column"
   ]
  },
  {
   "cell_type": "code",
   "execution_count": 23,
   "metadata": {},
   "outputs": [
    {
     "name": "stdout",
     "output_type": "stream",
     "text": [
      "< Mapping >\n"
     ]
    },
    {
     "name": "stderr",
     "output_type": "stream",
     "text": [
      "/root/miniconda3/envs/lrp/lib/python3.10/site-packages/sklearn/model_selection/_split.py:737: UserWarning: The least populated class in y has only 5 members, which is less than n_splits=10.\n",
      "  warnings.warn(\n",
      "/root/miniconda3/envs/lrp/lib/python3.10/site-packages/sklearn/model_selection/_split.py:737: UserWarning: The least populated class in y has only 5 members, which is less than n_splits=10.\n",
      "  warnings.warn(\n",
      "/root/miniconda3/envs/lrp/lib/python3.10/site-packages/sklearn/model_selection/_split.py:737: UserWarning: The least populated class in y has only 5 members, which is less than n_splits=10.\n",
      "  warnings.warn(\n",
      "/root/miniconda3/envs/lrp/lib/python3.10/site-packages/sklearn/model_selection/_split.py:737: UserWarning: The least populated class in y has only 5 members, which is less than n_splits=10.\n",
      "  warnings.warn(\n",
      "/root/miniconda3/envs/lrp/lib/python3.10/site-packages/sklearn/model_selection/_split.py:737: UserWarning: The least populated class in y has only 5 members, which is less than n_splits=10.\n",
      "  warnings.warn(\n"
     ]
    },
    {
     "name": "stdout",
     "output_type": "stream",
     "text": [
      "Final RMSE over 50: 0.616905.\n",
      "RMSE by fold 0.616752\n"
     ]
    },
    {
     "ename": "ValueError",
     "evalue": "not enough values to unpack (expected 4, got 2)",
     "output_type": "error",
     "traceback": [
      "\u001b[0;31m---------------------------------------------------------------------------\u001b[0m",
      "\u001b[0;31mValueError\u001b[0m                                Traceback (most recent call last)",
      "\u001b[1;32m/root/Projects/Kaggle/linking-writing/SB_experiments_1.ipynb Cell 3\u001b[0m line \u001b[0;36m1\n\u001b[1;32m     <a href='vscode-notebook-cell://wsl%2Bubuntu/root/Projects/Kaggle/linking-writing/SB_experiments_1.ipynb#W1sdnNjb2RlLXJlbW90ZQ%3D%3D?line=13'>14</a>\u001b[0m train_feats \u001b[39m=\u001b[39m train_feats\u001b[39m.\u001b[39mmerge(tr_new_feat, on\u001b[39m=\u001b[39m\u001b[39m'\u001b[39m\u001b[39mid\u001b[39m\u001b[39m'\u001b[39m, how\u001b[39m=\u001b[39m\u001b[39m'\u001b[39m\u001b[39mleft\u001b[39m\u001b[39m'\u001b[39m)\n\u001b[1;32m     <a href='vscode-notebook-cell://wsl%2Bubuntu/root/Projects/Kaggle/linking-writing/SB_experiments_1.ipynb#W1sdnNjb2RlLXJlbW90ZQ%3D%3D?line=14'>15</a>\u001b[0m test_feats \u001b[39m=\u001b[39m test_feats\u001b[39m.\u001b[39mmerge(ts_new_feat, on\u001b[39m=\u001b[39m\u001b[39m'\u001b[39m\u001b[39mid\u001b[39m\u001b[39m'\u001b[39m, how\u001b[39m=\u001b[39m\u001b[39m'\u001b[39m\u001b[39mleft\u001b[39m\u001b[39m'\u001b[39m)\n\u001b[0;32m---> <a href='vscode-notebook-cell://wsl%2Bubuntu/root/Projects/Kaggle/linking-writing/SB_experiments_1.ipynb#W1sdnNjb2RlLXJlbW90ZQ%3D%3D?line=15'>16</a>\u001b[0m _,_,final_rmse, cv_rmse \u001b[39m=\u001b[39m full_pipeline(train_feats, test_feats)\n",
      "\u001b[1;32m/root/Projects/Kaggle/linking-writing/SB_experiments_1.ipynb Cell 3\u001b[0m line \u001b[0;36m6\n\u001b[1;32m      <a href='vscode-notebook-cell://wsl%2Bubuntu/root/Projects/Kaggle/linking-writing/SB_experiments_1.ipynb#W1sdnNjb2RlLXJlbW90ZQ%3D%3D?line=2'>3</a>\u001b[0m train_scores   \u001b[39m=\u001b[39m pd\u001b[39m.\u001b[39mread_csv(data_path \u001b[39m+\u001b[39m \u001b[39m'\u001b[39m\u001b[39mtrain_scores.csv\u001b[39m\u001b[39m'\u001b[39m)\n\u001b[1;32m      <a href='vscode-notebook-cell://wsl%2Bubuntu/root/Projects/Kaggle/linking-writing/SB_experiments_1.ipynb#W1sdnNjb2RlLXJlbW90ZQ%3D%3D?line=3'>4</a>\u001b[0m train \u001b[39m=\u001b[39m train_feats\u001b[39m.\u001b[39mmerge(train_scores, on\u001b[39m=\u001b[39m\u001b[39m'\u001b[39m\u001b[39mid\u001b[39m\u001b[39m'\u001b[39m, how\u001b[39m=\u001b[39m\u001b[39m'\u001b[39m\u001b[39mleft\u001b[39m\u001b[39m'\u001b[39m)\n\u001b[0;32m----> <a href='vscode-notebook-cell://wsl%2Bubuntu/root/Projects/Kaggle/linking-writing/SB_experiments_1.ipynb#W1sdnNjb2RlLXJlbW90ZQ%3D%3D?line=5'>6</a>\u001b[0m test_preds, valid_preds, final_rmse, cv_rmse \u001b[39m=\u001b[39m lgb_pipeline(train, test)\n\u001b[1;32m      <a href='vscode-notebook-cell://wsl%2Bubuntu/root/Projects/Kaggle/linking-writing/SB_experiments_1.ipynb#W1sdnNjb2RlLXJlbW90ZQ%3D%3D?line=6'>7</a>\u001b[0m \u001b[39mreturn\u001b[39;00m final_rmse, cv_rmse\n",
      "\u001b[0;31mValueError\u001b[0m: not enough values to unpack (expected 4, got 2)"
     ]
    }
   ],
   "source": [
    "FEAT_STORE = 'feature_store'\n",
    "\n",
    "results = pd.DataFrame()\n",
    "\n",
    "tr_feats = pd.read_pickle(f'{FEAT_STORE}/train/train_wpm_feats.pkl')\n",
    "ts_feats = pd.read_pickle(f'{FEAT_STORE}/test/test_wpm_feats.pkl')\n",
    "\n",
    "base_train_feats= pd.read_pickle(f'{FEATS_DIR}/train_feats.pkl')\n",
    "test_feats = pd.read_pickle(f'{FEATS_DIR}/test_feats.pkl')\n",
    "n_feats = len(tr_feats.columns)\n",
    "\n",
    "for feat in range(n_feats):\n",
    "    train_feats = base_train_feats.copy()\n",
    "    tr_new_feat = tr_feats.iloc[:,feat:feat+1]\n",
    "    ts_new_feat = ts_feats.iloc[:,feat:feat+1]\n",
    "    train_feats = train_feats.merge(tr_new_feat, on='id', how='left')\n",
    "    test_feats = test_feats.merge(ts_new_feat, on='id', how='left')\n",
    "    _,_,final_rmse, cv_rmse = full_pipeline(train_feats, test_feats)\n",
    "    tpm_results = pd.DataFrame({'feat_name':feat_name, 'final_rmse':final_rmse, 'cv_rmse':cv_rmse})\n",
    "    results = pd.concat([results, tpm_results], axis=0)\n",
    "    break"
   ]
  }
 ],
 "metadata": {
  "kernelspec": {
   "display_name": "lrp",
   "language": "python",
   "name": "python3"
  },
  "language_info": {
   "codemirror_mode": {
    "name": "ipython",
    "version": 3
   },
   "file_extension": ".py",
   "mimetype": "text/x-python",
   "name": "python",
   "nbconvert_exporter": "python",
   "pygments_lexer": "ipython3",
   "version": "3.10.13"
  }
 },
 "nbformat": 4,
 "nbformat_minor": 2
}
